{
 "cells": [
  {
   "attachments": {},
   "cell_type": "markdown",
   "metadata": {},
   "source": [
    "# Expanding the phyloDB database with new species"
   ]
  },
  {
   "cell_type": "code",
   "execution_count": 1,
   "metadata": {},
   "outputs": [],
   "source": [
    "# Load libraries\n",
    "import pandas as pd"
   ]
  },
  {
   "attachments": {},
   "cell_type": "markdown",
   "metadata": {},
   "source": [
    "In this notebook, we'll try to update the phyloDB with sequence data from species identified with the FlowCam to widen our taxonomic scope. \n",
    "In the [FlowCam analysis notebook](./analysis/Flowcam_Analysis.ipynb) we constructed a list of species that were identified by the FlowCam but not yet present in the phyloDB (see part 4).\n",
    "Let's start by loading the list of species that we want to add to the phyloDB."
   ]
  },
  {
   "attachments": {},
   "cell_type": "markdown",
   "metadata": {},
   "source": [
    "## Data exploration"
   ]
  },
  {
   "cell_type": "code",
   "execution_count": 96,
   "metadata": {},
   "outputs": [
    {
     "name": "stdout",
     "output_type": "stream",
     "text": [
      "Number of unrepresented species: 38\n"
     ]
    },
    {
     "data": {
      "text/html": [
       "<div><div id=26d6410b-7e9e-4de6-af70-a242db433c13 style=\"display:none; background-color:#9D6CFF; color:white; width:200px; height:30px; padding-left:5px; border-radius:4px; flex-direction:row; justify-content:space-around; align-items:center;\" onmouseover=\"this.style.backgroundColor='#BA9BF8'\" onmouseout=\"this.style.backgroundColor='#9D6CFF'\" onclick=\"window.commands?.execute('create-mitosheet-from-dataframe-output');\">See Full Dataframe in Mito</div> <script> if (window.commands?.hasCommand('create-mitosheet-from-dataframe-output')) document.getElementById('26d6410b-7e9e-4de6-af70-a242db433c13').style.display = 'flex' </script> <table border=\"1\" class=\"dataframe\">\n",
       "  <thead>\n",
       "    <tr style=\"text-align: right;\">\n",
       "      <th></th>\n",
       "      <th>flowcam_ID</th>\n",
       "    </tr>\n",
       "  </thead>\n",
       "  <tbody>\n",
       "    <tr>\n",
       "      <th>0</th>\n",
       "      <td>Actinoptychus senarius</td>\n",
       "    </tr>\n",
       "    <tr>\n",
       "      <th>1</th>\n",
       "      <td>Actinoptychus splendens</td>\n",
       "    </tr>\n",
       "    <tr>\n",
       "      <th>2</th>\n",
       "      <td>Bacillaria paxillifer</td>\n",
       "    </tr>\n",
       "    <tr>\n",
       "      <th>3</th>\n",
       "      <td>Bellerochea horologicalis</td>\n",
       "    </tr>\n",
       "    <tr>\n",
       "      <th>4</th>\n",
       "      <td>Ceratium horridum</td>\n",
       "    </tr>\n",
       "  </tbody>\n",
       "</table></div>"
      ],
      "text/plain": [
       "                  flowcam_ID\n",
       "0     Actinoptychus senarius\n",
       "1    Actinoptychus splendens\n",
       "2      Bacillaria paxillifer\n",
       "3  Bellerochea horologicalis\n",
       "4          Ceratium horridum"
      ]
     },
     "execution_count": 96,
     "metadata": {},
     "output_type": "execute_result"
    }
   ],
   "source": [
    "unincluded_species = pd.read_csv('../data/annotation/taxonomy_phyloDB/unrepresented_flowcam_IDs.txt', header=None, names=['flowcam_ID'])\n",
    "# The above file was manually curated to only include valid species names!\n",
    "\n",
    "# Print number of unrepresented species\n",
    "print('Number of unrepresented species: {}'.format(unincluded_species.shape[0]))\n",
    "# Display\n",
    "unincluded_species.head()"
   ]
  },
  {
   "attachments": {},
   "cell_type": "markdown",
   "metadata": {},
   "source": [
    "Now, let's have a look at the PhyloDB. First, let's check the format the sequence data is stored in. The PhyloDB can be downloaded from [here](https://drive.google.com/folderview?id=0B-BsLZUMHrDQfldGeDRIUHNZMEREY0g3ekpEZFhrTDlQSjQtbm5heC1QX2V6TUxBeFlOejQ&usp=sharing)."
   ]
  },
  {
   "attachments": {},
   "cell_type": "markdown",
   "metadata": {},
   "source": [
    "The PhyloDB looks like this:\n",
    "\n",
    "```\n",
    ">Aazo_0002-NC_014248\tCVujK2QLmQnNmXUG9U1Z1mDP9is\t'Nostoc azollae' 0708\n",
    "MPFFTAYVSFYAPLDFFSPQFLPVALYGAECGLYATFITDIKLSDSKNNSLGEQGDFVSWGKDCAFSYSNYRYR\n",
    ">Aazo_0003-NC_014248\tFRYMN9+VEwIYo0oQ2zP4wg0vBew\t'Nostoc azollae' 0708\n",
    "MRQKILAKDLSQTELVQSIDRKGIAEESMGQKVEILLSLIEQ\n",
    ">Aazo_0004-NC_014248\tzYiwrR+n2iXoXj+qe7nzvBqdxn0\t'Nostoc azollae' 0708\n",
    "MTQGKLLEFLENIDLLEHFQLPTKWQNPLEVLPQETVLSEAEFHTLLDTHLPKLGSQQRTRIMEAVAIAFYHQQTDWPVVQTLVCDDAPQLKLLTDNIALCWVDEERNYKKLSAFIACHQKVLDKFLDDFWNYYRDLLPCQDSPSQQTADKLRYKFWKLFHTDSGYQQLDERKPLTLVKISELLYVLEHPELPLHNNPVELGARTMVQRGNISYATQTLEGTQAWDTFMYLVATTRKLGISFFEYIRDRISKVGNIPCLATTFYEKSALNPFGCSWIPHSAP\n",
    ">Aazo_0005-NC_014248\t7M1+86YVQb/siBiS2cyV0iW3SIk\t'Nostoc azollae' 0708\n",
    "MPFFTAYVSFYAPLDFFSPQFLPVALYGAECGIHEQPKGLRADFS\n",
    ">Aazo_0007-NC_014248\tuSkeyTwMw8tI0GERY+sP0BteNHQ\t'Nostoc azollae' 0708\n",
    "MRNSIITSRQVIKYLQFPALAVILGANLAITTLAPKVLAQTTLASFVGNAVTFTCNDSEATIKAKNGPKAIFGTRTIYIGYQQVTSVNKDPRMIRFDNGVRKWCRSDYETTSDDGTGYGLLWNGSGVLYGVFTSTGSQTGNNFWRFAAGRWLPSYGSGGGAKVAVIARINPTTGDVNYATFVSARKLSDGKTNSLVIRGLSWNGTTLTVEADSWSSPRRADRSSMTCSGSSPFKYTAVFTGDLIKVNSATAVTCN\n",
    "```\n",
    "\n",
    "Where the fasta header consists of a sequence identifier, a weird string that must be some kind of identifier (couldn't find any more information on what this was exactly), the strain name with a number and the NCBI accession number. The sequence data is stored in the second line, as a sequence of amino acids."
   ]
  },
  {
   "attachments": {},
   "cell_type": "markdown",
   "metadata": {},
   "source": [
    "The annotation file looks like this:\n",
    "\n",
    "```\n",
    "Aazo_0012-NC_014248\tbwpWeTibFN4gu/sEg8WQ8dpmw+E\t'Nostoc azollae' 0708\thypothetical protein\n",
    "Aazo_0013-NC_014248\tBY6QnjspwF1yLZftPQVSvVDTKEE\t'Nostoc azollae' 0708\thypothetical protein\n",
    "Aazo_0014-NC_014248\t5ePmiITfOQIuDc7vHskQzT1KF44\t'Nostoc azollae' 0708\tKaiB domain-containing protein; K08481 circadian clock protein KaiB\n",
    "Aazo_0015-NC_014248\t/akqU8ocnmxVZ14FuEpRkgLvykM\t'Nostoc azollae' 0708\ttwitching motility protein; K02669 twitching motility protein PilT\n",
    "```\n",
    "\n",
    "Where we have the same sequence identifier, the same weird number, the same strain name and number, and a functional annotation of sorts."
   ]
  },
  {
   "attachments": {},
   "cell_type": "markdown",
   "metadata": {},
   "source": [
    "The taxonomy file looks like this:\n",
    "```\n",
    "strain_name\tpeptide_count\ttaxonomy\n",
    "Acidilobus saccharovorans 345-15\t1499\tArchaea;Crenarchaeota;Thermoprotei;Acidilobales;Acidilobaceae;Acidilobus;Acidilobus saccharovorans 345-15\n",
    "Caldisphaera lagunensis DSM 15908\t1527\tArchaea;Crenarchaeota;Thermoprotei;Acidilobales;Caldisphaeraceae;Caldisphaera;Caldisphaera lagunensis DSM 15908\n",
    "Aeropyrum pernix K1\t1700\tArchaea;Crenarchaeota;Thermoprotei;Desulfurococcales;Desulfurococcaceae;Aeropyrum;Aeropyrum pernix K1\n",
    "Desulfurococcus fermentans DSM 16532\t1421\tArchaea;Crenarchaeota;Thermoprotei;Desulfurococcales;Desulfurococcaceae;Desulfurococcus;Desulfurococcus fermentans DSM 16532\n",
    "Desulfurococcus kamchatkensis 1221n\t1471\tArchaea;Crenarchaeota;Thermoprotei;Desulfurococcales;Desulfurococcaceae;Desulfurococcus;Desulfurococcus kamchatkensis 1221n\n",
    "Desulfurococcus mucosus DSM 2162\t1371\tArchaea;Crenarchaeota;Thermoprotei;Desulfurococcales;Desulfurococcaceae;Desulfurococcus;Desulfurococcus mucosus DSM 2162\n",
    "Ignicoccus hospitalis KIN4/I\t1434\tArchaea;Crenarchaeota;Thermoprotei;Desulfurococcales;Desulfurococcaceae;Ignicoccus;Ignicoccus hospitalis KIN4/I\n",
    "Ignisphaera aggregans DSM 17230\t1992\tArchaea;Crenarchaeota;Thermoprotei;Desulfurococcales;Desulfurococcaceae;Ignisphaera;Ignisphaera aggregans DSM 17230\n",
    "```\n",
    "\n",
    "Here we have the strain name and number, a peptide count, and the full taxonomy of the strain."
   ]
  },
  {
   "attachments": {},
   "cell_type": "markdown",
   "metadata": {},
   "source": [
    "## Check for available transcriptomes"
   ]
  },
  {
   "attachments": {},
   "cell_type": "markdown",
   "metadata": {},
   "source": [
    "The idea is to look for peptide data for every entry in the list of missing taxon ids. Then, we need to add the taxon name to the taxonomy file, and add the peptide data to the fasta file.\n",
    "The annotation file will be updated with the new taxon name and number. Let's first try to find transcriptomes for the missing taxon ids.\n",
    "To achieve this, I've written two python functions."
   ]
  },
  {
   "cell_type": "code",
   "execution_count": 2,
   "metadata": {},
   "outputs": [],
   "source": [
    "import requests\n",
    "import json\n",
    "\n",
    "def get_tax_id(scientific_name):\n",
    "    \"\"\"\n",
    "    Returns the taxonomic ID of the species with the given scientific name from the ENA.\n",
    "    \"\"\"\n",
    "    genus, species = scientific_name.split(' ')\n",
    "    ena_url = \"https://www.ebi.ac.uk/ena/taxonomy/rest/scientific-name/{genus}%20{species}\".format(genus=genus, species=species)\n",
    "    response = requests.get(ena_url)\n",
    "    if response.status_code == 200:\n",
    "        data = response.json()\n",
    "        if len(data) > 0:\n",
    "            return data[0][\"taxId\"]\n",
    "        else:\n",
    "            return None\n",
    "    else:\n",
    "        return None\n",
    "\n",
    "def get_transcriptomes(species_name):\n",
    "  \"\"\"\n",
    "  Returns a list of TSA set IDs for the given species name from the ENA.\n",
    "  A TSA set is a transcriptome shotgun assembly, i.e. a set of assembled transcriptome contigs.\n",
    "  This function returns the accession numbers of the TSA sets, which can be used to download the contigs.\n",
    "  \"\"\"\n",
    "  tax_id = get_tax_id(species_name)  \n",
    "  ena_url = \"https://www.ebi.ac.uk/ena/portal/api/search?format=json&result=tsa_set&query=tax_tree({tax_id})\".format(tax_id=tax_id)\n",
    "  response = requests.get(ena_url)\n",
    "  if response.status_code != 200:\n",
    "    if response.status_code == 204:\n",
    "      print(f\"Warning: No TSA sets found for {species_name}\")\n",
    "    elif response.status_code == 500:\n",
    "      print(f\"Error: Request for {species_name} returned an 'Internal Server Error'. This is possibly due to an invalid taxonomic ID.\")\n",
    "    else:\n",
    "      print(f\"Error: Request for {species_name} returned status code {response.status_code}\")\n",
    "    return []\n",
    "  try:\n",
    "    search_results = response.json()\n",
    "  except json.JSONDecodeError:\n",
    "    print(f\"Error: Response for {species_name} is not a valid JSON data structure\")\n",
    "    return []\n",
    "  return search_results"
   ]
  },
  {
   "cell_type": "code",
   "execution_count": 104,
   "metadata": {},
   "outputs": [
    {
     "name": "stdout",
     "output_type": "stream",
     "text": [
      "Actinoptychus senarius\n",
      "Warning: No TSA sets found for Actinoptychus senarius\n",
      "Actinoptychus splendens\n",
      "Warning: No TSA sets found for Actinoptychus splendens\n",
      "Bacillaria paxillifer\n",
      "Warning: No TSA sets found for Bacillaria paxillifer\n",
      "Bellerochea horologicalis\n",
      "Warning: No TSA sets found for Bellerochea horologicalis\n",
      "Ceratium horridum\n",
      "Error: Request for Ceratium horridum returned an 'Internal Server Error'. This is possibly due to an invalid taxonomic ID.\n",
      "Ceratium longipes\n",
      "Error: Request for Ceratium longipes returned an 'Internal Server Error'. This is possibly due to an invalid taxonomic ID.\n",
      "Chaetoceros danicus\n",
      "Warning: No TSA sets found for Chaetoceros danicus\n",
      "Guinardia delicatula\n",
      "Warning: No TSA sets found for Guinardia delicatula\n",
      "Guinardia flaccida\n",
      "Guinardia striata\n",
      "Warning: No TSA sets found for Guinardia striata\n",
      "Dactyliosolen phuketensis\n",
      "Error: Request for Dactyliosolen phuketensis returned an 'Internal Server Error'. This is possibly due to an invalid taxonomic ID.\n",
      "Helicotheca tamesis\n",
      "Hobaniella longicruris\n",
      "Warning: No TSA sets found for Hobaniella longicruris\n",
      "Lithodesmium undulatum\n",
      "Warning: No TSA sets found for Lithodesmium undulatum\n",
      "Neocalyptrella robusta\n",
      "Warning: No TSA sets found for Neocalyptrella robusta\n",
      "Odontella rhombus\n",
      "Warning: No TSA sets found for Odontella rhombus\n",
      "Proboscia indica\n",
      "Warning: No TSA sets found for Proboscia indica\n",
      "Rhizosolenia setigera\n",
      "Rhizosolenia hebetata\n",
      "Error: Request for Rhizosolenia hebetata returned an 'Internal Server Error'. This is possibly due to an invalid taxonomic ID.\n",
      "Stellarima stellaris\n",
      "Error: Request for Stellarima stellaris returned an 'Internal Server Error'. This is possibly due to an invalid taxonomic ID.\n",
      "Triceratium favus\n",
      "Error: Request for Triceratium favus returned an 'Internal Server Error'. This is possibly due to an invalid taxonomic ID.\n",
      "Trieres mobiliensis\n",
      "Warning: No TSA sets found for Trieres mobiliensis\n",
      "Trieres regia\n",
      "Error: Request for Trieres regia returned an 'Internal Server Error'. This is possibly due to an invalid taxonomic ID.\n",
      "Trieres sinensis\n",
      "Error: Request for Trieres sinensis returned an 'Internal Server Error'. This is possibly due to an invalid taxonomic ID.\n",
      "Tripos fusus\n",
      "Aulacodiscus argus\n",
      "Error: Request for Aulacodiscus argus returned an 'Internal Server Error'. This is possibly due to an invalid taxonomic ID.\n",
      "Biddulphia alternans\n",
      "Warning: No TSA sets found for Biddulphia alternans\n",
      "Coscinodiscus concinnus\n",
      "Warning: No TSA sets found for Coscinodiscus concinnus\n",
      "Coscinodiscus granii\n",
      "Warning: No TSA sets found for Coscinodiscus granii\n",
      "Bellerochea malleus\n",
      "Warning: No TSA sets found for Bellerochea malleus\n",
      "Protoperidinium pentagonum\n",
      "Warning: No TSA sets found for Protoperidinium pentagonum\n",
      "Radiozoa incertae\n",
      "Error: Request for Radiozoa incertae returned an 'Internal Server Error'. This is possibly due to an invalid taxonomic ID.\n",
      "Meuniera membranacea\n",
      "Warning: No TSA sets found for Meuniera membranacea\n",
      "Protoperidinium depressum\n",
      "Warning: No TSA sets found for Protoperidinium depressum\n",
      "Ralfsiella smithii\n",
      "Warning: No TSA sets found for Ralfsiella smithii\n",
      "Plagiogrammopsis vanheurckii\n",
      "Warning: No TSA sets found for Plagiogrammopsis vanheurckii\n",
      "Tripos lineatus\n",
      "Warning: No TSA sets found for Tripos lineatus\n",
      "Dissodinium pseudolunula\n",
      "Warning: No TSA sets found for Dissodinium pseudolunula\n"
     ]
    }
   ],
   "source": [
    "accesion_list = []\n",
    "# Go through all species names (skip the header) and obtain the transcriptomes accession numbers\n",
    "for species_name in unincluded_species['flowcam_ID']:\n",
    "  print(species_name)\n",
    "  # Append to list if transcriptome accession was found\n",
    "  accesion_number = get_transcriptomes(species_name)\n",
    "  if accesion_number:\n",
    "    accesion_list.append(accesion_number)"
   ]
  },
  {
   "cell_type": "code",
   "execution_count": 100,
   "metadata": {},
   "outputs": [
    {
     "data": {
      "text/plain": [
       "[[{'accession': 'HBQR01000000', 'description': 'TSA: Guinardia flaccida'}],\n",
       " [{'accession': 'HBGV01000000', 'description': 'TPA: Helicotheca tamesis'}],\n",
       " [{'accession': 'HBEI01000000', 'description': 'TPA: Rhizosolenia setigera'}],\n",
       " [{'accession': 'HBNT01000000', 'description': 'TSA: Tripos fusus'}]]"
      ]
     },
     "execution_count": 100,
     "metadata": {},
     "output_type": "execute_result"
    }
   ],
   "source": [
    "accesion_list"
   ]
  },
  {
   "attachments": {},
   "cell_type": "markdown",
   "metadata": {},
   "source": [
    "## Update the PhyloDB"
   ]
  },
  {
   "attachments": {},
   "cell_type": "markdown",
   "metadata": {},
   "source": [
    "Now let's download these accession numbers over ftp! Store the resulting fasta files in a folder called `transcriptomes`.\n",
    "\n",
    "```\n",
    "cd ../data/annotation/taxonomy_phyloDB\n",
    "mkdir transcriptomes\n",
    "cd transcriptomes\n",
    "\n",
    "curl ftp://ftp.ebi.ac.uk/pub/databases/ena/tsa/public/hbq/HBQR01.fasta.gz -o Guinardia_flaccida_HBQR01.fasta.gz\n",
    "curl ftp://ftp.ebi.ac.uk/pub/databases/ena/tsa/public/hbg/HBGV01.fasta.gz -o Helicotheca_tamesis_HBGV01.fasta.gz\n",
    "curl ftp://ftp.ebi.ac.uk/pub/databases/ena/tsa/public/hbe/HBEI01.fasta.gz -o Rhizosolenia_setigera_HBEI01.fasta.gz\n",
    "curl ftp://ftp.ebi.ac.uk/pub/databases/ena/tsa/public/hbn/HBNT01.fasta.gz -o Tripos_fusus_HBNT01.fasta.gz\n",
    "```"
   ]
  },
  {
   "attachments": {},
   "cell_type": "markdown",
   "metadata": {},
   "source": [
    "These need to be translated into peptides, and added to the PhyloDB reference files. For this we need to first run transdecoder on all samples to obtain CDS. \n",
    "The script to run on the hpc is called `transdecoder_extra_phyloDB_transcriptomes`. After, I ran the script `rename_fasta_headers.sh`, to add meaningful fasta headers.\n",
    "Then, I removed newlines from sequence lines in the fasta files using the awk program below:\n",
    "```\n",
    "awk -v ORS= '/^>/ { $0 = (NR==1 ? \"\" : RS) $0 RS } END { printf RS }1' file\n",
    "```\n",
    "Now, we can add the transcriptomes to the phyloDB reference. We'll make a directory where the phyloDB is stored and call it phyloBD_extended. \n",
    "Here we can store an updated version of the DB, taxonomy, and annotation files. Let's first update the files. Get the peptide count, the strain name, and the taxonomy for the new transcriptomes.\n",
    "\n",
    "| Strain name | Number of peptides | Taxonomy |\n",
    "| --- | --- | --- |\n",
    "| Guinardia flaccida 216801 | 28185 | Eukaryota;Stramenopiles;Stramenopiles_X;Bacillariophyta;Bacillariophyta_X;Radial-centric-basal-Coscinodiscophyceae;Guinardia;Guinardia flaccida |\n",
    "| Helicotheca tamesis 374047 | 12713 | Eukaryota;Stramenopiles;Stramenopiles_X;Bacillariophyta;Bacillariophyta_X;Polar-centric-Mediophyceae;Helicotheca;Helicotheca tamensis |\n",
    "| Rhizosolenia setigera 3005 | 372 | Eukaryota;Stramenopiles;Stramenopiles_X;Bacillariophyta;Bacillariophyta_X;Radial-centric-basal-Coscinodiscophyceae;Rhizosolenia;Rhizosolenia setigera |\n",
    "| Tripos fusus 2916 | 114721 | Eukaryota;Alveolata;Dinophyta;Dinophyceae;Dinophyceae_X;Dinophyceae_XX;Tripos;Tripos fusus |\n",
    "\n",
    "These were manually added to the phylodb_taxonomy_extended file.\n",
    "For the annotation file, I've used the `create_phyloDB_extended_annotation_file` script on the different transcriptomes. Then, I manually combined the files and added the result to create the phyloDB_annotation_extended file. After, I've updated the phyloDB annotation script to `phyloDB_extended_annotation.pbs`, and ran it on the HPC! "
   ]
  }
 ],
 "metadata": {
  "kernelspec": {
   "display_name": "Python 3",
   "language": "python",
   "name": "python3"
  },
  "language_info": {
   "codemirror_mode": {
    "name": "ipython",
    "version": 3
   },
   "file_extension": ".py",
   "mimetype": "text/x-python",
   "name": "python",
   "nbconvert_exporter": "python",
   "pygments_lexer": "ipython3",
   "version": "3.9.12"
  },
  "orig_nbformat": 4,
  "vscode": {
   "interpreter": {
    "hash": "b0fa6594d8f4cbf19f97940f81e996739fb7646882a419484c72d19e05852a7e"
   }
  }
 },
 "nbformat": 4,
 "nbformat_minor": 2
}
