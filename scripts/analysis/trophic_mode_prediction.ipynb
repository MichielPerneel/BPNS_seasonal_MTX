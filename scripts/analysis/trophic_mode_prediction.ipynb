{
 "cells": [
  {
   "attachments": {},
   "cell_type": "markdown",
   "metadata": {},
   "source": [
    "# Machine learning prediction of trophic modes\n",
    "In this notebook, we'll predict whether a taxonomic bin is phototrophic, heterotrophic or mixotrophic in a given sample.\n",
    "\n",
    "### Setup\n",
    "First, we'll import the necessary scripts and load the training data from [github](https://github.com/armbrustlab/trophic-mode-ml) and [zenodo](https://zenodo.org/record/4425690#.ZHWzKC9ByLf).\n",
    "These are stored in the `scripts` folder.\n",
    "Then, we'll train the model and evaluate its performance.\n",
    "\n",
    "### What is needed\n",
    "- The model code, training data & labels in a dedicated folder\n",
    "- My gene expression data, in taxonomic bins\n",
    "  - Taxonomic bins: species-level PFAM expression data (PFAM x sample)\n",
    "  - Only include species that have >800 nonzero unique PFAMs in a sample\n",
    "\n",
    "### Goal\n",
    "Per sample, create predictions whether the detected taxonomic bins (that meet the model criteria) are photoautotrophic, mixotrophic, or heterotrophic."
   ]
  },
  {
   "cell_type": "code",
   "execution_count": 1,
   "metadata": {},
   "outputs": [],
   "source": [
    "import pandas as pd\n",
    "import re\n",
    "import seaborn as sns\n",
    "import matplotlib.pyplot as plt\n",
    "import numpy as np\n",
    "from scipy import stats\n",
    "import matplotlib.dates as mdates\n",
    "import sys\n",
    "import plotly.express as px\n",
    "import warnings\n",
    "from pandas.errors import PerformanceWarning\n",
    "warnings.filterwarnings('ignore', category=PerformanceWarning)"
   ]
  },
  {
   "attachments": {},
   "cell_type": "markdown",
   "metadata": {},
   "source": [
    "## Data preparation"
   ]
  },
  {
   "cell_type": "markdown",
   "metadata": {},
   "source": [
    "### Option 1: Eukprot"
   ]
  },
  {
   "cell_type": "code",
   "execution_count": 108,
   "metadata": {},
   "outputs": [
    {
     "name": "stdout",
     "output_type": "stream",
     "text": [
      "The eukprot annotation file contains 468593 rows\n",
      "The eukprot taxonomy file contains 993 rows\n",
      "The eukprot annotation merged with taxonomy file contains 468593 rows\n"
     ]
    },
    {
     "data": {
      "text/html": [
       "<div><div id=e27b8890-3338-4d72-8890-467362d5b964 style=\"display:none; background-color:#9D6CFF; color:white; width:200px; height:30px; padding-left:5px; border-radius:4px; flex-direction:row; justify-content:space-around; align-items:center;\" onmouseover=\"this.style.backgroundColor='#BA9BF8'\" onmouseout=\"this.style.backgroundColor='#9D6CFF'\" onclick=\"window.commands?.execute('create-mitosheet-from-dataframe-output');\">See Full Dataframe in Mito</div> <script> if (window.commands?.hasCommand('create-mitosheet-from-dataframe-output')) document.getElementById('e27b8890-3338-4d72-8890-467362d5b964').style.display = 'flex' </script> <table border=\"1\" class=\"dataframe\">\n",
       "  <thead>\n",
       "    <tr style=\"text-align: right;\">\n",
       "      <th></th>\n",
       "      <th>query_id</th>\n",
       "      <th>p_ident</th>\n",
       "      <th>alnlen</th>\n",
       "      <th>mismatch</th>\n",
       "      <th>EukProt_ID</th>\n",
       "      <th>species</th>\n",
       "      <th>Strain</th>\n",
       "      <th>Genus_UniEuk</th>\n",
       "      <th>Epithet_UniEuk</th>\n",
       "      <th>Supergroup_UniEuk</th>\n",
       "      <th>Taxogroup1_UniEuk</th>\n",
       "      <th>Taxogroup2_UniEuk</th>\n",
       "      <th>Taxonomy_UniEuk</th>\n",
       "    </tr>\n",
       "  </thead>\n",
       "  <tbody>\n",
       "    <tr>\n",
       "      <th>0</th>\n",
       "      <td>c_000001100514</td>\n",
       "      <td>0.960</td>\n",
       "      <td>108</td>\n",
       "      <td>4</td>\n",
       "      <td>EP00450</td>\n",
       "      <td>Noctiluca scintillans</td>\n",
       "      <td>NaN</td>\n",
       "      <td>Noctiluca</td>\n",
       "      <td>scintillans</td>\n",
       "      <td>Alveolata</td>\n",
       "      <td>Dinoflagellata</td>\n",
       "      <td>core-Noctilucales</td>\n",
       "      <td>Eukaryota;Diaphoretickes;Sar;Alveolata;Myzozoa;'DP clade';Dinoflagellata;'core Noctilucales';Noctiluca;Noctiluca scintillans</td>\n",
       "    </tr>\n",
       "    <tr>\n",
       "      <th>1</th>\n",
       "      <td>c_000001112094</td>\n",
       "      <td>0.962</td>\n",
       "      <td>91</td>\n",
       "      <td>3</td>\n",
       "      <td>EP00568</td>\n",
       "      <td>Trieres chinensis</td>\n",
       "      <td>PLY606</td>\n",
       "      <td>Trieres</td>\n",
       "      <td>chinensis</td>\n",
       "      <td>Stramenopiles</td>\n",
       "      <td>Ochrophyta</td>\n",
       "      <td>Diatomeae</td>\n",
       "      <td>Eukaryota;Diaphoretickes;Sar;Stramenopiles;'GOS clade';Gyrista;Ochrophyta;'BD clade';Diatomeae;Bacillariophytina;Mediophyceae;Odontellophycidae;Trieres;Trieres chinensis;strain PLY-606</td>\n",
       "    </tr>\n",
       "    <tr>\n",
       "      <th>2</th>\n",
       "      <td>c_000001228303</td>\n",
       "      <td>0.952</td>\n",
       "      <td>158</td>\n",
       "      <td>8</td>\n",
       "      <td>EP00568</td>\n",
       "      <td>Trieres chinensis</td>\n",
       "      <td>PLY606</td>\n",
       "      <td>Trieres</td>\n",
       "      <td>chinensis</td>\n",
       "      <td>Stramenopiles</td>\n",
       "      <td>Ochrophyta</td>\n",
       "      <td>Diatomeae</td>\n",
       "      <td>Eukaryota;Diaphoretickes;Sar;Stramenopiles;'GOS clade';Gyrista;Ochrophyta;'BD clade';Diatomeae;Bacillariophytina;Mediophyceae;Odontellophycidae;Trieres;Trieres chinensis;strain PLY-606</td>\n",
       "    </tr>\n",
       "    <tr>\n",
       "      <th>3</th>\n",
       "      <td>c_000002029341</td>\n",
       "      <td>1.000</td>\n",
       "      <td>121</td>\n",
       "      <td>0</td>\n",
       "      <td>EP00450</td>\n",
       "      <td>Noctiluca scintillans</td>\n",
       "      <td>NaN</td>\n",
       "      <td>Noctiluca</td>\n",
       "      <td>scintillans</td>\n",
       "      <td>Alveolata</td>\n",
       "      <td>Dinoflagellata</td>\n",
       "      <td>core-Noctilucales</td>\n",
       "      <td>Eukaryota;Diaphoretickes;Sar;Alveolata;Myzozoa;'DP clade';Dinoflagellata;'core Noctilucales';Noctiluca;Noctiluca scintillans</td>\n",
       "    </tr>\n",
       "    <tr>\n",
       "      <th>4</th>\n",
       "      <td>c_000001170245</td>\n",
       "      <td>0.955</td>\n",
       "      <td>127</td>\n",
       "      <td>6</td>\n",
       "      <td>EP00090</td>\n",
       "      <td>Calanus glacialis</td>\n",
       "      <td>NaN</td>\n",
       "      <td>Calanus</td>\n",
       "      <td>glacialis</td>\n",
       "      <td>Opisthokonta</td>\n",
       "      <td>Metazoa</td>\n",
       "      <td>Arthropoda</td>\n",
       "      <td>Eukaryota;Amorphea;Obazoa;Opisthokonta;Holozoa;Choanozoa;Metazoa;Animalia;'parahoxozoa';Bilateria;Protostomia;Ecdysozoa;Panarthropoda;Arthropoda;Mandibulata;Pancrustacea;Copepoda;Calanoida;'megacalanoids';Calanidae;Calanus;Calanus glacialis</td>\n",
       "    </tr>\n",
       "  </tbody>\n",
       "</table></div>"
      ],
      "text/plain": [
       "         query_id  p_ident  alnlen  mismatch EukProt_ID  \\\n",
       "0  c_000001100514    0.960     108         4    EP00450   \n",
       "1  c_000001112094    0.962      91         3    EP00568   \n",
       "2  c_000001228303    0.952     158         8    EP00568   \n",
       "3  c_000002029341    1.000     121         0    EP00450   \n",
       "4  c_000001170245    0.955     127         6    EP00090   \n",
       "\n",
       "                 species  Strain Genus_UniEuk Epithet_UniEuk  \\\n",
       "0  Noctiluca scintillans     NaN    Noctiluca    scintillans   \n",
       "1      Trieres chinensis  PLY606      Trieres      chinensis   \n",
       "2      Trieres chinensis  PLY606      Trieres      chinensis   \n",
       "3  Noctiluca scintillans     NaN    Noctiluca    scintillans   \n",
       "4      Calanus glacialis     NaN      Calanus      glacialis   \n",
       "\n",
       "  Supergroup_UniEuk Taxogroup1_UniEuk  Taxogroup2_UniEuk  \\\n",
       "0         Alveolata    Dinoflagellata  core-Noctilucales   \n",
       "1     Stramenopiles        Ochrophyta          Diatomeae   \n",
       "2     Stramenopiles        Ochrophyta          Diatomeae   \n",
       "3         Alveolata    Dinoflagellata  core-Noctilucales   \n",
       "4      Opisthokonta           Metazoa         Arthropoda   \n",
       "\n",
       "                                     Taxonomy_UniEuk  \n",
       "0  Eukaryota;Diaphoretickes;Sar;Alveolata;Myzozoa...  \n",
       "1  Eukaryota;Diaphoretickes;Sar;Stramenopiles;'GO...  \n",
       "2  Eukaryota;Diaphoretickes;Sar;Stramenopiles;'GO...  \n",
       "3  Eukaryota;Diaphoretickes;Sar;Alveolata;Myzozoa...  \n",
       "4  Eukaryota;Amorphea;Obazoa;Opisthokonta;Holozoa...  "
      ]
     },
     "execution_count": 108,
     "metadata": {},
     "output_type": "execute_result"
    }
   ],
   "source": [
    "## Load eukprot annotations\n",
    "data_tax = pd.read_table('../../data/annotation/taxonomy_eukprot/eukprot_DB.firsthit.90plus_alnscore.m8', header=None)\n",
    "print(f'The eukprot annotation file contains {len(data_tax)} rows')\n",
    "# Fix transcript names in the first column so that they equal the transcript identifiers in the count files\n",
    "data_tax.iloc[:, 0] = data_tax.iloc[:, 0].str.split(\".\", expand=True).drop(columns=1)\n",
    "\n",
    "## In the second column, split of the EukProt ID off\n",
    "eukprot_ID = data_tax.iloc[:, 1].str.split(\"_\", expand=True)[0]\n",
    "data_tax.iloc[:, 1] = eukprot_ID\n",
    "data_tax.columns = ['query_id', 'target_id', 'p_ident', 'alnlen', 'mismatch', 'gapopen', 'qstart', 'qend', 'tstart', 'tend', 'evalue', 'bits']\n",
    "\n",
    "## Add taxonomic information\n",
    "eukprot_taxonomy = pd.read_table('../../data/annotation/taxonomy_eukprot/EukProt_included_data_sets.v03.2021_11_22.txt')\n",
    "print(f'The eukprot taxonomy file contains {len(eukprot_taxonomy)} rows')\n",
    "\n",
    "# Drop the columns that are not needed\n",
    "eukprot_taxonomy.drop(columns=['Previous_Names', 'Replaces_EukProt_ID', 'Data_Source_URL', 'Data_Source_Name', 'Paper_DOI', 'Actions_Prior_to_Use',\n",
    "       'Data_Source_Type', 'Notes', 'Columns_Modified_Since_Previous_Version', 'Merged_Strains',\n",
    "       'Alternative_Strain_Names', '18S_Sequence_GenBank_ID', '18S_Sequence',\n",
    "       '18S_Sequence_Source', '18S_Sequence_Other_Strain_GenBank_ID',\n",
    "       '18S_Sequence_Other_Strain_Name', '18S_and_Taxonomy_Notes'], inplace=True)\n",
    "\n",
    "# Swap the _ to a space in the Name_to_Use column\n",
    "eukprot_taxonomy['Name_to_Use'] = eukprot_taxonomy['Name_to_Use'].str.replace('_', ' ')\n",
    "# Change the name of this column to 'species'\n",
    "eukprot_taxonomy.rename(columns={'Name_to_Use': 'species'}, inplace=True)\n",
    "\n",
    "# Merge the annotation and taxonomy files\n",
    "data_tax = data_tax.merge(eukprot_taxonomy, left_on='target_id', right_on='EukProt_ID', how='left')\n",
    "print(f'The eukprot annotation merged with taxonomy file contains {len(data_tax)} rows')\n",
    "\n",
    "# Drop the columns that are not needed\n",
    "data_tax.drop(columns=['target_id', 'gapopen', 'qstart', 'qend', 'tstart', 'tend', 'evalue', 'bits'], inplace=True)\n",
    "data_tax.head()"
   ]
  },
  {
   "cell_type": "markdown",
   "metadata": {},
   "source": [
    "### Option 2: PhyloDB"
   ]
  },
  {
   "cell_type": "code",
   "execution_count": 61,
   "metadata": {},
   "outputs": [
    {
     "name": "stdout",
     "output_type": "stream",
     "text": [
      "The mmseqs alignment has 954136 hits with a >90 % identity\n",
      "The mmseqs alignment contains 954136 unique query sequences\n",
      "The mmseqs alignment contains 954136 unique query sequences\n",
      "The taxonomy file contains 25996 rows\n",
      "The annotation file contains 29601232 rows, linking transcript IDs to their taxonomy and function\n",
      "The alignment merged with annotation file contains 955465 rows\n",
      "The data merged with the taxonomy  file contains 955465 rows\n"
     ]
    },
    {
     "data": {
      "text/html": [
       "<div><div id=52f33bae-a503-4fcb-bc4b-f6fb1fe74140 style=\"display:none; background-color:#9D6CFF; color:white; width:200px; height:30px; padding-left:5px; border-radius:4px; flex-direction:row; justify-content:space-around; align-items:center;\" onmouseover=\"this.style.backgroundColor='#BA9BF8'\" onmouseout=\"this.style.backgroundColor='#9D6CFF'\" onclick=\"window.commands?.execute('create-mitosheet-from-dataframe-output');\">See Full Dataframe in Mito</div> <script> if (window.commands?.hasCommand('create-mitosheet-from-dataframe-output')) document.getElementById('52f33bae-a503-4fcb-bc4b-f6fb1fe74140').style.display = 'flex' </script> <table border=\"1\" class=\"dataframe\">\n",
       "  <thead>\n",
       "    <tr style=\"text-align: right;\">\n",
       "      <th></th>\n",
       "      <th>query_id</th>\n",
       "      <th>target_id</th>\n",
       "      <th>p_ident</th>\n",
       "      <th>alnlen</th>\n",
       "      <th>mismatch</th>\n",
       "      <th>gapopen</th>\n",
       "      <th>qstart</th>\n",
       "      <th>qend</th>\n",
       "      <th>tstart</th>\n",
       "      <th>tend</th>\n",
       "      <th>...</th>\n",
       "      <th>function</th>\n",
       "      <th>taxonomy</th>\n",
       "      <th>kingdom</th>\n",
       "      <th>superphylum</th>\n",
       "      <th>phylum</th>\n",
       "      <th>class</th>\n",
       "      <th>order</th>\n",
       "      <th>family</th>\n",
       "      <th>genus</th>\n",
       "      <th>species</th>\n",
       "    </tr>\n",
       "  </thead>\n",
       "  <tbody>\n",
       "    <tr>\n",
       "      <th>0</th>\n",
       "      <td>c_000003745566</td>\n",
       "      <td>MMETSP0253-20130528|14431_1</td>\n",
       "      <td>0.921</td>\n",
       "      <td>230</td>\n",
       "      <td>18</td>\n",
       "      <td>0</td>\n",
       "      <td>1</td>\n",
       "      <td>230</td>\n",
       "      <td>68</td>\n",
       "      <td>297</td>\n",
       "      <td>...</td>\n",
       "      <td>PF01344.20: Kelch motif PF13964.1:  Kelch motif</td>\n",
       "      <td>Eukaryota;Alveolata;Dinophyta;Dinophyceae;Dinophyceae_X;Noctilucales;Noctiluca;Noctiluca scintillans</td>\n",
       "      <td>Eukaryota</td>\n",
       "      <td>Alveolata</td>\n",
       "      <td>Dinophyta</td>\n",
       "      <td>Dinophyceae</td>\n",
       "      <td>Dinophyceae_X</td>\n",
       "      <td>Noctilucales</td>\n",
       "      <td>Noctiluca</td>\n",
       "      <td>Noctiluca scintillans</td>\n",
       "    </tr>\n",
       "    <tr>\n",
       "      <th>1</th>\n",
       "      <td>c_000000945139</td>\n",
       "      <td>MMETSP0253-20130528|14431_1</td>\n",
       "      <td>0.975</td>\n",
       "      <td>95</td>\n",
       "      <td>2</td>\n",
       "      <td>0</td>\n",
       "      <td>1</td>\n",
       "      <td>95</td>\n",
       "      <td>248</td>\n",
       "      <td>342</td>\n",
       "      <td>...</td>\n",
       "      <td>PF01344.20: Kelch motif PF13964.1:  Kelch motif</td>\n",
       "      <td>Eukaryota;Alveolata;Dinophyta;Dinophyceae;Dinophyceae_X;Noctilucales;Noctiluca;Noctiluca scintillans</td>\n",
       "      <td>Eukaryota</td>\n",
       "      <td>Alveolata</td>\n",
       "      <td>Dinophyta</td>\n",
       "      <td>Dinophyceae</td>\n",
       "      <td>Dinophyceae_X</td>\n",
       "      <td>Noctilucales</td>\n",
       "      <td>Noctiluca</td>\n",
       "      <td>Noctiluca scintillans</td>\n",
       "    </tr>\n",
       "    <tr>\n",
       "      <th>2</th>\n",
       "      <td>c_000002083138</td>\n",
       "      <td>MMETSP0253-20130528|14431_1</td>\n",
       "      <td>0.939</td>\n",
       "      <td>229</td>\n",
       "      <td>14</td>\n",
       "      <td>0</td>\n",
       "      <td>4</td>\n",
       "      <td>232</td>\n",
       "      <td>114</td>\n",
       "      <td>342</td>\n",
       "      <td>...</td>\n",
       "      <td>PF01344.20: Kelch motif PF13964.1:  Kelch motif</td>\n",
       "      <td>Eukaryota;Alveolata;Dinophyta;Dinophyceae;Dinophyceae_X;Noctilucales;Noctiluca;Noctiluca scintillans</td>\n",
       "      <td>Eukaryota</td>\n",
       "      <td>Alveolata</td>\n",
       "      <td>Dinophyta</td>\n",
       "      <td>Dinophyceae</td>\n",
       "      <td>Dinophyceae_X</td>\n",
       "      <td>Noctilucales</td>\n",
       "      <td>Noctiluca</td>\n",
       "      <td>Noctiluca scintillans</td>\n",
       "    </tr>\n",
       "    <tr>\n",
       "      <th>3</th>\n",
       "      <td>c_000002393084</td>\n",
       "      <td>MMETSP0253-20130528|14431_1</td>\n",
       "      <td>0.931</td>\n",
       "      <td>146</td>\n",
       "      <td>10</td>\n",
       "      <td>0</td>\n",
       "      <td>1</td>\n",
       "      <td>146</td>\n",
       "      <td>101</td>\n",
       "      <td>246</td>\n",
       "      <td>...</td>\n",
       "      <td>PF01344.20: Kelch motif PF13964.1:  Kelch motif</td>\n",
       "      <td>Eukaryota;Alveolata;Dinophyta;Dinophyceae;Dinophyceae_X;Noctilucales;Noctiluca;Noctiluca scintillans</td>\n",
       "      <td>Eukaryota</td>\n",
       "      <td>Alveolata</td>\n",
       "      <td>Dinophyta</td>\n",
       "      <td>Dinophyceae</td>\n",
       "      <td>Dinophyceae_X</td>\n",
       "      <td>Noctilucales</td>\n",
       "      <td>Noctiluca</td>\n",
       "      <td>Noctiluca scintillans</td>\n",
       "    </tr>\n",
       "    <tr>\n",
       "      <th>4</th>\n",
       "      <td>c_000006249241</td>\n",
       "      <td>MMETSP0253-20130528|14431_1</td>\n",
       "      <td>0.968</td>\n",
       "      <td>193</td>\n",
       "      <td>6</td>\n",
       "      <td>0</td>\n",
       "      <td>3</td>\n",
       "      <td>195</td>\n",
       "      <td>150</td>\n",
       "      <td>342</td>\n",
       "      <td>...</td>\n",
       "      <td>PF01344.20: Kelch motif PF13964.1:  Kelch motif</td>\n",
       "      <td>Eukaryota;Alveolata;Dinophyta;Dinophyceae;Dinophyceae_X;Noctilucales;Noctiluca;Noctiluca scintillans</td>\n",
       "      <td>Eukaryota</td>\n",
       "      <td>Alveolata</td>\n",
       "      <td>Dinophyta</td>\n",
       "      <td>Dinophyceae</td>\n",
       "      <td>Dinophyceae_X</td>\n",
       "      <td>Noctilucales</td>\n",
       "      <td>Noctiluca</td>\n",
       "      <td>Noctiluca scintillans</td>\n",
       "    </tr>\n",
       "  </tbody>\n",
       "</table></div>"
      ],
      "text/plain": [
       "         query_id                    target_id  p_ident  alnlen  mismatch  \\\n",
       "0  c_000003745566  MMETSP0253-20130528|14431_1    0.921     230        18   \n",
       "1  c_000000945139  MMETSP0253-20130528|14431_1    0.975      95         2   \n",
       "2  c_000002083138  MMETSP0253-20130528|14431_1    0.939     229        14   \n",
       "3  c_000002393084  MMETSP0253-20130528|14431_1    0.931     146        10   \n",
       "4  c_000006249241  MMETSP0253-20130528|14431_1    0.968     193         6   \n",
       "\n",
       "   gapopen  qstart  qend  tstart  tend  ...  \\\n",
       "0        0       1   230      68   297  ...   \n",
       "1        0       1    95     248   342  ...   \n",
       "2        0       4   232     114   342  ...   \n",
       "3        0       1   146     101   246  ...   \n",
       "4        0       3   195     150   342  ...   \n",
       "\n",
       "                                          function  \\\n",
       "0  PF01344.20: Kelch motif PF13964.1:  Kelch motif   \n",
       "1  PF01344.20: Kelch motif PF13964.1:  Kelch motif   \n",
       "2  PF01344.20: Kelch motif PF13964.1:  Kelch motif   \n",
       "3  PF01344.20: Kelch motif PF13964.1:  Kelch motif   \n",
       "4  PF01344.20: Kelch motif PF13964.1:  Kelch motif   \n",
       "\n",
       "                                            taxonomy    kingdom superphylum  \\\n",
       "0  Eukaryota;Alveolata;Dinophyta;Dinophyceae;Dino...  Eukaryota   Alveolata   \n",
       "1  Eukaryota;Alveolata;Dinophyta;Dinophyceae;Dino...  Eukaryota   Alveolata   \n",
       "2  Eukaryota;Alveolata;Dinophyta;Dinophyceae;Dino...  Eukaryota   Alveolata   \n",
       "3  Eukaryota;Alveolata;Dinophyta;Dinophyceae;Dino...  Eukaryota   Alveolata   \n",
       "4  Eukaryota;Alveolata;Dinophyta;Dinophyceae;Dino...  Eukaryota   Alveolata   \n",
       "\n",
       "      phylum        class          order        family      genus  \\\n",
       "0  Dinophyta  Dinophyceae  Dinophyceae_X  Noctilucales  Noctiluca   \n",
       "1  Dinophyta  Dinophyceae  Dinophyceae_X  Noctilucales  Noctiluca   \n",
       "2  Dinophyta  Dinophyceae  Dinophyceae_X  Noctilucales  Noctiluca   \n",
       "3  Dinophyta  Dinophyceae  Dinophyceae_X  Noctilucales  Noctiluca   \n",
       "4  Dinophyta  Dinophyceae  Dinophyceae_X  Noctilucales  Noctiluca   \n",
       "\n",
       "                 species  \n",
       "0  Noctiluca scintillans  \n",
       "1  Noctiluca scintillans  \n",
       "2  Noctiluca scintillans  \n",
       "3  Noctiluca scintillans  \n",
       "4  Noctiluca scintillans  \n",
       "\n",
       "[5 rows x 23 columns]"
      ]
     },
     "execution_count": 61,
     "metadata": {},
     "output_type": "execute_result"
    }
   ],
   "source": [
    "# Alternatively, use the phyloDB annotations\n",
    "## Load PhyloDB alignments\n",
    "data_tax = pd.read_table('../../data/annotation/taxonomy_phyloDB_extended/phylodb_extended.firsthit.90plus_alnscore.m8',  engine='pyarrow', header=None)\n",
    "print(f'The mmseqs alignment has {len(data_tax)} hits with a >90 % identity')\n",
    "data_tax.columns = ['query_id', 'target_id', 'p_ident', 'alnlen', 'mismatch', 'gapopen', 'qstart', 'qend', 'tstart', 'tend', 'evalue', 'bits']\n",
    "print(f'The mmseqs alignment contains {len(data_tax[\"query_id\"].unique())} unique query sequences')\n",
    "# Fix transcript names in the first column so that they equal the transcript identifiers in the count files\n",
    "data_tax.iloc[:, 0] = data_tax.iloc[:, 0].str.split(\".\", expand=True).drop(columns=1)\n",
    "print(f'The mmseqs alignment contains {len(data_tax[\"query_id\"].unique())} unique query sequences')\n",
    "\n",
    "# Add taxonomic information\n",
    "taxonomy = pd.read_table('../../data/annotation/taxonomy_phyloDB_extended/phylodb_1.076.taxonomy_extended.txt')\n",
    "print(f'The taxonomy file contains {len(taxonomy)} rows')\n",
    "annotation = pd.read_table('../../data/annotation/taxonomy_phyloDB_extended/phylodb_1.076.annotations_extended.txt', engine='pyarrow', header=None)\n",
    "print(f'The annotation file contains {len(annotation)} rows, linking transcript IDs to their taxonomy and function')\n",
    "annotation.columns = ['target_id', 'code', 'strain_name', 'function']\n",
    "\n",
    "# Add the taxonomy information to the data\n",
    "data_tax = data_tax.merge(annotation, left_on='target_id', right_on='target_id')\n",
    "print(f'The alignment merged with annotation file contains {len(data_tax)} rows')\n",
    "\n",
    "data_tax = data_tax.merge(taxonomy, left_on='strain_name', right_on = 'strain_name')\n",
    "print(f'The data merged with the taxonomy  file contains {len(data_tax)} rows')\n",
    "\n",
    "data_tax = data_tax.drop(columns=['code', 'peptide_count'])\n",
    "# Expand taxonomy path in relevant columns\n",
    "data_tax[['kingdom', 'superphylum', 'phylum', 'class', 'order', 'family', 'genus', 'species']] = data_tax['taxonomy'].str.split(';', expand = True)\n",
    "\n",
    "# View data\n",
    "data_tax.head()"
   ]
  },
  {
   "cell_type": "markdown",
   "metadata": {},
   "source": [
    "### Functional data"
   ]
  },
  {
   "cell_type": "code",
   "execution_count": 15,
   "metadata": {},
   "outputs": [
    {
     "name": "stdout",
     "output_type": "stream",
     "text": [
      "number of rows in eggNOG annotation: 2235576\n",
      "number of unique query sequences in eggNOG annotation: 2235576\n"
     ]
    }
   ],
   "source": [
    "# Load the annotation data\n",
    "data_func = pd.read_csv('../../data/annotation/functional_eggnog/functional_annotation.emapper.annotations', sep = '\\t', engine = 'pyarrow')\n",
    "\n",
    "# Fix transcript names in the first column so that they equal the transcript identifiers in the count files\n",
    "# This is necessary because TransDecoder adds .p2 or .p1 to the sequence identifiers\n",
    "data_func.iloc[:, 0] = data_func.iloc[:, 0].str.split(\".\", expand=True).drop(columns=1)\n",
    "\n",
    "# Check the annotation data, how many more hits are there compared to unique query sequences?\n",
    "print(f'number of rows in eggNOG annotation: {len(data_func)}')\n",
    "print(f'number of unique query sequences in eggNOG annotation: {len(data_func.iloc[:, 0].unique())}')\n",
    "\n",
    "# Only retain relevant columns and rename them\n",
    "data_func = data_func[['#query','PFAMs']]\n",
    "data_func.columns = ['query_id', 'PFAMs']"
   ]
  },
  {
   "cell_type": "code",
   "execution_count": 16,
   "metadata": {},
   "outputs": [
    {
     "data": {
      "text/html": [
       "<div><div id=505dd086-11ca-45e4-882a-6f043b7fed95 style=\"display:none; background-color:#9D6CFF; color:white; width:200px; height:30px; padding-left:5px; border-radius:4px; flex-direction:row; justify-content:space-around; align-items:center;\" onmouseover=\"this.style.backgroundColor='#BA9BF8'\" onmouseout=\"this.style.backgroundColor='#9D6CFF'\" onclick=\"window.commands?.execute('create-mitosheet-from-dataframe-output');\">See Full Dataframe in Mito</div> <script> if (window.commands?.hasCommand('create-mitosheet-from-dataframe-output')) document.getElementById('505dd086-11ca-45e4-882a-6f043b7fed95').style.display = 'flex' </script> <table border=\"1\" class=\"dataframe\">\n",
       "  <thead>\n",
       "    <tr style=\"text-align: right;\">\n",
       "      <th></th>\n",
       "      <th>query_id</th>\n",
       "      <th>PFAMs</th>\n",
       "    </tr>\n",
       "  </thead>\n",
       "  <tbody>\n",
       "    <tr>\n",
       "      <th>0</th>\n",
       "      <td>c_000001511793</td>\n",
       "      <td>Sulfotransfer_2</td>\n",
       "    </tr>\n",
       "    <tr>\n",
       "      <th>1</th>\n",
       "      <td>c_000001511845</td>\n",
       "      <td>AAA_2,ClpB_D2-small</td>\n",
       "    </tr>\n",
       "    <tr>\n",
       "      <th>2</th>\n",
       "      <td>c_000001511972</td>\n",
       "      <td>Myosin_head,Myosin_tail_1</td>\n",
       "    </tr>\n",
       "    <tr>\n",
       "      <th>3</th>\n",
       "      <td>c_000001512089</td>\n",
       "      <td>-</td>\n",
       "    </tr>\n",
       "    <tr>\n",
       "      <th>4</th>\n",
       "      <td>c_000001512133</td>\n",
       "      <td>Ribosomal_60s,Ribosomal_L10</td>\n",
       "    </tr>\n",
       "  </tbody>\n",
       "</table></div>"
      ],
      "text/plain": [
       "         query_id                        PFAMs\n",
       "0  c_000001511793              Sulfotransfer_2\n",
       "1  c_000001511845          AAA_2,ClpB_D2-small\n",
       "2  c_000001511972    Myosin_head,Myosin_tail_1\n",
       "3  c_000001512089                            -\n",
       "4  c_000001512133  Ribosomal_60s,Ribosomal_L10"
      ]
     },
     "execution_count": 16,
     "metadata": {},
     "output_type": "execute_result"
    }
   ],
   "source": [
    "data_func.head()"
   ]
  },
  {
   "attachments": {},
   "cell_type": "markdown",
   "metadata": {},
   "source": [
    "I've downloaded the Pfam annotation data from [interprot](https://www.ebi.ac.uk/interpro/download/Pfam/) on 30/05/2023 and stored it in `data/annotation/functional_eggnog/`.\n",
    "We'll load that dataframe and parse it, to swap the PFAM short names for their descriptions."
   ]
  },
  {
   "cell_type": "code",
   "execution_count": 17,
   "metadata": {},
   "outputs": [],
   "source": [
    "# Dictionary to store PFAM ID and description\n",
    "pfam_mappping = {}\n",
    "pfam_data = {}\n",
    "\n",
    "# Read the PFAM data file\n",
    "with open(\"../../data/annotation/functional_eggnog/Pfam-A.hmm.dat\", \"r\") as file:\n",
    "    file_content = file.read()\n",
    "\n",
    "# Split the file content into individual PFAM entries\n",
    "pfam_entries = re.split(r\"//\\n\", file_content.strip())\n",
    "\n",
    "# Process each PFAM entry\n",
    "for entry in pfam_entries:\n",
    "    lines = entry.strip().split(\"\\n\")\n",
    "    pfam_short_name_line = lines[1]\n",
    "    pfam_id_line = lines[2]\n",
    "    pfam_description_line = lines[3]\n",
    "    \n",
    "    # Extract the PFAM short name\n",
    "    pfam_short_name = pfam_short_name_line.split(\"ID\")[1].strip()\n",
    "    \n",
    "    # Extract the PFAM ID\n",
    "    pfam_id = pfam_id_line.split(\"AC\")[1].strip()\n",
    "\n",
    "    # Extract the PFAM description\n",
    "    pfam_description = pfam_description_line.split(\"DE\")[1].strip()\n",
    "\n",
    "    # Store the PFAM ID and short name in the dictionary\n",
    "    pfam_mappping[pfam_short_name] = pfam_id\n",
    "    \n",
    "    # Store the PFAM ID and description in the dictionary\n",
    "    pfam_data[pfam_id] = pfam_description"
   ]
  },
  {
   "cell_type": "code",
   "execution_count": 18,
   "metadata": {},
   "outputs": [],
   "source": [
    "# Add description and ID columns to data_func\n",
    "data_func['PFAMs_ID'] = data_func['PFAMs'].apply(lambda x: \",\".join([pfam_mappping.get(pfam.strip(), \"-\") for pfam in x.split(\",\")]))\n",
    "data_func['PFAMs_description'] = data_func['PFAMs_ID'].apply(lambda x: \",\".join([pfam_data.get(pfam.strip(), \"-\") for pfam in x.split(\",\")]))"
   ]
  },
  {
   "cell_type": "code",
   "execution_count": 19,
   "metadata": {},
   "outputs": [
    {
     "data": {
      "text/html": [
       "<div><div id=0f4df72d-f524-42ee-8d70-379f914b3f07 style=\"display:none; background-color:#9D6CFF; color:white; width:200px; height:30px; padding-left:5px; border-radius:4px; flex-direction:row; justify-content:space-around; align-items:center;\" onmouseover=\"this.style.backgroundColor='#BA9BF8'\" onmouseout=\"this.style.backgroundColor='#9D6CFF'\" onclick=\"window.commands?.execute('create-mitosheet-from-dataframe-output');\">See Full Dataframe in Mito</div> <script> if (window.commands?.hasCommand('create-mitosheet-from-dataframe-output')) document.getElementById('0f4df72d-f524-42ee-8d70-379f914b3f07').style.display = 'flex' </script> <table border=\"1\" class=\"dataframe\">\n",
       "  <thead>\n",
       "    <tr style=\"text-align: right;\">\n",
       "      <th></th>\n",
       "      <th>query_id</th>\n",
       "      <th>PFAMs</th>\n",
       "      <th>PFAMs_ID</th>\n",
       "      <th>PFAMs_description</th>\n",
       "    </tr>\n",
       "  </thead>\n",
       "  <tbody>\n",
       "    <tr>\n",
       "      <th>0</th>\n",
       "      <td>c_000001511793</td>\n",
       "      <td>Sulfotransfer_2</td>\n",
       "      <td>PF03567.17</td>\n",
       "      <td>Sulfotransferase family</td>\n",
       "    </tr>\n",
       "    <tr>\n",
       "      <th>1</th>\n",
       "      <td>c_000001511845</td>\n",
       "      <td>AAA_2,ClpB_D2-small</td>\n",
       "      <td>PF07724.17,PF10431.12</td>\n",
       "      <td>AAA domain (Cdc48 subfamily),C-terminal, D2-small domain, of ClpB protein</td>\n",
       "    </tr>\n",
       "    <tr>\n",
       "      <th>2</th>\n",
       "      <td>c_000001511972</td>\n",
       "      <td>Myosin_head,Myosin_tail_1</td>\n",
       "      <td>PF00063.24,PF01576.22</td>\n",
       "      <td>Myosin head (motor domain),Myosin tail</td>\n",
       "    </tr>\n",
       "    <tr>\n",
       "      <th>3</th>\n",
       "      <td>c_000001512089</td>\n",
       "      <td>-</td>\n",
       "      <td>-</td>\n",
       "      <td>-</td>\n",
       "    </tr>\n",
       "    <tr>\n",
       "      <th>4</th>\n",
       "      <td>c_000001512133</td>\n",
       "      <td>Ribosomal_60s,Ribosomal_L10</td>\n",
       "      <td>PF00428.22,PF00466.23</td>\n",
       "      <td>60s Acidic ribosomal protein,Ribosomal protein L10</td>\n",
       "    </tr>\n",
       "  </tbody>\n",
       "</table></div>"
      ],
      "text/plain": [
       "         query_id                        PFAMs               PFAMs_ID  \\\n",
       "0  c_000001511793              Sulfotransfer_2             PF03567.17   \n",
       "1  c_000001511845          AAA_2,ClpB_D2-small  PF07724.17,PF10431.12   \n",
       "2  c_000001511972    Myosin_head,Myosin_tail_1  PF00063.24,PF01576.22   \n",
       "3  c_000001512089                            -                      -   \n",
       "4  c_000001512133  Ribosomal_60s,Ribosomal_L10  PF00428.22,PF00466.23   \n",
       "\n",
       "                                   PFAMs_description  \n",
       "0                            Sulfotransferase family  \n",
       "1  AAA domain (Cdc48 subfamily),C-terminal, D2-sm...  \n",
       "2             Myosin head (motor domain),Myosin tail  \n",
       "3                                                  -  \n",
       "4  60s Acidic ribosomal protein,Ribosomal protein...  "
      ]
     },
     "execution_count": 19,
     "metadata": {},
     "output_type": "execute_result"
    }
   ],
   "source": [
    "data_func.head()"
   ]
  },
  {
   "cell_type": "code",
   "execution_count": 20,
   "metadata": {},
   "outputs": [
    {
     "name": "stdout",
     "output_type": "stream",
     "text": [
      "7113509 transcripts were quantified (on the nucleotide level) in the kallisto run\n"
     ]
    },
    {
     "data": {
      "text/html": [
       "<div><div id=13c609f6-0e4e-478f-a95c-b30491794d68 style=\"display:none; background-color:#9D6CFF; color:white; width:200px; height:30px; padding-left:5px; border-radius:4px; flex-direction:row; justify-content:space-around; align-items:center;\" onmouseover=\"this.style.backgroundColor='#BA9BF8'\" onmouseout=\"this.style.backgroundColor='#9D6CFF'\" onclick=\"window.commands?.execute('create-mitosheet-from-dataframe-output');\">See Full Dataframe in Mito</div> <script> if (window.commands?.hasCommand('create-mitosheet-from-dataframe-output')) document.getElementById('13c609f6-0e4e-478f-a95c-b30491794d68').style.display = 'flex' </script> <table border=\"1\" class=\"dataframe\">\n",
       "  <thead>\n",
       "    <tr style=\"text-align: right;\">\n",
       "      <th></th>\n",
       "      <th>transcript_id</th>\n",
       "      <th>sample</th>\n",
       "      <th>TPM</th>\n",
       "    </tr>\n",
       "  </thead>\n",
       "  <tbody>\n",
       "    <tr>\n",
       "      <th>0</th>\n",
       "      <td>c_000000000001</td>\n",
       "      <td>B_120_S11</td>\n",
       "      <td>0.233985</td>\n",
       "    </tr>\n",
       "    <tr>\n",
       "      <th>1</th>\n",
       "      <td>c_000000000002</td>\n",
       "      <td>B_120_S11</td>\n",
       "      <td>0.000000</td>\n",
       "    </tr>\n",
       "    <tr>\n",
       "      <th>2</th>\n",
       "      <td>c_000000000003</td>\n",
       "      <td>B_120_S11</td>\n",
       "      <td>0.000000</td>\n",
       "    </tr>\n",
       "    <tr>\n",
       "      <th>3</th>\n",
       "      <td>c_000000000004</td>\n",
       "      <td>B_120_S11</td>\n",
       "      <td>0.000000</td>\n",
       "    </tr>\n",
       "    <tr>\n",
       "      <th>4</th>\n",
       "      <td>c_000000000005</td>\n",
       "      <td>B_120_S11</td>\n",
       "      <td>0.000000</td>\n",
       "    </tr>\n",
       "  </tbody>\n",
       "</table></div>"
      ],
      "text/plain": [
       "    transcript_id     sample       TPM\n",
       "0  c_000000000001  B_120_S11  0.233985\n",
       "1  c_000000000002  B_120_S11  0.000000\n",
       "2  c_000000000003  B_120_S11  0.000000\n",
       "3  c_000000000004  B_120_S11  0.000000\n",
       "4  c_000000000005  B_120_S11  0.000000"
      ]
     },
     "execution_count": 20,
     "metadata": {},
     "output_type": "execute_result"
    }
   ],
   "source": [
    "# Load the necessary count data\n",
    "counts = pd.read_csv('../../data/kallisto/tpm.csv', engine='pyarrow')\n",
    "## This is the transcript read mapping, prior to protein prediction!\n",
    "# Rename the first column to transcript_id\n",
    "counts = counts.rename(columns={'target_id': 'transcript_id'})\n",
    "print(f'{len(counts)} transcripts were quantified (on the nucleotide level) in the kallisto run')\n",
    "# Transform the data to the long format\n",
    "counts = counts.melt(id_vars=['transcript_id'],var_name='sample', value_name='TPM')\n",
    "counts.head()"
   ]
  },
  {
   "cell_type": "code",
   "execution_count": 62,
   "metadata": {},
   "outputs": [
    {
     "name": "stdout",
     "output_type": "stream",
     "text": [
      "59238830 rows are in the data, which should be the amount of annotated proteins times the number of samples\n",
      "41089570\n"
     ]
    }
   ],
   "source": [
    "# Combine count and annotation data together\n",
    "data = data_tax.merge(counts, left_on='query_id', right_on='transcript_id', how='left')\n",
    "data = data.drop(columns='query_id')\n",
    "\n",
    "# Add sample metadata\n",
    "meta = pd.read_csv('../../samples.csv', sep=';', index_col=0)\n",
    "data = data.merge(meta, left_on= 'sample', right_on= 'sample', how = 'left')\n",
    "\n",
    "# View data\n",
    "print(f'{len(data)} rows are in the data, which should be the amount of annotated proteins times the number of samples')\n",
    "\n",
    "data = data.merge(data_func, left_on='transcript_id', right_on='query_id')\n",
    "data = data.drop(columns=['query_id'])\n",
    "print(len(data))"
   ]
  },
  {
   "cell_type": "code",
   "execution_count": 65,
   "metadata": {},
   "outputs": [
    {
     "data": {
      "text/html": [
       "<div><div id=9855e91b-7a5a-44bb-84df-e6e95ae9aecd style=\"display:none; background-color:#9D6CFF; color:white; width:200px; height:30px; padding-left:5px; border-radius:4px; flex-direction:row; justify-content:space-around; align-items:center;\" onmouseover=\"this.style.backgroundColor='#BA9BF8'\" onmouseout=\"this.style.backgroundColor='#9D6CFF'\" onclick=\"window.commands?.execute('create-mitosheet-from-dataframe-output');\">See Full Dataframe in Mito</div> <script> if (window.commands?.hasCommand('create-mitosheet-from-dataframe-output')) document.getElementById('9855e91b-7a5a-44bb-84df-e6e95ae9aecd').style.display = 'flex' </script> <table border=\"1\" class=\"dataframe\">\n",
       "  <thead>\n",
       "    <tr style=\"text-align: right;\">\n",
       "      <th></th>\n",
       "      <th>target_id</th>\n",
       "      <th>p_ident</th>\n",
       "      <th>alnlen</th>\n",
       "      <th>mismatch</th>\n",
       "      <th>gapopen</th>\n",
       "      <th>qstart</th>\n",
       "      <th>qend</th>\n",
       "      <th>tstart</th>\n",
       "      <th>tend</th>\n",
       "      <th>evalue</th>\n",
       "      <th>...</th>\n",
       "      <th>transcript_id</th>\n",
       "      <th>sample</th>\n",
       "      <th>TPM</th>\n",
       "      <th>date</th>\n",
       "      <th>time</th>\n",
       "      <th>month</th>\n",
       "      <th>station</th>\n",
       "      <th>PFAMs</th>\n",
       "      <th>PFAMs_ID</th>\n",
       "      <th>PFAMs_description</th>\n",
       "    </tr>\n",
       "  </thead>\n",
       "  <tbody>\n",
       "    <tr>\n",
       "      <th>0</th>\n",
       "      <td>MMETSP0253-20130528|14431_1</td>\n",
       "      <td>0.921</td>\n",
       "      <td>230</td>\n",
       "      <td>18</td>\n",
       "      <td>0</td>\n",
       "      <td>1</td>\n",
       "      <td>230</td>\n",
       "      <td>68</td>\n",
       "      <td>297</td>\n",
       "      <td>4.757000e-140</td>\n",
       "      <td>...</td>\n",
       "      <td>c_000003745566</td>\n",
       "      <td>B_120_S11</td>\n",
       "      <td>0.0</td>\n",
       "      <td>18/08/2020</td>\n",
       "      <td>9:40</td>\n",
       "      <td>August_2020</td>\n",
       "      <td>120</td>\n",
       "      <td>BACK,BTB,Kelch_1</td>\n",
       "      <td>PF07707.18,PF00651.34,PF01344.28</td>\n",
       "      <td>BTB And C-terminal Kelch,BTB/POZ domain,Kelch motif</td>\n",
       "    </tr>\n",
       "    <tr>\n",
       "      <th>1</th>\n",
       "      <td>MMETSP0253-20130528|14431_1</td>\n",
       "      <td>0.921</td>\n",
       "      <td>230</td>\n",
       "      <td>18</td>\n",
       "      <td>0</td>\n",
       "      <td>1</td>\n",
       "      <td>230</td>\n",
       "      <td>68</td>\n",
       "      <td>297</td>\n",
       "      <td>4.757000e-140</td>\n",
       "      <td>...</td>\n",
       "      <td>c_000003745566</td>\n",
       "      <td>5_120_S50</td>\n",
       "      <td>0.0</td>\n",
       "      <td>18/05/2021</td>\n",
       "      <td>20:25</td>\n",
       "      <td>May_2021</td>\n",
       "      <td>120</td>\n",
       "      <td>BACK,BTB,Kelch_1</td>\n",
       "      <td>PF07707.18,PF00651.34,PF01344.28</td>\n",
       "      <td>BTB And C-terminal Kelch,BTB/POZ domain,Kelch motif</td>\n",
       "    </tr>\n",
       "    <tr>\n",
       "      <th>2</th>\n",
       "      <td>MMETSP0253-20130528|14431_1</td>\n",
       "      <td>0.921</td>\n",
       "      <td>230</td>\n",
       "      <td>18</td>\n",
       "      <td>0</td>\n",
       "      <td>1</td>\n",
       "      <td>230</td>\n",
       "      <td>68</td>\n",
       "      <td>297</td>\n",
       "      <td>4.757000e-140</td>\n",
       "      <td>...</td>\n",
       "      <td>c_000003745566</td>\n",
       "      <td>A_780_S3</td>\n",
       "      <td>0.0</td>\n",
       "      <td>22/07/2020</td>\n",
       "      <td>12:30</td>\n",
       "      <td>July_2020</td>\n",
       "      <td>780</td>\n",
       "      <td>BACK,BTB,Kelch_1</td>\n",
       "      <td>PF07707.18,PF00651.34,PF01344.28</td>\n",
       "      <td>BTB And C-terminal Kelch,BTB/POZ domain,Kelch motif</td>\n",
       "    </tr>\n",
       "    <tr>\n",
       "      <th>3</th>\n",
       "      <td>MMETSP0253-20130528|14431_1</td>\n",
       "      <td>0.921</td>\n",
       "      <td>230</td>\n",
       "      <td>18</td>\n",
       "      <td>0</td>\n",
       "      <td>1</td>\n",
       "      <td>230</td>\n",
       "      <td>68</td>\n",
       "      <td>297</td>\n",
       "      <td>4.757000e-140</td>\n",
       "      <td>...</td>\n",
       "      <td>c_000003745566</td>\n",
       "      <td>5_130_S45</td>\n",
       "      <td>0.0</td>\n",
       "      <td>18/05/2021</td>\n",
       "      <td>9:45</td>\n",
       "      <td>May_2021</td>\n",
       "      <td>130</td>\n",
       "      <td>BACK,BTB,Kelch_1</td>\n",
       "      <td>PF07707.18,PF00651.34,PF01344.28</td>\n",
       "      <td>BTB And C-terminal Kelch,BTB/POZ domain,Kelch motif</td>\n",
       "    </tr>\n",
       "    <tr>\n",
       "      <th>4</th>\n",
       "      <td>MMETSP0253-20130528|14431_1</td>\n",
       "      <td>0.921</td>\n",
       "      <td>230</td>\n",
       "      <td>18</td>\n",
       "      <td>0</td>\n",
       "      <td>1</td>\n",
       "      <td>230</td>\n",
       "      <td>68</td>\n",
       "      <td>297</td>\n",
       "      <td>4.757000e-140</td>\n",
       "      <td>...</td>\n",
       "      <td>c_000003745566</td>\n",
       "      <td>C_ZG02_S17</td>\n",
       "      <td>0.0</td>\n",
       "      <td>30/09/2020</td>\n",
       "      <td>16:20</td>\n",
       "      <td>September_2020</td>\n",
       "      <td>ZG02</td>\n",
       "      <td>BACK,BTB,Kelch_1</td>\n",
       "      <td>PF07707.18,PF00651.34,PF01344.28</td>\n",
       "      <td>BTB And C-terminal Kelch,BTB/POZ domain,Kelch motif</td>\n",
       "    </tr>\n",
       "  </tbody>\n",
       "</table></div>"
      ],
      "text/plain": [
       "                     target_id  p_ident  alnlen  mismatch  gapopen  qstart  \\\n",
       "0  MMETSP0253-20130528|14431_1    0.921     230        18        0       1   \n",
       "1  MMETSP0253-20130528|14431_1    0.921     230        18        0       1   \n",
       "2  MMETSP0253-20130528|14431_1    0.921     230        18        0       1   \n",
       "3  MMETSP0253-20130528|14431_1    0.921     230        18        0       1   \n",
       "4  MMETSP0253-20130528|14431_1    0.921     230        18        0       1   \n",
       "\n",
       "   qend  tstart  tend         evalue  ...   transcript_id      sample  TPM  \\\n",
       "0   230      68   297  4.757000e-140  ...  c_000003745566   B_120_S11  0.0   \n",
       "1   230      68   297  4.757000e-140  ...  c_000003745566   5_120_S50  0.0   \n",
       "2   230      68   297  4.757000e-140  ...  c_000003745566    A_780_S3  0.0   \n",
       "3   230      68   297  4.757000e-140  ...  c_000003745566   5_130_S45  0.0   \n",
       "4   230      68   297  4.757000e-140  ...  c_000003745566  C_ZG02_S17  0.0   \n",
       "\n",
       "         date   time           month station             PFAMs  \\\n",
       "0  18/08/2020   9:40     August_2020     120  BACK,BTB,Kelch_1   \n",
       "1  18/05/2021  20:25        May_2021     120  BACK,BTB,Kelch_1   \n",
       "2  22/07/2020  12:30       July_2020     780  BACK,BTB,Kelch_1   \n",
       "3  18/05/2021   9:45        May_2021     130  BACK,BTB,Kelch_1   \n",
       "4  30/09/2020  16:20  September_2020    ZG02  BACK,BTB,Kelch_1   \n",
       "\n",
       "                           PFAMs_ID  \\\n",
       "0  PF07707.18,PF00651.34,PF01344.28   \n",
       "1  PF07707.18,PF00651.34,PF01344.28   \n",
       "2  PF07707.18,PF00651.34,PF01344.28   \n",
       "3  PF07707.18,PF00651.34,PF01344.28   \n",
       "4  PF07707.18,PF00651.34,PF01344.28   \n",
       "\n",
       "                                   PFAMs_description  \n",
       "0  BTB And C-terminal Kelch,BTB/POZ domain,Kelch ...  \n",
       "1  BTB And C-terminal Kelch,BTB/POZ domain,Kelch ...  \n",
       "2  BTB And C-terminal Kelch,BTB/POZ domain,Kelch ...  \n",
       "3  BTB And C-terminal Kelch,BTB/POZ domain,Kelch ...  \n",
       "4  BTB And C-terminal Kelch,BTB/POZ domain,Kelch ...  \n",
       "\n",
       "[5 rows x 32 columns]"
      ]
     },
     "execution_count": 65,
     "metadata": {},
     "output_type": "execute_result"
    }
   ],
   "source": [
    "data.head()"
   ]
  },
  {
   "cell_type": "code",
   "execution_count": 66,
   "metadata": {},
   "outputs": [
    {
     "name": "stdout",
     "output_type": "stream",
     "text": [
      "The number of unique species in the dataset is 595\n"
     ]
    },
    {
     "data": {
      "text/plain": [
       "<AxesSubplot:>"
      ]
     },
     "execution_count": 66,
     "metadata": {},
     "output_type": "execute_result"
    },
    {
     "data": {
      "image/png": "[encoded data removed]",
      "text/plain": [
       "<Figure size 432x288 with 1 Axes>"
      ]
     },
     "metadata": {
      "needs_background": "light"
     },
     "output_type": "display_data"
    }
   ],
   "source": [
    "# What is the number of unique species in the dataset?\n",
    "print(f'The number of unique species in the dataset is {len(data[\"species\"].unique())}')\n",
    "data['species'].value_counts().hist(bins=100)"
   ]
  },
  {
   "cell_type": "code",
   "execution_count": 67,
   "metadata": {},
   "outputs": [],
   "source": [
    "# Most of them are detected very low, so let's look at the subset of species that are detected which also have more than 800 unique PFAMs detected for every sample\n",
    "species = data[['species', 'sample', 'PFAMs_ID', 'TPM']]\n",
    "## Split the PFAM_ID column into multiple rows and explode them\n",
    "# Split the PFAM_ID column into multiple columns\n",
    "species = species.assign(PFAMs_ID=species['PFAMs_ID'].str.split(','))\n",
    "\n",
    "# Explode the PFAM_ID column\n",
    "species = species.explode('PFAMs_ID')\n",
    "\n",
    "# Group by species, sample, and PFAMs_ID\n",
    "species = species.groupby(['species', 'sample', 'PFAMs_ID']).sum().reset_index()\n",
    "\n",
    "# Remove all rows with no PFAMs_ID\n",
    "species = species[species['PFAMs_ID'] != '-']\n",
    "\n",
    "# Store the species data so that we can easily load it in the future\n",
    "#species.to_csv('../../data/annotation/functional_eggnog/eukprot_species_PFAM_profiles.csv', index=False)\n",
    "species.to_csv('../../data/annotation/functional_eggnog/phyloDB_species_PFAM_profiles.csv', index=False)"
   ]
  },
  {
   "cell_type": "code",
   "execution_count": 68,
   "metadata": {},
   "outputs": [
    {
     "data": {
      "text/html": [
       "<div><div id=e721d5ce-8047-433e-8b19-ffe0d7f6cc52 style=\"display:none; background-color:#9D6CFF; color:white; width:200px; height:30px; padding-left:5px; border-radius:4px; flex-direction:row; justify-content:space-around; align-items:center;\" onmouseover=\"this.style.backgroundColor='#BA9BF8'\" onmouseout=\"this.style.backgroundColor='#9D6CFF'\" onclick=\"window.commands?.execute('create-mitosheet-from-dataframe-output');\">See Full Dataframe in Mito</div> <script> if (window.commands?.hasCommand('create-mitosheet-from-dataframe-output')) document.getElementById('e721d5ce-8047-433e-8b19-ffe0d7f6cc52').style.display = 'flex' </script> <table border=\"1\" class=\"dataframe\">\n",
       "  <thead>\n",
       "    <tr style=\"text-align: right;\">\n",
       "      <th></th>\n",
       "      <th>species</th>\n",
       "      <th>sample</th>\n",
       "      <th>PFAMs_ID</th>\n",
       "      <th>TPM</th>\n",
       "    </tr>\n",
       "  </thead>\n",
       "  <tbody>\n",
       "    <tr>\n",
       "      <th>1</th>\n",
       "      <td>Acanthamoeba castellanii str. Neff</td>\n",
       "      <td>1_130_S31</td>\n",
       "      <td>PF00009.30</td>\n",
       "      <td>0.000000</td>\n",
       "    </tr>\n",
       "    <tr>\n",
       "      <th>2</th>\n",
       "      <td>Acanthamoeba castellanii str. Neff</td>\n",
       "      <td>1_130_S31</td>\n",
       "      <td>PF00022.22</td>\n",
       "      <td>23.101733</td>\n",
       "    </tr>\n",
       "    <tr>\n",
       "      <th>3</th>\n",
       "      <td>Acanthamoeba castellanii str. Neff</td>\n",
       "      <td>1_130_S31</td>\n",
       "      <td>PF00071.25</td>\n",
       "      <td>0.000000</td>\n",
       "    </tr>\n",
       "    <tr>\n",
       "      <th>4</th>\n",
       "      <td>Acanthamoeba castellanii str. Neff</td>\n",
       "      <td>1_130_S31</td>\n",
       "      <td>PF00125.27</td>\n",
       "      <td>0.000000</td>\n",
       "    </tr>\n",
       "    <tr>\n",
       "      <th>5</th>\n",
       "      <td>Acanthamoeba castellanii str. Neff</td>\n",
       "      <td>1_130_S31</td>\n",
       "      <td>PF00149.31</td>\n",
       "      <td>0.000000</td>\n",
       "    </tr>\n",
       "  </tbody>\n",
       "</table></div>"
      ],
      "text/plain": [
       "                              species     sample    PFAMs_ID        TPM\n",
       "1  Acanthamoeba castellanii str. Neff  1_130_S31  PF00009.30   0.000000\n",
       "2  Acanthamoeba castellanii str. Neff  1_130_S31  PF00022.22  23.101733\n",
       "3  Acanthamoeba castellanii str. Neff  1_130_S31  PF00071.25   0.000000\n",
       "4  Acanthamoeba castellanii str. Neff  1_130_S31  PF00125.27   0.000000\n",
       "5  Acanthamoeba castellanii str. Neff  1_130_S31  PF00149.31   0.000000"
      ]
     },
     "execution_count": 68,
     "metadata": {},
     "output_type": "execute_result"
    }
   ],
   "source": [
    "# Read the species data if it has been stored before\n",
    "# species = pd.read_csv('../../data/annotation/functional_eggnog/species_PFAM_profiles.csv')\n",
    "species.head()"
   ]
  },
  {
   "cell_type": "code",
   "execution_count": 69,
   "metadata": {},
   "outputs": [
    {
     "name": "stdout",
     "output_type": "stream",
     "text": [
      "        sample  species_count\n",
      "0    1_130_S31              8\n",
      "1    1_330_S34              7\n",
      "2    1_700_S32              2\n",
      "3    1_780_S33              4\n",
      "4   1_ZG02_S35             10\n",
      "..         ...            ...\n",
      "57   F_130_S25             10\n",
      "58   F_330_S28             10\n",
      "59   F_700_S26              5\n",
      "60   F_780_S27             10\n",
      "61  F_ZG02_S30             10\n",
      "\n",
      "[62 rows x 2 columns]\n"
     ]
    }
   ],
   "source": [
    "# Print the number of species that have more than 800 unique PFAMs that have an expression level > 0\n",
    "\n",
    "# Filter the DataFrame to include only species with TPM > 0\n",
    "filtered_species = species[species['TPM'] > 0]\n",
    "\n",
    "# Group by sample and species, and count the number of unique PFAMs\n",
    "species_count = filtered_species.groupby(['sample', 'species'])['PFAMs_ID'].nunique().reset_index()\n",
    "\n",
    "# Filter the species_count DataFrame to include only samples with more than 800 PFAMs\n",
    "sample_counts = species_count.groupby('sample').apply(lambda x: (x['PFAMs_ID'] > 800).sum()).reset_index()\n",
    "\n",
    "# Rename the columns in the sample_counts DataFrame\n",
    "sample_counts.columns = ['sample', 'species_count']\n",
    "\n",
    "# Display the resulting DataFrame\n",
    "print(sample_counts)\n"
   ]
  },
  {
   "cell_type": "code",
   "execution_count": 70,
   "metadata": {},
   "outputs": [
    {
     "data": {
      "image/png": "[encoded data removed]",
      "text/plain": [
       "<Figure size 432x288 with 1 Axes>"
      ]
     },
     "metadata": {
      "needs_background": "light"
     },
     "output_type": "display_data"
    }
   ],
   "source": [
    "# Add metadata to the sample counts dataframe and plot the results\n",
    "sample_counts = sample_counts.merge(meta, left_on='sample', right_on='sample', how='left')\n",
    "\n",
    "# Order the months\n",
    "month_order = [\"July_2020\", \"August_2020\", \"September_2020\", \"November_2020\", \n",
    "                \"December_2020\", \"January_2021\", \"February_2021\", \"April_2021\", \n",
    "                \"May_2021\", \"June_2021\", \"July_2021\"]\n",
    "\n",
    "# Plot the results per month\n",
    "sns.stripplot(data=sample_counts, x='month', y='species_count', order=month_order, size=8);\n",
    "\n",
    "# X labels should be vertical\n",
    "plt.xticks(rotation=90);"
   ]
  },
  {
   "attachments": {},
   "cell_type": "markdown",
   "metadata": {},
   "source": [
    "So it looks like that the amount of species for which we'll be able to predict the trophic mode is variable, but above 6 for most samples. Let's add the names to the dataframe so we now what to select below."
   ]
  },
  {
   "cell_type": "code",
   "execution_count": 71,
   "metadata": {},
   "outputs": [
    {
     "data": {
      "text/html": [
       "<div><div id=7184b0c6-8904-492a-97be-193af8666b6a style=\"display:none; background-color:#9D6CFF; color:white; width:200px; height:30px; padding-left:5px; border-radius:4px; flex-direction:row; justify-content:space-around; align-items:center;\" onmouseover=\"this.style.backgroundColor='#BA9BF8'\" onmouseout=\"this.style.backgroundColor='#9D6CFF'\" onclick=\"window.commands?.execute('create-mitosheet-from-dataframe-output');\">See Full Dataframe in Mito</div> <script> if (window.commands?.hasCommand('create-mitosheet-from-dataframe-output')) document.getElementById('7184b0c6-8904-492a-97be-193af8666b6a').style.display = 'flex' </script> <table border=\"1\" class=\"dataframe\">\n",
       "  <thead>\n",
       "    <tr style=\"text-align: right;\">\n",
       "      <th></th>\n",
       "      <th>month</th>\n",
       "      <th>station</th>\n",
       "      <th>sample</th>\n",
       "      <th>species</th>\n",
       "    </tr>\n",
       "  </thead>\n",
       "  <tbody>\n",
       "    <tr>\n",
       "      <th>0</th>\n",
       "      <td>April_2021</td>\n",
       "      <td>120</td>\n",
       "      <td>4_120_S44</td>\n",
       "      <td>[Ditylum brightwellii GSO103, Ditylum brightwellii GSO104, Ditylum brightwellii Pop1 (SS4), Guinardia flaccida, Noctiluca scintillans, Odontella sinensis, Phaeocystis antarctica, Strain CCMP1374, Phaeocystis sp. CCMP2710, Thalassiosira rotula CCMP3096, Thalassiosira rotula GSO102]</td>\n",
       "    </tr>\n",
       "    <tr>\n",
       "      <th>1</th>\n",
       "      <td>April_2021</td>\n",
       "      <td>130</td>\n",
       "      <td>4_130_S41</td>\n",
       "      <td>[Guinardia flaccida, Noctiluca scintillans, Phaeocystis antarctica Caron Lab, Phaeocystis antarctica, Strain CCMP1374, Phaeocystis sp. CCMP2710]</td>\n",
       "    </tr>\n",
       "    <tr>\n",
       "      <th>2</th>\n",
       "      <td>April_2021</td>\n",
       "      <td>330</td>\n",
       "      <td>4_330_S42</td>\n",
       "      <td>[Guinardia flaccida, Noctiluca scintillans, Phaeocystis antarctica Caron Lab, Phaeocystis antarctica, Strain CCMP1374, Phaeocystis sp. CCMP2710]</td>\n",
       "    </tr>\n",
       "    <tr>\n",
       "      <th>3</th>\n",
       "      <td>April_2021</td>\n",
       "      <td>ZG02</td>\n",
       "      <td>4_ZG02_S43</td>\n",
       "      <td>[Guinardia flaccida, Noctiluca scintillans, Phaeocystis antarctica Caron Lab, Phaeocystis antarctica, Strain CCMP1374, Phaeocystis sp. CCMP2710, Pseudo-nitzschia delicatissima, Strain UNC1205]</td>\n",
       "    </tr>\n",
       "    <tr>\n",
       "      <th>4</th>\n",
       "      <td>August_2020</td>\n",
       "      <td>120</td>\n",
       "      <td>B_120_S11</td>\n",
       "      <td>[Ceratium fusus, Strain PA161109, Guinardia flaccida, Noctiluca scintillans, Tripos fusus]</td>\n",
       "    </tr>\n",
       "    <tr>\n",
       "      <th>...</th>\n",
       "      <td>...</td>\n",
       "      <td>...</td>\n",
       "      <td>...</td>\n",
       "      <td>...</td>\n",
       "    </tr>\n",
       "    <tr>\n",
       "      <th>57</th>\n",
       "      <td>September_2020</td>\n",
       "      <td>130</td>\n",
       "      <td>C_130_S13</td>\n",
       "      <td>[Ceratium fusus, Strain PA161109, Ditylum brightwellii GSO103, Ditylum brightwellii GSO104, Ditylum brightwellii GSO105, Ditylum brightwellii Pop1 (SS4), Ditylum brightwellii Strain Pop2 (SS10), Guinardia flaccida, Noctiluca scintillans, Odontella sinensis, Phaeocystis sp. CCMP2710, Thalassiosira punctigera, Thalassiosira rotula CCMP3096, Thalassiosira rotula GSO102, Tripos fusus]</td>\n",
       "    </tr>\n",
       "    <tr>\n",
       "      <th>58</th>\n",
       "      <td>September_2020</td>\n",
       "      <td>330</td>\n",
       "      <td>C_330_S16</td>\n",
       "      <td>[Ceratium fusus, Strain PA161109, Ditylum brightwellii GSO103, Ditylum brightwellii GSO104, Ditylum brightwellii GSO105, Ditylum brightwellii Pop1 (SS4), Ditylum brightwellii Strain Pop2 (SS10), Favella taraikaensis, Strain Fe Narragansett Bay, Guinardia flaccida, Noctiluca scintillans, Odontella sinensis, Phaeocystis sp. CCMP2710, Stephanopyxis turris, Strain CCMP 815, Thalassiosira punctigera, Tripos fusus]</td>\n",
       "    </tr>\n",
       "    <tr>\n",
       "      <th>59</th>\n",
       "      <td>September_2020</td>\n",
       "      <td>700</td>\n",
       "      <td>C_700_S14</td>\n",
       "      <td>[Ceratium fusus, Strain PA161109, Guinardia flaccida, Noctiluca scintillans, Odontella sinensis, Phaeocystis sp. CCMP2710, Thalassiosira punctigera, Tripos fusus]</td>\n",
       "    </tr>\n",
       "    <tr>\n",
       "      <th>60</th>\n",
       "      <td>September_2020</td>\n",
       "      <td>780</td>\n",
       "      <td>C_780_S15</td>\n",
       "      <td>[Ceratium fusus, Strain PA161109, Guinardia flaccida, Noctiluca scintillans, Odontella sinensis, Phaeocystis sp. CCMP2710, Thalassiosira punctigera, Tripos fusus]</td>\n",
       "    </tr>\n",
       "    <tr>\n",
       "      <th>61</th>\n",
       "      <td>September_2020</td>\n",
       "      <td>ZG02</td>\n",
       "      <td>C_ZG02_S17</td>\n",
       "      <td>[Ceratium fusus, Strain PA161109, Ditylum brightwellii GSO103, Ditylum brightwellii GSO104, Ditylum brightwellii GSO105, Ditylum brightwellii Pop1 (SS4), Ditylum brightwellii Strain Pop2 (SS10), Favella taraikaensis, Strain Fe Narragansett Bay, Guinardia flaccida, Noctiluca scintillans, Odontella sinensis, Phaeocystis sp. CCMP2710, Stephanopyxis turris, Strain CCMP 815, Thalassiosira punctigera, Thalassiosira rotula CCMP3096, Thalassiosira rotula GSO102, Tripos fusus]</td>\n",
       "    </tr>\n",
       "  </tbody>\n",
       "</table></div>"
      ],
      "text/plain": [
       "             month station      sample  \\\n",
       "0       April_2021     120   4_120_S44   \n",
       "1       April_2021     130   4_130_S41   \n",
       "2       April_2021     330   4_330_S42   \n",
       "3       April_2021    ZG02  4_ZG02_S43   \n",
       "4      August_2020     120   B_120_S11   \n",
       "..             ...     ...         ...   \n",
       "57  September_2020     130   C_130_S13   \n",
       "58  September_2020     330   C_330_S16   \n",
       "59  September_2020     700   C_700_S14   \n",
       "60  September_2020     780   C_780_S15   \n",
       "61  September_2020    ZG02  C_ZG02_S17   \n",
       "\n",
       "                                              species  \n",
       "0   [Ditylum brightwellii GSO103, Ditylum brightwe...  \n",
       "1   [Guinardia flaccida, Noctiluca scintillans, Ph...  \n",
       "2   [Guinardia flaccida, Noctiluca scintillans, Ph...  \n",
       "3   [Guinardia flaccida, Noctiluca scintillans, Ph...  \n",
       "4   [Ceratium fusus, Strain PA161109, Guinardia fl...  \n",
       "..                                                ...  \n",
       "57  [Ceratium fusus, Strain PA161109, Ditylum brig...  \n",
       "58  [Ceratium fusus, Strain PA161109, Ditylum brig...  \n",
       "59  [Ceratium fusus, Strain PA161109, Guinardia fl...  \n",
       "60  [Ceratium fusus, Strain PA161109, Guinardia fl...  \n",
       "61  [Ceratium fusus, Strain PA161109, Ditylum brig...  \n",
       "\n",
       "[62 rows x 4 columns]"
      ]
     },
     "execution_count": 71,
     "metadata": {},
     "output_type": "execute_result"
    }
   ],
   "source": [
    "# Create a DataFrame with species names for samples with more than 800 PFAMs\n",
    "sample_species = species[species['TPM'] > 0].groupby(['sample', 'species'])['PFAMs_ID'].nunique().reset_index()\n",
    "sample_species = sample_species[sample_species['PFAMs_ID'] > 800]\n",
    "\n",
    "# Add metadata to the sample counts dataframe and plot the results\n",
    "sample_species = sample_species.merge(meta, left_on='sample', right_on='sample', how='left')\n",
    "# Drop irrelevant columns\n",
    "sample_species = sample_species.drop(columns=['date', 'time'])\n",
    "\n",
    "# Group by month and sample, and create a list of species\n",
    "result_df = sample_species.groupby(['month', 'station', 'sample'])['species'].apply(list).reset_index()\n",
    "\n",
    "# Display the resulting DataFrame\n",
    "result_df"
   ]
  },
  {
   "attachments": {},
   "cell_type": "markdown",
   "metadata": {},
   "source": [
    "## Test Run"
   ]
  },
  {
   "attachments": {},
   "cell_type": "markdown",
   "metadata": {},
   "source": [
    "We'll extract one species PFAM signature from one sample and run the prediction for that species.\n"
   ]
  },
  {
   "cell_type": "code",
   "execution_count": null,
   "metadata": {},
   "outputs": [],
   "source": [
    "test_profile = species[(species['sample'] == '4_330_S42') & (species['species'] == 'Noctiluca scintillans')]\n",
    "\n",
    "# Reshape, should have the PFAM ID as columns and the TPM values as row values\n",
    "test_profile = test_profile.drop(columns=['species', 'sample'])\n",
    "test_profile = test_profile.pivot_table(columns='PFAMs_ID', values='TPM')\n",
    "\n",
    "# Store into a csv file\n",
    "test_profile.to_csv('../trophic-mode-ml/data/test_profile.csv')"
   ]
  },
  {
   "attachments": {},
   "cell_type": "markdown",
   "metadata": {},
   "source": [
    "I ran the model like:\n",
    "\n",
    "```\n",
    "./model/predict-tm.py -d data/test_profile.csv -t data/Field_training_data.csv -f data/Extracted_Pfams.csv -l data/Field_training_labels.csv -o data/test\n",
    "```\n",
    "\n",
    "And it predicted Photoautotrophic, which I am unsure about. I'll try to run it on the full dataset and see what happens."
   ]
  },
  {
   "attachments": {},
   "cell_type": "markdown",
   "metadata": {},
   "source": [
    "## Predict trophic mode"
   ]
  },
  {
   "cell_type": "code",
   "execution_count": 31,
   "metadata": {},
   "outputs": [],
   "source": [
    "# Indicate where to look for the modules so we can import them into the notebook\n",
    "sys.path.append('../trophic-mode-ml/model/')"
   ]
  },
  {
   "cell_type": "code",
   "execution_count": 32,
   "metadata": {},
   "outputs": [],
   "source": [
    "from predict_tm_lib import run_prediction\n",
    "\n",
    "def run_prediction_for_all_species(df, profiles, train_data_path, feature_path, labels_path):\n",
    "    \"\"\" This will run the trophic mode prediction for all species in the dataset (month, station, sample, species list).\n",
    "        The results_df used for this was generated above, and only includes species that meet the models' criteria.\n",
    "\n",
    "    Args:\n",
    "        df (pandas dataframe): Should contain a column sample and species for which the prediction should be run\n",
    "        profiles (pandas dataframe): Should contain the profiles for all species in the df. Should have columns sample, species, PFAMs_ID, and TPM\n",
    "        train_data_path (csv): csv data file with the training data as used in the model by the authors\n",
    "        feature_path (csv): csv data file with the features as used in the model by the authors\n",
    "        labels_path (csv): csv data file with the labels as used in the model by the authors\n",
    "\n",
    "    Returns:\n",
    "        dataframe: dataframe with a predicted trophic mode for all species. Columns are sample, species, and predicted trophic mode.\n",
    "    \"\"\"\n",
    "    # This will store all results\n",
    "    all_results = pd.DataFrame()\n",
    "    # Get unique samples\n",
    "    samples = df['sample'].unique()\n",
    "    for sample in samples:\n",
    "        # Get unique species for this sample\n",
    "        species = df[df['sample'] == sample]['species'].explode().unique()\n",
    "        for specie in species:\n",
    "            # Get profile for this specie in this sample\n",
    "            profile = profiles[(profiles['sample'] == sample) & (profiles['species'] == specie)]\n",
    "            # Reshape profile\n",
    "            profile = profile.drop(columns=['species', 'sample'])\n",
    "            profile = profile.pivot_table(columns='PFAMs_ID', values='TPM')\n",
    "            # Save into a csv file\n",
    "            profile_path = f'../trophic-mode-ml/data/scratch/{sample}_{specie}.csv'\n",
    "            profile.to_csv(profile_path)\n",
    "            # Run the prediction model\n",
    "            predictions = run_prediction(data=profile_path, train=train_data_path, feats=feature_path, labels=labels_path, out=f'../trophic-mode-ml/data/scratch/{sample}_{specie}_preds.csv', rf=False)\n",
    "            # Collect predictions into a dataframe\n",
    "            p_df = pd.DataFrame(data={'sample': sample, 'species': specie, 'prediction': predictions})\n",
    "            # Append to all_results dataframe\n",
    "            all_results = pd.concat([all_results, p_df], ignore_index=True)\n",
    "    # Return the final results\n",
    "    return all_results\n"
   ]
  },
  {
   "cell_type": "code",
   "execution_count": 72,
   "metadata": {},
   "outputs": [],
   "source": [
    "# Run the model per month, otherwise the kernel will crash\n",
    "for month in result_df['month'].unique():\n",
    "    results = run_prediction_for_all_species(\n",
    "        result_df[result_df['month'] == month], \n",
    "        species, \n",
    "        train_data_path='../trophic-mode-ml/data/Field_training_data.csv', \n",
    "        feature_path='../trophic-mode-ml/data/Extracted_Pfams.csv', \n",
    "        labels_path='../trophic-mode-ml/data/Field_training_labels.csv'\n",
    "    );\n",
    "    #results.to_csv(f'../trophic-mode-ml/data/eukprot/{month}_predictions.csv', index=False)\n",
    "    results.to_csv(f'../trophic-mode-ml/data/phylodb/{month}_predictions.csv', index=False)"
   ]
  },
  {
   "cell_type": "code",
   "execution_count": 106,
   "metadata": {},
   "outputs": [],
   "source": [
    "# Load the predictions of the different months and concatenate them into one dataframe\n",
    "predictions = pd.DataFrame()\n",
    "for month in result_df['month'].unique():\n",
    "    preds = pd.read_csv(f'../trophic-mode-ml/data/eukprot/{month}_predictions.csv')\n",
    "    #preds = pd.read_csv(f'../trophic-mode-ml/data/phylodb/{month}_predictions.csv')\n",
    "    predictions = pd.concat([predictions, preds], ignore_index=True)"
   ]
  },
  {
   "cell_type": "code",
   "execution_count": 107,
   "metadata": {},
   "outputs": [
    {
     "data": {
      "text/html": [
       "<div><div id=994e0416-c110-43b6-a0d9-e54450b9f25c style=\"display:none; background-color:#9D6CFF; color:white; width:200px; height:30px; padding-left:5px; border-radius:4px; flex-direction:row; justify-content:space-around; align-items:center;\" onmouseover=\"this.style.backgroundColor='#BA9BF8'\" onmouseout=\"this.style.backgroundColor='#9D6CFF'\" onclick=\"window.commands?.execute('create-mitosheet-from-dataframe-output');\">See Full Dataframe in Mito</div> <script> if (window.commands?.hasCommand('create-mitosheet-from-dataframe-output')) document.getElementById('994e0416-c110-43b6-a0d9-e54450b9f25c').style.display = 'flex' </script> <table border=\"1\" class=\"dataframe\">\n",
       "  <thead>\n",
       "    <tr style=\"text-align: right;\">\n",
       "      <th></th>\n",
       "      <th>sample</th>\n",
       "      <th>species</th>\n",
       "      <th>prediction</th>\n",
       "    </tr>\n",
       "  </thead>\n",
       "  <tbody>\n",
       "    <tr>\n",
       "      <th>0</th>\n",
       "      <td>4_120_S44</td>\n",
       "      <td>Ditylum brightwellii</td>\n",
       "      <td>Phot</td>\n",
       "    </tr>\n",
       "    <tr>\n",
       "      <th>1</th>\n",
       "      <td>4_120_S44</td>\n",
       "      <td>Noctiluca scintillans</td>\n",
       "      <td>Phot</td>\n",
       "    </tr>\n",
       "    <tr>\n",
       "      <th>2</th>\n",
       "      <td>4_120_S44</td>\n",
       "      <td>Phaeocystis globosa</td>\n",
       "      <td>Phot</td>\n",
       "    </tr>\n",
       "    <tr>\n",
       "      <th>3</th>\n",
       "      <td>4_120_S44</td>\n",
       "      <td>Pleurobrachia bachei</td>\n",
       "      <td>Phot</td>\n",
       "    </tr>\n",
       "    <tr>\n",
       "      <th>4</th>\n",
       "      <td>4_120_S44</td>\n",
       "      <td>Thalassiosira rotula</td>\n",
       "      <td>Phot</td>\n",
       "    </tr>\n",
       "  </tbody>\n",
       "</table></div>"
      ],
      "text/plain": [
       "      sample                species prediction\n",
       "0  4_120_S44   Ditylum brightwellii       Phot\n",
       "1  4_120_S44  Noctiluca scintillans       Phot\n",
       "2  4_120_S44    Phaeocystis globosa       Phot\n",
       "3  4_120_S44   Pleurobrachia bachei       Phot\n",
       "4  4_120_S44   Thalassiosira rotula       Phot"
      ]
     },
     "execution_count": 107,
     "metadata": {},
     "output_type": "execute_result"
    }
   ],
   "source": [
    "predictions.head()"
   ]
  },
  {
   "attachments": {},
   "cell_type": "markdown",
   "metadata": {},
   "source": [
    "## Visualisation and analysis of tropic mode predictions"
   ]
  },
  {
   "cell_type": "code",
   "execution_count": 101,
   "metadata": {},
   "outputs": [
    {
     "data": {
      "text/plain": [
       "Index(['query_id', 'target_id', 'p_ident', 'alnlen', 'mismatch', 'gapopen',\n",
       "       'qstart', 'qend', 'tstart', 'tend', 'evalue', 'bits', 'strain_name',\n",
       "       'function', 'taxonomy', 'kingdom', 'superphylum', 'phylum', 'class',\n",
       "       'order', 'family', 'genus', 'species'],\n",
       "      dtype='object')"
      ]
     },
     "execution_count": 101,
     "metadata": {},
     "output_type": "execute_result"
    }
   ],
   "source": [
    "data_tax.columns"
   ]
  },
  {
   "cell_type": "code",
   "execution_count": 109,
   "metadata": {},
   "outputs": [
    {
     "data": {
      "text/html": [
       "<div><div id=be8b0d5d-0d39-44c9-ae4d-d927df2bae59 style=\"display:none; background-color:#9D6CFF; color:white; width:200px; height:30px; padding-left:5px; border-radius:4px; flex-direction:row; justify-content:space-around; align-items:center;\" onmouseover=\"this.style.backgroundColor='#BA9BF8'\" onmouseout=\"this.style.backgroundColor='#9D6CFF'\" onclick=\"window.commands?.execute('create-mitosheet-from-dataframe-output');\">See Full Dataframe in Mito</div> <script> if (window.commands?.hasCommand('create-mitosheet-from-dataframe-output')) document.getElementById('be8b0d5d-0d39-44c9-ae4d-d927df2bae59').style.display = 'flex' </script> <table border=\"1\" class=\"dataframe\">\n",
       "  <thead>\n",
       "    <tr style=\"text-align: right;\">\n",
       "      <th></th>\n",
       "      <th>sample</th>\n",
       "      <th>species</th>\n",
       "      <th>prediction</th>\n",
       "      <th>date</th>\n",
       "      <th>time</th>\n",
       "      <th>month</th>\n",
       "      <th>station</th>\n",
       "      <th>Genus_UniEuk</th>\n",
       "      <th>Strain</th>\n",
       "      <th>Epithet_UniEuk</th>\n",
       "      <th>Supergroup_UniEuk</th>\n",
       "      <th>Taxogroup1_UniEuk</th>\n",
       "      <th>Taxogroup2_UniEuk</th>\n",
       "      <th>Taxonomy_UniEuk</th>\n",
       "    </tr>\n",
       "  </thead>\n",
       "  <tbody>\n",
       "    <tr>\n",
       "      <th>0</th>\n",
       "      <td>4_120_S44</td>\n",
       "      <td>Ditylum brightwellii</td>\n",
       "      <td>Phot</td>\n",
       "      <td>27/04/2021</td>\n",
       "      <td>9:25</td>\n",
       "      <td>April_2021</td>\n",
       "      <td>120</td>\n",
       "      <td>Ditylum</td>\n",
       "      <td>CCMP358</td>\n",
       "      <td>brightwellii</td>\n",
       "      <td>Stramenopiles</td>\n",
       "      <td>Ochrophyta</td>\n",
       "      <td>Diatomeae</td>\n",
       "      <td>Eukaryota;Diaphoretickes;Sar;Stramenopiles;'GOS clade';Gyrista;Ochrophyta;'BD clade';Diatomeae;Bacillariophytina;Mediophyceae;Lithodesmiophycidae;Ditylum;Ditylum brightwellii;strain CCMP-358</td>\n",
       "    </tr>\n",
       "    <tr>\n",
       "      <th>1</th>\n",
       "      <td>4_120_S44</td>\n",
       "      <td>Noctiluca scintillans</td>\n",
       "      <td>Phot</td>\n",
       "      <td>27/04/2021</td>\n",
       "      <td>9:25</td>\n",
       "      <td>April_2021</td>\n",
       "      <td>120</td>\n",
       "      <td>Noctiluca</td>\n",
       "      <td>NaN</td>\n",
       "      <td>scintillans</td>\n",
       "      <td>Alveolata</td>\n",
       "      <td>Dinoflagellata</td>\n",
       "      <td>core-Noctilucales</td>\n",
       "      <td>Eukaryota;Diaphoretickes;Sar;Alveolata;Myzozoa;'DP clade';Dinoflagellata;'core Noctilucales';Noctiluca;Noctiluca scintillans</td>\n",
       "    </tr>\n",
       "    <tr>\n",
       "      <th>2</th>\n",
       "      <td>4_120_S44</td>\n",
       "      <td>Phaeocystis globosa</td>\n",
       "      <td>Phot</td>\n",
       "      <td>27/04/2021</td>\n",
       "      <td>9:25</td>\n",
       "      <td>April_2021</td>\n",
       "      <td>120</td>\n",
       "      <td>Phaeocystis</td>\n",
       "      <td>CCMP2710</td>\n",
       "      <td>globosa</td>\n",
       "      <td>Haptophyta</td>\n",
       "      <td>Prymnesiophyceae</td>\n",
       "      <td>Prymnesiophyceae</td>\n",
       "      <td>Eukaryota;Diaphoretickes;Haptista;Haptophyta;Prymnesiophyceae;Phaeocystales;Phaeocystis;Phaeocystis globosa;strain CCMP-2710</td>\n",
       "    </tr>\n",
       "    <tr>\n",
       "      <th>3</th>\n",
       "      <td>4_120_S44</td>\n",
       "      <td>Pleurobrachia bachei</td>\n",
       "      <td>Phot</td>\n",
       "      <td>27/04/2021</td>\n",
       "      <td>9:25</td>\n",
       "      <td>April_2021</td>\n",
       "      <td>120</td>\n",
       "      <td>Pleurobrachia</td>\n",
       "      <td>NaN</td>\n",
       "      <td>bachei</td>\n",
       "      <td>Opisthokonta</td>\n",
       "      <td>Metazoa</td>\n",
       "      <td>Ctenophora</td>\n",
       "      <td>Eukaryota;Amorphea;Obazoa;Opisthokonta;Holozoa;Choanozoa;Metazoa;Animalia;Ctenophora;'pleurobrachiids';Pleurobrachia;Pleurobrachia bachei</td>\n",
       "    </tr>\n",
       "    <tr>\n",
       "      <th>4</th>\n",
       "      <td>4_120_S44</td>\n",
       "      <td>Thalassiosira rotula</td>\n",
       "      <td>Phot</td>\n",
       "      <td>27/04/2021</td>\n",
       "      <td>9:25</td>\n",
       "      <td>April_2021</td>\n",
       "      <td>120</td>\n",
       "      <td>Thalassiosira</td>\n",
       "      <td>GSO102</td>\n",
       "      <td>rotula</td>\n",
       "      <td>Stramenopiles</td>\n",
       "      <td>Ochrophyta</td>\n",
       "      <td>Diatomeae</td>\n",
       "      <td>Eukaryota;Diaphoretickes;Sar;Stramenopiles;'GOS clade';Gyrista;Ochrophyta;'BD clade';Diatomeae;Bacillariophytina;Mediophyceae;Thalassiosirophycidae;Thalassiosira;Thalassiosira rotula;strain GSO102</td>\n",
       "    </tr>\n",
       "  </tbody>\n",
       "</table></div>"
      ],
      "text/plain": [
       "      sample                species prediction        date  time       month  \\\n",
       "0  4_120_S44   Ditylum brightwellii       Phot  27/04/2021  9:25  April_2021   \n",
       "1  4_120_S44  Noctiluca scintillans       Phot  27/04/2021  9:25  April_2021   \n",
       "2  4_120_S44    Phaeocystis globosa       Phot  27/04/2021  9:25  April_2021   \n",
       "3  4_120_S44   Pleurobrachia bachei       Phot  27/04/2021  9:25  April_2021   \n",
       "4  4_120_S44   Thalassiosira rotula       Phot  27/04/2021  9:25  April_2021   \n",
       "\n",
       "  station   Genus_UniEuk    Strain Epithet_UniEuk Supergroup_UniEuk  \\\n",
       "0     120        Ditylum   CCMP358   brightwellii     Stramenopiles   \n",
       "1     120      Noctiluca       NaN    scintillans         Alveolata   \n",
       "2     120    Phaeocystis  CCMP2710        globosa        Haptophyta   \n",
       "3     120  Pleurobrachia       NaN         bachei      Opisthokonta   \n",
       "4     120  Thalassiosira    GSO102         rotula     Stramenopiles   \n",
       "\n",
       "  Taxogroup1_UniEuk  Taxogroup2_UniEuk  \\\n",
       "0        Ochrophyta          Diatomeae   \n",
       "1    Dinoflagellata  core-Noctilucales   \n",
       "2  Prymnesiophyceae   Prymnesiophyceae   \n",
       "3           Metazoa         Ctenophora   \n",
       "4        Ochrophyta          Diatomeae   \n",
       "\n",
       "                                     Taxonomy_UniEuk  \n",
       "0  Eukaryota;Diaphoretickes;Sar;Stramenopiles;'GO...  \n",
       "1  Eukaryota;Diaphoretickes;Sar;Alveolata;Myzozoa...  \n",
       "2  Eukaryota;Diaphoretickes;Haptista;Haptophyta;P...  \n",
       "3  Eukaryota;Amorphea;Obazoa;Opisthokonta;Holozoa...  \n",
       "4  Eukaryota;Diaphoretickes;Sar;Stramenopiles;'GO...  "
      ]
     },
     "execution_count": 109,
     "metadata": {},
     "output_type": "execute_result"
    }
   ],
   "source": [
    "# Add metadata to the predictions dataframe\n",
    "predictions = predictions.merge(meta, left_on='sample', right_on='sample', how='left')\n",
    "\n",
    "# Add taxonomic information to the predictions dataframe\n",
    "## PhyloDB:\n",
    "#taxonomy_info = data_tax[['kingdom', 'superphylum', 'phylum', 'class', 'order', 'family', 'genus', 'species']]\n",
    "## EukProt:\n",
    "taxonomy_info = data_tax[['species', 'Genus_UniEuk', 'Strain', 'Epithet_UniEuk', 'Supergroup_UniEuk', 'Taxogroup1_UniEuk', 'Taxogroup2_UniEuk', 'Taxonomy_UniEuk']]\n",
    "\n",
    "taxonomy_info = taxonomy_info.drop_duplicates()\n",
    "predictions = predictions.merge(taxonomy_info, left_on='species', right_on='species', how='left')\n",
    "\n",
    "# Save the predictions dataframe\n",
    "predictions.to_csv('../../data/analysis/eukprot_trophic_mode_predictions.csv', index=False)\n",
    "#predictions.to_csv('../../data/analysis/phylodb_trophic_mode_predictions.csv', index=False)\n",
    "\n",
    "# Display the resulting dataframe\n",
    "predictions.head()"
   ]
  },
  {
   "cell_type": "code",
   "execution_count": 77,
   "metadata": {},
   "outputs": [],
   "source": [
    "# Load the predictions dataframe if needed\n",
    "predictions = pd.read_csv('../../data/analysis/eukprot_trophic_mode_predictions.csv')\n",
    "#predictions = pd.read_csv('../../data/analysis/phylodb_trophic_mode_predictions.csv')"
   ]
  },
  {
   "cell_type": "code",
   "execution_count": 112,
   "metadata": {},
   "outputs": [
    {
     "data": {
      "text/plain": [
       "array([], dtype=object)"
      ]
     },
     "execution_count": 112,
     "metadata": {},
     "output_type": "execute_result"
    }
   ],
   "source": [
    "# I want to check for which genera the predictions are not uniform within that genus for a given sample\n",
    "# tax_level = 'species' \n",
    "tax_level = 'Taxonomy_UniEuk'\n",
    "\n",
    "## Extract sample, genus, and prediction\n",
    "pred_subset = predictions[['sample', tax_level, 'prediction']]\n",
    "## Group by sample and genus, and create a list of predictions\n",
    "pred_subset = pred_subset.groupby(['sample', tax_level])['prediction'].apply(list).reset_index()\n",
    "## Add a column with the number of unique predictions\n",
    "pred_subset['unique_preds'] = pred_subset['prediction'].apply(lambda x: len(set(x)))\n",
    "\n",
    "# Display the samples and the genera for which the predictions are not uniform within that genus\n",
    "pred_subset[pred_subset['unique_preds'] > 1][tax_level].unique()"
   ]
  },
  {
   "cell_type": "code",
   "execution_count": 113,
   "metadata": {},
   "outputs": [
    {
     "data": {
      "text/html": [
       "<div><div id=132dfc5d-b3ef-4e5a-86b7-f0aecd96aeb8 style=\"display:none; background-color:#9D6CFF; color:white; width:200px; height:30px; padding-left:5px; border-radius:4px; flex-direction:row; justify-content:space-around; align-items:center;\" onmouseover=\"this.style.backgroundColor='#BA9BF8'\" onmouseout=\"this.style.backgroundColor='#9D6CFF'\" onclick=\"window.commands?.execute('create-mitosheet-from-dataframe-output');\">See Full Dataframe in Mito</div> <script> if (window.commands?.hasCommand('create-mitosheet-from-dataframe-output')) document.getElementById('132dfc5d-b3ef-4e5a-86b7-f0aecd96aeb8').style.display = 'flex' </script> <table border=\"1\" class=\"dataframe\">\n",
       "  <thead>\n",
       "    <tr style=\"text-align: right;\">\n",
       "      <th></th>\n",
       "      <th>sample</th>\n",
       "      <th>Taxonomy_UniEuk</th>\n",
       "      <th>prediction</th>\n",
       "      <th>unique_preds</th>\n",
       "    </tr>\n",
       "  </thead>\n",
       "  <tbody>\n",
       "    <tr>\n",
       "      <th>0</th>\n",
       "      <td>1_130_S31</td>\n",
       "      <td>Eukaryota;Diaphoretickes;Sar;Stramenopiles;'GOS clade';Gyrista;Ochrophyta;'BD clade';Diatomeae;Bacillariophytina;Mediophyceae;Lithodesmiophycidae;Ditylum;Ditylum brightwellii;strain CCMP-358</td>\n",
       "      <td>[Phot]</td>\n",
       "      <td>1</td>\n",
       "    </tr>\n",
       "    <tr>\n",
       "      <th>1</th>\n",
       "      <td>1_130_S31</td>\n",
       "      <td>Eukaryota;Diaphoretickes;Sar;Stramenopiles;'GOS clade';Gyrista;Ochrophyta;'BD clade';Diatomeae;Bacillariophytina;Mediophyceae;Thalassiosirophycidae;Thalassiosira;Thalassiosira punctigera;strain Tpunct2005C2</td>\n",
       "      <td>[Phot]</td>\n",
       "      <td>1</td>\n",
       "    </tr>\n",
       "    <tr>\n",
       "      <th>2</th>\n",
       "      <td>1_330_S34</td>\n",
       "      <td>Eukaryota;Amorphea;Obazoa;Opisthokonta;Holozoa;Choanozoa;Metazoa;Animalia;'parahoxozoa';Bilateria;Protostomia;Ecdysozoa;Panarthropoda;Arthropoda;Mandibulata;Pancrustacea;Copepoda;Calanoida;'megacalanoids';Calanidae;Calanus;Calanus glacialis</td>\n",
       "      <td>[Phot]</td>\n",
       "      <td>1</td>\n",
       "    </tr>\n",
       "    <tr>\n",
       "      <th>3</th>\n",
       "      <td>1_330_S34</td>\n",
       "      <td>Eukaryota;Amorphea;Obazoa;Opisthokonta;Holozoa;Choanozoa;Metazoa;Animalia;'parahoxozoa';Bilateria;Protostomia;Ecdysozoa;Panarthropoda;Arthropoda;Mandibulata;Pancrustacea;Copepoda;Calanoida;'megacalanoids';Calanidae;Neocalanus;Neocalanus flemingeri</td>\n",
       "      <td>[Phot]</td>\n",
       "      <td>1</td>\n",
       "    </tr>\n",
       "    <tr>\n",
       "      <th>4</th>\n",
       "      <td>1_330_S34</td>\n",
       "      <td>Eukaryota;Amorphea;Obazoa;Opisthokonta;Holozoa;Choanozoa;Metazoa;Animalia;Ctenophora;'pleurobrachiids';Pleurobrachia;Pleurobrachia bachei</td>\n",
       "      <td>[Phot]</td>\n",
       "      <td>1</td>\n",
       "    </tr>\n",
       "    <tr>\n",
       "      <th>...</th>\n",
       "      <td>...</td>\n",
       "      <td>...</td>\n",
       "      <td>...</td>\n",
       "      <td>...</td>\n",
       "    </tr>\n",
       "    <tr>\n",
       "      <th>223</th>\n",
       "      <td>F_780_S27</td>\n",
       "      <td>Eukaryota;Diaphoretickes;Sar;Stramenopiles;'GOS clade';Gyrista;Ochrophyta;'BD clade';Diatomeae;Bacillariophytina;Mediophyceae;Odontellophycidae;Trieres;Trieres chinensis;strain PLY-606</td>\n",
       "      <td>[Phot]</td>\n",
       "      <td>1</td>\n",
       "    </tr>\n",
       "    <tr>\n",
       "      <th>224</th>\n",
       "      <td>F_780_S27</td>\n",
       "      <td>Eukaryota;Diaphoretickes;Sar;Stramenopiles;'GOS clade';Gyrista;Ochrophyta;'BD clade';Diatomeae;Bacillariophytina;Mediophyceae;Thalassiosirophycidae;Thalassiosira;Thalassiosira punctigera;strain Tpunct2005C2</td>\n",
       "      <td>[Phot]</td>\n",
       "      <td>1</td>\n",
       "    </tr>\n",
       "    <tr>\n",
       "      <th>225</th>\n",
       "      <td>F_ZG02_S30</td>\n",
       "      <td>Eukaryota;Diaphoretickes;Sar;Stramenopiles;'GOS clade';Gyrista;Ochrophyta;'BD clade';Diatomeae;Bacillariophytina;Mediophyceae;Lithodesmiophycidae;Ditylum;Ditylum brightwellii;strain CCMP-358</td>\n",
       "      <td>[Phot]</td>\n",
       "      <td>1</td>\n",
       "    </tr>\n",
       "    <tr>\n",
       "      <th>226</th>\n",
       "      <td>F_ZG02_S30</td>\n",
       "      <td>Eukaryota;Diaphoretickes;Sar;Stramenopiles;'GOS clade';Gyrista;Ochrophyta;'BD clade';Diatomeae;Bacillariophytina;Mediophyceae;Odontellophycidae;Trieres;Trieres chinensis;strain PLY-606</td>\n",
       "      <td>[Phot]</td>\n",
       "      <td>1</td>\n",
       "    </tr>\n",
       "    <tr>\n",
       "      <th>227</th>\n",
       "      <td>F_ZG02_S30</td>\n",
       "      <td>Eukaryota;Diaphoretickes;Sar;Stramenopiles;'GOS clade';Gyrista;Ochrophyta;'BD clade';Diatomeae;Bacillariophytina;Mediophyceae;Thalassiosirophycidae;Thalassiosira;Thalassiosira punctigera;strain Tpunct2005C2</td>\n",
       "      <td>[Phot]</td>\n",
       "      <td>1</td>\n",
       "    </tr>\n",
       "  </tbody>\n",
       "</table></div>"
      ],
      "text/plain": [
       "         sample                                    Taxonomy_UniEuk prediction  \\\n",
       "0     1_130_S31  Eukaryota;Diaphoretickes;Sar;Stramenopiles;'GO...     [Phot]   \n",
       "1     1_130_S31  Eukaryota;Diaphoretickes;Sar;Stramenopiles;'GO...     [Phot]   \n",
       "2     1_330_S34  Eukaryota;Amorphea;Obazoa;Opisthokonta;Holozoa...     [Phot]   \n",
       "3     1_330_S34  Eukaryota;Amorphea;Obazoa;Opisthokonta;Holozoa...     [Phot]   \n",
       "4     1_330_S34  Eukaryota;Amorphea;Obazoa;Opisthokonta;Holozoa...     [Phot]   \n",
       "..          ...                                                ...        ...   \n",
       "223   F_780_S27  Eukaryota;Diaphoretickes;Sar;Stramenopiles;'GO...     [Phot]   \n",
       "224   F_780_S27  Eukaryota;Diaphoretickes;Sar;Stramenopiles;'GO...     [Phot]   \n",
       "225  F_ZG02_S30  Eukaryota;Diaphoretickes;Sar;Stramenopiles;'GO...     [Phot]   \n",
       "226  F_ZG02_S30  Eukaryota;Diaphoretickes;Sar;Stramenopiles;'GO...     [Phot]   \n",
       "227  F_ZG02_S30  Eukaryota;Diaphoretickes;Sar;Stramenopiles;'GO...     [Phot]   \n",
       "\n",
       "     unique_preds  \n",
       "0               1  \n",
       "1               1  \n",
       "2               1  \n",
       "3               1  \n",
       "4               1  \n",
       "..            ...  \n",
       "223             1  \n",
       "224             1  \n",
       "225             1  \n",
       "226             1  \n",
       "227             1  \n",
       "\n",
       "[228 rows x 4 columns]"
      ]
     },
     "execution_count": 113,
     "metadata": {},
     "output_type": "execute_result"
    }
   ],
   "source": [
    "pred_subset"
   ]
  },
  {
   "cell_type": "code",
   "execution_count": 114,
   "metadata": {},
   "outputs": [
    {
     "data": {
      "text/plain": [
       "[Phot]    218\n",
       "[Het]       8\n",
       "[Mix]       2\n",
       "Name: prediction, dtype: int64"
      ]
     },
     "execution_count": 114,
     "metadata": {},
     "output_type": "execute_result"
    }
   ],
   "source": [
    "pred_subset['prediction'].value_counts()"
   ]
  },
  {
   "attachments": {},
   "cell_type": "markdown",
   "metadata": {},
   "source": [
    "So only Ditylum and Phaeocystis have contrasting predictions for different genera in the same sample. "
   ]
  },
  {
   "cell_type": "code",
   "execution_count": 115,
   "metadata": {},
   "outputs": [
    {
     "ename": "KeyError",
     "evalue": "'genus'",
     "output_type": "error",
     "traceback": [
      "\u001b[0;31m---------------------------------------------------------------------------\u001b[0m",
      "\u001b[0;31mKeyError\u001b[0m                                  Traceback (most recent call last)",
      "File \u001b[0;32m/opt/homebrew/lib/python3.9/site-packages/pandas/core/indexes/base.py:3621\u001b[0m, in \u001b[0;36mIndex.get_loc\u001b[0;34m(self, key, method, tolerance)\u001b[0m\n\u001b[1;32m   3620\u001b[0m \u001b[39mtry\u001b[39;00m:\n\u001b[0;32m-> 3621\u001b[0m     \u001b[39mreturn\u001b[39;00m \u001b[39mself\u001b[39;49m\u001b[39m.\u001b[39;49m_engine\u001b[39m.\u001b[39;49mget_loc(casted_key)\n\u001b[1;32m   3622\u001b[0m \u001b[39mexcept\u001b[39;00m \u001b[39mKeyError\u001b[39;00m \u001b[39mas\u001b[39;00m err:\n",
      "File \u001b[0;32m/opt/homebrew/lib/python3.9/site-packages/pandas/_libs/index.pyx:136\u001b[0m, in \u001b[0;36mpandas._libs.index.IndexEngine.get_loc\u001b[0;34m()\u001b[0m\n",
      "File \u001b[0;32m/opt/homebrew/lib/python3.9/site-packages/pandas/_libs/index.pyx:163\u001b[0m, in \u001b[0;36mpandas._libs.index.IndexEngine.get_loc\u001b[0;34m()\u001b[0m\n",
      "File \u001b[0;32mpandas/_libs/hashtable_class_helper.pxi:5198\u001b[0m, in \u001b[0;36mpandas._libs.hashtable.PyObjectHashTable.get_item\u001b[0;34m()\u001b[0m\n",
      "File \u001b[0;32mpandas/_libs/hashtable_class_helper.pxi:5206\u001b[0m, in \u001b[0;36mpandas._libs.hashtable.PyObjectHashTable.get_item\u001b[0;34m()\u001b[0m\n",
      "\u001b[0;31mKeyError\u001b[0m: 'genus'",
      "\nThe above exception was the direct cause of the following exception:\n",
      "\u001b[0;31mKeyError\u001b[0m                                  Traceback (most recent call last)",
      "\u001b[1;32m/Users/michiel/gitlab/BPNS_seasonal_MTX/scripts/analysis/trophic_mode_prediction.ipynb Cell 43\u001b[0m in \u001b[0;36m<cell line: 2>\u001b[0;34m()\u001b[0m\n\u001b[1;32m      <a href='vscode-notebook-cell:/Users/michiel/gitlab/BPNS_seasonal_MTX/scripts/analysis/trophic_mode_prediction.ipynb#X50sZmlsZQ%3D%3D?line=0'>1</a>\u001b[0m \u001b[39m# Is odontella a genus that is always predicted as one trophic mode?\u001b[39;00m\n\u001b[0;32m----> <a href='vscode-notebook-cell:/Users/michiel/gitlab/BPNS_seasonal_MTX/scripts/analysis/trophic_mode_prediction.ipynb#X50sZmlsZQ%3D%3D?line=1'>2</a>\u001b[0m pred_subset[pred_subset[\u001b[39m'\u001b[39;49m\u001b[39mgenus\u001b[39;49m\u001b[39m'\u001b[39;49m] \u001b[39m==\u001b[39m \u001b[39m'\u001b[39m\u001b[39mOdontella\u001b[39m\u001b[39m'\u001b[39m][\u001b[39m'\u001b[39m\u001b[39mprediction\u001b[39m\u001b[39m'\u001b[39m]\u001b[39m.\u001b[39mexplode()\u001b[39m.\u001b[39mvalue_counts()\n\u001b[1;32m      <a href='vscode-notebook-cell:/Users/michiel/gitlab/BPNS_seasonal_MTX/scripts/analysis/trophic_mode_prediction.ipynb#X50sZmlsZQ%3D%3D?line=2'>3</a>\u001b[0m \u001b[39m## yes\u001b[39;00m\n\u001b[1;32m      <a href='vscode-notebook-cell:/Users/michiel/gitlab/BPNS_seasonal_MTX/scripts/analysis/trophic_mode_prediction.ipynb#X50sZmlsZQ%3D%3D?line=3'>4</a>\u001b[0m \n\u001b[1;32m      <a href='vscode-notebook-cell:/Users/michiel/gitlab/BPNS_seasonal_MTX/scripts/analysis/trophic_mode_prediction.ipynb#X50sZmlsZQ%3D%3D?line=4'>5</a>\u001b[0m \u001b[39m# Now extract the genera that have variable predictions across samples\u001b[39;00m\n\u001b[1;32m      <a href='vscode-notebook-cell:/Users/michiel/gitlab/BPNS_seasonal_MTX/scripts/analysis/trophic_mode_prediction.ipynb#X50sZmlsZQ%3D%3D?line=5'>6</a>\u001b[0m pred_subset \u001b[39m=\u001b[39m predictions[[\u001b[39m'\u001b[39m\u001b[39msample\u001b[39m\u001b[39m'\u001b[39m, \u001b[39m'\u001b[39m\u001b[39mgenus\u001b[39m\u001b[39m'\u001b[39m, \u001b[39m'\u001b[39m\u001b[39mprediction\u001b[39m\u001b[39m'\u001b[39m]]\n",
      "File \u001b[0;32m/opt/homebrew/lib/python3.9/site-packages/pandas/core/frame.py:3505\u001b[0m, in \u001b[0;36mDataFrame.__getitem__\u001b[0;34m(self, key)\u001b[0m\n\u001b[1;32m   3503\u001b[0m \u001b[39mif\u001b[39;00m \u001b[39mself\u001b[39m\u001b[39m.\u001b[39mcolumns\u001b[39m.\u001b[39mnlevels \u001b[39m>\u001b[39m \u001b[39m1\u001b[39m:\n\u001b[1;32m   3504\u001b[0m     \u001b[39mreturn\u001b[39;00m \u001b[39mself\u001b[39m\u001b[39m.\u001b[39m_getitem_multilevel(key)\n\u001b[0;32m-> 3505\u001b[0m indexer \u001b[39m=\u001b[39m \u001b[39mself\u001b[39;49m\u001b[39m.\u001b[39;49mcolumns\u001b[39m.\u001b[39;49mget_loc(key)\n\u001b[1;32m   3506\u001b[0m \u001b[39mif\u001b[39;00m is_integer(indexer):\n\u001b[1;32m   3507\u001b[0m     indexer \u001b[39m=\u001b[39m [indexer]\n",
      "File \u001b[0;32m/opt/homebrew/lib/python3.9/site-packages/pandas/core/indexes/base.py:3623\u001b[0m, in \u001b[0;36mIndex.get_loc\u001b[0;34m(self, key, method, tolerance)\u001b[0m\n\u001b[1;32m   3621\u001b[0m     \u001b[39mreturn\u001b[39;00m \u001b[39mself\u001b[39m\u001b[39m.\u001b[39m_engine\u001b[39m.\u001b[39mget_loc(casted_key)\n\u001b[1;32m   3622\u001b[0m \u001b[39mexcept\u001b[39;00m \u001b[39mKeyError\u001b[39;00m \u001b[39mas\u001b[39;00m err:\n\u001b[0;32m-> 3623\u001b[0m     \u001b[39mraise\u001b[39;00m \u001b[39mKeyError\u001b[39;00m(key) \u001b[39mfrom\u001b[39;00m \u001b[39merr\u001b[39;00m\n\u001b[1;32m   3624\u001b[0m \u001b[39mexcept\u001b[39;00m \u001b[39mTypeError\u001b[39;00m:\n\u001b[1;32m   3625\u001b[0m     \u001b[39m# If we have a listlike key, _check_indexing_error will raise\u001b[39;00m\n\u001b[1;32m   3626\u001b[0m     \u001b[39m#  InvalidIndexError. Otherwise we fall through and re-raise\u001b[39;00m\n\u001b[1;32m   3627\u001b[0m     \u001b[39m#  the TypeError.\u001b[39;00m\n\u001b[1;32m   3628\u001b[0m     \u001b[39mself\u001b[39m\u001b[39m.\u001b[39m_check_indexing_error(key)\n",
      "\u001b[0;31mKeyError\u001b[0m: 'genus'"
     ]
    }
   ],
   "source": [
    "# Is odontella a genus that is always predicted as one trophic mode?\n",
    "pred_subset[pred_subset['genus'] == 'Odontella']['prediction'].explode().value_counts()\n",
    "## yes\n",
    "\n",
    "# Now extract the genera that have variable predictions across samples\n",
    "pred_subset = predictions[['sample', 'genus', 'prediction']]\n",
    "pred_subset = pred_subset.groupby(['genus'])['prediction'].apply(list).reset_index()\n",
    "\n",
    "# Check if the list in the prediction column contains more than one unique value\n",
    "pred_subset['unique_preds'] = pred_subset['prediction'].apply(lambda x: len(set(x)))\n",
    "\n",
    "# Print the genera that have variable predictions across samples\n",
    "pred_subset[pred_subset['unique_preds'] > 1]['genus'].unique()"
   ]
  },
  {
   "cell_type": "code",
   "execution_count": 97,
   "metadata": {},
   "outputs": [
    {
     "data": {
      "text/plain": [
       "array(['Asterionellopsis', 'Chaetoceros', 'Favella', 'Heterocapsa',\n",
       "       'Leptocylindrus', 'Mesodinium', 'Odontella', 'Pseudo-nitzschia',\n",
       "       'Stephanopyxis', 'Thalassiosira'], dtype=object)"
      ]
     },
     "execution_count": 97,
     "metadata": {},
     "output_type": "execute_result"
    }
   ],
   "source": [
    "# Print the genera that have uniform predictions across samples\n",
    "pred_subset[pred_subset['unique_preds'] == 1]['genus'].unique()"
   ]
  },
  {
   "cell_type": "code",
   "execution_count": 116,
   "metadata": {},
   "outputs": [
    {
     "data": {
      "image/png": "[encoded data removed]",
      "text/plain": [
       "<Figure size 432x288 with 1 Axes>"
      ]
     },
     "metadata": {
      "needs_background": "light"
     },
     "output_type": "display_data"
    }
   ],
   "source": [
    "# Order the months\n",
    "month_order = [\"July_2020\", \"August_2020\", \"September_2020\", \"November_2020\", \n",
    "                \"December_2020\", \"January_2021\", \"February_2021\", \"April_2021\", \n",
    "                \"May_2021\", \"June_2021\", \"July_2021\"]\n",
    "# Plot the count of the three trophic modes per month\n",
    "sns.countplot(data=predictions, x='month', hue='prediction', order=month_order);\n",
    "# X labels should be vertical\n",
    "plt.xticks(rotation=90);"
   ]
  },
  {
   "cell_type": "code",
   "execution_count": 88,
   "metadata": {},
   "outputs": [
    {
     "ename": "KeyError",
     "evalue": "'month'",
     "output_type": "error",
     "traceback": [
      "\u001b[0;31m---------------------------------------------------------------------------\u001b[0m",
      "\u001b[0;31mKeyError\u001b[0m                                  Traceback (most recent call last)",
      "\u001b[1;32m/Users/michiel/gitlab/BPNS_seasonal_MTX/scripts/analysis/trophic_mode_prediction.ipynb Cell 45\u001b[0m in \u001b[0;36m<cell line: 3>\u001b[0;34m()\u001b[0m\n\u001b[1;32m      <a href='vscode-notebook-cell:/Users/michiel/gitlab/BPNS_seasonal_MTX/scripts/analysis/trophic_mode_prediction.ipynb#X53sZmlsZQ%3D%3D?line=0'>1</a>\u001b[0m \u001b[39m# Make a nice heatmap per class that shows the count of trophic modes per month\u001b[39;00m\n\u001b[1;32m      <a href='vscode-notebook-cell:/Users/michiel/gitlab/BPNS_seasonal_MTX/scripts/analysis/trophic_mode_prediction.ipynb#X53sZmlsZQ%3D%3D?line=1'>2</a>\u001b[0m \u001b[39m# First, get the counts per month and class\u001b[39;00m\n\u001b[0;32m----> <a href='vscode-notebook-cell:/Users/michiel/gitlab/BPNS_seasonal_MTX/scripts/analysis/trophic_mode_prediction.ipynb#X53sZmlsZQ%3D%3D?line=2'>3</a>\u001b[0m counts \u001b[39m=\u001b[39m predictions\u001b[39m.\u001b[39;49mgroupby([\u001b[39m'\u001b[39;49m\u001b[39mmonth\u001b[39;49m\u001b[39m'\u001b[39;49m, \u001b[39m'\u001b[39;49m\u001b[39mclass\u001b[39;49m\u001b[39m'\u001b[39;49m, \u001b[39m'\u001b[39;49m\u001b[39mprediction\u001b[39;49m\u001b[39m'\u001b[39;49m])\u001b[39m.\u001b[39msize()\u001b[39m.\u001b[39mreset_index(name\u001b[39m=\u001b[39m\u001b[39m'\u001b[39m\u001b[39mcounts\u001b[39m\u001b[39m'\u001b[39m)\n\u001b[1;32m      <a href='vscode-notebook-cell:/Users/michiel/gitlab/BPNS_seasonal_MTX/scripts/analysis/trophic_mode_prediction.ipynb#X53sZmlsZQ%3D%3D?line=4'>5</a>\u001b[0m \u001b[39m# Get the order of the months correct\u001b[39;00m\n\u001b[1;32m      <a href='vscode-notebook-cell:/Users/michiel/gitlab/BPNS_seasonal_MTX/scripts/analysis/trophic_mode_prediction.ipynb#X53sZmlsZQ%3D%3D?line=5'>6</a>\u001b[0m counts[\u001b[39m'\u001b[39m\u001b[39mmonth\u001b[39m\u001b[39m'\u001b[39m] \u001b[39m=\u001b[39m pd\u001b[39m.\u001b[39mCategorical(counts[\u001b[39m'\u001b[39m\u001b[39mmonth\u001b[39m\u001b[39m'\u001b[39m], categories\u001b[39m=\u001b[39mmonth_order)\n",
      "File \u001b[0;32m/opt/homebrew/lib/python3.9/site-packages/pandas/core/frame.py:7706\u001b[0m, in \u001b[0;36mDataFrame.groupby\u001b[0;34m(self, by, axis, level, as_index, sort, group_keys, squeeze, observed, dropna)\u001b[0m\n\u001b[1;32m   7701\u001b[0m axis \u001b[39m=\u001b[39m \u001b[39mself\u001b[39m\u001b[39m.\u001b[39m_get_axis_number(axis)\n\u001b[1;32m   7703\u001b[0m \u001b[39m# https://github.com/python/mypy/issues/7642\u001b[39;00m\n\u001b[1;32m   7704\u001b[0m \u001b[39m# error: Argument \"squeeze\" to \"DataFrameGroupBy\" has incompatible type\u001b[39;00m\n\u001b[1;32m   7705\u001b[0m \u001b[39m# \"Union[bool, NoDefault]\"; expected \"bool\"\u001b[39;00m\n\u001b[0;32m-> 7706\u001b[0m \u001b[39mreturn\u001b[39;00m DataFrameGroupBy(\n\u001b[1;32m   7707\u001b[0m     obj\u001b[39m=\u001b[39;49m\u001b[39mself\u001b[39;49m,\n\u001b[1;32m   7708\u001b[0m     keys\u001b[39m=\u001b[39;49mby,\n\u001b[1;32m   7709\u001b[0m     axis\u001b[39m=\u001b[39;49maxis,\n\u001b[1;32m   7710\u001b[0m     level\u001b[39m=\u001b[39;49mlevel,\n\u001b[1;32m   7711\u001b[0m     as_index\u001b[39m=\u001b[39;49mas_index,\n\u001b[1;32m   7712\u001b[0m     sort\u001b[39m=\u001b[39;49msort,\n\u001b[1;32m   7713\u001b[0m     group_keys\u001b[39m=\u001b[39;49mgroup_keys,\n\u001b[1;32m   7714\u001b[0m     squeeze\u001b[39m=\u001b[39;49msqueeze,  \u001b[39m# type: ignore[arg-type]\u001b[39;49;00m\n\u001b[1;32m   7715\u001b[0m     observed\u001b[39m=\u001b[39;49mobserved,\n\u001b[1;32m   7716\u001b[0m     dropna\u001b[39m=\u001b[39;49mdropna,\n\u001b[1;32m   7717\u001b[0m )\n",
      "File \u001b[0;32m/opt/homebrew/lib/python3.9/site-packages/pandas/core/groupby/groupby.py:882\u001b[0m, in \u001b[0;36mGroupBy.__init__\u001b[0;34m(self, obj, keys, axis, level, grouper, exclusions, selection, as_index, sort, group_keys, squeeze, observed, mutated, dropna)\u001b[0m\n\u001b[1;32m    879\u001b[0m \u001b[39mif\u001b[39;00m grouper \u001b[39mis\u001b[39;00m \u001b[39mNone\u001b[39;00m:\n\u001b[1;32m    880\u001b[0m     \u001b[39mfrom\u001b[39;00m \u001b[39mpandas\u001b[39;00m\u001b[39m.\u001b[39;00m\u001b[39mcore\u001b[39;00m\u001b[39m.\u001b[39;00m\u001b[39mgroupby\u001b[39;00m\u001b[39m.\u001b[39;00m\u001b[39mgrouper\u001b[39;00m \u001b[39mimport\u001b[39;00m get_grouper\n\u001b[0;32m--> 882\u001b[0m     grouper, exclusions, obj \u001b[39m=\u001b[39m get_grouper(\n\u001b[1;32m    883\u001b[0m         obj,\n\u001b[1;32m    884\u001b[0m         keys,\n\u001b[1;32m    885\u001b[0m         axis\u001b[39m=\u001b[39;49maxis,\n\u001b[1;32m    886\u001b[0m         level\u001b[39m=\u001b[39;49mlevel,\n\u001b[1;32m    887\u001b[0m         sort\u001b[39m=\u001b[39;49msort,\n\u001b[1;32m    888\u001b[0m         observed\u001b[39m=\u001b[39;49mobserved,\n\u001b[1;32m    889\u001b[0m         mutated\u001b[39m=\u001b[39;49m\u001b[39mself\u001b[39;49m\u001b[39m.\u001b[39;49mmutated,\n\u001b[1;32m    890\u001b[0m         dropna\u001b[39m=\u001b[39;49m\u001b[39mself\u001b[39;49m\u001b[39m.\u001b[39;49mdropna,\n\u001b[1;32m    891\u001b[0m     )\n\u001b[1;32m    893\u001b[0m \u001b[39mself\u001b[39m\u001b[39m.\u001b[39mobj \u001b[39m=\u001b[39m obj\n\u001b[1;32m    894\u001b[0m \u001b[39mself\u001b[39m\u001b[39m.\u001b[39maxis \u001b[39m=\u001b[39m obj\u001b[39m.\u001b[39m_get_axis_number(axis)\n",
      "File \u001b[0;32m/opt/homebrew/lib/python3.9/site-packages/pandas/core/groupby/grouper.py:882\u001b[0m, in \u001b[0;36mget_grouper\u001b[0;34m(obj, key, axis, level, sort, observed, mutated, validate, dropna)\u001b[0m\n\u001b[1;32m    880\u001b[0m         in_axis, level, gpr \u001b[39m=\u001b[39m \u001b[39mFalse\u001b[39;00m, gpr, \u001b[39mNone\u001b[39;00m\n\u001b[1;32m    881\u001b[0m     \u001b[39melse\u001b[39;00m:\n\u001b[0;32m--> 882\u001b[0m         \u001b[39mraise\u001b[39;00m \u001b[39mKeyError\u001b[39;00m(gpr)\n\u001b[1;32m    883\u001b[0m \u001b[39melif\u001b[39;00m \u001b[39misinstance\u001b[39m(gpr, Grouper) \u001b[39mand\u001b[39;00m gpr\u001b[39m.\u001b[39mkey \u001b[39mis\u001b[39;00m \u001b[39mnot\u001b[39;00m \u001b[39mNone\u001b[39;00m:\n\u001b[1;32m    884\u001b[0m     \u001b[39m# Add key to exclusions\u001b[39;00m\n\u001b[1;32m    885\u001b[0m     exclusions\u001b[39m.\u001b[39madd(gpr\u001b[39m.\u001b[39mkey)\n",
      "\u001b[0;31mKeyError\u001b[0m: 'month'"
     ]
    }
   ],
   "source": [
    "# Make a nice heatmap per class that shows the count of trophic modes per month\n",
    "# First, get the counts per month and class\n",
    "counts = predictions.groupby(['month', 'class', 'prediction']).size().reset_index(name='counts')\n",
    "\n",
    "# Get the order of the months correct\n",
    "counts['month'] = pd.Categorical(counts['month'], categories=month_order)\n",
    "# Create a heatmap for each class\n",
    "for c in counts['class'].unique():\n",
    "    # Get the counts for this class\n",
    "    c_counts = counts[counts['class'] == c]\n",
    "    # Pivot the dataframe\n",
    "    c_counts = c_counts.pivot(index='prediction', columns='month', values='counts')\n",
    "    # Plot the heatmap\n",
    "    sns.heatmap(c_counts, cmap='YlGnBu', annot=True)\n",
    "    # Set the title\n",
    "    plt.title(c)\n",
    "    # Save the figure\n",
    "    plt.savefig(f'../../figures/functional_analysis/trophic_mode_average_count_per_sample_heatmap_{c}.png', dpi=600, bbox_inches='tight')\n",
    "    # Show the figure\n",
    "    plt.show()\n"
   ]
  },
  {
   "cell_type": "code",
   "execution_count": 112,
   "metadata": {},
   "outputs": [
    {
     "data": {
      "image/png": "[encoded data removed]",
      "text/plain": [
       "<Figure size 432x288 with 2 Axes>"
      ]
     },
     "metadata": {
      "needs_background": "light"
     },
     "output_type": "display_data"
    },
    {
     "data": {
      "image/png": "[encoded data removed]",
      "text/plain": [
       "<Figure size 432x288 with 2 Axes>"
      ]
     },
     "metadata": {
      "needs_background": "light"
     },
     "output_type": "display_data"
    },
    {
     "data": {
      "image/png": "[encoded data removed]",
      "text/plain": [
       "<Figure size 432x288 with 2 Axes>"
      ]
     },
     "metadata": {
      "needs_background": "light"
     },
     "output_type": "display_data"
    },
    {
     "data": {
      "image/png": "[encoded data removed]",
      "text/plain": [
       "<Figure size 432x288 with 2 Axes>"
      ]
     },
     "metadata": {
      "needs_background": "light"
     },
     "output_type": "display_data"
    },
    {
     "data": {
      "image/png": "[encoded data removed]",
      "text/plain": [
       "<Figure size 432x288 with 2 Axes>"
      ]
     },
     "metadata": {
      "needs_background": "light"
     },
     "output_type": "display_data"
    }
   ],
   "source": [
    "# Make a nice heatmap per class that shows the proportion of trophic modes per month\n",
    "# First, get the counts per month and class\n",
    "counts = predictions.groupby(['month', 'class', 'prediction']).size().reset_index(name='counts')\n",
    "# Change the counts to proportions\n",
    "counts['counts'] = counts.groupby(['month', 'class'])['counts'].apply(lambda x: x / float(x.sum()))\n",
    "# Get the order of the months correct\n",
    "counts['month'] = pd.Categorical(counts['month'], categories=month_order)\n",
    "# Create a heatmap for each class\n",
    "for c in counts['class'].unique():\n",
    "    # Get the counts for this class\n",
    "    c_counts = counts[counts['class'] == c]\n",
    "    # Pivot the dataframe\n",
    "    c_counts = c_counts.pivot(index='prediction', columns='month', values='counts')\n",
    "    # Plot the heatmap\n",
    "    sns.heatmap(c_counts, cmap='YlGnBu', annot=True, fmt='.2f', vmin=0, vmax=1)\n",
    "    # Set the title\n",
    "    plt.title(c)\n",
    "    # Save the figure\n",
    "    plt.savefig(f'../../figures/functional_analysis/trophic_mode_heatmap_{c}.png', dpi=600, bbox_inches='tight')\n",
    "    # Show the figure\n",
    "    plt.show()\n"
   ]
  },
  {
   "cell_type": "code",
   "execution_count": 113,
   "metadata": {},
   "outputs": [
    {
     "data": {
      "application/vnd.plotly.v1+json": {
       "config": {
        "plotlyServerURL": "https://plot.ly"
       },
       "data": [
        {
         "alignmentgroup": "True",
         "bingroup": "y",
         "histfunc": "sum",
         "hovertemplate": "prediction=Phot<br>sum of relative abundance=%{x}<br>month=%{y}<extra></extra>",
         "legendgroup": "Phot",
         "marker": {
          "color": "green",
          "pattern": {
           "shape": ""
          }
         },
         "name": "Phot",
         "offsetgroup": "Phot",
         "orientation": "h",
         "showlegend": true,
         "type": "histogram",
         "x": [
          87.32394366197182,
          93.75,
          80,
          80.64516129032258,
          65.625,
          83.33333333333333,
          93.54838709677419,
          90.19607843137256,
          88.88888888888889,
          82.6086956521739,
          84.61538461538461
         ],
         "xaxis": "x",
         "y": [
          "September_2020",
          "November_2020",
          "May_2021",
          "June_2021",
          "July_2021",
          "July_2020",
          "January_2021",
          "February_2021",
          "December_2020",
          "August_2020",
          "April_2021"
         ],
         "yaxis": "y"
        },
        {
         "alignmentgroup": "True",
         "bingroup": "y",
         "histfunc": "sum",
         "hovertemplate": "prediction=Het<br>sum of relative abundance=%{x}<br>month=%{y}<extra></extra>",
         "legendgroup": "Het",
         "marker": {
          "color": "red",
          "pattern": {
           "shape": ""
          }
         },
         "name": "Het",
         "offsetgroup": "Het",
         "orientation": "h",
         "showlegend": true,
         "type": "histogram",
         "x": [
          12.67605633802817,
          6.25,
          20,
          19.35483870967742,
          34.375,
          16.666666666666668,
          6.451612903225806,
          9.803921568627452,
          11.11111111111111,
          13.043478260869565,
          15.384615384615385
         ],
         "xaxis": "x",
         "y": [
          "September_2020",
          "November_2020",
          "May_2021",
          "June_2021",
          "July_2021",
          "July_2020",
          "January_2021",
          "February_2021",
          "December_2020",
          "August_2020",
          "April_2021"
         ],
         "yaxis": "y"
        },
        {
         "alignmentgroup": "True",
         "bingroup": "y",
         "histfunc": "sum",
         "hovertemplate": "prediction=Mix<br>sum of relative abundance=%{x}<br>month=%{y}<extra></extra>",
         "legendgroup": "Mix",
         "marker": {
          "color": "black",
          "pattern": {
           "shape": ""
          }
         },
         "name": "Mix",
         "offsetgroup": "Mix",
         "orientation": "h",
         "showlegend": true,
         "type": "histogram",
         "x": [
          4.3478260869565215
         ],
         "xaxis": "x",
         "y": [
          "August_2020"
         ],
         "yaxis": "y"
        }
       ],
       "layout": {
        "autosize": false,
        "barmode": "relative",
        "font": {
         "family": "Times New Roman, serif",
         "size": 8
        },
        "height": 283.4645669295,
        "legend": {
         "title": {
          "text": "prediction"
         },
         "tracegroupgap": 0
        },
        "margin": {
         "b": 25,
         "l": 0,
         "r": 25,
         "t": 25
        },
        "template": {
         "data": {
          "bar": [
           {
            "error_x": {
             "color": "#2a3f5f"
            },
            "error_y": {
             "color": "#2a3f5f"
            },
            "marker": {
             "line": {
              "color": "#E5ECF6",
              "width": 0.5
             },
             "pattern": {
              "fillmode": "overlay",
              "size": 10,
              "solidity": 0.2
             }
            },
            "type": "bar"
           }
          ],
          "barpolar": [
           {
            "marker": {
             "line": {
              "color": "#E5ECF6",
              "width": 0.5
             },
             "pattern": {
              "fillmode": "overlay",
              "size": 10,
              "solidity": 0.2
             }
            },
            "type": "barpolar"
           }
          ],
          "carpet": [
           {
            "aaxis": {
             "endlinecolor": "#2a3f5f",
             "gridcolor": "white",
             "linecolor": "white",
             "minorgridcolor": "white",
             "startlinecolor": "#2a3f5f"
            },
            "baxis": {
             "endlinecolor": "#2a3f5f",
             "gridcolor": "white",
             "linecolor": "white",
             "minorgridcolor": "white",
             "startlinecolor": "#2a3f5f"
            },
            "type": "carpet"
           }
          ],
          "choropleth": [
           {
            "colorbar": {
             "outlinewidth": 0,
             "ticks": ""
            },
            "type": "choropleth"
           }
          ],
          "contour": [
           {
            "colorbar": {
             "outlinewidth": 0,
             "ticks": ""
            },
            "colorscale": [
             [
              0,
              "#0d0887"
             ],
             [
              0.1111111111111111,
              "#46039f"
             ],
             [
              0.2222222222222222,
              "#7201a8"
             ],
             [
              0.3333333333333333,
              "#9c179e"
             ],
             [
              0.4444444444444444,
              "#bd3786"
             ],
             [
              0.5555555555555556,
              "#d8576b"
             ],
             [
              0.6666666666666666,
              "#ed7953"
             ],
             [
              0.7777777777777778,
              "#fb9f3a"
             ],
             [
              0.8888888888888888,
              "#fdca26"
             ],
             [
              1,
              "#f0f921"
             ]
            ],
            "type": "contour"
           }
          ],
          "contourcarpet": [
           {
            "colorbar": {
             "outlinewidth": 0,
             "ticks": ""
            },
            "type": "contourcarpet"
           }
          ],
          "heatmap": [
           {
            "colorbar": {
             "outlinewidth": 0,
             "ticks": ""
            },
            "colorscale": [
             [
              0,
              "#0d0887"
             ],
             [
              0.1111111111111111,
              "#46039f"
             ],
             [
              0.2222222222222222,
              "#7201a8"
             ],
             [
              0.3333333333333333,
              "#9c179e"
             ],
             [
              0.4444444444444444,
              "#bd3786"
             ],
             [
              0.5555555555555556,
              "#d8576b"
             ],
             [
              0.6666666666666666,
              "#ed7953"
             ],
             [
              0.7777777777777778,
              "#fb9f3a"
             ],
             [
              0.8888888888888888,
              "#fdca26"
             ],
             [
              1,
              "#f0f921"
             ]
            ],
            "type": "heatmap"
           }
          ],
          "heatmapgl": [
           {
            "colorbar": {
             "outlinewidth": 0,
             "ticks": ""
            },
            "colorscale": [
             [
              0,
              "#0d0887"
             ],
             [
              0.1111111111111111,
              "#46039f"
             ],
             [
              0.2222222222222222,
              "#7201a8"
             ],
             [
              0.3333333333333333,
              "#9c179e"
             ],
             [
              0.4444444444444444,
              "#bd3786"
             ],
             [
              0.5555555555555556,
              "#d8576b"
             ],
             [
              0.6666666666666666,
              "#ed7953"
             ],
             [
              0.7777777777777778,
              "#fb9f3a"
             ],
             [
              0.8888888888888888,
              "#fdca26"
             ],
             [
              1,
              "#f0f921"
             ]
            ],
            "type": "heatmapgl"
           }
          ],
          "histogram": [
           {
            "marker": {
             "pattern": {
              "fillmode": "overlay",
              "size": 10,
              "solidity": 0.2
             }
            },
            "type": "histogram"
           }
          ],
          "histogram2d": [
           {
            "colorbar": {
             "outlinewidth": 0,
             "ticks": ""
            },
            "colorscale": [
             [
              0,
              "#0d0887"
             ],
             [
              0.1111111111111111,
              "#46039f"
             ],
             [
              0.2222222222222222,
              "#7201a8"
             ],
             [
              0.3333333333333333,
              "#9c179e"
             ],
             [
              0.4444444444444444,
              "#bd3786"
             ],
             [
              0.5555555555555556,
              "#d8576b"
             ],
             [
              0.6666666666666666,
              "#ed7953"
             ],
             [
              0.7777777777777778,
              "#fb9f3a"
             ],
             [
              0.8888888888888888,
              "#fdca26"
             ],
             [
              1,
              "#f0f921"
             ]
            ],
            "type": "histogram2d"
           }
          ],
          "histogram2dcontour": [
           {
            "colorbar": {
             "outlinewidth": 0,
             "ticks": ""
            },
            "colorscale": [
             [
              0,
              "#0d0887"
             ],
             [
              0.1111111111111111,
              "#46039f"
             ],
             [
              0.2222222222222222,
              "#7201a8"
             ],
             [
              0.3333333333333333,
              "#9c179e"
             ],
             [
              0.4444444444444444,
              "#bd3786"
             ],
             [
              0.5555555555555556,
              "#d8576b"
             ],
             [
              0.6666666666666666,
              "#ed7953"
             ],
             [
              0.7777777777777778,
              "#fb9f3a"
             ],
             [
              0.8888888888888888,
              "#fdca26"
             ],
             [
              1,
              "#f0f921"
             ]
            ],
            "type": "histogram2dcontour"
           }
          ],
          "mesh3d": [
           {
            "colorbar": {
             "outlinewidth": 0,
             "ticks": ""
            },
            "type": "mesh3d"
           }
          ],
          "parcoords": [
           {
            "line": {
             "colorbar": {
              "outlinewidth": 0,
              "ticks": ""
             }
            },
            "type": "parcoords"
           }
          ],
          "pie": [
           {
            "automargin": true,
            "type": "pie"
           }
          ],
          "scatter": [
           {
            "marker": {
             "colorbar": {
              "outlinewidth": 0,
              "ticks": ""
             }
            },
            "type": "scatter"
           }
          ],
          "scatter3d": [
           {
            "line": {
             "colorbar": {
              "outlinewidth": 0,
              "ticks": ""
             }
            },
            "marker": {
             "colorbar": {
              "outlinewidth": 0,
              "ticks": ""
             }
            },
            "type": "scatter3d"
           }
          ],
          "scattercarpet": [
           {
            "marker": {
             "colorbar": {
              "outlinewidth": 0,
              "ticks": ""
             }
            },
            "type": "scattercarpet"
           }
          ],
          "scattergeo": [
           {
            "marker": {
             "colorbar": {
              "outlinewidth": 0,
              "ticks": ""
             }
            },
            "type": "scattergeo"
           }
          ],
          "scattergl": [
           {
            "marker": {
             "colorbar": {
              "outlinewidth": 0,
              "ticks": ""
             }
            },
            "type": "scattergl"
           }
          ],
          "scattermapbox": [
           {
            "marker": {
             "colorbar": {
              "outlinewidth": 0,
              "ticks": ""
             }
            },
            "type": "scattermapbox"
           }
          ],
          "scatterpolar": [
           {
            "marker": {
             "colorbar": {
              "outlinewidth": 0,
              "ticks": ""
             }
            },
            "type": "scatterpolar"
           }
          ],
          "scatterpolargl": [
           {
            "marker": {
             "colorbar": {
              "outlinewidth": 0,
              "ticks": ""
             }
            },
            "type": "scatterpolargl"
           }
          ],
          "scatterternary": [
           {
            "marker": {
             "colorbar": {
              "outlinewidth": 0,
              "ticks": ""
             }
            },
            "type": "scatterternary"
           }
          ],
          "surface": [
           {
            "colorbar": {
             "outlinewidth": 0,
             "ticks": ""
            },
            "colorscale": [
             [
              0,
              "#0d0887"
             ],
             [
              0.1111111111111111,
              "#46039f"
             ],
             [
              0.2222222222222222,
              "#7201a8"
             ],
             [
              0.3333333333333333,
              "#9c179e"
             ],
             [
              0.4444444444444444,
              "#bd3786"
             ],
             [
              0.5555555555555556,
              "#d8576b"
             ],
             [
              0.6666666666666666,
              "#ed7953"
             ],
             [
              0.7777777777777778,
              "#fb9f3a"
             ],
             [
              0.8888888888888888,
              "#fdca26"
             ],
             [
              1,
              "#f0f921"
             ]
            ],
            "type": "surface"
           }
          ],
          "table": [
           {
            "cells": {
             "fill": {
              "color": "#EBF0F8"
             },
             "line": {
              "color": "white"
             }
            },
            "header": {
             "fill": {
              "color": "#C8D4E3"
             },
             "line": {
              "color": "white"
             }
            },
            "type": "table"
           }
          ]
         },
         "layout": {
          "annotationdefaults": {
           "arrowcolor": "#2a3f5f",
           "arrowhead": 0,
           "arrowwidth": 1
          },
          "autotypenumbers": "strict",
          "coloraxis": {
           "colorbar": {
            "outlinewidth": 0,
            "ticks": ""
           }
          },
          "colorscale": {
           "diverging": [
            [
             0,
             "#8e0152"
            ],
            [
             0.1,
             "#c51b7d"
            ],
            [
             0.2,
             "#de77ae"
            ],
            [
             0.3,
             "#f1b6da"
            ],
            [
             0.4,
             "#fde0ef"
            ],
            [
             0.5,
             "#f7f7f7"
            ],
            [
             0.6,
             "#e6f5d0"
            ],
            [
             0.7,
             "#b8e186"
            ],
            [
             0.8,
             "#7fbc41"
            ],
            [
             0.9,
             "#4d9221"
            ],
            [
             1,
             "#276419"
            ]
           ],
           "sequential": [
            [
             0,
             "#0d0887"
            ],
            [
             0.1111111111111111,
             "#46039f"
            ],
            [
             0.2222222222222222,
             "#7201a8"
            ],
            [
             0.3333333333333333,
             "#9c179e"
            ],
            [
             0.4444444444444444,
             "#bd3786"
            ],
            [
             0.5555555555555556,
             "#d8576b"
            ],
            [
             0.6666666666666666,
             "#ed7953"
            ],
            [
             0.7777777777777778,
             "#fb9f3a"
            ],
            [
             0.8888888888888888,
             "#fdca26"
            ],
            [
             1,
             "#f0f921"
            ]
           ],
           "sequentialminus": [
            [
             0,
             "#0d0887"
            ],
            [
             0.1111111111111111,
             "#46039f"
            ],
            [
             0.2222222222222222,
             "#7201a8"
            ],
            [
             0.3333333333333333,
             "#9c179e"
            ],
            [
             0.4444444444444444,
             "#bd3786"
            ],
            [
             0.5555555555555556,
             "#d8576b"
            ],
            [
             0.6666666666666666,
             "#ed7953"
            ],
            [
             0.7777777777777778,
             "#fb9f3a"
            ],
            [
             0.8888888888888888,
             "#fdca26"
            ],
            [
             1,
             "#f0f921"
            ]
           ]
          },
          "colorway": [
           "#636efa",
           "#EF553B",
           "#00cc96",
           "#ab63fa",
           "#FFA15A",
           "#19d3f3",
           "#FF6692",
           "#B6E880",
           "#FF97FF",
           "#FECB52"
          ],
          "font": {
           "color": "#2a3f5f"
          },
          "geo": {
           "bgcolor": "white",
           "lakecolor": "white",
           "landcolor": "#E5ECF6",
           "showlakes": true,
           "showland": true,
           "subunitcolor": "white"
          },
          "hoverlabel": {
           "align": "left"
          },
          "hovermode": "closest",
          "mapbox": {
           "style": "light"
          },
          "paper_bgcolor": "white",
          "plot_bgcolor": "#E5ECF6",
          "polar": {
           "angularaxis": {
            "gridcolor": "white",
            "linecolor": "white",
            "ticks": ""
           },
           "bgcolor": "#E5ECF6",
           "radialaxis": {
            "gridcolor": "white",
            "linecolor": "white",
            "ticks": ""
           }
          },
          "scene": {
           "xaxis": {
            "backgroundcolor": "#E5ECF6",
            "gridcolor": "white",
            "gridwidth": 2,
            "linecolor": "white",
            "showbackground": true,
            "ticks": "",
            "zerolinecolor": "white"
           },
           "yaxis": {
            "backgroundcolor": "#E5ECF6",
            "gridcolor": "white",
            "gridwidth": 2,
            "linecolor": "white",
            "showbackground": true,
            "ticks": "",
            "zerolinecolor": "white"
           },
           "zaxis": {
            "backgroundcolor": "#E5ECF6",
            "gridcolor": "white",
            "gridwidth": 2,
            "linecolor": "white",
            "showbackground": true,
            "ticks": "",
            "zerolinecolor": "white"
           }
          },
          "shapedefaults": {
           "line": {
            "color": "#2a3f5f"
           }
          },
          "ternary": {
           "aaxis": {
            "gridcolor": "white",
            "linecolor": "white",
            "ticks": ""
           },
           "baxis": {
            "gridcolor": "white",
            "linecolor": "white",
            "ticks": ""
           },
           "bgcolor": "#E5ECF6",
           "caxis": {
            "gridcolor": "white",
            "linecolor": "white",
            "ticks": ""
           }
          },
          "title": {
           "x": 0.05
          },
          "xaxis": {
           "automargin": true,
           "gridcolor": "white",
           "linecolor": "white",
           "ticks": "",
           "title": {
            "standoff": 15
           },
           "zerolinecolor": "white",
           "zerolinewidth": 2
          },
          "yaxis": {
           "automargin": true,
           "gridcolor": "white",
           "linecolor": "white",
           "ticks": "",
           "title": {
            "standoff": 15
           },
           "zerolinecolor": "white",
           "zerolinewidth": 2
          }
         }
        },
        "width": 321.2598425201,
        "xaxis": {
         "anchor": "y",
         "domain": [
          0,
          1
         ],
         "title": {
          "text": "Ratio of predicted trophic modes (%)"
         }
        },
        "yaxis": {
         "anchor": "x",
         "categoryarray": [
          "July_2021",
          "June_2021",
          "May_2021",
          "April_2021",
          "February_2021",
          "January_2021",
          "December_2020",
          "November_2020",
          "September_2020",
          "August_2020",
          "July_2020"
         ],
         "categoryorder": "array",
         "domain": [
          0,
          1
         ],
         "title": {}
        }
       }
      }
     },
     "metadata": {},
     "output_type": "display_data"
    }
   ],
   "source": [
    "# Calculate relative abundance of each prediction per month\n",
    "rel_abundance = (predictions[['month', 'station', 'prediction']].groupby(['month', 'prediction'])\n",
    "                       .size()\n",
    "                       .groupby(level=0).apply(lambda x: 100 * x / x.sum())\n",
    "                       .reset_index(name='relative abundance'))\n",
    "\n",
    "# Set the color palette\n",
    "color_map = {\n",
    "    'Phot': 'green',\n",
    "    'Mix': 'black',\n",
    "    'Het': 'red'\n",
    "}\n",
    "\n",
    "# Plot the relative abundance of the three trophic modes per month\n",
    "fig = px.histogram(rel_abundance.sort_values(\"month\", ascending=False),\n",
    "             x = \"relative abundance\",\n",
    "             y = \"month\",\n",
    "             color = \"prediction\",\n",
    "             orientation='h',\n",
    "             color_discrete_map=color_map,\n",
    "             category_orders={\"month\": [\"July_2020\", \"August_2020\", \"September_2020\",\n",
    "                \"November_2020\", \"December_2020\", \"January_2021\",\n",
    "                \"February_2021\", \"April_2021\", \"May_2021\",\n",
    "                \"June_2021\", \"July_2021\"]})\n",
    "\n",
    "pixels_per_cm = 37.7952755906\n",
    "\n",
    "fig.update_layout(\n",
    "    font=dict(\n",
    "        family=\"Times New Roman, serif\",  # Set the font family to Times New Roman\n",
    "        size=8  # Set the font size\n",
    "    ),\n",
    "    autosize=False,\n",
    "    width= 8.5 * pixels_per_cm,\n",
    "    height= 7.5 * pixels_per_cm,\n",
    "    margin=dict( # Set the margins\n",
    "        l=0,  # Left margin\n",
    "        r=25,  # Right margin\n",
    "        b=25,  # Bottom margin\n",
    "        t=25  # Top margin\n",
    "    ),\n",
    "    xaxis_title_text='Ratio of predicted trophic modes (%)',\n",
    "    yaxis_title_text=None,\n",
    ")\n",
    "\n",
    "fig.show()\n",
    "\n",
    "# save figure as svg\n",
    "fig.write_image(\"../../figures/functional_analysis/predicted_trophic_mode_ratios_per_month.svg\")"
   ]
  },
  {
   "cell_type": "code",
   "execution_count": 115,
   "metadata": {},
   "outputs": [
    {
     "data": {
      "application/vnd.plotly.v1+json": {
       "config": {
        "plotlyServerURL": "https://plot.ly"
       },
       "data": [
        {
         "hovertemplate": "prediction=Phot<br>month=%{x}<br>relative abundance=%{y}<extra></extra>",
         "legendgroup": "Phot",
         "marker": {
          "color": "green",
          "symbol": "circle"
         },
         "mode": "markers",
         "name": "Phot",
         "orientation": "v",
         "showlegend": true,
         "type": "scatter",
         "x": [
          "2021-01-01T00:00:00",
          "2021-01-01T00:00:00",
          "2021-01-01T00:00:00",
          "2021-01-01T00:00:00",
          "2021-01-01T00:00:00",
          "2021-02-01T00:00:00",
          "2021-02-01T00:00:00",
          "2021-02-01T00:00:00",
          "2021-02-01T00:00:00",
          "2021-02-01T00:00:00",
          "2021-04-01T00:00:00",
          "2021-04-01T00:00:00",
          "2021-04-01T00:00:00",
          "2021-04-01T00:00:00",
          "2021-05-01T00:00:00",
          "2021-05-01T00:00:00",
          "2021-05-01T00:00:00",
          "2021-05-01T00:00:00",
          "2021-05-01T00:00:00",
          "2021-05-01T00:00:00",
          "2021-06-01T00:00:00",
          "2021-06-01T00:00:00",
          "2021-06-01T00:00:00",
          "2021-06-01T00:00:00",
          "2021-06-01T00:00:00",
          "2021-06-01T00:00:00",
          "2021-07-01T00:00:00",
          "2021-07-01T00:00:00",
          "2021-07-01T00:00:00",
          "2021-07-01T00:00:00",
          "2021-07-01T00:00:00",
          "2021-07-01T00:00:00",
          "2020-07-01T00:00:00",
          "2020-07-01T00:00:00",
          "2020-07-01T00:00:00",
          "2020-07-01T00:00:00",
          "2020-07-01T00:00:00",
          "2020-07-01T00:00:00",
          "2020-08-01T00:00:00",
          "2020-08-01T00:00:00",
          "2020-08-01T00:00:00",
          "2020-08-01T00:00:00",
          "2020-08-01T00:00:00",
          "2020-08-01T00:00:00",
          "2020-09-01T00:00:00",
          "2020-09-01T00:00:00",
          "2020-09-01T00:00:00",
          "2020-09-01T00:00:00",
          "2020-09-01T00:00:00",
          "2020-09-01T00:00:00",
          "2020-11-01T00:00:00",
          "2020-11-01T00:00:00",
          "2020-11-01T00:00:00",
          "2020-11-01T00:00:00",
          "2020-11-01T00:00:00",
          "2020-11-01T00:00:00",
          "2020-12-01T00:00:00",
          "2020-12-01T00:00:00",
          "2020-12-01T00:00:00",
          "2020-12-01T00:00:00",
          "2020-12-01T00:00:00",
          "2020-12-01T00:00:00"
         ],
         "xaxis": "x",
         "y": [
          100,
          100,
          50,
          75,
          100,
          92.3076923076923,
          81.81818181818181,
          92.3076923076923,
          100,
          90,
          90,
          80,
          80,
          83.33333333333333,
          85.71428571428571,
          83.33333333333333,
          66.66666666666667,
          75,
          85.71428571428571,
          66.66666666666667,
          50,
          90,
          75,
          85.71428571428571,
          75,
          75,
          80,
          60,
          50,
          80,
          25,
          75,
          80,
          100,
          75,
          66.66666666666667,
          75,
          75,
          75,
          100,
          60,
          100,
          100,
          80,
          84.61538461538461,
          92.85714285714286,
          92.85714285714286,
          85.71428571428571,
          85.71428571428571,
          81.25,
          100,
          100,
          100,
          80,
          75,
          90.9090909090909,
          88.88888888888889,
          80,
          90,
          100,
          80,
          100
         ],
         "yaxis": "y"
        },
        {
         "hovertemplate": "<b>LOWESS trendline</b><br><br>prediction=Phot<br>month=%{x}<br>relative abundance=%{y} <b>(trend)</b><extra></extra>",
         "legendgroup": "Phot",
         "marker": {
          "color": "green",
          "symbol": "circle"
         },
         "mode": "lines",
         "name": "Phot",
         "showlegend": false,
         "type": "scatter",
         "x": [
          "2020-07-01T00:00:00",
          "2020-07-01T00:00:00",
          "2020-07-01T00:00:00",
          "2020-07-01T00:00:00",
          "2020-07-01T00:00:00",
          "2020-07-01T00:00:00",
          "2020-08-01T00:00:00",
          "2020-08-01T00:00:00",
          "2020-08-01T00:00:00",
          "2020-08-01T00:00:00",
          "2020-08-01T00:00:00",
          "2020-08-01T00:00:00",
          "2020-09-01T00:00:00",
          "2020-09-01T00:00:00",
          "2020-09-01T00:00:00",
          "2020-09-01T00:00:00",
          "2020-09-01T00:00:00",
          "2020-09-01T00:00:00",
          "2020-11-01T00:00:00",
          "2020-11-01T00:00:00",
          "2020-11-01T00:00:00",
          "2020-11-01T00:00:00",
          "2020-11-01T00:00:00",
          "2020-11-01T00:00:00",
          "2020-12-01T00:00:00",
          "2020-12-01T00:00:00",
          "2020-12-01T00:00:00",
          "2020-12-01T00:00:00",
          "2020-12-01T00:00:00",
          "2020-12-01T00:00:00",
          "2021-01-01T00:00:00",
          "2021-01-01T00:00:00",
          "2021-01-01T00:00:00",
          "2021-01-01T00:00:00",
          "2021-01-01T00:00:00",
          "2021-02-01T00:00:00",
          "2021-02-01T00:00:00",
          "2021-02-01T00:00:00",
          "2021-02-01T00:00:00",
          "2021-02-01T00:00:00",
          "2021-04-01T00:00:00",
          "2021-04-01T00:00:00",
          "2021-04-01T00:00:00",
          "2021-04-01T00:00:00",
          "2021-05-01T00:00:00",
          "2021-05-01T00:00:00",
          "2021-05-01T00:00:00",
          "2021-05-01T00:00:00",
          "2021-05-01T00:00:00",
          "2021-05-01T00:00:00",
          "2021-06-01T00:00:00",
          "2021-06-01T00:00:00",
          "2021-06-01T00:00:00",
          "2021-06-01T00:00:00",
          "2021-06-01T00:00:00",
          "2021-06-01T00:00:00",
          "2021-07-01T00:00:00",
          "2021-07-01T00:00:00",
          "2021-07-01T00:00:00",
          "2021-07-01T00:00:00",
          "2021-07-01T00:00:00",
          "2021-07-01T00:00:00"
         ],
         "xaxis": "x",
         "y": [
          81.57545212305334,
          81.57545212305334,
          81.57545212305334,
          81.57545212305334,
          81.57545212305334,
          81.57545212305334,
          83.62384354607782,
          83.62384354607782,
          83.62384354607782,
          83.62384354607782,
          83.62384354607782,
          83.62384354607782,
          85.59589209456809,
          85.59589209456809,
          85.59589209456809,
          85.59589209456809,
          85.59589209456809,
          85.59589209456809,
          89.34164111779174,
          89.34164111779174,
          89.34164111779174,
          89.34164111779174,
          89.34164111779174,
          89.34164111779174,
          90.14565615666126,
          90.14565615666126,
          90.14565615666126,
          90.14565615666126,
          90.14565615666126,
          90.14565615666126,
          89.42778787333935,
          89.42778787333935,
          89.42778787333935,
          89.42778787333935,
          89.42778787333935,
          87.26996555495965,
          87.26996555495965,
          87.26996555495965,
          87.26996555495965,
          87.26996555495965,
          82.13803272697344,
          82.13803272697344,
          82.13803272697344,
          82.13803272697344,
          78.41722813599209,
          78.41722813599209,
          78.41722813599209,
          78.41722813599209,
          78.41722813599209,
          78.41722813599209,
          74.45636811585906,
          74.45636811585906,
          74.45636811585906,
          74.45636811585906,
          74.45636811585906,
          74.45636811585906,
          70.55790645103725,
          70.55790645103725,
          70.55790645103725,
          70.55790645103725,
          70.55790645103725,
          70.55790645103725
         ],
         "yaxis": "y"
        },
        {
         "hovertemplate": "prediction=Het<br>month=%{x}<br>relative abundance=%{y}<extra></extra>",
         "legendgroup": "Het",
         "marker": {
          "color": "red",
          "symbol": "circle"
         },
         "mode": "markers",
         "name": "Het",
         "orientation": "v",
         "showlegend": true,
         "type": "scatter",
         "x": [
          "2021-01-01T00:00:00",
          "2021-01-01T00:00:00",
          "2021-02-01T00:00:00",
          "2021-02-01T00:00:00",
          "2021-02-01T00:00:00",
          "2021-02-01T00:00:00",
          "2021-04-01T00:00:00",
          "2021-04-01T00:00:00",
          "2021-04-01T00:00:00",
          "2021-04-01T00:00:00",
          "2021-05-01T00:00:00",
          "2021-05-01T00:00:00",
          "2021-05-01T00:00:00",
          "2021-05-01T00:00:00",
          "2021-05-01T00:00:00",
          "2021-05-01T00:00:00",
          "2021-06-01T00:00:00",
          "2021-06-01T00:00:00",
          "2021-06-01T00:00:00",
          "2021-06-01T00:00:00",
          "2021-06-01T00:00:00",
          "2021-06-01T00:00:00",
          "2021-07-01T00:00:00",
          "2021-07-01T00:00:00",
          "2021-07-01T00:00:00",
          "2021-07-01T00:00:00",
          "2021-07-01T00:00:00",
          "2021-07-01T00:00:00",
          "2020-07-01T00:00:00",
          "2020-07-01T00:00:00",
          "2020-07-01T00:00:00",
          "2020-07-01T00:00:00",
          "2020-07-01T00:00:00",
          "2020-08-01T00:00:00",
          "2020-08-01T00:00:00",
          "2020-08-01T00:00:00",
          "2020-09-01T00:00:00",
          "2020-09-01T00:00:00",
          "2020-09-01T00:00:00",
          "2020-09-01T00:00:00",
          "2020-09-01T00:00:00",
          "2020-09-01T00:00:00",
          "2020-11-01T00:00:00",
          "2020-11-01T00:00:00",
          "2020-11-01T00:00:00",
          "2020-12-01T00:00:00",
          "2020-12-01T00:00:00",
          "2020-12-01T00:00:00",
          "2020-12-01T00:00:00"
         ],
         "xaxis": "x",
         "y": [
          50,
          25,
          7.6923076923076925,
          18.181818181818183,
          7.6923076923076925,
          10,
          10,
          20,
          20,
          16.666666666666668,
          14.285714285714286,
          16.666666666666668,
          33.333333333333336,
          25,
          14.285714285714286,
          33.333333333333336,
          50,
          10,
          25,
          14.285714285714286,
          25,
          25,
          20,
          40,
          50,
          20,
          75,
          25,
          20,
          25,
          33.333333333333336,
          25,
          25,
          25,
          20,
          20,
          15.384615384615385,
          7.142857142857143,
          7.142857142857143,
          14.285714285714286,
          14.285714285714286,
          18.75,
          20,
          25,
          9.090909090909092,
          11.11111111111111,
          20,
          10,
          20
         ],
         "yaxis": "y"
        },
        {
         "hovertemplate": "<b>LOWESS trendline</b><br><br>prediction=Het<br>month=%{x}<br>relative abundance=%{y} <b>(trend)</b><extra></extra>",
         "legendgroup": "Het",
         "marker": {
          "color": "red",
          "symbol": "circle"
         },
         "mode": "lines",
         "name": "Het",
         "showlegend": false,
         "type": "scatter",
         "x": [
          "2020-07-01T00:00:00",
          "2020-07-01T00:00:00",
          "2020-07-01T00:00:00",
          "2020-07-01T00:00:00",
          "2020-07-01T00:00:00",
          "2020-08-01T00:00:00",
          "2020-08-01T00:00:00",
          "2020-08-01T00:00:00",
          "2020-09-01T00:00:00",
          "2020-09-01T00:00:00",
          "2020-09-01T00:00:00",
          "2020-09-01T00:00:00",
          "2020-09-01T00:00:00",
          "2020-09-01T00:00:00",
          "2020-11-01T00:00:00",
          "2020-11-01T00:00:00",
          "2020-11-01T00:00:00",
          "2020-12-01T00:00:00",
          "2020-12-01T00:00:00",
          "2020-12-01T00:00:00",
          "2020-12-01T00:00:00",
          "2021-01-01T00:00:00",
          "2021-01-01T00:00:00",
          "2021-02-01T00:00:00",
          "2021-02-01T00:00:00",
          "2021-02-01T00:00:00",
          "2021-02-01T00:00:00",
          "2021-04-01T00:00:00",
          "2021-04-01T00:00:00",
          "2021-04-01T00:00:00",
          "2021-04-01T00:00:00",
          "2021-05-01T00:00:00",
          "2021-05-01T00:00:00",
          "2021-05-01T00:00:00",
          "2021-05-01T00:00:00",
          "2021-05-01T00:00:00",
          "2021-05-01T00:00:00",
          "2021-06-01T00:00:00",
          "2021-06-01T00:00:00",
          "2021-06-01T00:00:00",
          "2021-06-01T00:00:00",
          "2021-06-01T00:00:00",
          "2021-06-01T00:00:00",
          "2021-07-01T00:00:00",
          "2021-07-01T00:00:00",
          "2021-07-01T00:00:00",
          "2021-07-01T00:00:00",
          "2021-07-01T00:00:00",
          "2021-07-01T00:00:00"
         ],
         "xaxis": "x",
         "y": [
          22.02716070476984,
          22.02716070476984,
          22.02716070476984,
          22.02716070476984,
          22.02716070476984,
          20.489743629806743,
          20.489743629806743,
          20.489743629806743,
          19.040809802620313,
          19.040809802620313,
          19.040809802620313,
          19.040809802620313,
          19.040809802620313,
          19.040809802620313,
          16.24305839807303,
          16.24305839807303,
          16.24305839807303,
          15.319774703035305,
          15.319774703035305,
          15.319774703035305,
          15.319774703035305,
          15.726678714533671,
          15.726678714533671,
          16.486779025698542,
          16.486779025698542,
          16.486779025698542,
          16.486779025698542,
          17.659388180331515,
          17.659388180331515,
          17.659388180331515,
          17.659388180331515,
          20.211402770994802,
          20.211402770994802,
          20.211402770994802,
          20.211402770994802,
          20.211402770994802,
          20.211402770994802,
          22.9545627323145,
          22.9545627323145,
          22.9545627323145,
          22.9545627323145,
          22.9545627323145,
          22.9545627323145,
          25.589813628530493,
          25.589813628530493,
          25.589813628530493,
          25.589813628530493,
          25.589813628530493,
          25.589813628530493
         ],
         "yaxis": "y"
        },
        {
         "hovertemplate": "prediction=Mix<br>month=%{x}<br>relative abundance=%{y}<extra></extra>",
         "legendgroup": "Mix",
         "marker": {
          "color": "black",
          "symbol": "circle"
         },
         "mode": "markers",
         "name": "Mix",
         "orientation": "v",
         "showlegend": true,
         "type": "scatter",
         "x": [
          "2020-08-01T00:00:00"
         ],
         "xaxis": "x",
         "y": [
          20
         ],
         "yaxis": "y"
        },
        {
         "hovertemplate": "prediction=Mix<extra></extra>",
         "legendgroup": "Mix",
         "marker": {
          "color": "black",
          "symbol": "circle"
         },
         "mode": "lines",
         "name": "Mix",
         "showlegend": false,
         "type": "scatter",
         "xaxis": "x",
         "yaxis": "y"
        }
       ],
       "layout": {
        "autosize": false,
        "font": {
         "family": "Times New Roman, serif",
         "size": 8
        },
        "height": 283.4645669295,
        "legend": {
         "title": {
          "text": "prediction"
         },
         "tracegroupgap": 0
        },
        "margin": {
         "b": 25,
         "l": 0,
         "r": 25,
         "t": 25
        },
        "template": {
         "data": {
          "bar": [
           {
            "error_x": {
             "color": "#2a3f5f"
            },
            "error_y": {
             "color": "#2a3f5f"
            },
            "marker": {
             "line": {
              "color": "#E5ECF6",
              "width": 0.5
             },
             "pattern": {
              "fillmode": "overlay",
              "size": 10,
              "solidity": 0.2
             }
            },
            "type": "bar"
           }
          ],
          "barpolar": [
           {
            "marker": {
             "line": {
              "color": "#E5ECF6",
              "width": 0.5
             },
             "pattern": {
              "fillmode": "overlay",
              "size": 10,
              "solidity": 0.2
             }
            },
            "type": "barpolar"
           }
          ],
          "carpet": [
           {
            "aaxis": {
             "endlinecolor": "#2a3f5f",
             "gridcolor": "white",
             "linecolor": "white",
             "minorgridcolor": "white",
             "startlinecolor": "#2a3f5f"
            },
            "baxis": {
             "endlinecolor": "#2a3f5f",
             "gridcolor": "white",
             "linecolor": "white",
             "minorgridcolor": "white",
             "startlinecolor": "#2a3f5f"
            },
            "type": "carpet"
           }
          ],
          "choropleth": [
           {
            "colorbar": {
             "outlinewidth": 0,
             "ticks": ""
            },
            "type": "choropleth"
           }
          ],
          "contour": [
           {
            "colorbar": {
             "outlinewidth": 0,
             "ticks": ""
            },
            "colorscale": [
             [
              0,
              "#0d0887"
             ],
             [
              0.1111111111111111,
              "#46039f"
             ],
             [
              0.2222222222222222,
              "#7201a8"
             ],
             [
              0.3333333333333333,
              "#9c179e"
             ],
             [
              0.4444444444444444,
              "#bd3786"
             ],
             [
              0.5555555555555556,
              "#d8576b"
             ],
             [
              0.6666666666666666,
              "#ed7953"
             ],
             [
              0.7777777777777778,
              "#fb9f3a"
             ],
             [
              0.8888888888888888,
              "#fdca26"
             ],
             [
              1,
              "#f0f921"
             ]
            ],
            "type": "contour"
           }
          ],
          "contourcarpet": [
           {
            "colorbar": {
             "outlinewidth": 0,
             "ticks": ""
            },
            "type": "contourcarpet"
           }
          ],
          "heatmap": [
           {
            "colorbar": {
             "outlinewidth": 0,
             "ticks": ""
            },
            "colorscale": [
             [
              0,
              "#0d0887"
             ],
             [
              0.1111111111111111,
              "#46039f"
             ],
             [
              0.2222222222222222,
              "#7201a8"
             ],
             [
              0.3333333333333333,
              "#9c179e"
             ],
             [
              0.4444444444444444,
              "#bd3786"
             ],
             [
              0.5555555555555556,
              "#d8576b"
             ],
             [
              0.6666666666666666,
              "#ed7953"
             ],
             [
              0.7777777777777778,
              "#fb9f3a"
             ],
             [
              0.8888888888888888,
              "#fdca26"
             ],
             [
              1,
              "#f0f921"
             ]
            ],
            "type": "heatmap"
           }
          ],
          "heatmapgl": [
           {
            "colorbar": {
             "outlinewidth": 0,
             "ticks": ""
            },
            "colorscale": [
             [
              0,
              "#0d0887"
             ],
             [
              0.1111111111111111,
              "#46039f"
             ],
             [
              0.2222222222222222,
              "#7201a8"
             ],
             [
              0.3333333333333333,
              "#9c179e"
             ],
             [
              0.4444444444444444,
              "#bd3786"
             ],
             [
              0.5555555555555556,
              "#d8576b"
             ],
             [
              0.6666666666666666,
              "#ed7953"
             ],
             [
              0.7777777777777778,
              "#fb9f3a"
             ],
             [
              0.8888888888888888,
              "#fdca26"
             ],
             [
              1,
              "#f0f921"
             ]
            ],
            "type": "heatmapgl"
           }
          ],
          "histogram": [
           {
            "marker": {
             "pattern": {
              "fillmode": "overlay",
              "size": 10,
              "solidity": 0.2
             }
            },
            "type": "histogram"
           }
          ],
          "histogram2d": [
           {
            "colorbar": {
             "outlinewidth": 0,
             "ticks": ""
            },
            "colorscale": [
             [
              0,
              "#0d0887"
             ],
             [
              0.1111111111111111,
              "#46039f"
             ],
             [
              0.2222222222222222,
              "#7201a8"
             ],
             [
              0.3333333333333333,
              "#9c179e"
             ],
             [
              0.4444444444444444,
              "#bd3786"
             ],
             [
              0.5555555555555556,
              "#d8576b"
             ],
             [
              0.6666666666666666,
              "#ed7953"
             ],
             [
              0.7777777777777778,
              "#fb9f3a"
             ],
             [
              0.8888888888888888,
              "#fdca26"
             ],
             [
              1,
              "#f0f921"
             ]
            ],
            "type": "histogram2d"
           }
          ],
          "histogram2dcontour": [
           {
            "colorbar": {
             "outlinewidth": 0,
             "ticks": ""
            },
            "colorscale": [
             [
              0,
              "#0d0887"
             ],
             [
              0.1111111111111111,
              "#46039f"
             ],
             [
              0.2222222222222222,
              "#7201a8"
             ],
             [
              0.3333333333333333,
              "#9c179e"
             ],
             [
              0.4444444444444444,
              "#bd3786"
             ],
             [
              0.5555555555555556,
              "#d8576b"
             ],
             [
              0.6666666666666666,
              "#ed7953"
             ],
             [
              0.7777777777777778,
              "#fb9f3a"
             ],
             [
              0.8888888888888888,
              "#fdca26"
             ],
             [
              1,
              "#f0f921"
             ]
            ],
            "type": "histogram2dcontour"
           }
          ],
          "mesh3d": [
           {
            "colorbar": {
             "outlinewidth": 0,
             "ticks": ""
            },
            "type": "mesh3d"
           }
          ],
          "parcoords": [
           {
            "line": {
             "colorbar": {
              "outlinewidth": 0,
              "ticks": ""
             }
            },
            "type": "parcoords"
           }
          ],
          "pie": [
           {
            "automargin": true,
            "type": "pie"
           }
          ],
          "scatter": [
           {
            "marker": {
             "colorbar": {
              "outlinewidth": 0,
              "ticks": ""
             }
            },
            "type": "scatter"
           }
          ],
          "scatter3d": [
           {
            "line": {
             "colorbar": {
              "outlinewidth": 0,
              "ticks": ""
             }
            },
            "marker": {
             "colorbar": {
              "outlinewidth": 0,
              "ticks": ""
             }
            },
            "type": "scatter3d"
           }
          ],
          "scattercarpet": [
           {
            "marker": {
             "colorbar": {
              "outlinewidth": 0,
              "ticks": ""
             }
            },
            "type": "scattercarpet"
           }
          ],
          "scattergeo": [
           {
            "marker": {
             "colorbar": {
              "outlinewidth": 0,
              "ticks": ""
             }
            },
            "type": "scattergeo"
           }
          ],
          "scattergl": [
           {
            "marker": {
             "colorbar": {
              "outlinewidth": 0,
              "ticks": ""
             }
            },
            "type": "scattergl"
           }
          ],
          "scattermapbox": [
           {
            "marker": {
             "colorbar": {
              "outlinewidth": 0,
              "ticks": ""
             }
            },
            "type": "scattermapbox"
           }
          ],
          "scatterpolar": [
           {
            "marker": {
             "colorbar": {
              "outlinewidth": 0,
              "ticks": ""
             }
            },
            "type": "scatterpolar"
           }
          ],
          "scatterpolargl": [
           {
            "marker": {
             "colorbar": {
              "outlinewidth": 0,
              "ticks": ""
             }
            },
            "type": "scatterpolargl"
           }
          ],
          "scatterternary": [
           {
            "marker": {
             "colorbar": {
              "outlinewidth": 0,
              "ticks": ""
             }
            },
            "type": "scatterternary"
           }
          ],
          "surface": [
           {
            "colorbar": {
             "outlinewidth": 0,
             "ticks": ""
            },
            "colorscale": [
             [
              0,
              "#0d0887"
             ],
             [
              0.1111111111111111,
              "#46039f"
             ],
             [
              0.2222222222222222,
              "#7201a8"
             ],
             [
              0.3333333333333333,
              "#9c179e"
             ],
             [
              0.4444444444444444,
              "#bd3786"
             ],
             [
              0.5555555555555556,
              "#d8576b"
             ],
             [
              0.6666666666666666,
              "#ed7953"
             ],
             [
              0.7777777777777778,
              "#fb9f3a"
             ],
             [
              0.8888888888888888,
              "#fdca26"
             ],
             [
              1,
              "#f0f921"
             ]
            ],
            "type": "surface"
           }
          ],
          "table": [
           {
            "cells": {
             "fill": {
              "color": "#EBF0F8"
             },
             "line": {
              "color": "white"
             }
            },
            "header": {
             "fill": {
              "color": "#C8D4E3"
             },
             "line": {
              "color": "white"
             }
            },
            "type": "table"
           }
          ]
         },
         "layout": {
          "annotationdefaults": {
           "arrowcolor": "#2a3f5f",
           "arrowhead": 0,
           "arrowwidth": 1
          },
          "autotypenumbers": "strict",
          "coloraxis": {
           "colorbar": {
            "outlinewidth": 0,
            "ticks": ""
           }
          },
          "colorscale": {
           "diverging": [
            [
             0,
             "#8e0152"
            ],
            [
             0.1,
             "#c51b7d"
            ],
            [
             0.2,
             "#de77ae"
            ],
            [
             0.3,
             "#f1b6da"
            ],
            [
             0.4,
             "#fde0ef"
            ],
            [
             0.5,
             "#f7f7f7"
            ],
            [
             0.6,
             "#e6f5d0"
            ],
            [
             0.7,
             "#b8e186"
            ],
            [
             0.8,
             "#7fbc41"
            ],
            [
             0.9,
             "#4d9221"
            ],
            [
             1,
             "#276419"
            ]
           ],
           "sequential": [
            [
             0,
             "#0d0887"
            ],
            [
             0.1111111111111111,
             "#46039f"
            ],
            [
             0.2222222222222222,
             "#7201a8"
            ],
            [
             0.3333333333333333,
             "#9c179e"
            ],
            [
             0.4444444444444444,
             "#bd3786"
            ],
            [
             0.5555555555555556,
             "#d8576b"
            ],
            [
             0.6666666666666666,
             "#ed7953"
            ],
            [
             0.7777777777777778,
             "#fb9f3a"
            ],
            [
             0.8888888888888888,
             "#fdca26"
            ],
            [
             1,
             "#f0f921"
            ]
           ],
           "sequentialminus": [
            [
             0,
             "#0d0887"
            ],
            [
             0.1111111111111111,
             "#46039f"
            ],
            [
             0.2222222222222222,
             "#7201a8"
            ],
            [
             0.3333333333333333,
             "#9c179e"
            ],
            [
             0.4444444444444444,
             "#bd3786"
            ],
            [
             0.5555555555555556,
             "#d8576b"
            ],
            [
             0.6666666666666666,
             "#ed7953"
            ],
            [
             0.7777777777777778,
             "#fb9f3a"
            ],
            [
             0.8888888888888888,
             "#fdca26"
            ],
            [
             1,
             "#f0f921"
            ]
           ]
          },
          "colorway": [
           "#636efa",
           "#EF553B",
           "#00cc96",
           "#ab63fa",
           "#FFA15A",
           "#19d3f3",
           "#FF6692",
           "#B6E880",
           "#FF97FF",
           "#FECB52"
          ],
          "font": {
           "color": "#2a3f5f"
          },
          "geo": {
           "bgcolor": "white",
           "lakecolor": "white",
           "landcolor": "#E5ECF6",
           "showlakes": true,
           "showland": true,
           "subunitcolor": "white"
          },
          "hoverlabel": {
           "align": "left"
          },
          "hovermode": "closest",
          "mapbox": {
           "style": "light"
          },
          "paper_bgcolor": "white",
          "plot_bgcolor": "#E5ECF6",
          "polar": {
           "angularaxis": {
            "gridcolor": "white",
            "linecolor": "white",
            "ticks": ""
           },
           "bgcolor": "#E5ECF6",
           "radialaxis": {
            "gridcolor": "white",
            "linecolor": "white",
            "ticks": ""
           }
          },
          "scene": {
           "xaxis": {
            "backgroundcolor": "#E5ECF6",
            "gridcolor": "white",
            "gridwidth": 2,
            "linecolor": "white",
            "showbackground": true,
            "ticks": "",
            "zerolinecolor": "white"
           },
           "yaxis": {
            "backgroundcolor": "#E5ECF6",
            "gridcolor": "white",
            "gridwidth": 2,
            "linecolor": "white",
            "showbackground": true,
            "ticks": "",
            "zerolinecolor": "white"
           },
           "zaxis": {
            "backgroundcolor": "#E5ECF6",
            "gridcolor": "white",
            "gridwidth": 2,
            "linecolor": "white",
            "showbackground": true,
            "ticks": "",
            "zerolinecolor": "white"
           }
          },
          "shapedefaults": {
           "line": {
            "color": "#2a3f5f"
           }
          },
          "ternary": {
           "aaxis": {
            "gridcolor": "white",
            "linecolor": "white",
            "ticks": ""
           },
           "baxis": {
            "gridcolor": "white",
            "linecolor": "white",
            "ticks": ""
           },
           "bgcolor": "#E5ECF6",
           "caxis": {
            "gridcolor": "white",
            "linecolor": "white",
            "ticks": ""
           }
          },
          "title": {
           "x": 0.05
          },
          "xaxis": {
           "automargin": true,
           "gridcolor": "white",
           "linecolor": "white",
           "ticks": "",
           "title": {
            "standoff": 15
           },
           "zerolinecolor": "white",
           "zerolinewidth": 2
          },
          "yaxis": {
           "automargin": true,
           "gridcolor": "white",
           "linecolor": "white",
           "ticks": "",
           "title": {
            "standoff": 15
           },
           "zerolinecolor": "white",
           "zerolinewidth": 2
          }
         }
        },
        "width": 321.2598425201,
        "xaxis": {
         "anchor": "y",
         "domain": [
          0,
          1
         ],
         "title": {
          "text": "Ratio of predicted trophic modes (%)"
         }
        },
        "yaxis": {
         "anchor": "x",
         "domain": [
          0,
          1
         ],
         "title": {}
        }
       }
      }
     },
     "metadata": {},
     "output_type": "display_data"
    }
   ],
   "source": [
    "# Now make a lmplot of the relative abundance of the three trophic modes per month\n",
    "# Calculate relative abundance of each prediction per sample\n",
    "rel_abundance = (predictions[['sample', 'prediction', 'species']].groupby(['sample', 'prediction'])).size().groupby(level=0).apply(lambda x: 100 * x / x.sum()).reset_index(name='relative abundance')\n",
    "\n",
    "# Add month to the relative abundance dataframe\n",
    "meta = pd.read_csv('../../samples.csv', sep=';', index_col=0)\n",
    "rel_abundance = rel_abundance.merge(meta[['month']], left_on='sample', right_index=True, how='left')\n",
    "# Convert month to datetime\n",
    "rel_abundance['month'] = pd.to_datetime(rel_abundance['month'], format='%B_%Y')\n",
    "\n",
    "# Plot the relative abundance of the three trophic modes per month\n",
    "fig = px.scatter(rel_abundance,\n",
    "                x = \"month\",\n",
    "                y = \"relative abundance\",\n",
    "                color = \"prediction\",\n",
    "                color_discrete_map=color_map,\n",
    "                trendline='lowess')\n",
    "\n",
    "fig.update_layout(\n",
    "    font=dict(\n",
    "        family=\"Times New Roman, serif\",  # Set the font family to Times New Roman\n",
    "        size=8  # Set the font size\n",
    "    ),\n",
    "    autosize=False,\n",
    "    width= 8.5 * pixels_per_cm,  # width in pixels\n",
    "    height= 7.5 * pixels_per_cm,  # height in pixels\n",
    "    margin=dict( # Set the margins\n",
    "        l=0,  # Left margin\n",
    "        r=25,  # Right margin\n",
    "        b=25,  # Bottom margin\n",
    "        t=25  # Top margin\n",
    "    ),\n",
    "    xaxis_title_text='Ratio of predicted trophic modes (%)',\n",
    "    yaxis_title_text=None,\n",
    ")\n",
    "                 \n",
    "fig.show()\n",
    "\n",
    "# Save figure as svg\n",
    "fig.write_image(f'../../figures/functional_analysis/predicted_trophic_mode_ratios_per_month_lmplot.svg')"
   ]
  }
 ],
 "metadata": {
  "kernelspec": {
   "display_name": "Python 3",
   "language": "python",
   "name": "python3"
  },
  "language_info": {
   "codemirror_mode": {
    "name": "ipython",
    "version": 3
   },
   "file_extension": ".py",
   "mimetype": "text/x-python",
   "name": "python",
   "nbconvert_exporter": "python",
   "pygments_lexer": "ipython3",
   "version": "3.9.12"
  },
  "orig_nbformat": 4
 },
 "nbformat": 4,
 "nbformat_minor": 2
}
