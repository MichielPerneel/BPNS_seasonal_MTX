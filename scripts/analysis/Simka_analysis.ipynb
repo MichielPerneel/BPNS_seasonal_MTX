{
 "cells": [
  {
   "cell_type": "code",
   "execution_count": 6,
   "metadata": {},
   "outputs": [],
   "source": [
    "import pandas as pd\n",
    "import seaborn as sns\n",
    "import matplotlib.pyplot as plt\n",
    "from pathlib import Path\n",
    "import os"
   ]
  },
  {
   "attachments": {},
   "cell_type": "markdown",
   "metadata": {},
   "source": [
    "# K-mer analysis visualisation\n",
    "In this notebook, we'll visualise the results from the k-mer analysis done using [simka](../../scripts/simka.pbs)."
   ]
  },
  {
   "cell_type": "code",
   "execution_count": 7,
   "metadata": {},
   "outputs": [],
   "source": [
    "# List of filenames\n",
    "filenames = [\n",
    "    \"../../data/assembly/kmer_analysis/mat_abundance_ab-jaccard.csv.gz\",\n",
    "    \"../../data/assembly/kmer_analysis/mat_abundance_braycurtis.csv.gz\",\n",
    "    \"../../data/assembly/kmer_analysis/mat_abundance_simka-jaccard_asym.csv.gz\",\n",
    "    \"../../data/assembly/kmer_analysis/mat_presenceAbsence_jaccard.csv.gz\",\n",
    "    \"../../data/assembly/kmer_analysis/mat_presenceAbsence_simka-jaccard.csv.gz\",\n",
    "    \"../../data/assembly/kmer_analysis/mat_abundance_ab-ochiai.csv.gz\",\n",
    "    \"../../data/assembly/kmer_analysis/mat_abundance_jaccard.csv.gz\",\n",
    "    \"../../data/assembly/kmer_analysis/mat_presenceAbsence_braycurtis.csv.gz\",\n",
    "    \"../../data/assembly/kmer_analysis/mat_presenceAbsence_kulczynski.csv.gz\",\n",
    "    \"../../data/assembly/kmer_analysis/mat_presenceAbsence_simka-jaccard_asym.csv.gz\",\n",
    "    \"../../data/assembly/kmer_analysis/mat_abundance_ab-sorensen.csv.gz\",\n",
    "    \"../../data/assembly/kmer_analysis/mat_abundance_simka-jaccard.csv.gz\",\n",
    "    \"../../data/assembly/kmer_analysis/mat_presenceAbsence_chord.csv.gz\",\n",
    "    \"../../data/assembly/kmer_analysis/mat_presenceAbsence_ochiai.csv.gz\",\n",
    "    \"../../data/assembly/kmer_analysis/mat_presenceAbsence_whittaker.csv.gz\",\n",
    "]"
   ]
  },
  {
   "cell_type": "code",
   "execution_count": 28,
   "metadata": {},
   "outputs": [],
   "source": [
    "def get_colors_from_labels(df, identifier_index):\n",
    "    identifiers = sorted(set([label.split(\"_\")[identifier_index] for label in df.index]))\n",
    "    if identifier_index == 0:\n",
    "        palette = sns.color_palette(\"Set2\", len(identifiers))\n",
    "    elif identifier_index == 1:\n",
    "        palette = sns.color_palette(\"Set1\", len(identifiers))\n",
    "    lut = dict(zip(identifiers, palette))\n",
    "    colors = pd.Series(df.index).apply(lambda x: lut[x.split(\"_\")[identifier_index]]).to_frame()\n",
    "    colors.index = df.index  # Set the index of colors DataFrame to match the input df\n",
    "    # Rename the column name to match the identifier\n",
    "    if identifier_index == 0:\n",
    "        colors.rename(columns={0: \"Month\"}, inplace=True)\n",
    "    elif identifier_index == 1:\n",
    "        colors.rename(columns={0: \"Station\"}, inplace=True)\n",
    "    return colors\n",
    "\n",
    "def create_clustermap(filename, output_directory=\"../../figures/assembly/simka_analysis\"):\n",
    "    # Read the compressed CSV file\n",
    "    df = pd.read_csv(filename, compression=\"gzip\", index_col=0, sep=\";\")\n",
    "\n",
    "    # Get the base filename and extension\n",
    "    base_filename, extension = os.path.splitext(filename)\n",
    "    \n",
    "    # Remove the \".csv\" extension if it exists\n",
    "    if extension == \".csv\":\n",
    "        base_filename, _ = os.path.splitext(base_filename)\n",
    "        \n",
    "    # Configure plot aesthetics\n",
    "    sns.set_style(\"white\")\n",
    "    plt.rcParams[\"font.family\"] = \"Times New Roman\"\n",
    "    plt.rcParams[\"font.size\"] = 8\n",
    "\n",
    "    # Get colors for month and station from row and column identifiers\n",
    "    month_colors = get_colors_from_labels(df, 0)  # Get colors for the first part of the identifier (month)\n",
    "    station_colors = get_colors_from_labels(df, 1)  # Get colors for the second part of the identifier (station)\n",
    "\n",
    "    row_colors = pd.concat([month_colors, station_colors], axis=1)\n",
    "    col_colors = row_colors.copy()  # Assuming the same ordering for columns\n",
    "\n",
    "    # Create the cluster map\n",
    "    g = sns.clustermap(\n",
    "        df,\n",
    "        xticklabels=True,\n",
    "        yticklabels=True,\n",
    "        row_cluster=True,\n",
    "        row_colors=row_colors,\n",
    "        col_colors=col_colors,\n",
    "        figsize=(12, 12),\n",
    "    )\n",
    "\n",
    "    # Customize the plot\n",
    "    g.fig.suptitle(Path(base_filename).stem.replace(\"_\", \" \").capitalize())\n",
    "\n",
    "    g.savefig(f\"{output_directory}/{Path(base_filename).stem}_clustermap.svg\", dpi=600, bbox_inches=\"tight\")\n",
    "    plt.close()"
   ]
  },
  {
   "cell_type": "code",
   "execution_count": 29,
   "metadata": {},
   "outputs": [],
   "source": [
    "# Iterate over the files and create heatmaps\n",
    "for filename in filenames:\n",
    "    create_clustermap(filename)"
   ]
  },
  {
   "cell_type": "code",
   "execution_count": null,
   "metadata": {},
   "outputs": [],
   "source": []
  }
 ],
 "metadata": {
  "kernelspec": {
   "display_name": "Python 3",
   "language": "python",
   "name": "python3"
  },
  "language_info": {
   "codemirror_mode": {
    "name": "ipython",
    "version": 3
   },
   "file_extension": ".py",
   "mimetype": "text/x-python",
   "name": "python",
   "nbconvert_exporter": "python",
   "pygments_lexer": "ipython3",
   "version": "3.9.12"
  },
  "orig_nbformat": 4
 },
 "nbformat": 4,
 "nbformat_minor": 2
}
