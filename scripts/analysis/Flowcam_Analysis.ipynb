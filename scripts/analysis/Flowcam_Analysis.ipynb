{
 "cells": [
  {
   "cell_type": "markdown",
   "metadata": {},
   "source": [
    "# Flowcam Data Analysis"
   ]
  },
  {
   "cell_type": "code",
   "execution_count": 27,
   "metadata": {},
   "outputs": [],
   "source": [
    "# Load libraries\n",
    "import pandas as pd\n",
    "import numpy as np\n",
    "import seaborn as sns\n",
    "import plotly.express as px\n",
    "import matplotlib.pyplot as plt"
   ]
  },
  {
   "cell_type": "markdown",
   "metadata": {},
   "source": [
    "The Flowcam is an automated system for image analysis. In the LifeWatch framework, the Flowcam is used to measure the biomass of phytoplankton in the water column. At a sampling station, 50L of sea surface water was collected using a stainless-steel bucket and filtered through a 55µm mesh size Apstein net (1.2 m long, 0.5 m diameter). The filtered sample is transferred to a plastic falcon and fixed with acid Lugol’s iodine solution (1-5%). Samples are stored in the dark at 4°C until laboratory processing. In the lab, samples are processed using the FlowCAM VS-4 bench model (Fluid Imaging Technologies, Yarmouth, Maine, U.S.A.) equipped with a Sony XCD SC90 digital grey-scale camera and VisualSpreadsheet® software (version 4.2.52). For more details on Flowcam methodology, see paper. The FlowCAM output consists of cropped image collages, image parameters, and processing metadata. This output is then linked to sampling metadata from the ships information system (MIDAS) and is uploaded to a central database. Convolutional neural networks (CNN) are trained on human validated images. The current model version can recognize over 90 FlowCAM image classes with an accuracy of around 87%. Cell densities are calculated using the filtered volume of sea surface water, the volume of the sample measured in the lab, the fluid volume imaged, the particle count measured by the FlowCAM device, and a dilution factor calculated from the dilution of samples based on the PPUI accounted for during the sample run:\n",
    "\n",
    "$$density\\:\\frac{cells}{L} = \\frac{particle\\:count * sample\\:volume\\:(mL)}{fluid\\:volume\\:imaged\\:(mL) * dilution\\:factor * volume\\:filtered\\:(L)}$$\n",
    "\n",
    "Once predictions have been manually verified, the resulting cell densities are aggregated per predicted taxonomic level and made available through the Belgian LifeWatch RShiny application available at https://rshiny.lifewatch.be/flowcam-data/. Since the upload did not happen yet, the recent data is downloaded directly from MongoDB using the [export R script](export_flowcam.R). Let's first load and check this data."
   ]
  },
  {
   "cell_type": "markdown",
   "metadata": {},
   "source": [
    "### Load and preprocess data"
   ]
  },
  {
   "attachments": {},
   "cell_type": "markdown",
   "metadata": {},
   "source": [
    "From the flowcam data, I need to obtain 3 things:\n",
    "\n",
    "1. What are the most common species in the BPNS? This will be used to check their representation in the taxonomic reference databases.\n",
    "2. What is the relative abundance of each species in the BPNS?\n",
    "3. What is the total microeukaryotic plankton biomass in the BPNS?\n",
    "4. How many species identified by experts are found in reference databases?\n",
    "\n",
    "We will load the FlowCam data, remove irrelevant classes, filter samples of interest based on TripActionIDs, and combine classes to obtain a final cell count per L of seawater."
   ]
  },
  {
   "cell_type": "code",
   "execution_count": 28,
   "metadata": {},
   "outputs": [
    {
     "data": {
      "text/html": [
       "<div><div id=fd2178ab-7b31-4ef3-ae3f-078882caaf67 style=\"display:none; background-color:#9D6CFF; color:white; width:200px; height:30px; padding-left:5px; border-radius:4px; flex-direction:row; justify-content:space-around; align-items:center;\" onmouseover=\"this.style.backgroundColor='#BA9BF8'\" onmouseout=\"this.style.backgroundColor='#9D6CFF'\" onclick=\"window.commands?.execute('create-mitosheet-from-dataframe-output');\">See Full Dataframe in Mito</div> <script> if (window.commands?.hasCommand('create-mitosheet-from-dataframe-output')) document.getElementById('fd2178ab-7b31-4ef3-ae3f-078882caaf67').style.display = 'flex' </script> <table border=\"1\" class=\"dataframe\">\n",
       "  <thead>\n",
       "    <tr style=\"text-align: right;\">\n",
       "      <th></th>\n",
       "      <th>Station</th>\n",
       "      <th>Taxon</th>\n",
       "      <th>Month</th>\n",
       "      <th>Dil</th>\n",
       "      <th>TripactionID</th>\n",
       "      <th>Volume_filtered</th>\n",
       "      <th>Sample_volume</th>\n",
       "      <th>FVI</th>\n",
       "      <th>Taxon_count</th>\n",
       "      <th>density_cell_L</th>\n",
       "      <th>Total_count</th>\n",
       "      <th>Rel_ab</th>\n",
       "    </tr>\n",
       "  </thead>\n",
       "  <tbody>\n",
       "    <tr>\n",
       "      <th>0</th>\n",
       "      <td>130</td>\n",
       "      <td>(Pseudo-)pediastrum</td>\n",
       "      <td>2</td>\n",
       "      <td>1.0</td>\n",
       "      <td>111959</td>\n",
       "      <td>50</td>\n",
       "      <td>236</td>\n",
       "      <td>2.15935</td>\n",
       "      <td>2</td>\n",
       "      <td>4.371686</td>\n",
       "      <td>3693</td>\n",
       "      <td>0.054157</td>\n",
       "    </tr>\n",
       "    <tr>\n",
       "      <th>1</th>\n",
       "      <td>130</td>\n",
       "      <td>Actinoptychus</td>\n",
       "      <td>2</td>\n",
       "      <td>1.0</td>\n",
       "      <td>111959</td>\n",
       "      <td>50</td>\n",
       "      <td>236</td>\n",
       "      <td>2.15390</td>\n",
       "      <td>1</td>\n",
       "      <td>2.191374</td>\n",
       "      <td>3693</td>\n",
       "      <td>0.027078</td>\n",
       "    </tr>\n",
       "    <tr>\n",
       "      <th>2</th>\n",
       "      <td>230</td>\n",
       "      <td>Actinoptychus</td>\n",
       "      <td>2</td>\n",
       "      <td>0.2</td>\n",
       "      <td>111968</td>\n",
       "      <td>50</td>\n",
       "      <td>152</td>\n",
       "      <td>2.28090</td>\n",
       "      <td>3</td>\n",
       "      <td>19.992108</td>\n",
       "      <td>3208</td>\n",
       "      <td>0.093516</td>\n",
       "    </tr>\n",
       "    <tr>\n",
       "      <th>3</th>\n",
       "      <td>330</td>\n",
       "      <td>Actinoptychus</td>\n",
       "      <td>2</td>\n",
       "      <td>0.5</td>\n",
       "      <td>111975</td>\n",
       "      <td>50</td>\n",
       "      <td>184</td>\n",
       "      <td>2.31200</td>\n",
       "      <td>1</td>\n",
       "      <td>3.183391</td>\n",
       "      <td>3168</td>\n",
       "      <td>0.031566</td>\n",
       "    </tr>\n",
       "    <tr>\n",
       "      <th>4</th>\n",
       "      <td>700</td>\n",
       "      <td>Actinoptychus</td>\n",
       "      <td>2</td>\n",
       "      <td>0.3</td>\n",
       "      <td>112000</td>\n",
       "      <td>50</td>\n",
       "      <td>182</td>\n",
       "      <td>2.15130</td>\n",
       "      <td>2</td>\n",
       "      <td>11.280001</td>\n",
       "      <td>3652</td>\n",
       "      <td>0.054765</td>\n",
       "    </tr>\n",
       "  </tbody>\n",
       "</table></div>"
      ],
      "text/plain": [
       "  Station                Taxon  Month  Dil  TripactionID  Volume_filtered  \\\n",
       "0     130  (Pseudo-)pediastrum      2  1.0        111959               50   \n",
       "1     130        Actinoptychus      2  1.0        111959               50   \n",
       "2     230        Actinoptychus      2  0.2        111968               50   \n",
       "3     330        Actinoptychus      2  0.5        111975               50   \n",
       "4     700        Actinoptychus      2  0.3        112000               50   \n",
       "\n",
       "   Sample_volume      FVI  Taxon_count  density_cell_L  Total_count    Rel_ab  \n",
       "0            236  2.15935            2        4.371686         3693  0.054157  \n",
       "1            236  2.15390            1        2.191374         3693  0.027078  \n",
       "2            152  2.28090            3       19.992108         3208  0.093516  \n",
       "3            184  2.31200            1        3.183391         3168  0.031566  \n",
       "4            182  2.15130            2       11.280001         3652  0.054765  "
      ]
     },
     "execution_count": 28,
     "metadata": {},
     "output_type": "execute_result"
    }
   ],
   "source": [
    "# 2020\n",
    "FC_2020 = pd.read_csv('../../data/flowcam/flowcam_data_LW_2020.csv')\n",
    "FC_2020.head()"
   ]
  },
  {
   "cell_type": "markdown",
   "metadata": {},
   "source": [
    "In the data from 2020, sample volume and fluid volume imaged are in mL and not in L. We correct this by dividing by 1000."
   ]
  },
  {
   "cell_type": "code",
   "execution_count": 29,
   "metadata": {},
   "outputs": [],
   "source": [
    "# Bring sample volume and DIL to the same scale\n",
    "FC_2020['Sample_volume'] = FC_2020['Sample_volume'] / 1000\n",
    "FC_2020['FVI'] = FC_2020['FVI'] / 1000"
   ]
  },
  {
   "cell_type": "code",
   "execution_count": 30,
   "metadata": {},
   "outputs": [
    {
     "data": {
      "text/html": [
       "<div><div id=4df46346-0b92-4d90-a554-677c0713d0da style=\"display:none; background-color:#9D6CFF; color:white; width:200px; height:30px; padding-left:5px; border-radius:4px; flex-direction:row; justify-content:space-around; align-items:center;\" onmouseover=\"this.style.backgroundColor='#BA9BF8'\" onmouseout=\"this.style.backgroundColor='#9D6CFF'\" onclick=\"window.commands?.execute('create-mitosheet-from-dataframe-output');\">See Full Dataframe in Mito</div> <script> if (window.commands?.hasCommand('create-mitosheet-from-dataframe-output')) document.getElementById('4df46346-0b92-4d90-a554-677c0713d0da').style.display = 'flex' </script> <table border=\"1\" class=\"dataframe\">\n",
       "  <thead>\n",
       "    <tr style=\"text-align: right;\">\n",
       "      <th></th>\n",
       "      <th>Station</th>\n",
       "      <th>Taxon</th>\n",
       "      <th>Month</th>\n",
       "      <th>Dil</th>\n",
       "      <th>TripactionID</th>\n",
       "      <th>Volume_filtered</th>\n",
       "      <th>Sample_volume</th>\n",
       "      <th>FVI</th>\n",
       "      <th>Taxon_count</th>\n",
       "      <th>density_cell_L</th>\n",
       "      <th>Total_count</th>\n",
       "      <th>Rel_ab</th>\n",
       "    </tr>\n",
       "  </thead>\n",
       "  <tbody>\n",
       "    <tr>\n",
       "      <th>0</th>\n",
       "      <td>130</td>\n",
       "      <td>(Pseudo-)pediastrum</td>\n",
       "      <td>1</td>\n",
       "      <td>1.0</td>\n",
       "      <td>113378</td>\n",
       "      <td>50</td>\n",
       "      <td>0.162</td>\n",
       "      <td>0.003124</td>\n",
       "      <td>1</td>\n",
       "      <td>1.037198</td>\n",
       "      <td>2819</td>\n",
       "      <td>0.035474</td>\n",
       "    </tr>\n",
       "    <tr>\n",
       "      <th>1</th>\n",
       "      <td>130</td>\n",
       "      <td>Actinoptychus</td>\n",
       "      <td>1</td>\n",
       "      <td>1.0</td>\n",
       "      <td>113378</td>\n",
       "      <td>50</td>\n",
       "      <td>0.162</td>\n",
       "      <td>0.003139</td>\n",
       "      <td>4</td>\n",
       "      <td>4.128835</td>\n",
       "      <td>2819</td>\n",
       "      <td>0.141894</td>\n",
       "    </tr>\n",
       "    <tr>\n",
       "      <th>2</th>\n",
       "      <td>215</td>\n",
       "      <td>Actinoptychus</td>\n",
       "      <td>1</td>\n",
       "      <td>1.0</td>\n",
       "      <td>113463</td>\n",
       "      <td>50</td>\n",
       "      <td>0.144</td>\n",
       "      <td>0.003048</td>\n",
       "      <td>6</td>\n",
       "      <td>5.669477</td>\n",
       "      <td>2235</td>\n",
       "      <td>0.268456</td>\n",
       "    </tr>\n",
       "    <tr>\n",
       "      <th>3</th>\n",
       "      <td>230</td>\n",
       "      <td>Actinoptychus</td>\n",
       "      <td>1</td>\n",
       "      <td>1.0</td>\n",
       "      <td>113393</td>\n",
       "      <td>50</td>\n",
       "      <td>0.156</td>\n",
       "      <td>0.003254</td>\n",
       "      <td>11</td>\n",
       "      <td>10.546341</td>\n",
       "      <td>2877</td>\n",
       "      <td>0.382343</td>\n",
       "    </tr>\n",
       "    <tr>\n",
       "      <th>4</th>\n",
       "      <td>330</td>\n",
       "      <td>Actinoptychus</td>\n",
       "      <td>1</td>\n",
       "      <td>1.0</td>\n",
       "      <td>113441</td>\n",
       "      <td>50</td>\n",
       "      <td>0.118</td>\n",
       "      <td>0.003263</td>\n",
       "      <td>4</td>\n",
       "      <td>2.893398</td>\n",
       "      <td>1439</td>\n",
       "      <td>0.277971</td>\n",
       "    </tr>\n",
       "  </tbody>\n",
       "</table></div>"
      ],
      "text/plain": [
       "  Station                Taxon  Month  Dil  TripactionID  Volume_filtered  \\\n",
       "0     130  (Pseudo-)pediastrum      1  1.0        113378               50   \n",
       "1     130        Actinoptychus      1  1.0        113378               50   \n",
       "2     215        Actinoptychus      1  1.0        113463               50   \n",
       "3     230        Actinoptychus      1  1.0        113393               50   \n",
       "4     330        Actinoptychus      1  1.0        113441               50   \n",
       "\n",
       "   Sample_volume       FVI  Taxon_count  density_cell_L  Total_count    Rel_ab  \n",
       "0          0.162  0.003124            1        1.037198         2819  0.035474  \n",
       "1          0.162  0.003139            4        4.128835         2819  0.141894  \n",
       "2          0.144  0.003048            6        5.669477         2235  0.268456  \n",
       "3          0.156  0.003254           11       10.546341         2877  0.382343  \n",
       "4          0.118  0.003263            4        2.893398         1439  0.277971  "
      ]
     },
     "execution_count": 30,
     "metadata": {},
     "output_type": "execute_result"
    }
   ],
   "source": [
    "# 2021\n",
    "FC_2021 = pd.read_csv('../../data/flowcam/flowcam_data_LW_2021.csv')\n",
    "FC_2021.head()"
   ]
  },
  {
   "cell_type": "code",
   "execution_count": 31,
   "metadata": {},
   "outputs": [
    {
     "data": {
      "text/html": [
       "<div><div id=5e49ffae-706a-43e8-856d-678cbd096a29 style=\"display:none; background-color:#9D6CFF; color:white; width:200px; height:30px; padding-left:5px; border-radius:4px; flex-direction:row; justify-content:space-around; align-items:center;\" onmouseover=\"this.style.backgroundColor='#BA9BF8'\" onmouseout=\"this.style.backgroundColor='#9D6CFF'\" onclick=\"window.commands?.execute('create-mitosheet-from-dataframe-output');\">See Full Dataframe in Mito</div> <script> if (window.commands?.hasCommand('create-mitosheet-from-dataframe-output')) document.getElementById('5e49ffae-706a-43e8-856d-678cbd096a29').style.display = 'flex' </script> <table border=\"1\" class=\"dataframe\">\n",
       "  <thead>\n",
       "    <tr style=\"text-align: right;\">\n",
       "      <th></th>\n",
       "      <th>Station</th>\n",
       "      <th>Taxon</th>\n",
       "      <th>Month</th>\n",
       "      <th>Dil</th>\n",
       "      <th>TripactionID</th>\n",
       "      <th>Volume_filtered</th>\n",
       "      <th>Sample_volume</th>\n",
       "      <th>FVI</th>\n",
       "      <th>Taxon_count</th>\n",
       "      <th>density_cell_L</th>\n",
       "      <th>Total_count</th>\n",
       "      <th>Rel_ab</th>\n",
       "      <th>Year</th>\n",
       "      <th>Year_month</th>\n",
       "    </tr>\n",
       "  </thead>\n",
       "  <tbody>\n",
       "    <tr>\n",
       "      <th>0</th>\n",
       "      <td>130</td>\n",
       "      <td>(Pseudo-)pediastrum</td>\n",
       "      <td>2</td>\n",
       "      <td>1.0</td>\n",
       "      <td>111959</td>\n",
       "      <td>50</td>\n",
       "      <td>0.236</td>\n",
       "      <td>0.002159</td>\n",
       "      <td>2</td>\n",
       "      <td>4.371686</td>\n",
       "      <td>3693</td>\n",
       "      <td>0.054157</td>\n",
       "      <td>2020</td>\n",
       "      <td>2020_2</td>\n",
       "    </tr>\n",
       "    <tr>\n",
       "      <th>1</th>\n",
       "      <td>130</td>\n",
       "      <td>Actinoptychus</td>\n",
       "      <td>2</td>\n",
       "      <td>1.0</td>\n",
       "      <td>111959</td>\n",
       "      <td>50</td>\n",
       "      <td>0.236</td>\n",
       "      <td>0.002154</td>\n",
       "      <td>1</td>\n",
       "      <td>2.191374</td>\n",
       "      <td>3693</td>\n",
       "      <td>0.027078</td>\n",
       "      <td>2020</td>\n",
       "      <td>2020_2</td>\n",
       "    </tr>\n",
       "    <tr>\n",
       "      <th>2</th>\n",
       "      <td>230</td>\n",
       "      <td>Actinoptychus</td>\n",
       "      <td>2</td>\n",
       "      <td>0.2</td>\n",
       "      <td>111968</td>\n",
       "      <td>50</td>\n",
       "      <td>0.152</td>\n",
       "      <td>0.002281</td>\n",
       "      <td>3</td>\n",
       "      <td>19.992108</td>\n",
       "      <td>3208</td>\n",
       "      <td>0.093516</td>\n",
       "      <td>2020</td>\n",
       "      <td>2020_2</td>\n",
       "    </tr>\n",
       "    <tr>\n",
       "      <th>3</th>\n",
       "      <td>330</td>\n",
       "      <td>Actinoptychus</td>\n",
       "      <td>2</td>\n",
       "      <td>0.5</td>\n",
       "      <td>111975</td>\n",
       "      <td>50</td>\n",
       "      <td>0.184</td>\n",
       "      <td>0.002312</td>\n",
       "      <td>1</td>\n",
       "      <td>3.183391</td>\n",
       "      <td>3168</td>\n",
       "      <td>0.031566</td>\n",
       "      <td>2020</td>\n",
       "      <td>2020_2</td>\n",
       "    </tr>\n",
       "    <tr>\n",
       "      <th>4</th>\n",
       "      <td>700</td>\n",
       "      <td>Actinoptychus</td>\n",
       "      <td>2</td>\n",
       "      <td>0.3</td>\n",
       "      <td>112000</td>\n",
       "      <td>50</td>\n",
       "      <td>0.182</td>\n",
       "      <td>0.002151</td>\n",
       "      <td>2</td>\n",
       "      <td>11.280001</td>\n",
       "      <td>3652</td>\n",
       "      <td>0.054765</td>\n",
       "      <td>2020</td>\n",
       "      <td>2020_2</td>\n",
       "    </tr>\n",
       "  </tbody>\n",
       "</table></div>"
      ],
      "text/plain": [
       "  Station                Taxon  Month  Dil  TripactionID  Volume_filtered  \\\n",
       "0     130  (Pseudo-)pediastrum      2  1.0        111959               50   \n",
       "1     130        Actinoptychus      2  1.0        111959               50   \n",
       "2     230        Actinoptychus      2  0.2        111968               50   \n",
       "3     330        Actinoptychus      2  0.5        111975               50   \n",
       "4     700        Actinoptychus      2  0.3        112000               50   \n",
       "\n",
       "   Sample_volume       FVI  Taxon_count  density_cell_L  Total_count  \\\n",
       "0          0.236  0.002159            2        4.371686         3693   \n",
       "1          0.236  0.002154            1        2.191374         3693   \n",
       "2          0.152  0.002281            3       19.992108         3208   \n",
       "3          0.184  0.002312            1        3.183391         3168   \n",
       "4          0.182  0.002151            2       11.280001         3652   \n",
       "\n",
       "     Rel_ab  Year Year_month  \n",
       "0  0.054157  2020     2020_2  \n",
       "1  0.027078  2020     2020_2  \n",
       "2  0.093516  2020     2020_2  \n",
       "3  0.031566  2020     2020_2  \n",
       "4  0.054765  2020     2020_2  "
      ]
     },
     "execution_count": 31,
     "metadata": {},
     "output_type": "execute_result"
    }
   ],
   "source": [
    "# First, create unique month identifiers per dataset\n",
    "FC_2020['Year'] = 2020\n",
    "FC_2020['Year_month'] = FC_2020['Year'].apply(str) + '_' + FC_2020['Month'].apply(str)\n",
    "\n",
    "FC_2021['Year'] = 2021\n",
    "FC_2021['Year_month'] = FC_2021['Year'].apply(str) + '_' + FC_2021['Month'].apply(str)\n",
    "\n",
    "# Then, combine both datasets into one\n",
    "data_FC = pd.concat([FC_2020, FC_2021], axis=0)\n",
    "data_FC.head()\n"
   ]
  },
  {
   "cell_type": "code",
   "execution_count": 32,
   "metadata": {},
   "outputs": [
    {
     "name": "stdout",
     "output_type": "stream",
     "text": [
      "number of rows before retaining relevant months and stations: 8216\n",
      "number of rows after retaining relevant months and stations: 2640\n"
     ]
    }
   ],
   "source": [
    "# Only retain relevant months and stations\n",
    "months = ['2020_7', '2020_8', '2020_9', '2020_11', '2020_12', '2021_1', '2021_2', '2021_4', '2021_5', '2021_6', '2021_7']\n",
    "stations = ['ZG02', '120', '130', '330', '700', '780']\n",
    "\n",
    "# Check unique taxa, save to a list. From these devise a list with the irrelevant taxa removed\n",
    "pd.Series(data_FC['Taxon'].unique()).to_csv('../../data/flowcam/unique_taxon_labels.csv')\n",
    "\n",
    "print(f'number of rows before retaining relevant months and stations: {len(data_FC)}')\n",
    "data_FC = data_FC.query('Year_month in @months')\n",
    "data_FC = data_FC.query('Station in @stations')\n",
    "print(f'number of rows after retaining relevant months and stations: {len(data_FC)}')"
   ]
  },
  {
   "cell_type": "code",
   "execution_count": 33,
   "metadata": {},
   "outputs": [
    {
     "data": {
      "text/plain": [
       "array(['Actinoptychus', 'Actinoptychus senarius',\n",
       "       'Actinoptychus splendens', 'Aggregate', 'Artefact',\n",
       "       'Bacillaria paxillifer', 'Bacillariophyceae', 'Bacteriastrum',\n",
       "       'Bellerochea horologicalis', 'Biddulphianae', 'Bubbles',\n",
       "       'Centric Diatom', 'Ceratium horridum/C. longipes', 'Chaetoceros',\n",
       "       'Chaetoceros danicus', 'Copepoda adult', 'Crustacea',\n",
       "       'Crustaceae:part', 'Dactyliosolen/Cerataulina/Guinardia',\n",
       "       'Detritus', 'Dinoflagellata', 'Dinoflagellate cyst', 'Diploneis',\n",
       "       'Ditylum brightwellii', 'Egg/Cyst', 'Eucampia', 'Faecal pellet',\n",
       "       'Favella', 'Fibers', 'Guinardia delicatula', 'Guinardia flaccida',\n",
       "       'Guinardia striata/Dactyliosolen phuketensis',\n",
       "       'Helicotheca tamesis', 'Hobaniella longicruris',\n",
       "       'Lauderia/Melosira/Detonula', 'Lithodesmium undulatum',\n",
       "       'Long (chained) diatom', 'Melosira', 'Mollusca',\n",
       "       'Mollusca incertae', 'Nauplii', 'Neocalyptrella robusta',\n",
       "       'Noctiluca scintillans', 'Noctilucales',\n",
       "       'Odontella rhombus f. trigona', 'Paralia', 'Pennate Diatom',\n",
       "       'Proboscia indica', 'Protoperidinium', 'Pseudo-nitzschia',\n",
       "       'Remnant', 'Replicate', 'Rhizosolenia',\n",
       "       'Rhizosolenia setigera (f. pungens)/R. hebetata f. semispina',\n",
       "       'Rotifera', 'Skeletonema',\n",
       "       'Stellarima stellaris/Podosira/Hyalodiscus',\n",
       "       'Synedra/Thalassionema', 'Tintinnid cyst', 'Tintinnina',\n",
       "       'Tintinnopsis', 'Triceratium favus',\n",
       "       'Trieres mobiliensis/T. regia', 'Trieres sinensis', 'Tripos',\n",
       "       'Tripos fusus', 'Tripos:part', 'Unknown', 'Unknown_3',\n",
       "       'Veliger larvae D-shaped', 'Zooplankton', 'Zygoceros',\n",
       "       'Appendicularia', 'Aulacodiscus argus', 'Biddulphia alternans',\n",
       "       'Chaetoceros socialis', 'Coscinodiscus concinnus',\n",
       "       'Coscinodiscus granii', 'Coscinodiscus wailesii', 'Decapoda',\n",
       "       'Foraminifera', 'Leptocylindraceae', 'Peritrichia',\n",
       "       'Phytoplankton Colony', 'Plagiogrammopsis/Bellerochea malleus',\n",
       "       'Pollen', 'Polychaeta', 'Protoperidinium pentagonum',\n",
       "       'Radiozoa incertae', 'Stephanopyxis', 'Thalassiosira/Porosira',\n",
       "       'Xystonella', 'Amphorellopsis', 'Asterionella', 'Auliscus',\n",
       "       'Chaetoceros curvisetus/C. pseudocurvisetus', 'Ciliophora',\n",
       "       'Cnidaria', 'Euntintinnus', 'Meuniera membranacea',\n",
       "       'Odontella type 1', 'Porifera spicule', 'Proboscia',\n",
       "       'Proboscia alata', 'Protoperidinium depressum',\n",
       "       'Ralfsiella smithii', 'Strombidium', 'Thalassiosira punctigera',\n",
       "       'Unknown_5', 'Dinophysis', 'Plagiogrammopsis vanheurckii',\n",
       "       'Gymnodiniales', 'Ophiuroidea/Echinoidea larvae',\n",
       "       '(Pseudo-)pediastrum', 'Nematoda',\n",
       "       'Odontella aurita/Ralfsiella minima',\n",
       "       'Odontella rhombus var. trigona', 'Epiphytic diatom',\n",
       "       'Tripos lineatus', 'Ciliophora:part', 'Dissodinium pseudolunula',\n",
       "       'Pennate diatom colony', 'Suctoria'], dtype=object)"
      ]
     },
     "execution_count": 33,
     "metadata": {},
     "output_type": "execute_result"
    }
   ],
   "source": [
    "# Let's have a look at the taxon identifiers: \n",
    "data_FC['Taxon'].unique()\n",
    "\n",
    "# A complete analysis can be done by browsing the csv generated above!"
   ]
  },
  {
   "attachments": {},
   "cell_type": "markdown",
   "metadata": {},
   "source": [
    "We should delete: Aggregate, Artefact, Bubbles, Detritus, Fibers, Pollen, Remnant, Replicate, and some larger  animal classes. Subclasses with :part or :process should be added to their respective class. So we need to manually create the taxonomic groups we're interested in if we want a fine-grained taxonomic analysis. "
   ]
  },
  {
   "cell_type": "code",
   "execution_count": 34,
   "metadata": {},
   "outputs": [],
   "source": [
    "taxa_to_delete = ['Artefact',\n",
    "                  'Bubbles',\n",
    "                  'Detritus', \n",
    "                  'Fibers',\n",
    "                  'Pollen',\n",
    "                  'Remnant',\n",
    "                  'Replicate',\n",
    "                  'Unknown',\n",
    "                  'Zooplankton',\n",
    "                  'Aggregate',\n",
    "                  'Unknown_5',\n",
    "                  'Unknown_3',\n",
    "                  'Holothuroidea ossicles',\n",
    "                  'Faecal pellet',\n",
    "                  'Egg/Cyst',\n",
    "                  'Crustaceae:part']\n",
    "\n",
    "data_FC = data_FC.query('Taxon not in @taxa_to_delete')"
   ]
  },
  {
   "cell_type": "code",
   "execution_count": 35,
   "metadata": {},
   "outputs": [
    {
     "data": {
      "text/plain": [
       "2022"
      ]
     },
     "execution_count": 35,
     "metadata": {},
     "output_type": "execute_result"
    }
   ],
   "source": [
    "len(data_FC)"
   ]
  },
  {
   "cell_type": "code",
   "execution_count": 36,
   "metadata": {},
   "outputs": [],
   "source": [
    "# Replace month values\n",
    "data_FC['Year_month'] = data_FC['Year_month'].replace({\n",
    "    '2020_7': 'July_2020',\n",
    "    '2020_8': 'August_2020',\n",
    "    '2020_9': 'September_2020',\n",
    "    '2020_11': 'November_2020',\n",
    "    '2020_12': 'December_2020',\n",
    "    '2021_1': 'January_2021',\n",
    "    '2021_2': 'February_2021',\n",
    "    '2021_4': 'April_2021',\n",
    "    '2021_5': 'May_2021',\n",
    "    '2021_6': 'June_2021',\n",
    "    '2021_7': 'July_2021'\n",
    "}\n",
    ")"
   ]
  },
  {
   "cell_type": "markdown",
   "metadata": {},
   "source": [
    "## 1. What are the most common species in the BPNS?"
   ]
  },
  {
   "cell_type": "code",
   "execution_count": 37,
   "metadata": {},
   "outputs": [
    {
     "data": {
      "text/html": [
       "<div><div id=ea1e0f82-9b4e-4b91-8033-cf3b933bc1ee style=\"display:none; background-color:#9D6CFF; color:white; width:200px; height:30px; padding-left:5px; border-radius:4px; flex-direction:row; justify-content:space-around; align-items:center;\" onmouseover=\"this.style.backgroundColor='#BA9BF8'\" onmouseout=\"this.style.backgroundColor='#9D6CFF'\" onclick=\"window.commands?.execute('create-mitosheet-from-dataframe-output');\">See Full Dataframe in Mito</div> <script> if (window.commands?.hasCommand('create-mitosheet-from-dataframe-output')) document.getElementById('ea1e0f82-9b4e-4b91-8033-cf3b933bc1ee').style.display = 'flex' </script> <table border=\"1\" class=\"dataframe\">\n",
       "  <thead>\n",
       "    <tr style=\"text-align: right;\">\n",
       "      <th></th>\n",
       "      <th>density_cell_L</th>\n",
       "    </tr>\n",
       "    <tr>\n",
       "      <th>Taxon</th>\n",
       "      <th></th>\n",
       "    </tr>\n",
       "  </thead>\n",
       "  <tbody>\n",
       "    <tr>\n",
       "      <th>Long (chained) diatom</th>\n",
       "      <td>8.766880e+06</td>\n",
       "    </tr>\n",
       "    <tr>\n",
       "      <th>Rhizosolenia</th>\n",
       "      <td>1.822854e+06</td>\n",
       "    </tr>\n",
       "    <tr>\n",
       "      <th>Phytoplankton Colony</th>\n",
       "      <td>9.495551e+05</td>\n",
       "    </tr>\n",
       "    <tr>\n",
       "      <th>Rhizosolenia setigera (f. pungens)/R. hebetata f. semispina</th>\n",
       "      <td>8.295396e+05</td>\n",
       "    </tr>\n",
       "    <tr>\n",
       "      <th>Guinardia flaccida</th>\n",
       "      <td>1.353258e+05</td>\n",
       "    </tr>\n",
       "    <tr>\n",
       "      <th>Pseudo-nitzschia</th>\n",
       "      <td>1.188155e+05</td>\n",
       "    </tr>\n",
       "    <tr>\n",
       "      <th>Noctilucales</th>\n",
       "      <td>1.109452e+05</td>\n",
       "    </tr>\n",
       "    <tr>\n",
       "      <th>Chaetoceros</th>\n",
       "      <td>9.388456e+04</td>\n",
       "    </tr>\n",
       "    <tr>\n",
       "      <th>Trieres sinensis</th>\n",
       "      <td>6.817759e+04</td>\n",
       "    </tr>\n",
       "    <tr>\n",
       "      <th>Bellerochea horologicalis</th>\n",
       "      <td>4.807511e+04</td>\n",
       "    </tr>\n",
       "  </tbody>\n",
       "</table></div>"
      ],
      "text/plain": [
       "                                                    density_cell_L\n",
       "Taxon                                                             \n",
       "Long (chained) diatom                                 8.766880e+06\n",
       "Rhizosolenia                                          1.822854e+06\n",
       "Phytoplankton Colony                                  9.495551e+05\n",
       "Rhizosolenia setigera (f. pungens)/R. hebetata ...    8.295396e+05\n",
       "Guinardia flaccida                                    1.353258e+05\n",
       "Pseudo-nitzschia                                      1.188155e+05\n",
       "Noctilucales                                          1.109452e+05\n",
       "Chaetoceros                                           9.388456e+04\n",
       "Trieres sinensis                                      6.817759e+04\n",
       "Bellerochea horologicalis                             4.807511e+04"
      ]
     },
     "execution_count": 37,
     "metadata": {},
     "output_type": "execute_result"
    }
   ],
   "source": [
    "# Group cell densities by taxon identifier\n",
    "data_FC[['Taxon', 'density_cell_L']].groupby('Taxon').sum().sort_values(by='density_cell_L', ascending=False).head(10)"
   ]
  },
  {
   "cell_type": "code",
   "execution_count": 38,
   "metadata": {},
   "outputs": [
    {
     "data": {
      "application/vnd.plotly.v1+json": {
       "config": {
        "plotlyServerURL": "https://plot.ly"
       },
       "data": [
        {
         "alignmentgroup": "True",
         "hovertemplate": "density_cell_L=%{x}<br>Taxon=%{y}<extra></extra>",
         "legendgroup": "",
         "marker": {
          "color": "#636efa",
          "pattern": {
           "shape": ""
          }
         },
         "name": "",
         "offsetgroup": "",
         "orientation": "h",
         "showlegend": false,
         "textposition": "auto",
         "type": "bar",
         "x": [
          1.1282197167649501,
          1.25655339290642,
          1.6054532989853727,
          1.930270337524445,
          2.08567972302173,
          2.22987535288124,
          2.32158610762873,
          3.142678394947937,
          3.374053009362716,
          3.5228513085786473,
          3.6584316088491,
          3.69372501303668,
          3.779735705463287,
          4.011457838943185,
          4.0848613385280235,
          4.285957522974185,
          4.369544278520658,
          4.515826602864876,
          4.6616607056369155,
          5.076599907074756,
          5.20919191586166,
          5.51350686111624,
          5.579884550732597,
          5.8179440292259335,
          6.31031921873744,
          6.742161291443989,
          7.105145136533985,
          8.739792401556635,
          9.022257709400584,
          9.20667742694112,
          9.568509939995112,
          9.775512380994613,
          9.834849801836343,
          10.646821011603866,
          10.648227060431246,
          10.769407472800568,
          11.3493451121131,
          11.47275969714354,
          12.48174029258863,
          12.510138165927515,
          13.769401837176598,
          14.009291806531285,
          14.620660268196643,
          15.837029783480506,
          16.090618198059833,
          16.822336923864693,
          17.60461981648701,
          17.7789065972443,
          17.7862474194061,
          17.9506357516829,
          18.21787076189847,
          19.352603016799392,
          19.83467368500946,
          20.28007883101047,
          22.319059843439263,
          25.470669675802846,
          26.106884097117938,
          29.01260090321024,
          29.583954114258223,
          30.314685970544023,
          30.79942457354204,
          32.374699281219314,
          37.06440155059686,
          38.344073902521664,
          39.81348019344784,
          41.48297825084885,
          42.37701766582202,
          42.60448214145478,
          44.778690281700634,
          49.9595897502333,
          51.71273671137785,
          54.806971756436134,
          56.72989571294696,
          60.7790151554779,
          65.55657348394323,
          73.99728522764855,
          82.84831112261708,
          90.65063933438341,
          101.08472567557939,
          116.58046061718635,
          184.00094085276035,
          204.33522932291015,
          256.97213814892183,
          286.6657663295803,
          318.3764133719406,
          340.4474101694468,
          401.87902525555313,
          487.73933788792186,
          487.88529252948587,
          496.5298287683244,
          565.6552820083064,
          603.9811675510049,
          619.3146610560533,
          768.4143200887362,
          824.2583967107981,
          890.279868876891,
          947.0449110613926,
          968.3398346655441,
          1363.5518913815001,
          1647.097522031135,
          1737.7054668477604,
          2460.469717011611,
          2475.3238838615125,
          2773.630120477149,
          19291.61839821023,
          31979.902475100716,
          47477.75311579612,
          143719.34571980836
         ],
         "xaxis": "x",
         "y": [
          "(Pseudo-)pediastrum",
          "Plagiogrammopsis vanheurckii",
          "Euntintinnus",
          "Strombidium",
          "Amphorellopsis",
          "Decapoda",
          "Protoperidinium depressum",
          "Dinophysis",
          "Odontella aurita/Ralfsiella minima",
          "Tripos lineatus",
          "Xystonella",
          "Leptocylindraceae",
          "Appendicularia",
          "Dissodinium pseudolunula",
          "Nematoda",
          "Ciliophora",
          "Meuniera membranacea",
          "Crustacea",
          "Thalassiosira punctigera",
          "Porifera spicule",
          "Epiphytic diatom",
          "Coscinodiscus wailesii",
          "Suctoria",
          "Mollusca",
          "Ciliophora:part",
          "Radiozoa incertae",
          "Skeletonema",
          "Foraminifera",
          "Proboscia",
          "Tintinnina",
          "Biddulphia alternans",
          "Ralfsiella smithii",
          "Protoperidinium pentagonum",
          "Actinoptychus senarius",
          "Dinoflagellate cyst",
          "Plagiogrammopsis/Bellerochea malleus",
          "Polychaeta",
          "Diploneis",
          "Odontella rhombus var. trigona",
          "Coscinodiscus concinnus",
          "Cnidaria",
          "Copepoda adult",
          "Actinoptychus splendens",
          "Dinoflagellata",
          "Auliscus",
          "Pennate diatom colony",
          "Noctiluca scintillans",
          "Ophiuroidea/Echinoidea larvae",
          "Gymnodiniales",
          "Tintinnid cyst",
          "Rotifera",
          "Aulacodiscus argus",
          "Proboscia alata",
          "Coscinodiscus granii",
          "Veliger larvae D-shaped",
          "Thalassiosira/Porosira",
          "Odontella rhombus f. trigona",
          "Chaetoceros danicus",
          "Lauderia/Melosira/Detonula",
          "Neocalyptrella robusta",
          "Mollusca incertae",
          "Paralia",
          "Bacillaria paxillifer",
          "Triceratium favus",
          "Dactyliosolen/Cerataulina/Guinardia",
          "Peritrichia",
          "Trieres mobiliensis/T. regia",
          "Odontella type 1",
          "Actinoptychus",
          "Melosira",
          "Tintinnopsis",
          "Helicotheca tamesis",
          "Tripos",
          "Stephanopyxis",
          "Ceratium horridum/C. longipes",
          "Favella",
          "Chaetoceros curvisetus/C. pseudocurvisetus",
          "Tripos:part",
          "Nauplii",
          "Chaetoceros socialis",
          "Zygoceros",
          "Synedra/Thalassionema",
          "Biddulphianae",
          "Ditylum brightwellii",
          "Bacillariophyceae",
          "Proboscia indica",
          "Stellarima stellaris/Podosira/Hyalodiscus",
          "Asterionella",
          "Eucampia",
          "Pennate Diatom",
          "Guinardia delicatula",
          "Guinardia striata/Dactyliosolen phuketensis",
          "Hobaniella longicruris",
          "Centric Diatom",
          "Lithodesmium undulatum",
          "Bellerochea horologicalis",
          "Protoperidinium",
          "Tripos fusus",
          "Trieres sinensis",
          "Chaetoceros",
          "Bacteriastrum",
          "Guinardia flaccida",
          "Pseudo-nitzschia",
          "Noctilucales",
          "Rhizosolenia setigera (f. pungens)/R. hebetata f. semispina",
          "Rhizosolenia",
          "Phytoplankton Colony",
          "Long (chained) diatom"
         ],
         "yaxis": "y"
        }
       ],
       "layout": {
        "barmode": "relative",
        "font": {
         "color": "#7f7f7f",
         "family": "Times New Roman, serif",
         "size": 11
        },
        "height": 800,
        "legend": {
         "tracegroupgap": 0
        },
        "margin": {
         "t": 60
        },
        "showlegend": false,
        "template": {
         "data": {
          "bar": [
           {
            "error_x": {
             "color": "#2a3f5f"
            },
            "error_y": {
             "color": "#2a3f5f"
            },
            "marker": {
             "line": {
              "color": "#E5ECF6",
              "width": 0.5
             },
             "pattern": {
              "fillmode": "overlay",
              "size": 10,
              "solidity": 0.2
             }
            },
            "type": "bar"
           }
          ],
          "barpolar": [
           {
            "marker": {
             "line": {
              "color": "#E5ECF6",
              "width": 0.5
             },
             "pattern": {
              "fillmode": "overlay",
              "size": 10,
              "solidity": 0.2
             }
            },
            "type": "barpolar"
           }
          ],
          "carpet": [
           {
            "aaxis": {
             "endlinecolor": "#2a3f5f",
             "gridcolor": "white",
             "linecolor": "white",
             "minorgridcolor": "white",
             "startlinecolor": "#2a3f5f"
            },
            "baxis": {
             "endlinecolor": "#2a3f5f",
             "gridcolor": "white",
             "linecolor": "white",
             "minorgridcolor": "white",
             "startlinecolor": "#2a3f5f"
            },
            "type": "carpet"
           }
          ],
          "choropleth": [
           {
            "colorbar": {
             "outlinewidth": 0,
             "ticks": ""
            },
            "type": "choropleth"
           }
          ],
          "contour": [
           {
            "colorbar": {
             "outlinewidth": 0,
             "ticks": ""
            },
            "colorscale": [
             [
              0,
              "#0d0887"
             ],
             [
              0.1111111111111111,
              "#46039f"
             ],
             [
              0.2222222222222222,
              "#7201a8"
             ],
             [
              0.3333333333333333,
              "#9c179e"
             ],
             [
              0.4444444444444444,
              "#bd3786"
             ],
             [
              0.5555555555555556,
              "#d8576b"
             ],
             [
              0.6666666666666666,
              "#ed7953"
             ],
             [
              0.7777777777777778,
              "#fb9f3a"
             ],
             [
              0.8888888888888888,
              "#fdca26"
             ],
             [
              1,
              "#f0f921"
             ]
            ],
            "type": "contour"
           }
          ],
          "contourcarpet": [
           {
            "colorbar": {
             "outlinewidth": 0,
             "ticks": ""
            },
            "type": "contourcarpet"
           }
          ],
          "heatmap": [
           {
            "colorbar": {
             "outlinewidth": 0,
             "ticks": ""
            },
            "colorscale": [
             [
              0,
              "#0d0887"
             ],
             [
              0.1111111111111111,
              "#46039f"
             ],
             [
              0.2222222222222222,
              "#7201a8"
             ],
             [
              0.3333333333333333,
              "#9c179e"
             ],
             [
              0.4444444444444444,
              "#bd3786"
             ],
             [
              0.5555555555555556,
              "#d8576b"
             ],
             [
              0.6666666666666666,
              "#ed7953"
             ],
             [
              0.7777777777777778,
              "#fb9f3a"
             ],
             [
              0.8888888888888888,
              "#fdca26"
             ],
             [
              1,
              "#f0f921"
             ]
            ],
            "type": "heatmap"
           }
          ],
          "heatmapgl": [
           {
            "colorbar": {
             "outlinewidth": 0,
             "ticks": ""
            },
            "colorscale": [
             [
              0,
              "#0d0887"
             ],
             [
              0.1111111111111111,
              "#46039f"
             ],
             [
              0.2222222222222222,
              "#7201a8"
             ],
             [
              0.3333333333333333,
              "#9c179e"
             ],
             [
              0.4444444444444444,
              "#bd3786"
             ],
             [
              0.5555555555555556,
              "#d8576b"
             ],
             [
              0.6666666666666666,
              "#ed7953"
             ],
             [
              0.7777777777777778,
              "#fb9f3a"
             ],
             [
              0.8888888888888888,
              "#fdca26"
             ],
             [
              1,
              "#f0f921"
             ]
            ],
            "type": "heatmapgl"
           }
          ],
          "histogram": [
           {
            "marker": {
             "pattern": {
              "fillmode": "overlay",
              "size": 10,
              "solidity": 0.2
             }
            },
            "type": "histogram"
           }
          ],
          "histogram2d": [
           {
            "colorbar": {
             "outlinewidth": 0,
             "ticks": ""
            },
            "colorscale": [
             [
              0,
              "#0d0887"
             ],
             [
              0.1111111111111111,
              "#46039f"
             ],
             [
              0.2222222222222222,
              "#7201a8"
             ],
             [
              0.3333333333333333,
              "#9c179e"
             ],
             [
              0.4444444444444444,
              "#bd3786"
             ],
             [
              0.5555555555555556,
              "#d8576b"
             ],
             [
              0.6666666666666666,
              "#ed7953"
             ],
             [
              0.7777777777777778,
              "#fb9f3a"
             ],
             [
              0.8888888888888888,
              "#fdca26"
             ],
             [
              1,
              "#f0f921"
             ]
            ],
            "type": "histogram2d"
           }
          ],
          "histogram2dcontour": [
           {
            "colorbar": {
             "outlinewidth": 0,
             "ticks": ""
            },
            "colorscale": [
             [
              0,
              "#0d0887"
             ],
             [
              0.1111111111111111,
              "#46039f"
             ],
             [
              0.2222222222222222,
              "#7201a8"
             ],
             [
              0.3333333333333333,
              "#9c179e"
             ],
             [
              0.4444444444444444,
              "#bd3786"
             ],
             [
              0.5555555555555556,
              "#d8576b"
             ],
             [
              0.6666666666666666,
              "#ed7953"
             ],
             [
              0.7777777777777778,
              "#fb9f3a"
             ],
             [
              0.8888888888888888,
              "#fdca26"
             ],
             [
              1,
              "#f0f921"
             ]
            ],
            "type": "histogram2dcontour"
           }
          ],
          "mesh3d": [
           {
            "colorbar": {
             "outlinewidth": 0,
             "ticks": ""
            },
            "type": "mesh3d"
           }
          ],
          "parcoords": [
           {
            "line": {
             "colorbar": {
              "outlinewidth": 0,
              "ticks": ""
             }
            },
            "type": "parcoords"
           }
          ],
          "pie": [
           {
            "automargin": true,
            "type": "pie"
           }
          ],
          "scatter": [
           {
            "marker": {
             "colorbar": {
              "outlinewidth": 0,
              "ticks": ""
             }
            },
            "type": "scatter"
           }
          ],
          "scatter3d": [
           {
            "line": {
             "colorbar": {
              "outlinewidth": 0,
              "ticks": ""
             }
            },
            "marker": {
             "colorbar": {
              "outlinewidth": 0,
              "ticks": ""
             }
            },
            "type": "scatter3d"
           }
          ],
          "scattercarpet": [
           {
            "marker": {
             "colorbar": {
              "outlinewidth": 0,
              "ticks": ""
             }
            },
            "type": "scattercarpet"
           }
          ],
          "scattergeo": [
           {
            "marker": {
             "colorbar": {
              "outlinewidth": 0,
              "ticks": ""
             }
            },
            "type": "scattergeo"
           }
          ],
          "scattergl": [
           {
            "marker": {
             "colorbar": {
              "outlinewidth": 0,
              "ticks": ""
             }
            },
            "type": "scattergl"
           }
          ],
          "scattermapbox": [
           {
            "marker": {
             "colorbar": {
              "outlinewidth": 0,
              "ticks": ""
             }
            },
            "type": "scattermapbox"
           }
          ],
          "scatterpolar": [
           {
            "marker": {
             "colorbar": {
              "outlinewidth": 0,
              "ticks": ""
             }
            },
            "type": "scatterpolar"
           }
          ],
          "scatterpolargl": [
           {
            "marker": {
             "colorbar": {
              "outlinewidth": 0,
              "ticks": ""
             }
            },
            "type": "scatterpolargl"
           }
          ],
          "scatterternary": [
           {
            "marker": {
             "colorbar": {
              "outlinewidth": 0,
              "ticks": ""
             }
            },
            "type": "scatterternary"
           }
          ],
          "surface": [
           {
            "colorbar": {
             "outlinewidth": 0,
             "ticks": ""
            },
            "colorscale": [
             [
              0,
              "#0d0887"
             ],
             [
              0.1111111111111111,
              "#46039f"
             ],
             [
              0.2222222222222222,
              "#7201a8"
             ],
             [
              0.3333333333333333,
              "#9c179e"
             ],
             [
              0.4444444444444444,
              "#bd3786"
             ],
             [
              0.5555555555555556,
              "#d8576b"
             ],
             [
              0.6666666666666666,
              "#ed7953"
             ],
             [
              0.7777777777777778,
              "#fb9f3a"
             ],
             [
              0.8888888888888888,
              "#fdca26"
             ],
             [
              1,
              "#f0f921"
             ]
            ],
            "type": "surface"
           }
          ],
          "table": [
           {
            "cells": {
             "fill": {
              "color": "#EBF0F8"
             },
             "line": {
              "color": "white"
             }
            },
            "header": {
             "fill": {
              "color": "#C8D4E3"
             },
             "line": {
              "color": "white"
             }
            },
            "type": "table"
           }
          ]
         },
         "layout": {
          "annotationdefaults": {
           "arrowcolor": "#2a3f5f",
           "arrowhead": 0,
           "arrowwidth": 1
          },
          "autotypenumbers": "strict",
          "coloraxis": {
           "colorbar": {
            "outlinewidth": 0,
            "ticks": ""
           }
          },
          "colorscale": {
           "diverging": [
            [
             0,
             "#8e0152"
            ],
            [
             0.1,
             "#c51b7d"
            ],
            [
             0.2,
             "#de77ae"
            ],
            [
             0.3,
             "#f1b6da"
            ],
            [
             0.4,
             "#fde0ef"
            ],
            [
             0.5,
             "#f7f7f7"
            ],
            [
             0.6,
             "#e6f5d0"
            ],
            [
             0.7,
             "#b8e186"
            ],
            [
             0.8,
             "#7fbc41"
            ],
            [
             0.9,
             "#4d9221"
            ],
            [
             1,
             "#276419"
            ]
           ],
           "sequential": [
            [
             0,
             "#0d0887"
            ],
            [
             0.1111111111111111,
             "#46039f"
            ],
            [
             0.2222222222222222,
             "#7201a8"
            ],
            [
             0.3333333333333333,
             "#9c179e"
            ],
            [
             0.4444444444444444,
             "#bd3786"
            ],
            [
             0.5555555555555556,
             "#d8576b"
            ],
            [
             0.6666666666666666,
             "#ed7953"
            ],
            [
             0.7777777777777778,
             "#fb9f3a"
            ],
            [
             0.8888888888888888,
             "#fdca26"
            ],
            [
             1,
             "#f0f921"
            ]
           ],
           "sequentialminus": [
            [
             0,
             "#0d0887"
            ],
            [
             0.1111111111111111,
             "#46039f"
            ],
            [
             0.2222222222222222,
             "#7201a8"
            ],
            [
             0.3333333333333333,
             "#9c179e"
            ],
            [
             0.4444444444444444,
             "#bd3786"
            ],
            [
             0.5555555555555556,
             "#d8576b"
            ],
            [
             0.6666666666666666,
             "#ed7953"
            ],
            [
             0.7777777777777778,
             "#fb9f3a"
            ],
            [
             0.8888888888888888,
             "#fdca26"
            ],
            [
             1,
             "#f0f921"
            ]
           ]
          },
          "colorway": [
           "#636efa",
           "#EF553B",
           "#00cc96",
           "#ab63fa",
           "#FFA15A",
           "#19d3f3",
           "#FF6692",
           "#B6E880",
           "#FF97FF",
           "#FECB52"
          ],
          "font": {
           "color": "#2a3f5f"
          },
          "geo": {
           "bgcolor": "white",
           "lakecolor": "white",
           "landcolor": "#E5ECF6",
           "showlakes": true,
           "showland": true,
           "subunitcolor": "white"
          },
          "hoverlabel": {
           "align": "left"
          },
          "hovermode": "closest",
          "mapbox": {
           "style": "light"
          },
          "paper_bgcolor": "white",
          "plot_bgcolor": "#E5ECF6",
          "polar": {
           "angularaxis": {
            "gridcolor": "white",
            "linecolor": "white",
            "ticks": ""
           },
           "bgcolor": "#E5ECF6",
           "radialaxis": {
            "gridcolor": "white",
            "linecolor": "white",
            "ticks": ""
           }
          },
          "scene": {
           "xaxis": {
            "backgroundcolor": "#E5ECF6",
            "gridcolor": "white",
            "gridwidth": 2,
            "linecolor": "white",
            "showbackground": true,
            "ticks": "",
            "zerolinecolor": "white"
           },
           "yaxis": {
            "backgroundcolor": "#E5ECF6",
            "gridcolor": "white",
            "gridwidth": 2,
            "linecolor": "white",
            "showbackground": true,
            "ticks": "",
            "zerolinecolor": "white"
           },
           "zaxis": {
            "backgroundcolor": "#E5ECF6",
            "gridcolor": "white",
            "gridwidth": 2,
            "linecolor": "white",
            "showbackground": true,
            "ticks": "",
            "zerolinecolor": "white"
           }
          },
          "shapedefaults": {
           "line": {
            "color": "#2a3f5f"
           }
          },
          "ternary": {
           "aaxis": {
            "gridcolor": "white",
            "linecolor": "white",
            "ticks": ""
           },
           "baxis": {
            "gridcolor": "white",
            "linecolor": "white",
            "ticks": ""
           },
           "bgcolor": "#E5ECF6",
           "caxis": {
            "gridcolor": "white",
            "linecolor": "white",
            "ticks": ""
           }
          },
          "title": {
           "x": 0.05
          },
          "xaxis": {
           "automargin": true,
           "gridcolor": "white",
           "linecolor": "white",
           "ticks": "",
           "title": {
            "standoff": 15
           },
           "zerolinecolor": "white",
           "zerolinewidth": 2
          },
          "yaxis": {
           "automargin": true,
           "gridcolor": "white",
           "linecolor": "white",
           "ticks": "",
           "title": {
            "standoff": 15
           },
           "zerolinecolor": "white",
           "zerolinewidth": 2
          }
         }
        },
        "title": {
         "text": "Flowcam sum of counts"
        },
        "width": 600,
        "xaxis": {
         "anchor": "y",
         "domain": [
          0,
          1
         ],
         "title": {
          "text": "Average cell density per L"
         },
         "type": "log"
        },
        "yaxis": {
         "anchor": "x",
         "domain": [
          0,
          1
         ],
         "title": {
          "text": "Taxon"
         }
        }
       }
      }
     },
     "metadata": {},
     "output_type": "display_data"
    }
   ],
   "source": [
    "# Let's plot the most counted taxa and plot the log10 of the average cell density per L\n",
    "plot_data = data_FC[['Taxon', 'density_cell_L']].groupby('Taxon').mean().sort_values(by='density_cell_L', ascending=True)\n",
    "\n",
    "fig = px.bar(plot_data,  x='density_cell_L', y=plot_data.index, orientation=\"h\", log_x=True)\n",
    "\n",
    "# Customize the chart appearance\n",
    "fig.update_layout(\n",
    "    title=\"Flowcam sum of counts\",  # Set the chart title\n",
    "    xaxis_title=\"Average cell density per L\",  # Set the x-axis title\n",
    "    yaxis_title=\"Taxon\",  # Set the y-axis title\n",
    "    font=dict(\n",
    "        family=\"Times New Roman, serif\",  # Set the font family to Times New Roman\n",
    "        size=11,  # Set the font size\n",
    "        color=\"#7f7f7f\"  # Set the font color\n",
    "    ),\n",
    "    width=600,  # Set the chart width\n",
    "    height=800,  # Set the chart height\n",
    "    showlegend=False  # Hide the legend\n",
    ")"
   ]
  },
  {
   "cell_type": "code",
   "execution_count": 39,
   "metadata": {},
   "outputs": [],
   "source": [
    "fig.write_image('../../figures/flowcam/flowcam_taxon_average_cell_density.svg')"
   ]
  },
  {
   "cell_type": "code",
   "execution_count": 40,
   "metadata": {},
   "outputs": [
    {
     "data": {
      "application/vnd.plotly.v1+json": {
       "config": {
        "plotlyServerURL": "https://plot.ly"
       },
       "data": [
        {
         "alignmentgroup": "True",
         "hovertemplate": "density_cell_L=%{x}<br>Taxon=%{y}<extra></extra>",
         "legendgroup": "",
         "marker": {
          "color": "#636efa",
          "pattern": {
           "shape": ""
          }
         },
         "name": "",
         "offsetgroup": "",
         "orientation": "h",
         "showlegend": false,
         "textposition": "auto",
         "type": "bar",
         "x": [
          1.25655339290642,
          2.08567972302173,
          2.2564394335299003,
          2.32158610762873,
          3.2109065979707454,
          3.6584316088491,
          3.69372501303668,
          3.86054067504889,
          4.45975070576248,
          5.20919191586166,
          5.51350686111624,
          8.02291567788637,
          9.323321411273831,
          9.42803518484381,
          11.3493451121131,
          12.25458401558407,
          14.091405234314589,
          16.87026504681358,
          17.7789065972443,
          17.7862474194061,
          17.9506357516829,
          18.93095765621232,
          20.22648387433197,
          21.429787614870925,
          22.31953820293039,
          22.678414232779723,
          25.02027633185503,
          36.08903083760234,
          42.63087081920391,
          46.54355223380747,
          48.271854594179494,
          56.80407562076856,
          58.705745837243384,
          59.50402105502838,
          62.40870146294314,
          67.28934769545877,
          68.42858666696229,
          68.8439486128544,
          70.41847926594804,
          91.3787983273456,
          99.9191795004666,
          113.61730122023624,
          114.82211927994135,
          119.44044058034352,
          130.5344204855897,
          140.0022971464074,
          151.46342020894258,
          162.24063064808377,
          182.1787076189847,
          193.34022596576352,
          223.61276826905618,
          252.40071333715787,
          255.6268928487287,
          261.11340812889216,
          266.17052529009663,
          280.1773664338313,
          295.8395411425822,
          308.2044197436883,
          350.8958464367194,
          401.7430771819067,
          414.8297825084885,
          459.2738637209347,
          483.81507541998485,
          497.08986673570246,
          517.1273671137785,
          547.0111363993011,
          727.5524632930566,
          739.186189765009,
          816.0632243203045,
          850.9484356942045,
          852.2354552912619,
          926.6100387649216,
          1227.0103648806933,
          1331.951134097674,
          1456.861467654869,
          1610.3266713012365,
          1746.3689209863246,
          2192.2788702574453,
          2356.9166226939687,
          5106.711152541702,
          5660.744637832446,
          5925.721650364394,
          9384.047983490778,
          10046.975631388828,
          10528.349237952905,
          10730.265433534281,
          12685.017605766632,
          13010.071486191047,
          13619.523321892857,
          13759.956783819855,
          17829.079148828674,
          20834.988043350637,
          22254.97671119155,
          22951.284366938187,
          29791.789726099465,
          31278.69840325969,
          31955.214543962957,
          46873.27352541291,
          48075.11291935211,
          68177.59456907501,
          93884.55875577469,
          110945.20481908595,
          118815.5464253526,
          135325.8344356386,
          829539.5911230398,
          949555.0623159225,
          1822854.441080741,
          8766880.088908311
         ],
         "xaxis": "x",
         "y": [
          "Plagiogrammopsis vanheurckii",
          "Amphorellopsis",
          "(Pseudo-)pediastrum",
          "Protoperidinium depressum",
          "Euntintinnus",
          "Xystonella",
          "Leptocylindraceae",
          "Strombidium",
          "Decapoda",
          "Epiphytic diatom",
          "Coscinodiscus wailesii",
          "Dissodinium pseudolunula",
          "Thalassiosira punctigera",
          "Dinophysis",
          "Polychaeta",
          "Nematoda",
          "Tripos lineatus",
          "Odontella aurita/Ralfsiella minima",
          "Ophiuroidea/Echinoidea larvae",
          "Gymnodiniales",
          "Tintinnid cyst",
          "Ciliophora:part",
          "Radiozoa incertae",
          "Ciliophora",
          "Suctoria",
          "Appendicularia",
          "Coscinodiscus concinnus",
          "Proboscia",
          "Skeletonema",
          "Mollusca",
          "Auliscus",
          "Meuniera membranacea",
          "Crustacea",
          "Proboscia alata",
          "Odontella rhombus var. trigona",
          "Pennate diatom colony",
          "Ralfsiella smithii",
          "Protoperidinium pentagonum",
          "Noctiluca scintillans",
          "Porifera spicule",
          "Melosira",
          "Foraminifera",
          "Biddulphia alternans",
          "Dactyliosolen/Cerataulina/Guinardia",
          "Odontella rhombus f. trigona",
          "Plagiogrammopsis/Bellerochea malleus",
          "Cnidaria",
          "Coscinodiscus granii",
          "Rotifera",
          "Tintinnina",
          "Dinoflagellate cyst",
          "Diploneis",
          "Odontella type 1",
          "Chaetoceros danicus",
          "Actinoptychus senarius",
          "Thalassiosira/Porosira",
          "Lauderia/Melosira/Detonula",
          "Copepoda adult",
          "Actinoptychus splendens",
          "Veliger larvae D-shaped",
          "Peritrichia",
          "Dinoflagellata",
          "Aulacodiscus argus",
          "Chaetoceros curvisetus/C. pseudocurvisetus",
          "Tintinnopsis",
          "Stephanopyxis",
          "Neocalyptrella robusta",
          "Mollusca incertae",
          "Chaetoceros socialis",
          "Tripos",
          "Ceratium horridum/C. longipes",
          "Bacillaria paxillifer",
          "Triceratium favus",
          "Favella",
          "Paralia",
          "Trieres mobiliensis/T. regia",
          "Actinoptychus",
          "Helicotheca tamesis",
          "Tripos:part",
          "Proboscia indica",
          "Nauplii",
          "Synedra/Thalassionema",
          "Zygoceros",
          "Stellarima stellaris/Podosira/Hyalodiscus",
          "Hobaniella longicruris",
          "Asterionella",
          "Eucampia",
          "Guinardia delicatula",
          "Biddulphianae",
          "Ditylum brightwellii",
          "Bacillariophyceae",
          "Protoperidinium",
          "Lithodesmium undulatum",
          "Guinardia striata/Dactyliosolen phuketensis",
          "Pennate Diatom",
          "Bacteriastrum",
          "Tripos fusus",
          "Centric Diatom",
          "Bellerochea horologicalis",
          "Trieres sinensis",
          "Chaetoceros",
          "Noctilucales",
          "Pseudo-nitzschia",
          "Guinardia flaccida",
          "Rhizosolenia setigera (f. pungens)/R. hebetata f. semispina",
          "Phytoplankton Colony",
          "Rhizosolenia",
          "Long (chained) diatom"
         ],
         "yaxis": "y"
        }
       ],
       "layout": {
        "barmode": "relative",
        "font": {
         "color": "#7f7f7f",
         "family": "Times New Roman, serif",
         "size": 18
        },
        "height": 800,
        "legend": {
         "tracegroupgap": 0
        },
        "margin": {
         "t": 60
        },
        "showlegend": false,
        "template": {
         "data": {
          "bar": [
           {
            "error_x": {
             "color": "#2a3f5f"
            },
            "error_y": {
             "color": "#2a3f5f"
            },
            "marker": {
             "line": {
              "color": "#E5ECF6",
              "width": 0.5
             },
             "pattern": {
              "fillmode": "overlay",
              "size": 10,
              "solidity": 0.2
             }
            },
            "type": "bar"
           }
          ],
          "barpolar": [
           {
            "marker": {
             "line": {
              "color": "#E5ECF6",
              "width": 0.5
             },
             "pattern": {
              "fillmode": "overlay",
              "size": 10,
              "solidity": 0.2
             }
            },
            "type": "barpolar"
           }
          ],
          "carpet": [
           {
            "aaxis": {
             "endlinecolor": "#2a3f5f",
             "gridcolor": "white",
             "linecolor": "white",
             "minorgridcolor": "white",
             "startlinecolor": "#2a3f5f"
            },
            "baxis": {
             "endlinecolor": "#2a3f5f",
             "gridcolor": "white",
             "linecolor": "white",
             "minorgridcolor": "white",
             "startlinecolor": "#2a3f5f"
            },
            "type": "carpet"
           }
          ],
          "choropleth": [
           {
            "colorbar": {
             "outlinewidth": 0,
             "ticks": ""
            },
            "type": "choropleth"
           }
          ],
          "contour": [
           {
            "colorbar": {
             "outlinewidth": 0,
             "ticks": ""
            },
            "colorscale": [
             [
              0,
              "#0d0887"
             ],
             [
              0.1111111111111111,
              "#46039f"
             ],
             [
              0.2222222222222222,
              "#7201a8"
             ],
             [
              0.3333333333333333,
              "#9c179e"
             ],
             [
              0.4444444444444444,
              "#bd3786"
             ],
             [
              0.5555555555555556,
              "#d8576b"
             ],
             [
              0.6666666666666666,
              "#ed7953"
             ],
             [
              0.7777777777777778,
              "#fb9f3a"
             ],
             [
              0.8888888888888888,
              "#fdca26"
             ],
             [
              1,
              "#f0f921"
             ]
            ],
            "type": "contour"
           }
          ],
          "contourcarpet": [
           {
            "colorbar": {
             "outlinewidth": 0,
             "ticks": ""
            },
            "type": "contourcarpet"
           }
          ],
          "heatmap": [
           {
            "colorbar": {
             "outlinewidth": 0,
             "ticks": ""
            },
            "colorscale": [
             [
              0,
              "#0d0887"
             ],
             [
              0.1111111111111111,
              "#46039f"
             ],
             [
              0.2222222222222222,
              "#7201a8"
             ],
             [
              0.3333333333333333,
              "#9c179e"
             ],
             [
              0.4444444444444444,
              "#bd3786"
             ],
             [
              0.5555555555555556,
              "#d8576b"
             ],
             [
              0.6666666666666666,
              "#ed7953"
             ],
             [
              0.7777777777777778,
              "#fb9f3a"
             ],
             [
              0.8888888888888888,
              "#fdca26"
             ],
             [
              1,
              "#f0f921"
             ]
            ],
            "type": "heatmap"
           }
          ],
          "heatmapgl": [
           {
            "colorbar": {
             "outlinewidth": 0,
             "ticks": ""
            },
            "colorscale": [
             [
              0,
              "#0d0887"
             ],
             [
              0.1111111111111111,
              "#46039f"
             ],
             [
              0.2222222222222222,
              "#7201a8"
             ],
             [
              0.3333333333333333,
              "#9c179e"
             ],
             [
              0.4444444444444444,
              "#bd3786"
             ],
             [
              0.5555555555555556,
              "#d8576b"
             ],
             [
              0.6666666666666666,
              "#ed7953"
             ],
             [
              0.7777777777777778,
              "#fb9f3a"
             ],
             [
              0.8888888888888888,
              "#fdca26"
             ],
             [
              1,
              "#f0f921"
             ]
            ],
            "type": "heatmapgl"
           }
          ],
          "histogram": [
           {
            "marker": {
             "pattern": {
              "fillmode": "overlay",
              "size": 10,
              "solidity": 0.2
             }
            },
            "type": "histogram"
           }
          ],
          "histogram2d": [
           {
            "colorbar": {
             "outlinewidth": 0,
             "ticks": ""
            },
            "colorscale": [
             [
              0,
              "#0d0887"
             ],
             [
              0.1111111111111111,
              "#46039f"
             ],
             [
              0.2222222222222222,
              "#7201a8"
             ],
             [
              0.3333333333333333,
              "#9c179e"
             ],
             [
              0.4444444444444444,
              "#bd3786"
             ],
             [
              0.5555555555555556,
              "#d8576b"
             ],
             [
              0.6666666666666666,
              "#ed7953"
             ],
             [
              0.7777777777777778,
              "#fb9f3a"
             ],
             [
              0.8888888888888888,
              "#fdca26"
             ],
             [
              1,
              "#f0f921"
             ]
            ],
            "type": "histogram2d"
           }
          ],
          "histogram2dcontour": [
           {
            "colorbar": {
             "outlinewidth": 0,
             "ticks": ""
            },
            "colorscale": [
             [
              0,
              "#0d0887"
             ],
             [
              0.1111111111111111,
              "#46039f"
             ],
             [
              0.2222222222222222,
              "#7201a8"
             ],
             [
              0.3333333333333333,
              "#9c179e"
             ],
             [
              0.4444444444444444,
              "#bd3786"
             ],
             [
              0.5555555555555556,
              "#d8576b"
             ],
             [
              0.6666666666666666,
              "#ed7953"
             ],
             [
              0.7777777777777778,
              "#fb9f3a"
             ],
             [
              0.8888888888888888,
              "#fdca26"
             ],
             [
              1,
              "#f0f921"
             ]
            ],
            "type": "histogram2dcontour"
           }
          ],
          "mesh3d": [
           {
            "colorbar": {
             "outlinewidth": 0,
             "ticks": ""
            },
            "type": "mesh3d"
           }
          ],
          "parcoords": [
           {
            "line": {
             "colorbar": {
              "outlinewidth": 0,
              "ticks": ""
             }
            },
            "type": "parcoords"
           }
          ],
          "pie": [
           {
            "automargin": true,
            "type": "pie"
           }
          ],
          "scatter": [
           {
            "marker": {
             "colorbar": {
              "outlinewidth": 0,
              "ticks": ""
             }
            },
            "type": "scatter"
           }
          ],
          "scatter3d": [
           {
            "line": {
             "colorbar": {
              "outlinewidth": 0,
              "ticks": ""
             }
            },
            "marker": {
             "colorbar": {
              "outlinewidth": 0,
              "ticks": ""
             }
            },
            "type": "scatter3d"
           }
          ],
          "scattercarpet": [
           {
            "marker": {
             "colorbar": {
              "outlinewidth": 0,
              "ticks": ""
             }
            },
            "type": "scattercarpet"
           }
          ],
          "scattergeo": [
           {
            "marker": {
             "colorbar": {
              "outlinewidth": 0,
              "ticks": ""
             }
            },
            "type": "scattergeo"
           }
          ],
          "scattergl": [
           {
            "marker": {
             "colorbar": {
              "outlinewidth": 0,
              "ticks": ""
             }
            },
            "type": "scattergl"
           }
          ],
          "scattermapbox": [
           {
            "marker": {
             "colorbar": {
              "outlinewidth": 0,
              "ticks": ""
             }
            },
            "type": "scattermapbox"
           }
          ],
          "scatterpolar": [
           {
            "marker": {
             "colorbar": {
              "outlinewidth": 0,
              "ticks": ""
             }
            },
            "type": "scatterpolar"
           }
          ],
          "scatterpolargl": [
           {
            "marker": {
             "colorbar": {
              "outlinewidth": 0,
              "ticks": ""
             }
            },
            "type": "scatterpolargl"
           }
          ],
          "scatterternary": [
           {
            "marker": {
             "colorbar": {
              "outlinewidth": 0,
              "ticks": ""
             }
            },
            "type": "scatterternary"
           }
          ],
          "surface": [
           {
            "colorbar": {
             "outlinewidth": 0,
             "ticks": ""
            },
            "colorscale": [
             [
              0,
              "#0d0887"
             ],
             [
              0.1111111111111111,
              "#46039f"
             ],
             [
              0.2222222222222222,
              "#7201a8"
             ],
             [
              0.3333333333333333,
              "#9c179e"
             ],
             [
              0.4444444444444444,
              "#bd3786"
             ],
             [
              0.5555555555555556,
              "#d8576b"
             ],
             [
              0.6666666666666666,
              "#ed7953"
             ],
             [
              0.7777777777777778,
              "#fb9f3a"
             ],
             [
              0.8888888888888888,
              "#fdca26"
             ],
             [
              1,
              "#f0f921"
             ]
            ],
            "type": "surface"
           }
          ],
          "table": [
           {
            "cells": {
             "fill": {
              "color": "#EBF0F8"
             },
             "line": {
              "color": "white"
             }
            },
            "header": {
             "fill": {
              "color": "#C8D4E3"
             },
             "line": {
              "color": "white"
             }
            },
            "type": "table"
           }
          ]
         },
         "layout": {
          "annotationdefaults": {
           "arrowcolor": "#2a3f5f",
           "arrowhead": 0,
           "arrowwidth": 1
          },
          "autotypenumbers": "strict",
          "coloraxis": {
           "colorbar": {
            "outlinewidth": 0,
            "ticks": ""
           }
          },
          "colorscale": {
           "diverging": [
            [
             0,
             "#8e0152"
            ],
            [
             0.1,
             "#c51b7d"
            ],
            [
             0.2,
             "#de77ae"
            ],
            [
             0.3,
             "#f1b6da"
            ],
            [
             0.4,
             "#fde0ef"
            ],
            [
             0.5,
             "#f7f7f7"
            ],
            [
             0.6,
             "#e6f5d0"
            ],
            [
             0.7,
             "#b8e186"
            ],
            [
             0.8,
             "#7fbc41"
            ],
            [
             0.9,
             "#4d9221"
            ],
            [
             1,
             "#276419"
            ]
           ],
           "sequential": [
            [
             0,
             "#0d0887"
            ],
            [
             0.1111111111111111,
             "#46039f"
            ],
            [
             0.2222222222222222,
             "#7201a8"
            ],
            [
             0.3333333333333333,
             "#9c179e"
            ],
            [
             0.4444444444444444,
             "#bd3786"
            ],
            [
             0.5555555555555556,
             "#d8576b"
            ],
            [
             0.6666666666666666,
             "#ed7953"
            ],
            [
             0.7777777777777778,
             "#fb9f3a"
            ],
            [
             0.8888888888888888,
             "#fdca26"
            ],
            [
             1,
             "#f0f921"
            ]
           ],
           "sequentialminus": [
            [
             0,
             "#0d0887"
            ],
            [
             0.1111111111111111,
             "#46039f"
            ],
            [
             0.2222222222222222,
             "#7201a8"
            ],
            [
             0.3333333333333333,
             "#9c179e"
            ],
            [
             0.4444444444444444,
             "#bd3786"
            ],
            [
             0.5555555555555556,
             "#d8576b"
            ],
            [
             0.6666666666666666,
             "#ed7953"
            ],
            [
             0.7777777777777778,
             "#fb9f3a"
            ],
            [
             0.8888888888888888,
             "#fdca26"
            ],
            [
             1,
             "#f0f921"
            ]
           ]
          },
          "colorway": [
           "#636efa",
           "#EF553B",
           "#00cc96",
           "#ab63fa",
           "#FFA15A",
           "#19d3f3",
           "#FF6692",
           "#B6E880",
           "#FF97FF",
           "#FECB52"
          ],
          "font": {
           "color": "#2a3f5f"
          },
          "geo": {
           "bgcolor": "white",
           "lakecolor": "white",
           "landcolor": "#E5ECF6",
           "showlakes": true,
           "showland": true,
           "subunitcolor": "white"
          },
          "hoverlabel": {
           "align": "left"
          },
          "hovermode": "closest",
          "mapbox": {
           "style": "light"
          },
          "paper_bgcolor": "white",
          "plot_bgcolor": "#E5ECF6",
          "polar": {
           "angularaxis": {
            "gridcolor": "white",
            "linecolor": "white",
            "ticks": ""
           },
           "bgcolor": "#E5ECF6",
           "radialaxis": {
            "gridcolor": "white",
            "linecolor": "white",
            "ticks": ""
           }
          },
          "scene": {
           "xaxis": {
            "backgroundcolor": "#E5ECF6",
            "gridcolor": "white",
            "gridwidth": 2,
            "linecolor": "white",
            "showbackground": true,
            "ticks": "",
            "zerolinecolor": "white"
           },
           "yaxis": {
            "backgroundcolor": "#E5ECF6",
            "gridcolor": "white",
            "gridwidth": 2,
            "linecolor": "white",
            "showbackground": true,
            "ticks": "",
            "zerolinecolor": "white"
           },
           "zaxis": {
            "backgroundcolor": "#E5ECF6",
            "gridcolor": "white",
            "gridwidth": 2,
            "linecolor": "white",
            "showbackground": true,
            "ticks": "",
            "zerolinecolor": "white"
           }
          },
          "shapedefaults": {
           "line": {
            "color": "#2a3f5f"
           }
          },
          "ternary": {
           "aaxis": {
            "gridcolor": "white",
            "linecolor": "white",
            "ticks": ""
           },
           "baxis": {
            "gridcolor": "white",
            "linecolor": "white",
            "ticks": ""
           },
           "bgcolor": "#E5ECF6",
           "caxis": {
            "gridcolor": "white",
            "linecolor": "white",
            "ticks": ""
           }
          },
          "title": {
           "x": 0.05
          },
          "xaxis": {
           "automargin": true,
           "gridcolor": "white",
           "linecolor": "white",
           "ticks": "",
           "title": {
            "standoff": 15
           },
           "zerolinecolor": "white",
           "zerolinewidth": 2
          },
          "yaxis": {
           "automargin": true,
           "gridcolor": "white",
           "linecolor": "white",
           "ticks": "",
           "title": {
            "standoff": 15
           },
           "zerolinecolor": "white",
           "zerolinewidth": 2
          }
         }
        },
        "title": {
         "text": "Flowcam sum of counts"
        },
        "width": 600,
        "xaxis": {
         "anchor": "y",
         "domain": [
          0,
          1
         ],
         "title": {
          "text": "Sum of cell densities per L"
         },
         "type": "log"
        },
        "yaxis": {
         "anchor": "x",
         "domain": [
          0,
          1
         ],
         "title": {
          "text": "Taxon"
         }
        }
       }
      }
     },
     "metadata": {},
     "output_type": "display_data"
    }
   ],
   "source": [
    "# Let's plot the most counted taxa and plot the log10 of the summed cell density per L\n",
    "plot_data = data_FC[['Taxon', 'density_cell_L']].groupby('Taxon').sum().sort_values(by='density_cell_L', ascending=True)\n",
    "\n",
    "fig = px.bar(plot_data,  x='density_cell_L', y=plot_data.index, orientation=\"h\", log_x=True)\n",
    "\n",
    "# Customize the chart appearance\n",
    "fig.update_layout(\n",
    "    title=\"Flowcam sum of counts\",  # Set the chart title\n",
    "    xaxis_title=\"Sum of cell densities per L\",  # Set the x-axis title\n",
    "    yaxis_title=\"Taxon\",  # Set the y-axis title\n",
    "    font=dict(\n",
    "        family=\"Times New Roman, serif\",  # Set the font family to Times New Roman\n",
    "        size=18,  # Set the font size\n",
    "        color=\"#7f7f7f\"  # Set the font color\n",
    "    ),\n",
    "    width=600,  # Set the chart width\n",
    "    height=800,  # Set the chart height\n",
    "    showlegend=False  # Hide the legend\n",
    ")"
   ]
  },
  {
   "cell_type": "code",
   "execution_count": 41,
   "metadata": {},
   "outputs": [],
   "source": [
    "# Let's save this list to a csv file\n",
    "data_FC[['Taxon', 'density_cell_L']].groupby('Taxon').sum().sort_values(by='density_cell_L', ascending=False).to_csv('../../data/flowcam/taxon_density_sum.csv')"
   ]
  },
  {
   "cell_type": "code",
   "execution_count": 42,
   "metadata": {},
   "outputs": [
    {
     "data": {
      "text/plain": [
       "Index(['Station', 'Taxon', 'Month', 'Dil', 'TripactionID', 'Volume_filtered',\n",
       "       'Sample_volume', 'FVI', 'Taxon_count', 'density_cell_L', 'Total_count',\n",
       "       'Rel_ab', 'Year', 'Year_month'],\n",
       "      dtype='object')"
      ]
     },
     "execution_count": 42,
     "metadata": {},
     "output_type": "execute_result"
    }
   ],
   "source": [
    "data_FC.columns"
   ]
  },
  {
   "cell_type": "markdown",
   "metadata": {},
   "source": [
    "## 2. What is the relative abundance of each species in the BPNS?"
   ]
  },
  {
   "attachments": {},
   "cell_type": "markdown",
   "metadata": {},
   "source": [
    "### Outlier detection\n",
    "Since the FlowCam data is not to be trusted when there's bloom events (high biomass numbers result in very high dilutions of the data, resulting in very high cell density estimates per L of seawater), it is best to detect and remove outliers first."
   ]
  },
  {
   "cell_type": "code",
   "execution_count": 43,
   "metadata": {},
   "outputs": [
    {
     "data": {
      "text/html": [
       "<div><div id=aad60e51-005b-4cf4-bd80-bcebd3dfa354 style=\"display:none; background-color:#9D6CFF; color:white; width:200px; height:30px; padding-left:5px; border-radius:4px; flex-direction:row; justify-content:space-around; align-items:center;\" onmouseover=\"this.style.backgroundColor='#BA9BF8'\" onmouseout=\"this.style.backgroundColor='#9D6CFF'\" onclick=\"window.commands?.execute('create-mitosheet-from-dataframe-output');\">See Full Dataframe in Mito</div> <script> if (window.commands?.hasCommand('create-mitosheet-from-dataframe-output')) document.getElementById('aad60e51-005b-4cf4-bd80-bcebd3dfa354').style.display = 'flex' </script> <table border=\"1\" class=\"dataframe\">\n",
       "  <thead>\n",
       "    <tr style=\"text-align: right;\">\n",
       "      <th></th>\n",
       "      <th>Month</th>\n",
       "      <th>Dil</th>\n",
       "      <th>TripactionID</th>\n",
       "      <th>Volume_filtered</th>\n",
       "      <th>Sample_volume</th>\n",
       "      <th>FVI</th>\n",
       "      <th>Taxon_count</th>\n",
       "      <th>density_cell_L</th>\n",
       "      <th>Total_count</th>\n",
       "      <th>Rel_ab</th>\n",
       "      <th>Year</th>\n",
       "    </tr>\n",
       "  </thead>\n",
       "  <tbody>\n",
       "    <tr>\n",
       "      <th>count</th>\n",
       "      <td>2022.000000</td>\n",
       "      <td>2022.000000</td>\n",
       "      <td>2022.000000</td>\n",
       "      <td>2022.0</td>\n",
       "      <td>2022.000000</td>\n",
       "      <td>2022.000000</td>\n",
       "      <td>2022.000000</td>\n",
       "      <td>2.022000e+03</td>\n",
       "      <td>2022.000000</td>\n",
       "      <td>2022.000000</td>\n",
       "      <td>2022.000000</td>\n",
       "    </tr>\n",
       "    <tr>\n",
       "      <th>mean</th>\n",
       "      <td>6.954006</td>\n",
       "      <td>0.407437</td>\n",
       "      <td>113322.554896</td>\n",
       "      <td>50.0</td>\n",
       "      <td>0.182537</td>\n",
       "      <td>0.003298</td>\n",
       "      <td>53.951039</td>\n",
       "      <td>6.579336e+03</td>\n",
       "      <td>3519.337784</td>\n",
       "      <td>1.457441</td>\n",
       "      <td>2020.445598</td>\n",
       "    </tr>\n",
       "    <tr>\n",
       "      <th>std</th>\n",
       "      <td>3.306444</td>\n",
       "      <td>0.366992</td>\n",
       "      <td>627.555832</td>\n",
       "      <td>0.0</td>\n",
       "      <td>0.070074</td>\n",
       "      <td>0.001102</td>\n",
       "      <td>222.066867</td>\n",
       "      <td>1.692931e+05</td>\n",
       "      <td>1226.654324</td>\n",
       "      <td>4.845617</td>\n",
       "      <td>0.497155</td>\n",
       "    </tr>\n",
       "    <tr>\n",
       "      <th>min</th>\n",
       "      <td>1.000000</td>\n",
       "      <td>0.000100</td>\n",
       "      <td>112399.000000</td>\n",
       "      <td>50.0</td>\n",
       "      <td>0.070000</td>\n",
       "      <td>0.001471</td>\n",
       "      <td>1.000000</td>\n",
       "      <td>4.580909e-01</td>\n",
       "      <td>444.000000</td>\n",
       "      <td>0.012142</td>\n",
       "      <td>2020.000000</td>\n",
       "    </tr>\n",
       "    <tr>\n",
       "      <th>25%</th>\n",
       "      <td>5.000000</td>\n",
       "      <td>0.100000</td>\n",
       "      <td>112849.000000</td>\n",
       "      <td>50.0</td>\n",
       "      <td>0.138000</td>\n",
       "      <td>0.002885</td>\n",
       "      <td>2.000000</td>\n",
       "      <td>7.206328e+00</td>\n",
       "      <td>2593.000000</td>\n",
       "      <td>0.047483</td>\n",
       "      <td>2020.000000</td>\n",
       "    </tr>\n",
       "    <tr>\n",
       "      <th>50%</th>\n",
       "      <td>7.000000</td>\n",
       "      <td>0.200000</td>\n",
       "      <td>113244.000000</td>\n",
       "      <td>50.0</td>\n",
       "      <td>0.178000</td>\n",
       "      <td>0.003161</td>\n",
       "      <td>5.000000</td>\n",
       "      <td>2.646780e+01</td>\n",
       "      <td>3546.000000</td>\n",
       "      <td>0.155556</td>\n",
       "      <td>2020.000000</td>\n",
       "    </tr>\n",
       "    <tr>\n",
       "      <th>75%</th>\n",
       "      <td>9.000000</td>\n",
       "      <td>0.705869</td>\n",
       "      <td>113840.000000</td>\n",
       "      <td>50.0</td>\n",
       "      <td>0.224000</td>\n",
       "      <td>0.003243</td>\n",
       "      <td>21.000000</td>\n",
       "      <td>1.225973e+02</td>\n",
       "      <td>4500.000000</td>\n",
       "      <td>0.705835</td>\n",
       "      <td>2021.000000</td>\n",
       "    </tr>\n",
       "    <tr>\n",
       "      <th>max</th>\n",
       "      <td>12.000000</td>\n",
       "      <td>1.000000</td>\n",
       "      <td>114562.000000</td>\n",
       "      <td>50.0</td>\n",
       "      <td>0.425000</td>\n",
       "      <td>0.006250</td>\n",
       "      <td>4219.000000</td>\n",
       "      <td>7.378635e+06</td>\n",
       "      <td>8236.000000</td>\n",
       "      <td>55.284553</td>\n",
       "      <td>2021.000000</td>\n",
       "    </tr>\n",
       "  </tbody>\n",
       "</table></div>"
      ],
      "text/plain": [
       "             Month          Dil   TripactionID  Volume_filtered  \\\n",
       "count  2022.000000  2022.000000    2022.000000           2022.0   \n",
       "mean      6.954006     0.407437  113322.554896             50.0   \n",
       "std       3.306444     0.366992     627.555832              0.0   \n",
       "min       1.000000     0.000100  112399.000000             50.0   \n",
       "25%       5.000000     0.100000  112849.000000             50.0   \n",
       "50%       7.000000     0.200000  113244.000000             50.0   \n",
       "75%       9.000000     0.705869  113840.000000             50.0   \n",
       "max      12.000000     1.000000  114562.000000             50.0   \n",
       "\n",
       "       Sample_volume          FVI  Taxon_count  density_cell_L  Total_count  \\\n",
       "count    2022.000000  2022.000000  2022.000000    2.022000e+03  2022.000000   \n",
       "mean        0.182537     0.003298    53.951039    6.579336e+03  3519.337784   \n",
       "std         0.070074     0.001102   222.066867    1.692931e+05  1226.654324   \n",
       "min         0.070000     0.001471     1.000000    4.580909e-01   444.000000   \n",
       "25%         0.138000     0.002885     2.000000    7.206328e+00  2593.000000   \n",
       "50%         0.178000     0.003161     5.000000    2.646780e+01  3546.000000   \n",
       "75%         0.224000     0.003243    21.000000    1.225973e+02  4500.000000   \n",
       "max         0.425000     0.006250  4219.000000    7.378635e+06  8236.000000   \n",
       "\n",
       "            Rel_ab         Year  \n",
       "count  2022.000000  2022.000000  \n",
       "mean      1.457441  2020.445598  \n",
       "std       4.845617     0.497155  \n",
       "min       0.012142  2020.000000  \n",
       "25%       0.047483  2020.000000  \n",
       "50%       0.155556  2020.000000  \n",
       "75%       0.705835  2021.000000  \n",
       "max      55.284553  2021.000000  "
      ]
     },
     "execution_count": 43,
     "metadata": {},
     "output_type": "execute_result"
    }
   ],
   "source": [
    "# Let's see how the data is distributed\n",
    "data_FC.describe()"
   ]
  },
  {
   "attachments": {},
   "cell_type": "markdown",
   "metadata": {},
   "source": [
    "The max value of cell densities per L seems way too high. Let's see how many samples have a cell density per L > 10^8."
   ]
  },
  {
   "cell_type": "code",
   "execution_count": 44,
   "metadata": {},
   "outputs": [
    {
     "data": {
      "text/plain": [
       "<AxesSubplot:ylabel='Frequency'>"
      ]
     },
     "execution_count": 44,
     "metadata": {},
     "output_type": "execute_result"
    },
    {
     "data": {
      "image/png": "[encoded data removed]",
      "text/plain": [
       "<Figure size 432x288 with 1 Axes>"
      ]
     },
     "metadata": {
      "needs_background": "light"
     },
     "output_type": "display_data"
    }
   ],
   "source": [
    "# Plot distribution of cell densities per L\n",
    "np.log(data_FC['density_cell_L']).plot.hist(bins=100)"
   ]
  },
  {
   "cell_type": "code",
   "execution_count": 45,
   "metadata": {},
   "outputs": [
    {
     "data": {
      "text/html": [
       "<div><div id=4c858687-75be-4998-a76a-40b4048eb02d style=\"display:none; background-color:#9D6CFF; color:white; width:200px; height:30px; padding-left:5px; border-radius:4px; flex-direction:row; justify-content:space-around; align-items:center;\" onmouseover=\"this.style.backgroundColor='#BA9BF8'\" onmouseout=\"this.style.backgroundColor='#9D6CFF'\" onclick=\"window.commands?.execute('create-mitosheet-from-dataframe-output');\">See Full Dataframe in Mito</div> <script> if (window.commands?.hasCommand('create-mitosheet-from-dataframe-output')) document.getElementById('4c858687-75be-4998-a76a-40b4048eb02d').style.display = 'flex' </script> <table border=\"1\" class=\"dataframe\">\n",
       "  <thead>\n",
       "    <tr style=\"text-align: right;\">\n",
       "      <th></th>\n",
       "      <th>Station</th>\n",
       "      <th>Taxon</th>\n",
       "      <th>Month</th>\n",
       "      <th>Dil</th>\n",
       "      <th>TripactionID</th>\n",
       "      <th>Volume_filtered</th>\n",
       "      <th>Sample_volume</th>\n",
       "      <th>FVI</th>\n",
       "      <th>Taxon_count</th>\n",
       "      <th>density_cell_L</th>\n",
       "      <th>Total_count</th>\n",
       "      <th>Rel_ab</th>\n",
       "      <th>Year</th>\n",
       "      <th>Year_month</th>\n",
       "    </tr>\n",
       "  </thead>\n",
       "  <tbody>\n",
       "    <tr>\n",
       "      <th>1082</th>\n",
       "      <td>330</td>\n",
       "      <td>Long (chained) diatom</td>\n",
       "      <td>7</td>\n",
       "      <td>0.0500</td>\n",
       "      <td>112429</td>\n",
       "      <td>50</td>\n",
       "      <td>0.250</td>\n",
       "      <td>0.003256</td>\n",
       "      <td>4219</td>\n",
       "      <td>1.295886e+05</td>\n",
       "      <td>8236</td>\n",
       "      <td>51.226323</td>\n",
       "      <td>2020</td>\n",
       "      <td>July_2020</td>\n",
       "    </tr>\n",
       "    <tr>\n",
       "      <th>1086</th>\n",
       "      <td>ZG02</td>\n",
       "      <td>Long (chained) diatom</td>\n",
       "      <td>7</td>\n",
       "      <td>0.0100</td>\n",
       "      <td>112496</td>\n",
       "      <td>50</td>\n",
       "      <td>0.292</td>\n",
       "      <td>0.002025</td>\n",
       "      <td>2176</td>\n",
       "      <td>6.275699e+05</td>\n",
       "      <td>3936</td>\n",
       "      <td>55.284553</td>\n",
       "      <td>2020</td>\n",
       "      <td>July_2020</td>\n",
       "    </tr>\n",
       "    <tr>\n",
       "      <th>1173</th>\n",
       "      <td>ZG02</td>\n",
       "      <td>Rhizosolenia</td>\n",
       "      <td>7</td>\n",
       "      <td>0.0100</td>\n",
       "      <td>112496</td>\n",
       "      <td>50</td>\n",
       "      <td>0.292</td>\n",
       "      <td>0.002025</td>\n",
       "      <td>813</td>\n",
       "      <td>2.344866e+05</td>\n",
       "      <td>3936</td>\n",
       "      <td>20.655488</td>\n",
       "      <td>2020</td>\n",
       "      <td>July_2020</td>\n",
       "    </tr>\n",
       "    <tr>\n",
       "      <th>2243</th>\n",
       "      <td>120</td>\n",
       "      <td>Long (chained) diatom</td>\n",
       "      <td>7</td>\n",
       "      <td>0.0001</td>\n",
       "      <td>114562</td>\n",
       "      <td>50</td>\n",
       "      <td>0.306</td>\n",
       "      <td>0.006246</td>\n",
       "      <td>753</td>\n",
       "      <td>7.378635e+06</td>\n",
       "      <td>2674</td>\n",
       "      <td>28.160060</td>\n",
       "      <td>2021</td>\n",
       "      <td>July_2021</td>\n",
       "    </tr>\n",
       "    <tr>\n",
       "      <th>2251</th>\n",
       "      <td>ZG02</td>\n",
       "      <td>Long (chained) diatom</td>\n",
       "      <td>7</td>\n",
       "      <td>0.0100</td>\n",
       "      <td>114549</td>\n",
       "      <td>50</td>\n",
       "      <td>0.222</td>\n",
       "      <td>0.005213</td>\n",
       "      <td>1952</td>\n",
       "      <td>1.662458e+05</td>\n",
       "      <td>4028</td>\n",
       "      <td>48.460775</td>\n",
       "      <td>2021</td>\n",
       "      <td>July_2021</td>\n",
       "    </tr>\n",
       "    <tr>\n",
       "      <th>2290</th>\n",
       "      <td>120</td>\n",
       "      <td>Phytoplankton Colony</td>\n",
       "      <td>7</td>\n",
       "      <td>0.0001</td>\n",
       "      <td>114562</td>\n",
       "      <td>50</td>\n",
       "      <td>0.306</td>\n",
       "      <td>0.006246</td>\n",
       "      <td>96</td>\n",
       "      <td>9.406964e+05</td>\n",
       "      <td>2674</td>\n",
       "      <td>3.590127</td>\n",
       "      <td>2021</td>\n",
       "      <td>July_2021</td>\n",
       "    </tr>\n",
       "    <tr>\n",
       "      <th>2321</th>\n",
       "      <td>120</td>\n",
       "      <td>Rhizosolenia</td>\n",
       "      <td>7</td>\n",
       "      <td>0.0001</td>\n",
       "      <td>114562</td>\n",
       "      <td>50</td>\n",
       "      <td>0.306</td>\n",
       "      <td>0.006246</td>\n",
       "      <td>122</td>\n",
       "      <td>1.195471e+06</td>\n",
       "      <td>2674</td>\n",
       "      <td>4.562453</td>\n",
       "      <td>2021</td>\n",
       "      <td>July_2021</td>\n",
       "    </tr>\n",
       "    <tr>\n",
       "      <th>2330</th>\n",
       "      <td>120</td>\n",
       "      <td>Rhizosolenia setigera (f. pungens)/R. hebetata f. semispina</td>\n",
       "      <td>7</td>\n",
       "      <td>0.0001</td>\n",
       "      <td>114562</td>\n",
       "      <td>50</td>\n",
       "      <td>0.306</td>\n",
       "      <td>0.006246</td>\n",
       "      <td>84</td>\n",
       "      <td>8.231145e+05</td>\n",
       "      <td>2674</td>\n",
       "      <td>3.141361</td>\n",
       "      <td>2021</td>\n",
       "      <td>July_2021</td>\n",
       "    </tr>\n",
       "  </tbody>\n",
       "</table></div>"
      ],
      "text/plain": [
       "     Station                                              Taxon  Month  \\\n",
       "1082     330                              Long (chained) diatom      7   \n",
       "1086    ZG02                              Long (chained) diatom      7   \n",
       "1173    ZG02                                       Rhizosolenia      7   \n",
       "2243     120                              Long (chained) diatom      7   \n",
       "2251    ZG02                              Long (chained) diatom      7   \n",
       "2290     120                               Phytoplankton Colony      7   \n",
       "2321     120                                       Rhizosolenia      7   \n",
       "2330     120  Rhizosolenia setigera (f. pungens)/R. hebetata...      7   \n",
       "\n",
       "         Dil  TripactionID  Volume_filtered  Sample_volume       FVI  \\\n",
       "1082  0.0500        112429               50          0.250  0.003256   \n",
       "1086  0.0100        112496               50          0.292  0.002025   \n",
       "1173  0.0100        112496               50          0.292  0.002025   \n",
       "2243  0.0001        114562               50          0.306  0.006246   \n",
       "2251  0.0100        114549               50          0.222  0.005213   \n",
       "2290  0.0001        114562               50          0.306  0.006246   \n",
       "2321  0.0001        114562               50          0.306  0.006246   \n",
       "2330  0.0001        114562               50          0.306  0.006246   \n",
       "\n",
       "      Taxon_count  density_cell_L  Total_count     Rel_ab  Year Year_month  \n",
       "1082         4219    1.295886e+05         8236  51.226323  2020  July_2020  \n",
       "1086         2176    6.275699e+05         3936  55.284553  2020  July_2020  \n",
       "1173          813    2.344866e+05         3936  20.655488  2020  July_2020  \n",
       "2243          753    7.378635e+06         2674  28.160060  2021  July_2021  \n",
       "2251         1952    1.662458e+05         4028  48.460775  2021  July_2021  \n",
       "2290           96    9.406964e+05         2674   3.590127  2021  July_2021  \n",
       "2321          122    1.195471e+06         2674   4.562453  2021  July_2021  \n",
       "2330           84    8.231145e+05         2674   3.141361  2021  July_2021  "
      ]
     },
     "execution_count": 45,
     "metadata": {},
     "output_type": "execute_result"
    }
   ],
   "source": [
    "# Display observations with cell densities above 1000 cells per L\n",
    "data_FC[data_FC['density_cell_L'] > 100000]"
   ]
  },
  {
   "attachments": {},
   "cell_type": "markdown",
   "metadata": {},
   "source": [
    "Most of the observations from station 120 in July 2021 have massive cell densities.\n",
    "Probably these were blooming intensely, resulting in severe dilutions. This skewed the data, so let's remove the samples from this station."
   ]
  },
  {
   "cell_type": "code",
   "execution_count": 46,
   "metadata": {},
   "outputs": [],
   "source": [
    "# Outlier removal\n",
    "data_FC = data_FC[~((data_FC['Year_month'] == 'July_2021') & (data_FC['Station'] == '120'))]\n",
    "data_FC = data_FC[~((data_FC['Year_month'] == 'July_2020') & (data_FC['Station'] == '330'))]\n",
    "data_FC = data_FC[~((data_FC['Year_month'] == 'July_2020') & (data_FC['Station'] == 'ZG02'))]"
   ]
  },
  {
   "attachments": {},
   "cell_type": "markdown",
   "metadata": {},
   "source": [
    "## Visualize"
   ]
  },
  {
   "cell_type": "code",
   "execution_count": 47,
   "metadata": {},
   "outputs": [
    {
     "data": {
      "application/vnd.plotly.v1+json": {
       "config": {
        "plotlyServerURL": "https://plot.ly"
       },
       "data": [
        {
         "alignmentgroup": "True",
         "bingroup": "y",
         "histfunc": "sum",
         "hovertemplate": "Taxon=rare<br>sum of rel_cell_density_L_per_month=%{x}<br>Year_month=%{y}<extra></extra>",
         "legendgroup": "rare",
         "marker": {
          "color": "#636efa",
          "pattern": {
           "shape": ""
          }
         },
         "name": "rare",
         "offsetgroup": "rare",
         "orientation": "h",
         "showlegend": true,
         "type": "histogram",
         "x": [
          0.001088111836847479,
          0.00036414688230077566,
          0.000652158750956618,
          0.009523448393514067,
          0.00016309516206208793,
          0.0005250229548038268,
          0.004700277782116691,
          0.0008153844199921246,
          0.0009893887588425315,
          0.0001631029967722791,
          0.0017935115962370396,
          0.0015886250354349173,
          0.0012497190356832693,
          0.0001631029967722791,
          0.000443471479486687,
          0.00158793105910984,
          0.0072009169115112865,
          0.0007921046821603398,
          0.0005598840791480275,
          0.0008663966160369649,
          0.00016298033939367106,
          0.0008190137733209436,
          0.001304562856890904,
          0.0008459608873313888,
          0.000873874135926536,
          0.0004777834802428858,
          0.0028168913127521135,
          0.00451648745433761,
          0.00016309516206208793,
          0.009710883984360815,
          0.005583458512003725,
          0.00461604634728665,
          0.001446943506835832,
          0.008630521160501949,
          0.00017513381985706636,
          0.0003980894991121581,
          0.0010193541860860022,
          0.003859039139775568,
          0.0018829778788929973,
          0.009116936955781644,
          0.0010682109121172797,
          0.0008084845782997514,
          0.0009664877831310572,
          0.007186452518687756,
          0.00026768084383061184,
          0.0005355607646236089,
          0.00160347179644365,
          0.0004048612730395181,
          0.012484538492984712,
          0.002321261174847211,
          0.0005496128580081548,
          0.0002851509817942503,
          0.00025220141970919933,
          0.000690904895096745,
          0.00038502249582343266,
          0.00024620239315002995,
          0.0008694372759039255,
          0.00013046633138632293,
          0.00013046633138632293,
          0.00013046633138632293,
          0.001024659390739647,
          0.0012924209093974422,
          0.0003616914841422131,
          0.00026093266277264646,
          0.00024607890776426805,
          0.001545684042264774,
          0.00013046633138632293,
          0.0005916915925064568,
          0.0004016156449669692,
          0.0014830939982080878,
          0.002197363604049889,
          0.0013977465740343594,
          0.0036356014429036626,
          0.0013823765959069924,
          0.012544328443748587,
          0.00034220236411879664,
          0.014612863375520046,
          0.00033783085133810793,
          0.0012174882137459477,
          0.01585865879158173,
          0.0000769762280832268,
          0.00015321706541010296,
          0.003799988135607327,
          0.00007627503037323812,
          0.0006134606694751666,
          0.0027822945624385188,
          0.0002661360274462607,
          0.0001539524561664536,
          0.00015255006074647623,
          0.00019198028240176814,
          0.0009260122935141116,
          0.00011675811578007916,
          0.000549238806815095,
          0.00007561404778203069,
          0.00015188620172734398,
          0.00037545473205865507,
          0.0053184491083294585,
          0.0038877354508435463,
          0.0007303452058811626,
          0.0002441905843320483,
          0.00017021233918929163,
          0.0008388725238607875,
          0.00015373323445621817,
          0.00015449764943910557,
          0.00007675731809145224,
          0.00015369019476545165,
          0.00022989456383177653,
          0.0015958889249133295,
          0.0007888858400464029,
          0.0004448614887443067,
          0.000998857737672904,
          0.0009059652929933483,
          0.00041009644344615885,
          0.00007675731809145224,
          0.00031351003176814624,
          0.00012995059882430534,
          0.0003070292723658097,
          0.0034740145448382332,
          0.00441294684546766,
          0.00015784671116377366,
          0.002957364003042784,
          0.004395163729888047,
          0.0004215469088645979,
          0.0010624980285179118,
          0.0025680919007441136,
          0.00026612583664852355,
          0.0018243704220657212,
          0.0007241421798447413,
          0.0018722226924766244,
          0.0000867090985975381,
          0.00011930739270545321,
          0.0007971793858632505,
          0.0002849113303596119,
          0.00017507601534397585,
          0.00033262796438671003,
          0.0006397512681026607,
          0.0009407566781615404,
          0.0000854171811132557,
          0.0029673506579353586,
          0.0009086533333790401,
          0.011955187538402716,
          0.014324328058029719,
          0.0010348757642314153,
          0.0020928114858664165,
          0.0011001581589102363,
          0.0023885749112552202,
          0.000258822416994689,
          0.000383501004836243,
          0.0014600025663618565,
          0.0005209357935724828,
          0.000683337448906047,
          0.002653369364979977,
          0.0000867090985975381,
          0.005978864323338522,
          0.0038298972627132293,
          0.001332832340065713,
          0.0005139866319792955,
          0.007853253510153504,
          0.0010348757642314153,
          0.01561602162943997,
          0.0036820090746943813,
          0.01644063873435197,
          0.0004884757709217714,
          0.006618542557819545,
          0.0025036596297805976,
          0.0008204296230066307,
          0.0004979470410833404,
          0.0018892289912347696,
          0.002680619484164558,
          0.0030092450482694763,
          0.004251714616951495,
          0.0015820671615628065,
          0.0008574659297372799,
          0.002449673082228162,
          0.0006672563100656333,
          0.0012518298148903012,
          0.000809943287869188,
          0.0008204296230066307,
          0.0025045079395911566,
          0.005216047960897807,
          0.009750013402395343,
          0.0015991799707504718,
          0.0019316780918918275,
          0.0008146354022101565,
          0.0027286909099867762,
          0.006294379873009423,
          0.0008136822333579288,
          0.0034599286290645987,
          0.00051987721792111,
          0.010017287446928393,
          0.004117877389596646,
          0.0017723119301654845,
          0.005688324990015405,
          0.00060551984501387,
          0.008651983682160741,
          0.0016796781689702044,
          0.005245814453924747,
          0.009134899338954179,
          0.004885162560497551,
          0.002871664848505421,
          0.0013299191935761988,
          0.004141431491616309,
          0.001493197831469744,
          0.0030230883998370642,
          0.015689593853972925,
          0.005856811095650815,
          0.01387230890372502,
          0.0025870756438308396,
          0.007700464796629458,
          0.002827440953823151,
          0.0012200786853653312,
          0.000651534034417439,
          0.0009828558507593895,
          0.00022260780762578392,
          0.011895002782590496,
          0.0006547175779628543,
          0.004253528020971431,
          0.00021550637274870153,
          0.0005683856889443081,
          0.008212418133027059,
          0.003902196019530228,
          0.007154396980088932,
          0.002607582106990086,
          0.0005236760998045552,
          0.002107509818370419,
          0.00032813951213204887,
          0.00040049503367461773,
          0.0005203514668161253,
          0.000314359649248891,
          0.0003034561520454749,
          0.00021550637274870153,
          0.016672092835336435,
          0.007154396980088932,
          0.009090318538385853,
          0.000566226763610796,
          0.007904861315975032,
          0.00032658177207063344,
          0.007154396980088932,
          0.015538734405796176,
          0.00714690617799669,
          0.0003550940589834024,
          0.0009781144502621808,
          0.006376417913195136,
          0.006666517363216462,
          0.00032984940857331603,
          0.016200205889576953,
          0.007125879880993946,
          0.002597429243267927,
          0.003086308425310272,
          0.01963140771386313,
          0.002555989341937761,
          0.00032658177207063344,
          0.0009758795314345379,
          0.002514028300972652,
          0.0002149572786176993,
          0.00021550637274870153,
          0.0024967170988397175,
          0.0005839685923743031,
          0.00659349884581191,
          0.0029287856535673558,
          0.006758586231296664,
          0.006590777546523207,
          0.005403885690437666,
          0.0067538224610712095,
          0.0037194046958016337,
          0.0019223598791746142,
          0.009318287546538228,
          0.012857354352222612,
          0.001183881162323211,
          0.0012241459857159588,
          0.003899901765345,
          0.013268244104048295,
          0.006590777546523207,
          0.0008463109357616142,
          0.0003199053396685459,
          0.0006420590805822897,
          0.0017126198818235426,
          0.006091252483663578,
          0.004949947186377843,
          0.0003206472305186344,
          0.003905593517130965,
          0.003177724307020915,
          0.0008341268970583641,
          0.013181555093046377,
          0.004746318026835726,
          0.0036240584837262035,
          0.01819797818447529,
          0.002099424333393605,
          0.00258255521286111,
          0.012496444261823824,
          0.0037532238571042834,
          0.005811048711484844,
          0.006160288402406633,
          0.0012124204266264359,
          0.0012086543307385344,
          0.00659349884581191,
          0.003018887117684181,
          0.006041242239407294,
          0.004900989877809201,
          0.019785314304933577,
          0.0003206472305186344,
          0.012187642032740765,
          0.0009609431876694245,
          0.0016056011045475953,
          0.0013112450174354961,
          0.004441275176806825,
          0.006841613146684681,
          0.00865955380729923,
          0.0016226153883528993,
          0.0017003190184165153,
          0.017406996853562895,
          0.002376276753168694,
          0.012342664977678445,
          0.0006960169148909491,
          0.0034203182545235744,
          0.009246970350645044,
          0.0006867360005486282,
          0.001353506071406903,
          0.0037607312577748893,
          0.0007853672271031109,
          0.0011078341880140104,
          0.00035399467483298425,
          0.0007639449087874449,
          0.00035399467483298425,
          0.0017117232495086011,
          0.0020751147238266443,
          0.00932289956665966,
          0.0003226715175162122,
          0.0020755964050271428,
          0.01649488647632112,
          0.0007306696314536914,
          0.0007349035543494287,
          0.001991493605861229,
          0.0010885614490483478,
          0.0003819724543937219,
          0.0005384682916961825,
          0.0007349035543494287,
          0.0003819724543937219,
          0.0031390857899356267,
          0.0003819724543937219,
          0.0010812031015809043,
          0.0010380391549489139,
          0.000759370789693266,
          0.0036525094470400026,
          0.0050664527288174985,
          0.01895950018122209,
          0.0008627833608079898,
          0.0003819724543937219,
          0.0007349035543494287,
          0.000759370789693266,
          0.0038940478381900984,
          0.0012800947481621725,
          0.0010445744046665734,
          0.003343779160801555,
          0.002313284214318417,
          0.001329546370079621,
          0.0033401910993352338,
          0.0020140520654834773,
          0.0005006167266579554,
          0.0007548511196490943,
          0.01821527845662654,
          0.000392583597620813,
          0.0010972835219592646,
          0.000668901391256762,
          0.0007150210168390397,
          0.0011955508326796532,
          0.0001925073553347966,
          0.006960812560534367,
          0.0004084497302015282,
          0.009472579379906011,
          0.0001729458520771498,
          0.0007207168271084089,
          0.0059756325453829175,
          0.0001925073553347966,
          0.003350402749126085,
          0.012103499347760838,
          0.0044737439878172365,
          0.0022182284636439497,
          0.0006517276961527791,
          0.0001729458520771498,
          0.015281180789756413,
          0.004314420312642758,
          0.005807921002218001,
          0.0013197756431388812,
          0.0017015421694802193,
          0.004721239177452784,
          0.005247040660017727,
          0.007070144533140548,
          0.000710530452689301,
          0.0009791846278714043,
          0.0007463752813976188,
          0.006838152926862833,
          0.0001925073553347966,
          0.0014883051342295453,
          0.0009791846278714043,
          0.0020727247345704034,
          0.0017394832400246213,
          0.0023212074122168362,
          0.0012665542564454157,
          0.0033447964966383643,
          0.0012107111644076346,
          0.004774399171684138,
          0.007637451551047048,
          0.0022402033699542986,
          0.002431446776773289,
          0.00014121358691571932,
          0.0020527375451039405,
          0.008205938918929179,
          0.002951764672926445,
          0.0009118680150269224,
          0.003966909585931401,
          0.0021119669843614425,
          0.006221466443714274,
          0.0005820024828564288,
          0.0007481311871562272,
          0.0020527375451039405,
          0.001348552815084307,
          0.00020976629961272513,
          0.002519879659086701,
          0.00316659375206371,
          0.0016447034044883616,
          0.019306376985266153,
          0.0025739704303324633,
          0.0005099890856720413,
          0.0001729458520771498,
          0.0008099965575095441,
          0.002588617518673148,
          0.001788070298851926,
          0.00041127333132978753,
          0.00022365409827745103,
          0.0009207669858872233,
          0.0008563154365935778,
          0.00011182704913872552,
          0.0001498350791765103,
          0.0005655184968100358,
          0.0009172343694516797,
          0.0004249676172690046,
          0.0015940979695438112,
          0.0001498350791765103,
          0.009934107684232796,
          0.0038505255159027836,
          0.018583714805287106,
          0.0009900909646405741,
          0.0031309834504006785,
          0.003226362655347493,
          0.00014840341060557165,
          0.00045847091222331635,
          0.0007433631848496801,
          0.0017115249198830246,
          0.00899010978178334,
          0.0003424782783729095,
          0.0005711679343366956,
          0.012460705687132945,
          0.0001498350791765103,
          0.0004603834929436096,
          0.007956833160765488,
          0.001976619227326277,
          0.0021452536213296927,
          0.0006034696080714892,
          0.0009178505279128634,
          0.0002923910871610645,
          0.0001498350791765103,
          0.0025232786995619816,
          0.00046292524376826294,
          0.0039038509789055885,
          0.008906397553413437,
          0.008373402114782828,
          0.0004363787637165574,
          0.010805052553066645,
          0.0004603834929436096,
          0.0028919150485951155,
          0.0002871896454327121,
          0.0002851489806810209,
          0.0004675071247971542,
          0.01849857363715331,
          0.0003141526021398556,
          0.0007753298360401858,
          0.006262186119648043,
          0.0006854676533440921,
          0.0018540580090702715,
          0.00014840341060557165,
          0.008458125881306885,
          0.00043389232416434046,
          0.01392709285469053,
          0.0014173669900033822,
          0.0008562561951279194,
          0.00040058733111171193,
          0.0019311602300901682,
          0.017733073482809343,
          0.0022393198792879238,
          0.008197226136911028,
          0.0003894217233328774,
          0.000710909879176956,
          0.0001834130397478372,
          0.002926825206256579,
          0.00037248345423128584,
          0.00009613172856604611,
          0.0007943656465763058,
          0.0005004095222322753,
          0.002578861935506845,
          0.0012488307573947064,
          0.0003066439856650031,
          0.00008956875881477829,
          0.0003604693659376576,
          0.00842256043310108,
          0.0017951466075883456,
          0.0018708205378608557,
          0.0011254564610139607,
          0.005026171168089946,
          0.0003524451995155351,
          0.000370466915809307,
          0.0007429448966908628,
          0.0005099652467812692,
          0.0001854685409138899,
          0.0008234629759684988,
          0.006262879775394957,
          0.00008956875881477829,
          0.0003604693659376576,
          0.0002606636441372422,
          0.0003328425763232951,
          0.000324637727304269,
          0.0002297717597450042,
          0.0008353734591051715,
          0.0014461665284306658,
          0.00017913751762955676,
          0.00017913751762955676,
          0.00009334264710676192,
          0.00021255909176969264,
          0.0002896476693777619,
          0.0043249395414736,
          0.0010300048245868718,
          0.0028348833524518614,
          0.0015818293820584139,
          0.00009334264710676192,
          0.00008956875881477829,
          0.0002616913947202685,
          0.0020516228940690904,
          0.00021255909176969264,
          0.00008956875881477829,
          0.0005453676190375499,
          0.0004861563037996553,
          0.00036333468708246453,
          0.0002761495152697154,
          0.00047164540910908274,
          0.0019527378461245035
         ],
         "xaxis": "x",
         "y": [
          "July_2021",
          "July_2021",
          "July_2021",
          "July_2021",
          "July_2021",
          "July_2021",
          "July_2021",
          "July_2021",
          "July_2021",
          "July_2021",
          "July_2021",
          "July_2021",
          "July_2021",
          "July_2021",
          "July_2021",
          "July_2021",
          "July_2021",
          "July_2021",
          "July_2021",
          "July_2021",
          "July_2021",
          "July_2021",
          "July_2021",
          "July_2021",
          "July_2021",
          "July_2021",
          "July_2021",
          "July_2021",
          "July_2021",
          "July_2021",
          "July_2021",
          "July_2021",
          "July_2021",
          "July_2021",
          "July_2021",
          "June_2021",
          "June_2021",
          "June_2021",
          "June_2021",
          "June_2021",
          "June_2021",
          "June_2021",
          "June_2021",
          "June_2021",
          "June_2021",
          "June_2021",
          "June_2021",
          "June_2021",
          "June_2021",
          "June_2021",
          "June_2021",
          "June_2021",
          "June_2021",
          "June_2021",
          "June_2021",
          "June_2021",
          "June_2021",
          "June_2021",
          "June_2021",
          "June_2021",
          "June_2021",
          "June_2021",
          "June_2021",
          "June_2021",
          "June_2021",
          "June_2021",
          "June_2021",
          "June_2021",
          "June_2021",
          "June_2021",
          "June_2021",
          "June_2021",
          "June_2021",
          "May_2021",
          "May_2021",
          "May_2021",
          "May_2021",
          "May_2021",
          "May_2021",
          "May_2021",
          "May_2021",
          "May_2021",
          "May_2021",
          "May_2021",
          "May_2021",
          "May_2021",
          "May_2021",
          "May_2021",
          "May_2021",
          "May_2021",
          "May_2021",
          "May_2021",
          "May_2021",
          "May_2021",
          "May_2021",
          "May_2021",
          "May_2021",
          "May_2021",
          "May_2021",
          "May_2021",
          "May_2021",
          "May_2021",
          "May_2021",
          "May_2021",
          "May_2021",
          "May_2021",
          "May_2021",
          "May_2021",
          "May_2021",
          "May_2021",
          "May_2021",
          "May_2021",
          "May_2021",
          "May_2021",
          "May_2021",
          "May_2021",
          "May_2021",
          "May_2021",
          "May_2021",
          "May_2021",
          "May_2021",
          "May_2021",
          "April_2021",
          "April_2021",
          "April_2021",
          "April_2021",
          "April_2021",
          "April_2021",
          "April_2021",
          "April_2021",
          "April_2021",
          "April_2021",
          "April_2021",
          "April_2021",
          "April_2021",
          "April_2021",
          "April_2021",
          "April_2021",
          "April_2021",
          "April_2021",
          "April_2021",
          "April_2021",
          "April_2021",
          "April_2021",
          "April_2021",
          "April_2021",
          "April_2021",
          "April_2021",
          "April_2021",
          "April_2021",
          "April_2021",
          "April_2021",
          "April_2021",
          "April_2021",
          "April_2021",
          "April_2021",
          "April_2021",
          "April_2021",
          "April_2021",
          "April_2021",
          "April_2021",
          "April_2021",
          "April_2021",
          "February_2021",
          "February_2021",
          "February_2021",
          "February_2021",
          "February_2021",
          "February_2021",
          "February_2021",
          "February_2021",
          "February_2021",
          "February_2021",
          "February_2021",
          "February_2021",
          "February_2021",
          "February_2021",
          "February_2021",
          "February_2021",
          "February_2021",
          "February_2021",
          "February_2021",
          "February_2021",
          "February_2021",
          "February_2021",
          "February_2021",
          "February_2021",
          "February_2021",
          "February_2021",
          "February_2021",
          "February_2021",
          "February_2021",
          "February_2021",
          "February_2021",
          "February_2021",
          "February_2021",
          "February_2021",
          "February_2021",
          "February_2021",
          "February_2021",
          "February_2021",
          "February_2021",
          "February_2021",
          "February_2021",
          "February_2021",
          "February_2021",
          "February_2021",
          "February_2021",
          "January_2021",
          "January_2021",
          "January_2021",
          "January_2021",
          "January_2021",
          "January_2021",
          "January_2021",
          "January_2021",
          "January_2021",
          "January_2021",
          "January_2021",
          "January_2021",
          "January_2021",
          "January_2021",
          "January_2021",
          "January_2021",
          "January_2021",
          "January_2021",
          "January_2021",
          "January_2021",
          "January_2021",
          "January_2021",
          "January_2021",
          "January_2021",
          "January_2021",
          "January_2021",
          "January_2021",
          "January_2021",
          "January_2021",
          "January_2021",
          "January_2021",
          "January_2021",
          "January_2021",
          "January_2021",
          "January_2021",
          "January_2021",
          "January_2021",
          "January_2021",
          "January_2021",
          "January_2021",
          "January_2021",
          "January_2021",
          "January_2021",
          "January_2021",
          "January_2021",
          "January_2021",
          "January_2021",
          "January_2021",
          "December_2020",
          "December_2020",
          "December_2020",
          "December_2020",
          "December_2020",
          "December_2020",
          "December_2020",
          "December_2020",
          "December_2020",
          "December_2020",
          "December_2020",
          "December_2020",
          "December_2020",
          "December_2020",
          "December_2020",
          "December_2020",
          "December_2020",
          "December_2020",
          "December_2020",
          "December_2020",
          "December_2020",
          "December_2020",
          "December_2020",
          "December_2020",
          "December_2020",
          "December_2020",
          "December_2020",
          "December_2020",
          "December_2020",
          "December_2020",
          "December_2020",
          "December_2020",
          "December_2020",
          "December_2020",
          "December_2020",
          "December_2020",
          "December_2020",
          "December_2020",
          "December_2020",
          "December_2020",
          "December_2020",
          "December_2020",
          "December_2020",
          "December_2020",
          "December_2020",
          "December_2020",
          "December_2020",
          "December_2020",
          "December_2020",
          "December_2020",
          "November_2020",
          "November_2020",
          "November_2020",
          "November_2020",
          "November_2020",
          "November_2020",
          "November_2020",
          "November_2020",
          "November_2020",
          "November_2020",
          "November_2020",
          "November_2020",
          "November_2020",
          "November_2020",
          "November_2020",
          "November_2020",
          "November_2020",
          "November_2020",
          "November_2020",
          "November_2020",
          "November_2020",
          "November_2020",
          "November_2020",
          "November_2020",
          "November_2020",
          "November_2020",
          "November_2020",
          "November_2020",
          "November_2020",
          "November_2020",
          "November_2020",
          "November_2020",
          "November_2020",
          "November_2020",
          "November_2020",
          "November_2020",
          "November_2020",
          "November_2020",
          "November_2020",
          "November_2020",
          "November_2020",
          "November_2020",
          "November_2020",
          "November_2020",
          "November_2020",
          "November_2020",
          "November_2020",
          "November_2020",
          "November_2020",
          "November_2020",
          "November_2020",
          "November_2020",
          "November_2020",
          "November_2020",
          "November_2020",
          "September_2020",
          "September_2020",
          "September_2020",
          "September_2020",
          "September_2020",
          "September_2020",
          "September_2020",
          "September_2020",
          "September_2020",
          "September_2020",
          "September_2020",
          "September_2020",
          "September_2020",
          "September_2020",
          "September_2020",
          "September_2020",
          "September_2020",
          "September_2020",
          "September_2020",
          "September_2020",
          "September_2020",
          "September_2020",
          "September_2020",
          "September_2020",
          "September_2020",
          "September_2020",
          "September_2020",
          "September_2020",
          "September_2020",
          "September_2020",
          "September_2020",
          "September_2020",
          "September_2020",
          "September_2020",
          "September_2020",
          "September_2020",
          "September_2020",
          "September_2020",
          "September_2020",
          "September_2020",
          "September_2020",
          "September_2020",
          "September_2020",
          "September_2020",
          "September_2020",
          "September_2020",
          "September_2020",
          "September_2020",
          "September_2020",
          "September_2020",
          "September_2020",
          "September_2020",
          "September_2020",
          "September_2020",
          "September_2020",
          "September_2020",
          "September_2020",
          "September_2020",
          "September_2020",
          "September_2020",
          "September_2020",
          "September_2020",
          "September_2020",
          "September_2020",
          "September_2020",
          "September_2020",
          "September_2020",
          "August_2020",
          "August_2020",
          "August_2020",
          "August_2020",
          "August_2020",
          "August_2020",
          "August_2020",
          "August_2020",
          "August_2020",
          "August_2020",
          "August_2020",
          "August_2020",
          "August_2020",
          "August_2020",
          "August_2020",
          "August_2020",
          "August_2020",
          "August_2020",
          "August_2020",
          "August_2020",
          "August_2020",
          "August_2020",
          "August_2020",
          "August_2020",
          "August_2020",
          "August_2020",
          "August_2020",
          "August_2020",
          "August_2020",
          "August_2020",
          "August_2020",
          "August_2020",
          "August_2020",
          "August_2020",
          "August_2020",
          "August_2020",
          "August_2020",
          "August_2020",
          "August_2020",
          "August_2020",
          "August_2020",
          "August_2020",
          "August_2020",
          "August_2020",
          "August_2020",
          "August_2020",
          "August_2020",
          "August_2020",
          "August_2020",
          "August_2020",
          "August_2020",
          "August_2020",
          "August_2020",
          "August_2020",
          "August_2020",
          "August_2020",
          "August_2020",
          "August_2020",
          "August_2020",
          "August_2020",
          "August_2020",
          "August_2020",
          "August_2020",
          "August_2020",
          "August_2020",
          "July_2020",
          "July_2020",
          "July_2020",
          "July_2020",
          "July_2020",
          "July_2020",
          "July_2020",
          "July_2020",
          "July_2020",
          "July_2020",
          "July_2020",
          "July_2020",
          "July_2020",
          "July_2020",
          "July_2020",
          "July_2020",
          "July_2020",
          "July_2020",
          "July_2020",
          "July_2020",
          "July_2020",
          "July_2020",
          "July_2020",
          "July_2020",
          "July_2020",
          "July_2020",
          "July_2020",
          "July_2020",
          "July_2020",
          "July_2020",
          "July_2020",
          "July_2020",
          "July_2020",
          "July_2020",
          "July_2020",
          "July_2020",
          "July_2020",
          "July_2020",
          "July_2020",
          "July_2020",
          "July_2020",
          "July_2020",
          "July_2020",
          "July_2020",
          "July_2020",
          "July_2020",
          "July_2020",
          "July_2020",
          "July_2020",
          "July_2020",
          "July_2020",
          "July_2020"
         ],
         "yaxis": "y"
        },
        {
         "alignmentgroup": "True",
         "bingroup": "y",
         "histfunc": "sum",
         "hovertemplate": "Taxon=Noctilucales<br>sum of rel_cell_density_L_per_month=%{x}<br>Year_month=%{y}<extra></extra>",
         "legendgroup": "Noctilucales",
         "marker": {
          "color": "#EF553B",
          "pattern": {
           "shape": ""
          }
         },
         "name": "Noctilucales",
         "offsetgroup": "Noctilucales",
         "orientation": "h",
         "showlegend": true,
         "type": "histogram",
         "x": [
          0.028028536712074316,
          0.03420527532152914
         ],
         "xaxis": "x",
         "y": [
          "July_2021",
          "June_2021"
         ],
         "yaxis": "y"
        },
        {
         "alignmentgroup": "True",
         "bingroup": "y",
         "histfunc": "sum",
         "hovertemplate": "Taxon=Rhizosolenia<br>sum of rel_cell_density_L_per_month=%{x}<br>Year_month=%{y}<extra></extra>",
         "legendgroup": "Rhizosolenia",
         "marker": {
          "color": "#00cc96",
          "pattern": {
           "shape": ""
          }
         },
         "name": "Rhizosolenia",
         "offsetgroup": "Rhizosolenia",
         "orientation": "h",
         "showlegend": true,
         "type": "histogram",
         "x": [
          0.08406313369930621,
          0.2920213338944903,
          0.33623190183966245,
          0.16697301896722558,
          0.0711748349372597,
          0.15103967891755762,
          0.19313665507215153,
          0.4244956595641012
         ],
         "xaxis": "x",
         "y": [
          "July_2021",
          "June_2021",
          "May_2021",
          "April_2021",
          "December_2020",
          "November_2020",
          "August_2020",
          "July_2020"
         ],
         "yaxis": "y"
        },
        {
         "alignmentgroup": "True",
         "bingroup": "y",
         "histfunc": "sum",
         "hovertemplate": "Taxon=Long (chained) diatom<br>sum of rel_cell_density_L_per_month=%{x}<br>Year_month=%{y}<extra></extra>",
         "legendgroup": "Long (chained) diatom",
         "marker": {
          "color": "#ab63fa",
          "pattern": {
           "shape": ""
          }
         },
         "name": "Long (chained) diatom",
         "offsetgroup": "Long (chained) diatom",
         "orientation": "h",
         "showlegend": true,
         "type": "histogram",
         "x": [
          0.6951387797571473,
          0.4159976049809982,
          0.5235756870421963,
          0.21025590075573772,
          0.040617044100270734,
          0.02781245272945566,
          0.0370635937687452,
          0.05643683095574881,
          0.02645943681644554,
          0.33612699475221974,
          0.4710066153549259
         ],
         "xaxis": "x",
         "y": [
          "July_2021",
          "June_2021",
          "May_2021",
          "April_2021",
          "February_2021",
          "January_2021",
          "December_2020",
          "November_2020",
          "September_2020",
          "August_2020",
          "July_2020"
         ],
         "yaxis": "y"
        },
        {
         "alignmentgroup": "True",
         "bingroup": "y",
         "histfunc": "sum",
         "hovertemplate": "Taxon=Guinardia flaccida<br>sum of rel_cell_density_L_per_month=%{x}<br>Year_month=%{y}<extra></extra>",
         "legendgroup": "Guinardia flaccida",
         "marker": {
          "color": "#FFA15A",
          "pattern": {
           "shape": ""
          }
         },
         "name": "Guinardia flaccida",
         "offsetgroup": "Guinardia flaccida",
         "orientation": "h",
         "showlegend": true,
         "type": "histogram",
         "x": [
          0.028545659971985163,
          0.1537805482215093,
          0.29979524595111023,
          0.032081678623133124,
          0.031716861925846815,
          0.021191968623152053
         ],
         "xaxis": "x",
         "y": [
          "July_2021",
          "June_2021",
          "April_2021",
          "November_2020",
          "August_2020",
          "July_2020"
         ],
         "yaxis": "y"
        },
        {
         "alignmentgroup": "True",
         "bingroup": "y",
         "histfunc": "sum",
         "hovertemplate": "Taxon=Tripos fusus<br>sum of rel_cell_density_L_per_month=%{x}<br>Year_month=%{y}<extra></extra>",
         "legendgroup": "Tripos fusus",
         "marker": {
          "color": "#19d3f3",
          "pattern": {
           "shape": ""
          }
         },
         "name": "Tripos fusus",
         "offsetgroup": "Tripos fusus",
         "orientation": "h",
         "showlegend": true,
         "type": "histogram",
         "x": [
          0.04226815309814451
         ],
         "xaxis": "x",
         "y": [
          "July_2021"
         ],
         "yaxis": "y"
        },
        {
         "alignmentgroup": "True",
         "bingroup": "y",
         "histfunc": "sum",
         "hovertemplate": "Taxon=Phytoplankton Colony<br>sum of rel_cell_density_L_per_month=%{x}<br>Year_month=%{y}<extra></extra>",
         "legendgroup": "Phytoplankton Colony",
         "marker": {
          "color": "#FF6692",
          "pattern": {
           "shape": ""
          }
         },
         "name": "Phytoplankton Colony",
         "offsetgroup": "Phytoplankton Colony",
         "orientation": "h",
         "showlegend": true,
         "type": "histogram",
         "x": [
          0.04458229859844918
         ],
         "xaxis": "x",
         "y": [
          "July_2021"
         ],
         "yaxis": "y"
        },
        {
         "alignmentgroup": "True",
         "bingroup": "y",
         "histfunc": "sum",
         "hovertemplate": "Taxon=Chaetoceros<br>sum of rel_cell_density_L_per_month=%{x}<br>Year_month=%{y}<extra></extra>",
         "legendgroup": "Chaetoceros",
         "marker": {
          "color": "#B6E880",
          "pattern": {
           "shape": ""
          }
         },
         "name": "Chaetoceros",
         "offsetgroup": "Chaetoceros",
         "orientation": "h",
         "showlegend": true,
         "type": "histogram",
         "x": [
          0.020518496985870355,
          0.06323398746807986,
          0.07957799537795561,
          0.04037128754427063
         ],
         "xaxis": "x",
         "y": [
          "June_2021",
          "February_2021",
          "November_2020",
          "September_2020"
         ],
         "yaxis": "y"
        },
        {
         "alignmentgroup": "True",
         "bingroup": "y",
         "histfunc": "sum",
         "hovertemplate": "Taxon=Rhizosolenia setigera (f. pungens)/R. hebetata f. semispina<br>sum of rel_cell_density_L_per_month=%{x}<br>Year_month=%{y}<extra></extra>",
         "legendgroup": "Rhizosolenia setigera (f. pungens)/R. hebetata f. semispina",
         "marker": {
          "color": "#FF97FF",
          "pattern": {
           "shape": ""
          }
         },
         "name": "Rhizosolenia setigera (f. pungens)/R. hebetata f. semispina",
         "offsetgroup": "Rhizosolenia setigera (f. pungens)/R. hebetata f. semispina",
         "orientation": "h",
         "showlegend": true,
         "type": "histogram",
         "x": [
          0.02131435489916761
         ],
         "xaxis": "x",
         "y": [
          "June_2021"
         ],
         "yaxis": "y"
        },
        {
         "alignmentgroup": "True",
         "bingroup": "y",
         "histfunc": "sum",
         "hovertemplate": "Taxon=Pseudo-nitzschia<br>sum of rel_cell_density_L_per_month=%{x}<br>Year_month=%{y}<extra></extra>",
         "legendgroup": "Pseudo-nitzschia",
         "marker": {
          "color": "#FECB52",
          "pattern": {
           "shape": ""
          }
         },
         "name": "Pseudo-nitzschia",
         "offsetgroup": "Pseudo-nitzschia",
         "orientation": "h",
         "showlegend": true,
         "type": "histogram",
         "x": [
          0.05010735081006828,
          0.05078148653864542,
          0.02471379653110596
         ],
         "xaxis": "x",
         "y": [
          "May_2021",
          "September_2020",
          "August_2020"
         ],
         "yaxis": "y"
        },
        {
         "alignmentgroup": "True",
         "bingroup": "y",
         "histfunc": "sum",
         "hovertemplate": "Taxon=Guinardia delicatula<br>sum of rel_cell_density_L_per_month=%{x}<br>Year_month=%{y}<extra></extra>",
         "legendgroup": "Guinardia delicatula",
         "marker": {
          "color": "#636efa",
          "pattern": {
           "shape": ""
          }
         },
         "name": "Guinardia delicatula",
         "offsetgroup": "Guinardia delicatula",
         "orientation": "h",
         "showlegend": true,
         "type": "histogram",
         "x": [
          0.21118562739798152
         ],
         "xaxis": "x",
         "y": [
          "April_2021"
         ],
         "yaxis": "y"
        },
        {
         "alignmentgroup": "True",
         "bingroup": "y",
         "histfunc": "sum",
         "hovertemplate": "Taxon=Paralia<br>sum of rel_cell_density_L_per_month=%{x}<br>Year_month=%{y}<extra></extra>",
         "legendgroup": "Paralia",
         "marker": {
          "color": "#EF553B",
          "pattern": {
           "shape": ""
          }
         },
         "name": "Paralia",
         "offsetgroup": "Paralia",
         "orientation": "h",
         "showlegend": true,
         "type": "histogram",
         "x": [
          0.02290942198043622
         ],
         "xaxis": "x",
         "y": [
          "February_2021"
         ],
         "yaxis": "y"
        },
        {
         "alignmentgroup": "True",
         "bingroup": "y",
         "histfunc": "sum",
         "hovertemplate": "Taxon=Zygoceros<br>sum of rel_cell_density_L_per_month=%{x}<br>Year_month=%{y}<extra></extra>",
         "legendgroup": "Zygoceros",
         "marker": {
          "color": "#00cc96",
          "pattern": {
           "shape": ""
          }
         },
         "name": "Zygoceros",
         "offsetgroup": "Zygoceros",
         "orientation": "h",
         "showlegend": true,
         "type": "histogram",
         "x": [
          0.048920453329641046,
          0.10243200457922667,
          0.08067180802296516,
          0.022838151889823476,
          0.03563760649911847
         ],
         "xaxis": "x",
         "y": [
          "February_2021",
          "January_2021",
          "December_2020",
          "November_2020",
          "September_2020"
         ],
         "yaxis": "y"
        },
        {
         "alignmentgroup": "True",
         "bingroup": "y",
         "histfunc": "sum",
         "hovertemplate": "Taxon=Pennate Diatom<br>sum of rel_cell_density_L_per_month=%{x}<br>Year_month=%{y}<extra></extra>",
         "legendgroup": "Pennate Diatom",
         "marker": {
          "color": "#ab63fa",
          "pattern": {
           "shape": ""
          }
         },
         "name": "Pennate Diatom",
         "offsetgroup": "Pennate Diatom",
         "orientation": "h",
         "showlegend": true,
         "type": "histogram",
         "x": [
          0.02372176182182487,
          0.02838407330012344,
          0.03432947936918476
         ],
         "xaxis": "x",
         "y": [
          "February_2021",
          "December_2020",
          "September_2020"
         ],
         "yaxis": "y"
        },
        {
         "alignmentgroup": "True",
         "bingroup": "y",
         "histfunc": "sum",
         "hovertemplate": "Taxon=Helicotheca tamesis<br>sum of rel_cell_density_L_per_month=%{x}<br>Year_month=%{y}<extra></extra>",
         "legendgroup": "Helicotheca tamesis",
         "marker": {
          "color": "#FFA15A",
          "pattern": {
           "shape": ""
          }
         },
         "name": "Helicotheca tamesis",
         "offsetgroup": "Helicotheca tamesis",
         "orientation": "h",
         "showlegend": true,
         "type": "histogram",
         "x": [
          0.08686405404718119,
          0.025278573592411615
         ],
         "xaxis": "x",
         "y": [
          "February_2021",
          "November_2020"
         ],
         "yaxis": "y"
        },
        {
         "alignmentgroup": "True",
         "bingroup": "y",
         "histfunc": "sum",
         "hovertemplate": "Taxon=Trieres sinensis<br>sum of rel_cell_density_L_per_month=%{x}<br>Year_month=%{y}<extra></extra>",
         "legendgroup": "Trieres sinensis",
         "marker": {
          "color": "#19d3f3",
          "pattern": {
           "shape": ""
          }
         },
         "name": "Trieres sinensis",
         "offsetgroup": "Trieres sinensis",
         "orientation": "h",
         "showlegend": true,
         "type": "histogram",
         "x": [
          0.06990020882315122,
          0.07143374311077966,
          0.059730085517975734,
          0.15273415785849076,
          0.07905936625699134,
          0.05079382580518412
         ],
         "xaxis": "x",
         "y": [
          "February_2021",
          "January_2021",
          "December_2020",
          "November_2020",
          "September_2020",
          "August_2020"
         ],
         "yaxis": "y"
        },
        {
         "alignmentgroup": "True",
         "bingroup": "y",
         "histfunc": "sum",
         "hovertemplate": "Taxon=Ditylum brightwellii<br>sum of rel_cell_density_L_per_month=%{x}<br>Year_month=%{y}<extra></extra>",
         "legendgroup": "Ditylum brightwellii",
         "marker": {
          "color": "#FF6692",
          "pattern": {
           "shape": ""
          }
         },
         "name": "Ditylum brightwellii",
         "offsetgroup": "Ditylum brightwellii",
         "orientation": "h",
         "showlegend": true,
         "type": "histogram",
         "x": [
          0.040476746291210196,
          0.06284868355736786,
          0.14509151515911345,
          0.12039214103668504
         ],
         "xaxis": "x",
         "y": [
          "February_2021",
          "December_2020",
          "November_2020",
          "September_2020"
         ],
         "yaxis": "y"
        },
        {
         "alignmentgroup": "True",
         "bingroup": "y",
         "histfunc": "sum",
         "hovertemplate": "Taxon=Asterionella<br>sum of rel_cell_density_L_per_month=%{x}<br>Year_month=%{y}<extra></extra>",
         "legendgroup": "Asterionella",
         "marker": {
          "color": "#B6E880",
          "pattern": {
           "shape": ""
          }
         },
         "name": "Asterionella",
         "offsetgroup": "Asterionella",
         "orientation": "h",
         "showlegend": true,
         "type": "histogram",
         "x": [
          0.06939337443226064
         ],
         "xaxis": "x",
         "y": [
          "February_2021"
         ],
         "yaxis": "y"
        },
        {
         "alignmentgroup": "True",
         "bingroup": "y",
         "histfunc": "sum",
         "hovertemplate": "Taxon=Biddulphianae<br>sum of rel_cell_density_L_per_month=%{x}<br>Year_month=%{y}<extra></extra>",
         "legendgroup": "Biddulphianae",
         "marker": {
          "color": "#FF97FF",
          "pattern": {
           "shape": ""
          }
         },
         "name": "Biddulphianae",
         "offsetgroup": "Biddulphianae",
         "orientation": "h",
         "showlegend": true,
         "type": "histogram",
         "x": [
          0.08398198224128406,
          0.1441078435474639,
          0.09664320300234748,
          0.021236183829874477,
          0.055720267922881345
         ],
         "xaxis": "x",
         "y": [
          "February_2021",
          "January_2021",
          "December_2020",
          "November_2020",
          "September_2020"
         ],
         "yaxis": "y"
        },
        {
         "alignmentgroup": "True",
         "bingroup": "y",
         "histfunc": "sum",
         "hovertemplate": "Taxon=Bellerochea horologicalis<br>sum of rel_cell_density_L_per_month=%{x}<br>Year_month=%{y}<extra></extra>",
         "legendgroup": "Bellerochea horologicalis",
         "marker": {
          "color": "#FECB52",
          "pattern": {
           "shape": ""
          }
         },
         "name": "Bellerochea horologicalis",
         "offsetgroup": "Bellerochea horologicalis",
         "orientation": "h",
         "showlegend": true,
         "type": "histogram",
         "x": [
          0.10549905597120277,
          0.22552976999357136,
          0.07443803662412524,
          0.068758980017483,
          0.08539301335716128,
          0.024861244008562575
         ],
         "xaxis": "x",
         "y": [
          "February_2021",
          "January_2021",
          "December_2020",
          "September_2020",
          "August_2020",
          "July_2020"
         ],
         "yaxis": "y"
        },
        {
         "alignmentgroup": "True",
         "bingroup": "y",
         "histfunc": "sum",
         "hovertemplate": "Taxon=Centric Diatom<br>sum of rel_cell_density_L_per_month=%{x}<br>Year_month=%{y}<extra></extra>",
         "legendgroup": "Centric Diatom",
         "marker": {
          "color": "#636efa",
          "pattern": {
           "shape": ""
          }
         },
         "name": "Centric Diatom",
         "offsetgroup": "Centric Diatom",
         "orientation": "h",
         "showlegend": true,
         "type": "histogram",
         "x": [
          0.1754752845922986,
          0.16360753026036204,
          0.16093347193458374,
          0.1065008648167891,
          0.16299127216068884
         ],
         "xaxis": "x",
         "y": [
          "February_2021",
          "January_2021",
          "December_2020",
          "November_2020",
          "September_2020"
         ],
         "yaxis": "y"
        },
        {
         "alignmentgroup": "True",
         "bingroup": "y",
         "histfunc": "sum",
         "hovertemplate": "Taxon=Aulacodiscus argus<br>sum of rel_cell_density_L_per_month=%{x}<br>Year_month=%{y}<extra></extra>",
         "legendgroup": "Aulacodiscus argus",
         "marker": {
          "color": "#EF553B",
          "pattern": {
           "shape": ""
          }
         },
         "name": "Aulacodiscus argus",
         "offsetgroup": "Aulacodiscus argus",
         "orientation": "h",
         "showlegend": true,
         "type": "histogram",
         "x": [
          0.028552973045669207
         ],
         "xaxis": "x",
         "y": [
          "January_2021"
         ],
         "yaxis": "y"
        },
        {
         "alignmentgroup": "True",
         "bingroup": "y",
         "histfunc": "sum",
         "hovertemplate": "Taxon=Bacillariophyceae<br>sum of rel_cell_density_L_per_month=%{x}<br>Year_month=%{y}<extra></extra>",
         "legendgroup": "Bacillariophyceae",
         "marker": {
          "color": "#00cc96",
          "pattern": {
           "shape": ""
          }
         },
         "name": "Bacillariophyceae",
         "offsetgroup": "Bacillariophyceae",
         "orientation": "h",
         "showlegend": true,
         "type": "histogram",
         "x": [
          0.03703679010278175,
          0.028087829986272028
         ],
         "xaxis": "x",
         "y": [
          "January_2021",
          "December_2020"
         ],
         "yaxis": "y"
        },
        {
         "alignmentgroup": "True",
         "bingroup": "y",
         "histfunc": "sum",
         "hovertemplate": "Taxon=Dinoflagellate cyst<br>sum of rel_cell_density_L_per_month=%{x}<br>Year_month=%{y}<extra></extra>",
         "legendgroup": "Dinoflagellate cyst",
         "marker": {
          "color": "#ab63fa",
          "pattern": {
           "shape": ""
          }
         },
         "name": "Dinoflagellate cyst",
         "offsetgroup": "Dinoflagellate cyst",
         "orientation": "h",
         "showlegend": true,
         "type": "histogram",
         "x": [
          0.026394534245849564
         ],
         "xaxis": "x",
         "y": [
          "December_2020"
         ],
         "yaxis": "y"
        },
        {
         "alignmentgroup": "True",
         "bingroup": "y",
         "histfunc": "sum",
         "hovertemplate": "Taxon=Actinoptychus<br>sum of rel_cell_density_L_per_month=%{x}<br>Year_month=%{y}<extra></extra>",
         "legendgroup": "Actinoptychus",
         "marker": {
          "color": "#FFA15A",
          "pattern": {
           "shape": ""
          }
         },
         "name": "Actinoptychus",
         "offsetgroup": "Actinoptychus",
         "orientation": "h",
         "showlegend": true,
         "type": "histogram",
         "x": [
          0.02249400362527608
         ],
         "xaxis": "x",
         "y": [
          "December_2020"
         ],
         "yaxis": "y"
        },
        {
         "alignmentgroup": "True",
         "bingroup": "y",
         "histfunc": "sum",
         "hovertemplate": "Taxon=Nauplii<br>sum of rel_cell_density_L_per_month=%{x}<br>Year_month=%{y}<extra></extra>",
         "legendgroup": "Nauplii",
         "marker": {
          "color": "#19d3f3",
          "pattern": {
           "shape": ""
          }
         },
         "name": "Nauplii",
         "offsetgroup": "Nauplii",
         "orientation": "h",
         "showlegend": true,
         "type": "histogram",
         "x": [
          0.020271597565325723
         ],
         "xaxis": "x",
         "y": [
          "November_2020"
         ],
         "yaxis": "y"
        },
        {
         "alignmentgroup": "True",
         "bingroup": "y",
         "histfunc": "sum",
         "hovertemplate": "Taxon=Synedra/Thalassionema<br>sum of rel_cell_density_L_per_month=%{x}<br>Year_month=%{y}<extra></extra>",
         "legendgroup": "Synedra/Thalassionema",
         "marker": {
          "color": "#FF6692",
          "pattern": {
           "shape": ""
          }
         },
         "name": "Synedra/Thalassionema",
         "offsetgroup": "Synedra/Thalassionema",
         "orientation": "h",
         "showlegend": true,
         "type": "histogram",
         "x": [
          0.04140957094699235
         ],
         "xaxis": "x",
         "y": [
          "September_2020"
         ],
         "yaxis": "y"
        },
        {
         "alignmentgroup": "True",
         "bingroup": "y",
         "histfunc": "sum",
         "hovertemplate": "Taxon=Eucampia<br>sum of rel_cell_density_L_per_month=%{x}<br>Year_month=%{y}<extra></extra>",
         "legendgroup": "Eucampia",
         "marker": {
          "color": "#B6E880",
          "pattern": {
           "shape": ""
          }
         },
         "name": "Eucampia",
         "offsetgroup": "Eucampia",
         "orientation": "h",
         "showlegend": true,
         "type": "histogram",
         "x": [
          0.027639567083493456,
          0.06696301259913442
         ],
         "xaxis": "x",
         "y": [
          "September_2020",
          "August_2020"
         ],
         "yaxis": "y"
        },
        {
         "alignmentgroup": "True",
         "bingroup": "y",
         "histfunc": "sum",
         "hovertemplate": "Taxon=Proboscia indica<br>sum of rel_cell_density_L_per_month=%{x}<br>Year_month=%{y}<extra></extra>",
         "legendgroup": "Proboscia indica",
         "marker": {
          "color": "#FF97FF",
          "pattern": {
           "shape": ""
          }
         },
         "name": "Proboscia indica",
         "offsetgroup": "Proboscia indica",
         "orientation": "h",
         "showlegend": true,
         "type": "histogram",
         "x": [
          0.05229081524969578
         ],
         "xaxis": "x",
         "y": [
          "September_2020"
         ],
         "yaxis": "y"
        }
       ],
       "layout": {
        "autosize": false,
        "barmode": "relative",
        "font": {
         "color": "#7f7f7f",
         "family": "Times New Roman, serif",
         "size": 18
        },
        "height": 700,
        "legend": {
         "title": {
          "text": "Taxon"
         },
         "tracegroupgap": 0
        },
        "margin": {
         "t": 60
        },
        "template": {
         "data": {
          "bar": [
           {
            "error_x": {
             "color": "#2a3f5f"
            },
            "error_y": {
             "color": "#2a3f5f"
            },
            "marker": {
             "line": {
              "color": "#E5ECF6",
              "width": 0.5
             },
             "pattern": {
              "fillmode": "overlay",
              "size": 10,
              "solidity": 0.2
             }
            },
            "type": "bar"
           }
          ],
          "barpolar": [
           {
            "marker": {
             "line": {
              "color": "#E5ECF6",
              "width": 0.5
             },
             "pattern": {
              "fillmode": "overlay",
              "size": 10,
              "solidity": 0.2
             }
            },
            "type": "barpolar"
           }
          ],
          "carpet": [
           {
            "aaxis": {
             "endlinecolor": "#2a3f5f",
             "gridcolor": "white",
             "linecolor": "white",
             "minorgridcolor": "white",
             "startlinecolor": "#2a3f5f"
            },
            "baxis": {
             "endlinecolor": "#2a3f5f",
             "gridcolor": "white",
             "linecolor": "white",
             "minorgridcolor": "white",
             "startlinecolor": "#2a3f5f"
            },
            "type": "carpet"
           }
          ],
          "choropleth": [
           {
            "colorbar": {
             "outlinewidth": 0,
             "ticks": ""
            },
            "type": "choropleth"
           }
          ],
          "contour": [
           {
            "colorbar": {
             "outlinewidth": 0,
             "ticks": ""
            },
            "colorscale": [
             [
              0,
              "#0d0887"
             ],
             [
              0.1111111111111111,
              "#46039f"
             ],
             [
              0.2222222222222222,
              "#7201a8"
             ],
             [
              0.3333333333333333,
              "#9c179e"
             ],
             [
              0.4444444444444444,
              "#bd3786"
             ],
             [
              0.5555555555555556,
              "#d8576b"
             ],
             [
              0.6666666666666666,
              "#ed7953"
             ],
             [
              0.7777777777777778,
              "#fb9f3a"
             ],
             [
              0.8888888888888888,
              "#fdca26"
             ],
             [
              1,
              "#f0f921"
             ]
            ],
            "type": "contour"
           }
          ],
          "contourcarpet": [
           {
            "colorbar": {
             "outlinewidth": 0,
             "ticks": ""
            },
            "type": "contourcarpet"
           }
          ],
          "heatmap": [
           {
            "colorbar": {
             "outlinewidth": 0,
             "ticks": ""
            },
            "colorscale": [
             [
              0,
              "#0d0887"
             ],
             [
              0.1111111111111111,
              "#46039f"
             ],
             [
              0.2222222222222222,
              "#7201a8"
             ],
             [
              0.3333333333333333,
              "#9c179e"
             ],
             [
              0.4444444444444444,
              "#bd3786"
             ],
             [
              0.5555555555555556,
              "#d8576b"
             ],
             [
              0.6666666666666666,
              "#ed7953"
             ],
             [
              0.7777777777777778,
              "#fb9f3a"
             ],
             [
              0.8888888888888888,
              "#fdca26"
             ],
             [
              1,
              "#f0f921"
             ]
            ],
            "type": "heatmap"
           }
          ],
          "heatmapgl": [
           {
            "colorbar": {
             "outlinewidth": 0,
             "ticks": ""
            },
            "colorscale": [
             [
              0,
              "#0d0887"
             ],
             [
              0.1111111111111111,
              "#46039f"
             ],
             [
              0.2222222222222222,
              "#7201a8"
             ],
             [
              0.3333333333333333,
              "#9c179e"
             ],
             [
              0.4444444444444444,
              "#bd3786"
             ],
             [
              0.5555555555555556,
              "#d8576b"
             ],
             [
              0.6666666666666666,
              "#ed7953"
             ],
             [
              0.7777777777777778,
              "#fb9f3a"
             ],
             [
              0.8888888888888888,
              "#fdca26"
             ],
             [
              1,
              "#f0f921"
             ]
            ],
            "type": "heatmapgl"
           }
          ],
          "histogram": [
           {
            "marker": {
             "pattern": {
              "fillmode": "overlay",
              "size": 10,
              "solidity": 0.2
             }
            },
            "type": "histogram"
           }
          ],
          "histogram2d": [
           {
            "colorbar": {
             "outlinewidth": 0,
             "ticks": ""
            },
            "colorscale": [
             [
              0,
              "#0d0887"
             ],
             [
              0.1111111111111111,
              "#46039f"
             ],
             [
              0.2222222222222222,
              "#7201a8"
             ],
             [
              0.3333333333333333,
              "#9c179e"
             ],
             [
              0.4444444444444444,
              "#bd3786"
             ],
             [
              0.5555555555555556,
              "#d8576b"
             ],
             [
              0.6666666666666666,
              "#ed7953"
             ],
             [
              0.7777777777777778,
              "#fb9f3a"
             ],
             [
              0.8888888888888888,
              "#fdca26"
             ],
             [
              1,
              "#f0f921"
             ]
            ],
            "type": "histogram2d"
           }
          ],
          "histogram2dcontour": [
           {
            "colorbar": {
             "outlinewidth": 0,
             "ticks": ""
            },
            "colorscale": [
             [
              0,
              "#0d0887"
             ],
             [
              0.1111111111111111,
              "#46039f"
             ],
             [
              0.2222222222222222,
              "#7201a8"
             ],
             [
              0.3333333333333333,
              "#9c179e"
             ],
             [
              0.4444444444444444,
              "#bd3786"
             ],
             [
              0.5555555555555556,
              "#d8576b"
             ],
             [
              0.6666666666666666,
              "#ed7953"
             ],
             [
              0.7777777777777778,
              "#fb9f3a"
             ],
             [
              0.8888888888888888,
              "#fdca26"
             ],
             [
              1,
              "#f0f921"
             ]
            ],
            "type": "histogram2dcontour"
           }
          ],
          "mesh3d": [
           {
            "colorbar": {
             "outlinewidth": 0,
             "ticks": ""
            },
            "type": "mesh3d"
           }
          ],
          "parcoords": [
           {
            "line": {
             "colorbar": {
              "outlinewidth": 0,
              "ticks": ""
             }
            },
            "type": "parcoords"
           }
          ],
          "pie": [
           {
            "automargin": true,
            "type": "pie"
           }
          ],
          "scatter": [
           {
            "marker": {
             "colorbar": {
              "outlinewidth": 0,
              "ticks": ""
             }
            },
            "type": "scatter"
           }
          ],
          "scatter3d": [
           {
            "line": {
             "colorbar": {
              "outlinewidth": 0,
              "ticks": ""
             }
            },
            "marker": {
             "colorbar": {
              "outlinewidth": 0,
              "ticks": ""
             }
            },
            "type": "scatter3d"
           }
          ],
          "scattercarpet": [
           {
            "marker": {
             "colorbar": {
              "outlinewidth": 0,
              "ticks": ""
             }
            },
            "type": "scattercarpet"
           }
          ],
          "scattergeo": [
           {
            "marker": {
             "colorbar": {
              "outlinewidth": 0,
              "ticks": ""
             }
            },
            "type": "scattergeo"
           }
          ],
          "scattergl": [
           {
            "marker": {
             "colorbar": {
              "outlinewidth": 0,
              "ticks": ""
             }
            },
            "type": "scattergl"
           }
          ],
          "scattermapbox": [
           {
            "marker": {
             "colorbar": {
              "outlinewidth": 0,
              "ticks": ""
             }
            },
            "type": "scattermapbox"
           }
          ],
          "scatterpolar": [
           {
            "marker": {
             "colorbar": {
              "outlinewidth": 0,
              "ticks": ""
             }
            },
            "type": "scatterpolar"
           }
          ],
          "scatterpolargl": [
           {
            "marker": {
             "colorbar": {
              "outlinewidth": 0,
              "ticks": ""
             }
            },
            "type": "scatterpolargl"
           }
          ],
          "scatterternary": [
           {
            "marker": {
             "colorbar": {
              "outlinewidth": 0,
              "ticks": ""
             }
            },
            "type": "scatterternary"
           }
          ],
          "surface": [
           {
            "colorbar": {
             "outlinewidth": 0,
             "ticks": ""
            },
            "colorscale": [
             [
              0,
              "#0d0887"
             ],
             [
              0.1111111111111111,
              "#46039f"
             ],
             [
              0.2222222222222222,
              "#7201a8"
             ],
             [
              0.3333333333333333,
              "#9c179e"
             ],
             [
              0.4444444444444444,
              "#bd3786"
             ],
             [
              0.5555555555555556,
              "#d8576b"
             ],
             [
              0.6666666666666666,
              "#ed7953"
             ],
             [
              0.7777777777777778,
              "#fb9f3a"
             ],
             [
              0.8888888888888888,
              "#fdca26"
             ],
             [
              1,
              "#f0f921"
             ]
            ],
            "type": "surface"
           }
          ],
          "table": [
           {
            "cells": {
             "fill": {
              "color": "#EBF0F8"
             },
             "line": {
              "color": "white"
             }
            },
            "header": {
             "fill": {
              "color": "#C8D4E3"
             },
             "line": {
              "color": "white"
             }
            },
            "type": "table"
           }
          ]
         },
         "layout": {
          "annotationdefaults": {
           "arrowcolor": "#2a3f5f",
           "arrowhead": 0,
           "arrowwidth": 1
          },
          "autotypenumbers": "strict",
          "coloraxis": {
           "colorbar": {
            "outlinewidth": 0,
            "ticks": ""
           }
          },
          "colorscale": {
           "diverging": [
            [
             0,
             "#8e0152"
            ],
            [
             0.1,
             "#c51b7d"
            ],
            [
             0.2,
             "#de77ae"
            ],
            [
             0.3,
             "#f1b6da"
            ],
            [
             0.4,
             "#fde0ef"
            ],
            [
             0.5,
             "#f7f7f7"
            ],
            [
             0.6,
             "#e6f5d0"
            ],
            [
             0.7,
             "#b8e186"
            ],
            [
             0.8,
             "#7fbc41"
            ],
            [
             0.9,
             "#4d9221"
            ],
            [
             1,
             "#276419"
            ]
           ],
           "sequential": [
            [
             0,
             "#0d0887"
            ],
            [
             0.1111111111111111,
             "#46039f"
            ],
            [
             0.2222222222222222,
             "#7201a8"
            ],
            [
             0.3333333333333333,
             "#9c179e"
            ],
            [
             0.4444444444444444,
             "#bd3786"
            ],
            [
             0.5555555555555556,
             "#d8576b"
            ],
            [
             0.6666666666666666,
             "#ed7953"
            ],
            [
             0.7777777777777778,
             "#fb9f3a"
            ],
            [
             0.8888888888888888,
             "#fdca26"
            ],
            [
             1,
             "#f0f921"
            ]
           ],
           "sequentialminus": [
            [
             0,
             "#0d0887"
            ],
            [
             0.1111111111111111,
             "#46039f"
            ],
            [
             0.2222222222222222,
             "#7201a8"
            ],
            [
             0.3333333333333333,
             "#9c179e"
            ],
            [
             0.4444444444444444,
             "#bd3786"
            ],
            [
             0.5555555555555556,
             "#d8576b"
            ],
            [
             0.6666666666666666,
             "#ed7953"
            ],
            [
             0.7777777777777778,
             "#fb9f3a"
            ],
            [
             0.8888888888888888,
             "#fdca26"
            ],
            [
             1,
             "#f0f921"
            ]
           ]
          },
          "colorway": [
           "#636efa",
           "#EF553B",
           "#00cc96",
           "#ab63fa",
           "#FFA15A",
           "#19d3f3",
           "#FF6692",
           "#B6E880",
           "#FF97FF",
           "#FECB52"
          ],
          "font": {
           "color": "#2a3f5f"
          },
          "geo": {
           "bgcolor": "white",
           "lakecolor": "white",
           "landcolor": "#E5ECF6",
           "showlakes": true,
           "showland": true,
           "subunitcolor": "white"
          },
          "hoverlabel": {
           "align": "left"
          },
          "hovermode": "closest",
          "mapbox": {
           "style": "light"
          },
          "paper_bgcolor": "white",
          "plot_bgcolor": "#E5ECF6",
          "polar": {
           "angularaxis": {
            "gridcolor": "white",
            "linecolor": "white",
            "ticks": ""
           },
           "bgcolor": "#E5ECF6",
           "radialaxis": {
            "gridcolor": "white",
            "linecolor": "white",
            "ticks": ""
           }
          },
          "scene": {
           "xaxis": {
            "backgroundcolor": "#E5ECF6",
            "gridcolor": "white",
            "gridwidth": 2,
            "linecolor": "white",
            "showbackground": true,
            "ticks": "",
            "zerolinecolor": "white"
           },
           "yaxis": {
            "backgroundcolor": "#E5ECF6",
            "gridcolor": "white",
            "gridwidth": 2,
            "linecolor": "white",
            "showbackground": true,
            "ticks": "",
            "zerolinecolor": "white"
           },
           "zaxis": {
            "backgroundcolor": "#E5ECF6",
            "gridcolor": "white",
            "gridwidth": 2,
            "linecolor": "white",
            "showbackground": true,
            "ticks": "",
            "zerolinecolor": "white"
           }
          },
          "shapedefaults": {
           "line": {
            "color": "#2a3f5f"
           }
          },
          "ternary": {
           "aaxis": {
            "gridcolor": "white",
            "linecolor": "white",
            "ticks": ""
           },
           "baxis": {
            "gridcolor": "white",
            "linecolor": "white",
            "ticks": ""
           },
           "bgcolor": "#E5ECF6",
           "caxis": {
            "gridcolor": "white",
            "linecolor": "white",
            "ticks": ""
           }
          },
          "title": {
           "x": 0.05
          },
          "xaxis": {
           "automargin": true,
           "gridcolor": "white",
           "linecolor": "white",
           "ticks": "",
           "title": {
            "standoff": 15
           },
           "zerolinecolor": "white",
           "zerolinewidth": 2
          },
          "yaxis": {
           "automargin": true,
           "gridcolor": "white",
           "linecolor": "white",
           "ticks": "",
           "title": {
            "standoff": 15
           },
           "zerolinecolor": "white",
           "zerolinewidth": 2
          }
         }
        },
        "title": {
         "text": "Flowcam relative cell densities"
        },
        "width": 900,
        "xaxis": {
         "anchor": "y",
         "domain": [
          0,
          1
         ],
         "title": {
          "text": "relative cell density per L per month"
         }
        },
        "yaxis": {
         "anchor": "x",
         "domain": [
          0,
          1
         ],
         "title": {
          "text": "Month"
         }
        }
       }
      }
     },
     "metadata": {},
     "output_type": "display_data"
    }
   ],
   "source": [
    "# # First, I need to combine the cell densities per taxon, per month\n",
    "grouped_df = data_FC[['Taxon', 'Year_month', 'density_cell_L']].groupby(['Taxon', 'Year_month']).agg({'density_cell_L':['sum', 'mean', 'min', 'max']})\n",
    "grouped_df.columns = ['density_cell_L_sum', 'density_cell_L_mean', 'density_cell_L_min', 'density_cell_L_max']\n",
    "grouped_df  = grouped_df.reset_index()\n",
    "\n",
    "# Set months in the right order\n",
    "grouped_df['Year_month'] = pd.Categorical(grouped_df['Year_month'], [\"July_2020\", \"August_2020\", \"September_2020\", \n",
    "                                                        \"November_2020\", \"December_2020\", \"January_2021\", \n",
    "                                                        \"February_2021\", \"April_2021\", \"May_2021\", \n",
    "                                                        \"June_2021\", \"July_2021\"])\n",
    "\n",
    "# Normalise sum of cell density values to the total cells per L of that month\n",
    "grouped_df[\"rel_cell_density_L_per_month\"] = grouped_df.density_cell_L_mean / grouped_df.groupby('Year_month').density_cell_L_mean.transform('sum')\n",
    "\n",
    "# Combine low-abundant groups for figure clarity\n",
    "rare_groups = grouped_df['rel_cell_density_L_per_month'] <= 0.02\n",
    "grouped_df.loc[rare_groups, 'Taxon'] = 'rare'\n",
    "\n",
    "# Plot\n",
    "fig = px.histogram(grouped_df.sort_values(\"Year_month\", ascending=False), \n",
    "                x=\"rel_cell_density_L_per_month\", \n",
    "                y=\"Year_month\", \n",
    "                color='Taxon',\n",
    "                orientation='h',\n",
    "                # text_auto='.2f'\n",
    "                )\n",
    "\n",
    "fig.update_layout(\n",
    "    title=\"Flowcam relative cell densities\",  # Set the chart title\n",
    "    xaxis_title=\"relative sum of cells per L\",  # Set the x-axis title\n",
    "    yaxis_title=\"Month\",  # Set the y-axis title\n",
    "    font=dict(\n",
    "        family=\"Times New Roman, serif\",  # Set the font family to Times New Roman\n",
    "        size=18,  # Set the font size\n",
    "        color=\"#7f7f7f\"  # Set the font color\n",
    "    ),\n",
    "    autosize=False,\n",
    "    width=900,\n",
    "    height=700,\n",
    "    xaxis_title_text='relative cell density per L per month'\n",
    ")\n",
    "\n",
    "fig.show()"
   ]
  },
  {
   "attachments": {},
   "cell_type": "markdown",
   "metadata": {},
   "source": [
    "This is very nice! However, there's a lot of labels and this might be tmi for the paper. It might be better to group the FlowCam taxa together to have taxonomic levels more or less similar to the ones used in metatranscriptomic taxonomic analysis. "
   ]
  },
  {
   "cell_type": "code",
   "execution_count": 48,
   "metadata": {},
   "outputs": [
    {
     "data": {
      "text/html": [
       "<div><div id=82c89956-d3e1-4669-b43b-57bdcad3da10 style=\"display:none; background-color:#9D6CFF; color:white; width:200px; height:30px; padding-left:5px; border-radius:4px; flex-direction:row; justify-content:space-around; align-items:center;\" onmouseover=\"this.style.backgroundColor='#BA9BF8'\" onmouseout=\"this.style.backgroundColor='#9D6CFF'\" onclick=\"window.commands?.execute('create-mitosheet-from-dataframe-output');\">See Full Dataframe in Mito</div> <script> if (window.commands?.hasCommand('create-mitosheet-from-dataframe-output')) document.getElementById('82c89956-d3e1-4669-b43b-57bdcad3da10').style.display = 'flex' </script> <table border=\"1\" class=\"dataframe\">\n",
       "  <thead>\n",
       "    <tr style=\"text-align: right;\">\n",
       "      <th></th>\n",
       "      <th>Station</th>\n",
       "      <th>Taxon</th>\n",
       "      <th>Month</th>\n",
       "      <th>Dil</th>\n",
       "      <th>TripactionID</th>\n",
       "      <th>Volume_filtered</th>\n",
       "      <th>Sample_volume</th>\n",
       "      <th>FVI</th>\n",
       "      <th>Taxon_count</th>\n",
       "      <th>density_cell_L</th>\n",
       "      <th>Total_count</th>\n",
       "      <th>Rel_ab</th>\n",
       "      <th>Year</th>\n",
       "      <th>Year_month</th>\n",
       "      <th>Taxon_grouped</th>\n",
       "    </tr>\n",
       "  </thead>\n",
       "  <tbody>\n",
       "    <tr>\n",
       "      <th>930</th>\n",
       "      <td>700</td>\n",
       "      <td>Actinoptychus</td>\n",
       "      <td>7</td>\n",
       "      <td>0.20</td>\n",
       "      <td>112457</td>\n",
       "      <td>50</td>\n",
       "      <td>0.216</td>\n",
       "      <td>0.002407</td>\n",
       "      <td>1</td>\n",
       "      <td>8.975318</td>\n",
       "      <td>4500</td>\n",
       "      <td>0.022222</td>\n",
       "      <td>2020</td>\n",
       "      <td>July_2020</td>\n",
       "      <td>Bacillariophyta</td>\n",
       "    </tr>\n",
       "    <tr>\n",
       "      <th>931</th>\n",
       "      <td>700</td>\n",
       "      <td>Actinoptychus senarius</td>\n",
       "      <td>7</td>\n",
       "      <td>0.20</td>\n",
       "      <td>112457</td>\n",
       "      <td>50</td>\n",
       "      <td>0.216</td>\n",
       "      <td>0.002242</td>\n",
       "      <td>1</td>\n",
       "      <td>9.632966</td>\n",
       "      <td>4500</td>\n",
       "      <td>0.022222</td>\n",
       "      <td>2020</td>\n",
       "      <td>July_2020</td>\n",
       "      <td>Bacillariophyta</td>\n",
       "    </tr>\n",
       "    <tr>\n",
       "      <th>932</th>\n",
       "      <td>120</td>\n",
       "      <td>Actinoptychus splendens</td>\n",
       "      <td>7</td>\n",
       "      <td>0.05</td>\n",
       "      <td>112471</td>\n",
       "      <td>50</td>\n",
       "      <td>0.200</td>\n",
       "      <td>0.002363</td>\n",
       "      <td>1</td>\n",
       "      <td>33.861001</td>\n",
       "      <td>5557</td>\n",
       "      <td>0.017995</td>\n",
       "      <td>2020</td>\n",
       "      <td>July_2020</td>\n",
       "      <td>Bacillariophyta</td>\n",
       "    </tr>\n",
       "    <tr>\n",
       "      <th>933</th>\n",
       "      <td>700</td>\n",
       "      <td>Actinoptychus splendens</td>\n",
       "      <td>7</td>\n",
       "      <td>0.20</td>\n",
       "      <td>112457</td>\n",
       "      <td>50</td>\n",
       "      <td>0.216</td>\n",
       "      <td>0.002324</td>\n",
       "      <td>2</td>\n",
       "      <td>18.585042</td>\n",
       "      <td>4500</td>\n",
       "      <td>0.044444</td>\n",
       "      <td>2020</td>\n",
       "      <td>July_2020</td>\n",
       "      <td>Bacillariophyta</td>\n",
       "    </tr>\n",
       "    <tr>\n",
       "      <th>940</th>\n",
       "      <td>130</td>\n",
       "      <td>Bacillaria paxillifer</td>\n",
       "      <td>7</td>\n",
       "      <td>0.10</td>\n",
       "      <td>112399</td>\n",
       "      <td>50</td>\n",
       "      <td>0.216</td>\n",
       "      <td>0.002028</td>\n",
       "      <td>1</td>\n",
       "      <td>21.299675</td>\n",
       "      <td>4500</td>\n",
       "      <td>0.022222</td>\n",
       "      <td>2020</td>\n",
       "      <td>July_2020</td>\n",
       "      <td>Bacillariophyta</td>\n",
       "    </tr>\n",
       "  </tbody>\n",
       "</table></div>"
      ],
      "text/plain": [
       "    Station                    Taxon  Month   Dil  TripactionID  \\\n",
       "930     700            Actinoptychus      7  0.20        112457   \n",
       "931     700   Actinoptychus senarius      7  0.20        112457   \n",
       "932     120  Actinoptychus splendens      7  0.05        112471   \n",
       "933     700  Actinoptychus splendens      7  0.20        112457   \n",
       "940     130    Bacillaria paxillifer      7  0.10        112399   \n",
       "\n",
       "     Volume_filtered  Sample_volume       FVI  Taxon_count  density_cell_L  \\\n",
       "930               50          0.216  0.002407            1        8.975318   \n",
       "931               50          0.216  0.002242            1        9.632966   \n",
       "932               50          0.200  0.002363            1       33.861001   \n",
       "933               50          0.216  0.002324            2       18.585042   \n",
       "940               50          0.216  0.002028            1       21.299675   \n",
       "\n",
       "     Total_count    Rel_ab  Year Year_month    Taxon_grouped  \n",
       "930         4500  0.022222  2020  July_2020  Bacillariophyta  \n",
       "931         4500  0.022222  2020  July_2020  Bacillariophyta  \n",
       "932         5557  0.017995  2020  July_2020  Bacillariophyta  \n",
       "933         4500  0.044444  2020  July_2020  Bacillariophyta  \n",
       "940         4500  0.022222  2020  July_2020  Bacillariophyta  "
      ]
     },
     "execution_count": 48,
     "metadata": {},
     "output_type": "execute_result"
    }
   ],
   "source": [
    "# Group taxon levels into new identifiers\n",
    "data_FC['Taxon']\n",
    "\n",
    "diatoms = ['Actinoptychus','Actinoptychus senarius','Actinoptychus splendens','Bacillaria paxillifer','Bacillariophyceae','Bacteriastrum',\n",
    "           'Bellerochea horologicalis','Biddulphianae','Centric Diatom','Ceratium horridum/C. longipes','Chaetoceros','Chaetoceros danicus',\n",
    "           'Dactyliosolen/Cerataulina/Guinardia','Diploneis','Ditylum brightwellii','Eucampia','Guinardia delicatula','Guinardia flaccida',\n",
    "           'Guinardia striata/Dactyliosolen phuketensis','Helicotheca tamesis','Hobaniella longicruris','Lauderia/Melosira/Detonula', 'Thalassiosira/Porosira',\n",
    "           'Lithodesmium undulatum','Long (chained) diatom','Melosira','Neocalyptrella robusta','Odontella rhombus f. trigona','Paralia', 'Asterionella',\n",
    "           'Pennate Diatom','Proboscia indica','Protoperidinium','Pseudo-nitzschia','Rhizosolenia','Rhizosolenia setigera (f. pungens)/R. hebetata f. semispina',\n",
    "           'Skeletonema','Stellarima stellaris/Podosira/Hyalodiscus','Synedra/Thalassionema','Triceratium favus','Trieres mobiliensis/T. regia','Trieres sinensis',\n",
    "           'Zygoceros','Aulacodiscus argus','Biddulphia alternans','Chaetoceros socialis','Coscinodiscus concinnus','Coscinodiscus granii','Coscinodiscus wailesii',\n",
    "           'Foraminifera','Leptocylindraceae','Plagiogrammopsis/Bellerochea malleus','Stephanopyxis','Thalassiosira/Porosira''Asterionella', 'Auliscus', 'Chaetoceros curvisetus/C. pseudocurvisetus',\n",
    "           'Meuniera membranacea', 'Odontella type 1', 'Proboscia', 'Proboscia alata', 'Ralfsiella smithii', 'Thalassiosira punctigera', 'Plagiogrammopsis vanheurckii', '(Pseudo-)pediastrum', \n",
    "       'Odontella aurita/Ralfsiella minima', 'Odontella rhombus var. trigona', 'Epiphytic diatom', 'Pennate diatom colony']\n",
    "\n",
    "dinoflagellates = ['Ceratium horridum/C. longipes', 'Dinoflagellata', 'Dinoflagellate cyst', 'Noctiluca scintillans', 'Noctilucales', 'Protoperidinium', 'Protoperidinium pentagonum',\n",
    "                   'Pseudo-nitzschia', 'Tripos', 'Tripos fusus', 'Tripos:part', 'Protoperidinium depressum', 'Dinophysis', 'Gymnodiniales', 'Tripos lineatus', 'Dissodinium pseudolunula']\n",
    "\n",
    "prymnesiophyceae = ['Phytoplankton Colony'] # Phytoplankton colonies are phaeocystis parts\n",
    "\n",
    "ciliates = ['Favella', 'Tintinnid cyst', 'Tintinnina', 'Tintinnopsis', 'Xystonella', 'Amphorellopsis','Ciliophora','Euntintinnus', \n",
    "            'Peritrichia', 'Strombidium', 'Ciliophora:part', 'Suctoria']\n",
    "\n",
    "mollusca = ['Mollusca', 'Mollusca incertae', 'Veliger larvae D-shaped']\n",
    "\n",
    "crustaceae = ['Nauplii', 'Decapoda', 'Copepoda adult', 'Crustacea']\n",
    "\n",
    "annelida = ['Polychaeta']\n",
    "\n",
    "echinodermata = ['Ophiuroidea/Echinoidea larvae']\n",
    "\n",
    "# Swap the taxon names for the new identifiers\n",
    "data_FC['Taxon_grouped'] = data_FC['Taxon'].replace(diatoms, 'Bacillariophyta')\n",
    "data_FC['Taxon_grouped'] = data_FC['Taxon_grouped'].replace(dinoflagellates, 'Dinophyceae')\n",
    "data_FC['Taxon_grouped'] = data_FC['Taxon_grouped'].replace(prymnesiophyceae, 'Prymnesiophyceae')\n",
    "data_FC['Taxon_grouped'] = data_FC['Taxon_grouped'].replace(ciliates, 'Ciliates')\n",
    "data_FC['Taxon_grouped'] = data_FC['Taxon_grouped'].replace(mollusca, 'Mollusca')\n",
    "data_FC['Taxon_grouped'] = data_FC['Taxon_grouped'].replace(crustaceae, 'Arthropoda')\n",
    "data_FC['Taxon_grouped'] = data_FC['Taxon_grouped'].replace(annelida, 'Annelida')\n",
    "data_FC['Taxon_grouped'] = data_FC['Taxon_grouped'].replace(echinodermata, 'Echinodermata')\n",
    "\n",
    "data_FC.head()\n"
   ]
  },
  {
   "attachments": {},
   "cell_type": "markdown",
   "metadata": {},
   "source": [
    "Now, instead of looking at the relative amount of summed particle counts, it might be more interesting to look at the average amount of cells per L of seawater. This might be more informative because the FlowCam data is not to be trusted when there's bloom events (high biomass numbers result in very high dilutions of the data, resulting in very high cell density estimates per L of seawater)."
   ]
  },
  {
   "cell_type": "code",
   "execution_count": 49,
   "metadata": {},
   "outputs": [
    {
     "data": {
      "application/vnd.plotly.v1+json": {
       "config": {
        "plotlyServerURL": "https://plot.ly"
       },
       "data": [
        {
         "alignmentgroup": "True",
         "bingroup": "y",
         "histfunc": "sum",
         "hovertemplate": "Taxon_grouped=Rare<br>sum of rel_cell_density_L_per_month=%{x}<br>Year_month=%{y}<extra></extra>",
         "legendgroup": "Rare",
         "marker": {
          "color": "#545454",
          "pattern": {
           "shape": ""
          }
         },
         "name": "Rare",
         "offsetgroup": "Rare",
         "orientation": "h",
         "showlegend": true,
         "type": "histogram",
         "x": [
          0.0036889680642124495,
          0.0132090274937356,
          0.004657333296898233,
          0.0013557337843093642,
          0.0072692245808132425,
          0.006088500720395884,
          0.012744744251727079,
          0.008638220463962891,
          0.011673032707702119,
          0.003346750268232887,
          0.014665973663276025,
          0.0054628388400193165,
          0.0011270081445387758,
          0.007958123399608294,
          0.004364872054886019,
          0.01645381196407494,
          0.008172033481638653,
          0.017224507932128107,
          0.008282520365295837,
          0.018438977904450028,
          0.014497262173678603,
          0.0075719370330647705,
          0.00623627945943514,
          0.018803061390878985,
          0.010197540676353927,
          0.019256337915434036,
          0.016587135608815032,
          0.008343524646793199,
          0.015508843275214835,
          0.007732398659454468,
          0.008343524646793199,
          0.009457459628953545,
          0.0041663187762480845,
          0.004637561407020261,
          0.009281566403549024,
          0.009943651670812105,
          0.0062190177821165584,
          0.006681874738301232,
          0.009792135447795218,
          0.006455291998274241,
          0.01804552998372096,
          0.01079006351446401,
          0.018230654749937812
         ],
         "xaxis": "x",
         "y": [
          "July_2021",
          "July_2021",
          "July_2021",
          "July_2021",
          "July_2021",
          "June_2021",
          "June_2021",
          "June_2021",
          "June_2021",
          "June_2021",
          "May_2021",
          "May_2021",
          "May_2021",
          "April_2021",
          "April_2021",
          "April_2021",
          "April_2021",
          "April_2021",
          "April_2021",
          "February_2021",
          "February_2021",
          "January_2021",
          "January_2021",
          "December_2020",
          "December_2020",
          "December_2020",
          "November_2020",
          "November_2020",
          "November_2020",
          "November_2020",
          "November_2020",
          "September_2020",
          "September_2020",
          "September_2020",
          "August_2020",
          "August_2020",
          "August_2020",
          "August_2020",
          "August_2020",
          "July_2020",
          "July_2020",
          "July_2020",
          "July_2020"
         ],
         "yaxis": "y"
        },
        {
         "alignmentgroup": "True",
         "bingroup": "y",
         "histfunc": "sum",
         "hovertemplate": "Taxon_grouped=Bacillariophyta<br>sum of rel_cell_density_L_per_month=%{x}<br>Year_month=%{y}<extra></extra>",
         "legendgroup": "Bacillariophyta",
         "marker": {
          "color": "#E69F00",
          "pattern": {
           "shape": ""
          }
         },
         "name": "Bacillariophyta",
         "offsetgroup": "Bacillariophyta",
         "orientation": "h",
         "showlegend": true,
         "type": "histogram",
         "x": [
          0.40635720940858044,
          0.7218763046030569,
          0.8512836885249236,
          0.6761492970899193,
          0.5711823174418206,
          0.7082226852501627,
          0.4569387521190385,
          0.5817360366306447,
          0.5361123686507286,
          0.6704853531940106,
          0.8936550014915682
         ],
         "xaxis": "x",
         "y": [
          "July_2021",
          "June_2021",
          "May_2021",
          "April_2021",
          "February_2021",
          "January_2021",
          "December_2020",
          "November_2020",
          "September_2020",
          "August_2020",
          "July_2020"
         ],
         "yaxis": "y"
        },
        {
         "alignmentgroup": "True",
         "bingroup": "y",
         "histfunc": "sum",
         "hovertemplate": "Taxon_grouped=Dinophyceae<br>sum of rel_cell_density_L_per_month=%{x}<br>Year_month=%{y}<extra></extra>",
         "legendgroup": "Dinophyceae",
         "marker": {
          "color": "#56B4E9",
          "pattern": {
           "shape": ""
          }
         },
         "name": "Dinophyceae",
         "offsetgroup": "Dinophyceae",
         "orientation": "h",
         "showlegend": true,
         "type": "histogram",
         "x": [
          0.19260962248444063,
          0.1457819311602608,
          0.02407853408847377,
          0.024614646321406763,
          0.07390869304770763,
          0.08848543614251181,
          0.029180669146341542,
          0.057041976840736044,
          0.06132339119185434,
          0.05282345826203487
         ],
         "xaxis": "x",
         "y": [
          "July_2021",
          "June_2021",
          "May_2021",
          "February_2021",
          "January_2021",
          "December_2020",
          "November_2020",
          "September_2020",
          "August_2020",
          "July_2020"
         ],
         "yaxis": "y"
        },
        {
         "alignmentgroup": "True",
         "bingroup": "y",
         "histfunc": "sum",
         "hovertemplate": "Taxon_grouped=Prymnesiophyceae<br>sum of rel_cell_density_L_per_month=%{x}<br>Year_month=%{y}<extra></extra>",
         "legendgroup": "Prymnesiophyceae",
         "marker": {
          "color": "#009E73",
          "pattern": {
           "shape": ""
          }
         },
         "name": "Prymnesiophyceae",
         "offsetgroup": "Prymnesiophyceae",
         "orientation": "h",
         "showlegend": true,
         "type": "histogram",
         "x": [
          0.3708528808870101,
          0.08985051582466158,
          0.04342222214986661,
          0.26139483371244887,
          0.07566356841647072,
          0.04532727594363317
         ],
         "xaxis": "x",
         "y": [
          "July_2021",
          "June_2021",
          "May_2021",
          "April_2021",
          "February_2021",
          "November_2020"
         ],
         "yaxis": "y"
        },
        {
         "alignmentgroup": "True",
         "bingroup": "y",
         "histfunc": "sum",
         "hovertemplate": "Taxon_grouped=Ciliates<br>sum of rel_cell_density_L_per_month=%{x}<br>Year_month=%{y}<extra></extra>",
         "legendgroup": "Ciliates",
         "marker": {
          "color": "#F0E442",
          "pattern": {
           "shape": ""
          }
         },
         "name": "Ciliates",
         "offsetgroup": "Ciliates",
         "orientation": "h",
         "showlegend": true,
         "type": "histogram",
         "x": [
          0.02800280751167177,
          0.04943362874312035,
          0.11509137017957331,
          0.06256849317013058,
          0.03703576674061675
         ],
         "xaxis": "x",
         "y": [
          "May_2021",
          "January_2021",
          "December_2020",
          "September_2020",
          "August_2020"
         ],
         "yaxis": "y"
        },
        {
         "alignmentgroup": "True",
         "bingroup": "y",
         "histfunc": "sum",
         "hovertemplate": "Taxon_grouped=Arthropoda<br>sum of rel_cell_density_L_per_month=%{x}<br>Year_month=%{y}<extra></extra>",
         "legendgroup": "Arthropoda",
         "marker": {
          "color": "#0072B2",
          "pattern": {
           "shape": ""
          }
         },
         "name": "Arthropoda",
         "offsetgroup": "Arthropoda",
         "orientation": "h",
         "showlegend": true,
         "type": "histogram",
         "x": [
          0.031956927077230114,
          0.12563810138569828,
          0.029785885576304905,
          0.10740558959957437,
          0.2639282698407231,
          0.2283830513348767,
          0.14752276399362982
         ],
         "xaxis": "x",
         "y": [
          "May_2021",
          "February_2021",
          "January_2021",
          "December_2020",
          "November_2020",
          "September_2020",
          "August_2020"
         ],
         "yaxis": "y"
        },
        {
         "alignmentgroup": "True",
         "bingroup": "y",
         "histfunc": "sum",
         "hovertemplate": "Taxon_grouped=Nematoda<br>sum of rel_cell_density_L_per_month=%{x}<br>Year_month=%{y}<extra></extra>",
         "legendgroup": "Nematoda",
         "marker": {
          "color": "#00cc96",
          "pattern": {
           "shape": ""
          }
         },
         "name": "Nematoda",
         "offsetgroup": "Nematoda",
         "orientation": "h",
         "showlegend": true,
         "type": "histogram",
         "x": [
          0.04855981879217026
         ],
         "xaxis": "x",
         "y": [
          "February_2021"
         ],
         "yaxis": "y"
        },
        {
         "alignmentgroup": "True",
         "bingroup": "y",
         "histfunc": "sum",
         "hovertemplate": "Taxon_grouped=Cnidaria<br>sum of rel_cell_density_L_per_month=%{x}<br>Year_month=%{y}<extra></extra>",
         "legendgroup": "Cnidaria",
         "marker": {
          "color": "#A42324",
          "pattern": {
           "shape": ""
          }
         },
         "name": "Cnidaria",
         "offsetgroup": "Cnidaria",
         "orientation": "h",
         "showlegend": true,
         "type": "histogram",
         "x": [
          0.0737009684889704,
          0.039845516921519705,
          0.062360592307016155
         ],
         "xaxis": "x",
         "y": [
          "February_2021",
          "January_2021",
          "September_2020"
         ],
         "yaxis": "y"
        },
        {
         "alignmentgroup": "True",
         "bingroup": "y",
         "histfunc": "sum",
         "hovertemplate": "Taxon_grouped=Porifera spicule<br>sum of rel_cell_density_L_per_month=%{x}<br>Year_month=%{y}<extra></extra>",
         "legendgroup": "Porifera spicule",
         "marker": {
          "color": "#ab63fa",
          "pattern": {
           "shape": ""
          }
         },
         "name": "Porifera spicule",
         "offsetgroup": "Porifera spicule",
         "orientation": "h",
         "showlegend": true,
         "type": "histogram",
         "x": [
          0.04770433907533436,
          0.047531335956024816
         ],
         "xaxis": "x",
         "y": [
          "February_2021",
          "January_2021"
         ],
         "yaxis": "y"
        },
        {
         "alignmentgroup": "True",
         "bingroup": "y",
         "histfunc": "sum",
         "hovertemplate": "Taxon_grouped=Mollusca<br>sum of rel_cell_density_L_per_month=%{x}<br>Year_month=%{y}<extra></extra>",
         "legendgroup": "Mollusca",
         "marker": {
          "color": "#89CE00",
          "pattern": {
           "shape": ""
          }
         },
         "name": "Mollusca",
         "offsetgroup": "Mollusca",
         "orientation": "h",
         "showlegend": true,
         "type": "histogram",
         "x": [
          0.037464038012660024,
          0.0791435044093481,
          0.023312321601586836,
          0.035272177884289914,
          0.04171447883731438
         ],
         "xaxis": "x",
         "y": [
          "January_2021",
          "December_2020",
          "November_2020",
          "September_2020",
          "August_2020"
         ],
         "yaxis": "y"
        },
        {
         "alignmentgroup": "True",
         "bingroup": "y",
         "histfunc": "sum",
         "hovertemplate": "Taxon_grouped=Echinodermata<br>sum of rel_cell_density_L_per_month=%{x}<br>Year_month=%{y}<extra></extra>",
         "legendgroup": "Echinodermata",
         "marker": {
          "color": "#55EEFF",
          "pattern": {
           "shape": ""
          }
         },
         "name": "Echinodermata",
         "offsetgroup": "Echinodermata",
         "orientation": "h",
         "showlegend": true,
         "type": "histogram",
         "x": [
          0.10467840756728708
         ],
         "xaxis": "x",
         "y": [
          "December_2020"
         ],
         "yaxis": "y"
        }
       ],
       "layout": {
        "autosize": false,
        "barmode": "relative",
        "font": {
         "color": "#7f7f7f",
         "family": "Times New Roman, serif",
         "size": 12
        },
        "height": 350,
        "legend": {
         "title": {
          "text": "Taxon_grouped"
         },
         "tracegroupgap": 0
        },
        "margin": {
         "b": 25,
         "l": 0,
         "r": 25,
         "t": 25
        },
        "template": {
         "data": {
          "bar": [
           {
            "error_x": {
             "color": "#2a3f5f"
            },
            "error_y": {
             "color": "#2a3f5f"
            },
            "marker": {
             "line": {
              "color": "#E5ECF6",
              "width": 0.5
             },
             "pattern": {
              "fillmode": "overlay",
              "size": 10,
              "solidity": 0.2
             }
            },
            "type": "bar"
           }
          ],
          "barpolar": [
           {
            "marker": {
             "line": {
              "color": "#E5ECF6",
              "width": 0.5
             },
             "pattern": {
              "fillmode": "overlay",
              "size": 10,
              "solidity": 0.2
             }
            },
            "type": "barpolar"
           }
          ],
          "carpet": [
           {
            "aaxis": {
             "endlinecolor": "#2a3f5f",
             "gridcolor": "white",
             "linecolor": "white",
             "minorgridcolor": "white",
             "startlinecolor": "#2a3f5f"
            },
            "baxis": {
             "endlinecolor": "#2a3f5f",
             "gridcolor": "white",
             "linecolor": "white",
             "minorgridcolor": "white",
             "startlinecolor": "#2a3f5f"
            },
            "type": "carpet"
           }
          ],
          "choropleth": [
           {
            "colorbar": {
             "outlinewidth": 0,
             "ticks": ""
            },
            "type": "choropleth"
           }
          ],
          "contour": [
           {
            "colorbar": {
             "outlinewidth": 0,
             "ticks": ""
            },
            "colorscale": [
             [
              0,
              "#0d0887"
             ],
             [
              0.1111111111111111,
              "#46039f"
             ],
             [
              0.2222222222222222,
              "#7201a8"
             ],
             [
              0.3333333333333333,
              "#9c179e"
             ],
             [
              0.4444444444444444,
              "#bd3786"
             ],
             [
              0.5555555555555556,
              "#d8576b"
             ],
             [
              0.6666666666666666,
              "#ed7953"
             ],
             [
              0.7777777777777778,
              "#fb9f3a"
             ],
             [
              0.8888888888888888,
              "#fdca26"
             ],
             [
              1,
              "#f0f921"
             ]
            ],
            "type": "contour"
           }
          ],
          "contourcarpet": [
           {
            "colorbar": {
             "outlinewidth": 0,
             "ticks": ""
            },
            "type": "contourcarpet"
           }
          ],
          "heatmap": [
           {
            "colorbar": {
             "outlinewidth": 0,
             "ticks": ""
            },
            "colorscale": [
             [
              0,
              "#0d0887"
             ],
             [
              0.1111111111111111,
              "#46039f"
             ],
             [
              0.2222222222222222,
              "#7201a8"
             ],
             [
              0.3333333333333333,
              "#9c179e"
             ],
             [
              0.4444444444444444,
              "#bd3786"
             ],
             [
              0.5555555555555556,
              "#d8576b"
             ],
             [
              0.6666666666666666,
              "#ed7953"
             ],
             [
              0.7777777777777778,
              "#fb9f3a"
             ],
             [
              0.8888888888888888,
              "#fdca26"
             ],
             [
              1,
              "#f0f921"
             ]
            ],
            "type": "heatmap"
           }
          ],
          "heatmapgl": [
           {
            "colorbar": {
             "outlinewidth": 0,
             "ticks": ""
            },
            "colorscale": [
             [
              0,
              "#0d0887"
             ],
             [
              0.1111111111111111,
              "#46039f"
             ],
             [
              0.2222222222222222,
              "#7201a8"
             ],
             [
              0.3333333333333333,
              "#9c179e"
             ],
             [
              0.4444444444444444,
              "#bd3786"
             ],
             [
              0.5555555555555556,
              "#d8576b"
             ],
             [
              0.6666666666666666,
              "#ed7953"
             ],
             [
              0.7777777777777778,
              "#fb9f3a"
             ],
             [
              0.8888888888888888,
              "#fdca26"
             ],
             [
              1,
              "#f0f921"
             ]
            ],
            "type": "heatmapgl"
           }
          ],
          "histogram": [
           {
            "marker": {
             "pattern": {
              "fillmode": "overlay",
              "size": 10,
              "solidity": 0.2
             }
            },
            "type": "histogram"
           }
          ],
          "histogram2d": [
           {
            "colorbar": {
             "outlinewidth": 0,
             "ticks": ""
            },
            "colorscale": [
             [
              0,
              "#0d0887"
             ],
             [
              0.1111111111111111,
              "#46039f"
             ],
             [
              0.2222222222222222,
              "#7201a8"
             ],
             [
              0.3333333333333333,
              "#9c179e"
             ],
             [
              0.4444444444444444,
              "#bd3786"
             ],
             [
              0.5555555555555556,
              "#d8576b"
             ],
             [
              0.6666666666666666,
              "#ed7953"
             ],
             [
              0.7777777777777778,
              "#fb9f3a"
             ],
             [
              0.8888888888888888,
              "#fdca26"
             ],
             [
              1,
              "#f0f921"
             ]
            ],
            "type": "histogram2d"
           }
          ],
          "histogram2dcontour": [
           {
            "colorbar": {
             "outlinewidth": 0,
             "ticks": ""
            },
            "colorscale": [
             [
              0,
              "#0d0887"
             ],
             [
              0.1111111111111111,
              "#46039f"
             ],
             [
              0.2222222222222222,
              "#7201a8"
             ],
             [
              0.3333333333333333,
              "#9c179e"
             ],
             [
              0.4444444444444444,
              "#bd3786"
             ],
             [
              0.5555555555555556,
              "#d8576b"
             ],
             [
              0.6666666666666666,
              "#ed7953"
             ],
             [
              0.7777777777777778,
              "#fb9f3a"
             ],
             [
              0.8888888888888888,
              "#fdca26"
             ],
             [
              1,
              "#f0f921"
             ]
            ],
            "type": "histogram2dcontour"
           }
          ],
          "mesh3d": [
           {
            "colorbar": {
             "outlinewidth": 0,
             "ticks": ""
            },
            "type": "mesh3d"
           }
          ],
          "parcoords": [
           {
            "line": {
             "colorbar": {
              "outlinewidth": 0,
              "ticks": ""
             }
            },
            "type": "parcoords"
           }
          ],
          "pie": [
           {
            "automargin": true,
            "type": "pie"
           }
          ],
          "scatter": [
           {
            "marker": {
             "colorbar": {
              "outlinewidth": 0,
              "ticks": ""
             }
            },
            "type": "scatter"
           }
          ],
          "scatter3d": [
           {
            "line": {
             "colorbar": {
              "outlinewidth": 0,
              "ticks": ""
             }
            },
            "marker": {
             "colorbar": {
              "outlinewidth": 0,
              "ticks": ""
             }
            },
            "type": "scatter3d"
           }
          ],
          "scattercarpet": [
           {
            "marker": {
             "colorbar": {
              "outlinewidth": 0,
              "ticks": ""
             }
            },
            "type": "scattercarpet"
           }
          ],
          "scattergeo": [
           {
            "marker": {
             "colorbar": {
              "outlinewidth": 0,
              "ticks": ""
             }
            },
            "type": "scattergeo"
           }
          ],
          "scattergl": [
           {
            "marker": {
             "colorbar": {
              "outlinewidth": 0,
              "ticks": ""
             }
            },
            "type": "scattergl"
           }
          ],
          "scattermapbox": [
           {
            "marker": {
             "colorbar": {
              "outlinewidth": 0,
              "ticks": ""
             }
            },
            "type": "scattermapbox"
           }
          ],
          "scatterpolar": [
           {
            "marker": {
             "colorbar": {
              "outlinewidth": 0,
              "ticks": ""
             }
            },
            "type": "scatterpolar"
           }
          ],
          "scatterpolargl": [
           {
            "marker": {
             "colorbar": {
              "outlinewidth": 0,
              "ticks": ""
             }
            },
            "type": "scatterpolargl"
           }
          ],
          "scatterternary": [
           {
            "marker": {
             "colorbar": {
              "outlinewidth": 0,
              "ticks": ""
             }
            },
            "type": "scatterternary"
           }
          ],
          "surface": [
           {
            "colorbar": {
             "outlinewidth": 0,
             "ticks": ""
            },
            "colorscale": [
             [
              0,
              "#0d0887"
             ],
             [
              0.1111111111111111,
              "#46039f"
             ],
             [
              0.2222222222222222,
              "#7201a8"
             ],
             [
              0.3333333333333333,
              "#9c179e"
             ],
             [
              0.4444444444444444,
              "#bd3786"
             ],
             [
              0.5555555555555556,
              "#d8576b"
             ],
             [
              0.6666666666666666,
              "#ed7953"
             ],
             [
              0.7777777777777778,
              "#fb9f3a"
             ],
             [
              0.8888888888888888,
              "#fdca26"
             ],
             [
              1,
              "#f0f921"
             ]
            ],
            "type": "surface"
           }
          ],
          "table": [
           {
            "cells": {
             "fill": {
              "color": "#EBF0F8"
             },
             "line": {
              "color": "white"
             }
            },
            "header": {
             "fill": {
              "color": "#C8D4E3"
             },
             "line": {
              "color": "white"
             }
            },
            "type": "table"
           }
          ]
         },
         "layout": {
          "annotationdefaults": {
           "arrowcolor": "#2a3f5f",
           "arrowhead": 0,
           "arrowwidth": 1
          },
          "autotypenumbers": "strict",
          "coloraxis": {
           "colorbar": {
            "outlinewidth": 0,
            "ticks": ""
           }
          },
          "colorscale": {
           "diverging": [
            [
             0,
             "#8e0152"
            ],
            [
             0.1,
             "#c51b7d"
            ],
            [
             0.2,
             "#de77ae"
            ],
            [
             0.3,
             "#f1b6da"
            ],
            [
             0.4,
             "#fde0ef"
            ],
            [
             0.5,
             "#f7f7f7"
            ],
            [
             0.6,
             "#e6f5d0"
            ],
            [
             0.7,
             "#b8e186"
            ],
            [
             0.8,
             "#7fbc41"
            ],
            [
             0.9,
             "#4d9221"
            ],
            [
             1,
             "#276419"
            ]
           ],
           "sequential": [
            [
             0,
             "#0d0887"
            ],
            [
             0.1111111111111111,
             "#46039f"
            ],
            [
             0.2222222222222222,
             "#7201a8"
            ],
            [
             0.3333333333333333,
             "#9c179e"
            ],
            [
             0.4444444444444444,
             "#bd3786"
            ],
            [
             0.5555555555555556,
             "#d8576b"
            ],
            [
             0.6666666666666666,
             "#ed7953"
            ],
            [
             0.7777777777777778,
             "#fb9f3a"
            ],
            [
             0.8888888888888888,
             "#fdca26"
            ],
            [
             1,
             "#f0f921"
            ]
           ],
           "sequentialminus": [
            [
             0,
             "#0d0887"
            ],
            [
             0.1111111111111111,
             "#46039f"
            ],
            [
             0.2222222222222222,
             "#7201a8"
            ],
            [
             0.3333333333333333,
             "#9c179e"
            ],
            [
             0.4444444444444444,
             "#bd3786"
            ],
            [
             0.5555555555555556,
             "#d8576b"
            ],
            [
             0.6666666666666666,
             "#ed7953"
            ],
            [
             0.7777777777777778,
             "#fb9f3a"
            ],
            [
             0.8888888888888888,
             "#fdca26"
            ],
            [
             1,
             "#f0f921"
            ]
           ]
          },
          "colorway": [
           "#636efa",
           "#EF553B",
           "#00cc96",
           "#ab63fa",
           "#FFA15A",
           "#19d3f3",
           "#FF6692",
           "#B6E880",
           "#FF97FF",
           "#FECB52"
          ],
          "font": {
           "color": "#2a3f5f"
          },
          "geo": {
           "bgcolor": "white",
           "lakecolor": "white",
           "landcolor": "#E5ECF6",
           "showlakes": true,
           "showland": true,
           "subunitcolor": "white"
          },
          "hoverlabel": {
           "align": "left"
          },
          "hovermode": "closest",
          "mapbox": {
           "style": "light"
          },
          "paper_bgcolor": "white",
          "plot_bgcolor": "#E5ECF6",
          "polar": {
           "angularaxis": {
            "gridcolor": "white",
            "linecolor": "white",
            "ticks": ""
           },
           "bgcolor": "#E5ECF6",
           "radialaxis": {
            "gridcolor": "white",
            "linecolor": "white",
            "ticks": ""
           }
          },
          "scene": {
           "xaxis": {
            "backgroundcolor": "#E5ECF6",
            "gridcolor": "white",
            "gridwidth": 2,
            "linecolor": "white",
            "showbackground": true,
            "ticks": "",
            "zerolinecolor": "white"
           },
           "yaxis": {
            "backgroundcolor": "#E5ECF6",
            "gridcolor": "white",
            "gridwidth": 2,
            "linecolor": "white",
            "showbackground": true,
            "ticks": "",
            "zerolinecolor": "white"
           },
           "zaxis": {
            "backgroundcolor": "#E5ECF6",
            "gridcolor": "white",
            "gridwidth": 2,
            "linecolor": "white",
            "showbackground": true,
            "ticks": "",
            "zerolinecolor": "white"
           }
          },
          "shapedefaults": {
           "line": {
            "color": "#2a3f5f"
           }
          },
          "ternary": {
           "aaxis": {
            "gridcolor": "white",
            "linecolor": "white",
            "ticks": ""
           },
           "baxis": {
            "gridcolor": "white",
            "linecolor": "white",
            "ticks": ""
           },
           "bgcolor": "#E5ECF6",
           "caxis": {
            "gridcolor": "white",
            "linecolor": "white",
            "ticks": ""
           }
          },
          "title": {
           "x": 0.05
          },
          "xaxis": {
           "automargin": true,
           "gridcolor": "white",
           "linecolor": "white",
           "ticks": "",
           "title": {
            "standoff": 15
           },
           "zerolinecolor": "white",
           "zerolinewidth": 2
          },
          "yaxis": {
           "automargin": true,
           "gridcolor": "white",
           "linecolor": "white",
           "ticks": "",
           "title": {
            "standoff": 15
           },
           "zerolinecolor": "white",
           "zerolinewidth": 2
          }
         }
        },
        "title": {
         "text": "Flowcam relative cell densities"
        },
        "width": 500,
        "xaxis": {
         "anchor": "y",
         "domain": [
          0,
          1
         ],
         "title": {
          "text": "relative average cell density per L"
         }
        },
        "yaxis": {
         "anchor": "x",
         "domain": [
          0,
          1
         ],
         "title": {
          "text": "Month"
         }
        }
       }
      }
     },
     "metadata": {},
     "output_type": "display_data"
    }
   ],
   "source": [
    "# # First, I need to combine the cell densities per taxon, per month\n",
    "grouped_df = data_FC[['Taxon_grouped', 'Year_month', 'density_cell_L']].groupby(['Taxon_grouped', 'Year_month']).agg({'density_cell_L':['sum', 'mean', 'min', 'max']})\n",
    "grouped_df.columns = ['density_cell_L_sum', 'density_cell_L_mean', 'density_cell_L_min', 'density_cell_L_max']\n",
    "grouped_df  = grouped_df.reset_index()\n",
    "\n",
    "# Set months in the right order\n",
    "grouped_df['Year_month'] = pd.Categorical(grouped_df['Year_month'], [\"July_2020\", \"August_2020\", \"September_2020\", \n",
    "                                                        \"November_2020\", \"December_2020\", \"January_2021\", \n",
    "                                                        \"February_2021\", \"April_2021\", \"May_2021\", \n",
    "                                                        \"June_2021\", \"July_2021\"])\n",
    "\n",
    "# Normalise sum of cell density values to the total cells per L of that month\n",
    "grouped_df[\"rel_cell_density_L_per_month\"] = grouped_df.density_cell_L_mean / grouped_df.groupby('Year_month').density_cell_L_mean.transform('sum')\n",
    "\n",
    "# Combine low-abundant groups for figure clarity\n",
    "rare_groups = grouped_df['rel_cell_density_L_per_month'] <= 0.02\n",
    "grouped_df.loc[rare_groups, 'Taxon_grouped'] = 'Rare'\n",
    "\n",
    "# Plot\n",
    "fig = px.histogram(grouped_df.sort_values(\"Year_month\", ascending=False), \n",
    "                x=\"rel_cell_density_L_per_month\", \n",
    "                y=\"Year_month\", \n",
    "                color='Taxon_grouped',\n",
    "                orientation='h',\n",
    "                color_discrete_map={\n",
    "                    \"Rare\": \"#545454\",\n",
    "                    \"Bacillariophyta\": \"#E69F00\",\n",
    "                    \"Dinophyceae\": \"#56B4E9\",\n",
    "                    \"Prymnesiophyceae\": \"#009E73\",\n",
    "                    \"Ciliates\": \"#F0E442\",\n",
    "                    \"Arthropoda\": \"#0072B2\",\n",
    "                    \"Annelida\": \"#D55E00\",\n",
    "                    \"Craniata\": \"#CC79A7\",\n",
    "                    \"Urocordata\": \"#B5B5B5\",\n",
    "                    \"Echinodermata\": \"#55EEFF\",\n",
    "                    \"Cnidaria\": \"#A42324\",\n",
    "                    \"Mollusca\": \"#89CE00\",\n",
    "                },\n",
    "                category_orders={\n",
    "                    \"Taxon_grouped\": [\"Rare\", \"Bacillariophyta\", \"Dinophyceae\",\n",
    "                                      \"Prymnesiophyceae\"]\n",
    "                }\n",
    "                # text_auto='.2f'\n",
    "                )\n",
    "\n",
    "fig.update_layout(\n",
    "    title=\"Flowcam relative cell densities\",  # Set the chart title\n",
    "    xaxis_title=\"relative average cell density per L\",  # Set the x-axis title\n",
    "    yaxis_title=\"Month\",  # Set the y-axis title\n",
    "    font=dict(\n",
    "        family=\"Times New Roman, serif\",  # Set the font family to Times New Roman\n",
    "        size=12,  # Set the font size\n",
    "        color=\"#7f7f7f\"  # Set the font color\n",
    "    ),\n",
    "    autosize=False,\n",
    "    width=500,\n",
    "    height=350,\n",
    "    margin=dict( # Set the margins\n",
    "        l=0,  # Left margin\n",
    "        r=25,  # Right margin\n",
    "        b=25,  # Bottom margin\n",
    "        t=25  # Top margin\n",
    "    ),\n",
    "    xaxis_title_text='relative average cell density per L'\n",
    ")\n",
    "\n",
    "fig.show()"
   ]
  },
  {
   "cell_type": "code",
   "execution_count": 50,
   "metadata": {},
   "outputs": [],
   "source": [
    "fig.write_image('../../figures/flowcam/flowcam_rel_avg_cell_densities_L_month.svg')"
   ]
  },
  {
   "cell_type": "markdown",
   "metadata": {},
   "source": [
    "### Spatial Distribution\n",
    "Now, let's map the relative cell densities per sampling station."
   ]
  },
  {
   "cell_type": "code",
   "execution_count": 51,
   "metadata": {},
   "outputs": [
    {
     "data": {
      "application/vnd.plotly.v1+json": {
       "config": {
        "plotlyServerURL": "https://plot.ly"
       },
       "data": [
        {
         "alignmentgroup": "True",
         "bingroup": "y",
         "histfunc": "sum",
         "hovertemplate": "Taxon_grouped=Rare<br>sum of rel_cell_density_L_per_month=%{x}<br>Year_month=%{y}<extra></extra>",
         "legendgroup": "Rare",
         "marker": {
          "color": "#545454",
          "pattern": {
           "shape": ""
          }
         },
         "name": "Rare",
         "offsetgroup": "Rare",
         "orientation": "h",
         "showlegend": true,
         "type": "histogram",
         "x": [
          0.006739366088923335,
          0.005021191831717269,
          0.006380721784368216,
          0.016764384089304887,
          0.015967432072806046,
          0.014061883626237571,
          0.009134705971237797,
          0.006831735513753834
         ],
         "xaxis": "x",
         "y": [
          "July_2021",
          "June_2021",
          "April_2021",
          "April_2021",
          "April_2021",
          "September_2020",
          "August_2020",
          "August_2020"
         ],
         "yaxis": "y"
        },
        {
         "alignmentgroup": "True",
         "bingroup": "y",
         "histfunc": "sum",
         "hovertemplate": "Taxon_grouped=Bacillariophyta<br>sum of rel_cell_density_L_per_month=%{x}<br>Year_month=%{y}<extra></extra>",
         "legendgroup": "Bacillariophyta",
         "marker": {
          "color": "#E69F00",
          "pattern": {
           "shape": ""
          }
         },
         "name": "Bacillariophyta",
         "offsetgroup": "Bacillariophyta",
         "orientation": "h",
         "showlegend": true,
         "type": "histogram",
         "x": [
          0.6034853279979465,
          0.9580328137926776,
          0.14441356502675398,
          0.4520266960935486,
          0.6919496405888139,
          0.5581264724842412,
          0.7272533051852568,
          0.7633272130708456,
          0.7339022493148661,
          0.9130295440647289
         ],
         "xaxis": "x",
         "y": [
          "July_2021",
          "June_2021",
          "May_2021",
          "April_2021",
          "February_2021",
          "January_2021",
          "December_2020",
          "November_2020",
          "September_2020",
          "August_2020"
         ],
         "yaxis": "y"
        },
        {
         "alignmentgroup": "True",
         "bingroup": "y",
         "histfunc": "sum",
         "hovertemplate": "Taxon_grouped=Dinophyceae<br>sum of rel_cell_density_L_per_month=%{x}<br>Year_month=%{y}<extra></extra>",
         "legendgroup": "Dinophyceae",
         "marker": {
          "color": "#56B4E9",
          "pattern": {
           "shape": ""
          }
         },
         "name": "Dinophyceae",
         "offsetgroup": "Dinophyceae",
         "orientation": "h",
         "showlegend": true,
         "type": "histogram",
         "x": [
          0.09598234631544775,
          0.03694599437560524,
          0.028951437633895447,
          0.026690790660284465,
          0.0629878708237451,
          0.03542906309195373,
          0.10020956563805969,
          0.03925842977138875
         ],
         "xaxis": "x",
         "y": [
          "July_2021",
          "June_2021",
          "May_2021",
          "February_2021",
          "December_2020",
          "November_2020",
          "September_2020",
          "August_2020"
         ],
         "yaxis": "y"
        },
        {
         "alignmentgroup": "True",
         "bingroup": "y",
         "histfunc": "sum",
         "hovertemplate": "Taxon_grouped=Prymnesiophyceae<br>sum of rel_cell_density_L_per_month=%{x}<br>Year_month=%{y}<extra></extra>",
         "legendgroup": "Prymnesiophyceae",
         "marker": {
          "color": "#009E73",
          "pattern": {
           "shape": ""
          }
         },
         "name": "Prymnesiophyceae",
         "offsetgroup": "Prymnesiophyceae",
         "orientation": "h",
         "showlegend": true,
         "type": "histogram",
         "x": [
          0.2937929595976825,
          0.60495777523508,
          0.5088607659599722,
          0.05052892903098346
         ],
         "xaxis": "x",
         "y": [
          "July_2021",
          "May_2021",
          "April_2021",
          "January_2021"
         ],
         "yaxis": "y"
        },
        {
         "alignmentgroup": "True",
         "bingroup": "y",
         "histfunc": "sum",
         "hovertemplate": "Taxon_grouped=Ciliates<br>sum of rel_cell_density_L_per_month=%{x}<br>Year_month=%{y}<extra></extra>",
         "legendgroup": "Ciliates",
         "marker": {
          "color": "#F0E442",
          "pattern": {
           "shape": ""
          }
         },
         "name": "Ciliates",
         "offsetgroup": "Ciliates",
         "orientation": "h",
         "showlegend": true,
         "type": "histogram",
         "x": [
          0.07698120897252037,
          0.02526484866073736,
          0.1284097721847827
         ],
         "xaxis": "x",
         "y": [
          "May_2021",
          "January_2021",
          "September_2020"
         ],
         "yaxis": "y"
        },
        {
         "alignmentgroup": "True",
         "bingroup": "y",
         "histfunc": "sum",
         "hovertemplate": "Taxon_grouped=Arthropoda<br>sum of rel_cell_density_L_per_month=%{x}<br>Year_month=%{y}<extra></extra>",
         "legendgroup": "Arthropoda",
         "marker": {
          "color": "#0072B2",
          "pattern": {
           "shape": ""
          }
         },
         "name": "Arthropoda",
         "offsetgroup": "Arthropoda",
         "orientation": "h",
         "showlegend": true,
         "type": "histogram",
         "x": [
          0.14469601313175015,
          0.14730002348574672,
          0.2146210702506366,
          0.16791208324676837,
          0.1775187952703421,
          0.023416529236053998,
          0.031745584678890625
         ],
         "xaxis": "x",
         "y": [
          "May_2021",
          "February_2021",
          "January_2021",
          "December_2020",
          "November_2020",
          "September_2020",
          "August_2020"
         ],
         "yaxis": "y"
        },
        {
         "alignmentgroup": "True",
         "bingroup": "y",
         "histfunc": "sum",
         "hovertemplate": "Taxon_grouped=Cnidaria<br>sum of rel_cell_density_L_per_month=%{x}<br>Year_month=%{y}<extra></extra>",
         "legendgroup": "Cnidaria",
         "marker": {
          "color": "#A42324",
          "pattern": {
           "shape": ""
          }
         },
         "name": "Cnidaria",
         "offsetgroup": "Cnidaria",
         "orientation": "h",
         "showlegend": true,
         "type": "histogram",
         "x": [
          0.05368465051616563
         ],
         "xaxis": "x",
         "y": [
          "February_2021"
         ],
         "yaxis": "y"
        },
        {
         "alignmentgroup": "True",
         "bingroup": "y",
         "histfunc": "sum",
         "hovertemplate": "Taxon_grouped=Nematoda<br>sum of rel_cell_density_L_per_month=%{x}<br>Year_month=%{y}<extra></extra>",
         "legendgroup": "Nematoda",
         "marker": {
          "color": "#FFA15A",
          "pattern": {
           "shape": ""
          }
         },
         "name": "Nematoda",
         "offsetgroup": "Nematoda",
         "orientation": "h",
         "showlegend": true,
         "type": "histogram",
         "x": [
          0.026770070236503154
         ],
         "xaxis": "x",
         "y": [
          "February_2021"
         ],
         "yaxis": "y"
        },
        {
         "alignmentgroup": "True",
         "bingroup": "y",
         "histfunc": "sum",
         "hovertemplate": "Taxon_grouped=Porifera spicule<br>sum of rel_cell_density_L_per_month=%{x}<br>Year_month=%{y}<extra></extra>",
         "legendgroup": "Porifera spicule",
         "marker": {
          "color": "#19d3f3",
          "pattern": {
           "shape": ""
          }
         },
         "name": "Porifera spicule",
         "offsetgroup": "Porifera spicule",
         "orientation": "h",
         "showlegend": true,
         "type": "histogram",
         "x": [
          0.053604824512486125,
          0.12625820385877848,
          0.04184674074422991
         ],
         "xaxis": "x",
         "y": [
          "February_2021",
          "January_2021",
          "December_2020"
         ],
         "yaxis": "y"
        },
        {
         "alignmentgroup": "True",
         "bingroup": "y",
         "histfunc": "sum",
         "hovertemplate": "Taxon_grouped=Mollusca<br>sum of rel_cell_density_L_per_month=%{x}<br>Year_month=%{y}<extra></extra>",
         "legendgroup": "Mollusca",
         "marker": {
          "color": "#89CE00",
          "pattern": {
           "shape": ""
          }
         },
         "name": "Mollusca",
         "offsetgroup": "Mollusca",
         "orientation": "h",
         "showlegend": true,
         "type": "histogram",
         "x": [
          0.025200475714622923,
          0.023724928566858462
         ],
         "xaxis": "x",
         "y": [
          "January_2021",
          "November_2020"
         ],
         "yaxis": "y"
        }
       ],
       "layout": {
        "autosize": false,
        "barmode": "relative",
        "font": {
         "color": "#7f7f7f",
         "family": "Times New Roman, serif",
         "size": 12
        },
        "height": 226.77165354330708,
        "legend": {
         "title": {
          "text": "Taxon_grouped"
         },
         "tracegroupgap": 0
        },
        "margin": {
         "b": 25,
         "l": 0,
         "r": 25,
         "t": 25
        },
        "showlegend": false,
        "template": {
         "data": {
          "bar": [
           {
            "error_x": {
             "color": "#2a3f5f"
            },
            "error_y": {
             "color": "#2a3f5f"
            },
            "marker": {
             "line": {
              "color": "#E5ECF6",
              "width": 0.5
             },
             "pattern": {
              "fillmode": "overlay",
              "size": 10,
              "solidity": 0.2
             }
            },
            "type": "bar"
           }
          ],
          "barpolar": [
           {
            "marker": {
             "line": {
              "color": "#E5ECF6",
              "width": 0.5
             },
             "pattern": {
              "fillmode": "overlay",
              "size": 10,
              "solidity": 0.2
             }
            },
            "type": "barpolar"
           }
          ],
          "carpet": [
           {
            "aaxis": {
             "endlinecolor": "#2a3f5f",
             "gridcolor": "white",
             "linecolor": "white",
             "minorgridcolor": "white",
             "startlinecolor": "#2a3f5f"
            },
            "baxis": {
             "endlinecolor": "#2a3f5f",
             "gridcolor": "white",
             "linecolor": "white",
             "minorgridcolor": "white",
             "startlinecolor": "#2a3f5f"
            },
            "type": "carpet"
           }
          ],
          "choropleth": [
           {
            "colorbar": {
             "outlinewidth": 0,
             "ticks": ""
            },
            "type": "choropleth"
           }
          ],
          "contour": [
           {
            "colorbar": {
             "outlinewidth": 0,
             "ticks": ""
            },
            "colorscale": [
             [
              0,
              "#0d0887"
             ],
             [
              0.1111111111111111,
              "#46039f"
             ],
             [
              0.2222222222222222,
              "#7201a8"
             ],
             [
              0.3333333333333333,
              "#9c179e"
             ],
             [
              0.4444444444444444,
              "#bd3786"
             ],
             [
              0.5555555555555556,
              "#d8576b"
             ],
             [
              0.6666666666666666,
              "#ed7953"
             ],
             [
              0.7777777777777778,
              "#fb9f3a"
             ],
             [
              0.8888888888888888,
              "#fdca26"
             ],
             [
              1,
              "#f0f921"
             ]
            ],
            "type": "contour"
           }
          ],
          "contourcarpet": [
           {
            "colorbar": {
             "outlinewidth": 0,
             "ticks": ""
            },
            "type": "contourcarpet"
           }
          ],
          "heatmap": [
           {
            "colorbar": {
             "outlinewidth": 0,
             "ticks": ""
            },
            "colorscale": [
             [
              0,
              "#0d0887"
             ],
             [
              0.1111111111111111,
              "#46039f"
             ],
             [
              0.2222222222222222,
              "#7201a8"
             ],
             [
              0.3333333333333333,
              "#9c179e"
             ],
             [
              0.4444444444444444,
              "#bd3786"
             ],
             [
              0.5555555555555556,
              "#d8576b"
             ],
             [
              0.6666666666666666,
              "#ed7953"
             ],
             [
              0.7777777777777778,
              "#fb9f3a"
             ],
             [
              0.8888888888888888,
              "#fdca26"
             ],
             [
              1,
              "#f0f921"
             ]
            ],
            "type": "heatmap"
           }
          ],
          "heatmapgl": [
           {
            "colorbar": {
             "outlinewidth": 0,
             "ticks": ""
            },
            "colorscale": [
             [
              0,
              "#0d0887"
             ],
             [
              0.1111111111111111,
              "#46039f"
             ],
             [
              0.2222222222222222,
              "#7201a8"
             ],
             [
              0.3333333333333333,
              "#9c179e"
             ],
             [
              0.4444444444444444,
              "#bd3786"
             ],
             [
              0.5555555555555556,
              "#d8576b"
             ],
             [
              0.6666666666666666,
              "#ed7953"
             ],
             [
              0.7777777777777778,
              "#fb9f3a"
             ],
             [
              0.8888888888888888,
              "#fdca26"
             ],
             [
              1,
              "#f0f921"
             ]
            ],
            "type": "heatmapgl"
           }
          ],
          "histogram": [
           {
            "marker": {
             "pattern": {
              "fillmode": "overlay",
              "size": 10,
              "solidity": 0.2
             }
            },
            "type": "histogram"
           }
          ],
          "histogram2d": [
           {
            "colorbar": {
             "outlinewidth": 0,
             "ticks": ""
            },
            "colorscale": [
             [
              0,
              "#0d0887"
             ],
             [
              0.1111111111111111,
              "#46039f"
             ],
             [
              0.2222222222222222,
              "#7201a8"
             ],
             [
              0.3333333333333333,
              "#9c179e"
             ],
             [
              0.4444444444444444,
              "#bd3786"
             ],
             [
              0.5555555555555556,
              "#d8576b"
             ],
             [
              0.6666666666666666,
              "#ed7953"
             ],
             [
              0.7777777777777778,
              "#fb9f3a"
             ],
             [
              0.8888888888888888,
              "#fdca26"
             ],
             [
              1,
              "#f0f921"
             ]
            ],
            "type": "histogram2d"
           }
          ],
          "histogram2dcontour": [
           {
            "colorbar": {
             "outlinewidth": 0,
             "ticks": ""
            },
            "colorscale": [
             [
              0,
              "#0d0887"
             ],
             [
              0.1111111111111111,
              "#46039f"
             ],
             [
              0.2222222222222222,
              "#7201a8"
             ],
             [
              0.3333333333333333,
              "#9c179e"
             ],
             [
              0.4444444444444444,
              "#bd3786"
             ],
             [
              0.5555555555555556,
              "#d8576b"
             ],
             [
              0.6666666666666666,
              "#ed7953"
             ],
             [
              0.7777777777777778,
              "#fb9f3a"
             ],
             [
              0.8888888888888888,
              "#fdca26"
             ],
             [
              1,
              "#f0f921"
             ]
            ],
            "type": "histogram2dcontour"
           }
          ],
          "mesh3d": [
           {
            "colorbar": {
             "outlinewidth": 0,
             "ticks": ""
            },
            "type": "mesh3d"
           }
          ],
          "parcoords": [
           {
            "line": {
             "colorbar": {
              "outlinewidth": 0,
              "ticks": ""
             }
            },
            "type": "parcoords"
           }
          ],
          "pie": [
           {
            "automargin": true,
            "type": "pie"
           }
          ],
          "scatter": [
           {
            "marker": {
             "colorbar": {
              "outlinewidth": 0,
              "ticks": ""
             }
            },
            "type": "scatter"
           }
          ],
          "scatter3d": [
           {
            "line": {
             "colorbar": {
              "outlinewidth": 0,
              "ticks": ""
             }
            },
            "marker": {
             "colorbar": {
              "outlinewidth": 0,
              "ticks": ""
             }
            },
            "type": "scatter3d"
           }
          ],
          "scattercarpet": [
           {
            "marker": {
             "colorbar": {
              "outlinewidth": 0,
              "ticks": ""
             }
            },
            "type": "scattercarpet"
           }
          ],
          "scattergeo": [
           {
            "marker": {
             "colorbar": {
              "outlinewidth": 0,
              "ticks": ""
             }
            },
            "type": "scattergeo"
           }
          ],
          "scattergl": [
           {
            "marker": {
             "colorbar": {
              "outlinewidth": 0,
              "ticks": ""
             }
            },
            "type": "scattergl"
           }
          ],
          "scattermapbox": [
           {
            "marker": {
             "colorbar": {
              "outlinewidth": 0,
              "ticks": ""
             }
            },
            "type": "scattermapbox"
           }
          ],
          "scatterpolar": [
           {
            "marker": {
             "colorbar": {
              "outlinewidth": 0,
              "ticks": ""
             }
            },
            "type": "scatterpolar"
           }
          ],
          "scatterpolargl": [
           {
            "marker": {
             "colorbar": {
              "outlinewidth": 0,
              "ticks": ""
             }
            },
            "type": "scatterpolargl"
           }
          ],
          "scatterternary": [
           {
            "marker": {
             "colorbar": {
              "outlinewidth": 0,
              "ticks": ""
             }
            },
            "type": "scatterternary"
           }
          ],
          "surface": [
           {
            "colorbar": {
             "outlinewidth": 0,
             "ticks": ""
            },
            "colorscale": [
             [
              0,
              "#0d0887"
             ],
             [
              0.1111111111111111,
              "#46039f"
             ],
             [
              0.2222222222222222,
              "#7201a8"
             ],
             [
              0.3333333333333333,
              "#9c179e"
             ],
             [
              0.4444444444444444,
              "#bd3786"
             ],
             [
              0.5555555555555556,
              "#d8576b"
             ],
             [
              0.6666666666666666,
              "#ed7953"
             ],
             [
              0.7777777777777778,
              "#fb9f3a"
             ],
             [
              0.8888888888888888,
              "#fdca26"
             ],
             [
              1,
              "#f0f921"
             ]
            ],
            "type": "surface"
           }
          ],
          "table": [
           {
            "cells": {
             "fill": {
              "color": "#EBF0F8"
             },
             "line": {
              "color": "white"
             }
            },
            "header": {
             "fill": {
              "color": "#C8D4E3"
             },
             "line": {
              "color": "white"
             }
            },
            "type": "table"
           }
          ]
         },
         "layout": {
          "annotationdefaults": {
           "arrowcolor": "#2a3f5f",
           "arrowhead": 0,
           "arrowwidth": 1
          },
          "autotypenumbers": "strict",
          "coloraxis": {
           "colorbar": {
            "outlinewidth": 0,
            "ticks": ""
           }
          },
          "colorscale": {
           "diverging": [
            [
             0,
             "#8e0152"
            ],
            [
             0.1,
             "#c51b7d"
            ],
            [
             0.2,
             "#de77ae"
            ],
            [
             0.3,
             "#f1b6da"
            ],
            [
             0.4,
             "#fde0ef"
            ],
            [
             0.5,
             "#f7f7f7"
            ],
            [
             0.6,
             "#e6f5d0"
            ],
            [
             0.7,
             "#b8e186"
            ],
            [
             0.8,
             "#7fbc41"
            ],
            [
             0.9,
             "#4d9221"
            ],
            [
             1,
             "#276419"
            ]
           ],
           "sequential": [
            [
             0,
             "#0d0887"
            ],
            [
             0.1111111111111111,
             "#46039f"
            ],
            [
             0.2222222222222222,
             "#7201a8"
            ],
            [
             0.3333333333333333,
             "#9c179e"
            ],
            [
             0.4444444444444444,
             "#bd3786"
            ],
            [
             0.5555555555555556,
             "#d8576b"
            ],
            [
             0.6666666666666666,
             "#ed7953"
            ],
            [
             0.7777777777777778,
             "#fb9f3a"
            ],
            [
             0.8888888888888888,
             "#fdca26"
            ],
            [
             1,
             "#f0f921"
            ]
           ],
           "sequentialminus": [
            [
             0,
             "#0d0887"
            ],
            [
             0.1111111111111111,
             "#46039f"
            ],
            [
             0.2222222222222222,
             "#7201a8"
            ],
            [
             0.3333333333333333,
             "#9c179e"
            ],
            [
             0.4444444444444444,
             "#bd3786"
            ],
            [
             0.5555555555555556,
             "#d8576b"
            ],
            [
             0.6666666666666666,
             "#ed7953"
            ],
            [
             0.7777777777777778,
             "#fb9f3a"
            ],
            [
             0.8888888888888888,
             "#fdca26"
            ],
            [
             1,
             "#f0f921"
            ]
           ]
          },
          "colorway": [
           "#636efa",
           "#EF553B",
           "#00cc96",
           "#ab63fa",
           "#FFA15A",
           "#19d3f3",
           "#FF6692",
           "#B6E880",
           "#FF97FF",
           "#FECB52"
          ],
          "font": {
           "color": "#2a3f5f"
          },
          "geo": {
           "bgcolor": "white",
           "lakecolor": "white",
           "landcolor": "#E5ECF6",
           "showlakes": true,
           "showland": true,
           "subunitcolor": "white"
          },
          "hoverlabel": {
           "align": "left"
          },
          "hovermode": "closest",
          "mapbox": {
           "style": "light"
          },
          "paper_bgcolor": "white",
          "plot_bgcolor": "#E5ECF6",
          "polar": {
           "angularaxis": {
            "gridcolor": "white",
            "linecolor": "white",
            "ticks": ""
           },
           "bgcolor": "#E5ECF6",
           "radialaxis": {
            "gridcolor": "white",
            "linecolor": "white",
            "ticks": ""
           }
          },
          "scene": {
           "xaxis": {
            "backgroundcolor": "#E5ECF6",
            "gridcolor": "white",
            "gridwidth": 2,
            "linecolor": "white",
            "showbackground": true,
            "ticks": "",
            "zerolinecolor": "white"
           },
           "yaxis": {
            "backgroundcolor": "#E5ECF6",
            "gridcolor": "white",
            "gridwidth": 2,
            "linecolor": "white",
            "showbackground": true,
            "ticks": "",
            "zerolinecolor": "white"
           },
           "zaxis": {
            "backgroundcolor": "#E5ECF6",
            "gridcolor": "white",
            "gridwidth": 2,
            "linecolor": "white",
            "showbackground": true,
            "ticks": "",
            "zerolinecolor": "white"
           }
          },
          "shapedefaults": {
           "line": {
            "color": "#2a3f5f"
           }
          },
          "ternary": {
           "aaxis": {
            "gridcolor": "white",
            "linecolor": "white",
            "ticks": ""
           },
           "baxis": {
            "gridcolor": "white",
            "linecolor": "white",
            "ticks": ""
           },
           "bgcolor": "#E5ECF6",
           "caxis": {
            "gridcolor": "white",
            "linecolor": "white",
            "ticks": ""
           }
          },
          "title": {
           "x": 0.05
          },
          "xaxis": {
           "automargin": true,
           "gridcolor": "white",
           "linecolor": "white",
           "ticks": "",
           "title": {
            "standoff": 15
           },
           "zerolinecolor": "white",
           "zerolinewidth": 2
          },
          "yaxis": {
           "automargin": true,
           "gridcolor": "white",
           "linecolor": "white",
           "ticks": "",
           "title": {
            "standoff": 15
           },
           "zerolinecolor": "white",
           "zerolinewidth": 2
          }
         }
        },
        "title": {
         "text": "Station ZG02"
        },
        "width": 264.56692913385825,
        "xaxis": {
         "anchor": "y",
         "domain": [
          0,
          1
         ],
         "title": {
          "text": "average cell density per L"
         }
        },
        "yaxis": {
         "anchor": "x",
         "categoryarray": [
          "July_2021",
          "June_2021",
          "May_2021",
          "April_2021",
          "February_2021",
          "January_2021",
          "December_2020",
          "November_2020",
          "September_2020",
          "August_2020",
          "July_2020"
         ],
         "categoryorder": "array",
         "domain": [
          0,
          1
         ],
         "title": {
          "text": ""
         }
        }
       }
      }
     },
     "metadata": {},
     "output_type": "display_data"
    },
    {
     "data": {
      "application/vnd.plotly.v1+json": {
       "config": {
        "plotlyServerURL": "https://plot.ly"
       },
       "data": [
        {
         "alignmentgroup": "True",
         "bingroup": "y",
         "histfunc": "sum",
         "hovertemplate": "Taxon_grouped=Rare<br>sum of rel_cell_density_L_per_month=%{x}<br>Year_month=%{y}<extra></extra>",
         "legendgroup": "Rare",
         "marker": {
          "color": "#545454",
          "pattern": {
           "shape": ""
          }
         },
         "name": "Rare",
         "offsetgroup": "Rare",
         "orientation": "h",
         "showlegend": true,
         "type": "histogram",
         "x": [
          0.017929452518584767,
          0.015479519918003873,
          0.0074765307296803234,
          0.009814914399025683,
          0.003971324099139123,
          0.00828835576489255,
          0.013383266680710463,
          0.016670195871093918,
          0.00577710438284429,
          0.005758520463652517,
          0.008897577443429047,
          0.0027650695339073057,
          0.00557078307003492,
          0.002807202143414065
         ],
         "xaxis": "x",
         "y": [
          "June_2021",
          "June_2021",
          "June_2021",
          "June_2021",
          "April_2021",
          "April_2021",
          "April_2021",
          "September_2020",
          "August_2020",
          "August_2020",
          "July_2020",
          "July_2020",
          "July_2020",
          "July_2020"
         ],
         "yaxis": "y"
        },
        {
         "alignmentgroup": "True",
         "bingroup": "y",
         "histfunc": "sum",
         "hovertemplate": "Taxon_grouped=Bacillariophyta<br>sum of rel_cell_density_L_per_month=%{x}<br>Year_month=%{y}<extra></extra>",
         "legendgroup": "Bacillariophyta",
         "marker": {
          "color": "#E69F00",
          "pattern": {
           "shape": ""
          }
         },
         "name": "Bacillariophyta",
         "offsetgroup": "Bacillariophyta",
         "orientation": "h",
         "showlegend": true,
         "type": "histogram",
         "x": [
          0.7301782416125379,
          0.45853804376519675,
          0.6179528162485997,
          0.7118522324509219,
          0.5856979153127699,
          0.7082716659800782,
          0.6997823663153505,
          0.6350517274172607,
          0.9799593678092146
         ],
         "xaxis": "x",
         "y": [
          "June_2021",
          "May_2021",
          "April_2021",
          "February_2021",
          "December_2020",
          "November_2020",
          "September_2020",
          "August_2020",
          "July_2020"
         ],
         "yaxis": "y"
        },
        {
         "alignmentgroup": "True",
         "bingroup": "y",
         "histfunc": "sum",
         "hovertemplate": "Taxon_grouped=Dinophyceae<br>sum of rel_cell_density_L_per_month=%{x}<br>Year_month=%{y}<extra></extra>",
         "legendgroup": "Dinophyceae",
         "marker": {
          "color": "#56B4E9",
          "pattern": {
           "shape": ""
          }
         },
         "name": "Dinophyceae",
         "offsetgroup": "Dinophyceae",
         "orientation": "h",
         "showlegend": true,
         "type": "histogram",
         "x": [
          0.21912134082216755,
          0.08403996659892385,
          0.021817859479051512,
          0.06209232380019706,
          0.06294907872397067,
          0.04633179035982182
         ],
         "xaxis": "x",
         "y": [
          "June_2021",
          "May_2021",
          "February_2021",
          "December_2020",
          "November_2020",
          "August_2020"
         ],
         "yaxis": "y"
        },
        {
         "alignmentgroup": "True",
         "bingroup": "y",
         "histfunc": "sum",
         "hovertemplate": "Taxon_grouped=Prymnesiophyceae<br>sum of rel_cell_density_L_per_month=%{x}<br>Year_month=%{y}<extra></extra>",
         "legendgroup": "Prymnesiophyceae",
         "marker": {
          "color": "#009E73",
          "pattern": {
           "shape": ""
          }
         },
         "name": "Prymnesiophyceae",
         "offsetgroup": "Prymnesiophyceae",
         "orientation": "h",
         "showlegend": true,
         "type": "histogram",
         "x": [
          0.35640423720665826
         ],
         "xaxis": "x",
         "y": [
          "April_2021"
         ],
         "yaxis": "y"
        },
        {
         "alignmentgroup": "True",
         "bingroup": "y",
         "histfunc": "sum",
         "hovertemplate": "Taxon_grouped=Mollusca<br>sum of rel_cell_density_L_per_month=%{x}<br>Year_month=%{y}<extra></extra>",
         "legendgroup": "Mollusca",
         "marker": {
          "color": "#89CE00",
          "pattern": {
           "shape": ""
          }
         },
         "name": "Mollusca",
         "offsetgroup": "Mollusca",
         "orientation": "h",
         "showlegend": true,
         "type": "histogram",
         "x": [
          0.028181369716517832,
          0.062185848103317315,
          0.20283572638573097
         ],
         "xaxis": "x",
         "y": [
          "May_2021",
          "December_2020",
          "August_2020"
         ],
         "yaxis": "y"
        },
        {
         "alignmentgroup": "True",
         "bingroup": "y",
         "histfunc": "sum",
         "hovertemplate": "Taxon_grouped=Arthropoda<br>sum of rel_cell_density_L_per_month=%{x}<br>Year_month=%{y}<extra></extra>",
         "legendgroup": "Arthropoda",
         "marker": {
          "color": "#0072B2",
          "pattern": {
           "shape": ""
          }
         },
         "name": "Arthropoda",
         "offsetgroup": "Arthropoda",
         "orientation": "h",
         "showlegend": true,
         "type": "histogram",
         "x": [
          0.03505949311636614,
          0.2446154078857175,
          0.2072029202032012,
          0.22877925529595125,
          0.18346090911368204,
          0.08098883610932313
         ],
         "xaxis": "x",
         "y": [
          "May_2021",
          "February_2021",
          "December_2020",
          "November_2020",
          "September_2020",
          "August_2020"
         ],
         "yaxis": "y"
        },
        {
         "alignmentgroup": "True",
         "bingroup": "y",
         "histfunc": "sum",
         "hovertemplate": "Taxon_grouped=Ciliates<br>sum of rel_cell_density_L_per_month=%{x}<br>Year_month=%{y}<extra></extra>",
         "legendgroup": "Ciliates",
         "marker": {
          "color": "#F0E442",
          "pattern": {
           "shape": ""
          }
         },
         "name": "Ciliates",
         "offsetgroup": "Ciliates",
         "orientation": "h",
         "showlegend": true,
         "type": "histogram",
         "x": [
          0.3941811268029955,
          0.10008652869987347
         ],
         "xaxis": "x",
         "y": [
          "May_2021",
          "September_2020"
         ],
         "yaxis": "y"
        },
        {
         "alignmentgroup": "True",
         "bingroup": "y",
         "histfunc": "sum",
         "hovertemplate": "Taxon_grouped=Porifera spicule<br>sum of rel_cell_density_L_per_month=%{x}<br>Year_month=%{y}<extra></extra>",
         "legendgroup": "Porifera spicule",
         "marker": {
          "color": "#FFA15A",
          "pattern": {
           "shape": ""
          }
         },
         "name": "Porifera spicule",
         "offsetgroup": "Porifera spicule",
         "orientation": "h",
         "showlegend": true,
         "type": "histogram",
         "x": [
          0.021714500184309184,
          0.04145723206887818
         ],
         "xaxis": "x",
         "y": [
          "February_2021",
          "December_2020"
         ],
         "yaxis": "y"
        },
        {
         "alignmentgroup": "True",
         "bingroup": "y",
         "histfunc": "sum",
         "hovertemplate": "Taxon_grouped=Appendicularia<br>sum of rel_cell_density_L_per_month=%{x}<br>Year_month=%{y}<extra></extra>",
         "legendgroup": "Appendicularia",
         "marker": {
          "color": "#FF0000",
          "pattern": {
           "shape": ""
          }
         },
         "name": "Appendicularia",
         "offsetgroup": "Appendicularia",
         "orientation": "h",
         "showlegend": true,
         "type": "histogram",
         "x": [
          0.04136376051163638
         ],
         "xaxis": "x",
         "y": [
          "December_2020"
         ],
         "yaxis": "y"
        },
        {
         "alignmentgroup": "True",
         "bingroup": "y",
         "histfunc": "sum",
         "hovertemplate": "Taxon_grouped=Rotifera<br>sum of rel_cell_density_L_per_month=%{x}<br>Year_month=%{y}<extra></extra>",
         "legendgroup": "Rotifera",
         "marker": {
          "color": "#0000FF",
          "pattern": {
           "shape": ""
          }
         },
         "name": "Rotifera",
         "offsetgroup": "Rotifera",
         "orientation": "h",
         "showlegend": true,
         "type": "histogram",
         "x": [
          0.023256294881366685
         ],
         "xaxis": "x",
         "y": [
          "August_2020"
         ],
         "yaxis": "y"
        }
       ],
       "layout": {
        "autosize": false,
        "barmode": "relative",
        "font": {
         "color": "#7f7f7f",
         "family": "Times New Roman, serif",
         "size": 12
        },
        "height": 226.77165354330708,
        "legend": {
         "title": {
          "text": "Taxon_grouped"
         },
         "tracegroupgap": 0
        },
        "margin": {
         "b": 25,
         "l": 0,
         "r": 25,
         "t": 25
        },
        "showlegend": false,
        "template": {
         "data": {
          "bar": [
           {
            "error_x": {
             "color": "#2a3f5f"
            },
            "error_y": {
             "color": "#2a3f5f"
            },
            "marker": {
             "line": {
              "color": "#E5ECF6",
              "width": 0.5
             },
             "pattern": {
              "fillmode": "overlay",
              "size": 10,
              "solidity": 0.2
             }
            },
            "type": "bar"
           }
          ],
          "barpolar": [
           {
            "marker": {
             "line": {
              "color": "#E5ECF6",
              "width": 0.5
             },
             "pattern": {
              "fillmode": "overlay",
              "size": 10,
              "solidity": 0.2
             }
            },
            "type": "barpolar"
           }
          ],
          "carpet": [
           {
            "aaxis": {
             "endlinecolor": "#2a3f5f",
             "gridcolor": "white",
             "linecolor": "white",
             "minorgridcolor": "white",
             "startlinecolor": "#2a3f5f"
            },
            "baxis": {
             "endlinecolor": "#2a3f5f",
             "gridcolor": "white",
             "linecolor": "white",
             "minorgridcolor": "white",
             "startlinecolor": "#2a3f5f"
            },
            "type": "carpet"
           }
          ],
          "choropleth": [
           {
            "colorbar": {
             "outlinewidth": 0,
             "ticks": ""
            },
            "type": "choropleth"
           }
          ],
          "contour": [
           {
            "colorbar": {
             "outlinewidth": 0,
             "ticks": ""
            },
            "colorscale": [
             [
              0,
              "#0d0887"
             ],
             [
              0.1111111111111111,
              "#46039f"
             ],
             [
              0.2222222222222222,
              "#7201a8"
             ],
             [
              0.3333333333333333,
              "#9c179e"
             ],
             [
              0.4444444444444444,
              "#bd3786"
             ],
             [
              0.5555555555555556,
              "#d8576b"
             ],
             [
              0.6666666666666666,
              "#ed7953"
             ],
             [
              0.7777777777777778,
              "#fb9f3a"
             ],
             [
              0.8888888888888888,
              "#fdca26"
             ],
             [
              1,
              "#f0f921"
             ]
            ],
            "type": "contour"
           }
          ],
          "contourcarpet": [
           {
            "colorbar": {
             "outlinewidth": 0,
             "ticks": ""
            },
            "type": "contourcarpet"
           }
          ],
          "heatmap": [
           {
            "colorbar": {
             "outlinewidth": 0,
             "ticks": ""
            },
            "colorscale": [
             [
              0,
              "#0d0887"
             ],
             [
              0.1111111111111111,
              "#46039f"
             ],
             [
              0.2222222222222222,
              "#7201a8"
             ],
             [
              0.3333333333333333,
              "#9c179e"
             ],
             [
              0.4444444444444444,
              "#bd3786"
             ],
             [
              0.5555555555555556,
              "#d8576b"
             ],
             [
              0.6666666666666666,
              "#ed7953"
             ],
             [
              0.7777777777777778,
              "#fb9f3a"
             ],
             [
              0.8888888888888888,
              "#fdca26"
             ],
             [
              1,
              "#f0f921"
             ]
            ],
            "type": "heatmap"
           }
          ],
          "heatmapgl": [
           {
            "colorbar": {
             "outlinewidth": 0,
             "ticks": ""
            },
            "colorscale": [
             [
              0,
              "#0d0887"
             ],
             [
              0.1111111111111111,
              "#46039f"
             ],
             [
              0.2222222222222222,
              "#7201a8"
             ],
             [
              0.3333333333333333,
              "#9c179e"
             ],
             [
              0.4444444444444444,
              "#bd3786"
             ],
             [
              0.5555555555555556,
              "#d8576b"
             ],
             [
              0.6666666666666666,
              "#ed7953"
             ],
             [
              0.7777777777777778,
              "#fb9f3a"
             ],
             [
              0.8888888888888888,
              "#fdca26"
             ],
             [
              1,
              "#f0f921"
             ]
            ],
            "type": "heatmapgl"
           }
          ],
          "histogram": [
           {
            "marker": {
             "pattern": {
              "fillmode": "overlay",
              "size": 10,
              "solidity": 0.2
             }
            },
            "type": "histogram"
           }
          ],
          "histogram2d": [
           {
            "colorbar": {
             "outlinewidth": 0,
             "ticks": ""
            },
            "colorscale": [
             [
              0,
              "#0d0887"
             ],
             [
              0.1111111111111111,
              "#46039f"
             ],
             [
              0.2222222222222222,
              "#7201a8"
             ],
             [
              0.3333333333333333,
              "#9c179e"
             ],
             [
              0.4444444444444444,
              "#bd3786"
             ],
             [
              0.5555555555555556,
              "#d8576b"
             ],
             [
              0.6666666666666666,
              "#ed7953"
             ],
             [
              0.7777777777777778,
              "#fb9f3a"
             ],
             [
              0.8888888888888888,
              "#fdca26"
             ],
             [
              1,
              "#f0f921"
             ]
            ],
            "type": "histogram2d"
           }
          ],
          "histogram2dcontour": [
           {
            "colorbar": {
             "outlinewidth": 0,
             "ticks": ""
            },
            "colorscale": [
             [
              0,
              "#0d0887"
             ],
             [
              0.1111111111111111,
              "#46039f"
             ],
             [
              0.2222222222222222,
              "#7201a8"
             ],
             [
              0.3333333333333333,
              "#9c179e"
             ],
             [
              0.4444444444444444,
              "#bd3786"
             ],
             [
              0.5555555555555556,
              "#d8576b"
             ],
             [
              0.6666666666666666,
              "#ed7953"
             ],
             [
              0.7777777777777778,
              "#fb9f3a"
             ],
             [
              0.8888888888888888,
              "#fdca26"
             ],
             [
              1,
              "#f0f921"
             ]
            ],
            "type": "histogram2dcontour"
           }
          ],
          "mesh3d": [
           {
            "colorbar": {
             "outlinewidth": 0,
             "ticks": ""
            },
            "type": "mesh3d"
           }
          ],
          "parcoords": [
           {
            "line": {
             "colorbar": {
              "outlinewidth": 0,
              "ticks": ""
             }
            },
            "type": "parcoords"
           }
          ],
          "pie": [
           {
            "automargin": true,
            "type": "pie"
           }
          ],
          "scatter": [
           {
            "marker": {
             "colorbar": {
              "outlinewidth": 0,
              "ticks": ""
             }
            },
            "type": "scatter"
           }
          ],
          "scatter3d": [
           {
            "line": {
             "colorbar": {
              "outlinewidth": 0,
              "ticks": ""
             }
            },
            "marker": {
             "colorbar": {
              "outlinewidth": 0,
              "ticks": ""
             }
            },
            "type": "scatter3d"
           }
          ],
          "scattercarpet": [
           {
            "marker": {
             "colorbar": {
              "outlinewidth": 0,
              "ticks": ""
             }
            },
            "type": "scattercarpet"
           }
          ],
          "scattergeo": [
           {
            "marker": {
             "colorbar": {
              "outlinewidth": 0,
              "ticks": ""
             }
            },
            "type": "scattergeo"
           }
          ],
          "scattergl": [
           {
            "marker": {
             "colorbar": {
              "outlinewidth": 0,
              "ticks": ""
             }
            },
            "type": "scattergl"
           }
          ],
          "scattermapbox": [
           {
            "marker": {
             "colorbar": {
              "outlinewidth": 0,
              "ticks": ""
             }
            },
            "type": "scattermapbox"
           }
          ],
          "scatterpolar": [
           {
            "marker": {
             "colorbar": {
              "outlinewidth": 0,
              "ticks": ""
             }
            },
            "type": "scatterpolar"
           }
          ],
          "scatterpolargl": [
           {
            "marker": {
             "colorbar": {
              "outlinewidth": 0,
              "ticks": ""
             }
            },
            "type": "scatterpolargl"
           }
          ],
          "scatterternary": [
           {
            "marker": {
             "colorbar": {
              "outlinewidth": 0,
              "ticks": ""
             }
            },
            "type": "scatterternary"
           }
          ],
          "surface": [
           {
            "colorbar": {
             "outlinewidth": 0,
             "ticks": ""
            },
            "colorscale": [
             [
              0,
              "#0d0887"
             ],
             [
              0.1111111111111111,
              "#46039f"
             ],
             [
              0.2222222222222222,
              "#7201a8"
             ],
             [
              0.3333333333333333,
              "#9c179e"
             ],
             [
              0.4444444444444444,
              "#bd3786"
             ],
             [
              0.5555555555555556,
              "#d8576b"
             ],
             [
              0.6666666666666666,
              "#ed7953"
             ],
             [
              0.7777777777777778,
              "#fb9f3a"
             ],
             [
              0.8888888888888888,
              "#fdca26"
             ],
             [
              1,
              "#f0f921"
             ]
            ],
            "type": "surface"
           }
          ],
          "table": [
           {
            "cells": {
             "fill": {
              "color": "#EBF0F8"
             },
             "line": {
              "color": "white"
             }
            },
            "header": {
             "fill": {
              "color": "#C8D4E3"
             },
             "line": {
              "color": "white"
             }
            },
            "type": "table"
           }
          ]
         },
         "layout": {
          "annotationdefaults": {
           "arrowcolor": "#2a3f5f",
           "arrowhead": 0,
           "arrowwidth": 1
          },
          "autotypenumbers": "strict",
          "coloraxis": {
           "colorbar": {
            "outlinewidth": 0,
            "ticks": ""
           }
          },
          "colorscale": {
           "diverging": [
            [
             0,
             "#8e0152"
            ],
            [
             0.1,
             "#c51b7d"
            ],
            [
             0.2,
             "#de77ae"
            ],
            [
             0.3,
             "#f1b6da"
            ],
            [
             0.4,
             "#fde0ef"
            ],
            [
             0.5,
             "#f7f7f7"
            ],
            [
             0.6,
             "#e6f5d0"
            ],
            [
             0.7,
             "#b8e186"
            ],
            [
             0.8,
             "#7fbc41"
            ],
            [
             0.9,
             "#4d9221"
            ],
            [
             1,
             "#276419"
            ]
           ],
           "sequential": [
            [
             0,
             "#0d0887"
            ],
            [
             0.1111111111111111,
             "#46039f"
            ],
            [
             0.2222222222222222,
             "#7201a8"
            ],
            [
             0.3333333333333333,
             "#9c179e"
            ],
            [
             0.4444444444444444,
             "#bd3786"
            ],
            [
             0.5555555555555556,
             "#d8576b"
            ],
            [
             0.6666666666666666,
             "#ed7953"
            ],
            [
             0.7777777777777778,
             "#fb9f3a"
            ],
            [
             0.8888888888888888,
             "#fdca26"
            ],
            [
             1,
             "#f0f921"
            ]
           ],
           "sequentialminus": [
            [
             0,
             "#0d0887"
            ],
            [
             0.1111111111111111,
             "#46039f"
            ],
            [
             0.2222222222222222,
             "#7201a8"
            ],
            [
             0.3333333333333333,
             "#9c179e"
            ],
            [
             0.4444444444444444,
             "#bd3786"
            ],
            [
             0.5555555555555556,
             "#d8576b"
            ],
            [
             0.6666666666666666,
             "#ed7953"
            ],
            [
             0.7777777777777778,
             "#fb9f3a"
            ],
            [
             0.8888888888888888,
             "#fdca26"
            ],
            [
             1,
             "#f0f921"
            ]
           ]
          },
          "colorway": [
           "#636efa",
           "#EF553B",
           "#00cc96",
           "#ab63fa",
           "#FFA15A",
           "#19d3f3",
           "#FF6692",
           "#B6E880",
           "#FF97FF",
           "#FECB52"
          ],
          "font": {
           "color": "#2a3f5f"
          },
          "geo": {
           "bgcolor": "white",
           "lakecolor": "white",
           "landcolor": "#E5ECF6",
           "showlakes": true,
           "showland": true,
           "subunitcolor": "white"
          },
          "hoverlabel": {
           "align": "left"
          },
          "hovermode": "closest",
          "mapbox": {
           "style": "light"
          },
          "paper_bgcolor": "white",
          "plot_bgcolor": "#E5ECF6",
          "polar": {
           "angularaxis": {
            "gridcolor": "white",
            "linecolor": "white",
            "ticks": ""
           },
           "bgcolor": "#E5ECF6",
           "radialaxis": {
            "gridcolor": "white",
            "linecolor": "white",
            "ticks": ""
           }
          },
          "scene": {
           "xaxis": {
            "backgroundcolor": "#E5ECF6",
            "gridcolor": "white",
            "gridwidth": 2,
            "linecolor": "white",
            "showbackground": true,
            "ticks": "",
            "zerolinecolor": "white"
           },
           "yaxis": {
            "backgroundcolor": "#E5ECF6",
            "gridcolor": "white",
            "gridwidth": 2,
            "linecolor": "white",
            "showbackground": true,
            "ticks": "",
            "zerolinecolor": "white"
           },
           "zaxis": {
            "backgroundcolor": "#E5ECF6",
            "gridcolor": "white",
            "gridwidth": 2,
            "linecolor": "white",
            "showbackground": true,
            "ticks": "",
            "zerolinecolor": "white"
           }
          },
          "shapedefaults": {
           "line": {
            "color": "#2a3f5f"
           }
          },
          "ternary": {
           "aaxis": {
            "gridcolor": "white",
            "linecolor": "white",
            "ticks": ""
           },
           "baxis": {
            "gridcolor": "white",
            "linecolor": "white",
            "ticks": ""
           },
           "bgcolor": "#E5ECF6",
           "caxis": {
            "gridcolor": "white",
            "linecolor": "white",
            "ticks": ""
           }
          },
          "title": {
           "x": 0.05
          },
          "xaxis": {
           "automargin": true,
           "gridcolor": "white",
           "linecolor": "white",
           "ticks": "",
           "title": {
            "standoff": 15
           },
           "zerolinecolor": "white",
           "zerolinewidth": 2
          },
          "yaxis": {
           "automargin": true,
           "gridcolor": "white",
           "linecolor": "white",
           "ticks": "",
           "title": {
            "standoff": 15
           },
           "zerolinecolor": "white",
           "zerolinewidth": 2
          }
         }
        },
        "title": {
         "text": "Station 120"
        },
        "width": 264.56692913385825,
        "xaxis": {
         "anchor": "y",
         "domain": [
          0,
          1
         ],
         "title": {
          "text": "average cell density per L"
         }
        },
        "yaxis": {
         "anchor": "x",
         "categoryarray": [
          "July_2021",
          "June_2021",
          "May_2021",
          "April_2021",
          "February_2021",
          "January_2021",
          "December_2020",
          "November_2020",
          "September_2020",
          "August_2020",
          "July_2020"
         ],
         "categoryorder": "array",
         "domain": [
          0,
          1
         ],
         "title": {
          "text": ""
         }
        }
       }
      }
     },
     "metadata": {},
     "output_type": "display_data"
    },
    {
     "data": {
      "application/vnd.plotly.v1+json": {
       "config": {
        "plotlyServerURL": "https://plot.ly"
       },
       "data": [
        {
         "alignmentgroup": "True",
         "bingroup": "y",
         "histfunc": "sum",
         "hovertemplate": "Taxon_grouped=Rare<br>sum of rel_cell_density_L_per_month=%{x}<br>Year_month=%{y}<extra></extra>",
         "legendgroup": "Rare",
         "marker": {
          "color": "#545454",
          "pattern": {
           "shape": ""
          }
         },
         "name": "Rare",
         "offsetgroup": "Rare",
         "orientation": "h",
         "showlegend": true,
         "type": "histogram",
         "x": [
          0.0034367841138428293,
          0.004241445552597063,
          0.007806271680832393,
          0.013718114545495158,
          0.019051548482211408,
          0.011349076061998505,
          0.011349076061998505,
          0.015806209625807872
         ],
         "xaxis": "x",
         "y": [
          "July_2021",
          "June_2021",
          "May_2021",
          "April_2021",
          "November_2020",
          "September_2020",
          "September_2020",
          "August_2020"
         ],
         "yaxis": "y"
        },
        {
         "alignmentgroup": "True",
         "bingroup": "y",
         "histfunc": "sum",
         "hovertemplate": "Taxon_grouped=Bacillariophyta<br>sum of rel_cell_density_L_per_month=%{x}<br>Year_month=%{y}<extra></extra>",
         "legendgroup": "Bacillariophyta",
         "marker": {
          "color": "#E69F00",
          "pattern": {
           "shape": ""
          }
         },
         "name": "Bacillariophyta",
         "offsetgroup": "Bacillariophyta",
         "orientation": "h",
         "showlegend": true,
         "type": "histogram",
         "x": [
          0.3996014898853037,
          0.9687439598053837,
          0.3439312689826936,
          0.7864284883044197,
          0.643744395404012,
          0.6249944370369154,
          0.5790291154338648,
          0.6986691207385083,
          0.6519336581902562,
          0.47538502908329866
         ],
         "xaxis": "x",
         "y": [
          "July_2021",
          "June_2021",
          "May_2021",
          "April_2021",
          "February_2021",
          "January_2021",
          "December_2020",
          "November_2020",
          "September_2020",
          "August_2020"
         ],
         "yaxis": "y"
        },
        {
         "alignmentgroup": "True",
         "bingroup": "y",
         "histfunc": "sum",
         "hovertemplate": "Taxon_grouped=Dinophyceae<br>sum of rel_cell_density_L_per_month=%{x}<br>Year_month=%{y}<extra></extra>",
         "legendgroup": "Dinophyceae",
         "marker": {
          "color": "#56B4E9",
          "pattern": {
           "shape": ""
          }
         },
         "name": "Dinophyceae",
         "offsetgroup": "Dinophyceae",
         "orientation": "h",
         "showlegend": true,
         "type": "histogram",
         "x": [
          0.31403995657370787,
          0.027014594642019232,
          0.02644909365328997,
          0.020908618383279502,
          0.03236559983618026,
          0.025396168931694586,
          0.05503941481352891,
          0.3496657915836461
         ],
         "xaxis": "x",
         "y": [
          "July_2021",
          "June_2021",
          "May_2021",
          "February_2021",
          "December_2020",
          "November_2020",
          "September_2020",
          "August_2020"
         ],
         "yaxis": "y"
        },
        {
         "alignmentgroup": "True",
         "bingroup": "y",
         "histfunc": "sum",
         "hovertemplate": "Taxon_grouped=Prymnesiophyceae<br>sum of rel_cell_density_L_per_month=%{x}<br>Year_month=%{y}<extra></extra>",
         "legendgroup": "Prymnesiophyceae",
         "marker": {
          "color": "#009E73",
          "pattern": {
           "shape": ""
          }
         },
         "name": "Prymnesiophyceae",
         "offsetgroup": "Prymnesiophyceae",
         "orientation": "h",
         "showlegend": true,
         "type": "histogram",
         "x": [
          0.2829217694271457,
          0.49734029113866174,
          0.1413195168716448,
          0.12581096866439076,
          0.043128184466951776,
          0.038085411883215216
         ],
         "xaxis": "x",
         "y": [
          "July_2021",
          "May_2021",
          "April_2021",
          "February_2021",
          "January_2021",
          "November_2020"
         ],
         "yaxis": "y"
        },
        {
         "alignmentgroup": "True",
         "bingroup": "y",
         "histfunc": "sum",
         "hovertemplate": "Taxon_grouped=Ciliates<br>sum of rel_cell_density_L_per_month=%{x}<br>Year_month=%{y}<extra></extra>",
         "legendgroup": "Ciliates",
         "marker": {
          "color": "#F0E442",
          "pattern": {
           "shape": ""
          }
         },
         "name": "Ciliates",
         "offsetgroup": "Ciliates",
         "orientation": "h",
         "showlegend": true,
         "type": "histogram",
         "x": [
          0.05830438720721357,
          0.02093937755494288,
          0.03779251708099284,
          0.05121870646340493
         ],
         "xaxis": "x",
         "y": [
          "May_2021",
          "February_2021",
          "September_2020",
          "August_2020"
         ],
         "yaxis": "y"
        },
        {
         "alignmentgroup": "True",
         "bingroup": "y",
         "histfunc": "sum",
         "hovertemplate": "Taxon_grouped=Arthropoda<br>sum of rel_cell_density_L_per_month=%{x}<br>Year_month=%{y}<extra></extra>",
         "legendgroup": "Arthropoda",
         "marker": {
          "color": "#0072B2",
          "pattern": {
           "shape": ""
          }
         },
         "name": "Arthropoda",
         "offsetgroup": "Arthropoda",
         "orientation": "h",
         "showlegend": true,
         "type": "histogram",
         "x": [
          0.06616868733730875,
          0.058533880278440274,
          0.12548116596298198,
          0.20160701214101273,
          0.35607088405199105,
          0.21879774996437054,
          0.23253625779122514,
          0.10792426324384245
         ],
         "xaxis": "x",
         "y": [
          "May_2021",
          "April_2021",
          "February_2021",
          "January_2021",
          "December_2020",
          "November_2020",
          "September_2020",
          "August_2020"
         ],
         "yaxis": "y"
        },
        {
         "alignmentgroup": "True",
         "bingroup": "y",
         "histfunc": "sum",
         "hovertemplate": "Taxon_grouped=Mollusca<br>sum of rel_cell_density_L_per_month=%{x}<br>Year_month=%{y}<extra></extra>",
         "legendgroup": "Mollusca",
         "marker": {
          "color": "#89CE00",
          "pattern": {
           "shape": ""
          }
         },
         "name": "Mollusca",
         "offsetgroup": "Mollusca",
         "orientation": "h",
         "showlegend": true,
         "type": "histogram",
         "x": [
          0.021088312129311858,
          0.04342345545170667
         ],
         "xaxis": "x",
         "y": [
          "February_2021",
          "January_2021"
         ],
         "yaxis": "y"
        },
        {
         "alignmentgroup": "True",
         "bingroup": "y",
         "histfunc": "sum",
         "hovertemplate": "Taxon_grouped=Porifera spicule<br>sum of rel_cell_density_L_per_month=%{x}<br>Year_month=%{y}<extra></extra>",
         "legendgroup": "Porifera spicule",
         "marker": {
          "color": "#FFA15A",
          "pattern": {
           "shape": ""
          }
         },
         "name": "Porifera spicule",
         "offsetgroup": "Porifera spicule",
         "orientation": "h",
         "showlegend": true,
         "type": "histogram",
         "x": [
          0.04202716190108114,
          0.04342345545170667
         ],
         "xaxis": "x",
         "y": [
          "February_2021",
          "January_2021"
         ],
         "yaxis": "y"
        },
        {
         "alignmentgroup": "True",
         "bingroup": "y",
         "histfunc": "sum",
         "hovertemplate": "Taxon_grouped=Cnidaria<br>sum of rel_cell_density_L_per_month=%{x}<br>Year_month=%{y}<extra></extra>",
         "legendgroup": "Cnidaria",
         "marker": {
          "color": "#A42324",
          "pattern": {
           "shape": ""
          }
         },
         "name": "Cnidaria",
         "offsetgroup": "Cnidaria",
         "orientation": "h",
         "showlegend": true,
         "type": "histogram",
         "x": [
          0.04342345545170667
         ],
         "xaxis": "x",
         "y": [
          "January_2021"
         ],
         "yaxis": "y"
        },
        {
         "alignmentgroup": "True",
         "bingroup": "y",
         "histfunc": "sum",
         "hovertemplate": "Taxon_grouped=Appendicularia<br>sum of rel_cell_density_L_per_month=%{x}<br>Year_month=%{y}<extra></extra>",
         "legendgroup": "Appendicularia",
         "marker": {
          "color": "#FF0000",
          "pattern": {
           "shape": ""
          }
         },
         "name": "Appendicularia",
         "offsetgroup": "Appendicularia",
         "orientation": "h",
         "showlegend": true,
         "type": "histogram",
         "x": [
          0.03253440067796385
         ],
         "xaxis": "x",
         "y": [
          "December_2020"
         ],
         "yaxis": "y"
        }
       ],
       "layout": {
        "autosize": false,
        "barmode": "relative",
        "font": {
         "color": "#7f7f7f",
         "family": "Times New Roman, serif",
         "size": 12
        },
        "height": 226.77165354330708,
        "legend": {
         "title": {
          "text": "Taxon_grouped"
         },
         "tracegroupgap": 0
        },
        "margin": {
         "b": 25,
         "l": 0,
         "r": 25,
         "t": 25
        },
        "showlegend": false,
        "template": {
         "data": {
          "bar": [
           {
            "error_x": {
             "color": "#2a3f5f"
            },
            "error_y": {
             "color": "#2a3f5f"
            },
            "marker": {
             "line": {
              "color": "#E5ECF6",
              "width": 0.5
             },
             "pattern": {
              "fillmode": "overlay",
              "size": 10,
              "solidity": 0.2
             }
            },
            "type": "bar"
           }
          ],
          "barpolar": [
           {
            "marker": {
             "line": {
              "color": "#E5ECF6",
              "width": 0.5
             },
             "pattern": {
              "fillmode": "overlay",
              "size": 10,
              "solidity": 0.2
             }
            },
            "type": "barpolar"
           }
          ],
          "carpet": [
           {
            "aaxis": {
             "endlinecolor": "#2a3f5f",
             "gridcolor": "white",
             "linecolor": "white",
             "minorgridcolor": "white",
             "startlinecolor": "#2a3f5f"
            },
            "baxis": {
             "endlinecolor": "#2a3f5f",
             "gridcolor": "white",
             "linecolor": "white",
             "minorgridcolor": "white",
             "startlinecolor": "#2a3f5f"
            },
            "type": "carpet"
           }
          ],
          "choropleth": [
           {
            "colorbar": {
             "outlinewidth": 0,
             "ticks": ""
            },
            "type": "choropleth"
           }
          ],
          "contour": [
           {
            "colorbar": {
             "outlinewidth": 0,
             "ticks": ""
            },
            "colorscale": [
             [
              0,
              "#0d0887"
             ],
             [
              0.1111111111111111,
              "#46039f"
             ],
             [
              0.2222222222222222,
              "#7201a8"
             ],
             [
              0.3333333333333333,
              "#9c179e"
             ],
             [
              0.4444444444444444,
              "#bd3786"
             ],
             [
              0.5555555555555556,
              "#d8576b"
             ],
             [
              0.6666666666666666,
              "#ed7953"
             ],
             [
              0.7777777777777778,
              "#fb9f3a"
             ],
             [
              0.8888888888888888,
              "#fdca26"
             ],
             [
              1,
              "#f0f921"
             ]
            ],
            "type": "contour"
           }
          ],
          "contourcarpet": [
           {
            "colorbar": {
             "outlinewidth": 0,
             "ticks": ""
            },
            "type": "contourcarpet"
           }
          ],
          "heatmap": [
           {
            "colorbar": {
             "outlinewidth": 0,
             "ticks": ""
            },
            "colorscale": [
             [
              0,
              "#0d0887"
             ],
             [
              0.1111111111111111,
              "#46039f"
             ],
             [
              0.2222222222222222,
              "#7201a8"
             ],
             [
              0.3333333333333333,
              "#9c179e"
             ],
             [
              0.4444444444444444,
              "#bd3786"
             ],
             [
              0.5555555555555556,
              "#d8576b"
             ],
             [
              0.6666666666666666,
              "#ed7953"
             ],
             [
              0.7777777777777778,
              "#fb9f3a"
             ],
             [
              0.8888888888888888,
              "#fdca26"
             ],
             [
              1,
              "#f0f921"
             ]
            ],
            "type": "heatmap"
           }
          ],
          "heatmapgl": [
           {
            "colorbar": {
             "outlinewidth": 0,
             "ticks": ""
            },
            "colorscale": [
             [
              0,
              "#0d0887"
             ],
             [
              0.1111111111111111,
              "#46039f"
             ],
             [
              0.2222222222222222,
              "#7201a8"
             ],
             [
              0.3333333333333333,
              "#9c179e"
             ],
             [
              0.4444444444444444,
              "#bd3786"
             ],
             [
              0.5555555555555556,
              "#d8576b"
             ],
             [
              0.6666666666666666,
              "#ed7953"
             ],
             [
              0.7777777777777778,
              "#fb9f3a"
             ],
             [
              0.8888888888888888,
              "#fdca26"
             ],
             [
              1,
              "#f0f921"
             ]
            ],
            "type": "heatmapgl"
           }
          ],
          "histogram": [
           {
            "marker": {
             "pattern": {
              "fillmode": "overlay",
              "size": 10,
              "solidity": 0.2
             }
            },
            "type": "histogram"
           }
          ],
          "histogram2d": [
           {
            "colorbar": {
             "outlinewidth": 0,
             "ticks": ""
            },
            "colorscale": [
             [
              0,
              "#0d0887"
             ],
             [
              0.1111111111111111,
              "#46039f"
             ],
             [
              0.2222222222222222,
              "#7201a8"
             ],
             [
              0.3333333333333333,
              "#9c179e"
             ],
             [
              0.4444444444444444,
              "#bd3786"
             ],
             [
              0.5555555555555556,
              "#d8576b"
             ],
             [
              0.6666666666666666,
              "#ed7953"
             ],
             [
              0.7777777777777778,
              "#fb9f3a"
             ],
             [
              0.8888888888888888,
              "#fdca26"
             ],
             [
              1,
              "#f0f921"
             ]
            ],
            "type": "histogram2d"
           }
          ],
          "histogram2dcontour": [
           {
            "colorbar": {
             "outlinewidth": 0,
             "ticks": ""
            },
            "colorscale": [
             [
              0,
              "#0d0887"
             ],
             [
              0.1111111111111111,
              "#46039f"
             ],
             [
              0.2222222222222222,
              "#7201a8"
             ],
             [
              0.3333333333333333,
              "#9c179e"
             ],
             [
              0.4444444444444444,
              "#bd3786"
             ],
             [
              0.5555555555555556,
              "#d8576b"
             ],
             [
              0.6666666666666666,
              "#ed7953"
             ],
             [
              0.7777777777777778,
              "#fb9f3a"
             ],
             [
              0.8888888888888888,
              "#fdca26"
             ],
             [
              1,
              "#f0f921"
             ]
            ],
            "type": "histogram2dcontour"
           }
          ],
          "mesh3d": [
           {
            "colorbar": {
             "outlinewidth": 0,
             "ticks": ""
            },
            "type": "mesh3d"
           }
          ],
          "parcoords": [
           {
            "line": {
             "colorbar": {
              "outlinewidth": 0,
              "ticks": ""
             }
            },
            "type": "parcoords"
           }
          ],
          "pie": [
           {
            "automargin": true,
            "type": "pie"
           }
          ],
          "scatter": [
           {
            "marker": {
             "colorbar": {
              "outlinewidth": 0,
              "ticks": ""
             }
            },
            "type": "scatter"
           }
          ],
          "scatter3d": [
           {
            "line": {
             "colorbar": {
              "outlinewidth": 0,
              "ticks": ""
             }
            },
            "marker": {
             "colorbar": {
              "outlinewidth": 0,
              "ticks": ""
             }
            },
            "type": "scatter3d"
           }
          ],
          "scattercarpet": [
           {
            "marker": {
             "colorbar": {
              "outlinewidth": 0,
              "ticks": ""
             }
            },
            "type": "scattercarpet"
           }
          ],
          "scattergeo": [
           {
            "marker": {
             "colorbar": {
              "outlinewidth": 0,
              "ticks": ""
             }
            },
            "type": "scattergeo"
           }
          ],
          "scattergl": [
           {
            "marker": {
             "colorbar": {
              "outlinewidth": 0,
              "ticks": ""
             }
            },
            "type": "scattergl"
           }
          ],
          "scattermapbox": [
           {
            "marker": {
             "colorbar": {
              "outlinewidth": 0,
              "ticks": ""
             }
            },
            "type": "scattermapbox"
           }
          ],
          "scatterpolar": [
           {
            "marker": {
             "colorbar": {
              "outlinewidth": 0,
              "ticks": ""
             }
            },
            "type": "scatterpolar"
           }
          ],
          "scatterpolargl": [
           {
            "marker": {
             "colorbar": {
              "outlinewidth": 0,
              "ticks": ""
             }
            },
            "type": "scatterpolargl"
           }
          ],
          "scatterternary": [
           {
            "marker": {
             "colorbar": {
              "outlinewidth": 0,
              "ticks": ""
             }
            },
            "type": "scatterternary"
           }
          ],
          "surface": [
           {
            "colorbar": {
             "outlinewidth": 0,
             "ticks": ""
            },
            "colorscale": [
             [
              0,
              "#0d0887"
             ],
             [
              0.1111111111111111,
              "#46039f"
             ],
             [
              0.2222222222222222,
              "#7201a8"
             ],
             [
              0.3333333333333333,
              "#9c179e"
             ],
             [
              0.4444444444444444,
              "#bd3786"
             ],
             [
              0.5555555555555556,
              "#d8576b"
             ],
             [
              0.6666666666666666,
              "#ed7953"
             ],
             [
              0.7777777777777778,
              "#fb9f3a"
             ],
             [
              0.8888888888888888,
              "#fdca26"
             ],
             [
              1,
              "#f0f921"
             ]
            ],
            "type": "surface"
           }
          ],
          "table": [
           {
            "cells": {
             "fill": {
              "color": "#EBF0F8"
             },
             "line": {
              "color": "white"
             }
            },
            "header": {
             "fill": {
              "color": "#C8D4E3"
             },
             "line": {
              "color": "white"
             }
            },
            "type": "table"
           }
          ]
         },
         "layout": {
          "annotationdefaults": {
           "arrowcolor": "#2a3f5f",
           "arrowhead": 0,
           "arrowwidth": 1
          },
          "autotypenumbers": "strict",
          "coloraxis": {
           "colorbar": {
            "outlinewidth": 0,
            "ticks": ""
           }
          },
          "colorscale": {
           "diverging": [
            [
             0,
             "#8e0152"
            ],
            [
             0.1,
             "#c51b7d"
            ],
            [
             0.2,
             "#de77ae"
            ],
            [
             0.3,
             "#f1b6da"
            ],
            [
             0.4,
             "#fde0ef"
            ],
            [
             0.5,
             "#f7f7f7"
            ],
            [
             0.6,
             "#e6f5d0"
            ],
            [
             0.7,
             "#b8e186"
            ],
            [
             0.8,
             "#7fbc41"
            ],
            [
             0.9,
             "#4d9221"
            ],
            [
             1,
             "#276419"
            ]
           ],
           "sequential": [
            [
             0,
             "#0d0887"
            ],
            [
             0.1111111111111111,
             "#46039f"
            ],
            [
             0.2222222222222222,
             "#7201a8"
            ],
            [
             0.3333333333333333,
             "#9c179e"
            ],
            [
             0.4444444444444444,
             "#bd3786"
            ],
            [
             0.5555555555555556,
             "#d8576b"
            ],
            [
             0.6666666666666666,
             "#ed7953"
            ],
            [
             0.7777777777777778,
             "#fb9f3a"
            ],
            [
             0.8888888888888888,
             "#fdca26"
            ],
            [
             1,
             "#f0f921"
            ]
           ],
           "sequentialminus": [
            [
             0,
             "#0d0887"
            ],
            [
             0.1111111111111111,
             "#46039f"
            ],
            [
             0.2222222222222222,
             "#7201a8"
            ],
            [
             0.3333333333333333,
             "#9c179e"
            ],
            [
             0.4444444444444444,
             "#bd3786"
            ],
            [
             0.5555555555555556,
             "#d8576b"
            ],
            [
             0.6666666666666666,
             "#ed7953"
            ],
            [
             0.7777777777777778,
             "#fb9f3a"
            ],
            [
             0.8888888888888888,
             "#fdca26"
            ],
            [
             1,
             "#f0f921"
            ]
           ]
          },
          "colorway": [
           "#636efa",
           "#EF553B",
           "#00cc96",
           "#ab63fa",
           "#FFA15A",
           "#19d3f3",
           "#FF6692",
           "#B6E880",
           "#FF97FF",
           "#FECB52"
          ],
          "font": {
           "color": "#2a3f5f"
          },
          "geo": {
           "bgcolor": "white",
           "lakecolor": "white",
           "landcolor": "#E5ECF6",
           "showlakes": true,
           "showland": true,
           "subunitcolor": "white"
          },
          "hoverlabel": {
           "align": "left"
          },
          "hovermode": "closest",
          "mapbox": {
           "style": "light"
          },
          "paper_bgcolor": "white",
          "plot_bgcolor": "#E5ECF6",
          "polar": {
           "angularaxis": {
            "gridcolor": "white",
            "linecolor": "white",
            "ticks": ""
           },
           "bgcolor": "#E5ECF6",
           "radialaxis": {
            "gridcolor": "white",
            "linecolor": "white",
            "ticks": ""
           }
          },
          "scene": {
           "xaxis": {
            "backgroundcolor": "#E5ECF6",
            "gridcolor": "white",
            "gridwidth": 2,
            "linecolor": "white",
            "showbackground": true,
            "ticks": "",
            "zerolinecolor": "white"
           },
           "yaxis": {
            "backgroundcolor": "#E5ECF6",
            "gridcolor": "white",
            "gridwidth": 2,
            "linecolor": "white",
            "showbackground": true,
            "ticks": "",
            "zerolinecolor": "white"
           },
           "zaxis": {
            "backgroundcolor": "#E5ECF6",
            "gridcolor": "white",
            "gridwidth": 2,
            "linecolor": "white",
            "showbackground": true,
            "ticks": "",
            "zerolinecolor": "white"
           }
          },
          "shapedefaults": {
           "line": {
            "color": "#2a3f5f"
           }
          },
          "ternary": {
           "aaxis": {
            "gridcolor": "white",
            "linecolor": "white",
            "ticks": ""
           },
           "baxis": {
            "gridcolor": "white",
            "linecolor": "white",
            "ticks": ""
           },
           "bgcolor": "#E5ECF6",
           "caxis": {
            "gridcolor": "white",
            "linecolor": "white",
            "ticks": ""
           }
          },
          "title": {
           "x": 0.05
          },
          "xaxis": {
           "automargin": true,
           "gridcolor": "white",
           "linecolor": "white",
           "ticks": "",
           "title": {
            "standoff": 15
           },
           "zerolinecolor": "white",
           "zerolinewidth": 2
          },
          "yaxis": {
           "automargin": true,
           "gridcolor": "white",
           "linecolor": "white",
           "ticks": "",
           "title": {
            "standoff": 15
           },
           "zerolinecolor": "white",
           "zerolinewidth": 2
          }
         }
        },
        "title": {
         "text": "Station 330"
        },
        "width": 264.56692913385825,
        "xaxis": {
         "anchor": "y",
         "domain": [
          0,
          1
         ],
         "title": {
          "text": "average cell density per L"
         }
        },
        "yaxis": {
         "anchor": "x",
         "categoryarray": [
          "July_2021",
          "June_2021",
          "May_2021",
          "April_2021",
          "February_2021",
          "January_2021",
          "December_2020",
          "November_2020",
          "September_2020",
          "August_2020",
          "July_2020"
         ],
         "categoryorder": "array",
         "domain": [
          0,
          1
         ],
         "title": {
          "text": ""
         }
        }
       }
      }
     },
     "metadata": {},
     "output_type": "display_data"
    },
    {
     "data": {
      "application/vnd.plotly.v1+json": {
       "config": {
        "plotlyServerURL": "https://plot.ly"
       },
       "data": [
        {
         "alignmentgroup": "True",
         "bingroup": "y",
         "histfunc": "sum",
         "hovertemplate": "Taxon_grouped=Rare<br>sum of rel_cell_density_L_per_month=%{x}<br>Year_month=%{y}<extra></extra>",
         "legendgroup": "Rare",
         "marker": {
          "color": "#545454",
          "pattern": {
           "shape": ""
          }
         },
         "name": "Rare",
         "offsetgroup": "Rare",
         "orientation": "h",
         "showlegend": true,
         "type": "histogram",
         "x": [
          0.017010882617849197,
          0.008870098550588602,
          0.00540254254712021,
          0.01073253252363785,
          0.014863331121347653,
          0.005330473893675332,
          0.01834208434653988,
          0.00518619016213519,
          0.00518619016213519,
          0.00518619016213519,
          0.018922113486407627,
          0.007258568830242276,
          0.01814563880296808
         ],
         "xaxis": "x",
         "y": [
          "July_2021",
          "June_2021",
          "April_2021",
          "April_2021",
          "April_2021",
          "April_2021",
          "September_2020",
          "August_2020",
          "August_2020",
          "August_2020",
          "August_2020",
          "July_2020",
          "July_2020"
         ],
         "yaxis": "y"
        },
        {
         "alignmentgroup": "True",
         "bingroup": "y",
         "histfunc": "sum",
         "hovertemplate": "Taxon_grouped=Bacillariophyta<br>sum of rel_cell_density_L_per_month=%{x}<br>Year_month=%{y}<extra></extra>",
         "legendgroup": "Bacillariophyta",
         "marker": {
          "color": "#E69F00",
          "pattern": {
           "shape": ""
          }
         },
         "name": "Bacillariophyta",
         "offsetgroup": "Bacillariophyta",
         "orientation": "h",
         "showlegend": true,
         "type": "histogram",
         "x": [
          0.17539454487136188,
          0.03611307003367756,
          0.9520973003392401,
          0.7926108524400215,
          0.7427230535674174,
          0.5066387319193438,
          0.6938524452294986,
          0.6070670101358489,
          0.6346345480896858,
          0.8388625184903526
         ],
         "xaxis": "x",
         "y": [
          "July_2021",
          "June_2021",
          "May_2021",
          "April_2021",
          "February_2021",
          "January_2021",
          "December_2020",
          "September_2020",
          "August_2020",
          "July_2020"
         ],
         "yaxis": "y"
        },
        {
         "alignmentgroup": "True",
         "bingroup": "y",
         "histfunc": "sum",
         "hovertemplate": "Taxon_grouped=Dinophyceae<br>sum of rel_cell_density_L_per_month=%{x}<br>Year_month=%{y}<extra></extra>",
         "legendgroup": "Dinophyceae",
         "marker": {
          "color": "#56B4E9",
          "pattern": {
           "shape": ""
          }
         },
         "name": "Dinophyceae",
         "offsetgroup": "Dinophyceae",
         "orientation": "h",
         "showlegend": true,
         "type": "histogram",
         "x": [
          0.705584262803089,
          0.7510008726306915,
          0.02395424817615673,
          0.037413684713663076,
          0.0896611421172304,
          0.07617592611812715,
          0.053136461016938114,
          0.026783178532752788
         ],
         "xaxis": "x",
         "y": [
          "July_2021",
          "June_2021",
          "May_2021",
          "February_2021",
          "January_2021",
          "December_2020",
          "September_2020",
          "July_2020"
         ],
         "yaxis": "y"
        },
        {
         "alignmentgroup": "True",
         "bingroup": "y",
         "histfunc": "sum",
         "hovertemplate": "Taxon_grouped=Prymnesiophyceae<br>sum of rel_cell_density_L_per_month=%{x}<br>Year_month=%{y}<extra></extra>",
         "legendgroup": "Prymnesiophyceae",
         "marker": {
          "color": "#009E73",
          "pattern": {
           "shape": ""
          }
         },
         "name": "Prymnesiophyceae",
         "offsetgroup": "Prymnesiophyceae",
         "orientation": "h",
         "showlegend": true,
         "type": "histogram",
         "x": [
          0.14192313883868168,
          0.17106026747419747
         ],
         "xaxis": "x",
         "y": [
          "June_2021",
          "April_2021"
         ],
         "yaxis": "y"
        },
        {
         "alignmentgroup": "True",
         "bingroup": "y",
         "histfunc": "sum",
         "hovertemplate": "Taxon_grouped=Ciliates<br>sum of rel_cell_density_L_per_month=%{x}<br>Year_month=%{y}<extra></extra>",
         "legendgroup": "Ciliates",
         "marker": {
          "color": "#F0E442",
          "pattern": {
           "shape": ""
          }
         },
         "name": "Ciliates",
         "offsetgroup": "Ciliates",
         "orientation": "h",
         "showlegend": true,
         "type": "histogram",
         "x": [
          0.03401060189928658,
          0.03548181427016324,
          0.04490531346502525,
          0.038087963059063576,
          0.06778393881718335,
          0.03001111922930423,
          0.06004174463198541
         ],
         "xaxis": "x",
         "y": [
          "July_2021",
          "June_2021",
          "January_2021",
          "December_2020",
          "September_2020",
          "August_2020",
          "July_2020"
         ],
         "yaxis": "y"
        },
        {
         "alignmentgroup": "True",
         "bingroup": "y",
         "histfunc": "sum",
         "hovertemplate": "Taxon_grouped=Arthropoda<br>sum of rel_cell_density_L_per_month=%{x}<br>Year_month=%{y}<extra></extra>",
         "legendgroup": "Arthropoda",
         "marker": {
          "color": "#0072B2",
          "pattern": {
           "shape": ""
          }
         },
         "name": "Arthropoda",
         "offsetgroup": "Arthropoda",
         "orientation": "h",
         "showlegend": true,
         "type": "histogram",
         "x": [
          0.06799970780841331,
          0.026611005676197463,
          0.02394845148460311,
          0.07252692458532334,
          0.29901678414329547,
          0.15346078862433568,
          0.25367050568348987,
          0.30087364870819683,
          0.04890835071169881
         ],
         "xaxis": "x",
         "y": [
          "July_2021",
          "June_2021",
          "May_2021",
          "February_2021",
          "January_2021",
          "December_2020",
          "September_2020",
          "August_2020",
          "July_2020"
         ],
         "yaxis": "y"
        },
        {
         "alignmentgroup": "True",
         "bingroup": "y",
         "histfunc": "sum",
         "hovertemplate": "Taxon_grouped=Nematoda<br>sum of rel_cell_density_L_per_month=%{x}<br>Year_month=%{y}<extra></extra>",
         "legendgroup": "Nematoda",
         "marker": {
          "color": "#FFA15A",
          "pattern": {
           "shape": ""
          }
         },
         "name": "Nematoda",
         "offsetgroup": "Nematoda",
         "orientation": "h",
         "showlegend": true,
         "type": "histogram",
         "x": [
          0.037413684713663076
         ],
         "xaxis": "x",
         "y": [
          "February_2021"
         ],
         "yaxis": "y"
        },
        {
         "alignmentgroup": "True",
         "bingroup": "y",
         "histfunc": "sum",
         "hovertemplate": "Taxon_grouped=Cnidaria<br>sum of rel_cell_density_L_per_month=%{x}<br>Year_month=%{y}<extra></extra>",
         "legendgroup": "Cnidaria",
         "marker": {
          "color": "#A42324",
          "pattern": {
           "shape": ""
          }
         },
         "name": "Cnidaria",
         "offsetgroup": "Cnidaria",
         "orientation": "h",
         "showlegend": true,
         "type": "histogram",
         "x": [
          0.03626346229266174,
          0.02974402308151057
         ],
         "xaxis": "x",
         "y": [
          "February_2021",
          "January_2021"
         ],
         "yaxis": "y"
        },
        {
         "alignmentgroup": "True",
         "bingroup": "y",
         "histfunc": "sum",
         "hovertemplate": "Taxon_grouped=Porifera spicule<br>sum of rel_cell_density_L_per_month=%{x}<br>Year_month=%{y}<extra></extra>",
         "legendgroup": "Porifera spicule",
         "marker": {
          "color": "#19d3f3",
          "pattern": {
           "shape": ""
          }
         },
         "name": "Porifera spicule",
         "offsetgroup": "Porifera spicule",
         "orientation": "h",
         "showlegend": true,
         "type": "histogram",
         "x": [
          0.07365919012727135,
          0.038422876968974985
         ],
         "xaxis": "x",
         "y": [
          "February_2021",
          "December_2020"
         ],
         "yaxis": "y"
        },
        {
         "alignmentgroup": "True",
         "bingroup": "y",
         "histfunc": "sum",
         "hovertemplate": "Taxon_grouped=Mollusca<br>sum of rel_cell_density_L_per_month=%{x}<br>Year_month=%{y}<extra></extra>",
         "legendgroup": "Mollusca",
         "marker": {
          "color": "#89CE00",
          "pattern": {
           "shape": ""
          }
         },
         "name": "Mollusca",
         "offsetgroup": "Mollusca",
         "orientation": "h",
         "showlegend": true,
         "type": "histogram",
         "x": [
          0.030034005273594587
         ],
         "xaxis": "x",
         "y": [
          "January_2021"
         ],
         "yaxis": "y"
        }
       ],
       "layout": {
        "autosize": false,
        "barmode": "relative",
        "font": {
         "color": "#7f7f7f",
         "family": "Times New Roman, serif",
         "size": 12
        },
        "height": 226.77165354330708,
        "legend": {
         "title": {
          "text": "Taxon_grouped"
         },
         "tracegroupgap": 0
        },
        "margin": {
         "b": 25,
         "l": 0,
         "r": 25,
         "t": 25
        },
        "showlegend": false,
        "template": {
         "data": {
          "bar": [
           {
            "error_x": {
             "color": "#2a3f5f"
            },
            "error_y": {
             "color": "#2a3f5f"
            },
            "marker": {
             "line": {
              "color": "#E5ECF6",
              "width": 0.5
             },
             "pattern": {
              "fillmode": "overlay",
              "size": 10,
              "solidity": 0.2
             }
            },
            "type": "bar"
           }
          ],
          "barpolar": [
           {
            "marker": {
             "line": {
              "color": "#E5ECF6",
              "width": 0.5
             },
             "pattern": {
              "fillmode": "overlay",
              "size": 10,
              "solidity": 0.2
             }
            },
            "type": "barpolar"
           }
          ],
          "carpet": [
           {
            "aaxis": {
             "endlinecolor": "#2a3f5f",
             "gridcolor": "white",
             "linecolor": "white",
             "minorgridcolor": "white",
             "startlinecolor": "#2a3f5f"
            },
            "baxis": {
             "endlinecolor": "#2a3f5f",
             "gridcolor": "white",
             "linecolor": "white",
             "minorgridcolor": "white",
             "startlinecolor": "#2a3f5f"
            },
            "type": "carpet"
           }
          ],
          "choropleth": [
           {
            "colorbar": {
             "outlinewidth": 0,
             "ticks": ""
            },
            "type": "choropleth"
           }
          ],
          "contour": [
           {
            "colorbar": {
             "outlinewidth": 0,
             "ticks": ""
            },
            "colorscale": [
             [
              0,
              "#0d0887"
             ],
             [
              0.1111111111111111,
              "#46039f"
             ],
             [
              0.2222222222222222,
              "#7201a8"
             ],
             [
              0.3333333333333333,
              "#9c179e"
             ],
             [
              0.4444444444444444,
              "#bd3786"
             ],
             [
              0.5555555555555556,
              "#d8576b"
             ],
             [
              0.6666666666666666,
              "#ed7953"
             ],
             [
              0.7777777777777778,
              "#fb9f3a"
             ],
             [
              0.8888888888888888,
              "#fdca26"
             ],
             [
              1,
              "#f0f921"
             ]
            ],
            "type": "contour"
           }
          ],
          "contourcarpet": [
           {
            "colorbar": {
             "outlinewidth": 0,
             "ticks": ""
            },
            "type": "contourcarpet"
           }
          ],
          "heatmap": [
           {
            "colorbar": {
             "outlinewidth": 0,
             "ticks": ""
            },
            "colorscale": [
             [
              0,
              "#0d0887"
             ],
             [
              0.1111111111111111,
              "#46039f"
             ],
             [
              0.2222222222222222,
              "#7201a8"
             ],
             [
              0.3333333333333333,
              "#9c179e"
             ],
             [
              0.4444444444444444,
              "#bd3786"
             ],
             [
              0.5555555555555556,
              "#d8576b"
             ],
             [
              0.6666666666666666,
              "#ed7953"
             ],
             [
              0.7777777777777778,
              "#fb9f3a"
             ],
             [
              0.8888888888888888,
              "#fdca26"
             ],
             [
              1,
              "#f0f921"
             ]
            ],
            "type": "heatmap"
           }
          ],
          "heatmapgl": [
           {
            "colorbar": {
             "outlinewidth": 0,
             "ticks": ""
            },
            "colorscale": [
             [
              0,
              "#0d0887"
             ],
             [
              0.1111111111111111,
              "#46039f"
             ],
             [
              0.2222222222222222,
              "#7201a8"
             ],
             [
              0.3333333333333333,
              "#9c179e"
             ],
             [
              0.4444444444444444,
              "#bd3786"
             ],
             [
              0.5555555555555556,
              "#d8576b"
             ],
             [
              0.6666666666666666,
              "#ed7953"
             ],
             [
              0.7777777777777778,
              "#fb9f3a"
             ],
             [
              0.8888888888888888,
              "#fdca26"
             ],
             [
              1,
              "#f0f921"
             ]
            ],
            "type": "heatmapgl"
           }
          ],
          "histogram": [
           {
            "marker": {
             "pattern": {
              "fillmode": "overlay",
              "size": 10,
              "solidity": 0.2
             }
            },
            "type": "histogram"
           }
          ],
          "histogram2d": [
           {
            "colorbar": {
             "outlinewidth": 0,
             "ticks": ""
            },
            "colorscale": [
             [
              0,
              "#0d0887"
             ],
             [
              0.1111111111111111,
              "#46039f"
             ],
             [
              0.2222222222222222,
              "#7201a8"
             ],
             [
              0.3333333333333333,
              "#9c179e"
             ],
             [
              0.4444444444444444,
              "#bd3786"
             ],
             [
              0.5555555555555556,
              "#d8576b"
             ],
             [
              0.6666666666666666,
              "#ed7953"
             ],
             [
              0.7777777777777778,
              "#fb9f3a"
             ],
             [
              0.8888888888888888,
              "#fdca26"
             ],
             [
              1,
              "#f0f921"
             ]
            ],
            "type": "histogram2d"
           }
          ],
          "histogram2dcontour": [
           {
            "colorbar": {
             "outlinewidth": 0,
             "ticks": ""
            },
            "colorscale": [
             [
              0,
              "#0d0887"
             ],
             [
              0.1111111111111111,
              "#46039f"
             ],
             [
              0.2222222222222222,
              "#7201a8"
             ],
             [
              0.3333333333333333,
              "#9c179e"
             ],
             [
              0.4444444444444444,
              "#bd3786"
             ],
             [
              0.5555555555555556,
              "#d8576b"
             ],
             [
              0.6666666666666666,
              "#ed7953"
             ],
             [
              0.7777777777777778,
              "#fb9f3a"
             ],
             [
              0.8888888888888888,
              "#fdca26"
             ],
             [
              1,
              "#f0f921"
             ]
            ],
            "type": "histogram2dcontour"
           }
          ],
          "mesh3d": [
           {
            "colorbar": {
             "outlinewidth": 0,
             "ticks": ""
            },
            "type": "mesh3d"
           }
          ],
          "parcoords": [
           {
            "line": {
             "colorbar": {
              "outlinewidth": 0,
              "ticks": ""
             }
            },
            "type": "parcoords"
           }
          ],
          "pie": [
           {
            "automargin": true,
            "type": "pie"
           }
          ],
          "scatter": [
           {
            "marker": {
             "colorbar": {
              "outlinewidth": 0,
              "ticks": ""
             }
            },
            "type": "scatter"
           }
          ],
          "scatter3d": [
           {
            "line": {
             "colorbar": {
              "outlinewidth": 0,
              "ticks": ""
             }
            },
            "marker": {
             "colorbar": {
              "outlinewidth": 0,
              "ticks": ""
             }
            },
            "type": "scatter3d"
           }
          ],
          "scattercarpet": [
           {
            "marker": {
             "colorbar": {
              "outlinewidth": 0,
              "ticks": ""
             }
            },
            "type": "scattercarpet"
           }
          ],
          "scattergeo": [
           {
            "marker": {
             "colorbar": {
              "outlinewidth": 0,
              "ticks": ""
             }
            },
            "type": "scattergeo"
           }
          ],
          "scattergl": [
           {
            "marker": {
             "colorbar": {
              "outlinewidth": 0,
              "ticks": ""
             }
            },
            "type": "scattergl"
           }
          ],
          "scattermapbox": [
           {
            "marker": {
             "colorbar": {
              "outlinewidth": 0,
              "ticks": ""
             }
            },
            "type": "scattermapbox"
           }
          ],
          "scatterpolar": [
           {
            "marker": {
             "colorbar": {
              "outlinewidth": 0,
              "ticks": ""
             }
            },
            "type": "scatterpolar"
           }
          ],
          "scatterpolargl": [
           {
            "marker": {
             "colorbar": {
              "outlinewidth": 0,
              "ticks": ""
             }
            },
            "type": "scatterpolargl"
           }
          ],
          "scatterternary": [
           {
            "marker": {
             "colorbar": {
              "outlinewidth": 0,
              "ticks": ""
             }
            },
            "type": "scatterternary"
           }
          ],
          "surface": [
           {
            "colorbar": {
             "outlinewidth": 0,
             "ticks": ""
            },
            "colorscale": [
             [
              0,
              "#0d0887"
             ],
             [
              0.1111111111111111,
              "#46039f"
             ],
             [
              0.2222222222222222,
              "#7201a8"
             ],
             [
              0.3333333333333333,
              "#9c179e"
             ],
             [
              0.4444444444444444,
              "#bd3786"
             ],
             [
              0.5555555555555556,
              "#d8576b"
             ],
             [
              0.6666666666666666,
              "#ed7953"
             ],
             [
              0.7777777777777778,
              "#fb9f3a"
             ],
             [
              0.8888888888888888,
              "#fdca26"
             ],
             [
              1,
              "#f0f921"
             ]
            ],
            "type": "surface"
           }
          ],
          "table": [
           {
            "cells": {
             "fill": {
              "color": "#EBF0F8"
             },
             "line": {
              "color": "white"
             }
            },
            "header": {
             "fill": {
              "color": "#C8D4E3"
             },
             "line": {
              "color": "white"
             }
            },
            "type": "table"
           }
          ]
         },
         "layout": {
          "annotationdefaults": {
           "arrowcolor": "#2a3f5f",
           "arrowhead": 0,
           "arrowwidth": 1
          },
          "autotypenumbers": "strict",
          "coloraxis": {
           "colorbar": {
            "outlinewidth": 0,
            "ticks": ""
           }
          },
          "colorscale": {
           "diverging": [
            [
             0,
             "#8e0152"
            ],
            [
             0.1,
             "#c51b7d"
            ],
            [
             0.2,
             "#de77ae"
            ],
            [
             0.3,
             "#f1b6da"
            ],
            [
             0.4,
             "#fde0ef"
            ],
            [
             0.5,
             "#f7f7f7"
            ],
            [
             0.6,
             "#e6f5d0"
            ],
            [
             0.7,
             "#b8e186"
            ],
            [
             0.8,
             "#7fbc41"
            ],
            [
             0.9,
             "#4d9221"
            ],
            [
             1,
             "#276419"
            ]
           ],
           "sequential": [
            [
             0,
             "#0d0887"
            ],
            [
             0.1111111111111111,
             "#46039f"
            ],
            [
             0.2222222222222222,
             "#7201a8"
            ],
            [
             0.3333333333333333,
             "#9c179e"
            ],
            [
             0.4444444444444444,
             "#bd3786"
            ],
            [
             0.5555555555555556,
             "#d8576b"
            ],
            [
             0.6666666666666666,
             "#ed7953"
            ],
            [
             0.7777777777777778,
             "#fb9f3a"
            ],
            [
             0.8888888888888888,
             "#fdca26"
            ],
            [
             1,
             "#f0f921"
            ]
           ],
           "sequentialminus": [
            [
             0,
             "#0d0887"
            ],
            [
             0.1111111111111111,
             "#46039f"
            ],
            [
             0.2222222222222222,
             "#7201a8"
            ],
            [
             0.3333333333333333,
             "#9c179e"
            ],
            [
             0.4444444444444444,
             "#bd3786"
            ],
            [
             0.5555555555555556,
             "#d8576b"
            ],
            [
             0.6666666666666666,
             "#ed7953"
            ],
            [
             0.7777777777777778,
             "#fb9f3a"
            ],
            [
             0.8888888888888888,
             "#fdca26"
            ],
            [
             1,
             "#f0f921"
            ]
           ]
          },
          "colorway": [
           "#636efa",
           "#EF553B",
           "#00cc96",
           "#ab63fa",
           "#FFA15A",
           "#19d3f3",
           "#FF6692",
           "#B6E880",
           "#FF97FF",
           "#FECB52"
          ],
          "font": {
           "color": "#2a3f5f"
          },
          "geo": {
           "bgcolor": "white",
           "lakecolor": "white",
           "landcolor": "#E5ECF6",
           "showlakes": true,
           "showland": true,
           "subunitcolor": "white"
          },
          "hoverlabel": {
           "align": "left"
          },
          "hovermode": "closest",
          "mapbox": {
           "style": "light"
          },
          "paper_bgcolor": "white",
          "plot_bgcolor": "#E5ECF6",
          "polar": {
           "angularaxis": {
            "gridcolor": "white",
            "linecolor": "white",
            "ticks": ""
           },
           "bgcolor": "#E5ECF6",
           "radialaxis": {
            "gridcolor": "white",
            "linecolor": "white",
            "ticks": ""
           }
          },
          "scene": {
           "xaxis": {
            "backgroundcolor": "#E5ECF6",
            "gridcolor": "white",
            "gridwidth": 2,
            "linecolor": "white",
            "showbackground": true,
            "ticks": "",
            "zerolinecolor": "white"
           },
           "yaxis": {
            "backgroundcolor": "#E5ECF6",
            "gridcolor": "white",
            "gridwidth": 2,
            "linecolor": "white",
            "showbackground": true,
            "ticks": "",
            "zerolinecolor": "white"
           },
           "zaxis": {
            "backgroundcolor": "#E5ECF6",
            "gridcolor": "white",
            "gridwidth": 2,
            "linecolor": "white",
            "showbackground": true,
            "ticks": "",
            "zerolinecolor": "white"
           }
          },
          "shapedefaults": {
           "line": {
            "color": "#2a3f5f"
           }
          },
          "ternary": {
           "aaxis": {
            "gridcolor": "white",
            "linecolor": "white",
            "ticks": ""
           },
           "baxis": {
            "gridcolor": "white",
            "linecolor": "white",
            "ticks": ""
           },
           "bgcolor": "#E5ECF6",
           "caxis": {
            "gridcolor": "white",
            "linecolor": "white",
            "ticks": ""
           }
          },
          "title": {
           "x": 0.05
          },
          "xaxis": {
           "automargin": true,
           "gridcolor": "white",
           "linecolor": "white",
           "ticks": "",
           "title": {
            "standoff": 15
           },
           "zerolinecolor": "white",
           "zerolinewidth": 2
          },
          "yaxis": {
           "automargin": true,
           "gridcolor": "white",
           "linecolor": "white",
           "ticks": "",
           "title": {
            "standoff": 15
           },
           "zerolinecolor": "white",
           "zerolinewidth": 2
          }
         }
        },
        "title": {
         "text": "Station 130"
        },
        "width": 264.56692913385825,
        "xaxis": {
         "anchor": "y",
         "domain": [
          0,
          1
         ],
         "title": {
          "text": "average cell density per L"
         }
        },
        "yaxis": {
         "anchor": "x",
         "categoryarray": [
          "July_2021",
          "June_2021",
          "May_2021",
          "April_2021",
          "February_2021",
          "January_2021",
          "December_2020",
          "November_2020",
          "September_2020",
          "August_2020",
          "July_2020"
         ],
         "categoryorder": "array",
         "domain": [
          0,
          1
         ],
         "title": {
          "text": ""
         }
        }
       }
      }
     },
     "metadata": {},
     "output_type": "display_data"
    },
    {
     "data": {
      "application/vnd.plotly.v1+json": {
       "config": {
        "plotlyServerURL": "https://plot.ly"
       },
       "data": [
        {
         "alignmentgroup": "True",
         "bingroup": "y",
         "histfunc": "sum",
         "hovertemplate": "Taxon_grouped=Rare<br>sum of rel_cell_density_L_per_month=%{x}<br>Year_month=%{y}<extra></extra>",
         "legendgroup": "Rare",
         "marker": {
          "color": "#545454",
          "pattern": {
           "shape": ""
          }
         },
         "name": "Rare",
         "offsetgroup": "Rare",
         "orientation": "h",
         "showlegend": true,
         "type": "histogram",
         "x": [
          0.004674527818831199,
          0.004674527818831199,
          0.007821209153312319,
          0.018552872633029557,
          0.016500309988008936,
          0.011232895376756825,
          0.011232895376756825,
          0.010410135863433926,
          0.011232895376756825,
          0.0050234701824698426,
          0.005591663216063035,
          0.014621998100924134,
          0.004960287914932015,
          0.009960735120931798,
          0.004993922215568254
         ],
         "xaxis": "x",
         "y": [
          "July_2021",
          "July_2021",
          "May_2021",
          "January_2021",
          "December_2020",
          "November_2020",
          "November_2020",
          "November_2020",
          "November_2020",
          "September_2020",
          "September_2020",
          "August_2020",
          "July_2020",
          "July_2020",
          "July_2020"
         ],
         "yaxis": "y"
        },
        {
         "alignmentgroup": "True",
         "bingroup": "y",
         "histfunc": "sum",
         "hovertemplate": "Taxon_grouped=Bacillariophyta<br>sum of rel_cell_density_L_per_month=%{x}<br>Year_month=%{y}<extra></extra>",
         "legendgroup": "Bacillariophyta",
         "marker": {
          "color": "#E69F00",
          "pattern": {
           "shape": ""
          }
         },
         "name": "Bacillariophyta",
         "offsetgroup": "Bacillariophyta",
         "orientation": "h",
         "showlegend": true,
         "type": "histogram",
         "x": [
          0.7288682056229309,
          0.6439418221884285,
          0.7563958785389958,
          0.7673492340432447,
          0.7714790503478667,
          0.48871443012180893,
          0.3128914670497771,
          0.29497568155473874,
          0.42405722842475463,
          0.8892686632588896
         ],
         "xaxis": "x",
         "y": [
          "July_2021",
          "June_2021",
          "May_2021",
          "February_2021",
          "January_2021",
          "December_2020",
          "November_2020",
          "September_2020",
          "August_2020",
          "July_2020"
         ],
         "yaxis": "y"
        },
        {
         "alignmentgroup": "True",
         "bingroup": "y",
         "histfunc": "sum",
         "hovertemplate": "Taxon_grouped=Dinophyceae<br>sum of rel_cell_density_L_per_month=%{x}<br>Year_month=%{y}<extra></extra>",
         "legendgroup": "Dinophyceae",
         "marker": {
          "color": "#56B4E9",
          "pattern": {
           "shape": ""
          }
         },
         "name": "Dinophyceae",
         "offsetgroup": "Dinophyceae",
         "orientation": "h",
         "showlegend": true,
         "type": "histogram",
         "x": [
          0.2617827387394068,
          0.18164861460608991,
          0.08717482230448087,
          0.06903350926396784,
          0.06587736942996192,
          0.025307174439418233,
          0.07532954576090932,
          0.09671018218905297,
          0.09081639148967834
         ],
         "xaxis": "x",
         "y": [
          "July_2021",
          "June_2021",
          "May_2021",
          "February_2021",
          "December_2020",
          "November_2020",
          "September_2020",
          "August_2020",
          "July_2020"
         ],
         "yaxis": "y"
        },
        {
         "alignmentgroup": "True",
         "bingroup": "y",
         "histfunc": "sum",
         "hovertemplate": "Taxon_grouped=Prymnesiophyceae<br>sum of rel_cell_density_L_per_month=%{x}<br>Year_month=%{y}<extra></extra>",
         "legendgroup": "Prymnesiophyceae",
         "marker": {
          "color": "#009E73",
          "pattern": {
           "shape": ""
          }
         },
         "name": "Prymnesiophyceae",
         "offsetgroup": "Prymnesiophyceae",
         "orientation": "h",
         "showlegend": true,
         "type": "histogram",
         "x": [
          0.15261331101916265,
          0.07603566721461397
         ],
         "xaxis": "x",
         "y": [
          "June_2021",
          "May_2021"
         ],
         "yaxis": "y"
        },
        {
         "alignmentgroup": "True",
         "bingroup": "y",
         "histfunc": "sum",
         "hovertemplate": "Taxon_grouped=Arthropoda<br>sum of rel_cell_density_L_per_month=%{x}<br>Year_month=%{y}<extra></extra>",
         "legendgroup": "Arthropoda",
         "marker": {
          "color": "#0072B2",
          "pattern": {
           "shape": ""
          }
         },
         "name": "Arthropoda",
         "offsetgroup": "Arthropoda",
         "orientation": "h",
         "showlegend": true,
         "type": "histogram",
         "x": [
          0.021796252186318844,
          0.03832881534821232,
          0.12332442345014356,
          0.0652689960863935,
          0.34642380995185273,
          0.5734519989669438,
          0.43964990487646544,
          0.25552332564221764
         ],
         "xaxis": "x",
         "y": [
          "June_2021",
          "May_2021",
          "February_2021",
          "January_2021",
          "December_2020",
          "November_2020",
          "September_2020",
          "August_2020"
         ],
         "yaxis": "y"
        },
        {
         "alignmentgroup": "True",
         "bingroup": "y",
         "histfunc": "sum",
         "hovertemplate": "Taxon_grouped=Ciliates<br>sum of rel_cell_density_L_per_month=%{x}<br>Year_month=%{y}<extra></extra>",
         "legendgroup": "Ciliates",
         "marker": {
          "color": "#F0E442",
          "pattern": {
           "shape": ""
          }
         },
         "name": "Ciliates",
         "offsetgroup": "Ciliates",
         "orientation": "h",
         "showlegend": true,
         "type": "histogram",
         "x": [
          0.03424360744038481,
          0.04275501951600771,
          0.16536785048887617
         ],
         "xaxis": "x",
         "y": [
          "May_2021",
          "September_2020",
          "August_2020"
         ],
         "yaxis": "y"
        },
        {
         "alignmentgroup": "True",
         "bingroup": "y",
         "histfunc": "sum",
         "hovertemplate": "Taxon_grouped=Porifera spicule<br>sum of rel_cell_density_L_per_month=%{x}<br>Year_month=%{y}<extra></extra>",
         "legendgroup": "Porifera spicule",
         "marker": {
          "color": "#FFA15A",
          "pattern": {
           "shape": ""
          }
         },
         "name": "Porifera spicule",
         "offsetgroup": "Porifera spicule",
         "orientation": "h",
         "showlegend": true,
         "type": "histogram",
         "x": [
          0.040292833242643815,
          0.08420249251716891,
          0.04944411367912604
         ],
         "xaxis": "x",
         "y": [
          "February_2021",
          "January_2021",
          "December_2020"
         ],
         "yaxis": "y"
        },
        {
         "alignmentgroup": "True",
         "bingroup": "y",
         "histfunc": "sum",
         "hovertemplate": "Taxon_grouped=Nematoda<br>sum of rel_cell_density_L_per_month=%{x}<br>Year_month=%{y}<extra></extra>",
         "legendgroup": "Nematoda",
         "marker": {
          "color": "#19d3f3",
          "pattern": {
           "shape": ""
          }
         },
         "name": "Nematoda",
         "offsetgroup": "Nematoda",
         "orientation": "h",
         "showlegend": true,
         "type": "histogram",
         "x": [
          0.021050623129292265
         ],
         "xaxis": "x",
         "y": [
          "January_2021"
         ],
         "yaxis": "y"
        },
        {
         "alignmentgroup": "True",
         "bingroup": "y",
         "histfunc": "sum",
         "hovertemplate": "Taxon_grouped=Cnidaria<br>sum of rel_cell_density_L_per_month=%{x}<br>Year_month=%{y}<extra></extra>",
         "legendgroup": "Cnidaria",
         "marker": {
          "color": "#A42324",
          "pattern": {
           "shape": ""
          }
         },
         "name": "Cnidaria",
         "offsetgroup": "Cnidaria",
         "orientation": "h",
         "showlegend": true,
         "type": "histogram",
         "x": [
          0.039445965286249045,
          0.03303996682924137,
          0.07519025615643395
         ],
         "xaxis": "x",
         "y": [
          "January_2021",
          "December_2020",
          "September_2020"
         ],
         "yaxis": "y"
        },
        {
         "alignmentgroup": "True",
         "bingroup": "y",
         "histfunc": "sum",
         "hovertemplate": "Taxon_grouped=Mollusca<br>sum of rel_cell_density_L_per_month=%{x}<br>Year_month=%{y}<extra></extra>",
         "legendgroup": "Mollusca",
         "marker": {
          "color": "#89CE00",
          "pattern": {
           "shape": ""
          }
         },
         "name": "Mollusca",
         "offsetgroup": "Mollusca",
         "orientation": "h",
         "showlegend": true,
         "type": "histogram",
         "x": [
          0.021909260687984242,
          0.061484458736911975,
          0.0218730696590559
         ],
         "xaxis": "x",
         "y": [
          "November_2020",
          "September_2020",
          "August_2020"
         ],
         "yaxis": "y"
        },
        {
         "alignmentgroup": "True",
         "bingroup": "y",
         "histfunc": "sum",
         "hovertemplate": "Taxon_grouped=Rotifera<br>sum of rel_cell_density_L_per_month=%{x}<br>Year_month=%{y}<extra></extra>",
         "legendgroup": "Rotifera",
         "marker": {
          "color": "#0000FF",
          "pattern": {
           "shape": ""
          }
         },
         "name": "Rotifera",
         "offsetgroup": "Rotifera",
         "orientation": "h",
         "showlegend": true,
         "type": "histogram",
         "x": [
          0.02233127686217225,
          0.021846345495118543
         ],
         "xaxis": "x",
         "y": [
          "November_2020",
          "August_2020"
         ],
         "yaxis": "y"
        }
       ],
       "layout": {
        "autosize": false,
        "barmode": "relative",
        "font": {
         "color": "#7f7f7f",
         "family": "Times New Roman, serif",
         "size": 12
        },
        "height": 226.77165354330708,
        "legend": {
         "title": {
          "text": "Taxon_grouped"
         },
         "tracegroupgap": 0
        },
        "margin": {
         "b": 25,
         "l": 0,
         "r": 25,
         "t": 25
        },
        "showlegend": false,
        "template": {
         "data": {
          "bar": [
           {
            "error_x": {
             "color": "#2a3f5f"
            },
            "error_y": {
             "color": "#2a3f5f"
            },
            "marker": {
             "line": {
              "color": "#E5ECF6",
              "width": 0.5
             },
             "pattern": {
              "fillmode": "overlay",
              "size": 10,
              "solidity": 0.2
             }
            },
            "type": "bar"
           }
          ],
          "barpolar": [
           {
            "marker": {
             "line": {
              "color": "#E5ECF6",
              "width": 0.5
             },
             "pattern": {
              "fillmode": "overlay",
              "size": 10,
              "solidity": 0.2
             }
            },
            "type": "barpolar"
           }
          ],
          "carpet": [
           {
            "aaxis": {
             "endlinecolor": "#2a3f5f",
             "gridcolor": "white",
             "linecolor": "white",
             "minorgridcolor": "white",
             "startlinecolor": "#2a3f5f"
            },
            "baxis": {
             "endlinecolor": "#2a3f5f",
             "gridcolor": "white",
             "linecolor": "white",
             "minorgridcolor": "white",
             "startlinecolor": "#2a3f5f"
            },
            "type": "carpet"
           }
          ],
          "choropleth": [
           {
            "colorbar": {
             "outlinewidth": 0,
             "ticks": ""
            },
            "type": "choropleth"
           }
          ],
          "contour": [
           {
            "colorbar": {
             "outlinewidth": 0,
             "ticks": ""
            },
            "colorscale": [
             [
              0,
              "#0d0887"
             ],
             [
              0.1111111111111111,
              "#46039f"
             ],
             [
              0.2222222222222222,
              "#7201a8"
             ],
             [
              0.3333333333333333,
              "#9c179e"
             ],
             [
              0.4444444444444444,
              "#bd3786"
             ],
             [
              0.5555555555555556,
              "#d8576b"
             ],
             [
              0.6666666666666666,
              "#ed7953"
             ],
             [
              0.7777777777777778,
              "#fb9f3a"
             ],
             [
              0.8888888888888888,
              "#fdca26"
             ],
             [
              1,
              "#f0f921"
             ]
            ],
            "type": "contour"
           }
          ],
          "contourcarpet": [
           {
            "colorbar": {
             "outlinewidth": 0,
             "ticks": ""
            },
            "type": "contourcarpet"
           }
          ],
          "heatmap": [
           {
            "colorbar": {
             "outlinewidth": 0,
             "ticks": ""
            },
            "colorscale": [
             [
              0,
              "#0d0887"
             ],
             [
              0.1111111111111111,
              "#46039f"
             ],
             [
              0.2222222222222222,
              "#7201a8"
             ],
             [
              0.3333333333333333,
              "#9c179e"
             ],
             [
              0.4444444444444444,
              "#bd3786"
             ],
             [
              0.5555555555555556,
              "#d8576b"
             ],
             [
              0.6666666666666666,
              "#ed7953"
             ],
             [
              0.7777777777777778,
              "#fb9f3a"
             ],
             [
              0.8888888888888888,
              "#fdca26"
             ],
             [
              1,
              "#f0f921"
             ]
            ],
            "type": "heatmap"
           }
          ],
          "heatmapgl": [
           {
            "colorbar": {
             "outlinewidth": 0,
             "ticks": ""
            },
            "colorscale": [
             [
              0,
              "#0d0887"
             ],
             [
              0.1111111111111111,
              "#46039f"
             ],
             [
              0.2222222222222222,
              "#7201a8"
             ],
             [
              0.3333333333333333,
              "#9c179e"
             ],
             [
              0.4444444444444444,
              "#bd3786"
             ],
             [
              0.5555555555555556,
              "#d8576b"
             ],
             [
              0.6666666666666666,
              "#ed7953"
             ],
             [
              0.7777777777777778,
              "#fb9f3a"
             ],
             [
              0.8888888888888888,
              "#fdca26"
             ],
             [
              1,
              "#f0f921"
             ]
            ],
            "type": "heatmapgl"
           }
          ],
          "histogram": [
           {
            "marker": {
             "pattern": {
              "fillmode": "overlay",
              "size": 10,
              "solidity": 0.2
             }
            },
            "type": "histogram"
           }
          ],
          "histogram2d": [
           {
            "colorbar": {
             "outlinewidth": 0,
             "ticks": ""
            },
            "colorscale": [
             [
              0,
              "#0d0887"
             ],
             [
              0.1111111111111111,
              "#46039f"
             ],
             [
              0.2222222222222222,
              "#7201a8"
             ],
             [
              0.3333333333333333,
              "#9c179e"
             ],
             [
              0.4444444444444444,
              "#bd3786"
             ],
             [
              0.5555555555555556,
              "#d8576b"
             ],
             [
              0.6666666666666666,
              "#ed7953"
             ],
             [
              0.7777777777777778,
              "#fb9f3a"
             ],
             [
              0.8888888888888888,
              "#fdca26"
             ],
             [
              1,
              "#f0f921"
             ]
            ],
            "type": "histogram2d"
           }
          ],
          "histogram2dcontour": [
           {
            "colorbar": {
             "outlinewidth": 0,
             "ticks": ""
            },
            "colorscale": [
             [
              0,
              "#0d0887"
             ],
             [
              0.1111111111111111,
              "#46039f"
             ],
             [
              0.2222222222222222,
              "#7201a8"
             ],
             [
              0.3333333333333333,
              "#9c179e"
             ],
             [
              0.4444444444444444,
              "#bd3786"
             ],
             [
              0.5555555555555556,
              "#d8576b"
             ],
             [
              0.6666666666666666,
              "#ed7953"
             ],
             [
              0.7777777777777778,
              "#fb9f3a"
             ],
             [
              0.8888888888888888,
              "#fdca26"
             ],
             [
              1,
              "#f0f921"
             ]
            ],
            "type": "histogram2dcontour"
           }
          ],
          "mesh3d": [
           {
            "colorbar": {
             "outlinewidth": 0,
             "ticks": ""
            },
            "type": "mesh3d"
           }
          ],
          "parcoords": [
           {
            "line": {
             "colorbar": {
              "outlinewidth": 0,
              "ticks": ""
             }
            },
            "type": "parcoords"
           }
          ],
          "pie": [
           {
            "automargin": true,
            "type": "pie"
           }
          ],
          "scatter": [
           {
            "marker": {
             "colorbar": {
              "outlinewidth": 0,
              "ticks": ""
             }
            },
            "type": "scatter"
           }
          ],
          "scatter3d": [
           {
            "line": {
             "colorbar": {
              "outlinewidth": 0,
              "ticks": ""
             }
            },
            "marker": {
             "colorbar": {
              "outlinewidth": 0,
              "ticks": ""
             }
            },
            "type": "scatter3d"
           }
          ],
          "scattercarpet": [
           {
            "marker": {
             "colorbar": {
              "outlinewidth": 0,
              "ticks": ""
             }
            },
            "type": "scattercarpet"
           }
          ],
          "scattergeo": [
           {
            "marker": {
             "colorbar": {
              "outlinewidth": 0,
              "ticks": ""
             }
            },
            "type": "scattergeo"
           }
          ],
          "scattergl": [
           {
            "marker": {
             "colorbar": {
              "outlinewidth": 0,
              "ticks": ""
             }
            },
            "type": "scattergl"
           }
          ],
          "scattermapbox": [
           {
            "marker": {
             "colorbar": {
              "outlinewidth": 0,
              "ticks": ""
             }
            },
            "type": "scattermapbox"
           }
          ],
          "scatterpolar": [
           {
            "marker": {
             "colorbar": {
              "outlinewidth": 0,
              "ticks": ""
             }
            },
            "type": "scatterpolar"
           }
          ],
          "scatterpolargl": [
           {
            "marker": {
             "colorbar": {
              "outlinewidth": 0,
              "ticks": ""
             }
            },
            "type": "scatterpolargl"
           }
          ],
          "scatterternary": [
           {
            "marker": {
             "colorbar": {
              "outlinewidth": 0,
              "ticks": ""
             }
            },
            "type": "scatterternary"
           }
          ],
          "surface": [
           {
            "colorbar": {
             "outlinewidth": 0,
             "ticks": ""
            },
            "colorscale": [
             [
              0,
              "#0d0887"
             ],
             [
              0.1111111111111111,
              "#46039f"
             ],
             [
              0.2222222222222222,
              "#7201a8"
             ],
             [
              0.3333333333333333,
              "#9c179e"
             ],
             [
              0.4444444444444444,
              "#bd3786"
             ],
             [
              0.5555555555555556,
              "#d8576b"
             ],
             [
              0.6666666666666666,
              "#ed7953"
             ],
             [
              0.7777777777777778,
              "#fb9f3a"
             ],
             [
              0.8888888888888888,
              "#fdca26"
             ],
             [
              1,
              "#f0f921"
             ]
            ],
            "type": "surface"
           }
          ],
          "table": [
           {
            "cells": {
             "fill": {
              "color": "#EBF0F8"
             },
             "line": {
              "color": "white"
             }
            },
            "header": {
             "fill": {
              "color": "#C8D4E3"
             },
             "line": {
              "color": "white"
             }
            },
            "type": "table"
           }
          ]
         },
         "layout": {
          "annotationdefaults": {
           "arrowcolor": "#2a3f5f",
           "arrowhead": 0,
           "arrowwidth": 1
          },
          "autotypenumbers": "strict",
          "coloraxis": {
           "colorbar": {
            "outlinewidth": 0,
            "ticks": ""
           }
          },
          "colorscale": {
           "diverging": [
            [
             0,
             "#8e0152"
            ],
            [
             0.1,
             "#c51b7d"
            ],
            [
             0.2,
             "#de77ae"
            ],
            [
             0.3,
             "#f1b6da"
            ],
            [
             0.4,
             "#fde0ef"
            ],
            [
             0.5,
             "#f7f7f7"
            ],
            [
             0.6,
             "#e6f5d0"
            ],
            [
             0.7,
             "#b8e186"
            ],
            [
             0.8,
             "#7fbc41"
            ],
            [
             0.9,
             "#4d9221"
            ],
            [
             1,
             "#276419"
            ]
           ],
           "sequential": [
            [
             0,
             "#0d0887"
            ],
            [
             0.1111111111111111,
             "#46039f"
            ],
            [
             0.2222222222222222,
             "#7201a8"
            ],
            [
             0.3333333333333333,
             "#9c179e"
            ],
            [
             0.4444444444444444,
             "#bd3786"
            ],
            [
             0.5555555555555556,
             "#d8576b"
            ],
            [
             0.6666666666666666,
             "#ed7953"
            ],
            [
             0.7777777777777778,
             "#fb9f3a"
            ],
            [
             0.8888888888888888,
             "#fdca26"
            ],
            [
             1,
             "#f0f921"
            ]
           ],
           "sequentialminus": [
            [
             0,
             "#0d0887"
            ],
            [
             0.1111111111111111,
             "#46039f"
            ],
            [
             0.2222222222222222,
             "#7201a8"
            ],
            [
             0.3333333333333333,
             "#9c179e"
            ],
            [
             0.4444444444444444,
             "#bd3786"
            ],
            [
             0.5555555555555556,
             "#d8576b"
            ],
            [
             0.6666666666666666,
             "#ed7953"
            ],
            [
             0.7777777777777778,
             "#fb9f3a"
            ],
            [
             0.8888888888888888,
             "#fdca26"
            ],
            [
             1,
             "#f0f921"
            ]
           ]
          },
          "colorway": [
           "#636efa",
           "#EF553B",
           "#00cc96",
           "#ab63fa",
           "#FFA15A",
           "#19d3f3",
           "#FF6692",
           "#B6E880",
           "#FF97FF",
           "#FECB52"
          ],
          "font": {
           "color": "#2a3f5f"
          },
          "geo": {
           "bgcolor": "white",
           "lakecolor": "white",
           "landcolor": "#E5ECF6",
           "showlakes": true,
           "showland": true,
           "subunitcolor": "white"
          },
          "hoverlabel": {
           "align": "left"
          },
          "hovermode": "closest",
          "mapbox": {
           "style": "light"
          },
          "paper_bgcolor": "white",
          "plot_bgcolor": "#E5ECF6",
          "polar": {
           "angularaxis": {
            "gridcolor": "white",
            "linecolor": "white",
            "ticks": ""
           },
           "bgcolor": "#E5ECF6",
           "radialaxis": {
            "gridcolor": "white",
            "linecolor": "white",
            "ticks": ""
           }
          },
          "scene": {
           "xaxis": {
            "backgroundcolor": "#E5ECF6",
            "gridcolor": "white",
            "gridwidth": 2,
            "linecolor": "white",
            "showbackground": true,
            "ticks": "",
            "zerolinecolor": "white"
           },
           "yaxis": {
            "backgroundcolor": "#E5ECF6",
            "gridcolor": "white",
            "gridwidth": 2,
            "linecolor": "white",
            "showbackground": true,
            "ticks": "",
            "zerolinecolor": "white"
           },
           "zaxis": {
            "backgroundcolor": "#E5ECF6",
            "gridcolor": "white",
            "gridwidth": 2,
            "linecolor": "white",
            "showbackground": true,
            "ticks": "",
            "zerolinecolor": "white"
           }
          },
          "shapedefaults": {
           "line": {
            "color": "#2a3f5f"
           }
          },
          "ternary": {
           "aaxis": {
            "gridcolor": "white",
            "linecolor": "white",
            "ticks": ""
           },
           "baxis": {
            "gridcolor": "white",
            "linecolor": "white",
            "ticks": ""
           },
           "bgcolor": "#E5ECF6",
           "caxis": {
            "gridcolor": "white",
            "linecolor": "white",
            "ticks": ""
           }
          },
          "title": {
           "x": 0.05
          },
          "xaxis": {
           "automargin": true,
           "gridcolor": "white",
           "linecolor": "white",
           "ticks": "",
           "title": {
            "standoff": 15
           },
           "zerolinecolor": "white",
           "zerolinewidth": 2
          },
          "yaxis": {
           "automargin": true,
           "gridcolor": "white",
           "linecolor": "white",
           "ticks": "",
           "title": {
            "standoff": 15
           },
           "zerolinecolor": "white",
           "zerolinewidth": 2
          }
         }
        },
        "title": {
         "text": "Station 780"
        },
        "width": 264.56692913385825,
        "xaxis": {
         "anchor": "y",
         "domain": [
          0,
          1
         ],
         "title": {
          "text": "average cell density per L"
         }
        },
        "yaxis": {
         "anchor": "x",
         "categoryarray": [
          "July_2021",
          "June_2021",
          "May_2021",
          "April_2021",
          "February_2021",
          "January_2021",
          "December_2020",
          "November_2020",
          "September_2020",
          "August_2020",
          "July_2020"
         ],
         "categoryorder": "array",
         "domain": [
          0,
          1
         ],
         "title": {
          "text": ""
         }
        }
       }
      }
     },
     "metadata": {},
     "output_type": "display_data"
    },
    {
     "data": {
      "application/vnd.plotly.v1+json": {
       "config": {
        "plotlyServerURL": "https://plot.ly"
       },
       "data": [
        {
         "alignmentgroup": "True",
         "bingroup": "y",
         "histfunc": "sum",
         "hovertemplate": "Taxon_grouped=Rare<br>sum of rel_cell_density_L_per_month=%{x}<br>Year_month=%{y}<extra></extra>",
         "legendgroup": "Rare",
         "marker": {
          "color": "#545454",
          "pattern": {
           "shape": ""
          }
         },
         "name": "Rare",
         "offsetgroup": "Rare",
         "orientation": "h",
         "showlegend": true,
         "type": "histogram",
         "x": [
          0.008319027707814786,
          0.008319027707814786,
          0.008325288525131796,
          0.0083248886169502,
          0.016650503176984684,
          0.008330823503640885,
          0.007166133843774533,
          0.012918005980507132,
          0.01456370249565015,
          0.01456370249565015,
          0.015422312385242262
         ],
         "xaxis": "x",
         "y": [
          "July_2021",
          "July_2021",
          "July_2021",
          "July_2021",
          "June_2021",
          "June_2021",
          "May_2021",
          "May_2021",
          "August_2020",
          "August_2020",
          "July_2020"
         ],
         "yaxis": "y"
        },
        {
         "alignmentgroup": "True",
         "bingroup": "y",
         "histfunc": "sum",
         "hovertemplate": "Taxon_grouped=Bacillariophyta<br>sum of rel_cell_density_L_per_month=%{x}<br>Year_month=%{y}<extra></extra>",
         "legendgroup": "Bacillariophyta",
         "marker": {
          "color": "#E69F00",
          "pattern": {
           "shape": ""
          }
         },
         "name": "Bacillariophyta",
         "offsetgroup": "Bacillariophyta",
         "orientation": "h",
         "showlegend": true,
         "type": "histogram",
         "x": [
          0.35913269281933125,
          0.736293735125694,
          0.5844170542751964,
          0.5761882641953809,
          0.8097380055866032,
          0.6035976666421092,
          0.4793354139352721,
          0.6016715059442639,
          0.5939522812411225
         ],
         "xaxis": "x",
         "y": [
          "July_2021",
          "June_2021",
          "May_2021",
          "February_2021",
          "January_2021",
          "December_2020",
          "September_2020",
          "August_2020",
          "July_2020"
         ],
         "yaxis": "y"
        },
        {
         "alignmentgroup": "True",
         "bingroup": "y",
         "histfunc": "sum",
         "hovertemplate": "Taxon_grouped=Dinophyceae<br>sum of rel_cell_density_L_per_month=%{x}<br>Year_month=%{y}<extra></extra>",
         "legendgroup": "Dinophyceae",
         "marker": {
          "color": "#56B4E9",
          "pattern": {
           "shape": ""
          }
         },
         "name": "Dinophyceae",
         "offsetgroup": "Dinophyceae",
         "orientation": "h",
         "showlegend": true,
         "type": "histogram",
         "x": [
          0.5410018191112836,
          0.16862904638034,
          0.06160622244799444,
          0.038105944991791305,
          0.11663607686179028,
          0.04942577029838777,
          0.029192440635205368,
          0.27133776806157345
         ],
         "xaxis": "x",
         "y": [
          "July_2021",
          "June_2021",
          "February_2021",
          "January_2021",
          "December_2020",
          "September_2020",
          "August_2020",
          "July_2020"
         ],
         "yaxis": "y"
        },
        {
         "alignmentgroup": "True",
         "bingroup": "y",
         "histfunc": "sum",
         "hovertemplate": "Taxon_grouped=Prymnesiophyceae<br>sum of rel_cell_density_L_per_month=%{x}<br>Year_month=%{y}<extra></extra>",
         "legendgroup": "Prymnesiophyceae",
         "marker": {
          "color": "#009E73",
          "pattern": {
           "shape": ""
          }
         },
         "name": "Prymnesiophyceae",
         "offsetgroup": "Prymnesiophyceae",
         "orientation": "h",
         "showlegend": true,
         "type": "histogram",
         "x": [
          0.1432019926685879,
          0.09014685846265744
         ],
         "xaxis": "x",
         "y": [
          "May_2021",
          "February_2021"
         ],
         "yaxis": "y"
        },
        {
         "alignmentgroup": "True",
         "bingroup": "y",
         "histfunc": "sum",
         "hovertemplate": "Taxon_grouped=Arthropoda<br>sum of rel_cell_density_L_per_month=%{x}<br>Year_month=%{y}<extra></extra>",
         "legendgroup": "Arthropoda",
         "marker": {
          "color": "#0072B2",
          "pattern": {
           "shape": ""
          }
         },
         "name": "Arthropoda",
         "offsetgroup": "Arthropoda",
         "orientation": "h",
         "showlegend": true,
         "type": "histogram",
         "x": [
          0.06657725551167352,
          0.07009589181334053,
          0.07649929929642116,
          0.1782480553254252,
          0.06993675136785665,
          0.2857206296635451,
          0.27686723701905,
          0.0781731256197429
         ],
         "xaxis": "x",
         "y": [
          "July_2021",
          "June_2021",
          "May_2021",
          "February_2021",
          "December_2020",
          "September_2020",
          "August_2020",
          "July_2020"
         ],
         "yaxis": "y"
        },
        {
         "alignmentgroup": "True",
         "bingroup": "y",
         "histfunc": "sum",
         "hovertemplate": "Taxon_grouped=Ciliates<br>sum of rel_cell_density_L_per_month=%{x}<br>Year_month=%{y}<extra></extra>",
         "legendgroup": "Ciliates",
         "marker": {
          "color": "#F0E442",
          "pattern": {
           "shape": ""
          }
         },
         "name": "Ciliates",
         "offsetgroup": "Ciliates",
         "orientation": "h",
         "showlegend": true,
         "type": "histogram",
         "x": [
          0.028715576098058384,
          0.038030000714973616,
          0.09324900182380878,
          0.18551818610279497,
          0.06314141141018045
         ],
         "xaxis": "x",
         "y": [
          "May_2021",
          "January_2021",
          "December_2020",
          "September_2020",
          "August_2020"
         ],
         "yaxis": "y"
        },
        {
         "alignmentgroup": "True",
         "bingroup": "y",
         "histfunc": "sum",
         "hovertemplate": "Taxon_grouped=Rotifera<br>sum of rel_cell_density_L_per_month=%{x}<br>Year_month=%{y}<extra></extra>",
         "legendgroup": "Rotifera",
         "marker": {
          "color": "#0000FF",
          "pattern": {
           "shape": ""
          }
         },
         "name": "Rotifera",
         "offsetgroup": "Rotifera",
         "orientation": "h",
         "showlegend": true,
         "type": "histogram",
         "x": [
          0.09325427746870403
         ],
         "xaxis": "x",
         "y": [
          "May_2021"
         ],
         "yaxis": "y"
        },
        {
         "alignmentgroup": "True",
         "bingroup": "y",
         "histfunc": "sum",
         "hovertemplate": "Taxon_grouped=Mollusca<br>sum of rel_cell_density_L_per_month=%{x}<br>Year_month=%{y}<extra></extra>",
         "legendgroup": "Mollusca",
         "marker": {
          "color": "#89CE00",
          "pattern": {
           "shape": ""
          }
         },
         "name": "Mollusca",
         "offsetgroup": "Mollusca",
         "orientation": "h",
         "showlegend": true,
         "type": "histogram",
         "x": [
          0.05382766036875041,
          0.03127019985618071,
          0.038105944991791305,
          0.06995600239253046,
          0.04111451269231873
         ],
         "xaxis": "x",
         "y": [
          "May_2021",
          "February_2021",
          "January_2021",
          "December_2020",
          "July_2020"
         ],
         "yaxis": "y"
        },
        {
         "alignmentgroup": "True",
         "bingroup": "y",
         "histfunc": "sum",
         "hovertemplate": "Taxon_grouped=Porifera spicule<br>sum of rel_cell_density_L_per_month=%{x}<br>Year_month=%{y}<extra></extra>",
         "legendgroup": "Porifera spicule",
         "marker": {
          "color": "#FFA15A",
          "pattern": {
           "shape": ""
          }
         },
         "name": "Porifera spicule",
         "offsetgroup": "Porifera spicule",
         "orientation": "h",
         "showlegend": true,
         "type": "histogram",
         "x": [
          0.06254039971236129,
          0.03806604727668467
         ],
         "xaxis": "x",
         "y": [
          "February_2021",
          "January_2021"
         ],
         "yaxis": "y"
        },
        {
         "alignmentgroup": "True",
         "bingroup": "y",
         "histfunc": "sum",
         "hovertemplate": "Taxon_grouped=Cnidaria<br>sum of rel_cell_density_L_per_month=%{x}<br>Year_month=%{y}<extra></extra>",
         "legendgroup": "Cnidaria",
         "marker": {
          "color": "#A42324",
          "pattern": {
           "shape": ""
          }
         },
         "name": "Cnidaria",
         "offsetgroup": "Cnidaria",
         "orientation": "h",
         "showlegend": true,
         "type": "histogram",
         "x": [
          0.037954056438155935
         ],
         "xaxis": "x",
         "y": [
          "January_2021"
         ],
         "yaxis": "y"
        },
        {
         "alignmentgroup": "True",
         "bingroup": "y",
         "histfunc": "sum",
         "hovertemplate": "Taxon_grouped=Echinodermata<br>sum of rel_cell_density_L_per_month=%{x}<br>Year_month=%{y}<extra></extra>",
         "legendgroup": "Echinodermata",
         "marker": {
          "color": "#55EEFF",
          "pattern": {
           "shape": ""
          }
         },
         "name": "Echinodermata",
         "offsetgroup": "Echinodermata",
         "orientation": "h",
         "showlegend": true,
         "type": "histogram",
         "x": [
          0.04662450091190452
         ],
         "xaxis": "x",
         "y": [
          "December_2020"
         ],
         "yaxis": "y"
        }
       ],
       "layout": {
        "autosize": false,
        "barmode": "relative",
        "font": {
         "color": "#7f7f7f",
         "family": "Times New Roman, serif",
         "size": 12
        },
        "height": 226.77165354330708,
        "legend": {
         "title": {
          "text": "Taxon_grouped"
         },
         "tracegroupgap": 0
        },
        "margin": {
         "b": 25,
         "l": 0,
         "r": 25,
         "t": 25
        },
        "showlegend": false,
        "template": {
         "data": {
          "bar": [
           {
            "error_x": {
             "color": "#2a3f5f"
            },
            "error_y": {
             "color": "#2a3f5f"
            },
            "marker": {
             "line": {
              "color": "#E5ECF6",
              "width": 0.5
             },
             "pattern": {
              "fillmode": "overlay",
              "size": 10,
              "solidity": 0.2
             }
            },
            "type": "bar"
           }
          ],
          "barpolar": [
           {
            "marker": {
             "line": {
              "color": "#E5ECF6",
              "width": 0.5
             },
             "pattern": {
              "fillmode": "overlay",
              "size": 10,
              "solidity": 0.2
             }
            },
            "type": "barpolar"
           }
          ],
          "carpet": [
           {
            "aaxis": {
             "endlinecolor": "#2a3f5f",
             "gridcolor": "white",
             "linecolor": "white",
             "minorgridcolor": "white",
             "startlinecolor": "#2a3f5f"
            },
            "baxis": {
             "endlinecolor": "#2a3f5f",
             "gridcolor": "white",
             "linecolor": "white",
             "minorgridcolor": "white",
             "startlinecolor": "#2a3f5f"
            },
            "type": "carpet"
           }
          ],
          "choropleth": [
           {
            "colorbar": {
             "outlinewidth": 0,
             "ticks": ""
            },
            "type": "choropleth"
           }
          ],
          "contour": [
           {
            "colorbar": {
             "outlinewidth": 0,
             "ticks": ""
            },
            "colorscale": [
             [
              0,
              "#0d0887"
             ],
             [
              0.1111111111111111,
              "#46039f"
             ],
             [
              0.2222222222222222,
              "#7201a8"
             ],
             [
              0.3333333333333333,
              "#9c179e"
             ],
             [
              0.4444444444444444,
              "#bd3786"
             ],
             [
              0.5555555555555556,
              "#d8576b"
             ],
             [
              0.6666666666666666,
              "#ed7953"
             ],
             [
              0.7777777777777778,
              "#fb9f3a"
             ],
             [
              0.8888888888888888,
              "#fdca26"
             ],
             [
              1,
              "#f0f921"
             ]
            ],
            "type": "contour"
           }
          ],
          "contourcarpet": [
           {
            "colorbar": {
             "outlinewidth": 0,
             "ticks": ""
            },
            "type": "contourcarpet"
           }
          ],
          "heatmap": [
           {
            "colorbar": {
             "outlinewidth": 0,
             "ticks": ""
            },
            "colorscale": [
             [
              0,
              "#0d0887"
             ],
             [
              0.1111111111111111,
              "#46039f"
             ],
             [
              0.2222222222222222,
              "#7201a8"
             ],
             [
              0.3333333333333333,
              "#9c179e"
             ],
             [
              0.4444444444444444,
              "#bd3786"
             ],
             [
              0.5555555555555556,
              "#d8576b"
             ],
             [
              0.6666666666666666,
              "#ed7953"
             ],
             [
              0.7777777777777778,
              "#fb9f3a"
             ],
             [
              0.8888888888888888,
              "#fdca26"
             ],
             [
              1,
              "#f0f921"
             ]
            ],
            "type": "heatmap"
           }
          ],
          "heatmapgl": [
           {
            "colorbar": {
             "outlinewidth": 0,
             "ticks": ""
            },
            "colorscale": [
             [
              0,
              "#0d0887"
             ],
             [
              0.1111111111111111,
              "#46039f"
             ],
             [
              0.2222222222222222,
              "#7201a8"
             ],
             [
              0.3333333333333333,
              "#9c179e"
             ],
             [
              0.4444444444444444,
              "#bd3786"
             ],
             [
              0.5555555555555556,
              "#d8576b"
             ],
             [
              0.6666666666666666,
              "#ed7953"
             ],
             [
              0.7777777777777778,
              "#fb9f3a"
             ],
             [
              0.8888888888888888,
              "#fdca26"
             ],
             [
              1,
              "#f0f921"
             ]
            ],
            "type": "heatmapgl"
           }
          ],
          "histogram": [
           {
            "marker": {
             "pattern": {
              "fillmode": "overlay",
              "size": 10,
              "solidity": 0.2
             }
            },
            "type": "histogram"
           }
          ],
          "histogram2d": [
           {
            "colorbar": {
             "outlinewidth": 0,
             "ticks": ""
            },
            "colorscale": [
             [
              0,
              "#0d0887"
             ],
             [
              0.1111111111111111,
              "#46039f"
             ],
             [
              0.2222222222222222,
              "#7201a8"
             ],
             [
              0.3333333333333333,
              "#9c179e"
             ],
             [
              0.4444444444444444,
              "#bd3786"
             ],
             [
              0.5555555555555556,
              "#d8576b"
             ],
             [
              0.6666666666666666,
              "#ed7953"
             ],
             [
              0.7777777777777778,
              "#fb9f3a"
             ],
             [
              0.8888888888888888,
              "#fdca26"
             ],
             [
              1,
              "#f0f921"
             ]
            ],
            "type": "histogram2d"
           }
          ],
          "histogram2dcontour": [
           {
            "colorbar": {
             "outlinewidth": 0,
             "ticks": ""
            },
            "colorscale": [
             [
              0,
              "#0d0887"
             ],
             [
              0.1111111111111111,
              "#46039f"
             ],
             [
              0.2222222222222222,
              "#7201a8"
             ],
             [
              0.3333333333333333,
              "#9c179e"
             ],
             [
              0.4444444444444444,
              "#bd3786"
             ],
             [
              0.5555555555555556,
              "#d8576b"
             ],
             [
              0.6666666666666666,
              "#ed7953"
             ],
             [
              0.7777777777777778,
              "#fb9f3a"
             ],
             [
              0.8888888888888888,
              "#fdca26"
             ],
             [
              1,
              "#f0f921"
             ]
            ],
            "type": "histogram2dcontour"
           }
          ],
          "mesh3d": [
           {
            "colorbar": {
             "outlinewidth": 0,
             "ticks": ""
            },
            "type": "mesh3d"
           }
          ],
          "parcoords": [
           {
            "line": {
             "colorbar": {
              "outlinewidth": 0,
              "ticks": ""
             }
            },
            "type": "parcoords"
           }
          ],
          "pie": [
           {
            "automargin": true,
            "type": "pie"
           }
          ],
          "scatter": [
           {
            "marker": {
             "colorbar": {
              "outlinewidth": 0,
              "ticks": ""
             }
            },
            "type": "scatter"
           }
          ],
          "scatter3d": [
           {
            "line": {
             "colorbar": {
              "outlinewidth": 0,
              "ticks": ""
             }
            },
            "marker": {
             "colorbar": {
              "outlinewidth": 0,
              "ticks": ""
             }
            },
            "type": "scatter3d"
           }
          ],
          "scattercarpet": [
           {
            "marker": {
             "colorbar": {
              "outlinewidth": 0,
              "ticks": ""
             }
            },
            "type": "scattercarpet"
           }
          ],
          "scattergeo": [
           {
            "marker": {
             "colorbar": {
              "outlinewidth": 0,
              "ticks": ""
             }
            },
            "type": "scattergeo"
           }
          ],
          "scattergl": [
           {
            "marker": {
             "colorbar": {
              "outlinewidth": 0,
              "ticks": ""
             }
            },
            "type": "scattergl"
           }
          ],
          "scattermapbox": [
           {
            "marker": {
             "colorbar": {
              "outlinewidth": 0,
              "ticks": ""
             }
            },
            "type": "scattermapbox"
           }
          ],
          "scatterpolar": [
           {
            "marker": {
             "colorbar": {
              "outlinewidth": 0,
              "ticks": ""
             }
            },
            "type": "scatterpolar"
           }
          ],
          "scatterpolargl": [
           {
            "marker": {
             "colorbar": {
              "outlinewidth": 0,
              "ticks": ""
             }
            },
            "type": "scatterpolargl"
           }
          ],
          "scatterternary": [
           {
            "marker": {
             "colorbar": {
              "outlinewidth": 0,
              "ticks": ""
             }
            },
            "type": "scatterternary"
           }
          ],
          "surface": [
           {
            "colorbar": {
             "outlinewidth": 0,
             "ticks": ""
            },
            "colorscale": [
             [
              0,
              "#0d0887"
             ],
             [
              0.1111111111111111,
              "#46039f"
             ],
             [
              0.2222222222222222,
              "#7201a8"
             ],
             [
              0.3333333333333333,
              "#9c179e"
             ],
             [
              0.4444444444444444,
              "#bd3786"
             ],
             [
              0.5555555555555556,
              "#d8576b"
             ],
             [
              0.6666666666666666,
              "#ed7953"
             ],
             [
              0.7777777777777778,
              "#fb9f3a"
             ],
             [
              0.8888888888888888,
              "#fdca26"
             ],
             [
              1,
              "#f0f921"
             ]
            ],
            "type": "surface"
           }
          ],
          "table": [
           {
            "cells": {
             "fill": {
              "color": "#EBF0F8"
             },
             "line": {
              "color": "white"
             }
            },
            "header": {
             "fill": {
              "color": "#C8D4E3"
             },
             "line": {
              "color": "white"
             }
            },
            "type": "table"
           }
          ]
         },
         "layout": {
          "annotationdefaults": {
           "arrowcolor": "#2a3f5f",
           "arrowhead": 0,
           "arrowwidth": 1
          },
          "autotypenumbers": "strict",
          "coloraxis": {
           "colorbar": {
            "outlinewidth": 0,
            "ticks": ""
           }
          },
          "colorscale": {
           "diverging": [
            [
             0,
             "#8e0152"
            ],
            [
             0.1,
             "#c51b7d"
            ],
            [
             0.2,
             "#de77ae"
            ],
            [
             0.3,
             "#f1b6da"
            ],
            [
             0.4,
             "#fde0ef"
            ],
            [
             0.5,
             "#f7f7f7"
            ],
            [
             0.6,
             "#e6f5d0"
            ],
            [
             0.7,
             "#b8e186"
            ],
            [
             0.8,
             "#7fbc41"
            ],
            [
             0.9,
             "#4d9221"
            ],
            [
             1,
             "#276419"
            ]
           ],
           "sequential": [
            [
             0,
             "#0d0887"
            ],
            [
             0.1111111111111111,
             "#46039f"
            ],
            [
             0.2222222222222222,
             "#7201a8"
            ],
            [
             0.3333333333333333,
             "#9c179e"
            ],
            [
             0.4444444444444444,
             "#bd3786"
            ],
            [
             0.5555555555555556,
             "#d8576b"
            ],
            [
             0.6666666666666666,
             "#ed7953"
            ],
            [
             0.7777777777777778,
             "#fb9f3a"
            ],
            [
             0.8888888888888888,
             "#fdca26"
            ],
            [
             1,
             "#f0f921"
            ]
           ],
           "sequentialminus": [
            [
             0,
             "#0d0887"
            ],
            [
             0.1111111111111111,
             "#46039f"
            ],
            [
             0.2222222222222222,
             "#7201a8"
            ],
            [
             0.3333333333333333,
             "#9c179e"
            ],
            [
             0.4444444444444444,
             "#bd3786"
            ],
            [
             0.5555555555555556,
             "#d8576b"
            ],
            [
             0.6666666666666666,
             "#ed7953"
            ],
            [
             0.7777777777777778,
             "#fb9f3a"
            ],
            [
             0.8888888888888888,
             "#fdca26"
            ],
            [
             1,
             "#f0f921"
            ]
           ]
          },
          "colorway": [
           "#636efa",
           "#EF553B",
           "#00cc96",
           "#ab63fa",
           "#FFA15A",
           "#19d3f3",
           "#FF6692",
           "#B6E880",
           "#FF97FF",
           "#FECB52"
          ],
          "font": {
           "color": "#2a3f5f"
          },
          "geo": {
           "bgcolor": "white",
           "lakecolor": "white",
           "landcolor": "#E5ECF6",
           "showlakes": true,
           "showland": true,
           "subunitcolor": "white"
          },
          "hoverlabel": {
           "align": "left"
          },
          "hovermode": "closest",
          "mapbox": {
           "style": "light"
          },
          "paper_bgcolor": "white",
          "plot_bgcolor": "#E5ECF6",
          "polar": {
           "angularaxis": {
            "gridcolor": "white",
            "linecolor": "white",
            "ticks": ""
           },
           "bgcolor": "#E5ECF6",
           "radialaxis": {
            "gridcolor": "white",
            "linecolor": "white",
            "ticks": ""
           }
          },
          "scene": {
           "xaxis": {
            "backgroundcolor": "#E5ECF6",
            "gridcolor": "white",
            "gridwidth": 2,
            "linecolor": "white",
            "showbackground": true,
            "ticks": "",
            "zerolinecolor": "white"
           },
           "yaxis": {
            "backgroundcolor": "#E5ECF6",
            "gridcolor": "white",
            "gridwidth": 2,
            "linecolor": "white",
            "showbackground": true,
            "ticks": "",
            "zerolinecolor": "white"
           },
           "zaxis": {
            "backgroundcolor": "#E5ECF6",
            "gridcolor": "white",
            "gridwidth": 2,
            "linecolor": "white",
            "showbackground": true,
            "ticks": "",
            "zerolinecolor": "white"
           }
          },
          "shapedefaults": {
           "line": {
            "color": "#2a3f5f"
           }
          },
          "ternary": {
           "aaxis": {
            "gridcolor": "white",
            "linecolor": "white",
            "ticks": ""
           },
           "baxis": {
            "gridcolor": "white",
            "linecolor": "white",
            "ticks": ""
           },
           "bgcolor": "#E5ECF6",
           "caxis": {
            "gridcolor": "white",
            "linecolor": "white",
            "ticks": ""
           }
          },
          "title": {
           "x": 0.05
          },
          "xaxis": {
           "automargin": true,
           "gridcolor": "white",
           "linecolor": "white",
           "ticks": "",
           "title": {
            "standoff": 15
           },
           "zerolinecolor": "white",
           "zerolinewidth": 2
          },
          "yaxis": {
           "automargin": true,
           "gridcolor": "white",
           "linecolor": "white",
           "ticks": "",
           "title": {
            "standoff": 15
           },
           "zerolinecolor": "white",
           "zerolinewidth": 2
          }
         }
        },
        "title": {
         "text": "Station 700"
        },
        "width": 264.56692913385825,
        "xaxis": {
         "anchor": "y",
         "domain": [
          0,
          1
         ],
         "title": {
          "text": "average cell density per L"
         }
        },
        "yaxis": {
         "anchor": "x",
         "categoryarray": [
          "July_2021",
          "June_2021",
          "May_2021",
          "April_2021",
          "February_2021",
          "January_2021",
          "December_2020",
          "November_2020",
          "September_2020",
          "August_2020",
          "July_2020"
         ],
         "categoryorder": "array",
         "domain": [
          0,
          1
         ],
         "title": {
          "text": ""
         }
        }
       }
      }
     },
     "metadata": {},
     "output_type": "display_data"
    }
   ],
   "source": [
    "stations = ['ZG02', '120', '330', '130', '780', '700']\n",
    "\n",
    "cm_to_px = 96 / 2.54  # Conversion factor from centimeters to pixels\n",
    "width_in_cm = 7\n",
    "height_in_cm = 6\n",
    "\n",
    "tax_colors = {}\n",
    "\n",
    "for station in stations:\n",
    "    # # First, I need to combine the cell densities per taxon, per month\n",
    "    grouped_df = data_FC[data_FC['Station'] == station][['Taxon_grouped', 'Year_month', 'density_cell_L']].groupby(['Taxon_grouped', 'Year_month']).agg({'density_cell_L':['sum', 'mean', 'min', 'max']})\n",
    "    grouped_df.columns = ['density_cell_L_sum', 'density_cell_L_mean', 'density_cell_L_min', 'density_cell_L_max']\n",
    "    grouped_df  = grouped_df.reset_index()\n",
    "\n",
    "    # Set months in the right order\n",
    "    grouped_df['Year_month'] = pd.Categorical(grouped_df['Year_month'], [\"July_2020\", \"August_2020\", \"September_2020\", \n",
    "                                                            \"November_2020\", \"December_2020\", \"January_2021\", \n",
    "                                                            \"February_2021\", \"April_2021\", \"May_2021\", \n",
    "                                                            \"June_2021\", \"July_2021\"])\n",
    "\n",
    "    # Normalise sum of cell density values to the total cells per L of that month\n",
    "    grouped_df[\"rel_cell_density_L_per_month\"] = grouped_df.density_cell_L_mean / grouped_df.groupby('Year_month').density_cell_L_mean.transform('sum')\n",
    "\n",
    "    # Combine low-abundant groups for figure clarity\n",
    "    rare_groups = grouped_df['rel_cell_density_L_per_month'] <= 0.02\n",
    "    grouped_df.loc[rare_groups, 'Taxon_grouped'] = 'Rare'\n",
    "\n",
    "    # Plot\n",
    "    fig = px.histogram(grouped_df.sort_values(\"Year_month\", ascending=False), \n",
    "                    x=\"rel_cell_density_L_per_month\", \n",
    "                    y=\"Year_month\", \n",
    "                    color='Taxon_grouped',\n",
    "                    orientation='h',\n",
    "                    color_discrete_map={\n",
    "                        \"Rare\": \"#545454\",\n",
    "                        \"Bacillariophyta\": \"#E69F00\",\n",
    "                        \"Dinophyceae\": \"#56B4E9\",\n",
    "                        \"Prymnesiophyceae\": \"#009E73\",\n",
    "                        \"Ciliates\": \"#F0E442\",\n",
    "                        \"Arthropoda\": \"#0072B2\",\n",
    "                        \"Annelida\": \"#D55E00\",\n",
    "                        \"Craniata\": \"#CC79A7\",\n",
    "                        \"Urocordata\": \"#B5B5B5\",\n",
    "                        \"Echinodermata\": \"#55EEFF\",\n",
    "                        \"Cnidaria\": \"#A42324\",\n",
    "                        \"Mollusca\": \"#89CE00\",\n",
    "                        \"Appendicularia\": \"#FF0000\",\n",
    "                        \"Rotifera\": \"#0000FF\",\n",
    "                    },\n",
    "                    category_orders={\"Year_month\": [\"July_2020\", \"August_2020\", \"September_2020\",\n",
    "                                           \"November_2020\", \"December_2020\", \"January_2021\",\n",
    "                                           \"February_2021\", \"April_2021\", \"May_2021\",\n",
    "                                           \"June_2021\", \"July_2021\"],\n",
    "                        \"Taxon_grouped\": [\"Rare\", \"Bacillariophyta\", \"Dinophyceae\",\n",
    "                                          \"Prymnesiophyceae\"]\n",
    "                    }\n",
    "                    # text_auto='.2f'\n",
    "                    )\n",
    "\n",
    "    fig.update_layout(\n",
    "        xaxis_title=\"average cell density per L\",  # Set the x-axis title\n",
    "        font=dict(\n",
    "            family=\"Times New Roman, serif\",  # Set the font family to Times New Roman\n",
    "            size=12,  # Set the font size\n",
    "            color=\"#7f7f7f\"  # Set the font color\n",
    "        ),\n",
    "        autosize=False,\n",
    "        width=width_in_cm * cm_to_px,\n",
    "        height=height_in_cm * cm_to_px,\n",
    "        margin=dict( # Set the margins\n",
    "            l=0,  # Left margin\n",
    "            r=25,  # Right margin\n",
    "            b=25,  # Bottom margin\n",
    "            t=25  # Top margin\n",
    "        ),\n",
    "        showlegend=False,\n",
    "        title_text='Station {}'.format(station),\n",
    "        yaxis_title_text=''\n",
    "    )\n",
    "\n",
    "    for trace in fig.data:\n",
    "        # If trace is not in the dictionary, add it\n",
    "        if trace.name not in tax_colors:\n",
    "            # If trace contains a color already in use, give an error\n",
    "            if trace.marker.color in tax_colors.values():\n",
    "                raise ValueError(f'Color for {trace.name} already in use, review color disctrete map')\n",
    "            tax_colors[trace.name] = trace.marker.color\n",
    "    \n",
    "     # Save figure as svg\n",
    "    fig.write_image(\"../../figures/flowcam/relative_cell_density_per_month_{}.svg\".format(station), scale=1)\n",
    "           \n",
    "    fig.show()"
   ]
  },
  {
   "cell_type": "code",
   "execution_count": 52,
   "metadata": {},
   "outputs": [
    {
     "name": "stderr",
     "output_type": "stream",
     "text": [
      "/var/folders/sw/y59p6zb57zd9ntdpcr65r3q40000gn/T/ipykernel_99639/742209653.py:21: UserWarning:\n",
      "\n",
      "FixedFormatter should only be used together with FixedLocator\n",
      "\n"
     ]
    },
    {
     "data": {
      "image/png": "[encoded data removed]",
      "text/plain": [
       "<Figure size 36x504 with 1 Axes>"
      ]
     },
     "metadata": {
      "needs_background": "light"
     },
     "output_type": "display_data"
    }
   ],
   "source": [
    "# extract the x labels and y values from the dictionary\n",
    "x_labels = list(tax_colors.keys())\n",
    "y_values = list(tax_colors.values())\n",
    "y_placeholders = [1] * len(y_values)\n",
    "\n",
    "# create the bar plot\n",
    "fig, ax = plt.subplots()\n",
    "ax.barh(x_labels, y_placeholders, color=y_values)\n",
    "\n",
    "ax.set_xlabel(None)\n",
    "ax.set_xticklabels([])\n",
    "\n",
    "# Remove the frame of the chart\n",
    "ax.spines['top'].set_visible(False)\n",
    "ax.spines['right'].set_visible(False)\n",
    "ax.spines['bottom'].set_visible(False)\n",
    "ax.spines['left'].set_visible(False)\n",
    "\n",
    "# Remove y ticks, not labels\n",
    "plt.tick_params(axis='y', which='both', length=0)\n",
    "ax.set_yticklabels(x_labels, fontsize=12, fontname='Times New Roman')\n",
    "\n",
    "# Adjust the size\n",
    "plt.gcf().set_size_inches(0.5, 7)\n",
    "\n",
    "# Save legend as svg\n",
    "fig.savefig(\"../../figures/flowcam/spatial_legend.svg\", format=\"svg\", bbox_inches='tight')\n",
    "\n",
    "plt.show()"
   ]
  },
  {
   "cell_type": "markdown",
   "metadata": {},
   "source": [
    "## 3. What is the total microeukaryotic plankton biomass in the BPNS?"
   ]
  },
  {
   "attachments": {},
   "cell_type": "markdown",
   "metadata": {},
   "source": [
    "### Number of stations visited vs cell density"
   ]
  },
  {
   "cell_type": "code",
   "execution_count": 53,
   "metadata": {},
   "outputs": [
    {
     "data": {
      "text/plain": [
       "<AxesSubplot:xlabel='Year_month'>"
      ]
     },
     "execution_count": 53,
     "metadata": {},
     "output_type": "execute_result"
    },
    {
     "data": {
      "image/png": "[encoded data removed]",
      "text/plain": [
       "<Figure size 432x288 with 1 Axes>"
      ]
     },
     "metadata": {
      "needs_background": "light"
     },
     "output_type": "display_data"
    }
   ],
   "source": [
    "# Let's check the difference between sum of cell densities per L and average cell density per L\n",
    "data_FC.groupby('Year_month')['density_cell_L'].sum().plot(kind='bar', logy=True)"
   ]
  },
  {
   "cell_type": "code",
   "execution_count": 54,
   "metadata": {},
   "outputs": [
    {
     "data": {
      "text/plain": [
       "<AxesSubplot:xlabel='Year_month'>"
      ]
     },
     "execution_count": 54,
     "metadata": {},
     "output_type": "execute_result"
    },
    {
     "data": {
      "image/png": "[encoded data removed]",
      "text/plain": [
       "<Figure size 432x288 with 1 Axes>"
      ]
     },
     "metadata": {
      "needs_background": "light"
     },
     "output_type": "display_data"
    }
   ],
   "source": [
    "# Plot total number of particle counts per month\n",
    "data_FC.groupby('Year_month')['density_cell_L'].mean().plot(kind='bar', logy=True)"
   ]
  },
  {
   "cell_type": "code",
   "execution_count": 55,
   "metadata": {},
   "outputs": [
    {
     "data": {
      "text/plain": [
       "Year_month\n",
       "April_2021        4\n",
       "August_2020       6\n",
       "December_2020     6\n",
       "February_2021     6\n",
       "January_2021      5\n",
       "July_2020         4\n",
       "July_2021         5\n",
       "June_2021         6\n",
       "May_2021          6\n",
       "November_2020     4\n",
       "September_2020    6\n",
       "Name: Station, dtype: int64"
      ]
     },
     "execution_count": 55,
     "metadata": {},
     "output_type": "execute_result"
    }
   ],
   "source": [
    "# Does the total sum of cells per L differ vary a lot with the amount of visited stations?\n",
    "data_FC.groupby('Year_month')['Station'].nunique()"
   ]
  },
  {
   "attachments": {},
   "cell_type": "markdown",
   "metadata": {},
   "source": [
    "It is better to work with mean values! See for example the effect on April 2021."
   ]
  },
  {
   "attachments": {},
   "cell_type": "markdown",
   "metadata": {},
   "source": [
    "### Biomass"
   ]
  },
  {
   "attachments": {},
   "cell_type": "markdown",
   "metadata": {},
   "source": [
    "In this part, we'll try to obtain biomass estimates from FlowCam counts. This means we'll look at the average amount of cells per L, consisting of averaging the densities per L of all taxa.\n",
    "This averages the months together."
   ]
  },
  {
   "cell_type": "code",
   "execution_count": 56,
   "metadata": {},
   "outputs": [
    {
     "data": {
      "application/vnd.plotly.v1+json": {
       "config": {
        "plotlyServerURL": "https://plot.ly"
       },
       "data": [
        {
         "alignmentgroup": "True",
         "bingroup": "y",
         "histfunc": "sum",
         "hovertemplate": "sum of Average_Cells_L=%{x}<br>Year_month=%{y}<extra></extra>",
         "legendgroup": "",
         "marker": {
          "color": "#636efa",
          "pattern": {
           "shape": ""
          }
         },
         "name": "",
         "offsetgroup": "",
         "orientation": "h",
         "showlegend": false,
         "type": "histogram",
         "x": [
          487.54910610741103,
          573.9690911800313,
          65.79616745970883,
          54.56784889048693,
          94.34028523893414,
          3187.389269969921,
          3396.6123225934557,
          709.7881653615472,
          530.5742728721389,
          38.97470419673602,
          218.20258322225936
         ],
         "xaxis": "x",
         "y": [
          "April_2021",
          "August_2020",
          "December_2020",
          "February_2021",
          "January_2021",
          "July_2020",
          "July_2021",
          "June_2021",
          "May_2021",
          "November_2020",
          "September_2020"
         ],
         "yaxis": "y"
        }
       ],
       "layout": {
        "autosize": false,
        "barmode": "relative",
        "font": {
         "color": "#7f7f7f",
         "family": "Times New Roman, serif",
         "size": 12
        },
        "height": 350,
        "legend": {
         "tracegroupgap": 0
        },
        "margin": {
         "b": 25,
         "l": 0,
         "r": 25,
         "t": 25
        },
        "template": {
         "data": {
          "bar": [
           {
            "error_x": {
             "color": "#2a3f5f"
            },
            "error_y": {
             "color": "#2a3f5f"
            },
            "marker": {
             "line": {
              "color": "#E5ECF6",
              "width": 0.5
             },
             "pattern": {
              "fillmode": "overlay",
              "size": 10,
              "solidity": 0.2
             }
            },
            "type": "bar"
           }
          ],
          "barpolar": [
           {
            "marker": {
             "line": {
              "color": "#E5ECF6",
              "width": 0.5
             },
             "pattern": {
              "fillmode": "overlay",
              "size": 10,
              "solidity": 0.2
             }
            },
            "type": "barpolar"
           }
          ],
          "carpet": [
           {
            "aaxis": {
             "endlinecolor": "#2a3f5f",
             "gridcolor": "white",
             "linecolor": "white",
             "minorgridcolor": "white",
             "startlinecolor": "#2a3f5f"
            },
            "baxis": {
             "endlinecolor": "#2a3f5f",
             "gridcolor": "white",
             "linecolor": "white",
             "minorgridcolor": "white",
             "startlinecolor": "#2a3f5f"
            },
            "type": "carpet"
           }
          ],
          "choropleth": [
           {
            "colorbar": {
             "outlinewidth": 0,
             "ticks": ""
            },
            "type": "choropleth"
           }
          ],
          "contour": [
           {
            "colorbar": {
             "outlinewidth": 0,
             "ticks": ""
            },
            "colorscale": [
             [
              0,
              "#0d0887"
             ],
             [
              0.1111111111111111,
              "#46039f"
             ],
             [
              0.2222222222222222,
              "#7201a8"
             ],
             [
              0.3333333333333333,
              "#9c179e"
             ],
             [
              0.4444444444444444,
              "#bd3786"
             ],
             [
              0.5555555555555556,
              "#d8576b"
             ],
             [
              0.6666666666666666,
              "#ed7953"
             ],
             [
              0.7777777777777778,
              "#fb9f3a"
             ],
             [
              0.8888888888888888,
              "#fdca26"
             ],
             [
              1,
              "#f0f921"
             ]
            ],
            "type": "contour"
           }
          ],
          "contourcarpet": [
           {
            "colorbar": {
             "outlinewidth": 0,
             "ticks": ""
            },
            "type": "contourcarpet"
           }
          ],
          "heatmap": [
           {
            "colorbar": {
             "outlinewidth": 0,
             "ticks": ""
            },
            "colorscale": [
             [
              0,
              "#0d0887"
             ],
             [
              0.1111111111111111,
              "#46039f"
             ],
             [
              0.2222222222222222,
              "#7201a8"
             ],
             [
              0.3333333333333333,
              "#9c179e"
             ],
             [
              0.4444444444444444,
              "#bd3786"
             ],
             [
              0.5555555555555556,
              "#d8576b"
             ],
             [
              0.6666666666666666,
              "#ed7953"
             ],
             [
              0.7777777777777778,
              "#fb9f3a"
             ],
             [
              0.8888888888888888,
              "#fdca26"
             ],
             [
              1,
              "#f0f921"
             ]
            ],
            "type": "heatmap"
           }
          ],
          "heatmapgl": [
           {
            "colorbar": {
             "outlinewidth": 0,
             "ticks": ""
            },
            "colorscale": [
             [
              0,
              "#0d0887"
             ],
             [
              0.1111111111111111,
              "#46039f"
             ],
             [
              0.2222222222222222,
              "#7201a8"
             ],
             [
              0.3333333333333333,
              "#9c179e"
             ],
             [
              0.4444444444444444,
              "#bd3786"
             ],
             [
              0.5555555555555556,
              "#d8576b"
             ],
             [
              0.6666666666666666,
              "#ed7953"
             ],
             [
              0.7777777777777778,
              "#fb9f3a"
             ],
             [
              0.8888888888888888,
              "#fdca26"
             ],
             [
              1,
              "#f0f921"
             ]
            ],
            "type": "heatmapgl"
           }
          ],
          "histogram": [
           {
            "marker": {
             "pattern": {
              "fillmode": "overlay",
              "size": 10,
              "solidity": 0.2
             }
            },
            "type": "histogram"
           }
          ],
          "histogram2d": [
           {
            "colorbar": {
             "outlinewidth": 0,
             "ticks": ""
            },
            "colorscale": [
             [
              0,
              "#0d0887"
             ],
             [
              0.1111111111111111,
              "#46039f"
             ],
             [
              0.2222222222222222,
              "#7201a8"
             ],
             [
              0.3333333333333333,
              "#9c179e"
             ],
             [
              0.4444444444444444,
              "#bd3786"
             ],
             [
              0.5555555555555556,
              "#d8576b"
             ],
             [
              0.6666666666666666,
              "#ed7953"
             ],
             [
              0.7777777777777778,
              "#fb9f3a"
             ],
             [
              0.8888888888888888,
              "#fdca26"
             ],
             [
              1,
              "#f0f921"
             ]
            ],
            "type": "histogram2d"
           }
          ],
          "histogram2dcontour": [
           {
            "colorbar": {
             "outlinewidth": 0,
             "ticks": ""
            },
            "colorscale": [
             [
              0,
              "#0d0887"
             ],
             [
              0.1111111111111111,
              "#46039f"
             ],
             [
              0.2222222222222222,
              "#7201a8"
             ],
             [
              0.3333333333333333,
              "#9c179e"
             ],
             [
              0.4444444444444444,
              "#bd3786"
             ],
             [
              0.5555555555555556,
              "#d8576b"
             ],
             [
              0.6666666666666666,
              "#ed7953"
             ],
             [
              0.7777777777777778,
              "#fb9f3a"
             ],
             [
              0.8888888888888888,
              "#fdca26"
             ],
             [
              1,
              "#f0f921"
             ]
            ],
            "type": "histogram2dcontour"
           }
          ],
          "mesh3d": [
           {
            "colorbar": {
             "outlinewidth": 0,
             "ticks": ""
            },
            "type": "mesh3d"
           }
          ],
          "parcoords": [
           {
            "line": {
             "colorbar": {
              "outlinewidth": 0,
              "ticks": ""
             }
            },
            "type": "parcoords"
           }
          ],
          "pie": [
           {
            "automargin": true,
            "type": "pie"
           }
          ],
          "scatter": [
           {
            "marker": {
             "colorbar": {
              "outlinewidth": 0,
              "ticks": ""
             }
            },
            "type": "scatter"
           }
          ],
          "scatter3d": [
           {
            "line": {
             "colorbar": {
              "outlinewidth": 0,
              "ticks": ""
             }
            },
            "marker": {
             "colorbar": {
              "outlinewidth": 0,
              "ticks": ""
             }
            },
            "type": "scatter3d"
           }
          ],
          "scattercarpet": [
           {
            "marker": {
             "colorbar": {
              "outlinewidth": 0,
              "ticks": ""
             }
            },
            "type": "scattercarpet"
           }
          ],
          "scattergeo": [
           {
            "marker": {
             "colorbar": {
              "outlinewidth": 0,
              "ticks": ""
             }
            },
            "type": "scattergeo"
           }
          ],
          "scattergl": [
           {
            "marker": {
             "colorbar": {
              "outlinewidth": 0,
              "ticks": ""
             }
            },
            "type": "scattergl"
           }
          ],
          "scattermapbox": [
           {
            "marker": {
             "colorbar": {
              "outlinewidth": 0,
              "ticks": ""
             }
            },
            "type": "scattermapbox"
           }
          ],
          "scatterpolar": [
           {
            "marker": {
             "colorbar": {
              "outlinewidth": 0,
              "ticks": ""
             }
            },
            "type": "scatterpolar"
           }
          ],
          "scatterpolargl": [
           {
            "marker": {
             "colorbar": {
              "outlinewidth": 0,
              "ticks": ""
             }
            },
            "type": "scatterpolargl"
           }
          ],
          "scatterternary": [
           {
            "marker": {
             "colorbar": {
              "outlinewidth": 0,
              "ticks": ""
             }
            },
            "type": "scatterternary"
           }
          ],
          "surface": [
           {
            "colorbar": {
             "outlinewidth": 0,
             "ticks": ""
            },
            "colorscale": [
             [
              0,
              "#0d0887"
             ],
             [
              0.1111111111111111,
              "#46039f"
             ],
             [
              0.2222222222222222,
              "#7201a8"
             ],
             [
              0.3333333333333333,
              "#9c179e"
             ],
             [
              0.4444444444444444,
              "#bd3786"
             ],
             [
              0.5555555555555556,
              "#d8576b"
             ],
             [
              0.6666666666666666,
              "#ed7953"
             ],
             [
              0.7777777777777778,
              "#fb9f3a"
             ],
             [
              0.8888888888888888,
              "#fdca26"
             ],
             [
              1,
              "#f0f921"
             ]
            ],
            "type": "surface"
           }
          ],
          "table": [
           {
            "cells": {
             "fill": {
              "color": "#EBF0F8"
             },
             "line": {
              "color": "white"
             }
            },
            "header": {
             "fill": {
              "color": "#C8D4E3"
             },
             "line": {
              "color": "white"
             }
            },
            "type": "table"
           }
          ]
         },
         "layout": {
          "annotationdefaults": {
           "arrowcolor": "#2a3f5f",
           "arrowhead": 0,
           "arrowwidth": 1
          },
          "autotypenumbers": "strict",
          "coloraxis": {
           "colorbar": {
            "outlinewidth": 0,
            "ticks": ""
           }
          },
          "colorscale": {
           "diverging": [
            [
             0,
             "#8e0152"
            ],
            [
             0.1,
             "#c51b7d"
            ],
            [
             0.2,
             "#de77ae"
            ],
            [
             0.3,
             "#f1b6da"
            ],
            [
             0.4,
             "#fde0ef"
            ],
            [
             0.5,
             "#f7f7f7"
            ],
            [
             0.6,
             "#e6f5d0"
            ],
            [
             0.7,
             "#b8e186"
            ],
            [
             0.8,
             "#7fbc41"
            ],
            [
             0.9,
             "#4d9221"
            ],
            [
             1,
             "#276419"
            ]
           ],
           "sequential": [
            [
             0,
             "#0d0887"
            ],
            [
             0.1111111111111111,
             "#46039f"
            ],
            [
             0.2222222222222222,
             "#7201a8"
            ],
            [
             0.3333333333333333,
             "#9c179e"
            ],
            [
             0.4444444444444444,
             "#bd3786"
            ],
            [
             0.5555555555555556,
             "#d8576b"
            ],
            [
             0.6666666666666666,
             "#ed7953"
            ],
            [
             0.7777777777777778,
             "#fb9f3a"
            ],
            [
             0.8888888888888888,
             "#fdca26"
            ],
            [
             1,
             "#f0f921"
            ]
           ],
           "sequentialminus": [
            [
             0,
             "#0d0887"
            ],
            [
             0.1111111111111111,
             "#46039f"
            ],
            [
             0.2222222222222222,
             "#7201a8"
            ],
            [
             0.3333333333333333,
             "#9c179e"
            ],
            [
             0.4444444444444444,
             "#bd3786"
            ],
            [
             0.5555555555555556,
             "#d8576b"
            ],
            [
             0.6666666666666666,
             "#ed7953"
            ],
            [
             0.7777777777777778,
             "#fb9f3a"
            ],
            [
             0.8888888888888888,
             "#fdca26"
            ],
            [
             1,
             "#f0f921"
            ]
           ]
          },
          "colorway": [
           "#636efa",
           "#EF553B",
           "#00cc96",
           "#ab63fa",
           "#FFA15A",
           "#19d3f3",
           "#FF6692",
           "#B6E880",
           "#FF97FF",
           "#FECB52"
          ],
          "font": {
           "color": "#2a3f5f"
          },
          "geo": {
           "bgcolor": "white",
           "lakecolor": "white",
           "landcolor": "#E5ECF6",
           "showlakes": true,
           "showland": true,
           "subunitcolor": "white"
          },
          "hoverlabel": {
           "align": "left"
          },
          "hovermode": "closest",
          "mapbox": {
           "style": "light"
          },
          "paper_bgcolor": "white",
          "plot_bgcolor": "#E5ECF6",
          "polar": {
           "angularaxis": {
            "gridcolor": "white",
            "linecolor": "white",
            "ticks": ""
           },
           "bgcolor": "#E5ECF6",
           "radialaxis": {
            "gridcolor": "white",
            "linecolor": "white",
            "ticks": ""
           }
          },
          "scene": {
           "xaxis": {
            "backgroundcolor": "#E5ECF6",
            "gridcolor": "white",
            "gridwidth": 2,
            "linecolor": "white",
            "showbackground": true,
            "ticks": "",
            "zerolinecolor": "white"
           },
           "yaxis": {
            "backgroundcolor": "#E5ECF6",
            "gridcolor": "white",
            "gridwidth": 2,
            "linecolor": "white",
            "showbackground": true,
            "ticks": "",
            "zerolinecolor": "white"
           },
           "zaxis": {
            "backgroundcolor": "#E5ECF6",
            "gridcolor": "white",
            "gridwidth": 2,
            "linecolor": "white",
            "showbackground": true,
            "ticks": "",
            "zerolinecolor": "white"
           }
          },
          "shapedefaults": {
           "line": {
            "color": "#2a3f5f"
           }
          },
          "ternary": {
           "aaxis": {
            "gridcolor": "white",
            "linecolor": "white",
            "ticks": ""
           },
           "baxis": {
            "gridcolor": "white",
            "linecolor": "white",
            "ticks": ""
           },
           "bgcolor": "#E5ECF6",
           "caxis": {
            "gridcolor": "white",
            "linecolor": "white",
            "ticks": ""
           }
          },
          "title": {
           "x": 0.05
          },
          "xaxis": {
           "automargin": true,
           "gridcolor": "white",
           "linecolor": "white",
           "ticks": "",
           "title": {
            "standoff": 15
           },
           "zerolinecolor": "white",
           "zerolinewidth": 2
          },
          "yaxis": {
           "automargin": true,
           "gridcolor": "white",
           "linecolor": "white",
           "ticks": "",
           "title": {
            "standoff": 15
           },
           "zerolinecolor": "white",
           "zerolinewidth": 2
          }
         }
        },
        "title": {
         "text": "Average flowcam counts per L per month"
        },
        "width": 500,
        "xaxis": {
         "anchor": "y",
         "domain": [
          0,
          1
         ],
         "title": {
          "text": "Average number of particles per L"
         }
        },
        "yaxis": {
         "anchor": "x",
         "categoryarray": [
          "July_2021",
          "June_2021",
          "May_2021",
          "April_2021",
          "February_2021",
          "January_2021",
          "December_2020",
          "November_2020",
          "September_2020",
          "August_2020",
          "July_2020"
         ],
         "categoryorder": "array",
         "domain": [
          0,
          1
         ],
         "title": {
          "text": "Month"
         }
        }
       }
      }
     },
     "metadata": {},
     "output_type": "display_data"
    }
   ],
   "source": [
    "# Sum per month\n",
    "biomass = data_FC[['Year_month', 'density_cell_L']].groupby(['Year_month']).mean().reset_index()\n",
    "biomass = biomass.rename(columns={'density_cell_L': 'Average_Cells_L'})\n",
    "\n",
    "biomass['Year_month'] = pd.Categorical(biomass['Year_month'], [\"July_2020\", \"August_2020\", \"September_2020\", \n",
    "                                                        \"November_2020\", \"December_2020\", \"January_2021\", \n",
    "                                                        \"February_2021\", \"April_2021\", \"May_2021\", \n",
    "                                                        \"June_2021\", \"July_2021\"])\n",
    "\n",
    "# Create the figure\n",
    "fig = px.histogram(biomass, x = 'Average_Cells_L',\n",
    "            y=\"Year_month\", \n",
    "            orientation='h',\n",
    "            category_orders={\"Year_month\" : [\"July_2020\", \"August_2020\", \"September_2020\", \n",
    "                \"November_2020\", \"December_2020\", \"January_2021\", \n",
    "                \"February_2021\", \"April_2021\", \"May_2021\", \n",
    "                \"June_2021\", \"July_2021\"]\n",
    "            })\n",
    "\n",
    "fig.update_layout(\n",
    "    title=\"Average flowcam counts per L per month\",  # Set the chart title\n",
    "    xaxis_title=\"Average number of particles per L\",  # Set the x-axis title\n",
    "    yaxis_title=\"Month\",  # Set the y-axis title\n",
    "    font=dict(\n",
    "        family=\"Times New Roman, serif\",  # Set the font family to Times New Roman\n",
    "        size=12,  # Set the font size\n",
    "        color=\"#7f7f7f\"  # Set the font color\n",
    "    ),\n",
    "    autosize=False,\n",
    "    width=500,\n",
    "    height=350,\n",
    "    margin=dict( # Set the margins\n",
    "        l=0,  # Left margin\n",
    "        r=25,  # Right margin\n",
    "        b=25,  # Bottom margin\n",
    "        t=25  # Top margin\n",
    "    ),\n",
    "    xaxis_title_text='Average number of particles per L'\n",
    ")\n",
    "\n",
    "fig.show()\n",
    "\n",
    "# Save the figure\n",
    "fig.write_image('../../figures/flowcam/flowcam_biomass_mono.svg')"
   ]
  },
  {
   "cell_type": "code",
   "execution_count": 57,
   "metadata": {},
   "outputs": [
    {
     "data": {
      "application/vnd.plotly.v1+json": {
       "config": {
        "plotlyServerURL": "https://plot.ly"
       },
       "data": [
        {
         "alignmentgroup": "True",
         "hovertemplate": "Average_Cells_L=%{x}<br>Year_month=%{y}<extra></extra>",
         "legendgroup": "",
         "marker": {
          "color": "#636efa"
         },
         "name": "",
         "notched": false,
         "offsetgroup": "",
         "orientation": "h",
         "showlegend": false,
         "type": "box",
         "x": [
          487.54910610741103,
          573.9690911800313,
          65.79616745970883,
          54.56784889048693,
          94.34028523893414,
          3187.389269969921,
          3396.6123225934557,
          709.7881653615472,
          530.5742728721389,
          38.97470419673602,
          218.20258322225936
         ],
         "x0": " ",
         "xaxis": "x",
         "y": [
          "April_2021",
          "August_2020",
          "December_2020",
          "February_2021",
          "January_2021",
          "July_2020",
          "July_2021",
          "June_2021",
          "May_2021",
          "November_2020",
          "September_2020"
         ],
         "y0": " ",
         "yaxis": "y"
        }
       ],
       "layout": {
        "autosize": false,
        "boxmode": "group",
        "font": {
         "color": "#7f7f7f",
         "family": "Times New Roman, serif",
         "size": 18
        },
        "height": 700,
        "legend": {
         "tracegroupgap": 0
        },
        "margin": {
         "t": 60
        },
        "template": {
         "data": {
          "bar": [
           {
            "error_x": {
             "color": "#2a3f5f"
            },
            "error_y": {
             "color": "#2a3f5f"
            },
            "marker": {
             "line": {
              "color": "#E5ECF6",
              "width": 0.5
             },
             "pattern": {
              "fillmode": "overlay",
              "size": 10,
              "solidity": 0.2
             }
            },
            "type": "bar"
           }
          ],
          "barpolar": [
           {
            "marker": {
             "line": {
              "color": "#E5ECF6",
              "width": 0.5
             },
             "pattern": {
              "fillmode": "overlay",
              "size": 10,
              "solidity": 0.2
             }
            },
            "type": "barpolar"
           }
          ],
          "carpet": [
           {
            "aaxis": {
             "endlinecolor": "#2a3f5f",
             "gridcolor": "white",
             "linecolor": "white",
             "minorgridcolor": "white",
             "startlinecolor": "#2a3f5f"
            },
            "baxis": {
             "endlinecolor": "#2a3f5f",
             "gridcolor": "white",
             "linecolor": "white",
             "minorgridcolor": "white",
             "startlinecolor": "#2a3f5f"
            },
            "type": "carpet"
           }
          ],
          "choropleth": [
           {
            "colorbar": {
             "outlinewidth": 0,
             "ticks": ""
            },
            "type": "choropleth"
           }
          ],
          "contour": [
           {
            "colorbar": {
             "outlinewidth": 0,
             "ticks": ""
            },
            "colorscale": [
             [
              0,
              "#0d0887"
             ],
             [
              0.1111111111111111,
              "#46039f"
             ],
             [
              0.2222222222222222,
              "#7201a8"
             ],
             [
              0.3333333333333333,
              "#9c179e"
             ],
             [
              0.4444444444444444,
              "#bd3786"
             ],
             [
              0.5555555555555556,
              "#d8576b"
             ],
             [
              0.6666666666666666,
              "#ed7953"
             ],
             [
              0.7777777777777778,
              "#fb9f3a"
             ],
             [
              0.8888888888888888,
              "#fdca26"
             ],
             [
              1,
              "#f0f921"
             ]
            ],
            "type": "contour"
           }
          ],
          "contourcarpet": [
           {
            "colorbar": {
             "outlinewidth": 0,
             "ticks": ""
            },
            "type": "contourcarpet"
           }
          ],
          "heatmap": [
           {
            "colorbar": {
             "outlinewidth": 0,
             "ticks": ""
            },
            "colorscale": [
             [
              0,
              "#0d0887"
             ],
             [
              0.1111111111111111,
              "#46039f"
             ],
             [
              0.2222222222222222,
              "#7201a8"
             ],
             [
              0.3333333333333333,
              "#9c179e"
             ],
             [
              0.4444444444444444,
              "#bd3786"
             ],
             [
              0.5555555555555556,
              "#d8576b"
             ],
             [
              0.6666666666666666,
              "#ed7953"
             ],
             [
              0.7777777777777778,
              "#fb9f3a"
             ],
             [
              0.8888888888888888,
              "#fdca26"
             ],
             [
              1,
              "#f0f921"
             ]
            ],
            "type": "heatmap"
           }
          ],
          "heatmapgl": [
           {
            "colorbar": {
             "outlinewidth": 0,
             "ticks": ""
            },
            "colorscale": [
             [
              0,
              "#0d0887"
             ],
             [
              0.1111111111111111,
              "#46039f"
             ],
             [
              0.2222222222222222,
              "#7201a8"
             ],
             [
              0.3333333333333333,
              "#9c179e"
             ],
             [
              0.4444444444444444,
              "#bd3786"
             ],
             [
              0.5555555555555556,
              "#d8576b"
             ],
             [
              0.6666666666666666,
              "#ed7953"
             ],
             [
              0.7777777777777778,
              "#fb9f3a"
             ],
             [
              0.8888888888888888,
              "#fdca26"
             ],
             [
              1,
              "#f0f921"
             ]
            ],
            "type": "heatmapgl"
           }
          ],
          "histogram": [
           {
            "marker": {
             "pattern": {
              "fillmode": "overlay",
              "size": 10,
              "solidity": 0.2
             }
            },
            "type": "histogram"
           }
          ],
          "histogram2d": [
           {
            "colorbar": {
             "outlinewidth": 0,
             "ticks": ""
            },
            "colorscale": [
             [
              0,
              "#0d0887"
             ],
             [
              0.1111111111111111,
              "#46039f"
             ],
             [
              0.2222222222222222,
              "#7201a8"
             ],
             [
              0.3333333333333333,
              "#9c179e"
             ],
             [
              0.4444444444444444,
              "#bd3786"
             ],
             [
              0.5555555555555556,
              "#d8576b"
             ],
             [
              0.6666666666666666,
              "#ed7953"
             ],
             [
              0.7777777777777778,
              "#fb9f3a"
             ],
             [
              0.8888888888888888,
              "#fdca26"
             ],
             [
              1,
              "#f0f921"
             ]
            ],
            "type": "histogram2d"
           }
          ],
          "histogram2dcontour": [
           {
            "colorbar": {
             "outlinewidth": 0,
             "ticks": ""
            },
            "colorscale": [
             [
              0,
              "#0d0887"
             ],
             [
              0.1111111111111111,
              "#46039f"
             ],
             [
              0.2222222222222222,
              "#7201a8"
             ],
             [
              0.3333333333333333,
              "#9c179e"
             ],
             [
              0.4444444444444444,
              "#bd3786"
             ],
             [
              0.5555555555555556,
              "#d8576b"
             ],
             [
              0.6666666666666666,
              "#ed7953"
             ],
             [
              0.7777777777777778,
              "#fb9f3a"
             ],
             [
              0.8888888888888888,
              "#fdca26"
             ],
             [
              1,
              "#f0f921"
             ]
            ],
            "type": "histogram2dcontour"
           }
          ],
          "mesh3d": [
           {
            "colorbar": {
             "outlinewidth": 0,
             "ticks": ""
            },
            "type": "mesh3d"
           }
          ],
          "parcoords": [
           {
            "line": {
             "colorbar": {
              "outlinewidth": 0,
              "ticks": ""
             }
            },
            "type": "parcoords"
           }
          ],
          "pie": [
           {
            "automargin": true,
            "type": "pie"
           }
          ],
          "scatter": [
           {
            "marker": {
             "colorbar": {
              "outlinewidth": 0,
              "ticks": ""
             }
            },
            "type": "scatter"
           }
          ],
          "scatter3d": [
           {
            "line": {
             "colorbar": {
              "outlinewidth": 0,
              "ticks": ""
             }
            },
            "marker": {
             "colorbar": {
              "outlinewidth": 0,
              "ticks": ""
             }
            },
            "type": "scatter3d"
           }
          ],
          "scattercarpet": [
           {
            "marker": {
             "colorbar": {
              "outlinewidth": 0,
              "ticks": ""
             }
            },
            "type": "scattercarpet"
           }
          ],
          "scattergeo": [
           {
            "marker": {
             "colorbar": {
              "outlinewidth": 0,
              "ticks": ""
             }
            },
            "type": "scattergeo"
           }
          ],
          "scattergl": [
           {
            "marker": {
             "colorbar": {
              "outlinewidth": 0,
              "ticks": ""
             }
            },
            "type": "scattergl"
           }
          ],
          "scattermapbox": [
           {
            "marker": {
             "colorbar": {
              "outlinewidth": 0,
              "ticks": ""
             }
            },
            "type": "scattermapbox"
           }
          ],
          "scatterpolar": [
           {
            "marker": {
             "colorbar": {
              "outlinewidth": 0,
              "ticks": ""
             }
            },
            "type": "scatterpolar"
           }
          ],
          "scatterpolargl": [
           {
            "marker": {
             "colorbar": {
              "outlinewidth": 0,
              "ticks": ""
             }
            },
            "type": "scatterpolargl"
           }
          ],
          "scatterternary": [
           {
            "marker": {
             "colorbar": {
              "outlinewidth": 0,
              "ticks": ""
             }
            },
            "type": "scatterternary"
           }
          ],
          "surface": [
           {
            "colorbar": {
             "outlinewidth": 0,
             "ticks": ""
            },
            "colorscale": [
             [
              0,
              "#0d0887"
             ],
             [
              0.1111111111111111,
              "#46039f"
             ],
             [
              0.2222222222222222,
              "#7201a8"
             ],
             [
              0.3333333333333333,
              "#9c179e"
             ],
             [
              0.4444444444444444,
              "#bd3786"
             ],
             [
              0.5555555555555556,
              "#d8576b"
             ],
             [
              0.6666666666666666,
              "#ed7953"
             ],
             [
              0.7777777777777778,
              "#fb9f3a"
             ],
             [
              0.8888888888888888,
              "#fdca26"
             ],
             [
              1,
              "#f0f921"
             ]
            ],
            "type": "surface"
           }
          ],
          "table": [
           {
            "cells": {
             "fill": {
              "color": "#EBF0F8"
             },
             "line": {
              "color": "white"
             }
            },
            "header": {
             "fill": {
              "color": "#C8D4E3"
             },
             "line": {
              "color": "white"
             }
            },
            "type": "table"
           }
          ]
         },
         "layout": {
          "annotationdefaults": {
           "arrowcolor": "#2a3f5f",
           "arrowhead": 0,
           "arrowwidth": 1
          },
          "autotypenumbers": "strict",
          "coloraxis": {
           "colorbar": {
            "outlinewidth": 0,
            "ticks": ""
           }
          },
          "colorscale": {
           "diverging": [
            [
             0,
             "#8e0152"
            ],
            [
             0.1,
             "#c51b7d"
            ],
            [
             0.2,
             "#de77ae"
            ],
            [
             0.3,
             "#f1b6da"
            ],
            [
             0.4,
             "#fde0ef"
            ],
            [
             0.5,
             "#f7f7f7"
            ],
            [
             0.6,
             "#e6f5d0"
            ],
            [
             0.7,
             "#b8e186"
            ],
            [
             0.8,
             "#7fbc41"
            ],
            [
             0.9,
             "#4d9221"
            ],
            [
             1,
             "#276419"
            ]
           ],
           "sequential": [
            [
             0,
             "#0d0887"
            ],
            [
             0.1111111111111111,
             "#46039f"
            ],
            [
             0.2222222222222222,
             "#7201a8"
            ],
            [
             0.3333333333333333,
             "#9c179e"
            ],
            [
             0.4444444444444444,
             "#bd3786"
            ],
            [
             0.5555555555555556,
             "#d8576b"
            ],
            [
             0.6666666666666666,
             "#ed7953"
            ],
            [
             0.7777777777777778,
             "#fb9f3a"
            ],
            [
             0.8888888888888888,
             "#fdca26"
            ],
            [
             1,
             "#f0f921"
            ]
           ],
           "sequentialminus": [
            [
             0,
             "#0d0887"
            ],
            [
             0.1111111111111111,
             "#46039f"
            ],
            [
             0.2222222222222222,
             "#7201a8"
            ],
            [
             0.3333333333333333,
             "#9c179e"
            ],
            [
             0.4444444444444444,
             "#bd3786"
            ],
            [
             0.5555555555555556,
             "#d8576b"
            ],
            [
             0.6666666666666666,
             "#ed7953"
            ],
            [
             0.7777777777777778,
             "#fb9f3a"
            ],
            [
             0.8888888888888888,
             "#fdca26"
            ],
            [
             1,
             "#f0f921"
            ]
           ]
          },
          "colorway": [
           "#636efa",
           "#EF553B",
           "#00cc96",
           "#ab63fa",
           "#FFA15A",
           "#19d3f3",
           "#FF6692",
           "#B6E880",
           "#FF97FF",
           "#FECB52"
          ],
          "font": {
           "color": "#2a3f5f"
          },
          "geo": {
           "bgcolor": "white",
           "lakecolor": "white",
           "landcolor": "#E5ECF6",
           "showlakes": true,
           "showland": true,
           "subunitcolor": "white"
          },
          "hoverlabel": {
           "align": "left"
          },
          "hovermode": "closest",
          "mapbox": {
           "style": "light"
          },
          "paper_bgcolor": "white",
          "plot_bgcolor": "#E5ECF6",
          "polar": {
           "angularaxis": {
            "gridcolor": "white",
            "linecolor": "white",
            "ticks": ""
           },
           "bgcolor": "#E5ECF6",
           "radialaxis": {
            "gridcolor": "white",
            "linecolor": "white",
            "ticks": ""
           }
          },
          "scene": {
           "xaxis": {
            "backgroundcolor": "#E5ECF6",
            "gridcolor": "white",
            "gridwidth": 2,
            "linecolor": "white",
            "showbackground": true,
            "ticks": "",
            "zerolinecolor": "white"
           },
           "yaxis": {
            "backgroundcolor": "#E5ECF6",
            "gridcolor": "white",
            "gridwidth": 2,
            "linecolor": "white",
            "showbackground": true,
            "ticks": "",
            "zerolinecolor": "white"
           },
           "zaxis": {
            "backgroundcolor": "#E5ECF6",
            "gridcolor": "white",
            "gridwidth": 2,
            "linecolor": "white",
            "showbackground": true,
            "ticks": "",
            "zerolinecolor": "white"
           }
          },
          "shapedefaults": {
           "line": {
            "color": "#2a3f5f"
           }
          },
          "ternary": {
           "aaxis": {
            "gridcolor": "white",
            "linecolor": "white",
            "ticks": ""
           },
           "baxis": {
            "gridcolor": "white",
            "linecolor": "white",
            "ticks": ""
           },
           "bgcolor": "#E5ECF6",
           "caxis": {
            "gridcolor": "white",
            "linecolor": "white",
            "ticks": ""
           }
          },
          "title": {
           "x": 0.05
          },
          "xaxis": {
           "automargin": true,
           "gridcolor": "white",
           "linecolor": "white",
           "ticks": "",
           "title": {
            "standoff": 15
           },
           "zerolinecolor": "white",
           "zerolinewidth": 2
          },
          "yaxis": {
           "automargin": true,
           "gridcolor": "white",
           "linecolor": "white",
           "ticks": "",
           "title": {
            "standoff": 15
           },
           "zerolinecolor": "white",
           "zerolinewidth": 2
          }
         }
        },
        "title": {
         "text": "Average flowcam counts per L per month"
        },
        "width": 900,
        "xaxis": {
         "anchor": "y",
         "domain": [
          0,
          1
         ],
         "title": {
          "text": "Average number of particles per L"
         }
        },
        "yaxis": {
         "anchor": "x",
         "categoryarray": [
          "July_2021",
          "June_2021",
          "May_2021",
          "April_2021",
          "February_2021",
          "January_2021",
          "December_2020",
          "November_2020",
          "September_2020",
          "August_2020",
          "July_2020"
         ],
         "categoryorder": "array",
         "domain": [
          0,
          1
         ],
         "title": {
          "text": "Month"
         }
        }
       }
      }
     },
     "metadata": {},
     "output_type": "display_data"
    }
   ],
   "source": [
    "# Create the figure\n",
    "fig = px.box(biomass, x = 'Average_Cells_L',\n",
    "            y=\"Year_month\", \n",
    "            orientation='h',\n",
    "            category_orders={\"Year_month\" : [\"July_2020\", \"August_2020\", \"September_2020\", \n",
    "                \"November_2020\", \"December_2020\", \"January_2021\", \n",
    "                \"February_2021\", \"April_2021\", \"May_2021\", \n",
    "                \"June_2021\", \"July_2021\"]\n",
    "            })\n",
    "\n",
    "fig.update_layout(\n",
    "    title=\"Average flowcam counts per L per month\",  # Set the chart title\n",
    "    xaxis_title=\"Average number of particles per L\",  # Set the x-axis title\n",
    "    yaxis_title=\"Month\",  # Set the y-axis title\n",
    "    font=dict(\n",
    "        family=\"Times New Roman, serif\",  # Set the font family to Times New Roman\n",
    "        size=18,  # Set the font size\n",
    "        color=\"#7f7f7f\"  # Set the font color\n",
    "    ),\n",
    "    autosize=False,\n",
    "    width=900,\n",
    "    height=700,\n",
    "    xaxis_title_text='Average number of particles per L'\n",
    ")\n",
    "\n",
    "fig.show()"
   ]
  },
  {
   "cell_type": "code",
   "execution_count": 58,
   "metadata": {},
   "outputs": [
    {
     "data": {
      "application/vnd.plotly.v1+json": {
       "config": {
        "plotlyServerURL": "https://plot.ly"
       },
       "data": [
        {
         "alignmentgroup": "True",
         "bingroup": "y",
         "histfunc": "sum",
         "hovertemplate": "Station=120<br>sum of Average_Cells_L=%{x}<br>Year_month=%{y}<extra></extra>",
         "legendgroup": "120",
         "marker": {
          "color": "#636efa",
          "pattern": {
           "shape": ""
          }
         },
         "name": "120",
         "offsetgroup": "120",
         "orientation": "h",
         "showlegend": true,
         "type": "histogram",
         "x": [
          614.0956251913252,
          279.3560886770523,
          50.854809093534655,
          36.1189306509928,
          7225.684535441331,
          564.1395755143787,
          119.90739350323241,
          20.51407930210364,
          309.52244150172726
         ],
         "xaxis": "x",
         "y": [
          "April_2021",
          "August_2020",
          "December_2020",
          "February_2021",
          "July_2020",
          "June_2021",
          "May_2021",
          "November_2020",
          "September_2020"
         ],
         "yaxis": "y"
        },
        {
         "alignmentgroup": "True",
         "bingroup": "y",
         "histfunc": "sum",
         "hovertemplate": "Station=130<br>sum of Average_Cells_L=%{x}<br>Year_month=%{y}<extra></extra>",
         "legendgroup": "130",
         "marker": {
          "color": "#EF553B",
          "pattern": {
           "shape": ""
          }
         },
         "name": "130",
         "offsetgroup": "130",
         "orientation": "h",
         "showlegend": true,
         "type": "histogram",
         "x": [
          893.9661485468494,
          962.0897425430439,
          53.90952475677659,
          87.73894917117028,
          14.956718863842529,
          2367.7336465585495,
          793.3362658752118,
          107.25965562598111,
          7063.32417187861,
          314.29570140702594
         ],
         "xaxis": "x",
         "y": [
          "April_2021",
          "August_2020",
          "December_2020",
          "February_2021",
          "January_2021",
          "July_2020",
          "July_2021",
          "June_2021",
          "May_2021",
          "September_2020"
         ],
         "yaxis": "y"
        },
        {
         "alignmentgroup": "True",
         "bingroup": "y",
         "histfunc": "sum",
         "hovertemplate": "Station=330<br>sum of Average_Cells_L=%{x}<br>Year_month=%{y}<extra></extra>",
         "legendgroup": "330",
         "marker": {
          "color": "#00cc96",
          "pattern": {
           "shape": ""
          }
         },
         "name": "330",
         "offsetgroup": "330",
         "orientation": "h",
         "showlegend": true,
         "type": "histogram",
         "x": [
          328.79021586844715,
          250.8752278285737,
          34.52354708283394,
          40.59872593495876,
          8.156771831524296,
          1642.4673332720365,
          1599.5360092364538,
          31.047027955697413,
          55.273253366965015,
          340.99992093915785
         ],
         "xaxis": "x",
         "y": [
          "April_2021",
          "August_2020",
          "December_2020",
          "February_2021",
          "January_2021",
          "July_2021",
          "June_2021",
          "May_2021",
          "November_2020",
          "September_2020"
         ],
         "yaxis": "y"
        },
        {
         "alignmentgroup": "True",
         "bingroup": "y",
         "histfunc": "sum",
         "hovertemplate": "Station=ZG02<br>sum of Average_Cells_L=%{x}<br>Year_month=%{y}<extra></extra>",
         "legendgroup": "ZG02",
         "marker": {
          "color": "#ab63fa",
          "pattern": {
           "shape": ""
          }
         },
         "name": "ZG02",
         "offsetgroup": "ZG02",
         "orientation": "h",
         "showlegend": true,
         "type": "histogram",
         "x": [
          132.36600001095593,
          1694.4132225779845,
          34.33484655055181,
          123.58030925106331,
          12.049578025491083,
          10169.858309307587,
          2056.106667382378,
          13.44217067814516,
          81.57844483489943,
          72.35837365082176
         ],
         "xaxis": "x",
         "y": [
          "April_2021",
          "August_2020",
          "December_2020",
          "February_2021",
          "January_2021",
          "July_2021",
          "June_2021",
          "May_2021",
          "November_2020",
          "September_2020"
         ],
         "yaxis": "y"
        },
        {
         "alignmentgroup": "True",
         "bingroup": "y",
         "histfunc": "sum",
         "hovertemplate": "Station=700<br>sum of Average_Cells_L=%{x}<br>Year_month=%{y}<extra></extra>",
         "legendgroup": "700",
         "marker": {
          "color": "#FFA15A",
          "pattern": {
           "shape": ""
          }
         },
         "name": "700",
         "offsetgroup": "700",
         "orientation": "h",
         "showlegend": true,
         "type": "histogram",
         "x": [
          367.3717071192835,
          182.26899019165165,
          38.46039055339103,
          380.3610389243936,
          362.1762607455035,
          546.9911401372815,
          152.62412529736392,
          57.06469853781704,
          216.05248678791875
         ],
         "xaxis": "x",
         "y": [
          "August_2020",
          "December_2020",
          "February_2021",
          "January_2021",
          "July_2020",
          "July_2021",
          "June_2021",
          "May_2021",
          "September_2020"
         ],
         "yaxis": "y"
        },
        {
         "alignmentgroup": "True",
         "bingroup": "y",
         "histfunc": "sum",
         "hovertemplate": "Station=780<br>sum of Average_Cells_L=%{x}<br>Year_month=%{y}<extra></extra>",
         "legendgroup": "780",
         "marker": {
          "color": "#19d3f3",
          "pattern": {
           "shape": ""
          }
         },
         "name": "780",
         "offsetgroup": "780",
         "orientation": "h",
         "showlegend": true,
         "type": "histogram",
         "x": [
          126.09621737729474,
          22.501750250097935,
          16.253623037908703,
          37.984238883321495,
          5087.140591153802,
          7304.677791483297,
          427.20669447773,
          150.0241788387292,
          15.024188990211414,
          94.91691447932293
         ],
         "xaxis": "x",
         "y": [
          "August_2020",
          "December_2020",
          "February_2021",
          "January_2021",
          "July_2020",
          "July_2021",
          "June_2021",
          "May_2021",
          "November_2020",
          "September_2020"
         ],
         "yaxis": "y"
        }
       ],
       "layout": {
        "autosize": false,
        "barmode": "group",
        "font": {
         "color": "#7f7f7f",
         "family": "Times New Roman, serif",
         "size": 8
        },
        "height": 283.4645669291338,
        "legend": {
         "title": {
          "text": "Station"
         },
         "tracegroupgap": 0
        },
        "margin": {
         "t": 60
        },
        "template": {
         "data": {
          "bar": [
           {
            "error_x": {
             "color": "#2a3f5f"
            },
            "error_y": {
             "color": "#2a3f5f"
            },
            "marker": {
             "line": {
              "color": "#E5ECF6",
              "width": 0.5
             },
             "pattern": {
              "fillmode": "overlay",
              "size": 10,
              "solidity": 0.2
             }
            },
            "type": "bar"
           }
          ],
          "barpolar": [
           {
            "marker": {
             "line": {
              "color": "#E5ECF6",
              "width": 0.5
             },
             "pattern": {
              "fillmode": "overlay",
              "size": 10,
              "solidity": 0.2
             }
            },
            "type": "barpolar"
           }
          ],
          "carpet": [
           {
            "aaxis": {
             "endlinecolor": "#2a3f5f",
             "gridcolor": "white",
             "linecolor": "white",
             "minorgridcolor": "white",
             "startlinecolor": "#2a3f5f"
            },
            "baxis": {
             "endlinecolor": "#2a3f5f",
             "gridcolor": "white",
             "linecolor": "white",
             "minorgridcolor": "white",
             "startlinecolor": "#2a3f5f"
            },
            "type": "carpet"
           }
          ],
          "choropleth": [
           {
            "colorbar": {
             "outlinewidth": 0,
             "ticks": ""
            },
            "type": "choropleth"
           }
          ],
          "contour": [
           {
            "colorbar": {
             "outlinewidth": 0,
             "ticks": ""
            },
            "colorscale": [
             [
              0,
              "#0d0887"
             ],
             [
              0.1111111111111111,
              "#46039f"
             ],
             [
              0.2222222222222222,
              "#7201a8"
             ],
             [
              0.3333333333333333,
              "#9c179e"
             ],
             [
              0.4444444444444444,
              "#bd3786"
             ],
             [
              0.5555555555555556,
              "#d8576b"
             ],
             [
              0.6666666666666666,
              "#ed7953"
             ],
             [
              0.7777777777777778,
              "#fb9f3a"
             ],
             [
              0.8888888888888888,
              "#fdca26"
             ],
             [
              1,
              "#f0f921"
             ]
            ],
            "type": "contour"
           }
          ],
          "contourcarpet": [
           {
            "colorbar": {
             "outlinewidth": 0,
             "ticks": ""
            },
            "type": "contourcarpet"
           }
          ],
          "heatmap": [
           {
            "colorbar": {
             "outlinewidth": 0,
             "ticks": ""
            },
            "colorscale": [
             [
              0,
              "#0d0887"
             ],
             [
              0.1111111111111111,
              "#46039f"
             ],
             [
              0.2222222222222222,
              "#7201a8"
             ],
             [
              0.3333333333333333,
              "#9c179e"
             ],
             [
              0.4444444444444444,
              "#bd3786"
             ],
             [
              0.5555555555555556,
              "#d8576b"
             ],
             [
              0.6666666666666666,
              "#ed7953"
             ],
             [
              0.7777777777777778,
              "#fb9f3a"
             ],
             [
              0.8888888888888888,
              "#fdca26"
             ],
             [
              1,
              "#f0f921"
             ]
            ],
            "type": "heatmap"
           }
          ],
          "heatmapgl": [
           {
            "colorbar": {
             "outlinewidth": 0,
             "ticks": ""
            },
            "colorscale": [
             [
              0,
              "#0d0887"
             ],
             [
              0.1111111111111111,
              "#46039f"
             ],
             [
              0.2222222222222222,
              "#7201a8"
             ],
             [
              0.3333333333333333,
              "#9c179e"
             ],
             [
              0.4444444444444444,
              "#bd3786"
             ],
             [
              0.5555555555555556,
              "#d8576b"
             ],
             [
              0.6666666666666666,
              "#ed7953"
             ],
             [
              0.7777777777777778,
              "#fb9f3a"
             ],
             [
              0.8888888888888888,
              "#fdca26"
             ],
             [
              1,
              "#f0f921"
             ]
            ],
            "type": "heatmapgl"
           }
          ],
          "histogram": [
           {
            "marker": {
             "pattern": {
              "fillmode": "overlay",
              "size": 10,
              "solidity": 0.2
             }
            },
            "type": "histogram"
           }
          ],
          "histogram2d": [
           {
            "colorbar": {
             "outlinewidth": 0,
             "ticks": ""
            },
            "colorscale": [
             [
              0,
              "#0d0887"
             ],
             [
              0.1111111111111111,
              "#46039f"
             ],
             [
              0.2222222222222222,
              "#7201a8"
             ],
             [
              0.3333333333333333,
              "#9c179e"
             ],
             [
              0.4444444444444444,
              "#bd3786"
             ],
             [
              0.5555555555555556,
              "#d8576b"
             ],
             [
              0.6666666666666666,
              "#ed7953"
             ],
             [
              0.7777777777777778,
              "#fb9f3a"
             ],
             [
              0.8888888888888888,
              "#fdca26"
             ],
             [
              1,
              "#f0f921"
             ]
            ],
            "type": "histogram2d"
           }
          ],
          "histogram2dcontour": [
           {
            "colorbar": {
             "outlinewidth": 0,
             "ticks": ""
            },
            "colorscale": [
             [
              0,
              "#0d0887"
             ],
             [
              0.1111111111111111,
              "#46039f"
             ],
             [
              0.2222222222222222,
              "#7201a8"
             ],
             [
              0.3333333333333333,
              "#9c179e"
             ],
             [
              0.4444444444444444,
              "#bd3786"
             ],
             [
              0.5555555555555556,
              "#d8576b"
             ],
             [
              0.6666666666666666,
              "#ed7953"
             ],
             [
              0.7777777777777778,
              "#fb9f3a"
             ],
             [
              0.8888888888888888,
              "#fdca26"
             ],
             [
              1,
              "#f0f921"
             ]
            ],
            "type": "histogram2dcontour"
           }
          ],
          "mesh3d": [
           {
            "colorbar": {
             "outlinewidth": 0,
             "ticks": ""
            },
            "type": "mesh3d"
           }
          ],
          "parcoords": [
           {
            "line": {
             "colorbar": {
              "outlinewidth": 0,
              "ticks": ""
             }
            },
            "type": "parcoords"
           }
          ],
          "pie": [
           {
            "automargin": true,
            "type": "pie"
           }
          ],
          "scatter": [
           {
            "marker": {
             "colorbar": {
              "outlinewidth": 0,
              "ticks": ""
             }
            },
            "type": "scatter"
           }
          ],
          "scatter3d": [
           {
            "line": {
             "colorbar": {
              "outlinewidth": 0,
              "ticks": ""
             }
            },
            "marker": {
             "colorbar": {
              "outlinewidth": 0,
              "ticks": ""
             }
            },
            "type": "scatter3d"
           }
          ],
          "scattercarpet": [
           {
            "marker": {
             "colorbar": {
              "outlinewidth": 0,
              "ticks": ""
             }
            },
            "type": "scattercarpet"
           }
          ],
          "scattergeo": [
           {
            "marker": {
             "colorbar": {
              "outlinewidth": 0,
              "ticks": ""
             }
            },
            "type": "scattergeo"
           }
          ],
          "scattergl": [
           {
            "marker": {
             "colorbar": {
              "outlinewidth": 0,
              "ticks": ""
             }
            },
            "type": "scattergl"
           }
          ],
          "scattermapbox": [
           {
            "marker": {
             "colorbar": {
              "outlinewidth": 0,
              "ticks": ""
             }
            },
            "type": "scattermapbox"
           }
          ],
          "scatterpolar": [
           {
            "marker": {
             "colorbar": {
              "outlinewidth": 0,
              "ticks": ""
             }
            },
            "type": "scatterpolar"
           }
          ],
          "scatterpolargl": [
           {
            "marker": {
             "colorbar": {
              "outlinewidth": 0,
              "ticks": ""
             }
            },
            "type": "scatterpolargl"
           }
          ],
          "scatterternary": [
           {
            "marker": {
             "colorbar": {
              "outlinewidth": 0,
              "ticks": ""
             }
            },
            "type": "scatterternary"
           }
          ],
          "surface": [
           {
            "colorbar": {
             "outlinewidth": 0,
             "ticks": ""
            },
            "colorscale": [
             [
              0,
              "#0d0887"
             ],
             [
              0.1111111111111111,
              "#46039f"
             ],
             [
              0.2222222222222222,
              "#7201a8"
             ],
             [
              0.3333333333333333,
              "#9c179e"
             ],
             [
              0.4444444444444444,
              "#bd3786"
             ],
             [
              0.5555555555555556,
              "#d8576b"
             ],
             [
              0.6666666666666666,
              "#ed7953"
             ],
             [
              0.7777777777777778,
              "#fb9f3a"
             ],
             [
              0.8888888888888888,
              "#fdca26"
             ],
             [
              1,
              "#f0f921"
             ]
            ],
            "type": "surface"
           }
          ],
          "table": [
           {
            "cells": {
             "fill": {
              "color": "#EBF0F8"
             },
             "line": {
              "color": "white"
             }
            },
            "header": {
             "fill": {
              "color": "#C8D4E3"
             },
             "line": {
              "color": "white"
             }
            },
            "type": "table"
           }
          ]
         },
         "layout": {
          "annotationdefaults": {
           "arrowcolor": "#2a3f5f",
           "arrowhead": 0,
           "arrowwidth": 1
          },
          "autotypenumbers": "strict",
          "coloraxis": {
           "colorbar": {
            "outlinewidth": 0,
            "ticks": ""
           }
          },
          "colorscale": {
           "diverging": [
            [
             0,
             "#8e0152"
            ],
            [
             0.1,
             "#c51b7d"
            ],
            [
             0.2,
             "#de77ae"
            ],
            [
             0.3,
             "#f1b6da"
            ],
            [
             0.4,
             "#fde0ef"
            ],
            [
             0.5,
             "#f7f7f7"
            ],
            [
             0.6,
             "#e6f5d0"
            ],
            [
             0.7,
             "#b8e186"
            ],
            [
             0.8,
             "#7fbc41"
            ],
            [
             0.9,
             "#4d9221"
            ],
            [
             1,
             "#276419"
            ]
           ],
           "sequential": [
            [
             0,
             "#0d0887"
            ],
            [
             0.1111111111111111,
             "#46039f"
            ],
            [
             0.2222222222222222,
             "#7201a8"
            ],
            [
             0.3333333333333333,
             "#9c179e"
            ],
            [
             0.4444444444444444,
             "#bd3786"
            ],
            [
             0.5555555555555556,
             "#d8576b"
            ],
            [
             0.6666666666666666,
             "#ed7953"
            ],
            [
             0.7777777777777778,
             "#fb9f3a"
            ],
            [
             0.8888888888888888,
             "#fdca26"
            ],
            [
             1,
             "#f0f921"
            ]
           ],
           "sequentialminus": [
            [
             0,
             "#0d0887"
            ],
            [
             0.1111111111111111,
             "#46039f"
            ],
            [
             0.2222222222222222,
             "#7201a8"
            ],
            [
             0.3333333333333333,
             "#9c179e"
            ],
            [
             0.4444444444444444,
             "#bd3786"
            ],
            [
             0.5555555555555556,
             "#d8576b"
            ],
            [
             0.6666666666666666,
             "#ed7953"
            ],
            [
             0.7777777777777778,
             "#fb9f3a"
            ],
            [
             0.8888888888888888,
             "#fdca26"
            ],
            [
             1,
             "#f0f921"
            ]
           ]
          },
          "colorway": [
           "#636efa",
           "#EF553B",
           "#00cc96",
           "#ab63fa",
           "#FFA15A",
           "#19d3f3",
           "#FF6692",
           "#B6E880",
           "#FF97FF",
           "#FECB52"
          ],
          "font": {
           "color": "#2a3f5f"
          },
          "geo": {
           "bgcolor": "white",
           "lakecolor": "white",
           "landcolor": "#E5ECF6",
           "showlakes": true,
           "showland": true,
           "subunitcolor": "white"
          },
          "hoverlabel": {
           "align": "left"
          },
          "hovermode": "closest",
          "mapbox": {
           "style": "light"
          },
          "paper_bgcolor": "white",
          "plot_bgcolor": "#E5ECF6",
          "polar": {
           "angularaxis": {
            "gridcolor": "white",
            "linecolor": "white",
            "ticks": ""
           },
           "bgcolor": "#E5ECF6",
           "radialaxis": {
            "gridcolor": "white",
            "linecolor": "white",
            "ticks": ""
           }
          },
          "scene": {
           "xaxis": {
            "backgroundcolor": "#E5ECF6",
            "gridcolor": "white",
            "gridwidth": 2,
            "linecolor": "white",
            "showbackground": true,
            "ticks": "",
            "zerolinecolor": "white"
           },
           "yaxis": {
            "backgroundcolor": "#E5ECF6",
            "gridcolor": "white",
            "gridwidth": 2,
            "linecolor": "white",
            "showbackground": true,
            "ticks": "",
            "zerolinecolor": "white"
           },
           "zaxis": {
            "backgroundcolor": "#E5ECF6",
            "gridcolor": "white",
            "gridwidth": 2,
            "linecolor": "white",
            "showbackground": true,
            "ticks": "",
            "zerolinecolor": "white"
           }
          },
          "shapedefaults": {
           "line": {
            "color": "#2a3f5f"
           }
          },
          "ternary": {
           "aaxis": {
            "gridcolor": "white",
            "linecolor": "white",
            "ticks": ""
           },
           "baxis": {
            "gridcolor": "white",
            "linecolor": "white",
            "ticks": ""
           },
           "bgcolor": "#E5ECF6",
           "caxis": {
            "gridcolor": "white",
            "linecolor": "white",
            "ticks": ""
           }
          },
          "title": {
           "x": 0.05
          },
          "xaxis": {
           "automargin": true,
           "gridcolor": "white",
           "linecolor": "white",
           "ticks": "",
           "title": {
            "standoff": 15
           },
           "zerolinecolor": "white",
           "zerolinewidth": 2
          },
          "yaxis": {
           "automargin": true,
           "gridcolor": "white",
           "linecolor": "white",
           "ticks": "",
           "title": {
            "standoff": 15
           },
           "zerolinecolor": "white",
           "zerolinewidth": 2
          }
         }
        },
        "width": 321.25984251968504,
        "xaxis": {
         "anchor": "y",
         "domain": [
          0,
          1
         ],
         "title": {
          "text": "Average number of cells per L"
         }
        },
        "yaxis": {
         "anchor": "x",
         "categoryarray": [
          "July_2021",
          "June_2021",
          "May_2021",
          "April_2021",
          "February_2021",
          "January_2021",
          "December_2020",
          "November_2020",
          "September_2020",
          "August_2020",
          "July_2020"
         ],
         "categoryorder": "array",
         "domain": [
          0,
          1
         ],
         "title": {
          "text": "Month"
         }
        }
       }
      }
     },
     "metadata": {},
     "output_type": "display_data"
    }
   ],
   "source": [
    "pixels_per_cm = 37.79527559055118\n",
    "\n",
    "# Average per month\n",
    "biomass = data_FC[['Year_month', 'Station', 'density_cell_L']].groupby(['Year_month', 'Station']).mean().reset_index()\n",
    "biomass = biomass.rename(columns={'density_cell_L': 'Average_Cells_L'})\n",
    "\n",
    "biomass['Year_month'] = pd.Categorical(biomass['Year_month'], [\"July_2020\", \"August_2020\", \"September_2020\", \n",
    "                                                        \"November_2020\", \"December_2020\", \"January_2021\", \n",
    "                                                        \"February_2021\", \"April_2021\", \"May_2021\", \n",
    "                                                        \"June_2021\", \"July_2021\"])\n",
    "\n",
    "\n",
    "fig = px.histogram(biomass, x = 'Average_Cells_L',\n",
    "            y=\"Year_month\", \n",
    "            color='Station',\n",
    "            barmode='group',\n",
    "            category_orders={\"Year_month\" : [\"July_2020\", \"August_2020\", \"September_2020\", \n",
    "                \"November_2020\", \"December_2020\", \"January_2021\", \n",
    "                \"February_2021\", \"April_2021\", \"May_2021\", \n",
    "                \"June_2021\", \"July_2021\"]\n",
    "                },\n",
    "            orientation='h')\n",
    "\n",
    "fig.update_layout(\n",
    "    yaxis_title=\"Month\",  # Set the y-axis title\n",
    "    font=dict(\n",
    "        family=\"Times New Roman, serif\",  # Set the font family to Times New Roman\n",
    "        size=8,  # Set the font size\n",
    "        color=\"#7f7f7f\"  # Set the font color\n",
    "    ),\n",
    "    autosize=False,\n",
    "    width= 8.5 * pixels_per_cm,\n",
    "    height= 7.5 * pixels_per_cm,\n",
    "    xaxis_title_text='Average number of cells per L'\n",
    ")\n",
    "\n",
    "fig.show()\n",
    "\n",
    "# Save figure\n",
    "fig.write_image('../../figures/flowcam/flowcam_biomass_average_station.svg')"
   ]
  },
  {
   "cell_type": "code",
   "execution_count": 59,
   "metadata": {},
   "outputs": [
    {
     "data": {
      "application/vnd.plotly.v1+json": {
       "config": {
        "plotlyServerURL": "https://plot.ly"
       },
       "data": [
        {
         "alignmentgroup": "True",
         "bingroup": "y",
         "histfunc": "sum",
         "hovertemplate": "Station=120<br>sum of Number_of_Cells_L=%{x}<br>Year_month=%{y}<extra></extra>",
         "legendgroup": "120",
         "marker": {
          "color": "#636efa",
          "pattern": {
           "shape": ""
          }
         },
         "name": "120",
         "offsetgroup": "120",
         "orientation": "h",
         "showlegend": true,
         "type": "histogram",
         "x": [
          18422.868755739757,
          11174.243547082093,
          1830.7731273672475,
          1336.4004340867336,
          166190.7443151506,
          16360.047689916983,
          2997.6848375808104,
          841.0772513862491,
          12690.420101570817
         ],
         "xaxis": "x",
         "y": [
          "April_2021",
          "August_2020",
          "December_2020",
          "February_2021",
          "July_2020",
          "June_2021",
          "May_2021",
          "November_2020",
          "September_2020"
         ],
         "yaxis": "y"
        },
        {
         "alignmentgroup": "True",
         "bingroup": "y",
         "histfunc": "sum",
         "hovertemplate": "Station=130<br>sum of Number_of_Cells_L=%{x}<br>Year_month=%{y}<extra></extra>",
         "legendgroup": "130",
         "marker": {
          "color": "#EF553B",
          "pattern": {
           "shape": ""
          }
         },
         "name": "130",
         "offsetgroup": "130",
         "orientation": "h",
         "showlegend": true,
         "type": "histogram",
         "x": [
          25031.05215931178,
          38483.58970172176,
          1725.104792216851,
          2807.646373477449,
          523.4851602344885,
          71032.00939675649,
          19040.070381005084,
          2252.4527681456034,
          70633.2417187861,
          17914.854980200478
         ],
         "xaxis": "x",
         "y": [
          "April_2021",
          "August_2020",
          "December_2020",
          "February_2021",
          "January_2021",
          "July_2020",
          "July_2021",
          "June_2021",
          "May_2021",
          "September_2020"
         ],
         "yaxis": "y"
        },
        {
         "alignmentgroup": "True",
         "bingroup": "y",
         "histfunc": "sum",
         "hovertemplate": "Station=330<br>sum of Number_of_Cells_L=%{x}<br>Year_month=%{y}<extra></extra>",
         "legendgroup": "330",
         "marker": {
          "color": "#00cc96",
          "pattern": {
           "shape": ""
          }
         },
         "name": "330",
         "offsetgroup": "330",
         "orientation": "h",
         "showlegend": true,
         "type": "histogram",
         "x": [
          7890.965180842732,
          9282.383429657228,
          1139.2770537335202,
          1705.146489268268,
          212.0760676196317,
          34491.813998712765,
          30391.18417549262,
          931.4108386709224,
          2266.2033880455656,
          18072.995809775366
         ],
         "xaxis": "x",
         "y": [
          "April_2021",
          "August_2020",
          "December_2020",
          "February_2021",
          "January_2021",
          "July_2021",
          "June_2021",
          "May_2021",
          "November_2020",
          "September_2020"
         ],
         "yaxis": "y"
        },
        {
         "alignmentgroup": "True",
         "bingroup": "y",
         "histfunc": "sum",
         "hovertemplate": "Station=ZG02<br>sum of Number_of_Cells_L=%{x}<br>Year_month=%{y}<extra></extra>",
         "legendgroup": "ZG02",
         "marker": {
          "color": "#ab63fa",
          "pattern": {
           "shape": ""
          }
         },
         "name": "ZG02",
         "offsetgroup": "ZG02",
         "orientation": "h",
         "showlegend": true,
         "type": "histogram",
         "x": [
          4235.71200035059,
          59304.46279022946,
          1098.715089617658,
          3707.4092775318995,
          349.4377627392414,
          203397.16618615174,
          34953.81334550043,
          282.28558424104835,
          2692.0886795516813,
          3834.993803493553
         ],
         "xaxis": "x",
         "y": [
          "April_2021",
          "August_2020",
          "December_2020",
          "February_2021",
          "January_2021",
          "July_2021",
          "June_2021",
          "May_2021",
          "November_2020",
          "September_2020"
         ],
         "yaxis": "y"
        },
        {
         "alignmentgroup": "True",
         "bingroup": "y",
         "histfunc": "sum",
         "hovertemplate": "Station=700<br>sum of Number_of_Cells_L=%{x}<br>Year_month=%{y}<extra></extra>",
         "legendgroup": "700",
         "marker": {
          "color": "#FFA15A",
          "pattern": {
           "shape": ""
          }
         },
         "name": "700",
         "offsetgroup": "700",
         "orientation": "h",
         "showlegend": true,
         "type": "histogram",
         "x": [
          16899.09852748704,
          7473.028597857718,
          1153.811716601731,
          12171.553245580595,
          15573.579212056651,
          19691.681044942132,
          4883.972009515645,
          2282.5879415126815,
          11018.676826183857
         ],
         "xaxis": "x",
         "y": [
          "August_2020",
          "December_2020",
          "February_2021",
          "January_2021",
          "July_2020",
          "July_2021",
          "June_2021",
          "May_2021",
          "September_2020"
         ],
         "yaxis": "y"
        },
        {
         "alignmentgroup": "True",
         "bingroup": "y",
         "histfunc": "sum",
         "hovertemplate": "Station=780<br>sum of Number_of_Cells_L=%{x}<br>Year_month=%{y}<extra></extra>",
         "legendgroup": "780",
         "marker": {
          "color": "#19d3f3",
          "pattern": {
           "shape": ""
          }
         },
         "name": "780",
         "offsetgroup": "780",
         "orientation": "h",
         "showlegend": true,
         "type": "histogram",
         "x": [
          6052.618434110147,
          945.0735105041133,
          585.1304293647133,
          1177.5114053829664,
          142439.93655230646,
          124179.52245521605,
          7689.72050059914,
          4050.6528286456883,
          826.3303944616277,
          6074.682526676667
         ],
         "xaxis": "x",
         "y": [
          "August_2020",
          "December_2020",
          "February_2021",
          "January_2021",
          "July_2020",
          "July_2021",
          "June_2021",
          "May_2021",
          "November_2020",
          "September_2020"
         ],
         "yaxis": "y"
        }
       ],
       "layout": {
        "autosize": false,
        "barmode": "group",
        "font": {
         "color": "#7f7f7f",
         "family": "Times New Roman, serif",
         "size": 8
        },
        "height": 283.4645669291338,
        "legend": {
         "title": {
          "text": "Station"
         },
         "tracegroupgap": 0
        },
        "margin": {
         "t": 60
        },
        "template": {
         "data": {
          "bar": [
           {
            "error_x": {
             "color": "#2a3f5f"
            },
            "error_y": {
             "color": "#2a3f5f"
            },
            "marker": {
             "line": {
              "color": "#E5ECF6",
              "width": 0.5
             },
             "pattern": {
              "fillmode": "overlay",
              "size": 10,
              "solidity": 0.2
             }
            },
            "type": "bar"
           }
          ],
          "barpolar": [
           {
            "marker": {
             "line": {
              "color": "#E5ECF6",
              "width": 0.5
             },
             "pattern": {
              "fillmode": "overlay",
              "size": 10,
              "solidity": 0.2
             }
            },
            "type": "barpolar"
           }
          ],
          "carpet": [
           {
            "aaxis": {
             "endlinecolor": "#2a3f5f",
             "gridcolor": "white",
             "linecolor": "white",
             "minorgridcolor": "white",
             "startlinecolor": "#2a3f5f"
            },
            "baxis": {
             "endlinecolor": "#2a3f5f",
             "gridcolor": "white",
             "linecolor": "white",
             "minorgridcolor": "white",
             "startlinecolor": "#2a3f5f"
            },
            "type": "carpet"
           }
          ],
          "choropleth": [
           {
            "colorbar": {
             "outlinewidth": 0,
             "ticks": ""
            },
            "type": "choropleth"
           }
          ],
          "contour": [
           {
            "colorbar": {
             "outlinewidth": 0,
             "ticks": ""
            },
            "colorscale": [
             [
              0,
              "#0d0887"
             ],
             [
              0.1111111111111111,
              "#46039f"
             ],
             [
              0.2222222222222222,
              "#7201a8"
             ],
             [
              0.3333333333333333,
              "#9c179e"
             ],
             [
              0.4444444444444444,
              "#bd3786"
             ],
             [
              0.5555555555555556,
              "#d8576b"
             ],
             [
              0.6666666666666666,
              "#ed7953"
             ],
             [
              0.7777777777777778,
              "#fb9f3a"
             ],
             [
              0.8888888888888888,
              "#fdca26"
             ],
             [
              1,
              "#f0f921"
             ]
            ],
            "type": "contour"
           }
          ],
          "contourcarpet": [
           {
            "colorbar": {
             "outlinewidth": 0,
             "ticks": ""
            },
            "type": "contourcarpet"
           }
          ],
          "heatmap": [
           {
            "colorbar": {
             "outlinewidth": 0,
             "ticks": ""
            },
            "colorscale": [
             [
              0,
              "#0d0887"
             ],
             [
              0.1111111111111111,
              "#46039f"
             ],
             [
              0.2222222222222222,
              "#7201a8"
             ],
             [
              0.3333333333333333,
              "#9c179e"
             ],
             [
              0.4444444444444444,
              "#bd3786"
             ],
             [
              0.5555555555555556,
              "#d8576b"
             ],
             [
              0.6666666666666666,
              "#ed7953"
             ],
             [
              0.7777777777777778,
              "#fb9f3a"
             ],
             [
              0.8888888888888888,
              "#fdca26"
             ],
             [
              1,
              "#f0f921"
             ]
            ],
            "type": "heatmap"
           }
          ],
          "heatmapgl": [
           {
            "colorbar": {
             "outlinewidth": 0,
             "ticks": ""
            },
            "colorscale": [
             [
              0,
              "#0d0887"
             ],
             [
              0.1111111111111111,
              "#46039f"
             ],
             [
              0.2222222222222222,
              "#7201a8"
             ],
             [
              0.3333333333333333,
              "#9c179e"
             ],
             [
              0.4444444444444444,
              "#bd3786"
             ],
             [
              0.5555555555555556,
              "#d8576b"
             ],
             [
              0.6666666666666666,
              "#ed7953"
             ],
             [
              0.7777777777777778,
              "#fb9f3a"
             ],
             [
              0.8888888888888888,
              "#fdca26"
             ],
             [
              1,
              "#f0f921"
             ]
            ],
            "type": "heatmapgl"
           }
          ],
          "histogram": [
           {
            "marker": {
             "pattern": {
              "fillmode": "overlay",
              "size": 10,
              "solidity": 0.2
             }
            },
            "type": "histogram"
           }
          ],
          "histogram2d": [
           {
            "colorbar": {
             "outlinewidth": 0,
             "ticks": ""
            },
            "colorscale": [
             [
              0,
              "#0d0887"
             ],
             [
              0.1111111111111111,
              "#46039f"
             ],
             [
              0.2222222222222222,
              "#7201a8"
             ],
             [
              0.3333333333333333,
              "#9c179e"
             ],
             [
              0.4444444444444444,
              "#bd3786"
             ],
             [
              0.5555555555555556,
              "#d8576b"
             ],
             [
              0.6666666666666666,
              "#ed7953"
             ],
             [
              0.7777777777777778,
              "#fb9f3a"
             ],
             [
              0.8888888888888888,
              "#fdca26"
             ],
             [
              1,
              "#f0f921"
             ]
            ],
            "type": "histogram2d"
           }
          ],
          "histogram2dcontour": [
           {
            "colorbar": {
             "outlinewidth": 0,
             "ticks": ""
            },
            "colorscale": [
             [
              0,
              "#0d0887"
             ],
             [
              0.1111111111111111,
              "#46039f"
             ],
             [
              0.2222222222222222,
              "#7201a8"
             ],
             [
              0.3333333333333333,
              "#9c179e"
             ],
             [
              0.4444444444444444,
              "#bd3786"
             ],
             [
              0.5555555555555556,
              "#d8576b"
             ],
             [
              0.6666666666666666,
              "#ed7953"
             ],
             [
              0.7777777777777778,
              "#fb9f3a"
             ],
             [
              0.8888888888888888,
              "#fdca26"
             ],
             [
              1,
              "#f0f921"
             ]
            ],
            "type": "histogram2dcontour"
           }
          ],
          "mesh3d": [
           {
            "colorbar": {
             "outlinewidth": 0,
             "ticks": ""
            },
            "type": "mesh3d"
           }
          ],
          "parcoords": [
           {
            "line": {
             "colorbar": {
              "outlinewidth": 0,
              "ticks": ""
             }
            },
            "type": "parcoords"
           }
          ],
          "pie": [
           {
            "automargin": true,
            "type": "pie"
           }
          ],
          "scatter": [
           {
            "marker": {
             "colorbar": {
              "outlinewidth": 0,
              "ticks": ""
             }
            },
            "type": "scatter"
           }
          ],
          "scatter3d": [
           {
            "line": {
             "colorbar": {
              "outlinewidth": 0,
              "ticks": ""
             }
            },
            "marker": {
             "colorbar": {
              "outlinewidth": 0,
              "ticks": ""
             }
            },
            "type": "scatter3d"
           }
          ],
          "scattercarpet": [
           {
            "marker": {
             "colorbar": {
              "outlinewidth": 0,
              "ticks": ""
             }
            },
            "type": "scattercarpet"
           }
          ],
          "scattergeo": [
           {
            "marker": {
             "colorbar": {
              "outlinewidth": 0,
              "ticks": ""
             }
            },
            "type": "scattergeo"
           }
          ],
          "scattergl": [
           {
            "marker": {
             "colorbar": {
              "outlinewidth": 0,
              "ticks": ""
             }
            },
            "type": "scattergl"
           }
          ],
          "scattermapbox": [
           {
            "marker": {
             "colorbar": {
              "outlinewidth": 0,
              "ticks": ""
             }
            },
            "type": "scattermapbox"
           }
          ],
          "scatterpolar": [
           {
            "marker": {
             "colorbar": {
              "outlinewidth": 0,
              "ticks": ""
             }
            },
            "type": "scatterpolar"
           }
          ],
          "scatterpolargl": [
           {
            "marker": {
             "colorbar": {
              "outlinewidth": 0,
              "ticks": ""
             }
            },
            "type": "scatterpolargl"
           }
          ],
          "scatterternary": [
           {
            "marker": {
             "colorbar": {
              "outlinewidth": 0,
              "ticks": ""
             }
            },
            "type": "scatterternary"
           }
          ],
          "surface": [
           {
            "colorbar": {
             "outlinewidth": 0,
             "ticks": ""
            },
            "colorscale": [
             [
              0,
              "#0d0887"
             ],
             [
              0.1111111111111111,
              "#46039f"
             ],
             [
              0.2222222222222222,
              "#7201a8"
             ],
             [
              0.3333333333333333,
              "#9c179e"
             ],
             [
              0.4444444444444444,
              "#bd3786"
             ],
             [
              0.5555555555555556,
              "#d8576b"
             ],
             [
              0.6666666666666666,
              "#ed7953"
             ],
             [
              0.7777777777777778,
              "#fb9f3a"
             ],
             [
              0.8888888888888888,
              "#fdca26"
             ],
             [
              1,
              "#f0f921"
             ]
            ],
            "type": "surface"
           }
          ],
          "table": [
           {
            "cells": {
             "fill": {
              "color": "#EBF0F8"
             },
             "line": {
              "color": "white"
             }
            },
            "header": {
             "fill": {
              "color": "#C8D4E3"
             },
             "line": {
              "color": "white"
             }
            },
            "type": "table"
           }
          ]
         },
         "layout": {
          "annotationdefaults": {
           "arrowcolor": "#2a3f5f",
           "arrowhead": 0,
           "arrowwidth": 1
          },
          "autotypenumbers": "strict",
          "coloraxis": {
           "colorbar": {
            "outlinewidth": 0,
            "ticks": ""
           }
          },
          "colorscale": {
           "diverging": [
            [
             0,
             "#8e0152"
            ],
            [
             0.1,
             "#c51b7d"
            ],
            [
             0.2,
             "#de77ae"
            ],
            [
             0.3,
             "#f1b6da"
            ],
            [
             0.4,
             "#fde0ef"
            ],
            [
             0.5,
             "#f7f7f7"
            ],
            [
             0.6,
             "#e6f5d0"
            ],
            [
             0.7,
             "#b8e186"
            ],
            [
             0.8,
             "#7fbc41"
            ],
            [
             0.9,
             "#4d9221"
            ],
            [
             1,
             "#276419"
            ]
           ],
           "sequential": [
            [
             0,
             "#0d0887"
            ],
            [
             0.1111111111111111,
             "#46039f"
            ],
            [
             0.2222222222222222,
             "#7201a8"
            ],
            [
             0.3333333333333333,
             "#9c179e"
            ],
            [
             0.4444444444444444,
             "#bd3786"
            ],
            [
             0.5555555555555556,
             "#d8576b"
            ],
            [
             0.6666666666666666,
             "#ed7953"
            ],
            [
             0.7777777777777778,
             "#fb9f3a"
            ],
            [
             0.8888888888888888,
             "#fdca26"
            ],
            [
             1,
             "#f0f921"
            ]
           ],
           "sequentialminus": [
            [
             0,
             "#0d0887"
            ],
            [
             0.1111111111111111,
             "#46039f"
            ],
            [
             0.2222222222222222,
             "#7201a8"
            ],
            [
             0.3333333333333333,
             "#9c179e"
            ],
            [
             0.4444444444444444,
             "#bd3786"
            ],
            [
             0.5555555555555556,
             "#d8576b"
            ],
            [
             0.6666666666666666,
             "#ed7953"
            ],
            [
             0.7777777777777778,
             "#fb9f3a"
            ],
            [
             0.8888888888888888,
             "#fdca26"
            ],
            [
             1,
             "#f0f921"
            ]
           ]
          },
          "colorway": [
           "#636efa",
           "#EF553B",
           "#00cc96",
           "#ab63fa",
           "#FFA15A",
           "#19d3f3",
           "#FF6692",
           "#B6E880",
           "#FF97FF",
           "#FECB52"
          ],
          "font": {
           "color": "#2a3f5f"
          },
          "geo": {
           "bgcolor": "white",
           "lakecolor": "white",
           "landcolor": "#E5ECF6",
           "showlakes": true,
           "showland": true,
           "subunitcolor": "white"
          },
          "hoverlabel": {
           "align": "left"
          },
          "hovermode": "closest",
          "mapbox": {
           "style": "light"
          },
          "paper_bgcolor": "white",
          "plot_bgcolor": "#E5ECF6",
          "polar": {
           "angularaxis": {
            "gridcolor": "white",
            "linecolor": "white",
            "ticks": ""
           },
           "bgcolor": "#E5ECF6",
           "radialaxis": {
            "gridcolor": "white",
            "linecolor": "white",
            "ticks": ""
           }
          },
          "scene": {
           "xaxis": {
            "backgroundcolor": "#E5ECF6",
            "gridcolor": "white",
            "gridwidth": 2,
            "linecolor": "white",
            "showbackground": true,
            "ticks": "",
            "zerolinecolor": "white"
           },
           "yaxis": {
            "backgroundcolor": "#E5ECF6",
            "gridcolor": "white",
            "gridwidth": 2,
            "linecolor": "white",
            "showbackground": true,
            "ticks": "",
            "zerolinecolor": "white"
           },
           "zaxis": {
            "backgroundcolor": "#E5ECF6",
            "gridcolor": "white",
            "gridwidth": 2,
            "linecolor": "white",
            "showbackground": true,
            "ticks": "",
            "zerolinecolor": "white"
           }
          },
          "shapedefaults": {
           "line": {
            "color": "#2a3f5f"
           }
          },
          "ternary": {
           "aaxis": {
            "gridcolor": "white",
            "linecolor": "white",
            "ticks": ""
           },
           "baxis": {
            "gridcolor": "white",
            "linecolor": "white",
            "ticks": ""
           },
           "bgcolor": "#E5ECF6",
           "caxis": {
            "gridcolor": "white",
            "linecolor": "white",
            "ticks": ""
           }
          },
          "title": {
           "x": 0.05
          },
          "xaxis": {
           "automargin": true,
           "gridcolor": "white",
           "linecolor": "white",
           "ticks": "",
           "title": {
            "standoff": 15
           },
           "zerolinecolor": "white",
           "zerolinewidth": 2
          },
          "yaxis": {
           "automargin": true,
           "gridcolor": "white",
           "linecolor": "white",
           "ticks": "",
           "title": {
            "standoff": 15
           },
           "zerolinecolor": "white",
           "zerolinewidth": 2
          }
         }
        },
        "width": 321.25984251968504,
        "xaxis": {
         "anchor": "y",
         "domain": [
          0,
          1
         ],
         "title": {
          "text": "Sum of cells per L"
         }
        },
        "yaxis": {
         "anchor": "x",
         "categoryarray": [
          "July_2021",
          "June_2021",
          "May_2021",
          "April_2021",
          "February_2021",
          "January_2021",
          "December_2020",
          "November_2020",
          "September_2020",
          "August_2020",
          "July_2020"
         ],
         "categoryorder": "array",
         "domain": [
          0,
          1
         ],
         "title": {
          "text": "Month"
         }
        }
       }
      }
     },
     "metadata": {},
     "output_type": "display_data"
    }
   ],
   "source": [
    "pixels_per_cm = 37.79527559055118\n",
    "\n",
    "# Sum per month\n",
    "biomass = data_FC[['Year_month', 'Station', 'density_cell_L']].groupby(['Year_month', 'Station']).sum().reset_index()\n",
    "biomass = biomass.rename(columns={'density_cell_L': 'Number_of_Cells_L'})\n",
    "\n",
    "biomass['Year_month'] = pd.Categorical(biomass['Year_month'], [\"July_2020\", \"August_2020\", \"September_2020\", \n",
    "                                                        \"November_2020\", \"December_2020\", \"January_2021\", \n",
    "                                                        \"February_2021\", \"April_2021\", \"May_2021\", \n",
    "                                                        \"June_2021\", \"July_2021\"])\n",
    "\n",
    "\n",
    "fig = px.histogram(biomass, x = 'Number_of_Cells_L',\n",
    "            y=\"Year_month\", \n",
    "            color='Station',\n",
    "            barmode='group',\n",
    "            category_orders={\"Year_month\" : [\"July_2020\", \"August_2020\", \"September_2020\", \n",
    "                \"November_2020\", \"December_2020\", \"January_2021\", \n",
    "                \"February_2021\", \"April_2021\", \"May_2021\", \n",
    "                \"June_2021\", \"July_2021\"]\n",
    "                },\n",
    "            orientation='h')\n",
    "\n",
    "fig.update_layout(\n",
    "    yaxis_title=\"Month\",  # Set the y-axis title\n",
    "    font=dict(\n",
    "        family=\"Times New Roman, serif\",  # Set the font family to Times New Roman\n",
    "        size=8,  # Set the font size\n",
    "        color=\"#7f7f7f\"  # Set the font color\n",
    "    ),\n",
    "    autosize=False,\n",
    "    width= 8.5 * pixels_per_cm,\n",
    "    height= 7.5 * pixels_per_cm,\n",
    "    xaxis_title_text='Sum of cells per L'\n",
    ")\n",
    "\n",
    "fig.show()\n",
    "\n",
    "# Save figure\n",
    "fig.write_image('../../figures/flowcam/flowcam_biomass_sum_station.svg')"
   ]
  },
  {
   "cell_type": "code",
   "execution_count": 60,
   "metadata": {},
   "outputs": [
    {
     "data": {
      "text/html": [
       "<div><div id=51cd1fe1-7e7d-4cc6-808c-798a24201a7c style=\"display:none; background-color:#9D6CFF; color:white; width:200px; height:30px; padding-left:5px; border-radius:4px; flex-direction:row; justify-content:space-around; align-items:center;\" onmouseover=\"this.style.backgroundColor='#BA9BF8'\" onmouseout=\"this.style.backgroundColor='#9D6CFF'\" onclick=\"window.commands?.execute('create-mitosheet-from-dataframe-output');\">See Full Dataframe in Mito</div> <script> if (window.commands?.hasCommand('create-mitosheet-from-dataframe-output')) document.getElementById('51cd1fe1-7e7d-4cc6-808c-798a24201a7c').style.display = 'flex' </script> <table border=\"1\" class=\"dataframe\">\n",
       "  <thead>\n",
       "    <tr style=\"text-align: right;\">\n",
       "      <th></th>\n",
       "      <th>Station</th>\n",
       "      <th>Taxon</th>\n",
       "      <th>Month</th>\n",
       "      <th>Dil</th>\n",
       "      <th>TripactionID</th>\n",
       "      <th>Volume_filtered</th>\n",
       "      <th>Sample_volume</th>\n",
       "      <th>FVI</th>\n",
       "      <th>Taxon_count</th>\n",
       "      <th>density_cell_L</th>\n",
       "      <th>Total_count</th>\n",
       "      <th>Rel_ab</th>\n",
       "      <th>Year</th>\n",
       "      <th>Year_month</th>\n",
       "      <th>Taxon_grouped</th>\n",
       "    </tr>\n",
       "  </thead>\n",
       "  <tbody>\n",
       "    <tr>\n",
       "      <th>930</th>\n",
       "      <td>700</td>\n",
       "      <td>Actinoptychus</td>\n",
       "      <td>7</td>\n",
       "      <td>0.20</td>\n",
       "      <td>112457</td>\n",
       "      <td>50</td>\n",
       "      <td>0.216</td>\n",
       "      <td>0.002407</td>\n",
       "      <td>1</td>\n",
       "      <td>8.975318</td>\n",
       "      <td>4500</td>\n",
       "      <td>0.022222</td>\n",
       "      <td>2020</td>\n",
       "      <td>July_2020</td>\n",
       "      <td>Bacillariophyta</td>\n",
       "    </tr>\n",
       "    <tr>\n",
       "      <th>931</th>\n",
       "      <td>700</td>\n",
       "      <td>Actinoptychus senarius</td>\n",
       "      <td>7</td>\n",
       "      <td>0.20</td>\n",
       "      <td>112457</td>\n",
       "      <td>50</td>\n",
       "      <td>0.216</td>\n",
       "      <td>0.002242</td>\n",
       "      <td>1</td>\n",
       "      <td>9.632966</td>\n",
       "      <td>4500</td>\n",
       "      <td>0.022222</td>\n",
       "      <td>2020</td>\n",
       "      <td>July_2020</td>\n",
       "      <td>Bacillariophyta</td>\n",
       "    </tr>\n",
       "    <tr>\n",
       "      <th>932</th>\n",
       "      <td>120</td>\n",
       "      <td>Actinoptychus splendens</td>\n",
       "      <td>7</td>\n",
       "      <td>0.05</td>\n",
       "      <td>112471</td>\n",
       "      <td>50</td>\n",
       "      <td>0.200</td>\n",
       "      <td>0.002363</td>\n",
       "      <td>1</td>\n",
       "      <td>33.861001</td>\n",
       "      <td>5557</td>\n",
       "      <td>0.017995</td>\n",
       "      <td>2020</td>\n",
       "      <td>July_2020</td>\n",
       "      <td>Bacillariophyta</td>\n",
       "    </tr>\n",
       "    <tr>\n",
       "      <th>933</th>\n",
       "      <td>700</td>\n",
       "      <td>Actinoptychus splendens</td>\n",
       "      <td>7</td>\n",
       "      <td>0.20</td>\n",
       "      <td>112457</td>\n",
       "      <td>50</td>\n",
       "      <td>0.216</td>\n",
       "      <td>0.002324</td>\n",
       "      <td>2</td>\n",
       "      <td>18.585042</td>\n",
       "      <td>4500</td>\n",
       "      <td>0.044444</td>\n",
       "      <td>2020</td>\n",
       "      <td>July_2020</td>\n",
       "      <td>Bacillariophyta</td>\n",
       "    </tr>\n",
       "    <tr>\n",
       "      <th>940</th>\n",
       "      <td>130</td>\n",
       "      <td>Bacillaria paxillifer</td>\n",
       "      <td>7</td>\n",
       "      <td>0.10</td>\n",
       "      <td>112399</td>\n",
       "      <td>50</td>\n",
       "      <td>0.216</td>\n",
       "      <td>0.002028</td>\n",
       "      <td>1</td>\n",
       "      <td>21.299675</td>\n",
       "      <td>4500</td>\n",
       "      <td>0.022222</td>\n",
       "      <td>2020</td>\n",
       "      <td>July_2020</td>\n",
       "      <td>Bacillariophyta</td>\n",
       "    </tr>\n",
       "  </tbody>\n",
       "</table></div>"
      ],
      "text/plain": [
       "    Station                    Taxon  Month   Dil  TripactionID  \\\n",
       "930     700            Actinoptychus      7  0.20        112457   \n",
       "931     700   Actinoptychus senarius      7  0.20        112457   \n",
       "932     120  Actinoptychus splendens      7  0.05        112471   \n",
       "933     700  Actinoptychus splendens      7  0.20        112457   \n",
       "940     130    Bacillaria paxillifer      7  0.10        112399   \n",
       "\n",
       "     Volume_filtered  Sample_volume       FVI  Taxon_count  density_cell_L  \\\n",
       "930               50          0.216  0.002407            1        8.975318   \n",
       "931               50          0.216  0.002242            1        9.632966   \n",
       "932               50          0.200  0.002363            1       33.861001   \n",
       "933               50          0.216  0.002324            2       18.585042   \n",
       "940               50          0.216  0.002028            1       21.299675   \n",
       "\n",
       "     Total_count    Rel_ab  Year Year_month    Taxon_grouped  \n",
       "930         4500  0.022222  2020  July_2020  Bacillariophyta  \n",
       "931         4500  0.022222  2020  July_2020  Bacillariophyta  \n",
       "932         5557  0.017995  2020  July_2020  Bacillariophyta  \n",
       "933         4500  0.044444  2020  July_2020  Bacillariophyta  \n",
       "940         4500  0.022222  2020  July_2020  Bacillariophyta  "
      ]
     },
     "execution_count": 60,
     "metadata": {},
     "output_type": "execute_result"
    }
   ],
   "source": [
    "data_FC.head()"
   ]
  },
  {
   "cell_type": "code",
   "execution_count": 61,
   "metadata": {},
   "outputs": [],
   "source": [
    "# Export mean cell density per sample for later analysis\n",
    "export = data_FC[['Year_month', 'Station', 'density_cell_L']].groupby(['Station', 'Year_month']).mean().reset_index()\n",
    "export.columns = ['station', 'month', 'average_cells_L']\n",
    "export.to_csv('../../data/flowcam/flowcam_average_cells_per_sample.csv', index=False)"
   ]
  },
  {
   "cell_type": "markdown",
   "metadata": {},
   "source": [
    "## Spatial Distribution\n",
    "Now let's plot the total TPM counted per group per station."
   ]
  },
  {
   "cell_type": "code",
   "execution_count": 67,
   "metadata": {},
   "outputs": [
    {
     "data": {
      "application/vnd.plotly.v1+json": {
       "config": {
        "plotlyServerURL": "https://plot.ly"
       },
       "data": [
        {
         "alignmentgroup": "True",
         "bingroup": "y",
         "histfunc": "sum",
         "hovertemplate": "Taxon_grouped=Rare<br>sum of density_cell_L_sum=%{x}<br>Year_month=%{y}<extra></extra>",
         "legendgroup": "Rare",
         "marker": {
          "color": "#545454",
          "pattern": {
           "shape": ""
          }
         },
         "name": "Rare",
         "offsetgroup": "Rare",
         "orientation": "h",
         "showlegend": true,
         "type": "histogram",
         "x": [
          142.184647900855,
          13.9622762353092,
          4.9062973574742,
          25.781112587776978,
          12.27775985725947,
          1.70299727520436,
          46.866134226749494,
          17.5253059374528
         ],
         "xaxis": "x",
         "y": [
          "July_2021",
          "June_2021",
          "April_2021",
          "April_2021",
          "April_2021",
          "September_2020",
          "August_2020",
          "August_2020"
         ],
         "yaxis": "y"
        },
        {
         "alignmentgroup": "True",
         "bingroup": "y",
         "histfunc": "sum",
         "hovertemplate": "Taxon_grouped=Bacillariophyta<br>sum of density_cell_L_sum=%{x}<br>Year_month=%{y}<extra></extra>",
         "legendgroup": "Bacillariophyta",
         "marker": {
          "color": "#E69F00",
          "pattern": {
           "shape": ""
          }
         },
         "name": "Bacillariophyta",
         "offsetgroup": "Bacillariophyta",
         "orientation": "h",
         "showlegend": true,
         "type": "histogram",
         "x": [
          190981.6466620266,
          34631.64724243545,
          179.69644107777253,
          3997.108914045588,
          3608.4668201241493,
          331.0563942280325,
          1071.2385107209275,
          2636.6228541873,
          3732.9997666697373,
          58554.382182439316
         ],
         "xaxis": "x",
         "y": [
          "July_2021",
          "June_2021",
          "May_2021",
          "April_2021",
          "February_2021",
          "January_2021",
          "December_2020",
          "November_2020",
          "September_2020",
          "August_2020"
         ],
         "yaxis": "y"
        },
        {
         "alignmentgroup": "True",
         "bingroup": "y",
         "histfunc": "sum",
         "hovertemplate": "Taxon_grouped=Dinophyceae<br>sum of density_cell_L_sum=%{x}<br>Year_month=%{y}<extra></extra>",
         "legendgroup": "Dinophyceae",
         "marker": {
          "color": "#56B4E9",
          "pattern": {
           "shape": ""
          }
         },
         "name": "Dinophyceae",
         "offsetgroup": "Dinophyceae",
         "orientation": "h",
         "showlegend": true,
         "type": "histogram",
         "x": [
          6074.99990451184,
          308.2038268296697,
          2.57320025201446,
          5.79960513326752,
          6.87264059457682,
          8.74115655880585,
          60.68056804018986,
          604.2528938502909
         ],
         "xaxis": "x",
         "y": [
          "July_2021",
          "June_2021",
          "May_2021",
          "February_2021",
          "December_2020",
          "November_2020",
          "September_2020",
          "August_2020"
         ],
         "yaxis": "y"
        },
        {
         "alignmentgroup": "True",
         "bingroup": "y",
         "histfunc": "sum",
         "hovertemplate": "Taxon_grouped=Prymnesiophyceae<br>sum of density_cell_L_sum=%{x}<br>Year_month=%{y}<extra></extra>",
         "legendgroup": "Prymnesiophyceae",
         "marker": {
          "color": "#009E73",
          "pattern": {
           "shape": ""
          }
         },
         "name": "Prymnesiophyceae",
         "offsetgroup": "Prymnesiophyceae",
         "orientation": "h",
         "showlegend": true,
         "type": "histogram",
         "x": [
          6198.33497171247,
          53.7685734082685,
          195.637916502491,
          1.3623439614408
         ],
         "xaxis": "x",
         "y": [
          "July_2021",
          "May_2021",
          "April_2021",
          "January_2021"
         ],
         "yaxis": "y"
        },
        {
         "alignmentgroup": "True",
         "bingroup": "y",
         "histfunc": "sum",
         "hovertemplate": "Taxon_grouped=Ciliates<br>sum of density_cell_L_sum=%{x}<br>Year_month=%{y}<extra></extra>",
         "legendgroup": "Ciliates",
         "marker": {
          "color": "#F0E442",
          "pattern": {
           "shape": ""
          }
         },
         "name": "Ciliates",
         "offsetgroup": "Ciliates",
         "orientation": "h",
         "showlegend": true,
         "type": "histogram",
         "x": [
          20.52624144265829,
          1.36236467583019,
          31.102731035587222
         ],
         "xaxis": "x",
         "y": [
          "May_2021",
          "January_2021",
          "September_2020"
         ],
         "yaxis": "y"
        },
        {
         "alignmentgroup": "True",
         "bingroup": "y",
         "histfunc": "sum",
         "hovertemplate": "Taxon_grouped=Arthropoda<br>sum of density_cell_L_sum=%{x}<br>Year_month=%{y}<extra></extra>",
         "legendgroup": "Arthropoda",
         "marker": {
          "color": "#0072B2",
          "pattern": {
           "shape": ""
          }
         },
         "name": "Arthropoda",
         "offsetgroup": "Arthropoda",
         "orientation": "h",
         "showlegend": true,
         "type": "histogram",
         "x": [
          25.72112806033456,
          64.01323836461113,
          11.573081981398396,
          18.320978063711102,
          43.7979287671616,
          8.50774047283446,
          81.4362737756477
         ],
         "xaxis": "x",
         "y": [
          "May_2021",
          "February_2021",
          "January_2021",
          "December_2020",
          "November_2020",
          "September_2020",
          "August_2020"
         ],
         "yaxis": "y"
        },
        {
         "alignmentgroup": "True",
         "bingroup": "y",
         "histfunc": "sum",
         "hovertemplate": "Taxon_grouped=Cnidaria<br>sum of density_cell_L_sum=%{x}<br>Year_month=%{y}<extra></extra>",
         "legendgroup": "Cnidaria",
         "marker": {
          "color": "#A42324",
          "pattern": {
           "shape": ""
          }
         },
         "name": "Cnidaria",
         "offsetgroup": "Cnidaria",
         "orientation": "h",
         "showlegend": true,
         "type": "histogram",
         "x": [
          11.6650637545373
         ],
         "xaxis": "x",
         "y": [
          "February_2021"
         ],
         "yaxis": "y"
        },
        {
         "alignmentgroup": "True",
         "bingroup": "y",
         "histfunc": "sum",
         "hovertemplate": "Taxon_grouped=Nematoda<br>sum of density_cell_L_sum=%{x}<br>Year_month=%{y}<extra></extra>",
         "legendgroup": "Nematoda",
         "marker": {
          "color": "#FFA15A",
          "pattern": {
           "shape": ""
          }
         },
         "name": "Nematoda",
         "offsetgroup": "Nematoda",
         "orientation": "h",
         "showlegend": true,
         "type": "histogram",
         "x": [
          5.81683168316832
         ],
         "xaxis": "x",
         "y": [
          "February_2021"
         ],
         "yaxis": "y"
        },
        {
         "alignmentgroup": "True",
         "bingroup": "y",
         "histfunc": "sum",
         "hovertemplate": "Taxon_grouped=Porifera spicule<br>sum of density_cell_L_sum=%{x}<br>Year_month=%{y}<extra></extra>",
         "legendgroup": "Porifera spicule",
         "marker": {
          "color": "#19d3f3",
          "pattern": {
           "shape": ""
          }
         },
         "name": "Porifera spicule",
         "offsetgroup": "Porifera spicule",
         "orientation": "h",
         "showlegend": true,
         "type": "histogram",
         "x": [
          11.6477184721663,
          3.40413115631041,
          2.28296023844251
         ],
         "xaxis": "x",
         "y": [
          "February_2021",
          "January_2021",
          "December_2020"
         ],
         "yaxis": "y"
        },
        {
         "alignmentgroup": "True",
         "bingroup": "y",
         "histfunc": "sum",
         "hovertemplate": "Taxon_grouped=Mollusca<br>sum of density_cell_L_sum=%{x}<br>Year_month=%{y}<extra></extra>",
         "legendgroup": "Mollusca",
         "marker": {
          "color": "#89CE00",
          "pattern": {
           "shape": ""
          }
         },
         "name": "Mollusca",
         "offsetgroup": "Mollusca",
         "orientation": "h",
         "showlegend": true,
         "type": "histogram",
         "x": [
          0.679446736229071,
          2.92674003841346
         ],
         "xaxis": "x",
         "y": [
          "January_2021",
          "November_2020"
         ],
         "yaxis": "y"
        }
       ],
       "layout": {
        "autosize": false,
        "barmode": "relative",
        "font": {
         "color": "#7f7f7f",
         "family": "Times New Roman, serif",
         "size": 12
        },
        "height": 226.77165354330708,
        "legend": {
         "title": {
          "text": "Taxon_grouped"
         },
         "tracegroupgap": 0
        },
        "margin": {
         "b": 25,
         "l": 0,
         "r": 25,
         "t": 25
        },
        "showlegend": false,
        "template": {
         "data": {
          "bar": [
           {
            "error_x": {
             "color": "#2a3f5f"
            },
            "error_y": {
             "color": "#2a3f5f"
            },
            "marker": {
             "line": {
              "color": "#E5ECF6",
              "width": 0.5
             },
             "pattern": {
              "fillmode": "overlay",
              "size": 10,
              "solidity": 0.2
             }
            },
            "type": "bar"
           }
          ],
          "barpolar": [
           {
            "marker": {
             "line": {
              "color": "#E5ECF6",
              "width": 0.5
             },
             "pattern": {
              "fillmode": "overlay",
              "size": 10,
              "solidity": 0.2
             }
            },
            "type": "barpolar"
           }
          ],
          "carpet": [
           {
            "aaxis": {
             "endlinecolor": "#2a3f5f",
             "gridcolor": "white",
             "linecolor": "white",
             "minorgridcolor": "white",
             "startlinecolor": "#2a3f5f"
            },
            "baxis": {
             "endlinecolor": "#2a3f5f",
             "gridcolor": "white",
             "linecolor": "white",
             "minorgridcolor": "white",
             "startlinecolor": "#2a3f5f"
            },
            "type": "carpet"
           }
          ],
          "choropleth": [
           {
            "colorbar": {
             "outlinewidth": 0,
             "ticks": ""
            },
            "type": "choropleth"
           }
          ],
          "contour": [
           {
            "colorbar": {
             "outlinewidth": 0,
             "ticks": ""
            },
            "colorscale": [
             [
              0,
              "#0d0887"
             ],
             [
              0.1111111111111111,
              "#46039f"
             ],
             [
              0.2222222222222222,
              "#7201a8"
             ],
             [
              0.3333333333333333,
              "#9c179e"
             ],
             [
              0.4444444444444444,
              "#bd3786"
             ],
             [
              0.5555555555555556,
              "#d8576b"
             ],
             [
              0.6666666666666666,
              "#ed7953"
             ],
             [
              0.7777777777777778,
              "#fb9f3a"
             ],
             [
              0.8888888888888888,
              "#fdca26"
             ],
             [
              1,
              "#f0f921"
             ]
            ],
            "type": "contour"
           }
          ],
          "contourcarpet": [
           {
            "colorbar": {
             "outlinewidth": 0,
             "ticks": ""
            },
            "type": "contourcarpet"
           }
          ],
          "heatmap": [
           {
            "colorbar": {
             "outlinewidth": 0,
             "ticks": ""
            },
            "colorscale": [
             [
              0,
              "#0d0887"
             ],
             [
              0.1111111111111111,
              "#46039f"
             ],
             [
              0.2222222222222222,
              "#7201a8"
             ],
             [
              0.3333333333333333,
              "#9c179e"
             ],
             [
              0.4444444444444444,
              "#bd3786"
             ],
             [
              0.5555555555555556,
              "#d8576b"
             ],
             [
              0.6666666666666666,
              "#ed7953"
             ],
             [
              0.7777777777777778,
              "#fb9f3a"
             ],
             [
              0.8888888888888888,
              "#fdca26"
             ],
             [
              1,
              "#f0f921"
             ]
            ],
            "type": "heatmap"
           }
          ],
          "heatmapgl": [
           {
            "colorbar": {
             "outlinewidth": 0,
             "ticks": ""
            },
            "colorscale": [
             [
              0,
              "#0d0887"
             ],
             [
              0.1111111111111111,
              "#46039f"
             ],
             [
              0.2222222222222222,
              "#7201a8"
             ],
             [
              0.3333333333333333,
              "#9c179e"
             ],
             [
              0.4444444444444444,
              "#bd3786"
             ],
             [
              0.5555555555555556,
              "#d8576b"
             ],
             [
              0.6666666666666666,
              "#ed7953"
             ],
             [
              0.7777777777777778,
              "#fb9f3a"
             ],
             [
              0.8888888888888888,
              "#fdca26"
             ],
             [
              1,
              "#f0f921"
             ]
            ],
            "type": "heatmapgl"
           }
          ],
          "histogram": [
           {
            "marker": {
             "pattern": {
              "fillmode": "overlay",
              "size": 10,
              "solidity": 0.2
             }
            },
            "type": "histogram"
           }
          ],
          "histogram2d": [
           {
            "colorbar": {
             "outlinewidth": 0,
             "ticks": ""
            },
            "colorscale": [
             [
              0,
              "#0d0887"
             ],
             [
              0.1111111111111111,
              "#46039f"
             ],
             [
              0.2222222222222222,
              "#7201a8"
             ],
             [
              0.3333333333333333,
              "#9c179e"
             ],
             [
              0.4444444444444444,
              "#bd3786"
             ],
             [
              0.5555555555555556,
              "#d8576b"
             ],
             [
              0.6666666666666666,
              "#ed7953"
             ],
             [
              0.7777777777777778,
              "#fb9f3a"
             ],
             [
              0.8888888888888888,
              "#fdca26"
             ],
             [
              1,
              "#f0f921"
             ]
            ],
            "type": "histogram2d"
           }
          ],
          "histogram2dcontour": [
           {
            "colorbar": {
             "outlinewidth": 0,
             "ticks": ""
            },
            "colorscale": [
             [
              0,
              "#0d0887"
             ],
             [
              0.1111111111111111,
              "#46039f"
             ],
             [
              0.2222222222222222,
              "#7201a8"
             ],
             [
              0.3333333333333333,
              "#9c179e"
             ],
             [
              0.4444444444444444,
              "#bd3786"
             ],
             [
              0.5555555555555556,
              "#d8576b"
             ],
             [
              0.6666666666666666,
              "#ed7953"
             ],
             [
              0.7777777777777778,
              "#fb9f3a"
             ],
             [
              0.8888888888888888,
              "#fdca26"
             ],
             [
              1,
              "#f0f921"
             ]
            ],
            "type": "histogram2dcontour"
           }
          ],
          "mesh3d": [
           {
            "colorbar": {
             "outlinewidth": 0,
             "ticks": ""
            },
            "type": "mesh3d"
           }
          ],
          "parcoords": [
           {
            "line": {
             "colorbar": {
              "outlinewidth": 0,
              "ticks": ""
             }
            },
            "type": "parcoords"
           }
          ],
          "pie": [
           {
            "automargin": true,
            "type": "pie"
           }
          ],
          "scatter": [
           {
            "marker": {
             "colorbar": {
              "outlinewidth": 0,
              "ticks": ""
             }
            },
            "type": "scatter"
           }
          ],
          "scatter3d": [
           {
            "line": {
             "colorbar": {
              "outlinewidth": 0,
              "ticks": ""
             }
            },
            "marker": {
             "colorbar": {
              "outlinewidth": 0,
              "ticks": ""
             }
            },
            "type": "scatter3d"
           }
          ],
          "scattercarpet": [
           {
            "marker": {
             "colorbar": {
              "outlinewidth": 0,
              "ticks": ""
             }
            },
            "type": "scattercarpet"
           }
          ],
          "scattergeo": [
           {
            "marker": {
             "colorbar": {
              "outlinewidth": 0,
              "ticks": ""
             }
            },
            "type": "scattergeo"
           }
          ],
          "scattergl": [
           {
            "marker": {
             "colorbar": {
              "outlinewidth": 0,
              "ticks": ""
             }
            },
            "type": "scattergl"
           }
          ],
          "scattermapbox": [
           {
            "marker": {
             "colorbar": {
              "outlinewidth": 0,
              "ticks": ""
             }
            },
            "type": "scattermapbox"
           }
          ],
          "scatterpolar": [
           {
            "marker": {
             "colorbar": {
              "outlinewidth": 0,
              "ticks": ""
             }
            },
            "type": "scatterpolar"
           }
          ],
          "scatterpolargl": [
           {
            "marker": {
             "colorbar": {
              "outlinewidth": 0,
              "ticks": ""
             }
            },
            "type": "scatterpolargl"
           }
          ],
          "scatterternary": [
           {
            "marker": {
             "colorbar": {
              "outlinewidth": 0,
              "ticks": ""
             }
            },
            "type": "scatterternary"
           }
          ],
          "surface": [
           {
            "colorbar": {
             "outlinewidth": 0,
             "ticks": ""
            },
            "colorscale": [
             [
              0,
              "#0d0887"
             ],
             [
              0.1111111111111111,
              "#46039f"
             ],
             [
              0.2222222222222222,
              "#7201a8"
             ],
             [
              0.3333333333333333,
              "#9c179e"
             ],
             [
              0.4444444444444444,
              "#bd3786"
             ],
             [
              0.5555555555555556,
              "#d8576b"
             ],
             [
              0.6666666666666666,
              "#ed7953"
             ],
             [
              0.7777777777777778,
              "#fb9f3a"
             ],
             [
              0.8888888888888888,
              "#fdca26"
             ],
             [
              1,
              "#f0f921"
             ]
            ],
            "type": "surface"
           }
          ],
          "table": [
           {
            "cells": {
             "fill": {
              "color": "#EBF0F8"
             },
             "line": {
              "color": "white"
             }
            },
            "header": {
             "fill": {
              "color": "#C8D4E3"
             },
             "line": {
              "color": "white"
             }
            },
            "type": "table"
           }
          ]
         },
         "layout": {
          "annotationdefaults": {
           "arrowcolor": "#2a3f5f",
           "arrowhead": 0,
           "arrowwidth": 1
          },
          "autotypenumbers": "strict",
          "coloraxis": {
           "colorbar": {
            "outlinewidth": 0,
            "ticks": ""
           }
          },
          "colorscale": {
           "diverging": [
            [
             0,
             "#8e0152"
            ],
            [
             0.1,
             "#c51b7d"
            ],
            [
             0.2,
             "#de77ae"
            ],
            [
             0.3,
             "#f1b6da"
            ],
            [
             0.4,
             "#fde0ef"
            ],
            [
             0.5,
             "#f7f7f7"
            ],
            [
             0.6,
             "#e6f5d0"
            ],
            [
             0.7,
             "#b8e186"
            ],
            [
             0.8,
             "#7fbc41"
            ],
            [
             0.9,
             "#4d9221"
            ],
            [
             1,
             "#276419"
            ]
           ],
           "sequential": [
            [
             0,
             "#0d0887"
            ],
            [
             0.1111111111111111,
             "#46039f"
            ],
            [
             0.2222222222222222,
             "#7201a8"
            ],
            [
             0.3333333333333333,
             "#9c179e"
            ],
            [
             0.4444444444444444,
             "#bd3786"
            ],
            [
             0.5555555555555556,
             "#d8576b"
            ],
            [
             0.6666666666666666,
             "#ed7953"
            ],
            [
             0.7777777777777778,
             "#fb9f3a"
            ],
            [
             0.8888888888888888,
             "#fdca26"
            ],
            [
             1,
             "#f0f921"
            ]
           ],
           "sequentialminus": [
            [
             0,
             "#0d0887"
            ],
            [
             0.1111111111111111,
             "#46039f"
            ],
            [
             0.2222222222222222,
             "#7201a8"
            ],
            [
             0.3333333333333333,
             "#9c179e"
            ],
            [
             0.4444444444444444,
             "#bd3786"
            ],
            [
             0.5555555555555556,
             "#d8576b"
            ],
            [
             0.6666666666666666,
             "#ed7953"
            ],
            [
             0.7777777777777778,
             "#fb9f3a"
            ],
            [
             0.8888888888888888,
             "#fdca26"
            ],
            [
             1,
             "#f0f921"
            ]
           ]
          },
          "colorway": [
           "#636efa",
           "#EF553B",
           "#00cc96",
           "#ab63fa",
           "#FFA15A",
           "#19d3f3",
           "#FF6692",
           "#B6E880",
           "#FF97FF",
           "#FECB52"
          ],
          "font": {
           "color": "#2a3f5f"
          },
          "geo": {
           "bgcolor": "white",
           "lakecolor": "white",
           "landcolor": "#E5ECF6",
           "showlakes": true,
           "showland": true,
           "subunitcolor": "white"
          },
          "hoverlabel": {
           "align": "left"
          },
          "hovermode": "closest",
          "mapbox": {
           "style": "light"
          },
          "paper_bgcolor": "white",
          "plot_bgcolor": "#E5ECF6",
          "polar": {
           "angularaxis": {
            "gridcolor": "white",
            "linecolor": "white",
            "ticks": ""
           },
           "bgcolor": "#E5ECF6",
           "radialaxis": {
            "gridcolor": "white",
            "linecolor": "white",
            "ticks": ""
           }
          },
          "scene": {
           "xaxis": {
            "backgroundcolor": "#E5ECF6",
            "gridcolor": "white",
            "gridwidth": 2,
            "linecolor": "white",
            "showbackground": true,
            "ticks": "",
            "zerolinecolor": "white"
           },
           "yaxis": {
            "backgroundcolor": "#E5ECF6",
            "gridcolor": "white",
            "gridwidth": 2,
            "linecolor": "white",
            "showbackground": true,
            "ticks": "",
            "zerolinecolor": "white"
           },
           "zaxis": {
            "backgroundcolor": "#E5ECF6",
            "gridcolor": "white",
            "gridwidth": 2,
            "linecolor": "white",
            "showbackground": true,
            "ticks": "",
            "zerolinecolor": "white"
           }
          },
          "shapedefaults": {
           "line": {
            "color": "#2a3f5f"
           }
          },
          "ternary": {
           "aaxis": {
            "gridcolor": "white",
            "linecolor": "white",
            "ticks": ""
           },
           "baxis": {
            "gridcolor": "white",
            "linecolor": "white",
            "ticks": ""
           },
           "bgcolor": "#E5ECF6",
           "caxis": {
            "gridcolor": "white",
            "linecolor": "white",
            "ticks": ""
           }
          },
          "title": {
           "x": 0.05
          },
          "xaxis": {
           "automargin": true,
           "gridcolor": "white",
           "linecolor": "white",
           "ticks": "",
           "title": {
            "standoff": 15
           },
           "zerolinecolor": "white",
           "zerolinewidth": 2
          },
          "yaxis": {
           "automargin": true,
           "gridcolor": "white",
           "linecolor": "white",
           "ticks": "",
           "title": {
            "standoff": 15
           },
           "zerolinecolor": "white",
           "zerolinewidth": 2
          }
         }
        },
        "title": {
         "text": "Station ZG02"
        },
        "width": 264.56692913385825,
        "xaxis": {
         "anchor": "y",
         "domain": [
          0,
          1
         ],
         "range": [
          0,
          220000
         ],
         "title": {
          "text": "average cell density per L"
         }
        },
        "yaxis": {
         "anchor": "x",
         "categoryarray": [
          "July_2021",
          "June_2021",
          "May_2021",
          "April_2021",
          "February_2021",
          "January_2021",
          "December_2020",
          "November_2020",
          "September_2020",
          "August_2020",
          "July_2020"
         ],
         "categoryorder": "array",
         "domain": [
          0,
          1
         ],
         "title": {
          "text": ""
         }
        }
       }
      }
     },
     "metadata": {},
     "output_type": "display_data"
    },
    {
     "data": {
      "application/vnd.plotly.v1+json": {
       "config": {
        "plotlyServerURL": "https://plot.ly"
       },
       "data": [
        {
         "alignmentgroup": "True",
         "bingroup": "y",
         "histfunc": "sum",
         "hovertemplate": "Taxon_grouped=Rare<br>sum of density_cell_L_sum=%{x}<br>Year_month=%{y}<extra></extra>",
         "legendgroup": "Rare",
         "marker": {
          "color": "#545454",
          "pattern": {
           "shape": ""
          }
         },
         "name": "Rare",
         "offsetgroup": "Rare",
         "orientation": "h",
         "showlegend": true,
         "type": "histogram",
         "x": [
          62.34922461008188,
          17.9432150019351,
          17.33296627567868,
          11.3770401291629,
          14.42031430363462,
          10.0319769264531,
          16.1987041036717,
          8.02073050345508,
          7.34047622656623,
          3.6584316088491,
          536.6212686022571,
          66.7055782539814,
          67.1958338583008,
          33.8610005925675
         ],
         "xaxis": "x",
         "y": [
          "June_2021",
          "June_2021",
          "June_2021",
          "June_2021",
          "April_2021",
          "April_2021",
          "April_2021",
          "September_2020",
          "August_2020",
          "August_2020",
          "July_2020",
          "July_2020",
          "July_2020",
          "July_2020"
         ],
         "yaxis": "y"
        },
        {
         "alignmentgroup": "True",
         "bingroup": "y",
         "histfunc": "sum",
         "hovertemplate": "Taxon_grouped=Bacillariophyta<br>sum of density_cell_L_sum=%{x}<br>Year_month=%{y}<extra></extra>",
         "legendgroup": "Bacillariophyta",
         "marker": {
          "color": "#E69F00",
          "pattern": {
           "shape": ""
          }
         },
         "name": "Bacillariophyta",
         "offsetgroup": "Bacillariophyta",
         "orientation": "h",
         "showlegend": true,
         "type": "histogram",
         "x": [
          15235.059903085637,
          2615.5784916745292,
          17950.836774168412,
          1318.9962643309923,
          1774.5058139667926,
          825.1199052594177,
          12457.702065616828,
          10489.78231735963,
          165486.3606338435
         ],
         "xaxis": "x",
         "y": [
          "June_2021",
          "May_2021",
          "April_2021",
          "February_2021",
          "December_2020",
          "November_2020",
          "September_2020",
          "August_2020",
          "July_2020"
         ],
         "yaxis": "y"
        },
        {
         "alignmentgroup": "True",
         "bingroup": "y",
         "histfunc": "sum",
         "hovertemplate": "Taxon_grouped=Dinophyceae<br>sum of density_cell_L_sum=%{x}<br>Year_month=%{y}<extra></extra>",
         "legendgroup": "Dinophyceae",
         "marker": {
          "color": "#56B4E9",
          "pattern": {
           "shape": ""
          }
         },
         "name": "Dinophyceae",
         "offsetgroup": "Dinophyceae",
         "orientation": "h",
         "showlegend": true,
         "type": "histogram",
         "x": [
          1015.985340814487,
          84.59614794788106,
          2.45008928067926,
          12.97399301320117,
          1.92984743773634,
          117.7397475041223
         ],
         "xaxis": "x",
         "y": [
          "June_2021",
          "May_2021",
          "February_2021",
          "December_2020",
          "November_2020",
          "August_2020"
         ],
         "yaxis": "y"
        },
        {
         "alignmentgroup": "True",
         "bingroup": "y",
         "histfunc": "sum",
         "hovertemplate": "Taxon_grouped=Prymnesiophyceae<br>sum of density_cell_L_sum=%{x}<br>Year_month=%{y}<extra></extra>",
         "legendgroup": "Prymnesiophyceae",
         "marker": {
          "color": "#009E73",
          "pattern": {
           "shape": ""
          }
         },
         "name": "Prymnesiophyceae",
         "offsetgroup": "Prymnesiophyceae",
         "orientation": "h",
         "showlegend": true,
         "type": "histogram",
         "x": [
          431.380986237584
         ],
         "xaxis": "x",
         "y": [
          "April_2021"
         ],
         "yaxis": "y"
        },
        {
         "alignmentgroup": "True",
         "bingroup": "y",
         "histfunc": "sum",
         "hovertemplate": "Taxon_grouped=Mollusca<br>sum of density_cell_L_sum=%{x}<br>Year_month=%{y}<extra></extra>",
         "legendgroup": "Mollusca",
         "marker": {
          "color": "#89CE00",
          "pattern": {
           "shape": ""
          }
         },
         "name": "Mollusca",
         "offsetgroup": "Mollusca",
         "orientation": "h",
         "showlegend": true,
         "type": "histogram",
         "x": [
          9.4559585492228,
          12.9935346180403,
          386.58921375582867
         ],
         "xaxis": "x",
         "y": [
          "May_2021",
          "December_2020",
          "August_2020"
         ],
         "yaxis": "y"
        },
        {
         "alignmentgroup": "True",
         "bingroup": "y",
         "histfunc": "sum",
         "hovertemplate": "Taxon_grouped=Arthropoda<br>sum of density_cell_L_sum=%{x}<br>Year_month=%{y}<extra></extra>",
         "legendgroup": "Arthropoda",
         "marker": {
          "color": "#0072B2",
          "pattern": {
           "shape": ""
          }
         },
         "name": "Arthropoda",
         "offsetgroup": "Arthropoda",
         "orientation": "h",
         "showlegend": true,
         "type": "histogram",
         "x": [
          23.52767924341216,
          13.7348393256733,
          21.6471946490645,
          14.02749868909504,
          176.54147813239206,
          154.3584605749485
         ],
         "xaxis": "x",
         "y": [
          "May_2021",
          "February_2021",
          "December_2020",
          "November_2020",
          "September_2020",
          "August_2020"
         ],
         "yaxis": "y"
        },
        {
         "alignmentgroup": "True",
         "bingroup": "y",
         "histfunc": "sum",
         "hovertemplate": "Taxon_grouped=Ciliates<br>sum of density_cell_L_sum=%{x}<br>Year_month=%{y}<extra></extra>",
         "legendgroup": "Ciliates",
         "marker": {
          "color": "#F0E442",
          "pattern": {
           "shape": ""
          }
         },
         "name": "Ciliates",
         "offsetgroup": "Ciliates",
         "orientation": "h",
         "showlegend": true,
         "type": "histogram",
         "x": [
          264.52656016576503,
          48.1558273181423
         ],
         "xaxis": "x",
         "y": [
          "May_2021",
          "September_2020"
         ],
         "yaxis": "y"
        },
        {
         "alignmentgroup": "True",
         "bingroup": "y",
         "histfunc": "sum",
         "hovertemplate": "Taxon_grouped=Porifera spicule<br>sum of density_cell_L_sum=%{x}<br>Year_month=%{y}<extra></extra>",
         "legendgroup": "Porifera spicule",
         "marker": {
          "color": "#FFA15A",
          "pattern": {
           "shape": ""
          }
         },
         "name": "Porifera spicule",
         "offsetgroup": "Porifera spicule",
         "orientation": "h",
         "showlegend": true,
         "type": "histogram",
         "x": [
          1.21924114938879,
          4.33117820601343
         ],
         "xaxis": "x",
         "y": [
          "February_2021",
          "December_2020"
         ],
         "yaxis": "y"
        },
        {
         "alignmentgroup": "True",
         "bingroup": "y",
         "histfunc": "sum",
         "hovertemplate": "Taxon_grouped=Appendicularia<br>sum of density_cell_L_sum=%{x}<br>Year_month=%{y}<extra></extra>",
         "legendgroup": "Appendicularia",
         "marker": {
          "color": "#FF0000",
          "pattern": {
           "shape": ""
          }
         },
         "name": "Appendicularia",
         "offsetgroup": "Appendicularia",
         "orientation": "h",
         "showlegend": true,
         "type": "histogram",
         "x": [
          4.3214129141354
         ],
         "xaxis": "x",
         "y": [
          "December_2020"
         ],
         "yaxis": "y"
        },
        {
         "alignmentgroup": "True",
         "bingroup": "y",
         "histfunc": "sum",
         "hovertemplate": "Taxon_grouped=Rotifera<br>sum of density_cell_L_sum=%{x}<br>Year_month=%{y}<extra></extra>",
         "legendgroup": "Rotifera",
         "marker": {
          "color": "#0000FF",
          "pattern": {
           "shape": ""
          }
         },
         "name": "Rotifera",
         "offsetgroup": "Rotifera",
         "orientation": "h",
         "showlegend": true,
         "type": "histogram",
         "x": [
          14.7749000521467
         ],
         "xaxis": "x",
         "y": [
          "August_2020"
         ],
         "yaxis": "y"
        }
       ],
       "layout": {
        "autosize": false,
        "barmode": "relative",
        "font": {
         "color": "#7f7f7f",
         "family": "Times New Roman, serif",
         "size": 12
        },
        "height": 226.77165354330708,
        "legend": {
         "title": {
          "text": "Taxon_grouped"
         },
         "tracegroupgap": 0
        },
        "margin": {
         "b": 25,
         "l": 0,
         "r": 25,
         "t": 25
        },
        "showlegend": false,
        "template": {
         "data": {
          "bar": [
           {
            "error_x": {
             "color": "#2a3f5f"
            },
            "error_y": {
             "color": "#2a3f5f"
            },
            "marker": {
             "line": {
              "color": "#E5ECF6",
              "width": 0.5
             },
             "pattern": {
              "fillmode": "overlay",
              "size": 10,
              "solidity": 0.2
             }
            },
            "type": "bar"
           }
          ],
          "barpolar": [
           {
            "marker": {
             "line": {
              "color": "#E5ECF6",
              "width": 0.5
             },
             "pattern": {
              "fillmode": "overlay",
              "size": 10,
              "solidity": 0.2
             }
            },
            "type": "barpolar"
           }
          ],
          "carpet": [
           {
            "aaxis": {
             "endlinecolor": "#2a3f5f",
             "gridcolor": "white",
             "linecolor": "white",
             "minorgridcolor": "white",
             "startlinecolor": "#2a3f5f"
            },
            "baxis": {
             "endlinecolor": "#2a3f5f",
             "gridcolor": "white",
             "linecolor": "white",
             "minorgridcolor": "white",
             "startlinecolor": "#2a3f5f"
            },
            "type": "carpet"
           }
          ],
          "choropleth": [
           {
            "colorbar": {
             "outlinewidth": 0,
             "ticks": ""
            },
            "type": "choropleth"
           }
          ],
          "contour": [
           {
            "colorbar": {
             "outlinewidth": 0,
             "ticks": ""
            },
            "colorscale": [
             [
              0,
              "#0d0887"
             ],
             [
              0.1111111111111111,
              "#46039f"
             ],
             [
              0.2222222222222222,
              "#7201a8"
             ],
             [
              0.3333333333333333,
              "#9c179e"
             ],
             [
              0.4444444444444444,
              "#bd3786"
             ],
             [
              0.5555555555555556,
              "#d8576b"
             ],
             [
              0.6666666666666666,
              "#ed7953"
             ],
             [
              0.7777777777777778,
              "#fb9f3a"
             ],
             [
              0.8888888888888888,
              "#fdca26"
             ],
             [
              1,
              "#f0f921"
             ]
            ],
            "type": "contour"
           }
          ],
          "contourcarpet": [
           {
            "colorbar": {
             "outlinewidth": 0,
             "ticks": ""
            },
            "type": "contourcarpet"
           }
          ],
          "heatmap": [
           {
            "colorbar": {
             "outlinewidth": 0,
             "ticks": ""
            },
            "colorscale": [
             [
              0,
              "#0d0887"
             ],
             [
              0.1111111111111111,
              "#46039f"
             ],
             [
              0.2222222222222222,
              "#7201a8"
             ],
             [
              0.3333333333333333,
              "#9c179e"
             ],
             [
              0.4444444444444444,
              "#bd3786"
             ],
             [
              0.5555555555555556,
              "#d8576b"
             ],
             [
              0.6666666666666666,
              "#ed7953"
             ],
             [
              0.7777777777777778,
              "#fb9f3a"
             ],
             [
              0.8888888888888888,
              "#fdca26"
             ],
             [
              1,
              "#f0f921"
             ]
            ],
            "type": "heatmap"
           }
          ],
          "heatmapgl": [
           {
            "colorbar": {
             "outlinewidth": 0,
             "ticks": ""
            },
            "colorscale": [
             [
              0,
              "#0d0887"
             ],
             [
              0.1111111111111111,
              "#46039f"
             ],
             [
              0.2222222222222222,
              "#7201a8"
             ],
             [
              0.3333333333333333,
              "#9c179e"
             ],
             [
              0.4444444444444444,
              "#bd3786"
             ],
             [
              0.5555555555555556,
              "#d8576b"
             ],
             [
              0.6666666666666666,
              "#ed7953"
             ],
             [
              0.7777777777777778,
              "#fb9f3a"
             ],
             [
              0.8888888888888888,
              "#fdca26"
             ],
             [
              1,
              "#f0f921"
             ]
            ],
            "type": "heatmapgl"
           }
          ],
          "histogram": [
           {
            "marker": {
             "pattern": {
              "fillmode": "overlay",
              "size": 10,
              "solidity": 0.2
             }
            },
            "type": "histogram"
           }
          ],
          "histogram2d": [
           {
            "colorbar": {
             "outlinewidth": 0,
             "ticks": ""
            },
            "colorscale": [
             [
              0,
              "#0d0887"
             ],
             [
              0.1111111111111111,
              "#46039f"
             ],
             [
              0.2222222222222222,
              "#7201a8"
             ],
             [
              0.3333333333333333,
              "#9c179e"
             ],
             [
              0.4444444444444444,
              "#bd3786"
             ],
             [
              0.5555555555555556,
              "#d8576b"
             ],
             [
              0.6666666666666666,
              "#ed7953"
             ],
             [
              0.7777777777777778,
              "#fb9f3a"
             ],
             [
              0.8888888888888888,
              "#fdca26"
             ],
             [
              1,
              "#f0f921"
             ]
            ],
            "type": "histogram2d"
           }
          ],
          "histogram2dcontour": [
           {
            "colorbar": {
             "outlinewidth": 0,
             "ticks": ""
            },
            "colorscale": [
             [
              0,
              "#0d0887"
             ],
             [
              0.1111111111111111,
              "#46039f"
             ],
             [
              0.2222222222222222,
              "#7201a8"
             ],
             [
              0.3333333333333333,
              "#9c179e"
             ],
             [
              0.4444444444444444,
              "#bd3786"
             ],
             [
              0.5555555555555556,
              "#d8576b"
             ],
             [
              0.6666666666666666,
              "#ed7953"
             ],
             [
              0.7777777777777778,
              "#fb9f3a"
             ],
             [
              0.8888888888888888,
              "#fdca26"
             ],
             [
              1,
              "#f0f921"
             ]
            ],
            "type": "histogram2dcontour"
           }
          ],
          "mesh3d": [
           {
            "colorbar": {
             "outlinewidth": 0,
             "ticks": ""
            },
            "type": "mesh3d"
           }
          ],
          "parcoords": [
           {
            "line": {
             "colorbar": {
              "outlinewidth": 0,
              "ticks": ""
             }
            },
            "type": "parcoords"
           }
          ],
          "pie": [
           {
            "automargin": true,
            "type": "pie"
           }
          ],
          "scatter": [
           {
            "marker": {
             "colorbar": {
              "outlinewidth": 0,
              "ticks": ""
             }
            },
            "type": "scatter"
           }
          ],
          "scatter3d": [
           {
            "line": {
             "colorbar": {
              "outlinewidth": 0,
              "ticks": ""
             }
            },
            "marker": {
             "colorbar": {
              "outlinewidth": 0,
              "ticks": ""
             }
            },
            "type": "scatter3d"
           }
          ],
          "scattercarpet": [
           {
            "marker": {
             "colorbar": {
              "outlinewidth": 0,
              "ticks": ""
             }
            },
            "type": "scattercarpet"
           }
          ],
          "scattergeo": [
           {
            "marker": {
             "colorbar": {
              "outlinewidth": 0,
              "ticks": ""
             }
            },
            "type": "scattergeo"
           }
          ],
          "scattergl": [
           {
            "marker": {
             "colorbar": {
              "outlinewidth": 0,
              "ticks": ""
             }
            },
            "type": "scattergl"
           }
          ],
          "scattermapbox": [
           {
            "marker": {
             "colorbar": {
              "outlinewidth": 0,
              "ticks": ""
             }
            },
            "type": "scattermapbox"
           }
          ],
          "scatterpolar": [
           {
            "marker": {
             "colorbar": {
              "outlinewidth": 0,
              "ticks": ""
             }
            },
            "type": "scatterpolar"
           }
          ],
          "scatterpolargl": [
           {
            "marker": {
             "colorbar": {
              "outlinewidth": 0,
              "ticks": ""
             }
            },
            "type": "scatterpolargl"
           }
          ],
          "scatterternary": [
           {
            "marker": {
             "colorbar": {
              "outlinewidth": 0,
              "ticks": ""
             }
            },
            "type": "scatterternary"
           }
          ],
          "surface": [
           {
            "colorbar": {
             "outlinewidth": 0,
             "ticks": ""
            },
            "colorscale": [
             [
              0,
              "#0d0887"
             ],
             [
              0.1111111111111111,
              "#46039f"
             ],
             [
              0.2222222222222222,
              "#7201a8"
             ],
             [
              0.3333333333333333,
              "#9c179e"
             ],
             [
              0.4444444444444444,
              "#bd3786"
             ],
             [
              0.5555555555555556,
              "#d8576b"
             ],
             [
              0.6666666666666666,
              "#ed7953"
             ],
             [
              0.7777777777777778,
              "#fb9f3a"
             ],
             [
              0.8888888888888888,
              "#fdca26"
             ],
             [
              1,
              "#f0f921"
             ]
            ],
            "type": "surface"
           }
          ],
          "table": [
           {
            "cells": {
             "fill": {
              "color": "#EBF0F8"
             },
             "line": {
              "color": "white"
             }
            },
            "header": {
             "fill": {
              "color": "#C8D4E3"
             },
             "line": {
              "color": "white"
             }
            },
            "type": "table"
           }
          ]
         },
         "layout": {
          "annotationdefaults": {
           "arrowcolor": "#2a3f5f",
           "arrowhead": 0,
           "arrowwidth": 1
          },
          "autotypenumbers": "strict",
          "coloraxis": {
           "colorbar": {
            "outlinewidth": 0,
            "ticks": ""
           }
          },
          "colorscale": {
           "diverging": [
            [
             0,
             "#8e0152"
            ],
            [
             0.1,
             "#c51b7d"
            ],
            [
             0.2,
             "#de77ae"
            ],
            [
             0.3,
             "#f1b6da"
            ],
            [
             0.4,
             "#fde0ef"
            ],
            [
             0.5,
             "#f7f7f7"
            ],
            [
             0.6,
             "#e6f5d0"
            ],
            [
             0.7,
             "#b8e186"
            ],
            [
             0.8,
             "#7fbc41"
            ],
            [
             0.9,
             "#4d9221"
            ],
            [
             1,
             "#276419"
            ]
           ],
           "sequential": [
            [
             0,
             "#0d0887"
            ],
            [
             0.1111111111111111,
             "#46039f"
            ],
            [
             0.2222222222222222,
             "#7201a8"
            ],
            [
             0.3333333333333333,
             "#9c179e"
            ],
            [
             0.4444444444444444,
             "#bd3786"
            ],
            [
             0.5555555555555556,
             "#d8576b"
            ],
            [
             0.6666666666666666,
             "#ed7953"
            ],
            [
             0.7777777777777778,
             "#fb9f3a"
            ],
            [
             0.8888888888888888,
             "#fdca26"
            ],
            [
             1,
             "#f0f921"
            ]
           ],
           "sequentialminus": [
            [
             0,
             "#0d0887"
            ],
            [
             0.1111111111111111,
             "#46039f"
            ],
            [
             0.2222222222222222,
             "#7201a8"
            ],
            [
             0.3333333333333333,
             "#9c179e"
            ],
            [
             0.4444444444444444,
             "#bd3786"
            ],
            [
             0.5555555555555556,
             "#d8576b"
            ],
            [
             0.6666666666666666,
             "#ed7953"
            ],
            [
             0.7777777777777778,
             "#fb9f3a"
            ],
            [
             0.8888888888888888,
             "#fdca26"
            ],
            [
             1,
             "#f0f921"
            ]
           ]
          },
          "colorway": [
           "#636efa",
           "#EF553B",
           "#00cc96",
           "#ab63fa",
           "#FFA15A",
           "#19d3f3",
           "#FF6692",
           "#B6E880",
           "#FF97FF",
           "#FECB52"
          ],
          "font": {
           "color": "#2a3f5f"
          },
          "geo": {
           "bgcolor": "white",
           "lakecolor": "white",
           "landcolor": "#E5ECF6",
           "showlakes": true,
           "showland": true,
           "subunitcolor": "white"
          },
          "hoverlabel": {
           "align": "left"
          },
          "hovermode": "closest",
          "mapbox": {
           "style": "light"
          },
          "paper_bgcolor": "white",
          "plot_bgcolor": "#E5ECF6",
          "polar": {
           "angularaxis": {
            "gridcolor": "white",
            "linecolor": "white",
            "ticks": ""
           },
           "bgcolor": "#E5ECF6",
           "radialaxis": {
            "gridcolor": "white",
            "linecolor": "white",
            "ticks": ""
           }
          },
          "scene": {
           "xaxis": {
            "backgroundcolor": "#E5ECF6",
            "gridcolor": "white",
            "gridwidth": 2,
            "linecolor": "white",
            "showbackground": true,
            "ticks": "",
            "zerolinecolor": "white"
           },
           "yaxis": {
            "backgroundcolor": "#E5ECF6",
            "gridcolor": "white",
            "gridwidth": 2,
            "linecolor": "white",
            "showbackground": true,
            "ticks": "",
            "zerolinecolor": "white"
           },
           "zaxis": {
            "backgroundcolor": "#E5ECF6",
            "gridcolor": "white",
            "gridwidth": 2,
            "linecolor": "white",
            "showbackground": true,
            "ticks": "",
            "zerolinecolor": "white"
           }
          },
          "shapedefaults": {
           "line": {
            "color": "#2a3f5f"
           }
          },
          "ternary": {
           "aaxis": {
            "gridcolor": "white",
            "linecolor": "white",
            "ticks": ""
           },
           "baxis": {
            "gridcolor": "white",
            "linecolor": "white",
            "ticks": ""
           },
           "bgcolor": "#E5ECF6",
           "caxis": {
            "gridcolor": "white",
            "linecolor": "white",
            "ticks": ""
           }
          },
          "title": {
           "x": 0.05
          },
          "xaxis": {
           "automargin": true,
           "gridcolor": "white",
           "linecolor": "white",
           "ticks": "",
           "title": {
            "standoff": 15
           },
           "zerolinecolor": "white",
           "zerolinewidth": 2
          },
          "yaxis": {
           "automargin": true,
           "gridcolor": "white",
           "linecolor": "white",
           "ticks": "",
           "title": {
            "standoff": 15
           },
           "zerolinecolor": "white",
           "zerolinewidth": 2
          }
         }
        },
        "title": {
         "text": "Station 120"
        },
        "width": 264.56692913385825,
        "xaxis": {
         "anchor": "y",
         "domain": [
          0,
          1
         ],
         "range": [
          0,
          220000
         ],
         "title": {
          "text": "average cell density per L"
         }
        },
        "yaxis": {
         "anchor": "x",
         "categoryarray": [
          "July_2021",
          "June_2021",
          "May_2021",
          "April_2021",
          "February_2021",
          "January_2021",
          "December_2020",
          "November_2020",
          "September_2020",
          "August_2020",
          "July_2020"
         ],
         "categoryorder": "array",
         "domain": [
          0,
          1
         ],
         "title": {
          "text": ""
         }
        }
       }
      }
     },
     "metadata": {},
     "output_type": "display_data"
    },
    {
     "data": {
      "application/vnd.plotly.v1+json": {
       "config": {
        "plotlyServerURL": "https://plot.ly"
       },
       "data": [
        {
         "alignmentgroup": "True",
         "bingroup": "y",
         "histfunc": "sum",
         "hovertemplate": "Taxon_grouped=Rare<br>sum of density_cell_L_sum=%{x}<br>Year_month=%{y}<extra></extra>",
         "legendgroup": "Rare",
         "marker": {
          "color": "#545454",
          "pattern": {
           "shape": ""
          }
         },
         "name": "Rare",
         "offsetgroup": "Rare",
         "orientation": "h",
         "showlegend": true,
         "type": "histogram",
         "x": [
          15.7288234330342,
          8.81900874341724,
          1.06147169929131,
          6.47091566935708,
          1.77486095202716,
          7.76590457256461,
          7.76590457256461,
          9.95038401413716
         ],
         "xaxis": "x",
         "y": [
          "July_2021",
          "June_2021",
          "May_2021",
          "April_2021",
          "November_2020",
          "September_2020",
          "September_2020",
          "August_2020"
         ],
         "yaxis": "y"
        },
        {
         "alignmentgroup": "True",
         "bingroup": "y",
         "histfunc": "sum",
         "hovertemplate": "Taxon_grouped=Bacillariophyta<br>sum of density_cell_L_sum=%{x}<br>Year_month=%{y}<extra></extra>",
         "legendgroup": "Bacillariophyta",
         "marker": {
          "color": "#E69F00",
          "pattern": {
           "shape": ""
          }
         },
         "name": "Bacillariophyta",
         "offsetgroup": "Bacillariophyta",
         "orientation": "h",
         "showlegend": true,
         "type": "histogram",
         "x": [
          27432.30765936371,
          30213.855202356073,
          795.0333396913388,
          7790.222237125802,
          1664.1334238621039,
          199.03249974930645,
          1106.1394266592622,
          2213.0158305025957,
          17398.00909167762,
          8379.452364997142
         ],
         "xaxis": "x",
         "y": [
          "July_2021",
          "June_2021",
          "May_2021",
          "April_2021",
          "February_2021",
          "January_2021",
          "December_2020",
          "November_2020",
          "September_2020",
          "August_2020"
         ],
         "yaxis": "y"
        },
        {
         "alignmentgroup": "True",
         "bingroup": "y",
         "histfunc": "sum",
         "hovertemplate": "Taxon_grouped=Dinophyceae<br>sum of density_cell_L_sum=%{x}<br>Year_month=%{y}<extra></extra>",
         "legendgroup": "Dinophyceae",
         "marker": {
          "color": "#56B4E9",
          "pattern": {
           "shape": ""
          }
         },
         "name": "Dinophyceae",
         "offsetgroup": "Dinophyceae",
         "orientation": "h",
         "showlegend": true,
         "type": "histogram",
         "x": [
          5748.954678846576,
          168.5099643931276,
          17.98231315328692,
          4.91368524339907,
          6.624549567792471,
          7.0977960573708705,
          263.6351968967926,
          660.3687383438768
         ],
         "xaxis": "x",
         "y": [
          "July_2021",
          "June_2021",
          "May_2021",
          "February_2021",
          "December_2020",
          "November_2020",
          "September_2020",
          "August_2020"
         ],
         "yaxis": "y"
        },
        {
         "alignmentgroup": "True",
         "bingroup": "y",
         "histfunc": "sum",
         "hovertemplate": "Taxon_grouped=Prymnesiophyceae<br>sum of density_cell_L_sum=%{x}<br>Year_month=%{y}<extra></extra>",
         "legendgroup": "Prymnesiophyceae",
         "marker": {
          "color": "#009E73",
          "pattern": {
           "shape": ""
          }
         },
         "name": "Prymnesiophyceae",
         "offsetgroup": "Prymnesiophyceae",
         "orientation": "h",
         "showlegend": true,
         "type": "histogram",
         "x": [
          1294.82283706945,
          67.6267321386255,
          66.6612509377972,
          9.85551330798479,
          0.722862043616761,
          3.54807434453452
         ],
         "xaxis": "x",
         "y": [
          "July_2021",
          "May_2021",
          "April_2021",
          "February_2021",
          "January_2021",
          "November_2020"
         ],
         "yaxis": "y"
        },
        {
         "alignmentgroup": "True",
         "bingroup": "y",
         "histfunc": "sum",
         "hovertemplate": "Taxon_grouped=Ciliates<br>sum of density_cell_L_sum=%{x}<br>Year_month=%{y}<extra></extra>",
         "legendgroup": "Ciliates",
         "marker": {
          "color": "#F0E442",
          "pattern": {
           "shape": ""
          }
         },
         "name": "Ciliates",
         "offsetgroup": "Ciliates",
         "orientation": "h",
         "showlegend": true,
         "type": "histogram",
         "x": [
          31.71217169750375,
          1.64030462800234,
          77.5815792240781,
          96.73017315665257
         ],
         "xaxis": "x",
         "y": [
          "May_2021",
          "February_2021",
          "September_2020",
          "August_2020"
         ],
         "yaxis": "y"
        },
        {
         "alignmentgroup": "True",
         "bingroup": "y",
         "histfunc": "sum",
         "hovertemplate": "Taxon_grouped=Arthropoda<br>sum of density_cell_L_sum=%{x}<br>Year_month=%{y}<extra></extra>",
         "legendgroup": "Arthropoda",
         "marker": {
          "color": "#0072B2",
          "pattern": {
           "shape": ""
          }
         },
         "name": "Arthropoda",
         "offsetgroup": "Arthropoda",
         "orientation": "h",
         "showlegend": true,
         "type": "histogram",
         "x": [
          17.99481029087605,
          27.6107771097751,
          19.65935584437868,
          10.137272779154051,
          24.2933776704207,
          40.766826189037126,
          318.2381328317466,
          135.8817691454188
         ],
         "xaxis": "x",
         "y": [
          "May_2021",
          "April_2021",
          "February_2021",
          "January_2021",
          "December_2020",
          "November_2020",
          "September_2020",
          "August_2020"
         ],
         "yaxis": "y"
        },
        {
         "alignmentgroup": "True",
         "bingroup": "y",
         "histfunc": "sum",
         "hovertemplate": "Taxon_grouped=Mollusca<br>sum of density_cell_L_sum=%{x}<br>Year_month=%{y}<extra></extra>",
         "legendgroup": "Mollusca",
         "marker": {
          "color": "#89CE00",
          "pattern": {
           "shape": ""
          }
         },
         "name": "Mollusca",
         "offsetgroup": "Mollusca",
         "orientation": "h",
         "showlegend": true,
         "type": "histogram",
         "x": [
          1.65197154937887,
          0.727811015851477
         ],
         "xaxis": "x",
         "y": [
          "February_2021",
          "January_2021"
         ],
         "yaxis": "y"
        },
        {
         "alignmentgroup": "True",
         "bingroup": "y",
         "histfunc": "sum",
         "hovertemplate": "Taxon_grouped=Porifera spicule<br>sum of density_cell_L_sum=%{x}<br>Year_month=%{y}<extra></extra>",
         "legendgroup": "Porifera spicule",
         "marker": {
          "color": "#FFA15A",
          "pattern": {
           "shape": ""
          }
         },
         "name": "Porifera spicule",
         "offsetgroup": "Porifera spicule",
         "orientation": "h",
         "showlegend": true,
         "type": "histogram",
         "x": [
          3.29223483302033,
          0.727811015851477
         ],
         "xaxis": "x",
         "y": [
          "February_2021",
          "January_2021"
         ],
         "yaxis": "y"
        },
        {
         "alignmentgroup": "True",
         "bingroup": "y",
         "histfunc": "sum",
         "hovertemplate": "Taxon_grouped=Cnidaria<br>sum of density_cell_L_sum=%{x}<br>Year_month=%{y}<extra></extra>",
         "legendgroup": "Cnidaria",
         "marker": {
          "color": "#A42324",
          "pattern": {
           "shape": ""
          }
         },
         "name": "Cnidaria",
         "offsetgroup": "Cnidaria",
         "orientation": "h",
         "showlegend": true,
         "type": "histogram",
         "x": [
          0.727811015851477
         ],
         "xaxis": "x",
         "y": [
          "January_2021"
         ],
         "yaxis": "y"
        },
        {
         "alignmentgroup": "True",
         "bingroup": "y",
         "histfunc": "sum",
         "hovertemplate": "Taxon_grouped=Appendicularia<br>sum of density_cell_L_sum=%{x}<br>Year_month=%{y}<extra></extra>",
         "legendgroup": "Appendicularia",
         "marker": {
          "color": "#FF0000",
          "pattern": {
           "shape": ""
          }
         },
         "name": "Appendicularia",
         "offsetgroup": "Appendicularia",
         "orientation": "h",
         "showlegend": true,
         "type": "histogram",
         "x": [
          2.2196998360449
         ],
         "xaxis": "x",
         "y": [
          "December_2020"
         ],
         "yaxis": "y"
        }
       ],
       "layout": {
        "autosize": false,
        "barmode": "relative",
        "font": {
         "color": "#7f7f7f",
         "family": "Times New Roman, serif",
         "size": 12
        },
        "height": 226.77165354330708,
        "legend": {
         "title": {
          "text": "Taxon_grouped"
         },
         "tracegroupgap": 0
        },
        "margin": {
         "b": 25,
         "l": 0,
         "r": 25,
         "t": 25
        },
        "showlegend": false,
        "template": {
         "data": {
          "bar": [
           {
            "error_x": {
             "color": "#2a3f5f"
            },
            "error_y": {
             "color": "#2a3f5f"
            },
            "marker": {
             "line": {
              "color": "#E5ECF6",
              "width": 0.5
             },
             "pattern": {
              "fillmode": "overlay",
              "size": 10,
              "solidity": 0.2
             }
            },
            "type": "bar"
           }
          ],
          "barpolar": [
           {
            "marker": {
             "line": {
              "color": "#E5ECF6",
              "width": 0.5
             },
             "pattern": {
              "fillmode": "overlay",
              "size": 10,
              "solidity": 0.2
             }
            },
            "type": "barpolar"
           }
          ],
          "carpet": [
           {
            "aaxis": {
             "endlinecolor": "#2a3f5f",
             "gridcolor": "white",
             "linecolor": "white",
             "minorgridcolor": "white",
             "startlinecolor": "#2a3f5f"
            },
            "baxis": {
             "endlinecolor": "#2a3f5f",
             "gridcolor": "white",
             "linecolor": "white",
             "minorgridcolor": "white",
             "startlinecolor": "#2a3f5f"
            },
            "type": "carpet"
           }
          ],
          "choropleth": [
           {
            "colorbar": {
             "outlinewidth": 0,
             "ticks": ""
            },
            "type": "choropleth"
           }
          ],
          "contour": [
           {
            "colorbar": {
             "outlinewidth": 0,
             "ticks": ""
            },
            "colorscale": [
             [
              0,
              "#0d0887"
             ],
             [
              0.1111111111111111,
              "#46039f"
             ],
             [
              0.2222222222222222,
              "#7201a8"
             ],
             [
              0.3333333333333333,
              "#9c179e"
             ],
             [
              0.4444444444444444,
              "#bd3786"
             ],
             [
              0.5555555555555556,
              "#d8576b"
             ],
             [
              0.6666666666666666,
              "#ed7953"
             ],
             [
              0.7777777777777778,
              "#fb9f3a"
             ],
             [
              0.8888888888888888,
              "#fdca26"
             ],
             [
              1,
              "#f0f921"
             ]
            ],
            "type": "contour"
           }
          ],
          "contourcarpet": [
           {
            "colorbar": {
             "outlinewidth": 0,
             "ticks": ""
            },
            "type": "contourcarpet"
           }
          ],
          "heatmap": [
           {
            "colorbar": {
             "outlinewidth": 0,
             "ticks": ""
            },
            "colorscale": [
             [
              0,
              "#0d0887"
             ],
             [
              0.1111111111111111,
              "#46039f"
             ],
             [
              0.2222222222222222,
              "#7201a8"
             ],
             [
              0.3333333333333333,
              "#9c179e"
             ],
             [
              0.4444444444444444,
              "#bd3786"
             ],
             [
              0.5555555555555556,
              "#d8576b"
             ],
             [
              0.6666666666666666,
              "#ed7953"
             ],
             [
              0.7777777777777778,
              "#fb9f3a"
             ],
             [
              0.8888888888888888,
              "#fdca26"
             ],
             [
              1,
              "#f0f921"
             ]
            ],
            "type": "heatmap"
           }
          ],
          "heatmapgl": [
           {
            "colorbar": {
             "outlinewidth": 0,
             "ticks": ""
            },
            "colorscale": [
             [
              0,
              "#0d0887"
             ],
             [
              0.1111111111111111,
              "#46039f"
             ],
             [
              0.2222222222222222,
              "#7201a8"
             ],
             [
              0.3333333333333333,
              "#9c179e"
             ],
             [
              0.4444444444444444,
              "#bd3786"
             ],
             [
              0.5555555555555556,
              "#d8576b"
             ],
             [
              0.6666666666666666,
              "#ed7953"
             ],
             [
              0.7777777777777778,
              "#fb9f3a"
             ],
             [
              0.8888888888888888,
              "#fdca26"
             ],
             [
              1,
              "#f0f921"
             ]
            ],
            "type": "heatmapgl"
           }
          ],
          "histogram": [
           {
            "marker": {
             "pattern": {
              "fillmode": "overlay",
              "size": 10,
              "solidity": 0.2
             }
            },
            "type": "histogram"
           }
          ],
          "histogram2d": [
           {
            "colorbar": {
             "outlinewidth": 0,
             "ticks": ""
            },
            "colorscale": [
             [
              0,
              "#0d0887"
             ],
             [
              0.1111111111111111,
              "#46039f"
             ],
             [
              0.2222222222222222,
              "#7201a8"
             ],
             [
              0.3333333333333333,
              "#9c179e"
             ],
             [
              0.4444444444444444,
              "#bd3786"
             ],
             [
              0.5555555555555556,
              "#d8576b"
             ],
             [
              0.6666666666666666,
              "#ed7953"
             ],
             [
              0.7777777777777778,
              "#fb9f3a"
             ],
             [
              0.8888888888888888,
              "#fdca26"
             ],
             [
              1,
              "#f0f921"
             ]
            ],
            "type": "histogram2d"
           }
          ],
          "histogram2dcontour": [
           {
            "colorbar": {
             "outlinewidth": 0,
             "ticks": ""
            },
            "colorscale": [
             [
              0,
              "#0d0887"
             ],
             [
              0.1111111111111111,
              "#46039f"
             ],
             [
              0.2222222222222222,
              "#7201a8"
             ],
             [
              0.3333333333333333,
              "#9c179e"
             ],
             [
              0.4444444444444444,
              "#bd3786"
             ],
             [
              0.5555555555555556,
              "#d8576b"
             ],
             [
              0.6666666666666666,
              "#ed7953"
             ],
             [
              0.7777777777777778,
              "#fb9f3a"
             ],
             [
              0.8888888888888888,
              "#fdca26"
             ],
             [
              1,
              "#f0f921"
             ]
            ],
            "type": "histogram2dcontour"
           }
          ],
          "mesh3d": [
           {
            "colorbar": {
             "outlinewidth": 0,
             "ticks": ""
            },
            "type": "mesh3d"
           }
          ],
          "parcoords": [
           {
            "line": {
             "colorbar": {
              "outlinewidth": 0,
              "ticks": ""
             }
            },
            "type": "parcoords"
           }
          ],
          "pie": [
           {
            "automargin": true,
            "type": "pie"
           }
          ],
          "scatter": [
           {
            "marker": {
             "colorbar": {
              "outlinewidth": 0,
              "ticks": ""
             }
            },
            "type": "scatter"
           }
          ],
          "scatter3d": [
           {
            "line": {
             "colorbar": {
              "outlinewidth": 0,
              "ticks": ""
             }
            },
            "marker": {
             "colorbar": {
              "outlinewidth": 0,
              "ticks": ""
             }
            },
            "type": "scatter3d"
           }
          ],
          "scattercarpet": [
           {
            "marker": {
             "colorbar": {
              "outlinewidth": 0,
              "ticks": ""
             }
            },
            "type": "scattercarpet"
           }
          ],
          "scattergeo": [
           {
            "marker": {
             "colorbar": {
              "outlinewidth": 0,
              "ticks": ""
             }
            },
            "type": "scattergeo"
           }
          ],
          "scattergl": [
           {
            "marker": {
             "colorbar": {
              "outlinewidth": 0,
              "ticks": ""
             }
            },
            "type": "scattergl"
           }
          ],
          "scattermapbox": [
           {
            "marker": {
             "colorbar": {
              "outlinewidth": 0,
              "ticks": ""
             }
            },
            "type": "scattermapbox"
           }
          ],
          "scatterpolar": [
           {
            "marker": {
             "colorbar": {
              "outlinewidth": 0,
              "ticks": ""
             }
            },
            "type": "scatterpolar"
           }
          ],
          "scatterpolargl": [
           {
            "marker": {
             "colorbar": {
              "outlinewidth": 0,
              "ticks": ""
             }
            },
            "type": "scatterpolargl"
           }
          ],
          "scatterternary": [
           {
            "marker": {
             "colorbar": {
              "outlinewidth": 0,
              "ticks": ""
             }
            },
            "type": "scatterternary"
           }
          ],
          "surface": [
           {
            "colorbar": {
             "outlinewidth": 0,
             "ticks": ""
            },
            "colorscale": [
             [
              0,
              "#0d0887"
             ],
             [
              0.1111111111111111,
              "#46039f"
             ],
             [
              0.2222222222222222,
              "#7201a8"
             ],
             [
              0.3333333333333333,
              "#9c179e"
             ],
             [
              0.4444444444444444,
              "#bd3786"
             ],
             [
              0.5555555555555556,
              "#d8576b"
             ],
             [
              0.6666666666666666,
              "#ed7953"
             ],
             [
              0.7777777777777778,
              "#fb9f3a"
             ],
             [
              0.8888888888888888,
              "#fdca26"
             ],
             [
              1,
              "#f0f921"
             ]
            ],
            "type": "surface"
           }
          ],
          "table": [
           {
            "cells": {
             "fill": {
              "color": "#EBF0F8"
             },
             "line": {
              "color": "white"
             }
            },
            "header": {
             "fill": {
              "color": "#C8D4E3"
             },
             "line": {
              "color": "white"
             }
            },
            "type": "table"
           }
          ]
         },
         "layout": {
          "annotationdefaults": {
           "arrowcolor": "#2a3f5f",
           "arrowhead": 0,
           "arrowwidth": 1
          },
          "autotypenumbers": "strict",
          "coloraxis": {
           "colorbar": {
            "outlinewidth": 0,
            "ticks": ""
           }
          },
          "colorscale": {
           "diverging": [
            [
             0,
             "#8e0152"
            ],
            [
             0.1,
             "#c51b7d"
            ],
            [
             0.2,
             "#de77ae"
            ],
            [
             0.3,
             "#f1b6da"
            ],
            [
             0.4,
             "#fde0ef"
            ],
            [
             0.5,
             "#f7f7f7"
            ],
            [
             0.6,
             "#e6f5d0"
            ],
            [
             0.7,
             "#b8e186"
            ],
            [
             0.8,
             "#7fbc41"
            ],
            [
             0.9,
             "#4d9221"
            ],
            [
             1,
             "#276419"
            ]
           ],
           "sequential": [
            [
             0,
             "#0d0887"
            ],
            [
             0.1111111111111111,
             "#46039f"
            ],
            [
             0.2222222222222222,
             "#7201a8"
            ],
            [
             0.3333333333333333,
             "#9c179e"
            ],
            [
             0.4444444444444444,
             "#bd3786"
            ],
            [
             0.5555555555555556,
             "#d8576b"
            ],
            [
             0.6666666666666666,
             "#ed7953"
            ],
            [
             0.7777777777777778,
             "#fb9f3a"
            ],
            [
             0.8888888888888888,
             "#fdca26"
            ],
            [
             1,
             "#f0f921"
            ]
           ],
           "sequentialminus": [
            [
             0,
             "#0d0887"
            ],
            [
             0.1111111111111111,
             "#46039f"
            ],
            [
             0.2222222222222222,
             "#7201a8"
            ],
            [
             0.3333333333333333,
             "#9c179e"
            ],
            [
             0.4444444444444444,
             "#bd3786"
            ],
            [
             0.5555555555555556,
             "#d8576b"
            ],
            [
             0.6666666666666666,
             "#ed7953"
            ],
            [
             0.7777777777777778,
             "#fb9f3a"
            ],
            [
             0.8888888888888888,
             "#fdca26"
            ],
            [
             1,
             "#f0f921"
            ]
           ]
          },
          "colorway": [
           "#636efa",
           "#EF553B",
           "#00cc96",
           "#ab63fa",
           "#FFA15A",
           "#19d3f3",
           "#FF6692",
           "#B6E880",
           "#FF97FF",
           "#FECB52"
          ],
          "font": {
           "color": "#2a3f5f"
          },
          "geo": {
           "bgcolor": "white",
           "lakecolor": "white",
           "landcolor": "#E5ECF6",
           "showlakes": true,
           "showland": true,
           "subunitcolor": "white"
          },
          "hoverlabel": {
           "align": "left"
          },
          "hovermode": "closest",
          "mapbox": {
           "style": "light"
          },
          "paper_bgcolor": "white",
          "plot_bgcolor": "#E5ECF6",
          "polar": {
           "angularaxis": {
            "gridcolor": "white",
            "linecolor": "white",
            "ticks": ""
           },
           "bgcolor": "#E5ECF6",
           "radialaxis": {
            "gridcolor": "white",
            "linecolor": "white",
            "ticks": ""
           }
          },
          "scene": {
           "xaxis": {
            "backgroundcolor": "#E5ECF6",
            "gridcolor": "white",
            "gridwidth": 2,
            "linecolor": "white",
            "showbackground": true,
            "ticks": "",
            "zerolinecolor": "white"
           },
           "yaxis": {
            "backgroundcolor": "#E5ECF6",
            "gridcolor": "white",
            "gridwidth": 2,
            "linecolor": "white",
            "showbackground": true,
            "ticks": "",
            "zerolinecolor": "white"
           },
           "zaxis": {
            "backgroundcolor": "#E5ECF6",
            "gridcolor": "white",
            "gridwidth": 2,
            "linecolor": "white",
            "showbackground": true,
            "ticks": "",
            "zerolinecolor": "white"
           }
          },
          "shapedefaults": {
           "line": {
            "color": "#2a3f5f"
           }
          },
          "ternary": {
           "aaxis": {
            "gridcolor": "white",
            "linecolor": "white",
            "ticks": ""
           },
           "baxis": {
            "gridcolor": "white",
            "linecolor": "white",
            "ticks": ""
           },
           "bgcolor": "#E5ECF6",
           "caxis": {
            "gridcolor": "white",
            "linecolor": "white",
            "ticks": ""
           }
          },
          "title": {
           "x": 0.05
          },
          "xaxis": {
           "automargin": true,
           "gridcolor": "white",
           "linecolor": "white",
           "ticks": "",
           "title": {
            "standoff": 15
           },
           "zerolinecolor": "white",
           "zerolinewidth": 2
          },
          "yaxis": {
           "automargin": true,
           "gridcolor": "white",
           "linecolor": "white",
           "ticks": "",
           "title": {
            "standoff": 15
           },
           "zerolinecolor": "white",
           "zerolinewidth": 2
          }
         }
        },
        "title": {
         "text": "Station 330"
        },
        "width": 264.56692913385825,
        "xaxis": {
         "anchor": "y",
         "domain": [
          0,
          1
         ],
         "range": [
          0,
          220000
         ],
         "title": {
          "text": "average cell density per L"
         }
        },
        "yaxis": {
         "anchor": "x",
         "categoryarray": [
          "July_2021",
          "June_2021",
          "May_2021",
          "April_2021",
          "February_2021",
          "January_2021",
          "December_2020",
          "November_2020",
          "September_2020",
          "August_2020",
          "July_2020"
         ],
         "categoryorder": "array",
         "domain": [
          0,
          1
         ],
         "title": {
          "text": ""
         }
        }
       }
      }
     },
     "metadata": {},
     "output_type": "display_data"
    },
    {
     "data": {
      "application/vnd.plotly.v1+json": {
       "config": {
        "plotlyServerURL": "https://plot.ly"
       },
       "data": [
        {
         "alignmentgroup": "True",
         "bingroup": "y",
         "histfunc": "sum",
         "hovertemplate": "Taxon_grouped=Rare<br>sum of density_cell_L_sum=%{x}<br>Year_month=%{y}<extra></extra>",
         "legendgroup": "Rare",
         "marker": {
          "color": "#545454",
          "pattern": {
           "shape": ""
          }
         },
         "name": "Rare",
         "offsetgroup": "Rare",
         "orientation": "h",
         "showlegend": true,
         "type": "histogram",
         "x": [
          66.606891251441,
          6.7237653085728,
          7.33460466480857,
          14.5707104435567,
          20.178768945622,
          7.23676275479436,
          11.8086990749852,
          10.757582026563,
          10.757582026563,
          10.757582026563,
          156.9986302717126,
          60.3522874522735,
          75.4371030056971
         ],
         "xaxis": "x",
         "y": [
          "July_2021",
          "June_2021",
          "April_2021",
          "April_2021",
          "April_2021",
          "April_2021",
          "September_2020",
          "August_2020",
          "August_2020",
          "August_2020",
          "August_2020",
          "July_2020",
          "July_2020"
         ],
         "yaxis": "y"
        },
        {
         "alignmentgroup": "True",
         "bingroup": "y",
         "histfunc": "sum",
         "hovertemplate": "Taxon_grouped=Bacillariophyta<br>sum of density_cell_L_sum=%{x}<br>Year_month=%{y}<extra></extra>",
         "legendgroup": "Bacillariophyta",
         "marker": {
          "color": "#E69F00",
          "pattern": {
           "shape": ""
          }
         },
         "name": "Bacillariophyta",
         "offsetgroup": "Bacillariophyta",
         "orientation": "h",
         "showlegend": true,
         "type": "histogram",
         "x": [
          13048.54234415838,
          383.2450434807668,
          70191.79830856092,
          24749.4963185466,
          2772.081909880387,
          504.9848348241814,
          1675.347761317557,
          17196.60351826331,
          36859.37535008034,
          69748.28376350607
         ],
         "xaxis": "x",
         "y": [
          "July_2021",
          "June_2021",
          "May_2021",
          "April_2021",
          "February_2021",
          "January_2021",
          "December_2020",
          "September_2020",
          "August_2020",
          "July_2020"
         ],
         "yaxis": "y"
        },
        {
         "alignmentgroup": "True",
         "bingroup": "y",
         "histfunc": "sum",
         "hovertemplate": "Taxon_grouped=Dinophyceae<br>sum of density_cell_L_sum=%{x}<br>Year_month=%{y}<extra></extra>",
         "legendgroup": "Dinophyceae",
         "marker": {
          "color": "#56B4E9",
          "pattern": {
           "shape": ""
          }
         },
         "name": "Dinophyceae",
         "offsetgroup": "Dinophyceae",
         "orientation": "h",
         "showlegend": true,
         "type": "histogram",
         "x": [
          5525.49509828969,
          1707.8345585350003,
          220.748414581014,
          5.17184942716858,
          3.08167061210687,
          14.14855987872664,
          205.2566544359195,
          445.3842424031417
         ],
         "xaxis": "x",
         "y": [
          "July_2021",
          "June_2021",
          "May_2021",
          "February_2021",
          "January_2021",
          "December_2020",
          "September_2020",
          "July_2020"
         ],
         "yaxis": "y"
        },
        {
         "alignmentgroup": "True",
         "bingroup": "y",
         "histfunc": "sum",
         "hovertemplate": "Taxon_grouped=Prymnesiophyceae<br>sum of density_cell_L_sum=%{x}<br>Year_month=%{y}<extra></extra>",
         "legendgroup": "Prymnesiophyceae",
         "marker": {
          "color": "#009E73",
          "pattern": {
           "shape": ""
          }
         },
         "name": "Prymnesiophyceae",
         "offsetgroup": "Prymnesiophyceae",
         "orientation": "h",
         "showlegend": true,
         "type": "histogram",
         "x": [
          107.581428995957,
          232.234993956399
         ],
         "xaxis": "x",
         "y": [
          "June_2021",
          "April_2021"
         ],
         "yaxis": "y"
        },
        {
         "alignmentgroup": "True",
         "bingroup": "y",
         "histfunc": "sum",
         "hovertemplate": "Taxon_grouped=Ciliates<br>sum of density_cell_L_sum=%{x}<br>Year_month=%{y}<extra></extra>",
         "legendgroup": "Ciliates",
         "marker": {
          "color": "#F0E442",
          "pattern": {
           "shape": ""
          }
         },
         "name": "Ciliates",
         "offsetgroup": "Ciliates",
         "orientation": "h",
         "showlegend": true,
         "type": "histogram",
         "x": [
          133.170071947052,
          26.8961376826096,
          3.08680843372888,
          3.53713996968166,
          174.55816263549661,
          186.7538983676318,
          499.2246703052388
         ],
         "xaxis": "x",
         "y": [
          "July_2021",
          "June_2021",
          "January_2021",
          "December_2020",
          "September_2020",
          "August_2020",
          "July_2020"
         ],
         "yaxis": "y"
        },
        {
         "alignmentgroup": "True",
         "bingroup": "y",
         "histfunc": "sum",
         "hovertemplate": "Taxon_grouped=Arthropoda<br>sum of density_cell_L_sum=%{x}<br>Year_month=%{y}<extra></extra>",
         "legendgroup": "Arthropoda",
         "marker": {
          "color": "#0072B2",
          "pattern": {
           "shape": ""
          }
         },
         "name": "Arthropoda",
         "offsetgroup": "Arthropoda",
         "orientation": "h",
         "showlegend": true,
         "type": "histogram",
         "x": [
          266.255975358521,
          20.171834142697,
          220.694995644178,
          10.0256987848599,
          10.2772640907952,
          28.503088410386198,
          326.6279457907672,
          1248.189076922381,
          203.327330084058
         ],
         "xaxis": "x",
         "y": [
          "July_2021",
          "June_2021",
          "May_2021",
          "February_2021",
          "January_2021",
          "December_2020",
          "September_2020",
          "August_2020",
          "July_2020"
         ],
         "yaxis": "y"
        },
        {
         "alignmentgroup": "True",
         "bingroup": "y",
         "histfunc": "sum",
         "hovertemplate": "Taxon_grouped=Nematoda<br>sum of density_cell_L_sum=%{x}<br>Year_month=%{y}<extra></extra>",
         "legendgroup": "Nematoda",
         "marker": {
          "color": "#FFA15A",
          "pattern": {
           "shape": ""
          }
         },
         "name": "Nematoda",
         "offsetgroup": "Nematoda",
         "orientation": "h",
         "showlegend": true,
         "type": "histogram",
         "x": [
          5.17184942716858
         ],
         "xaxis": "x",
         "y": [
          "February_2021"
         ],
         "yaxis": "y"
        },
        {
         "alignmentgroup": "True",
         "bingroup": "y",
         "histfunc": "sum",
         "hovertemplate": "Taxon_grouped=Cnidaria<br>sum of density_cell_L_sum=%{x}<br>Year_month=%{y}<extra></extra>",
         "legendgroup": "Cnidaria",
         "marker": {
          "color": "#A42324",
          "pattern": {
           "shape": ""
          }
         },
         "name": "Cnidaria",
         "offsetgroup": "Cnidaria",
         "orientation": "h",
         "showlegend": true,
         "type": "histogram",
         "x": [
          5.01284939242996,
          1.02230776512164
         ],
         "xaxis": "x",
         "y": [
          "February_2021",
          "January_2021"
         ],
         "yaxis": "y"
        },
        {
         "alignmentgroup": "True",
         "bingroup": "y",
         "histfunc": "sum",
         "hovertemplate": "Taxon_grouped=Porifera spicule<br>sum of density_cell_L_sum=%{x}<br>Year_month=%{y}<extra></extra>",
         "legendgroup": "Porifera spicule",
         "marker": {
          "color": "#19d3f3",
          "pattern": {
           "shape": ""
          }
         },
         "name": "Porifera spicule",
         "offsetgroup": "Porifera spicule",
         "orientation": "h",
         "showlegend": true,
         "type": "histogram",
         "x": [
          10.1822165654352,
          3.56824264049955
         ],
         "xaxis": "x",
         "y": [
          "February_2021",
          "December_2020"
         ],
         "yaxis": "y"
        },
        {
         "alignmentgroup": "True",
         "bingroup": "y",
         "histfunc": "sum",
         "hovertemplate": "Taxon_grouped=Mollusca<br>sum of density_cell_L_sum=%{x}<br>Year_month=%{y}<extra></extra>",
         "legendgroup": "Mollusca",
         "marker": {
          "color": "#89CE00",
          "pattern": {
           "shape": ""
          }
         },
         "name": "Mollusca",
         "offsetgroup": "Mollusca",
         "orientation": "h",
         "showlegend": true,
         "type": "histogram",
         "x": [
          1.0322745085545
         ],
         "xaxis": "x",
         "y": [
          "January_2021"
         ],
         "yaxis": "y"
        }
       ],
       "layout": {
        "autosize": false,
        "barmode": "relative",
        "font": {
         "color": "#7f7f7f",
         "family": "Times New Roman, serif",
         "size": 12
        },
        "height": 226.77165354330708,
        "legend": {
         "title": {
          "text": "Taxon_grouped"
         },
         "tracegroupgap": 0
        },
        "margin": {
         "b": 25,
         "l": 0,
         "r": 25,
         "t": 25
        },
        "showlegend": false,
        "template": {
         "data": {
          "bar": [
           {
            "error_x": {
             "color": "#2a3f5f"
            },
            "error_y": {
             "color": "#2a3f5f"
            },
            "marker": {
             "line": {
              "color": "#E5ECF6",
              "width": 0.5
             },
             "pattern": {
              "fillmode": "overlay",
              "size": 10,
              "solidity": 0.2
             }
            },
            "type": "bar"
           }
          ],
          "barpolar": [
           {
            "marker": {
             "line": {
              "color": "#E5ECF6",
              "width": 0.5
             },
             "pattern": {
              "fillmode": "overlay",
              "size": 10,
              "solidity": 0.2
             }
            },
            "type": "barpolar"
           }
          ],
          "carpet": [
           {
            "aaxis": {
             "endlinecolor": "#2a3f5f",
             "gridcolor": "white",
             "linecolor": "white",
             "minorgridcolor": "white",
             "startlinecolor": "#2a3f5f"
            },
            "baxis": {
             "endlinecolor": "#2a3f5f",
             "gridcolor": "white",
             "linecolor": "white",
             "minorgridcolor": "white",
             "startlinecolor": "#2a3f5f"
            },
            "type": "carpet"
           }
          ],
          "choropleth": [
           {
            "colorbar": {
             "outlinewidth": 0,
             "ticks": ""
            },
            "type": "choropleth"
           }
          ],
          "contour": [
           {
            "colorbar": {
             "outlinewidth": 0,
             "ticks": ""
            },
            "colorscale": [
             [
              0,
              "#0d0887"
             ],
             [
              0.1111111111111111,
              "#46039f"
             ],
             [
              0.2222222222222222,
              "#7201a8"
             ],
             [
              0.3333333333333333,
              "#9c179e"
             ],
             [
              0.4444444444444444,
              "#bd3786"
             ],
             [
              0.5555555555555556,
              "#d8576b"
             ],
             [
              0.6666666666666666,
              "#ed7953"
             ],
             [
              0.7777777777777778,
              "#fb9f3a"
             ],
             [
              0.8888888888888888,
              "#fdca26"
             ],
             [
              1,
              "#f0f921"
             ]
            ],
            "type": "contour"
           }
          ],
          "contourcarpet": [
           {
            "colorbar": {
             "outlinewidth": 0,
             "ticks": ""
            },
            "type": "contourcarpet"
           }
          ],
          "heatmap": [
           {
            "colorbar": {
             "outlinewidth": 0,
             "ticks": ""
            },
            "colorscale": [
             [
              0,
              "#0d0887"
             ],
             [
              0.1111111111111111,
              "#46039f"
             ],
             [
              0.2222222222222222,
              "#7201a8"
             ],
             [
              0.3333333333333333,
              "#9c179e"
             ],
             [
              0.4444444444444444,
              "#bd3786"
             ],
             [
              0.5555555555555556,
              "#d8576b"
             ],
             [
              0.6666666666666666,
              "#ed7953"
             ],
             [
              0.7777777777777778,
              "#fb9f3a"
             ],
             [
              0.8888888888888888,
              "#fdca26"
             ],
             [
              1,
              "#f0f921"
             ]
            ],
            "type": "heatmap"
           }
          ],
          "heatmapgl": [
           {
            "colorbar": {
             "outlinewidth": 0,
             "ticks": ""
            },
            "colorscale": [
             [
              0,
              "#0d0887"
             ],
             [
              0.1111111111111111,
              "#46039f"
             ],
             [
              0.2222222222222222,
              "#7201a8"
             ],
             [
              0.3333333333333333,
              "#9c179e"
             ],
             [
              0.4444444444444444,
              "#bd3786"
             ],
             [
              0.5555555555555556,
              "#d8576b"
             ],
             [
              0.6666666666666666,
              "#ed7953"
             ],
             [
              0.7777777777777778,
              "#fb9f3a"
             ],
             [
              0.8888888888888888,
              "#fdca26"
             ],
             [
              1,
              "#f0f921"
             ]
            ],
            "type": "heatmapgl"
           }
          ],
          "histogram": [
           {
            "marker": {
             "pattern": {
              "fillmode": "overlay",
              "size": 10,
              "solidity": 0.2
             }
            },
            "type": "histogram"
           }
          ],
          "histogram2d": [
           {
            "colorbar": {
             "outlinewidth": 0,
             "ticks": ""
            },
            "colorscale": [
             [
              0,
              "#0d0887"
             ],
             [
              0.1111111111111111,
              "#46039f"
             ],
             [
              0.2222222222222222,
              "#7201a8"
             ],
             [
              0.3333333333333333,
              "#9c179e"
             ],
             [
              0.4444444444444444,
              "#bd3786"
             ],
             [
              0.5555555555555556,
              "#d8576b"
             ],
             [
              0.6666666666666666,
              "#ed7953"
             ],
             [
              0.7777777777777778,
              "#fb9f3a"
             ],
             [
              0.8888888888888888,
              "#fdca26"
             ],
             [
              1,
              "#f0f921"
             ]
            ],
            "type": "histogram2d"
           }
          ],
          "histogram2dcontour": [
           {
            "colorbar": {
             "outlinewidth": 0,
             "ticks": ""
            },
            "colorscale": [
             [
              0,
              "#0d0887"
             ],
             [
              0.1111111111111111,
              "#46039f"
             ],
             [
              0.2222222222222222,
              "#7201a8"
             ],
             [
              0.3333333333333333,
              "#9c179e"
             ],
             [
              0.4444444444444444,
              "#bd3786"
             ],
             [
              0.5555555555555556,
              "#d8576b"
             ],
             [
              0.6666666666666666,
              "#ed7953"
             ],
             [
              0.7777777777777778,
              "#fb9f3a"
             ],
             [
              0.8888888888888888,
              "#fdca26"
             ],
             [
              1,
              "#f0f921"
             ]
            ],
            "type": "histogram2dcontour"
           }
          ],
          "mesh3d": [
           {
            "colorbar": {
             "outlinewidth": 0,
             "ticks": ""
            },
            "type": "mesh3d"
           }
          ],
          "parcoords": [
           {
            "line": {
             "colorbar": {
              "outlinewidth": 0,
              "ticks": ""
             }
            },
            "type": "parcoords"
           }
          ],
          "pie": [
           {
            "automargin": true,
            "type": "pie"
           }
          ],
          "scatter": [
           {
            "marker": {
             "colorbar": {
              "outlinewidth": 0,
              "ticks": ""
             }
            },
            "type": "scatter"
           }
          ],
          "scatter3d": [
           {
            "line": {
             "colorbar": {
              "outlinewidth": 0,
              "ticks": ""
             }
            },
            "marker": {
             "colorbar": {
              "outlinewidth": 0,
              "ticks": ""
             }
            },
            "type": "scatter3d"
           }
          ],
          "scattercarpet": [
           {
            "marker": {
             "colorbar": {
              "outlinewidth": 0,
              "ticks": ""
             }
            },
            "type": "scattercarpet"
           }
          ],
          "scattergeo": [
           {
            "marker": {
             "colorbar": {
              "outlinewidth": 0,
              "ticks": ""
             }
            },
            "type": "scattergeo"
           }
          ],
          "scattergl": [
           {
            "marker": {
             "colorbar": {
              "outlinewidth": 0,
              "ticks": ""
             }
            },
            "type": "scattergl"
           }
          ],
          "scattermapbox": [
           {
            "marker": {
             "colorbar": {
              "outlinewidth": 0,
              "ticks": ""
             }
            },
            "type": "scattermapbox"
           }
          ],
          "scatterpolar": [
           {
            "marker": {
             "colorbar": {
              "outlinewidth": 0,
              "ticks": ""
             }
            },
            "type": "scatterpolar"
           }
          ],
          "scatterpolargl": [
           {
            "marker": {
             "colorbar": {
              "outlinewidth": 0,
              "ticks": ""
             }
            },
            "type": "scatterpolargl"
           }
          ],
          "scatterternary": [
           {
            "marker": {
             "colorbar": {
              "outlinewidth": 0,
              "ticks": ""
             }
            },
            "type": "scatterternary"
           }
          ],
          "surface": [
           {
            "colorbar": {
             "outlinewidth": 0,
             "ticks": ""
            },
            "colorscale": [
             [
              0,
              "#0d0887"
             ],
             [
              0.1111111111111111,
              "#46039f"
             ],
             [
              0.2222222222222222,
              "#7201a8"
             ],
             [
              0.3333333333333333,
              "#9c179e"
             ],
             [
              0.4444444444444444,
              "#bd3786"
             ],
             [
              0.5555555555555556,
              "#d8576b"
             ],
             [
              0.6666666666666666,
              "#ed7953"
             ],
             [
              0.7777777777777778,
              "#fb9f3a"
             ],
             [
              0.8888888888888888,
              "#fdca26"
             ],
             [
              1,
              "#f0f921"
             ]
            ],
            "type": "surface"
           }
          ],
          "table": [
           {
            "cells": {
             "fill": {
              "color": "#EBF0F8"
             },
             "line": {
              "color": "white"
             }
            },
            "header": {
             "fill": {
              "color": "#C8D4E3"
             },
             "line": {
              "color": "white"
             }
            },
            "type": "table"
           }
          ]
         },
         "layout": {
          "annotationdefaults": {
           "arrowcolor": "#2a3f5f",
           "arrowhead": 0,
           "arrowwidth": 1
          },
          "autotypenumbers": "strict",
          "coloraxis": {
           "colorbar": {
            "outlinewidth": 0,
            "ticks": ""
           }
          },
          "colorscale": {
           "diverging": [
            [
             0,
             "#8e0152"
            ],
            [
             0.1,
             "#c51b7d"
            ],
            [
             0.2,
             "#de77ae"
            ],
            [
             0.3,
             "#f1b6da"
            ],
            [
             0.4,
             "#fde0ef"
            ],
            [
             0.5,
             "#f7f7f7"
            ],
            [
             0.6,
             "#e6f5d0"
            ],
            [
             0.7,
             "#b8e186"
            ],
            [
             0.8,
             "#7fbc41"
            ],
            [
             0.9,
             "#4d9221"
            ],
            [
             1,
             "#276419"
            ]
           ],
           "sequential": [
            [
             0,
             "#0d0887"
            ],
            [
             0.1111111111111111,
             "#46039f"
            ],
            [
             0.2222222222222222,
             "#7201a8"
            ],
            [
             0.3333333333333333,
             "#9c179e"
            ],
            [
             0.4444444444444444,
             "#bd3786"
            ],
            [
             0.5555555555555556,
             "#d8576b"
            ],
            [
             0.6666666666666666,
             "#ed7953"
            ],
            [
             0.7777777777777778,
             "#fb9f3a"
            ],
            [
             0.8888888888888888,
             "#fdca26"
            ],
            [
             1,
             "#f0f921"
            ]
           ],
           "sequentialminus": [
            [
             0,
             "#0d0887"
            ],
            [
             0.1111111111111111,
             "#46039f"
            ],
            [
             0.2222222222222222,
             "#7201a8"
            ],
            [
             0.3333333333333333,
             "#9c179e"
            ],
            [
             0.4444444444444444,
             "#bd3786"
            ],
            [
             0.5555555555555556,
             "#d8576b"
            ],
            [
             0.6666666666666666,
             "#ed7953"
            ],
            [
             0.7777777777777778,
             "#fb9f3a"
            ],
            [
             0.8888888888888888,
             "#fdca26"
            ],
            [
             1,
             "#f0f921"
            ]
           ]
          },
          "colorway": [
           "#636efa",
           "#EF553B",
           "#00cc96",
           "#ab63fa",
           "#FFA15A",
           "#19d3f3",
           "#FF6692",
           "#B6E880",
           "#FF97FF",
           "#FECB52"
          ],
          "font": {
           "color": "#2a3f5f"
          },
          "geo": {
           "bgcolor": "white",
           "lakecolor": "white",
           "landcolor": "#E5ECF6",
           "showlakes": true,
           "showland": true,
           "subunitcolor": "white"
          },
          "hoverlabel": {
           "align": "left"
          },
          "hovermode": "closest",
          "mapbox": {
           "style": "light"
          },
          "paper_bgcolor": "white",
          "plot_bgcolor": "#E5ECF6",
          "polar": {
           "angularaxis": {
            "gridcolor": "white",
            "linecolor": "white",
            "ticks": ""
           },
           "bgcolor": "#E5ECF6",
           "radialaxis": {
            "gridcolor": "white",
            "linecolor": "white",
            "ticks": ""
           }
          },
          "scene": {
           "xaxis": {
            "backgroundcolor": "#E5ECF6",
            "gridcolor": "white",
            "gridwidth": 2,
            "linecolor": "white",
            "showbackground": true,
            "ticks": "",
            "zerolinecolor": "white"
           },
           "yaxis": {
            "backgroundcolor": "#E5ECF6",
            "gridcolor": "white",
            "gridwidth": 2,
            "linecolor": "white",
            "showbackground": true,
            "ticks": "",
            "zerolinecolor": "white"
           },
           "zaxis": {
            "backgroundcolor": "#E5ECF6",
            "gridcolor": "white",
            "gridwidth": 2,
            "linecolor": "white",
            "showbackground": true,
            "ticks": "",
            "zerolinecolor": "white"
           }
          },
          "shapedefaults": {
           "line": {
            "color": "#2a3f5f"
           }
          },
          "ternary": {
           "aaxis": {
            "gridcolor": "white",
            "linecolor": "white",
            "ticks": ""
           },
           "baxis": {
            "gridcolor": "white",
            "linecolor": "white",
            "ticks": ""
           },
           "bgcolor": "#E5ECF6",
           "caxis": {
            "gridcolor": "white",
            "linecolor": "white",
            "ticks": ""
           }
          },
          "title": {
           "x": 0.05
          },
          "xaxis": {
           "automargin": true,
           "gridcolor": "white",
           "linecolor": "white",
           "ticks": "",
           "title": {
            "standoff": 15
           },
           "zerolinecolor": "white",
           "zerolinewidth": 2
          },
          "yaxis": {
           "automargin": true,
           "gridcolor": "white",
           "linecolor": "white",
           "ticks": "",
           "title": {
            "standoff": 15
           },
           "zerolinecolor": "white",
           "zerolinewidth": 2
          }
         }
        },
        "title": {
         "text": "Station 130"
        },
        "width": 264.56692913385825,
        "xaxis": {
         "anchor": "y",
         "domain": [
          0,
          1
         ],
         "range": [
          0,
          220000
         ],
         "title": {
          "text": "average cell density per L"
         }
        },
        "yaxis": {
         "anchor": "x",
         "categoryarray": [
          "July_2021",
          "June_2021",
          "May_2021",
          "April_2021",
          "February_2021",
          "January_2021",
          "December_2020",
          "November_2020",
          "September_2020",
          "August_2020",
          "July_2020"
         ],
         "categoryorder": "array",
         "domain": [
          0,
          1
         ],
         "title": {
          "text": ""
         }
        }
       }
      }
     },
     "metadata": {},
     "output_type": "display_data"
    },
    {
     "data": {
      "application/vnd.plotly.v1+json": {
       "config": {
        "plotlyServerURL": "https://plot.ly"
       },
       "data": [
        {
         "alignmentgroup": "True",
         "bingroup": "y",
         "histfunc": "sum",
         "hovertemplate": "Taxon_grouped=Rare<br>sum of density_cell_L_sum=%{x}<br>Year_month=%{y}<extra></extra>",
         "legendgroup": "Rare",
         "marker": {
          "color": "#545454",
          "pattern": {
           "shape": ""
          }
         },
         "name": "Rare",
         "offsetgroup": "Rare",
         "orientation": "h",
         "showlegend": true,
         "type": "histogram",
         "x": [
          60.8399109816039,
          60.8399109816039,
          4.50169491525424,
          1.11569786901707,
          0.864959729229998,
          0.653104452583734,
          0.653104452583734,
          0.60526746278423,
          0.653104452583734,
          2.08567972302173,
          2.32158610762873,
          5.5385566373049,
          37.073652990608,
          74.4474602559131,
          37.3250388802488
         ],
         "xaxis": "x",
         "y": [
          "July_2021",
          "July_2021",
          "May_2021",
          "January_2021",
          "December_2020",
          "November_2020",
          "November_2020",
          "November_2020",
          "November_2020",
          "September_2020",
          "September_2020",
          "August_2020",
          "July_2020",
          "July_2020",
          "July_2020"
         ],
         "yaxis": "y"
        },
        {
         "alignmentgroup": "True",
         "bingroup": "y",
         "histfunc": "sum",
         "hovertemplate": "Taxon_grouped=Bacillariophyta<br>sum of density_cell_L_sum=%{x}<br>Year_month=%{y}<extra></extra>",
         "legendgroup": "Bacillariophyta",
         "marker": {
          "color": "#E69F00",
          "pattern": {
           "shape": ""
          }
         },
         "name": "Bacillariophyta",
         "offsetgroup": "Bacillariophyta",
         "orientation": "h",
         "showlegend": true,
         "type": "histogram",
         "x": [
          113836.37911520607,
          7081.219128741055,
          3918.265158535725,
          572.8367853214266,
          1159.8440164625267,
          896.6583385988038,
          745.879218270733,
          5266.213462927797,
          5300.639742186807,
          139576.0097905948
         ],
         "xaxis": "x",
         "y": [
          "July_2021",
          "June_2021",
          "May_2021",
          "February_2021",
          "January_2021",
          "December_2020",
          "November_2020",
          "September_2020",
          "August_2020",
          "July_2020"
         ],
         "yaxis": "y"
        },
        {
         "alignmentgroup": "True",
         "bingroup": "y",
         "histfunc": "sum",
         "hovertemplate": "Taxon_grouped=Dinophyceae<br>sum of density_cell_L_sum=%{x}<br>Year_month=%{y}<extra></extra>",
         "legendgroup": "Dinophyceae",
         "marker": {
          "color": "#56B4E9",
          "pattern": {
           "shape": ""
          }
         },
         "name": "Dinophyceae",
         "offsetgroup": "Dinophyceae",
         "orientation": "h",
         "showlegend": true,
         "type": "histogram",
         "x": [
          10221.46351804679,
          460.968653761478,
          75.26351359752519,
          5.15344666702302,
          6.906691045917766,
          7.357065010548224,
          250.2068099239234,
          146.52848885934202,
          2715.080609584886
         ],
         "xaxis": "x",
         "y": [
          "July_2021",
          "June_2021",
          "May_2021",
          "February_2021",
          "December_2020",
          "November_2020",
          "September_2020",
          "August_2020",
          "July_2020"
         ],
         "yaxis": "y"
        },
        {
         "alignmentgroup": "True",
         "bingroup": "y",
         "histfunc": "sum",
         "hovertemplate": "Taxon_grouped=Prymnesiophyceae<br>sum of density_cell_L_sum=%{x}<br>Year_month=%{y}<extra></extra>",
         "legendgroup": "Prymnesiophyceae",
         "marker": {
          "color": "#009E73",
          "pattern": {
           "shape": ""
          }
         },
         "name": "Prymnesiophyceae",
         "offsetgroup": "Prymnesiophyceae",
         "orientation": "h",
         "showlegend": true,
         "type": "histogram",
         "x": [
          129.09530979017,
          21.8821265208737
         ],
         "xaxis": "x",
         "y": [
          "June_2021",
          "May_2021"
         ],
         "yaxis": "y"
        },
        {
         "alignmentgroup": "True",
         "bingroup": "y",
         "histfunc": "sum",
         "hovertemplate": "Taxon_grouped=Arthropoda<br>sum of density_cell_L_sum=%{x}<br>Year_month=%{y}<extra></extra>",
         "legendgroup": "Arthropoda",
         "marker": {
          "color": "#0072B2",
          "pattern": {
           "shape": ""
          }
         },
         "name": "Arthropoda",
         "offsetgroup": "Arthropoda",
         "orientation": "h",
         "showlegend": true,
         "type": "histogram",
         "x": [
          18.4374083064366,
          11.0305599670412,
          6.13755885383624,
          7.8500490233335505,
          36.31963824589167,
          66.68344025411672,
          365.07388658508523,
          387.15103133065816
         ],
         "xaxis": "x",
         "y": [
          "June_2021",
          "May_2021",
          "February_2021",
          "January_2021",
          "December_2020",
          "November_2020",
          "September_2020",
          "August_2020"
         ],
         "yaxis": "y"
        },
        {
         "alignmentgroup": "True",
         "bingroup": "y",
         "histfunc": "sum",
         "hovertemplate": "Taxon_grouped=Ciliates<br>sum of density_cell_L_sum=%{x}<br>Year_month=%{y}<extra></extra>",
         "legendgroup": "Ciliates",
         "marker": {
          "color": "#F0E442",
          "pattern": {
           "shape": ""
          }
         },
         "name": "Ciliates",
         "offsetgroup": "Ciliates",
         "orientation": "h",
         "showlegend": true,
         "type": "histogram",
         "x": [
          19.70977510926907,
          106.50798036757843,
          187.9153313248187
         ],
         "xaxis": "x",
         "y": [
          "May_2021",
          "September_2020",
          "August_2020"
         ],
         "yaxis": "y"
        },
        {
         "alignmentgroup": "True",
         "bingroup": "y",
         "histfunc": "sum",
         "hovertemplate": "Taxon_grouped=Porifera spicule<br>sum of density_cell_L_sum=%{x}<br>Year_month=%{y}<extra></extra>",
         "legendgroup": "Porifera spicule",
         "marker": {
          "color": "#FFA15A",
          "pattern": {
           "shape": ""
          }
         },
         "name": "Porifera spicule",
         "offsetgroup": "Porifera spicule",
         "orientation": "h",
         "showlegend": true,
         "type": "histogram",
         "x": [
          1.00263852242744,
          5.06361162098867,
          2.59190083162036
         ],
         "xaxis": "x",
         "y": [
          "February_2021",
          "January_2021",
          "December_2020"
         ],
         "yaxis": "y"
        },
        {
         "alignmentgroup": "True",
         "bingroup": "y",
         "histfunc": "sum",
         "hovertemplate": "Taxon_grouped=Nematoda<br>sum of density_cell_L_sum=%{x}<br>Year_month=%{y}<extra></extra>",
         "legendgroup": "Nematoda",
         "marker": {
          "color": "#19d3f3",
          "pattern": {
           "shape": ""
          }
         },
         "name": "Nematoda",
         "offsetgroup": "Nematoda",
         "orientation": "h",
         "showlegend": true,
         "type": "histogram",
         "x": [
          1.26590290524717
         ],
         "xaxis": "x",
         "y": [
          "January_2021"
         ],
         "yaxis": "y"
        },
        {
         "alignmentgroup": "True",
         "bingroup": "y",
         "histfunc": "sum",
         "hovertemplate": "Taxon_grouped=Cnidaria<br>sum of density_cell_L_sum=%{x}<br>Year_month=%{y}<extra></extra>",
         "legendgroup": "Cnidaria",
         "marker": {
          "color": "#A42324",
          "pattern": {
           "shape": ""
          }
         },
         "name": "Cnidaria",
         "offsetgroup": "Cnidaria",
         "orientation": "h",
         "showlegend": true,
         "type": "histogram",
         "x": [
          2.37212750185322,
          1.73198205264974,
          31.2180200016994
         ],
         "xaxis": "x",
         "y": [
          "January_2021",
          "December_2020",
          "September_2020"
         ],
         "yaxis": "y"
        },
        {
         "alignmentgroup": "True",
         "bingroup": "y",
         "histfunc": "sum",
         "hovertemplate": "Taxon_grouped=Mollusca<br>sum of density_cell_L_sum=%{x}<br>Year_month=%{y}<extra></extra>",
         "legendgroup": "Mollusca",
         "marker": {
          "color": "#89CE00",
          "pattern": {
           "shape": ""
          }
         },
         "name": "Mollusca",
         "offsetgroup": "Mollusca",
         "orientation": "h",
         "showlegend": true,
         "type": "histogram",
         "x": [
          2.54770212455617,
          51.05510103993273,
          16.57027094412492
         ],
         "xaxis": "x",
         "y": [
          "November_2020",
          "September_2020",
          "August_2020"
         ],
         "yaxis": "y"
        },
        {
         "alignmentgroup": "True",
         "bingroup": "y",
         "histfunc": "sum",
         "hovertemplate": "Taxon_grouped=Rotifera<br>sum of density_cell_L_sum=%{x}<br>Year_month=%{y}<extra></extra>",
         "legendgroup": "Rotifera",
         "marker": {
          "color": "#0000FF",
          "pattern": {
           "shape": ""
          }
         },
         "name": "Rotifera",
         "offsetgroup": "Rotifera",
         "orientation": "h",
         "showlegend": true,
         "type": "histogram",
         "x": [
          1.29838798113828,
          8.27501282709082
         ],
         "xaxis": "x",
         "y": [
          "November_2020",
          "August_2020"
         ],
         "yaxis": "y"
        }
       ],
       "layout": {
        "autosize": false,
        "barmode": "relative",
        "font": {
         "color": "#7f7f7f",
         "family": "Times New Roman, serif",
         "size": 12
        },
        "height": 226.77165354330708,
        "legend": {
         "title": {
          "text": "Taxon_grouped"
         },
         "tracegroupgap": 0
        },
        "margin": {
         "b": 25,
         "l": 0,
         "r": 25,
         "t": 25
        },
        "showlegend": false,
        "template": {
         "data": {
          "bar": [
           {
            "error_x": {
             "color": "#2a3f5f"
            },
            "error_y": {
             "color": "#2a3f5f"
            },
            "marker": {
             "line": {
              "color": "#E5ECF6",
              "width": 0.5
             },
             "pattern": {
              "fillmode": "overlay",
              "size": 10,
              "solidity": 0.2
             }
            },
            "type": "bar"
           }
          ],
          "barpolar": [
           {
            "marker": {
             "line": {
              "color": "#E5ECF6",
              "width": 0.5
             },
             "pattern": {
              "fillmode": "overlay",
              "size": 10,
              "solidity": 0.2
             }
            },
            "type": "barpolar"
           }
          ],
          "carpet": [
           {
            "aaxis": {
             "endlinecolor": "#2a3f5f",
             "gridcolor": "white",
             "linecolor": "white",
             "minorgridcolor": "white",
             "startlinecolor": "#2a3f5f"
            },
            "baxis": {
             "endlinecolor": "#2a3f5f",
             "gridcolor": "white",
             "linecolor": "white",
             "minorgridcolor": "white",
             "startlinecolor": "#2a3f5f"
            },
            "type": "carpet"
           }
          ],
          "choropleth": [
           {
            "colorbar": {
             "outlinewidth": 0,
             "ticks": ""
            },
            "type": "choropleth"
           }
          ],
          "contour": [
           {
            "colorbar": {
             "outlinewidth": 0,
             "ticks": ""
            },
            "colorscale": [
             [
              0,
              "#0d0887"
             ],
             [
              0.1111111111111111,
              "#46039f"
             ],
             [
              0.2222222222222222,
              "#7201a8"
             ],
             [
              0.3333333333333333,
              "#9c179e"
             ],
             [
              0.4444444444444444,
              "#bd3786"
             ],
             [
              0.5555555555555556,
              "#d8576b"
             ],
             [
              0.6666666666666666,
              "#ed7953"
             ],
             [
              0.7777777777777778,
              "#fb9f3a"
             ],
             [
              0.8888888888888888,
              "#fdca26"
             ],
             [
              1,
              "#f0f921"
             ]
            ],
            "type": "contour"
           }
          ],
          "contourcarpet": [
           {
            "colorbar": {
             "outlinewidth": 0,
             "ticks": ""
            },
            "type": "contourcarpet"
           }
          ],
          "heatmap": [
           {
            "colorbar": {
             "outlinewidth": 0,
             "ticks": ""
            },
            "colorscale": [
             [
              0,
              "#0d0887"
             ],
             [
              0.1111111111111111,
              "#46039f"
             ],
             [
              0.2222222222222222,
              "#7201a8"
             ],
             [
              0.3333333333333333,
              "#9c179e"
             ],
             [
              0.4444444444444444,
              "#bd3786"
             ],
             [
              0.5555555555555556,
              "#d8576b"
             ],
             [
              0.6666666666666666,
              "#ed7953"
             ],
             [
              0.7777777777777778,
              "#fb9f3a"
             ],
             [
              0.8888888888888888,
              "#fdca26"
             ],
             [
              1,
              "#f0f921"
             ]
            ],
            "type": "heatmap"
           }
          ],
          "heatmapgl": [
           {
            "colorbar": {
             "outlinewidth": 0,
             "ticks": ""
            },
            "colorscale": [
             [
              0,
              "#0d0887"
             ],
             [
              0.1111111111111111,
              "#46039f"
             ],
             [
              0.2222222222222222,
              "#7201a8"
             ],
             [
              0.3333333333333333,
              "#9c179e"
             ],
             [
              0.4444444444444444,
              "#bd3786"
             ],
             [
              0.5555555555555556,
              "#d8576b"
             ],
             [
              0.6666666666666666,
              "#ed7953"
             ],
             [
              0.7777777777777778,
              "#fb9f3a"
             ],
             [
              0.8888888888888888,
              "#fdca26"
             ],
             [
              1,
              "#f0f921"
             ]
            ],
            "type": "heatmapgl"
           }
          ],
          "histogram": [
           {
            "marker": {
             "pattern": {
              "fillmode": "overlay",
              "size": 10,
              "solidity": 0.2
             }
            },
            "type": "histogram"
           }
          ],
          "histogram2d": [
           {
            "colorbar": {
             "outlinewidth": 0,
             "ticks": ""
            },
            "colorscale": [
             [
              0,
              "#0d0887"
             ],
             [
              0.1111111111111111,
              "#46039f"
             ],
             [
              0.2222222222222222,
              "#7201a8"
             ],
             [
              0.3333333333333333,
              "#9c179e"
             ],
             [
              0.4444444444444444,
              "#bd3786"
             ],
             [
              0.5555555555555556,
              "#d8576b"
             ],
             [
              0.6666666666666666,
              "#ed7953"
             ],
             [
              0.7777777777777778,
              "#fb9f3a"
             ],
             [
              0.8888888888888888,
              "#fdca26"
             ],
             [
              1,
              "#f0f921"
             ]
            ],
            "type": "histogram2d"
           }
          ],
          "histogram2dcontour": [
           {
            "colorbar": {
             "outlinewidth": 0,
             "ticks": ""
            },
            "colorscale": [
             [
              0,
              "#0d0887"
             ],
             [
              0.1111111111111111,
              "#46039f"
             ],
             [
              0.2222222222222222,
              "#7201a8"
             ],
             [
              0.3333333333333333,
              "#9c179e"
             ],
             [
              0.4444444444444444,
              "#bd3786"
             ],
             [
              0.5555555555555556,
              "#d8576b"
             ],
             [
              0.6666666666666666,
              "#ed7953"
             ],
             [
              0.7777777777777778,
              "#fb9f3a"
             ],
             [
              0.8888888888888888,
              "#fdca26"
             ],
             [
              1,
              "#f0f921"
             ]
            ],
            "type": "histogram2dcontour"
           }
          ],
          "mesh3d": [
           {
            "colorbar": {
             "outlinewidth": 0,
             "ticks": ""
            },
            "type": "mesh3d"
           }
          ],
          "parcoords": [
           {
            "line": {
             "colorbar": {
              "outlinewidth": 0,
              "ticks": ""
             }
            },
            "type": "parcoords"
           }
          ],
          "pie": [
           {
            "automargin": true,
            "type": "pie"
           }
          ],
          "scatter": [
           {
            "marker": {
             "colorbar": {
              "outlinewidth": 0,
              "ticks": ""
             }
            },
            "type": "scatter"
           }
          ],
          "scatter3d": [
           {
            "line": {
             "colorbar": {
              "outlinewidth": 0,
              "ticks": ""
             }
            },
            "marker": {
             "colorbar": {
              "outlinewidth": 0,
              "ticks": ""
             }
            },
            "type": "scatter3d"
           }
          ],
          "scattercarpet": [
           {
            "marker": {
             "colorbar": {
              "outlinewidth": 0,
              "ticks": ""
             }
            },
            "type": "scattercarpet"
           }
          ],
          "scattergeo": [
           {
            "marker": {
             "colorbar": {
              "outlinewidth": 0,
              "ticks": ""
             }
            },
            "type": "scattergeo"
           }
          ],
          "scattergl": [
           {
            "marker": {
             "colorbar": {
              "outlinewidth": 0,
              "ticks": ""
             }
            },
            "type": "scattergl"
           }
          ],
          "scattermapbox": [
           {
            "marker": {
             "colorbar": {
              "outlinewidth": 0,
              "ticks": ""
             }
            },
            "type": "scattermapbox"
           }
          ],
          "scatterpolar": [
           {
            "marker": {
             "colorbar": {
              "outlinewidth": 0,
              "ticks": ""
             }
            },
            "type": "scatterpolar"
           }
          ],
          "scatterpolargl": [
           {
            "marker": {
             "colorbar": {
              "outlinewidth": 0,
              "ticks": ""
             }
            },
            "type": "scatterpolargl"
           }
          ],
          "scatterternary": [
           {
            "marker": {
             "colorbar": {
              "outlinewidth": 0,
              "ticks": ""
             }
            },
            "type": "scatterternary"
           }
          ],
          "surface": [
           {
            "colorbar": {
             "outlinewidth": 0,
             "ticks": ""
            },
            "colorscale": [
             [
              0,
              "#0d0887"
             ],
             [
              0.1111111111111111,
              "#46039f"
             ],
             [
              0.2222222222222222,
              "#7201a8"
             ],
             [
              0.3333333333333333,
              "#9c179e"
             ],
             [
              0.4444444444444444,
              "#bd3786"
             ],
             [
              0.5555555555555556,
              "#d8576b"
             ],
             [
              0.6666666666666666,
              "#ed7953"
             ],
             [
              0.7777777777777778,
              "#fb9f3a"
             ],
             [
              0.8888888888888888,
              "#fdca26"
             ],
             [
              1,
              "#f0f921"
             ]
            ],
            "type": "surface"
           }
          ],
          "table": [
           {
            "cells": {
             "fill": {
              "color": "#EBF0F8"
             },
             "line": {
              "color": "white"
             }
            },
            "header": {
             "fill": {
              "color": "#C8D4E3"
             },
             "line": {
              "color": "white"
             }
            },
            "type": "table"
           }
          ]
         },
         "layout": {
          "annotationdefaults": {
           "arrowcolor": "#2a3f5f",
           "arrowhead": 0,
           "arrowwidth": 1
          },
          "autotypenumbers": "strict",
          "coloraxis": {
           "colorbar": {
            "outlinewidth": 0,
            "ticks": ""
           }
          },
          "colorscale": {
           "diverging": [
            [
             0,
             "#8e0152"
            ],
            [
             0.1,
             "#c51b7d"
            ],
            [
             0.2,
             "#de77ae"
            ],
            [
             0.3,
             "#f1b6da"
            ],
            [
             0.4,
             "#fde0ef"
            ],
            [
             0.5,
             "#f7f7f7"
            ],
            [
             0.6,
             "#e6f5d0"
            ],
            [
             0.7,
             "#b8e186"
            ],
            [
             0.8,
             "#7fbc41"
            ],
            [
             0.9,
             "#4d9221"
            ],
            [
             1,
             "#276419"
            ]
           ],
           "sequential": [
            [
             0,
             "#0d0887"
            ],
            [
             0.1111111111111111,
             "#46039f"
            ],
            [
             0.2222222222222222,
             "#7201a8"
            ],
            [
             0.3333333333333333,
             "#9c179e"
            ],
            [
             0.4444444444444444,
             "#bd3786"
            ],
            [
             0.5555555555555556,
             "#d8576b"
            ],
            [
             0.6666666666666666,
             "#ed7953"
            ],
            [
             0.7777777777777778,
             "#fb9f3a"
            ],
            [
             0.8888888888888888,
             "#fdca26"
            ],
            [
             1,
             "#f0f921"
            ]
           ],
           "sequentialminus": [
            [
             0,
             "#0d0887"
            ],
            [
             0.1111111111111111,
             "#46039f"
            ],
            [
             0.2222222222222222,
             "#7201a8"
            ],
            [
             0.3333333333333333,
             "#9c179e"
            ],
            [
             0.4444444444444444,
             "#bd3786"
            ],
            [
             0.5555555555555556,
             "#d8576b"
            ],
            [
             0.6666666666666666,
             "#ed7953"
            ],
            [
             0.7777777777777778,
             "#fb9f3a"
            ],
            [
             0.8888888888888888,
             "#fdca26"
            ],
            [
             1,
             "#f0f921"
            ]
           ]
          },
          "colorway": [
           "#636efa",
           "#EF553B",
           "#00cc96",
           "#ab63fa",
           "#FFA15A",
           "#19d3f3",
           "#FF6692",
           "#B6E880",
           "#FF97FF",
           "#FECB52"
          ],
          "font": {
           "color": "#2a3f5f"
          },
          "geo": {
           "bgcolor": "white",
           "lakecolor": "white",
           "landcolor": "#E5ECF6",
           "showlakes": true,
           "showland": true,
           "subunitcolor": "white"
          },
          "hoverlabel": {
           "align": "left"
          },
          "hovermode": "closest",
          "mapbox": {
           "style": "light"
          },
          "paper_bgcolor": "white",
          "plot_bgcolor": "#E5ECF6",
          "polar": {
           "angularaxis": {
            "gridcolor": "white",
            "linecolor": "white",
            "ticks": ""
           },
           "bgcolor": "#E5ECF6",
           "radialaxis": {
            "gridcolor": "white",
            "linecolor": "white",
            "ticks": ""
           }
          },
          "scene": {
           "xaxis": {
            "backgroundcolor": "#E5ECF6",
            "gridcolor": "white",
            "gridwidth": 2,
            "linecolor": "white",
            "showbackground": true,
            "ticks": "",
            "zerolinecolor": "white"
           },
           "yaxis": {
            "backgroundcolor": "#E5ECF6",
            "gridcolor": "white",
            "gridwidth": 2,
            "linecolor": "white",
            "showbackground": true,
            "ticks": "",
            "zerolinecolor": "white"
           },
           "zaxis": {
            "backgroundcolor": "#E5ECF6",
            "gridcolor": "white",
            "gridwidth": 2,
            "linecolor": "white",
            "showbackground": true,
            "ticks": "",
            "zerolinecolor": "white"
           }
          },
          "shapedefaults": {
           "line": {
            "color": "#2a3f5f"
           }
          },
          "ternary": {
           "aaxis": {
            "gridcolor": "white",
            "linecolor": "white",
            "ticks": ""
           },
           "baxis": {
            "gridcolor": "white",
            "linecolor": "white",
            "ticks": ""
           },
           "bgcolor": "#E5ECF6",
           "caxis": {
            "gridcolor": "white",
            "linecolor": "white",
            "ticks": ""
           }
          },
          "title": {
           "x": 0.05
          },
          "xaxis": {
           "automargin": true,
           "gridcolor": "white",
           "linecolor": "white",
           "ticks": "",
           "title": {
            "standoff": 15
           },
           "zerolinecolor": "white",
           "zerolinewidth": 2
          },
          "yaxis": {
           "automargin": true,
           "gridcolor": "white",
           "linecolor": "white",
           "ticks": "",
           "title": {
            "standoff": 15
           },
           "zerolinecolor": "white",
           "zerolinewidth": 2
          }
         }
        },
        "title": {
         "text": "Station 780"
        },
        "width": 264.56692913385825,
        "xaxis": {
         "anchor": "y",
         "domain": [
          0,
          1
         ],
         "range": [
          0,
          220000
         ],
         "title": {
          "text": "average cell density per L"
         }
        },
        "yaxis": {
         "anchor": "x",
         "categoryarray": [
          "July_2021",
          "June_2021",
          "May_2021",
          "April_2021",
          "February_2021",
          "January_2021",
          "December_2020",
          "November_2020",
          "September_2020",
          "August_2020",
          "July_2020"
         ],
         "categoryorder": "array",
         "domain": [
          0,
          1
         ],
         "title": {
          "text": ""
         }
        }
       }
      }
     },
     "metadata": {},
     "output_type": "display_data"
    },
    {
     "data": {
      "application/vnd.plotly.v1+json": {
       "config": {
        "plotlyServerURL": "https://plot.ly"
       },
       "data": [
        {
         "alignmentgroup": "True",
         "bingroup": "y",
         "histfunc": "sum",
         "hovertemplate": "Taxon_grouped=Rare<br>sum of density_cell_L_sum=%{x}<br>Year_month=%{y}<extra></extra>",
         "legendgroup": "Rare",
         "marker": {
          "color": "#545454",
          "pattern": {
           "shape": ""
          }
         },
         "name": "Rare",
         "offsetgroup": "Rare",
         "orientation": "h",
         "showlegend": true,
         "type": "histogram",
         "x": [
          13.6964382860252,
          13.6964382860252,
          13.7067460889337,
          13.7060876805329,
          4.40786528461724,
          4.4108153758056,
          1.06818339460359,
          9.62778520509708,
          22.6986902242262,
          11.3493451121131,
          36.27943736718571
         ],
         "xaxis": "x",
         "y": [
          "July_2021",
          "July_2021",
          "July_2021",
          "July_2021",
          "June_2021",
          "June_2021",
          "May_2021",
          "May_2021",
          "August_2020",
          "August_2020",
          "July_2020"
         ],
         "yaxis": "y"
        },
        {
         "alignmentgroup": "True",
         "bingroup": "y",
         "histfunc": "sum",
         "hovertemplate": "Taxon_grouped=Bacillariophyta<br>sum of density_cell_L_sum=%{x}<br>Year_month=%{y}<extra></extra>",
         "legendgroup": "Bacillariophyta",
         "marker": {
          "color": "#E69F00",
          "pattern": {
           "shape": ""
          }
         },
         "name": "Bacillariophyta",
         "offsetgroup": "Bacillariophyta",
         "orientation": "h",
         "showlegend": true,
         "type": "histogram",
         "x": [
          15964.443356160447,
          4678.033176310696,
          2177.8291004229213,
          1114.6833513509953,
          12013.459597101484,
          7135.100562094051,
          10506.834917865002,
          16410.676807590862,
          14437.867151861665
         ],
         "xaxis": "x",
         "y": [
          "July_2021",
          "June_2021",
          "May_2021",
          "February_2021",
          "January_2021",
          "December_2020",
          "September_2020",
          "August_2020",
          "July_2020"
         ],
         "yaxis": "y"
        },
        {
         "alignmentgroup": "True",
         "bingroup": "y",
         "histfunc": "sum",
         "hovertemplate": "Taxon_grouped=Dinophyceae<br>sum of density_cell_L_sum=%{x}<br>Year_month=%{y}<extra></extra>",
         "legendgroup": "Dinophyceae",
         "marker": {
          "color": "#56B4E9",
          "pattern": {
           "shape": ""
          }
         },
         "name": "Dinophyceae",
         "offsetgroup": "Dinophyceae",
         "orientation": "h",
         "showlegend": true,
         "type": "histogram",
         "x": [
          3562.8192564495953,
          178.563761495313,
          9.93185658948667,
          45.2278862950612,
          177.9031947441448,
          125.97587616154544,
          90.99748735811549,
          851.059712780089
         ],
         "xaxis": "x",
         "y": [
          "July_2021",
          "June_2021",
          "February_2021",
          "January_2021",
          "December_2020",
          "September_2020",
          "August_2020",
          "July_2020"
         ],
         "yaxis": "y"
        },
        {
         "alignmentgroup": "True",
         "bingroup": "y",
         "histfunc": "sum",
         "hovertemplate": "Taxon_grouped=Prymnesiophyceae<br>sum of density_cell_L_sum=%{x}<br>Year_month=%{y}<extra></extra>",
         "legendgroup": "Prymnesiophyceae",
         "marker": {
          "color": "#009E73",
          "pattern": {
           "shape": ""
          }
         },
         "name": "Prymnesiophyceae",
         "offsetgroup": "Prymnesiophyceae",
         "orientation": "h",
         "showlegend": true,
         "type": "histogram",
         "x": [
          21.3456787128833,
          7.26651979838291
         ],
         "xaxis": "x",
         "y": [
          "May_2021",
          "February_2021"
         ],
         "yaxis": "y"
        },
        {
         "alignmentgroup": "True",
         "bingroup": "y",
         "histfunc": "sum",
         "hovertemplate": "Taxon_grouped=Arthropoda<br>sum of density_cell_L_sum=%{x}<br>Year_month=%{y}<extra></extra>",
         "legendgroup": "Arthropoda",
         "marker": {
          "color": "#0072B2",
          "pattern": {
           "shape": ""
          }
         },
         "name": "Arthropoda",
         "offsetgroup": "Arthropoda",
         "orientation": "h",
         "showlegend": true,
         "type": "histogram",
         "x": [
          109.612721990572,
          18.5563910492141,
          34.20894012951044,
          14.368143772664,
          53.336719791732804,
          291.29667735673223,
          215.759819599785,
          183.89440856044834
         ],
         "xaxis": "x",
         "y": [
          "July_2021",
          "June_2021",
          "May_2021",
          "February_2021",
          "December_2020",
          "September_2020",
          "August_2020",
          "July_2020"
         ],
         "yaxis": "y"
        },
        {
         "alignmentgroup": "True",
         "bingroup": "y",
         "histfunc": "sum",
         "hovertemplate": "Taxon_grouped=Ciliates<br>sum of density_cell_L_sum=%{x}<br>Year_month=%{y}<extra></extra>",
         "legendgroup": "Ciliates",
         "marker": {
          "color": "#F0E442",
          "pattern": {
           "shape": ""
          }
         },
         "name": "Ciliates",
         "offsetgroup": "Ciliates",
         "orientation": "h",
         "showlegend": true,
         "type": "histogram",
         "x": [
          8.56068340980509,
          45.137748152117595,
          35.5578131944885,
          94.5693548005769,
          147.6163776019368
         ],
         "xaxis": "x",
         "y": [
          "May_2021",
          "January_2021",
          "December_2020",
          "September_2020",
          "August_2020"
         ],
         "yaxis": "y"
        },
        {
         "alignmentgroup": "True",
         "bingroup": "y",
         "histfunc": "sum",
         "hovertemplate": "Taxon_grouped=Rotifera<br>sum of density_cell_L_sum=%{x}<br>Year_month=%{y}<extra></extra>",
         "legendgroup": "Rotifera",
         "marker": {
          "color": "#0000FF",
          "pattern": {
           "shape": ""
          }
         },
         "name": "Rotifera",
         "offsetgroup": "Rotifera",
         "orientation": "h",
         "showlegend": true,
         "type": "histogram",
         "x": [
          13.9004758827331
         ],
         "xaxis": "x",
         "y": [
          "May_2021"
         ],
         "yaxis": "y"
        },
        {
         "alignmentgroup": "True",
         "bingroup": "y",
         "histfunc": "sum",
         "hovertemplate": "Taxon_grouped=Mollusca<br>sum of density_cell_L_sum=%{x}<br>Year_month=%{y}<extra></extra>",
         "legendgroup": "Mollusca",
         "marker": {
          "color": "#89CE00",
          "pattern": {
           "shape": ""
          }
         },
         "name": "Mollusca",
         "offsetgroup": "Mollusca",
         "orientation": "h",
         "showlegend": true,
         "type": "histogram",
         "x": [
          16.04709435512742,
          2.52061503006734,
          22.6139431475306,
          53.3514014360564,
          64.47850148726397
         ],
         "xaxis": "x",
         "y": [
          "May_2021",
          "February_2021",
          "January_2021",
          "December_2020",
          "July_2020"
         ],
         "yaxis": "y"
        },
        {
         "alignmentgroup": "True",
         "bingroup": "y",
         "histfunc": "sum",
         "hovertemplate": "Taxon_grouped=Porifera spicule<br>sum of density_cell_L_sum=%{x}<br>Year_month=%{y}<extra></extra>",
         "legendgroup": "Porifera spicule",
         "marker": {
          "color": "#FFA15A",
          "pattern": {
           "shape": ""
          }
         },
         "name": "Porifera spicule",
         "offsetgroup": "Porifera spicule",
         "orientation": "h",
         "showlegend": true,
         "type": "histogram",
         "x": [
          5.04123006013467,
          22.5902658798147
         ],
         "xaxis": "x",
         "y": [
          "February_2021",
          "January_2021"
         ],
         "yaxis": "y"
        },
        {
         "alignmentgroup": "True",
         "bingroup": "y",
         "histfunc": "sum",
         "hovertemplate": "Taxon_grouped=Cnidaria<br>sum of density_cell_L_sum=%{x}<br>Year_month=%{y}<extra></extra>",
         "legendgroup": "Cnidaria",
         "marker": {
          "color": "#A42324",
          "pattern": {
           "shape": ""
          }
         },
         "name": "Cnidaria",
         "offsetgroup": "Cnidaria",
         "orientation": "h",
         "showlegend": true,
         "type": "histogram",
         "x": [
          22.523805004587
         ],
         "xaxis": "x",
         "y": [
          "January_2021"
         ],
         "yaxis": "y"
        },
        {
         "alignmentgroup": "True",
         "bingroup": "y",
         "histfunc": "sum",
         "hovertemplate": "Taxon_grouped=Echinodermata<br>sum of density_cell_L_sum=%{x}<br>Year_month=%{y}<extra></extra>",
         "legendgroup": "Echinodermata",
         "marker": {
          "color": "#55EEFF",
          "pattern": {
           "shape": ""
          }
         },
         "name": "Echinodermata",
         "offsetgroup": "Echinodermata",
         "orientation": "h",
         "showlegend": true,
         "type": "histogram",
         "x": [
          17.7789065972443
         ],
         "xaxis": "x",
         "y": [
          "December_2020"
         ],
         "yaxis": "y"
        }
       ],
       "layout": {
        "autosize": false,
        "barmode": "relative",
        "font": {
         "color": "#7f7f7f",
         "family": "Times New Roman, serif",
         "size": 12
        },
        "height": 226.77165354330708,
        "legend": {
         "title": {
          "text": "Taxon_grouped"
         },
         "tracegroupgap": 0
        },
        "margin": {
         "b": 25,
         "l": 0,
         "r": 25,
         "t": 25
        },
        "showlegend": false,
        "template": {
         "data": {
          "bar": [
           {
            "error_x": {
             "color": "#2a3f5f"
            },
            "error_y": {
             "color": "#2a3f5f"
            },
            "marker": {
             "line": {
              "color": "#E5ECF6",
              "width": 0.5
             },
             "pattern": {
              "fillmode": "overlay",
              "size": 10,
              "solidity": 0.2
             }
            },
            "type": "bar"
           }
          ],
          "barpolar": [
           {
            "marker": {
             "line": {
              "color": "#E5ECF6",
              "width": 0.5
             },
             "pattern": {
              "fillmode": "overlay",
              "size": 10,
              "solidity": 0.2
             }
            },
            "type": "barpolar"
           }
          ],
          "carpet": [
           {
            "aaxis": {
             "endlinecolor": "#2a3f5f",
             "gridcolor": "white",
             "linecolor": "white",
             "minorgridcolor": "white",
             "startlinecolor": "#2a3f5f"
            },
            "baxis": {
             "endlinecolor": "#2a3f5f",
             "gridcolor": "white",
             "linecolor": "white",
             "minorgridcolor": "white",
             "startlinecolor": "#2a3f5f"
            },
            "type": "carpet"
           }
          ],
          "choropleth": [
           {
            "colorbar": {
             "outlinewidth": 0,
             "ticks": ""
            },
            "type": "choropleth"
           }
          ],
          "contour": [
           {
            "colorbar": {
             "outlinewidth": 0,
             "ticks": ""
            },
            "colorscale": [
             [
              0,
              "#0d0887"
             ],
             [
              0.1111111111111111,
              "#46039f"
             ],
             [
              0.2222222222222222,
              "#7201a8"
             ],
             [
              0.3333333333333333,
              "#9c179e"
             ],
             [
              0.4444444444444444,
              "#bd3786"
             ],
             [
              0.5555555555555556,
              "#d8576b"
             ],
             [
              0.6666666666666666,
              "#ed7953"
             ],
             [
              0.7777777777777778,
              "#fb9f3a"
             ],
             [
              0.8888888888888888,
              "#fdca26"
             ],
             [
              1,
              "#f0f921"
             ]
            ],
            "type": "contour"
           }
          ],
          "contourcarpet": [
           {
            "colorbar": {
             "outlinewidth": 0,
             "ticks": ""
            },
            "type": "contourcarpet"
           }
          ],
          "heatmap": [
           {
            "colorbar": {
             "outlinewidth": 0,
             "ticks": ""
            },
            "colorscale": [
             [
              0,
              "#0d0887"
             ],
             [
              0.1111111111111111,
              "#46039f"
             ],
             [
              0.2222222222222222,
              "#7201a8"
             ],
             [
              0.3333333333333333,
              "#9c179e"
             ],
             [
              0.4444444444444444,
              "#bd3786"
             ],
             [
              0.5555555555555556,
              "#d8576b"
             ],
             [
              0.6666666666666666,
              "#ed7953"
             ],
             [
              0.7777777777777778,
              "#fb9f3a"
             ],
             [
              0.8888888888888888,
              "#fdca26"
             ],
             [
              1,
              "#f0f921"
             ]
            ],
            "type": "heatmap"
           }
          ],
          "heatmapgl": [
           {
            "colorbar": {
             "outlinewidth": 0,
             "ticks": ""
            },
            "colorscale": [
             [
              0,
              "#0d0887"
             ],
             [
              0.1111111111111111,
              "#46039f"
             ],
             [
              0.2222222222222222,
              "#7201a8"
             ],
             [
              0.3333333333333333,
              "#9c179e"
             ],
             [
              0.4444444444444444,
              "#bd3786"
             ],
             [
              0.5555555555555556,
              "#d8576b"
             ],
             [
              0.6666666666666666,
              "#ed7953"
             ],
             [
              0.7777777777777778,
              "#fb9f3a"
             ],
             [
              0.8888888888888888,
              "#fdca26"
             ],
             [
              1,
              "#f0f921"
             ]
            ],
            "type": "heatmapgl"
           }
          ],
          "histogram": [
           {
            "marker": {
             "pattern": {
              "fillmode": "overlay",
              "size": 10,
              "solidity": 0.2
             }
            },
            "type": "histogram"
           }
          ],
          "histogram2d": [
           {
            "colorbar": {
             "outlinewidth": 0,
             "ticks": ""
            },
            "colorscale": [
             [
              0,
              "#0d0887"
             ],
             [
              0.1111111111111111,
              "#46039f"
             ],
             [
              0.2222222222222222,
              "#7201a8"
             ],
             [
              0.3333333333333333,
              "#9c179e"
             ],
             [
              0.4444444444444444,
              "#bd3786"
             ],
             [
              0.5555555555555556,
              "#d8576b"
             ],
             [
              0.6666666666666666,
              "#ed7953"
             ],
             [
              0.7777777777777778,
              "#fb9f3a"
             ],
             [
              0.8888888888888888,
              "#fdca26"
             ],
             [
              1,
              "#f0f921"
             ]
            ],
            "type": "histogram2d"
           }
          ],
          "histogram2dcontour": [
           {
            "colorbar": {
             "outlinewidth": 0,
             "ticks": ""
            },
            "colorscale": [
             [
              0,
              "#0d0887"
             ],
             [
              0.1111111111111111,
              "#46039f"
             ],
             [
              0.2222222222222222,
              "#7201a8"
             ],
             [
              0.3333333333333333,
              "#9c179e"
             ],
             [
              0.4444444444444444,
              "#bd3786"
             ],
             [
              0.5555555555555556,
              "#d8576b"
             ],
             [
              0.6666666666666666,
              "#ed7953"
             ],
             [
              0.7777777777777778,
              "#fb9f3a"
             ],
             [
              0.8888888888888888,
              "#fdca26"
             ],
             [
              1,
              "#f0f921"
             ]
            ],
            "type": "histogram2dcontour"
           }
          ],
          "mesh3d": [
           {
            "colorbar": {
             "outlinewidth": 0,
             "ticks": ""
            },
            "type": "mesh3d"
           }
          ],
          "parcoords": [
           {
            "line": {
             "colorbar": {
              "outlinewidth": 0,
              "ticks": ""
             }
            },
            "type": "parcoords"
           }
          ],
          "pie": [
           {
            "automargin": true,
            "type": "pie"
           }
          ],
          "scatter": [
           {
            "marker": {
             "colorbar": {
              "outlinewidth": 0,
              "ticks": ""
             }
            },
            "type": "scatter"
           }
          ],
          "scatter3d": [
           {
            "line": {
             "colorbar": {
              "outlinewidth": 0,
              "ticks": ""
             }
            },
            "marker": {
             "colorbar": {
              "outlinewidth": 0,
              "ticks": ""
             }
            },
            "type": "scatter3d"
           }
          ],
          "scattercarpet": [
           {
            "marker": {
             "colorbar": {
              "outlinewidth": 0,
              "ticks": ""
             }
            },
            "type": "scattercarpet"
           }
          ],
          "scattergeo": [
           {
            "marker": {
             "colorbar": {
              "outlinewidth": 0,
              "ticks": ""
             }
            },
            "type": "scattergeo"
           }
          ],
          "scattergl": [
           {
            "marker": {
             "colorbar": {
              "outlinewidth": 0,
              "ticks": ""
             }
            },
            "type": "scattergl"
           }
          ],
          "scattermapbox": [
           {
            "marker": {
             "colorbar": {
              "outlinewidth": 0,
              "ticks": ""
             }
            },
            "type": "scattermapbox"
           }
          ],
          "scatterpolar": [
           {
            "marker": {
             "colorbar": {
              "outlinewidth": 0,
              "ticks": ""
             }
            },
            "type": "scatterpolar"
           }
          ],
          "scatterpolargl": [
           {
            "marker": {
             "colorbar": {
              "outlinewidth": 0,
              "ticks": ""
             }
            },
            "type": "scatterpolargl"
           }
          ],
          "scatterternary": [
           {
            "marker": {
             "colorbar": {
              "outlinewidth": 0,
              "ticks": ""
             }
            },
            "type": "scatterternary"
           }
          ],
          "surface": [
           {
            "colorbar": {
             "outlinewidth": 0,
             "ticks": ""
            },
            "colorscale": [
             [
              0,
              "#0d0887"
             ],
             [
              0.1111111111111111,
              "#46039f"
             ],
             [
              0.2222222222222222,
              "#7201a8"
             ],
             [
              0.3333333333333333,
              "#9c179e"
             ],
             [
              0.4444444444444444,
              "#bd3786"
             ],
             [
              0.5555555555555556,
              "#d8576b"
             ],
             [
              0.6666666666666666,
              "#ed7953"
             ],
             [
              0.7777777777777778,
              "#fb9f3a"
             ],
             [
              0.8888888888888888,
              "#fdca26"
             ],
             [
              1,
              "#f0f921"
             ]
            ],
            "type": "surface"
           }
          ],
          "table": [
           {
            "cells": {
             "fill": {
              "color": "#EBF0F8"
             },
             "line": {
              "color": "white"
             }
            },
            "header": {
             "fill": {
              "color": "#C8D4E3"
             },
             "line": {
              "color": "white"
             }
            },
            "type": "table"
           }
          ]
         },
         "layout": {
          "annotationdefaults": {
           "arrowcolor": "#2a3f5f",
           "arrowhead": 0,
           "arrowwidth": 1
          },
          "autotypenumbers": "strict",
          "coloraxis": {
           "colorbar": {
            "outlinewidth": 0,
            "ticks": ""
           }
          },
          "colorscale": {
           "diverging": [
            [
             0,
             "#8e0152"
            ],
            [
             0.1,
             "#c51b7d"
            ],
            [
             0.2,
             "#de77ae"
            ],
            [
             0.3,
             "#f1b6da"
            ],
            [
             0.4,
             "#fde0ef"
            ],
            [
             0.5,
             "#f7f7f7"
            ],
            [
             0.6,
             "#e6f5d0"
            ],
            [
             0.7,
             "#b8e186"
            ],
            [
             0.8,
             "#7fbc41"
            ],
            [
             0.9,
             "#4d9221"
            ],
            [
             1,
             "#276419"
            ]
           ],
           "sequential": [
            [
             0,
             "#0d0887"
            ],
            [
             0.1111111111111111,
             "#46039f"
            ],
            [
             0.2222222222222222,
             "#7201a8"
            ],
            [
             0.3333333333333333,
             "#9c179e"
            ],
            [
             0.4444444444444444,
             "#bd3786"
            ],
            [
             0.5555555555555556,
             "#d8576b"
            ],
            [
             0.6666666666666666,
             "#ed7953"
            ],
            [
             0.7777777777777778,
             "#fb9f3a"
            ],
            [
             0.8888888888888888,
             "#fdca26"
            ],
            [
             1,
             "#f0f921"
            ]
           ],
           "sequentialminus": [
            [
             0,
             "#0d0887"
            ],
            [
             0.1111111111111111,
             "#46039f"
            ],
            [
             0.2222222222222222,
             "#7201a8"
            ],
            [
             0.3333333333333333,
             "#9c179e"
            ],
            [
             0.4444444444444444,
             "#bd3786"
            ],
            [
             0.5555555555555556,
             "#d8576b"
            ],
            [
             0.6666666666666666,
             "#ed7953"
            ],
            [
             0.7777777777777778,
             "#fb9f3a"
            ],
            [
             0.8888888888888888,
             "#fdca26"
            ],
            [
             1,
             "#f0f921"
            ]
           ]
          },
          "colorway": [
           "#636efa",
           "#EF553B",
           "#00cc96",
           "#ab63fa",
           "#FFA15A",
           "#19d3f3",
           "#FF6692",
           "#B6E880",
           "#FF97FF",
           "#FECB52"
          ],
          "font": {
           "color": "#2a3f5f"
          },
          "geo": {
           "bgcolor": "white",
           "lakecolor": "white",
           "landcolor": "#E5ECF6",
           "showlakes": true,
           "showland": true,
           "subunitcolor": "white"
          },
          "hoverlabel": {
           "align": "left"
          },
          "hovermode": "closest",
          "mapbox": {
           "style": "light"
          },
          "paper_bgcolor": "white",
          "plot_bgcolor": "#E5ECF6",
          "polar": {
           "angularaxis": {
            "gridcolor": "white",
            "linecolor": "white",
            "ticks": ""
           },
           "bgcolor": "#E5ECF6",
           "radialaxis": {
            "gridcolor": "white",
            "linecolor": "white",
            "ticks": ""
           }
          },
          "scene": {
           "xaxis": {
            "backgroundcolor": "#E5ECF6",
            "gridcolor": "white",
            "gridwidth": 2,
            "linecolor": "white",
            "showbackground": true,
            "ticks": "",
            "zerolinecolor": "white"
           },
           "yaxis": {
            "backgroundcolor": "#E5ECF6",
            "gridcolor": "white",
            "gridwidth": 2,
            "linecolor": "white",
            "showbackground": true,
            "ticks": "",
            "zerolinecolor": "white"
           },
           "zaxis": {
            "backgroundcolor": "#E5ECF6",
            "gridcolor": "white",
            "gridwidth": 2,
            "linecolor": "white",
            "showbackground": true,
            "ticks": "",
            "zerolinecolor": "white"
           }
          },
          "shapedefaults": {
           "line": {
            "color": "#2a3f5f"
           }
          },
          "ternary": {
           "aaxis": {
            "gridcolor": "white",
            "linecolor": "white",
            "ticks": ""
           },
           "baxis": {
            "gridcolor": "white",
            "linecolor": "white",
            "ticks": ""
           },
           "bgcolor": "#E5ECF6",
           "caxis": {
            "gridcolor": "white",
            "linecolor": "white",
            "ticks": ""
           }
          },
          "title": {
           "x": 0.05
          },
          "xaxis": {
           "automargin": true,
           "gridcolor": "white",
           "linecolor": "white",
           "ticks": "",
           "title": {
            "standoff": 15
           },
           "zerolinecolor": "white",
           "zerolinewidth": 2
          },
          "yaxis": {
           "automargin": true,
           "gridcolor": "white",
           "linecolor": "white",
           "ticks": "",
           "title": {
            "standoff": 15
           },
           "zerolinecolor": "white",
           "zerolinewidth": 2
          }
         }
        },
        "title": {
         "text": "Station 700"
        },
        "width": 264.56692913385825,
        "xaxis": {
         "anchor": "y",
         "domain": [
          0,
          1
         ],
         "range": [
          0,
          220000
         ],
         "title": {
          "text": "average cell density per L"
         }
        },
        "yaxis": {
         "anchor": "x",
         "categoryarray": [
          "July_2021",
          "June_2021",
          "May_2021",
          "April_2021",
          "February_2021",
          "January_2021",
          "December_2020",
          "November_2020",
          "September_2020",
          "August_2020",
          "July_2020"
         ],
         "categoryorder": "array",
         "domain": [
          0,
          1
         ],
         "title": {
          "text": ""
         }
        }
       }
      }
     },
     "metadata": {},
     "output_type": "display_data"
    }
   ],
   "source": [
    "stations = ['ZG02', '120', '330', '130', '780', '700']\n",
    "\n",
    "cm_to_px = 96 / 2.54  # Conversion factor from centimeters to pixels\n",
    "width_in_cm = 7\n",
    "height_in_cm = 6\n",
    "\n",
    "tax_colors = {}\n",
    "\n",
    "for station in stations:\n",
    "    # # First, I need to combine the cell densities per taxon, per month\n",
    "    grouped_df = data_FC[data_FC['Station'] == station][['Taxon_grouped', 'Year_month', 'density_cell_L']].groupby(['Taxon_grouped', 'Year_month']).agg({'density_cell_L':['sum', 'mean', 'min', 'max']})\n",
    "    grouped_df.columns = ['density_cell_L_sum', 'density_cell_L_mean', 'density_cell_L_min', 'density_cell_L_max']\n",
    "    grouped_df  = grouped_df.reset_index()\n",
    "\n",
    "    # Set months in the right order\n",
    "    grouped_df['Year_month'] = pd.Categorical(grouped_df['Year_month'], [\"July_2020\", \"August_2020\", \"September_2020\", \n",
    "                                                            \"November_2020\", \"December_2020\", \"January_2021\", \n",
    "                                                            \"February_2021\", \"April_2021\", \"May_2021\", \n",
    "                                                            \"June_2021\", \"July_2021\"])\n",
    "\n",
    "    # Normalise sum of cell density values to the total cells per L of that month\n",
    "    grouped_df[\"rel_cell_density_L_per_month\"] = grouped_df.density_cell_L_mean / grouped_df.groupby('Year_month').density_cell_L_mean.transform('sum')\n",
    "\n",
    "    # Combine low-abundant groups for figure clarity\n",
    "    rare_groups = grouped_df['rel_cell_density_L_per_month'] <= 0.02\n",
    "    grouped_df.loc[rare_groups, 'Taxon_grouped'] = 'Rare'\n",
    "\n",
    "    # Plot\n",
    "    fig = px.histogram(grouped_df.sort_values(\"Year_month\", ascending=False), \n",
    "                    x=\"density_cell_L_sum\", \n",
    "                    y=\"Year_month\", \n",
    "                    color='Taxon_grouped',\n",
    "                    orientation='h',\n",
    "                    color_discrete_map={\n",
    "                        \"Rare\": \"#545454\",\n",
    "                        \"Bacillariophyta\": \"#E69F00\",\n",
    "                        \"Dinophyceae\": \"#56B4E9\",\n",
    "                        \"Prymnesiophyceae\": \"#009E73\",\n",
    "                        \"Ciliates\": \"#F0E442\",\n",
    "                        \"Arthropoda\": \"#0072B2\",\n",
    "                        \"Annelida\": \"#D55E00\",\n",
    "                        \"Craniata\": \"#CC79A7\",\n",
    "                        \"Urocordata\": \"#B5B5B5\",\n",
    "                        \"Echinodermata\": \"#55EEFF\",\n",
    "                        \"Cnidaria\": \"#A42324\",\n",
    "                        \"Mollusca\": \"#89CE00\",\n",
    "                        \"Appendicularia\": \"#FF0000\",\n",
    "                        \"Rotifera\": \"#0000FF\",\n",
    "                    },\n",
    "                    category_orders={\"Year_month\": [\"July_2020\", \"August_2020\", \"September_2020\",\n",
    "                                           \"November_2020\", \"December_2020\", \"January_2021\",\n",
    "                                           \"February_2021\", \"April_2021\", \"May_2021\",\n",
    "                                           \"June_2021\", \"July_2021\"],\n",
    "                        \"Taxon_grouped\": [\"Rare\", \"Bacillariophyta\", \"Dinophyceae\",\n",
    "                                          \"Prymnesiophyceae\"]\n",
    "                    }\n",
    "                    # text_auto='.2f'\n",
    "                    )\n",
    "\n",
    "    fig.update_layout(\n",
    "        xaxis_title=\"average cell density per L\",  # Set the x-axis title\n",
    "        font=dict(\n",
    "            family=\"Times New Roman, serif\",  # Set the font family to Times New Roman\n",
    "            size=12,  # Set the font size\n",
    "            color=\"#7f7f7f\"  # Set the font color\n",
    "        ),\n",
    "        autosize=False,\n",
    "        width=width_in_cm * cm_to_px,\n",
    "        height=height_in_cm * cm_to_px,\n",
    "        margin=dict( # Set the margins\n",
    "            l=0,  # Left margin\n",
    "            r=25,  # Right margin\n",
    "            b=25,  # Bottom margin\n",
    "            t=25  # Top margin\n",
    "        ),\n",
    "        showlegend=False,\n",
    "        title_text='Station {}'.format(station),\n",
    "        yaxis_title_text='',\n",
    "        xaxis_range=[0,220000]\n",
    "    )\n",
    "\n",
    "    for trace in fig.data:\n",
    "        # If trace is not in the dictionary, add it\n",
    "        if trace.name not in tax_colors:\n",
    "            # If trace contains a color already in use, give an error\n",
    "            if trace.marker.color in tax_colors.values():\n",
    "                raise ValueError(f'Color for {trace.name} already in use, review color disctrete map')\n",
    "            tax_colors[trace.name] = trace.marker.color\n",
    "    \n",
    "     # Save figure as svg\n",
    "    fig.write_image(\"../../figures/flowcam/cell_density_sum_per_month_{}.svg\".format(station), scale=1)\n",
    "           \n",
    "    fig.show()"
   ]
  },
  {
   "attachments": {},
   "cell_type": "markdown",
   "metadata": {},
   "source": [
    "## 4. How many FlowCam taxa are found in the reference database?"
   ]
  },
  {
   "attachments": {},
   "cell_type": "markdown",
   "metadata": {},
   "source": [
    "I've noticed that a lot of species typical of the Belgian Part of the North Sea are missing from the PhyloDB database. We use the PhyloDB database to obtain taxonomic information on assembled transcripts furhter downstream.\n",
    "In this notebook, I'll try to identify which ones are missing, check whether sequence data exists and add that data to the database in the same format. Then, we'll update the taxonomy table to include the new species.\n",
    "\n",
    "Let's read in the taxonomy list of the [phyloDB database](https://github.com/allenlab/PhyloDB). First, we'll compare the taxon list and the PhyloDB database to see which species are missing."
   ]
  },
  {
   "cell_type": "code",
   "execution_count": 63,
   "metadata": {},
   "outputs": [],
   "source": [
    "phylodb_taxonomy = pd.read_table('../../data/annotation/taxonomy_phyloDB/phylodb_1.076.taxonomy.txt.gz')"
   ]
  },
  {
   "cell_type": "code",
   "execution_count": 64,
   "metadata": {},
   "outputs": [
    {
     "data": {
      "text/html": [
       "<div><div id=567424f8-0793-4600-9786-405de285372e style=\"display:none; background-color:#9D6CFF; color:white; width:200px; height:30px; padding-left:5px; border-radius:4px; flex-direction:row; justify-content:space-around; align-items:center;\" onmouseover=\"this.style.backgroundColor='#BA9BF8'\" onmouseout=\"this.style.backgroundColor='#9D6CFF'\" onclick=\"window.commands?.execute('create-mitosheet-from-dataframe-output');\">See Full Dataframe in Mito</div> <script> if (window.commands?.hasCommand('create-mitosheet-from-dataframe-output')) document.getElementById('567424f8-0793-4600-9786-405de285372e').style.display = 'flex' </script> <table border=\"1\" class=\"dataframe\">\n",
       "  <thead>\n",
       "    <tr style=\"text-align: right;\">\n",
       "      <th></th>\n",
       "      <th>strain_name</th>\n",
       "      <th>peptide_count</th>\n",
       "      <th>taxonomy</th>\n",
       "    </tr>\n",
       "  </thead>\n",
       "  <tbody>\n",
       "    <tr>\n",
       "      <th>0</th>\n",
       "      <td>Acidilobus saccharovorans 345-15</td>\n",
       "      <td>1499</td>\n",
       "      <td>Archaea;Crenarchaeota;Thermoprotei;Acidilobales;Acidilobaceae;Acidilobus;Acidilobus saccharovorans 345-15</td>\n",
       "    </tr>\n",
       "    <tr>\n",
       "      <th>1</th>\n",
       "      <td>Caldisphaera lagunensis DSM 15908</td>\n",
       "      <td>1527</td>\n",
       "      <td>Archaea;Crenarchaeota;Thermoprotei;Acidilobales;Caldisphaeraceae;Caldisphaera;Caldisphaera lagunensis DSM 15908</td>\n",
       "    </tr>\n",
       "    <tr>\n",
       "      <th>2</th>\n",
       "      <td>Aeropyrum pernix K1</td>\n",
       "      <td>1700</td>\n",
       "      <td>Archaea;Crenarchaeota;Thermoprotei;Desulfurococcales;Desulfurococcaceae;Aeropyrum;Aeropyrum pernix K1</td>\n",
       "    </tr>\n",
       "    <tr>\n",
       "      <th>3</th>\n",
       "      <td>Desulfurococcus fermentans DSM 16532</td>\n",
       "      <td>1421</td>\n",
       "      <td>Archaea;Crenarchaeota;Thermoprotei;Desulfurococcales;Desulfurococcaceae;Desulfurococcus;Desulfurococcus fermentans DSM 16532</td>\n",
       "    </tr>\n",
       "    <tr>\n",
       "      <th>4</th>\n",
       "      <td>Desulfurococcus kamchatkensis 1221n</td>\n",
       "      <td>1471</td>\n",
       "      <td>Archaea;Crenarchaeota;Thermoprotei;Desulfurococcales;Desulfurococcaceae;Desulfurococcus;Desulfurococcus kamchatkensis 1221n</td>\n",
       "    </tr>\n",
       "    <tr>\n",
       "      <th>...</th>\n",
       "      <td>...</td>\n",
       "      <td>...</td>\n",
       "      <td>...</td>\n",
       "    </tr>\n",
       "    <tr>\n",
       "      <th>25987</th>\n",
       "      <td>Phaeocystis globosa virus virophage</td>\n",
       "      <td>16</td>\n",
       "      <td>Viruses;unclassified virophages;unclassified_virophages_X;unclassified_virophages_XX;unclassified_virophages_XXX;unclassified_virophages_XXXX;Phaeocystis globosa virus virophage</td>\n",
       "    </tr>\n",
       "    <tr>\n",
       "      <th>25988</th>\n",
       "      <td>Saccharopolyspora erythraea prophage pSE211</td>\n",
       "      <td>7197</td>\n",
       "      <td>Viruses;unclassified virophages;unclassified_virophages_X;unclassified_virophages_XX;unclassified_virophages_XXX;unclassified_virophages_XXXX;Saccharopolyspora erythraea prophage pSE211</td>\n",
       "    </tr>\n",
       "    <tr>\n",
       "      <th>25989</th>\n",
       "      <td>Sputnik virophage</td>\n",
       "      <td>21</td>\n",
       "      <td>Viruses;unclassified virophages;unclassified_virophages_X;unclassified_virophages_XX;unclassified_virophages_XXX;unclassified_virophages_XXXX;Sputnik virophage</td>\n",
       "    </tr>\n",
       "    <tr>\n",
       "      <th>25990</th>\n",
       "      <td>Streptococcus pyogenes phage 5005.3</td>\n",
       "      <td>1865</td>\n",
       "      <td>Viruses;unclassified virophages;unclassified_virophages_X;unclassified_virophages_XX;unclassified_virophages_XXX;unclassified_virophages_XXXX;Streptococcus pyogenes phage 5005.3</td>\n",
       "    </tr>\n",
       "    <tr>\n",
       "      <th>25991</th>\n",
       "      <td>Streptococcus pyogenes phage 6180.4</td>\n",
       "      <td>1894</td>\n",
       "      <td>Viruses;unclassified virophages;unclassified_virophages_X;unclassified_virophages_XX;unclassified_virophages_XXX;unclassified_virophages_XXXX;Streptococcus pyogenes phage 6180.4</td>\n",
       "    </tr>\n",
       "  </tbody>\n",
       "</table></div>"
      ],
      "text/plain": [
       "                                       strain_name  peptide_count  \\\n",
       "0                 Acidilobus saccharovorans 345-15           1499   \n",
       "1                Caldisphaera lagunensis DSM 15908           1527   \n",
       "2                              Aeropyrum pernix K1           1700   \n",
       "3             Desulfurococcus fermentans DSM 16532           1421   \n",
       "4              Desulfurococcus kamchatkensis 1221n           1471   \n",
       "...                                            ...            ...   \n",
       "25987          Phaeocystis globosa virus virophage             16   \n",
       "25988  Saccharopolyspora erythraea prophage pSE211           7197   \n",
       "25989                            Sputnik virophage             21   \n",
       "25990          Streptococcus pyogenes phage 5005.3           1865   \n",
       "25991          Streptococcus pyogenes phage 6180.4           1894   \n",
       "\n",
       "                                                taxonomy  \n",
       "0      Archaea;Crenarchaeota;Thermoprotei;Acidilobale...  \n",
       "1      Archaea;Crenarchaeota;Thermoprotei;Acidilobale...  \n",
       "2      Archaea;Crenarchaeota;Thermoprotei;Desulfuroco...  \n",
       "3      Archaea;Crenarchaeota;Thermoprotei;Desulfuroco...  \n",
       "4      Archaea;Crenarchaeota;Thermoprotei;Desulfuroco...  \n",
       "...                                                  ...  \n",
       "25987  Viruses;unclassified virophages;unclassified_v...  \n",
       "25988  Viruses;unclassified virophages;unclassified_v...  \n",
       "25989  Viruses;unclassified virophages;unclassified_v...  \n",
       "25990  Viruses;unclassified virophages;unclassified_v...  \n",
       "25991  Viruses;unclassified virophages;unclassified_v...  \n",
       "\n",
       "[25992 rows x 3 columns]"
      ]
     },
     "execution_count": 64,
     "metadata": {},
     "output_type": "execute_result"
    }
   ],
   "source": [
    "phylodb_taxonomy"
   ]
  },
  {
   "cell_type": "code",
   "execution_count": 65,
   "metadata": {},
   "outputs": [
    {
     "name": "stdout",
     "output_type": "stream",
     "text": [
      "['stephanopyxis', 'skeletonema', 'noctilucales', 'ditylum brightwellii', 'strombidium', 'eucampia', 'thalassiosira punctigera', 'proboscia', 'chaetoceros curvisetus/c. pseudocurvisetus', 'noctiluca scintillans', 'coscinodiscus wailesii', 'foraminifera', 'crustacea', 'favella', 'mollusca', 'chaetoceros', 'rhizosolenia', 'cnidaria', 'pseudo-nitzschia', 'dinophysis', 'chaetoceros socialis', 'ciliophora', 'nematoda', 'odontella aurita/ralfsiella minima', 'proboscia alata']\n"
     ]
    }
   ],
   "source": [
    "# In this approach, we'll loop over the Flowcam IDs and check if they are substrings of the PhyloDB IDs\n",
    "\n",
    "# Obtain arrays containing PhyloDB information\n",
    "phyloDB_IDs = phylodb_taxonomy.strain_name.unique()\n",
    "phylodb_elaborate_taxonomy = phylodb_taxonomy.taxonomy.unique()\n",
    "\n",
    "# Obtain the Flowcam IDs\n",
    "flowcam_IDs = data_FC.Taxon.unique()\n",
    "\n",
    "# Create a set to store the overlapping values\n",
    "overlap = set()\n",
    "\n",
    "# Iterate through the strings in flowcam_IDs\n",
    "for string1 in flowcam_IDs:\n",
    "  # Convert string1 to lowercase\n",
    "  string1 = string1.lower()\n",
    "  # Iterate through the strings in short phyloDB_IDs\n",
    "  for string2 in phyloDB_IDs:\n",
    "    # Convert string2 to lowercase\n",
    "    string2 = string2.lower()\n",
    "    # Check if string1 is a substring of string2 (or vice versa)\n",
    "    if string1 in string2 or string2 in string1:\n",
    "      # If string1 is a substring of string2 (or vice versa), add it to the overlap set\n",
    "      overlap.add(string1)\n",
    "    # Iterate through the strings in the long phyloDB_IDs\n",
    "  for string3 in phylodb_elaborate_taxonomy:\n",
    "    # Convert string3 to lowercase\n",
    "    string3 = string3.lower()\n",
    "    # Check if string1 is a substring of string3 (or vice versa)\n",
    "    if string1 in string3 or string3 in string1:\n",
    "      # If string1 is a substring of string3 (or vice versa), add it to the overlap set\n",
    "      overlap.add(string1)\n",
    "\n",
    "# Convert the overlap set to a list\n",
    "overlap_list = list(overlap)\n",
    "\n",
    "# Print the overlapping values\n",
    "print(overlap_list)"
   ]
  },
  {
   "cell_type": "code",
   "execution_count": 66,
   "metadata": {},
   "outputs": [
    {
     "name": "stdout",
     "output_type": "stream",
     "text": [
      "The percentage of FlowCam taxa found in the PhyloDB taxonomy list is: 31.148148148148152\n"
     ]
    }
   ],
   "source": [
    "# Now, we'll extract the FlowCam IDs that aren't in the overlap list\n",
    "unrepresented_flowcam_IDs = [string for string in flowcam_IDs if string.lower() not in overlap_list]\n",
    "# Save them as .txt file\n",
    "print(f'The percentage of FlowCam taxa found in the PhyloDB taxonomy list is: {len(flowcam_IDs) - len(unrepresented_flowcam_IDs) / len(flowcam_IDs) * 100}')\n",
    "unrepresented_flowcam_IDs = pd.DataFrame(unrepresented_flowcam_IDs)\n",
    "unrepresented_flowcam_IDs.to_csv('../../data/annotation/taxonomy_phyloDB/unrepresented_flowcam_IDs.txt', sep='\\t', index=False, header=False)"
   ]
  }
 ],
 "metadata": {
  "kernelspec": {
   "display_name": "Python 3.9.12 64-bit",
   "language": "python",
   "name": "python3"
  },
  "language_info": {
   "codemirror_mode": {
    "name": "ipython",
    "version": 3
   },
   "file_extension": ".py",
   "mimetype": "text/x-python",
   "name": "python",
   "nbconvert_exporter": "python",
   "pygments_lexer": "ipython3",
   "version": "3.9.12"
  },
  "orig_nbformat": 4,
  "vscode": {
   "interpreter": {
    "hash": "b0fa6594d8f4cbf19f97940f81e996739fb7646882a419484c72d19e05852a7e"
   }
  }
 },
 "nbformat": 4,
 "nbformat_minor": 2
}
