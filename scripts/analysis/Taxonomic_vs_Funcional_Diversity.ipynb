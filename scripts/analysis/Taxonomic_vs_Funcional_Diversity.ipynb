{
 "cells": [
  {
   "attachments": {},
   "cell_type": "markdown",
   "metadata": {},
   "source": [
    "# Taxonomic Diversity vs. Functional Diversity\n",
    "In this analysis, I want to assess the correlation between taxonomic and functional diversity."
   ]
  },
  {
   "cell_type": "code",
   "execution_count": 24,
   "metadata": {},
   "outputs": [],
   "source": [
    "import pandas as pd\n",
    "import seaborn as sns\n",
    "import plotly.express as px\n",
    "import numpy as np\n",
    "import scipy.stats as stats\n",
    "import datetime\n",
    "from sklearn.linear_model import LinearRegression\n",
    "from sklearn.metrics import r2_score\n",
    "from sklearn.preprocessing import scale\n",
    "from sklearn.utils import resample\n",
    "from sklearn.metrics import DistanceMetric\n",
    "import plotly.graph_objects as go\n",
    "import statsmodels.api as sm\n",
    "from statsmodels.formula.api import ols\n",
    "from statsmodels.stats.multicomp import pairwise_tukeyhsd\n",
    "import matplotlib.pyplot as plt"
   ]
  },
  {
   "attachments": {},
   "cell_type": "markdown",
   "metadata": {},
   "source": [
    "## Gather taxonomic diversity"
   ]
  },
  {
   "cell_type": "code",
   "execution_count": 2,
   "metadata": {},
   "outputs": [
    {
     "name": "stdout",
     "output_type": "stream",
     "text": [
      "7113509 transcripts were quantified (on the nucleotide level) in the kallisto run\n"
     ]
    },
    {
     "data": {
      "text/html": [
       "<div><div id=3620e3e3-b09a-48b3-b3ee-e1462a104859 style=\"display:none; background-color:#9D6CFF; color:white; width:200px; height:30px; padding-left:5px; border-radius:4px; flex-direction:row; justify-content:space-around; align-items:center;\" onmouseover=\"this.style.backgroundColor='#BA9BF8'\" onmouseout=\"this.style.backgroundColor='#9D6CFF'\" onclick=\"window.commands?.execute('create-mitosheet-from-dataframe-output');\">See Full Dataframe in Mito</div> <script> if (window.commands?.hasCommand('create-mitosheet-from-dataframe-output')) document.getElementById('3620e3e3-b09a-48b3-b3ee-e1462a104859').style.display = 'flex' </script> <table border=\"1\" class=\"dataframe\">\n",
       "  <thead>\n",
       "    <tr style=\"text-align: right;\">\n",
       "      <th></th>\n",
       "      <th>transcript_id</th>\n",
       "      <th>sample</th>\n",
       "      <th>TPM</th>\n",
       "    </tr>\n",
       "  </thead>\n",
       "  <tbody>\n",
       "    <tr>\n",
       "      <th>0</th>\n",
       "      <td>c_000000000001</td>\n",
       "      <td>B_120_S11</td>\n",
       "      <td>0.233985</td>\n",
       "    </tr>\n",
       "    <tr>\n",
       "      <th>1</th>\n",
       "      <td>c_000000000002</td>\n",
       "      <td>B_120_S11</td>\n",
       "      <td>0.000000</td>\n",
       "    </tr>\n",
       "    <tr>\n",
       "      <th>2</th>\n",
       "      <td>c_000000000003</td>\n",
       "      <td>B_120_S11</td>\n",
       "      <td>0.000000</td>\n",
       "    </tr>\n",
       "    <tr>\n",
       "      <th>3</th>\n",
       "      <td>c_000000000004</td>\n",
       "      <td>B_120_S11</td>\n",
       "      <td>0.000000</td>\n",
       "    </tr>\n",
       "    <tr>\n",
       "      <th>4</th>\n",
       "      <td>c_000000000005</td>\n",
       "      <td>B_120_S11</td>\n",
       "      <td>0.000000</td>\n",
       "    </tr>\n",
       "  </tbody>\n",
       "</table></div>"
      ],
      "text/plain": [
       "    transcript_id     sample       TPM\n",
       "0  c_000000000001  B_120_S11  0.233985\n",
       "1  c_000000000002  B_120_S11  0.000000\n",
       "2  c_000000000003  B_120_S11  0.000000\n",
       "3  c_000000000004  B_120_S11  0.000000\n",
       "4  c_000000000005  B_120_S11  0.000000"
      ]
     },
     "execution_count": 2,
     "metadata": {},
     "output_type": "execute_result"
    }
   ],
   "source": [
    "# Load the necessary count data\n",
    "counts = pd.read_csv('../../data/kallisto/tpm.csv', engine='pyarrow')\n",
    "## This is the transcript read mapping, prior to protein prediction!\n",
    "# Rename the first column to transcript_id\n",
    "counts = counts.rename(columns={'target_id': 'transcript_id'})\n",
    "print(f'{len(counts)} transcripts were quantified (on the nucleotide level) in the kallisto run')\n",
    "# Transform the data to the long format\n",
    "counts = counts.melt(id_vars=['transcript_id'],var_name='sample', value_name='TPM')\n",
    "counts.head()"
   ]
  },
  {
   "cell_type": "code",
   "execution_count": 3,
   "metadata": {},
   "outputs": [
    {
     "name": "stdout",
     "output_type": "stream",
     "text": [
      "The eukprot annotation file contains 468593 rows\n",
      "The eukprot taxonomy file contains 993 rows\n",
      "The eukprot annotation merged with taxonomy file contains 468593 rows\n"
     ]
    }
   ],
   "source": [
    "## Load eukprot annotations\n",
    "data_tax = pd.read_table(f'../../data/annotation/taxonomy_eukprot/eukprot_DB.firsthit.90plus_alnscore.m8', header=None)\n",
    "print(f'The eukprot annotation file contains {len(data_tax)} rows')\n",
    "# Fix transcript names in the first column so that they equal the transcript identifiers in the count files\n",
    "data_tax.iloc[:, 0] = data_tax.iloc[:, 0].str.split(\".\", expand=True).drop(columns=1)\n",
    "\n",
    "## In the second column, split of the EukProt ID off\n",
    "eukprot_ID = data_tax.iloc[:, 1].str.split(\"_\", expand=True)[0]\n",
    "data_tax.iloc[:, 1] = eukprot_ID\n",
    "data_tax.columns = ['query_id', 'target_id', 'p_ident', 'alnlen', 'mismatch', 'gapopen', 'qstart', 'qend', 'tstart', 'tend', 'evalue', 'bits']\n",
    "\n",
    "## Add taxonomic information\n",
    "eukprot_taxonomy = pd.read_table('../../data/annotation/taxonomy_eukprot/EukProt_included_data_sets.v03.2021_11_22.txt')\n",
    "print(f'The eukprot taxonomy file contains {len(eukprot_taxonomy)} rows')\n",
    "\n",
    "# Drop the columns that are not needed\n",
    "eukprot_taxonomy.drop(columns=['Previous_Names', 'Replaces_EukProt_ID', 'Data_Source_URL', 'Data_Source_Name', 'Paper_DOI', 'Actions_Prior_to_Use',\n",
    "       'Data_Source_Type', 'Notes', 'Columns_Modified_Since_Previous_Version', 'Merged_Strains',\n",
    "       'Alternative_Strain_Names', '18S_Sequence_GenBank_ID', '18S_Sequence',\n",
    "       '18S_Sequence_Source', '18S_Sequence_Other_Strain_GenBank_ID',\n",
    "       '18S_Sequence_Other_Strain_Name', '18S_and_Taxonomy_Notes'], inplace=True)\n",
    "\n",
    "# Swap the _ to a space in the Name_to_Use column\n",
    "eukprot_taxonomy['Name_to_Use'] = eukprot_taxonomy['Name_to_Use'].str.replace('_', ' ')\n",
    "\n",
    "# Merge the annotation and taxonomy files\n",
    "data_tax = data_tax.merge(eukprot_taxonomy, left_on='target_id', right_on='EukProt_ID', how='left')\n",
    "print(f'The eukprot annotation merged with taxonomy file contains {len(data_tax)} rows')\n",
    "\n",
    "# Drop the columns that are not needed\n",
    "data_tax.drop(columns=['target_id', 'gapopen', 'qstart', 'qend', 'tstart', 'tend', 'evalue', 'bits'], inplace=True)"
   ]
  },
  {
   "cell_type": "code",
   "execution_count": 4,
   "metadata": {},
   "outputs": [
    {
     "name": "stdout",
     "output_type": "stream",
     "text": [
      "Index(['query_id', 'p_ident', 'alnlen', 'mismatch', 'EukProt_ID',\n",
      "       'Name_to_Use', 'Strain', 'Genus_UniEuk', 'Epithet_UniEuk',\n",
      "       'Supergroup_UniEuk', 'Taxogroup1_UniEuk', 'Taxogroup2_UniEuk',\n",
      "       'Taxonomy_UniEuk'],\n",
      "      dtype='object')\n"
     ]
    },
    {
     "data": {
      "text/html": [
       "<div><div id=3f59e358-b8d7-4aee-a322-e2bf06dae71d style=\"display:none; background-color:#9D6CFF; color:white; width:200px; height:30px; padding-left:5px; border-radius:4px; flex-direction:row; justify-content:space-around; align-items:center;\" onmouseover=\"this.style.backgroundColor='#BA9BF8'\" onmouseout=\"this.style.backgroundColor='#9D6CFF'\" onclick=\"window.commands?.execute('create-mitosheet-from-dataframe-output');\">See Full Dataframe in Mito</div> <script> if (window.commands?.hasCommand('create-mitosheet-from-dataframe-output')) document.getElementById('3f59e358-b8d7-4aee-a322-e2bf06dae71d').style.display = 'flex' </script> <table border=\"1\" class=\"dataframe\">\n",
       "  <thead>\n",
       "    <tr style=\"text-align: right;\">\n",
       "      <th></th>\n",
       "      <th>query_id</th>\n",
       "      <th>p_ident</th>\n",
       "      <th>alnlen</th>\n",
       "      <th>mismatch</th>\n",
       "      <th>EukProt_ID</th>\n",
       "      <th>Name_to_Use</th>\n",
       "      <th>Strain</th>\n",
       "      <th>Genus_UniEuk</th>\n",
       "      <th>Epithet_UniEuk</th>\n",
       "      <th>Supergroup_UniEuk</th>\n",
       "      <th>Taxogroup1_UniEuk</th>\n",
       "      <th>Taxogroup2_UniEuk</th>\n",
       "      <th>Taxonomy_UniEuk</th>\n",
       "    </tr>\n",
       "  </thead>\n",
       "  <tbody>\n",
       "    <tr>\n",
       "      <th>0</th>\n",
       "      <td>c_000001100514</td>\n",
       "      <td>0.960</td>\n",
       "      <td>108</td>\n",
       "      <td>4</td>\n",
       "      <td>EP00450</td>\n",
       "      <td>Noctiluca scintillans</td>\n",
       "      <td>NaN</td>\n",
       "      <td>Noctiluca</td>\n",
       "      <td>scintillans</td>\n",
       "      <td>Alveolata</td>\n",
       "      <td>Dinoflagellata</td>\n",
       "      <td>core-Noctilucales</td>\n",
       "      <td>Eukaryota;Diaphoretickes;Sar;Alveolata;Myzozoa;'DP clade';Dinoflagellata;'core Noctilucales';Noctiluca;Noctiluca scintillans</td>\n",
       "    </tr>\n",
       "    <tr>\n",
       "      <th>1</th>\n",
       "      <td>c_000001112094</td>\n",
       "      <td>0.962</td>\n",
       "      <td>91</td>\n",
       "      <td>3</td>\n",
       "      <td>EP00568</td>\n",
       "      <td>Trieres chinensis</td>\n",
       "      <td>PLY606</td>\n",
       "      <td>Trieres</td>\n",
       "      <td>chinensis</td>\n",
       "      <td>Stramenopiles</td>\n",
       "      <td>Ochrophyta</td>\n",
       "      <td>Diatomeae</td>\n",
       "      <td>Eukaryota;Diaphoretickes;Sar;Stramenopiles;'GOS clade';Gyrista;Ochrophyta;'BD clade';Diatomeae;Bacillariophytina;Mediophyceae;Odontellophycidae;Trieres;Trieres chinensis;strain PLY-606</td>\n",
       "    </tr>\n",
       "    <tr>\n",
       "      <th>2</th>\n",
       "      <td>c_000001228303</td>\n",
       "      <td>0.952</td>\n",
       "      <td>158</td>\n",
       "      <td>8</td>\n",
       "      <td>EP00568</td>\n",
       "      <td>Trieres chinensis</td>\n",
       "      <td>PLY606</td>\n",
       "      <td>Trieres</td>\n",
       "      <td>chinensis</td>\n",
       "      <td>Stramenopiles</td>\n",
       "      <td>Ochrophyta</td>\n",
       "      <td>Diatomeae</td>\n",
       "      <td>Eukaryota;Diaphoretickes;Sar;Stramenopiles;'GOS clade';Gyrista;Ochrophyta;'BD clade';Diatomeae;Bacillariophytina;Mediophyceae;Odontellophycidae;Trieres;Trieres chinensis;strain PLY-606</td>\n",
       "    </tr>\n",
       "    <tr>\n",
       "      <th>3</th>\n",
       "      <td>c_000002029341</td>\n",
       "      <td>1.000</td>\n",
       "      <td>121</td>\n",
       "      <td>0</td>\n",
       "      <td>EP00450</td>\n",
       "      <td>Noctiluca scintillans</td>\n",
       "      <td>NaN</td>\n",
       "      <td>Noctiluca</td>\n",
       "      <td>scintillans</td>\n",
       "      <td>Alveolata</td>\n",
       "      <td>Dinoflagellata</td>\n",
       "      <td>core-Noctilucales</td>\n",
       "      <td>Eukaryota;Diaphoretickes;Sar;Alveolata;Myzozoa;'DP clade';Dinoflagellata;'core Noctilucales';Noctiluca;Noctiluca scintillans</td>\n",
       "    </tr>\n",
       "    <tr>\n",
       "      <th>4</th>\n",
       "      <td>c_000001170245</td>\n",
       "      <td>0.955</td>\n",
       "      <td>127</td>\n",
       "      <td>6</td>\n",
       "      <td>EP00090</td>\n",
       "      <td>Calanus glacialis</td>\n",
       "      <td>NaN</td>\n",
       "      <td>Calanus</td>\n",
       "      <td>glacialis</td>\n",
       "      <td>Opisthokonta</td>\n",
       "      <td>Metazoa</td>\n",
       "      <td>Arthropoda</td>\n",
       "      <td>Eukaryota;Amorphea;Obazoa;Opisthokonta;Holozoa;Choanozoa;Metazoa;Animalia;'parahoxozoa';Bilateria;Protostomia;Ecdysozoa;Panarthropoda;Arthropoda;Mandibulata;Pancrustacea;Copepoda;Calanoida;'megacalanoids';Calanidae;Calanus;Calanus glacialis</td>\n",
       "    </tr>\n",
       "  </tbody>\n",
       "</table></div>"
      ],
      "text/plain": [
       "         query_id  p_ident  alnlen  mismatch EukProt_ID  \\\n",
       "0  c_000001100514    0.960     108         4    EP00450   \n",
       "1  c_000001112094    0.962      91         3    EP00568   \n",
       "2  c_000001228303    0.952     158         8    EP00568   \n",
       "3  c_000002029341    1.000     121         0    EP00450   \n",
       "4  c_000001170245    0.955     127         6    EP00090   \n",
       "\n",
       "             Name_to_Use  Strain Genus_UniEuk Epithet_UniEuk  \\\n",
       "0  Noctiluca scintillans     NaN    Noctiluca    scintillans   \n",
       "1      Trieres chinensis  PLY606      Trieres      chinensis   \n",
       "2      Trieres chinensis  PLY606      Trieres      chinensis   \n",
       "3  Noctiluca scintillans     NaN    Noctiluca    scintillans   \n",
       "4      Calanus glacialis     NaN      Calanus      glacialis   \n",
       "\n",
       "  Supergroup_UniEuk Taxogroup1_UniEuk  Taxogroup2_UniEuk  \\\n",
       "0         Alveolata    Dinoflagellata  core-Noctilucales   \n",
       "1     Stramenopiles        Ochrophyta          Diatomeae   \n",
       "2     Stramenopiles        Ochrophyta          Diatomeae   \n",
       "3         Alveolata    Dinoflagellata  core-Noctilucales   \n",
       "4      Opisthokonta           Metazoa         Arthropoda   \n",
       "\n",
       "                                     Taxonomy_UniEuk  \n",
       "0  Eukaryota;Diaphoretickes;Sar;Alveolata;Myzozoa...  \n",
       "1  Eukaryota;Diaphoretickes;Sar;Stramenopiles;'GO...  \n",
       "2  Eukaryota;Diaphoretickes;Sar;Stramenopiles;'GO...  \n",
       "3  Eukaryota;Diaphoretickes;Sar;Alveolata;Myzozoa...  \n",
       "4  Eukaryota;Amorphea;Obazoa;Opisthokonta;Holozoa...  "
      ]
     },
     "execution_count": 4,
     "metadata": {},
     "output_type": "execute_result"
    }
   ],
   "source": [
    "print(data_tax.columns)\n",
    "data_tax.head()"
   ]
  },
  {
   "cell_type": "code",
   "execution_count": 5,
   "metadata": {},
   "outputs": [],
   "source": [
    "# Create a dataset that is species x sample with the TPM values\n",
    "data = data_tax.merge(counts, left_on='query_id', right_on='transcript_id', how='left')\n",
    "data = data.drop(columns='query_id')\n",
    "\n",
    "# Add sample metadata\n",
    "meta = pd.read_csv('../../samples.csv', sep=';', index_col=0)\n",
    "data = data.merge(meta, left_on= 'sample', right_on= 'sample', how = 'left')\n",
    "\n",
    "tax_info = 'Name_to_Use'\n",
    "aggregation_level = 'sample'\n",
    "\n",
    "data = data[[aggregation_level, tax_info, 'TPM']]"
   ]
  },
  {
   "cell_type": "code",
   "execution_count": 6,
   "metadata": {},
   "outputs": [
    {
     "data": {
      "text/html": [
       "<div><div id=1e711e84-a2df-4ac8-8ee1-4c40aff0343e style=\"display:none; background-color:#9D6CFF; color:white; width:200px; height:30px; padding-left:5px; border-radius:4px; flex-direction:row; justify-content:space-around; align-items:center;\" onmouseover=\"this.style.backgroundColor='#BA9BF8'\" onmouseout=\"this.style.backgroundColor='#9D6CFF'\" onclick=\"window.commands?.execute('create-mitosheet-from-dataframe-output');\">See Full Dataframe in Mito</div> <script> if (window.commands?.hasCommand('create-mitosheet-from-dataframe-output')) document.getElementById('1e711e84-a2df-4ac8-8ee1-4c40aff0343e').style.display = 'flex' </script> <table border=\"1\" class=\"dataframe\">\n",
       "  <thead>\n",
       "    <tr style=\"text-align: right;\">\n",
       "      <th>sample</th>\n",
       "      <th>1_130_S31</th>\n",
       "      <th>1_330_S34</th>\n",
       "      <th>1_700_S32</th>\n",
       "      <th>1_780_S33</th>\n",
       "      <th>1_ZG02_S35</th>\n",
       "      <th>2_120_S40</th>\n",
       "      <th>2_130_S36</th>\n",
       "      <th>2_330_S39</th>\n",
       "      <th>2_700_S37</th>\n",
       "      <th>2_780_S38</th>\n",
       "      <th>...</th>\n",
       "      <th>E_330_S22</th>\n",
       "      <th>E_700_S20</th>\n",
       "      <th>E_780_S21</th>\n",
       "      <th>E_ZG02_S24</th>\n",
       "      <th>F_120_S29</th>\n",
       "      <th>F_130_S25</th>\n",
       "      <th>F_330_S28</th>\n",
       "      <th>F_700_S26</th>\n",
       "      <th>F_780_S27</th>\n",
       "      <th>F_ZG02_S30</th>\n",
       "    </tr>\n",
       "    <tr>\n",
       "      <th>Name_to_Use</th>\n",
       "      <th></th>\n",
       "      <th></th>\n",
       "      <th></th>\n",
       "      <th></th>\n",
       "      <th></th>\n",
       "      <th></th>\n",
       "      <th></th>\n",
       "      <th></th>\n",
       "      <th></th>\n",
       "      <th></th>\n",
       "      <th></th>\n",
       "      <th></th>\n",
       "      <th></th>\n",
       "      <th></th>\n",
       "      <th></th>\n",
       "      <th></th>\n",
       "      <th></th>\n",
       "      <th></th>\n",
       "      <th></th>\n",
       "      <th></th>\n",
       "      <th></th>\n",
       "    </tr>\n",
       "  </thead>\n",
       "  <tbody>\n",
       "    <tr>\n",
       "      <th>Abedinium dasypus</th>\n",
       "      <td>0.0</td>\n",
       "      <td>0.0</td>\n",
       "      <td>1.0</td>\n",
       "      <td>1.0</td>\n",
       "      <td>0.0</td>\n",
       "      <td>0.0</td>\n",
       "      <td>1.0</td>\n",
       "      <td>0.0</td>\n",
       "      <td>0.0</td>\n",
       "      <td>0.0</td>\n",
       "      <td>...</td>\n",
       "      <td>0.0</td>\n",
       "      <td>1.0</td>\n",
       "      <td>0.0</td>\n",
       "      <td>0.0</td>\n",
       "      <td>0.0</td>\n",
       "      <td>0.0</td>\n",
       "      <td>1.0</td>\n",
       "      <td>0.0</td>\n",
       "      <td>0.0</td>\n",
       "      <td>0.0</td>\n",
       "    </tr>\n",
       "    <tr>\n",
       "      <th>Abedinium folium</th>\n",
       "      <td>0.0</td>\n",
       "      <td>0.0</td>\n",
       "      <td>3.0</td>\n",
       "      <td>0.0</td>\n",
       "      <td>0.0</td>\n",
       "      <td>0.0</td>\n",
       "      <td>1.0</td>\n",
       "      <td>0.0</td>\n",
       "      <td>2.0</td>\n",
       "      <td>1.0</td>\n",
       "      <td>...</td>\n",
       "      <td>1.0</td>\n",
       "      <td>1.0</td>\n",
       "      <td>2.0</td>\n",
       "      <td>2.0</td>\n",
       "      <td>0.0</td>\n",
       "      <td>1.0</td>\n",
       "      <td>1.0</td>\n",
       "      <td>0.0</td>\n",
       "      <td>1.0</td>\n",
       "      <td>0.0</td>\n",
       "    </tr>\n",
       "    <tr>\n",
       "      <th>Abeoforma whisleri</th>\n",
       "      <td>0.0</td>\n",
       "      <td>0.0</td>\n",
       "      <td>1.0</td>\n",
       "      <td>0.0</td>\n",
       "      <td>1.0</td>\n",
       "      <td>0.0</td>\n",
       "      <td>2.0</td>\n",
       "      <td>1.0</td>\n",
       "      <td>2.0</td>\n",
       "      <td>1.0</td>\n",
       "      <td>...</td>\n",
       "      <td>0.0</td>\n",
       "      <td>0.0</td>\n",
       "      <td>0.0</td>\n",
       "      <td>0.0</td>\n",
       "      <td>1.0</td>\n",
       "      <td>0.0</td>\n",
       "      <td>0.0</td>\n",
       "      <td>3.0</td>\n",
       "      <td>0.0</td>\n",
       "      <td>1.0</td>\n",
       "    </tr>\n",
       "    <tr>\n",
       "      <th>Acanthamoeba castellanii</th>\n",
       "      <td>3.0</td>\n",
       "      <td>2.0</td>\n",
       "      <td>7.0</td>\n",
       "      <td>1.0</td>\n",
       "      <td>0.0</td>\n",
       "      <td>0.0</td>\n",
       "      <td>2.0</td>\n",
       "      <td>0.0</td>\n",
       "      <td>8.0</td>\n",
       "      <td>5.0</td>\n",
       "      <td>...</td>\n",
       "      <td>0.0</td>\n",
       "      <td>2.0</td>\n",
       "      <td>0.0</td>\n",
       "      <td>0.0</td>\n",
       "      <td>0.0</td>\n",
       "      <td>1.0</td>\n",
       "      <td>0.0</td>\n",
       "      <td>6.0</td>\n",
       "      <td>0.0</td>\n",
       "      <td>0.0</td>\n",
       "    </tr>\n",
       "    <tr>\n",
       "      <th>Acanthocystis sp HF-20</th>\n",
       "      <td>0.0</td>\n",
       "      <td>0.0</td>\n",
       "      <td>0.0</td>\n",
       "      <td>0.0</td>\n",
       "      <td>0.0</td>\n",
       "      <td>0.0</td>\n",
       "      <td>0.0</td>\n",
       "      <td>0.0</td>\n",
       "      <td>0.0</td>\n",
       "      <td>0.0</td>\n",
       "      <td>...</td>\n",
       "      <td>1.0</td>\n",
       "      <td>1.0</td>\n",
       "      <td>0.0</td>\n",
       "      <td>0.0</td>\n",
       "      <td>1.0</td>\n",
       "      <td>0.0</td>\n",
       "      <td>0.0</td>\n",
       "      <td>0.0</td>\n",
       "      <td>0.0</td>\n",
       "      <td>0.0</td>\n",
       "    </tr>\n",
       "  </tbody>\n",
       "</table></div>"
      ],
      "text/plain": [
       "sample                    1_130_S31  1_330_S34  1_700_S32  1_780_S33  \\\n",
       "Name_to_Use                                                            \n",
       "Abedinium dasypus               0.0        0.0        1.0        1.0   \n",
       "Abedinium folium                0.0        0.0        3.0        0.0   \n",
       "Abeoforma whisleri              0.0        0.0        1.0        0.0   \n",
       "Acanthamoeba castellanii        3.0        2.0        7.0        1.0   \n",
       "Acanthocystis sp HF-20          0.0        0.0        0.0        0.0   \n",
       "\n",
       "sample                    1_ZG02_S35  2_120_S40  2_130_S36  2_330_S39  \\\n",
       "Name_to_Use                                                             \n",
       "Abedinium dasypus                0.0        0.0        1.0        0.0   \n",
       "Abedinium folium                 0.0        0.0        1.0        0.0   \n",
       "Abeoforma whisleri               1.0        0.0        2.0        1.0   \n",
       "Acanthamoeba castellanii         0.0        0.0        2.0        0.0   \n",
       "Acanthocystis sp HF-20           0.0        0.0        0.0        0.0   \n",
       "\n",
       "sample                    2_700_S37  2_780_S38  ...  E_330_S22  E_700_S20  \\\n",
       "Name_to_Use                                     ...                         \n",
       "Abedinium dasypus               0.0        0.0  ...        0.0        1.0   \n",
       "Abedinium folium                2.0        1.0  ...        1.0        1.0   \n",
       "Abeoforma whisleri              2.0        1.0  ...        0.0        0.0   \n",
       "Acanthamoeba castellanii        8.0        5.0  ...        0.0        2.0   \n",
       "Acanthocystis sp HF-20          0.0        0.0  ...        1.0        1.0   \n",
       "\n",
       "sample                    E_780_S21  E_ZG02_S24  F_120_S29  F_130_S25  \\\n",
       "Name_to_Use                                                             \n",
       "Abedinium dasypus               0.0         0.0        0.0        0.0   \n",
       "Abedinium folium                2.0         2.0        0.0        1.0   \n",
       "Abeoforma whisleri              0.0         0.0        1.0        0.0   \n",
       "Acanthamoeba castellanii        0.0         0.0        0.0        1.0   \n",
       "Acanthocystis sp HF-20          0.0         0.0        1.0        0.0   \n",
       "\n",
       "sample                    F_330_S28  F_700_S26  F_780_S27  F_ZG02_S30  \n",
       "Name_to_Use                                                            \n",
       "Abedinium dasypus               1.0        0.0        0.0         0.0  \n",
       "Abedinium folium                1.0        0.0        1.0         0.0  \n",
       "Abeoforma whisleri              0.0        3.0        0.0         1.0  \n",
       "Acanthamoeba castellanii        0.0        6.0        0.0         0.0  \n",
       "Acanthocystis sp HF-20          0.0        0.0        0.0         0.0  \n",
       "\n",
       "[5 rows x 62 columns]"
      ]
     },
     "execution_count": 6,
     "metadata": {},
     "output_type": "execute_result"
    }
   ],
   "source": [
    "# Create a dataset that is species x sample with the TPM values\n",
    "data = data_tax.merge(counts, left_on='query_id', right_on='transcript_id', how='left')\n",
    "data = data.drop(columns='query_id')\n",
    "\n",
    "# Add sample metadata\n",
    "meta = pd.read_csv('../../samples.csv', sep=';', index_col=0)\n",
    "data = data.merge(meta, left_on= 'sample', right_on= 'sample', how = 'left')\n",
    "\n",
    "tax_info = 'Name_to_Use'\n",
    "aggregation_level = 'sample'\n",
    "\n",
    "data = data[[aggregation_level, tax_info, 'TPM']]\n",
    "\n",
    "# Group by taxonomic information and sample values, sum TPM per taxonomic group\n",
    "\n",
    "# Count how many non-zero transcripts are in each sample for each taxonomic group\n",
    "data = data[data['TPM'] > 1].groupby([tax_info, aggregation_level]).count().reset_index()\n",
    "\n",
    "data = data.pivot(index=tax_info, columns=aggregation_level, values='TPM')\n",
    "data = data.fillna(0)\n",
    "\n",
    "data.head()"
   ]
  },
  {
   "cell_type": "code",
   "execution_count": 7,
   "metadata": {},
   "outputs": [
    {
     "data": {
      "text/plain": [
       "sample\n",
       "1_130_S31     15\n",
       "1_330_S34     13\n",
       "1_700_S32      7\n",
       "1_780_S33     12\n",
       "1_ZG02_S35    15\n",
       "              ..\n",
       "F_130_S25     21\n",
       "F_330_S28     19\n",
       "F_700_S26     19\n",
       "F_780_S27     15\n",
       "F_ZG02_S30    17\n",
       "Length: 62, dtype: int64"
      ]
     },
     "execution_count": 7,
     "metadata": {},
     "output_type": "execute_result"
    }
   ],
   "source": [
    "# Count the amount of species per sample that have a total TPM > 50\n",
    "data[data > 50].count()"
   ]
  },
  {
   "cell_type": "code",
   "execution_count": 53,
   "metadata": {},
   "outputs": [
    {
     "data": {
      "application/vnd.plotly.v1+json": {
       "config": {
        "plotlyServerURL": "https://plot.ly"
       },
       "data": [
        {
         "alignmentgroup": "True",
         "hovertemplate": "month=%{x}<br>num_species=%{y}<extra></extra>",
         "legendgroup": "",
         "marker": {
          "color": "#636efa"
         },
         "name": "",
         "notched": false,
         "offsetgroup": "",
         "orientation": "v",
         "showlegend": false,
         "type": "box",
         "x": [
          "January_2021",
          "January_2021",
          "January_2021",
          "January_2021",
          "January_2021",
          "February_2021",
          "February_2021",
          "February_2021",
          "February_2021",
          "February_2021",
          "April_2021",
          "April_2021",
          "April_2021",
          "April_2021",
          "May_2021",
          "May_2021",
          "May_2021",
          "May_2021",
          "May_2021",
          "May_2021",
          "June_2021",
          "June_2021",
          "June_2021",
          "June_2021",
          "June_2021",
          "June_2021",
          "July_2021",
          "July_2021",
          "July_2021",
          "July_2021",
          "July_2021",
          "July_2021",
          "July_2020",
          "July_2020",
          "July_2020",
          "July_2020",
          "July_2020",
          "July_2020",
          "August_2020",
          "August_2020",
          "August_2020",
          "August_2020",
          "August_2020",
          "August_2020",
          "September_2020",
          "September_2020",
          "September_2020",
          "September_2020",
          "September_2020",
          "September_2020",
          "November_2020",
          "November_2020",
          "November_2020",
          "November_2020",
          "November_2020",
          "November_2020",
          "December_2020",
          "December_2020",
          "December_2020",
          "December_2020",
          "December_2020",
          "December_2020"
         ],
         "x0": " ",
         "xaxis": "x",
         "y": [
          9,
          9,
          5,
          10,
          9,
          15,
          14,
          13,
          7,
          18,
          8,
          4,
          8,
          6,
          4,
          3,
          6,
          5,
          4,
          7,
          1,
          7,
          2,
          4,
          2,
          1,
          6,
          5,
          2,
          16,
          2,
          2,
          4,
          8,
          4,
          2,
          4,
          4,
          4,
          7,
          10,
          5,
          11,
          7,
          12,
          13,
          17,
          15,
          13,
          18,
          10,
          11,
          14,
          9,
          10,
          12,
          13,
          15,
          12,
          15,
          6,
          7
         ],
         "y0": " ",
         "yaxis": "y"
        }
       ],
       "layout": {
        "boxmode": "group",
        "legend": {
         "tracegroupgap": 0
        },
        "margin": {
         "t": 60
        },
        "template": {
         "data": {
          "bar": [
           {
            "error_x": {
             "color": "#2a3f5f"
            },
            "error_y": {
             "color": "#2a3f5f"
            },
            "marker": {
             "line": {
              "color": "#E5ECF6",
              "width": 0.5
             },
             "pattern": {
              "fillmode": "overlay",
              "size": 10,
              "solidity": 0.2
             }
            },
            "type": "bar"
           }
          ],
          "barpolar": [
           {
            "marker": {
             "line": {
              "color": "#E5ECF6",
              "width": 0.5
             },
             "pattern": {
              "fillmode": "overlay",
              "size": 10,
              "solidity": 0.2
             }
            },
            "type": "barpolar"
           }
          ],
          "carpet": [
           {
            "aaxis": {
             "endlinecolor": "#2a3f5f",
             "gridcolor": "white",
             "linecolor": "white",
             "minorgridcolor": "white",
             "startlinecolor": "#2a3f5f"
            },
            "baxis": {
             "endlinecolor": "#2a3f5f",
             "gridcolor": "white",
             "linecolor": "white",
             "minorgridcolor": "white",
             "startlinecolor": "#2a3f5f"
            },
            "type": "carpet"
           }
          ],
          "choropleth": [
           {
            "colorbar": {
             "outlinewidth": 0,
             "ticks": ""
            },
            "type": "choropleth"
           }
          ],
          "contour": [
           {
            "colorbar": {
             "outlinewidth": 0,
             "ticks": ""
            },
            "colorscale": [
             [
              0,
              "#0d0887"
             ],
             [
              0.1111111111111111,
              "#46039f"
             ],
             [
              0.2222222222222222,
              "#7201a8"
             ],
             [
              0.3333333333333333,
              "#9c179e"
             ],
             [
              0.4444444444444444,
              "#bd3786"
             ],
             [
              0.5555555555555556,
              "#d8576b"
             ],
             [
              0.6666666666666666,
              "#ed7953"
             ],
             [
              0.7777777777777778,
              "#fb9f3a"
             ],
             [
              0.8888888888888888,
              "#fdca26"
             ],
             [
              1,
              "#f0f921"
             ]
            ],
            "type": "contour"
           }
          ],
          "contourcarpet": [
           {
            "colorbar": {
             "outlinewidth": 0,
             "ticks": ""
            },
            "type": "contourcarpet"
           }
          ],
          "heatmap": [
           {
            "colorbar": {
             "outlinewidth": 0,
             "ticks": ""
            },
            "colorscale": [
             [
              0,
              "#0d0887"
             ],
             [
              0.1111111111111111,
              "#46039f"
             ],
             [
              0.2222222222222222,
              "#7201a8"
             ],
             [
              0.3333333333333333,
              "#9c179e"
             ],
             [
              0.4444444444444444,
              "#bd3786"
             ],
             [
              0.5555555555555556,
              "#d8576b"
             ],
             [
              0.6666666666666666,
              "#ed7953"
             ],
             [
              0.7777777777777778,
              "#fb9f3a"
             ],
             [
              0.8888888888888888,
              "#fdca26"
             ],
             [
              1,
              "#f0f921"
             ]
            ],
            "type": "heatmap"
           }
          ],
          "heatmapgl": [
           {
            "colorbar": {
             "outlinewidth": 0,
             "ticks": ""
            },
            "colorscale": [
             [
              0,
              "#0d0887"
             ],
             [
              0.1111111111111111,
              "#46039f"
             ],
             [
              0.2222222222222222,
              "#7201a8"
             ],
             [
              0.3333333333333333,
              "#9c179e"
             ],
             [
              0.4444444444444444,
              "#bd3786"
             ],
             [
              0.5555555555555556,
              "#d8576b"
             ],
             [
              0.6666666666666666,
              "#ed7953"
             ],
             [
              0.7777777777777778,
              "#fb9f3a"
             ],
             [
              0.8888888888888888,
              "#fdca26"
             ],
             [
              1,
              "#f0f921"
             ]
            ],
            "type": "heatmapgl"
           }
          ],
          "histogram": [
           {
            "marker": {
             "pattern": {
              "fillmode": "overlay",
              "size": 10,
              "solidity": 0.2
             }
            },
            "type": "histogram"
           }
          ],
          "histogram2d": [
           {
            "colorbar": {
             "outlinewidth": 0,
             "ticks": ""
            },
            "colorscale": [
             [
              0,
              "#0d0887"
             ],
             [
              0.1111111111111111,
              "#46039f"
             ],
             [
              0.2222222222222222,
              "#7201a8"
             ],
             [
              0.3333333333333333,
              "#9c179e"
             ],
             [
              0.4444444444444444,
              "#bd3786"
             ],
             [
              0.5555555555555556,
              "#d8576b"
             ],
             [
              0.6666666666666666,
              "#ed7953"
             ],
             [
              0.7777777777777778,
              "#fb9f3a"
             ],
             [
              0.8888888888888888,
              "#fdca26"
             ],
             [
              1,
              "#f0f921"
             ]
            ],
            "type": "histogram2d"
           }
          ],
          "histogram2dcontour": [
           {
            "colorbar": {
             "outlinewidth": 0,
             "ticks": ""
            },
            "colorscale": [
             [
              0,
              "#0d0887"
             ],
             [
              0.1111111111111111,
              "#46039f"
             ],
             [
              0.2222222222222222,
              "#7201a8"
             ],
             [
              0.3333333333333333,
              "#9c179e"
             ],
             [
              0.4444444444444444,
              "#bd3786"
             ],
             [
              0.5555555555555556,
              "#d8576b"
             ],
             [
              0.6666666666666666,
              "#ed7953"
             ],
             [
              0.7777777777777778,
              "#fb9f3a"
             ],
             [
              0.8888888888888888,
              "#fdca26"
             ],
             [
              1,
              "#f0f921"
             ]
            ],
            "type": "histogram2dcontour"
           }
          ],
          "mesh3d": [
           {
            "colorbar": {
             "outlinewidth": 0,
             "ticks": ""
            },
            "type": "mesh3d"
           }
          ],
          "parcoords": [
           {
            "line": {
             "colorbar": {
              "outlinewidth": 0,
              "ticks": ""
             }
            },
            "type": "parcoords"
           }
          ],
          "pie": [
           {
            "automargin": true,
            "type": "pie"
           }
          ],
          "scatter": [
           {
            "marker": {
             "colorbar": {
              "outlinewidth": 0,
              "ticks": ""
             }
            },
            "type": "scatter"
           }
          ],
          "scatter3d": [
           {
            "line": {
             "colorbar": {
              "outlinewidth": 0,
              "ticks": ""
             }
            },
            "marker": {
             "colorbar": {
              "outlinewidth": 0,
              "ticks": ""
             }
            },
            "type": "scatter3d"
           }
          ],
          "scattercarpet": [
           {
            "marker": {
             "colorbar": {
              "outlinewidth": 0,
              "ticks": ""
             }
            },
            "type": "scattercarpet"
           }
          ],
          "scattergeo": [
           {
            "marker": {
             "colorbar": {
              "outlinewidth": 0,
              "ticks": ""
             }
            },
            "type": "scattergeo"
           }
          ],
          "scattergl": [
           {
            "marker": {
             "colorbar": {
              "outlinewidth": 0,
              "ticks": ""
             }
            },
            "type": "scattergl"
           }
          ],
          "scattermapbox": [
           {
            "marker": {
             "colorbar": {
              "outlinewidth": 0,
              "ticks": ""
             }
            },
            "type": "scattermapbox"
           }
          ],
          "scatterpolar": [
           {
            "marker": {
             "colorbar": {
              "outlinewidth": 0,
              "ticks": ""
             }
            },
            "type": "scatterpolar"
           }
          ],
          "scatterpolargl": [
           {
            "marker": {
             "colorbar": {
              "outlinewidth": 0,
              "ticks": ""
             }
            },
            "type": "scatterpolargl"
           }
          ],
          "scatterternary": [
           {
            "marker": {
             "colorbar": {
              "outlinewidth": 0,
              "ticks": ""
             }
            },
            "type": "scatterternary"
           }
          ],
          "surface": [
           {
            "colorbar": {
             "outlinewidth": 0,
             "ticks": ""
            },
            "colorscale": [
             [
              0,
              "#0d0887"
             ],
             [
              0.1111111111111111,
              "#46039f"
             ],
             [
              0.2222222222222222,
              "#7201a8"
             ],
             [
              0.3333333333333333,
              "#9c179e"
             ],
             [
              0.4444444444444444,
              "#bd3786"
             ],
             [
              0.5555555555555556,
              "#d8576b"
             ],
             [
              0.6666666666666666,
              "#ed7953"
             ],
             [
              0.7777777777777778,
              "#fb9f3a"
             ],
             [
              0.8888888888888888,
              "#fdca26"
             ],
             [
              1,
              "#f0f921"
             ]
            ],
            "type": "surface"
           }
          ],
          "table": [
           {
            "cells": {
             "fill": {
              "color": "#EBF0F8"
             },
             "line": {
              "color": "white"
             }
            },
            "header": {
             "fill": {
              "color": "#C8D4E3"
             },
             "line": {
              "color": "white"
             }
            },
            "type": "table"
           }
          ]
         },
         "layout": {
          "annotationdefaults": {
           "arrowcolor": "#2a3f5f",
           "arrowhead": 0,
           "arrowwidth": 1
          },
          "autotypenumbers": "strict",
          "coloraxis": {
           "colorbar": {
            "outlinewidth": 0,
            "ticks": ""
           }
          },
          "colorscale": {
           "diverging": [
            [
             0,
             "#8e0152"
            ],
            [
             0.1,
             "#c51b7d"
            ],
            [
             0.2,
             "#de77ae"
            ],
            [
             0.3,
             "#f1b6da"
            ],
            [
             0.4,
             "#fde0ef"
            ],
            [
             0.5,
             "#f7f7f7"
            ],
            [
             0.6,
             "#e6f5d0"
            ],
            [
             0.7,
             "#b8e186"
            ],
            [
             0.8,
             "#7fbc41"
            ],
            [
             0.9,
             "#4d9221"
            ],
            [
             1,
             "#276419"
            ]
           ],
           "sequential": [
            [
             0,
             "#0d0887"
            ],
            [
             0.1111111111111111,
             "#46039f"
            ],
            [
             0.2222222222222222,
             "#7201a8"
            ],
            [
             0.3333333333333333,
             "#9c179e"
            ],
            [
             0.4444444444444444,
             "#bd3786"
            ],
            [
             0.5555555555555556,
             "#d8576b"
            ],
            [
             0.6666666666666666,
             "#ed7953"
            ],
            [
             0.7777777777777778,
             "#fb9f3a"
            ],
            [
             0.8888888888888888,
             "#fdca26"
            ],
            [
             1,
             "#f0f921"
            ]
           ],
           "sequentialminus": [
            [
             0,
             "#0d0887"
            ],
            [
             0.1111111111111111,
             "#46039f"
            ],
            [
             0.2222222222222222,
             "#7201a8"
            ],
            [
             0.3333333333333333,
             "#9c179e"
            ],
            [
             0.4444444444444444,
             "#bd3786"
            ],
            [
             0.5555555555555556,
             "#d8576b"
            ],
            [
             0.6666666666666666,
             "#ed7953"
            ],
            [
             0.7777777777777778,
             "#fb9f3a"
            ],
            [
             0.8888888888888888,
             "#fdca26"
            ],
            [
             1,
             "#f0f921"
            ]
           ]
          },
          "colorway": [
           "#636efa",
           "#EF553B",
           "#00cc96",
           "#ab63fa",
           "#FFA15A",
           "#19d3f3",
           "#FF6692",
           "#B6E880",
           "#FF97FF",
           "#FECB52"
          ],
          "font": {
           "color": "#2a3f5f"
          },
          "geo": {
           "bgcolor": "white",
           "lakecolor": "white",
           "landcolor": "#E5ECF6",
           "showlakes": true,
           "showland": true,
           "subunitcolor": "white"
          },
          "hoverlabel": {
           "align": "left"
          },
          "hovermode": "closest",
          "mapbox": {
           "style": "light"
          },
          "paper_bgcolor": "white",
          "plot_bgcolor": "#E5ECF6",
          "polar": {
           "angularaxis": {
            "gridcolor": "white",
            "linecolor": "white",
            "ticks": ""
           },
           "bgcolor": "#E5ECF6",
           "radialaxis": {
            "gridcolor": "white",
            "linecolor": "white",
            "ticks": ""
           }
          },
          "scene": {
           "xaxis": {
            "backgroundcolor": "#E5ECF6",
            "gridcolor": "white",
            "gridwidth": 2,
            "linecolor": "white",
            "showbackground": true,
            "ticks": "",
            "zerolinecolor": "white"
           },
           "yaxis": {
            "backgroundcolor": "#E5ECF6",
            "gridcolor": "white",
            "gridwidth": 2,
            "linecolor": "white",
            "showbackground": true,
            "ticks": "",
            "zerolinecolor": "white"
           },
           "zaxis": {
            "backgroundcolor": "#E5ECF6",
            "gridcolor": "white",
            "gridwidth": 2,
            "linecolor": "white",
            "showbackground": true,
            "ticks": "",
            "zerolinecolor": "white"
           }
          },
          "shapedefaults": {
           "line": {
            "color": "#2a3f5f"
           }
          },
          "ternary": {
           "aaxis": {
            "gridcolor": "white",
            "linecolor": "white",
            "ticks": ""
           },
           "baxis": {
            "gridcolor": "white",
            "linecolor": "white",
            "ticks": ""
           },
           "bgcolor": "#E5ECF6",
           "caxis": {
            "gridcolor": "white",
            "linecolor": "white",
            "ticks": ""
           }
          },
          "title": {
           "x": 0.05
          },
          "xaxis": {
           "automargin": true,
           "gridcolor": "white",
           "linecolor": "white",
           "ticks": "",
           "title": {
            "standoff": 15
           },
           "zerolinecolor": "white",
           "zerolinewidth": 2
          },
          "yaxis": {
           "automargin": true,
           "gridcolor": "white",
           "linecolor": "white",
           "ticks": "",
           "title": {
            "standoff": 15
           },
           "zerolinecolor": "white",
           "zerolinewidth": 2
          }
         }
        },
        "xaxis": {
         "anchor": "y",
         "categoryarray": [
          "July_2020",
          "August_2020",
          "September_2020",
          "November_2020",
          "December_2020",
          "January_2021",
          "February_2021",
          "April_2021",
          "May_2021",
          "June_2021",
          "July_2021"
         ],
         "categoryorder": "array",
         "domain": [
          0,
          1
         ],
         "title": {
          "text": "month"
         }
        },
        "yaxis": {
         "anchor": "x",
         "domain": [
          0,
          1
         ],
         "title": {
          "text": "num_species"
         }
        }
       }
      }
     },
     "metadata": {},
     "output_type": "display_data"
    }
   ],
   "source": [
    "# Check how many genera exist per month that have > 50 non-zero TPM transcripts\n",
    "## Per sample, count the number of genera that have > 50 TPM\n",
    "taxonomic_bin_abundance = data[data > 100].count(axis=0).reset_index()\n",
    "taxonomic_bin_abundance.columns = ['sample', 'num_species']\n",
    "\n",
    "## Add metadata\n",
    "taxonomic_bin_abundance = taxonomic_bin_abundance.merge(meta[['month', 'station']], left_on='sample', right_index=True, how='left')\n",
    "\n",
    "# Plot the number of genera per month that have > 50 TPM\n",
    "fig = px.box(taxonomic_bin_abundance, x='month', y='num_species',\n",
    "             category_orders={'month': ['July_2020', \"August_2020\", \"September_2020\", \"November_2020\", \n",
    "               \"December_2020\", \"January_2021\", \"February_2021\", \"April_2021\", \n",
    "               \"May_2021\", \"June_2021\", \"July_2021\"]})\n",
    "\n",
    "fig.show()"
   ]
  },
  {
   "cell_type": "code",
   "execution_count": 57,
   "metadata": {},
   "outputs": [
    {
     "name": "stdout",
     "output_type": "stream",
     "text": [
      "ANOVA Table for the difference in active species between months:\n",
      "               sum_sq    df         F        PR(>F)\n",
      "month     882.487097  10.0  9.872086  6.184762e-09\n",
      "Residual  455.900000  51.0       NaN           NaN\n",
      "\n",
      "ANOVA Table for the difference in active species between stations:\n",
      "                sum_sq    df         F    PR(>F)\n",
      "station     18.268915   5.0  0.154995  0.977664\n",
      "Residual  1320.118182  56.0       NaN       NaN\n"
     ]
    }
   ],
   "source": [
    "# ANOVA for months\n",
    "model_month = ols('num_species ~ month', data=taxonomic_bin_abundance).fit()\n",
    "anova_table_month = sm.stats.anova_lm(model_month, typ=2)\n",
    "\n",
    "# ANOVA for stations\n",
    "model_stations = ols('num_species ~ station', data=taxonomic_bin_abundance).fit()\n",
    "anova_table_stations = sm.stats.anova_lm(model_stations, typ=2)\n",
    "\n",
    "print(\"ANOVA Table for the difference in active species between months:\\n\", anova_table_month)\n",
    "print(\"\\nANOVA Table for the difference in active species between stations:\\n\", anova_table_stations)"
   ]
  },
  {
   "cell_type": "code",
   "execution_count": 56,
   "metadata": {},
   "outputs": [
    {
     "name": "stdout",
     "output_type": "stream",
     "text": [
      "\n",
      "Checking Normality of Residuals for Months...\n",
      "ShapiroResult(statistic=0.9586699604988098, pvalue=0.035555414855480194)\n"
     ]
    },
    {
     "data": {
      "image/png": "[encoded data removed]",
      "text/plain": [
       "<Figure size 432x288 with 1 Axes>"
      ]
     },
     "metadata": {
      "needs_background": "light"
     },
     "output_type": "display_data"
    },
    {
     "name": "stdout",
     "output_type": "stream",
     "text": [
      "\n",
      "Checking Homogeneity of Variances for the Months...\n",
      "LeveneResult(statistic=0.8629996747909529, pvalue=0.5724886840686185)\n"
     ]
    }
   ],
   "source": [
    "# Check normality of residuals for the months\n",
    "print(\"\\nChecking Normality of Residuals for Months...\")\n",
    "print(stats.shapiro(model_month.resid))\n",
    "sm.qqplot(model_month.resid, line='s')\n",
    "plt.title(\"Q-Q Plot of Residuals for Months\")\n",
    "plt.show()\n",
    "\n",
    "# Check homogeneity of variances for the months\n",
    "print(\"\\nChecking Homogeneity of Variances for the Months...\")\n",
    "print(stats.levene(*[taxonomic_bin_abundance['num_species'][taxonomic_bin_abundance['month'] == s] for s in taxonomic_bin_abundance['month'].unique()]))"
   ]
  },
  {
   "cell_type": "code",
   "execution_count": 59,
   "metadata": {},
   "outputs": [
    {
     "name": "stdout",
     "output_type": "stream",
     "text": [
      "sample\n",
      "7_120_S61      6\n",
      "7_130_S57      5\n",
      "7_330_S58      2\n",
      "7_700_S59     16\n",
      "7_780_S60      2\n",
      "7_ZG02_S62     2\n",
      "dtype: int64\n"
     ]
    }
   ],
   "source": [
    "# I guess in July 2021 there is an outlier here\n",
    "## Check in which jul_2021 sample this outlier is\n",
    "july_2021_abundance = data[data > 100][['7_120_S61', '7_130_S57', '7_330_S58', '7_700_S59', '7_780_S60', '7_ZG02_S62']]\n",
    "print(july_2021_abundance.count(axis=0))\n"
   ]
  },
  {
   "cell_type": "code",
   "execution_count": 61,
   "metadata": {},
   "outputs": [
    {
     "name": "stdout",
     "output_type": "stream",
     "text": [
      "sample                        7_700_S59\n",
      "Name_to_Use                            \n",
      "Acartia fossae                    123.0\n",
      "Asterionellopsis glacialis        148.0\n",
      "Chaetoceros brevis                101.0\n",
      "Chaetoceros debilis               143.0\n",
      "Crassostrea gigas                 269.0\n",
      "Eurytemora affinis                111.0\n",
      "Mnemiopsis leidyi                 119.0\n",
      "Noctiluca scintillans            3203.0\n",
      "Nonionella stella                 168.0\n",
      "Odontella aurita                  144.0\n",
      "Oithona nana                      111.0\n",
      "Pseudictyota dubia                158.0\n",
      "Schmidingerella arcuata           105.0\n",
      "Schmidingerella taraikaensis      134.0\n",
      "Thalassiosira rotula              133.0\n",
      "Tripos fusus                     2437.0\n"
     ]
    }
   ],
   "source": [
    "# Print the species that are present in station 700 in July 2021\n",
    "july_2021_abundance = data[data > 100][['7_700_S59']]\n",
    "print(july_2021_abundance[july_2021_abundance['7_700_S59'] > 0])"
   ]
  },
  {
   "cell_type": "code",
   "execution_count": 62,
   "metadata": {},
   "outputs": [
    {
     "name": "stdout",
     "output_type": "stream",
     "text": [
      "        Multiple Comparison of Means - Tukey HSD, FWER=0.05         \n",
      "====================================================================\n",
      "    group1        group2     meandiff p-adj   lower    upper  reject\n",
      "--------------------------------------------------------------------\n",
      "   April_2021    August_2020   0.8333    1.0  -5.6679  7.3346  False\n",
      "   April_2021  December_2020   4.8333 0.3263  -1.6679 11.3346  False\n",
      "   April_2021  February_2021      6.9 0.0415   0.1437 13.6563   True\n",
      "   April_2021   January_2021      1.9 0.9967  -4.8563  8.6563  False\n",
      "   April_2021      July_2020  -2.1667 0.9875  -8.6679  4.3346  False\n",
      "   April_2021      July_2021     -1.0    1.0  -7.5013  5.5013  False\n",
      "   April_2021      June_2021  -3.6667 0.7144 -10.1679  2.8346  False\n",
      "   April_2021       May_2021  -1.6667 0.9984  -8.1679  4.8346  False\n",
      "   April_2021  November_2020      4.5 0.4293  -2.0013 11.0013  False\n",
      "   April_2021 September_2020   8.1667 0.0042   1.6654 14.6679   True\n",
      "  August_2020  December_2020      4.0 0.4385  -1.8149  9.8149  False\n",
      "  August_2020  February_2021   6.0667 0.0523  -0.0321 12.1654  False\n",
      "  August_2020   January_2021   1.0667 0.9999  -5.0321  7.1654  False\n",
      "  August_2020      July_2020     -3.0 0.8089  -8.8149  2.8149  False\n",
      "  August_2020      July_2021  -1.8333 0.9918  -7.6482  3.9816  False\n",
      "  August_2020      June_2021     -4.5 0.2724 -10.3149  1.3149  False\n",
      "  August_2020       May_2021     -2.5 0.9295  -8.3149  3.3149  False\n",
      "  August_2020  November_2020   3.6667 0.5664  -2.1482  9.4816  False\n",
      "  August_2020 September_2020   7.3333  0.004   1.5184 13.1482   True\n",
      "December_2020  February_2021   2.0667 0.9858  -4.0321  8.1654  False\n",
      "December_2020   January_2021  -2.9333 0.8663  -9.0321  3.1654  False\n",
      "December_2020      July_2020     -7.0 0.0072 -12.8149 -1.1851   True\n",
      "December_2020      July_2021  -5.8333 0.0486 -11.6482 -0.0184   True\n",
      "December_2020      June_2021     -8.5 0.0004 -14.3149 -2.6851   True\n",
      "December_2020       May_2021     -6.5  0.017 -12.3149 -0.6851   True\n",
      "December_2020  November_2020  -0.3333    1.0  -6.1482  5.4816  False\n",
      "December_2020 September_2020   3.3333 0.6946  -2.4816  9.1482  False\n",
      "February_2021   January_2021     -5.0 0.2542 -11.3699  1.3699  False\n",
      "February_2021      July_2020  -9.0667 0.0003 -15.1654 -2.9679   True\n",
      "February_2021      July_2021     -7.9 0.0028 -13.9987 -1.8013   True\n",
      "February_2021      June_2021 -10.5667    0.0 -16.6654 -4.4679   True\n",
      "February_2021       May_2021  -8.5667 0.0008 -14.6654 -2.4679   True\n",
      "February_2021  November_2020     -2.4 0.9598  -8.4987  3.6987  False\n",
      "February_2021 September_2020   1.2667 0.9997  -4.8321  7.3654  False\n",
      " January_2021      July_2020  -4.0667 0.4846 -10.1654  2.0321  False\n",
      " January_2021      July_2021     -2.9 0.8742  -8.9987  3.1987  False\n",
      " January_2021      June_2021  -5.5667 0.1028 -11.6654  0.5321  False\n",
      " January_2021       May_2021  -3.5667 0.6694  -9.6654  2.5321  False\n",
      " January_2021  November_2020      2.6  0.933  -3.4987  8.6987  False\n",
      " January_2021 September_2020   6.2667 0.0392   0.1679 12.3654   True\n",
      "    July_2020      July_2021   1.1667 0.9998  -4.6482  6.9816  False\n",
      "    July_2020      June_2021     -1.5 0.9984  -7.3149  4.3149  False\n",
      "    July_2020       May_2021      0.5    1.0  -5.3149  6.3149  False\n",
      "    July_2020  November_2020   6.6667 0.0129   0.8518 12.4816   True\n",
      "    July_2020 September_2020  10.3333    0.0   4.5184 16.1482   True\n",
      "    July_2021      June_2021  -2.6667 0.8971  -8.4816  3.1482  False\n",
      "    July_2021       May_2021  -0.6667    1.0  -6.4816  5.1482  False\n",
      "    July_2021  November_2020      5.5 0.0789  -0.3149 11.3149  False\n",
      "    July_2021 September_2020   9.1667 0.0001   3.3518 14.9816   True\n",
      "    June_2021       May_2021      2.0 0.9842  -3.8149  7.8149  False\n",
      "    June_2021  November_2020   8.1667 0.0008   2.3518 13.9816   True\n",
      "    June_2021 September_2020  11.8333    0.0   6.0184 17.6482   True\n",
      "     May_2021  November_2020   6.1667 0.0291   0.3518 11.9816   True\n",
      "     May_2021 September_2020   9.8333    0.0   4.0184 15.6482   True\n",
      "November_2020 September_2020   3.6667 0.5664  -2.1482  9.4816  False\n",
      "--------------------------------------------------------------------\n"
     ]
    }
   ],
   "source": [
    "# Post-hoc Tukey's HSD test to check which months are different\n",
    "posthoc = pairwise_tukeyhsd(taxonomic_bin_abundance['num_species'], taxonomic_bin_abundance['month'], alpha=0.05)\n",
    "print(posthoc)"
   ]
  },
  {
   "cell_type": "code",
   "execution_count": 64,
   "metadata": {},
   "outputs": [
    {
     "data": {
      "text/html": [
       "<div><div id=b9a1aaea-814e-4a3c-a677-af8ae60d1ba5 style=\"display:none; background-color:#9D6CFF; color:white; width:200px; height:30px; padding-left:5px; border-radius:4px; flex-direction:row; justify-content:space-around; align-items:center;\" onmouseover=\"this.style.backgroundColor='#BA9BF8'\" onmouseout=\"this.style.backgroundColor='#9D6CFF'\" onclick=\"window.commands?.execute('create-mitosheet-from-dataframe-output');\">See Full Dataframe in Mito</div> <script> if (window.commands?.hasCommand('create-mitosheet-from-dataframe-output')) document.getElementById('b9a1aaea-814e-4a3c-a677-af8ae60d1ba5').style.display = 'flex' </script> <table border=\"1\" class=\"dataframe\">\n",
       "  <thead>\n",
       "    <tr style=\"text-align: right;\">\n",
       "      <th></th>\n",
       "      <th>taxonomic_bin</th>\n",
       "      <th>abundant_in_samples</th>\n",
       "    </tr>\n",
       "  </thead>\n",
       "  <tbody>\n",
       "    <tr>\n",
       "      <th>0</th>\n",
       "      <td>Abedinium dasypus</td>\n",
       "      <td>0</td>\n",
       "    </tr>\n",
       "    <tr>\n",
       "      <th>1</th>\n",
       "      <td>Abedinium folium</td>\n",
       "      <td>0</td>\n",
       "    </tr>\n",
       "    <tr>\n",
       "      <th>2</th>\n",
       "      <td>Abeoforma whisleri</td>\n",
       "      <td>0</td>\n",
       "    </tr>\n",
       "    <tr>\n",
       "      <th>3</th>\n",
       "      <td>Acanthamoeba castellanii</td>\n",
       "      <td>0</td>\n",
       "    </tr>\n",
       "    <tr>\n",
       "      <th>4</th>\n",
       "      <td>Acanthocystis sp HF-20</td>\n",
       "      <td>0</td>\n",
       "    </tr>\n",
       "  </tbody>\n",
       "</table></div>"
      ],
      "text/plain": [
       "              taxonomic_bin  abundant_in_samples\n",
       "0         Abedinium dasypus                    0\n",
       "1          Abedinium folium                    0\n",
       "2        Abeoforma whisleri                    0\n",
       "3  Acanthamoeba castellanii                    0\n",
       "4    Acanthocystis sp HF-20                    0"
      ]
     },
     "execution_count": 64,
     "metadata": {},
     "output_type": "execute_result"
    }
   ],
   "source": [
    "# Extract the names of the genera that have > 100 TPM in at least one sample\n",
    "taxonomic_bin_abundance = data[data > 100].count(axis=1).reset_index()\n",
    "taxonomic_bin_abundance.columns = ['taxonomic_bin', 'abundant_in_samples']\n",
    "taxonomic_bin_abundance.head()"
   ]
  },
  {
   "cell_type": "code",
   "execution_count": 65,
   "metadata": {},
   "outputs": [],
   "source": [
    "# Save a list of taxa that are at least once present with more than 100 TPM\n",
    "abundant_taxa = taxonomic_bin_abundance[taxonomic_bin_abundance['abundant_in_samples'] >= 1]['taxonomic_bin']"
   ]
  },
  {
   "cell_type": "code",
   "execution_count": 66,
   "metadata": {},
   "outputs": [
    {
     "name": "stdout",
     "output_type": "stream",
     "text": [
      "(746, 62)\n",
      "53\n"
     ]
    }
   ],
   "source": [
    "# Only retain species with that have more than 500 non-zero transcripts at least once\n",
    "print(data.shape)\n",
    "print(len(abundant_taxa))"
   ]
  },
  {
   "cell_type": "code",
   "execution_count": 68,
   "metadata": {},
   "outputs": [],
   "source": [
    "# To obtain biodiversity measures, we'll only retain taxonomic bins with more than 50 non-zero transcripts in at least one sample\n",
    "# Create a dataset that is species x sample with the TPM values\n",
    "data = data_tax.merge(counts, left_on='query_id', right_on='transcript_id', how='left')\n",
    "data = data.drop(columns='query_id')\n",
    "\n",
    "# Add sample metadata\n",
    "meta = pd.read_csv('../../samples.csv', sep=';', index_col=0)\n",
    "data = data.merge(meta, left_on= 'sample', right_on= 'sample', how = 'left')\n",
    "\n",
    "data = data[[aggregation_level, tax_info, 'TPM']]\n",
    "\n",
    "# Group by taxonomic information and sample values, sum TPM per taxonomic group\n",
    "\n",
    "# Count how many non-zero transcripts are in each sample for each taxonomic group\n",
    "data = data[data['TPM'] > 1].groupby([tax_info, aggregation_level]).sum().reset_index()\n",
    "\n",
    "data = data.pivot(index=tax_info, columns=aggregation_level, values='TPM')\n",
    "data = data.fillna(0)\n",
    "\n",
    "# Filter for the most abundant taxonomic bins\n",
    "data = data.filter(items=abundant_taxa, axis=0)\n",
    "\n",
    "# Save the data\n",
    "data.to_csv(f'../../data/analysis/{tax_info}_{aggregation_level}_TPM_sum_bins100plus.csv')"
   ]
  },
  {
   "cell_type": "code",
   "execution_count": 69,
   "metadata": {},
   "outputs": [
    {
     "data": {
      "text/html": [
       "<div><div id=bf9a36a7-1e80-4a87-9e06-bb4daaeb990a style=\"display:none; background-color:#9D6CFF; color:white; width:200px; height:30px; padding-left:5px; border-radius:4px; flex-direction:row; justify-content:space-around; align-items:center;\" onmouseover=\"this.style.backgroundColor='#BA9BF8'\" onmouseout=\"this.style.backgroundColor='#9D6CFF'\" onclick=\"window.commands?.execute('create-mitosheet-from-dataframe-output');\">See Full Dataframe in Mito</div> <script> if (window.commands?.hasCommand('create-mitosheet-from-dataframe-output')) document.getElementById('bf9a36a7-1e80-4a87-9e06-bb4daaeb990a').style.display = 'flex' </script> <table border=\"1\" class=\"dataframe\">\n",
       "  <thead>\n",
       "    <tr style=\"text-align: right;\">\n",
       "      <th>sample</th>\n",
       "      <th>1_130_S31</th>\n",
       "      <th>1_330_S34</th>\n",
       "      <th>1_700_S32</th>\n",
       "      <th>1_780_S33</th>\n",
       "      <th>1_ZG02_S35</th>\n",
       "      <th>2_120_S40</th>\n",
       "      <th>2_130_S36</th>\n",
       "      <th>2_330_S39</th>\n",
       "      <th>2_700_S37</th>\n",
       "      <th>2_780_S38</th>\n",
       "      <th>...</th>\n",
       "      <th>E_330_S22</th>\n",
       "      <th>E_700_S20</th>\n",
       "      <th>E_780_S21</th>\n",
       "      <th>E_ZG02_S24</th>\n",
       "      <th>F_120_S29</th>\n",
       "      <th>F_130_S25</th>\n",
       "      <th>F_330_S28</th>\n",
       "      <th>F_700_S26</th>\n",
       "      <th>F_780_S27</th>\n",
       "      <th>F_ZG02_S30</th>\n",
       "    </tr>\n",
       "    <tr>\n",
       "      <th>Name_to_Use</th>\n",
       "      <th></th>\n",
       "      <th></th>\n",
       "      <th></th>\n",
       "      <th></th>\n",
       "      <th></th>\n",
       "      <th></th>\n",
       "      <th></th>\n",
       "      <th></th>\n",
       "      <th></th>\n",
       "      <th></th>\n",
       "      <th></th>\n",
       "      <th></th>\n",
       "      <th></th>\n",
       "      <th></th>\n",
       "      <th></th>\n",
       "      <th></th>\n",
       "      <th></th>\n",
       "      <th></th>\n",
       "      <th></th>\n",
       "      <th></th>\n",
       "      <th></th>\n",
       "    </tr>\n",
       "  </thead>\n",
       "  <tbody>\n",
       "    <tr>\n",
       "      <th>Acartia fossae</th>\n",
       "      <td>1863.89414</td>\n",
       "      <td>4475.13952</td>\n",
       "      <td>60.53836</td>\n",
       "      <td>792.21355</td>\n",
       "      <td>3155.82450</td>\n",
       "      <td>968.68868</td>\n",
       "      <td>452.38849</td>\n",
       "      <td>723.98149</td>\n",
       "      <td>314.08238</td>\n",
       "      <td>627.33382</td>\n",
       "      <td>...</td>\n",
       "      <td>1697.06555</td>\n",
       "      <td>602.40026</td>\n",
       "      <td>1198.22644</td>\n",
       "      <td>489.50601</td>\n",
       "      <td>529.18085</td>\n",
       "      <td>383.79674</td>\n",
       "      <td>518.47015</td>\n",
       "      <td>795.55492</td>\n",
       "      <td>250.85922</td>\n",
       "      <td>446.77193</td>\n",
       "    </tr>\n",
       "    <tr>\n",
       "      <th>Ancora sagittata</th>\n",
       "      <td>277.16110</td>\n",
       "      <td>40.08182</td>\n",
       "      <td>34.48037</td>\n",
       "      <td>90.38764</td>\n",
       "      <td>83.37614</td>\n",
       "      <td>68.51945</td>\n",
       "      <td>244.45186</td>\n",
       "      <td>103.36429</td>\n",
       "      <td>68.47484</td>\n",
       "      <td>47.21080</td>\n",
       "      <td>...</td>\n",
       "      <td>165.74384</td>\n",
       "      <td>32.18043</td>\n",
       "      <td>40.29188</td>\n",
       "      <td>34.59967</td>\n",
       "      <td>39.12768</td>\n",
       "      <td>603.23141</td>\n",
       "      <td>60.99378</td>\n",
       "      <td>242.32932</td>\n",
       "      <td>161.61251</td>\n",
       "      <td>61.52050</td>\n",
       "    </tr>\n",
       "    <tr>\n",
       "      <th>Asterionellopsis glacialis</th>\n",
       "      <td>7.82853</td>\n",
       "      <td>42.53273</td>\n",
       "      <td>3.81131</td>\n",
       "      <td>5.66548</td>\n",
       "      <td>33.31470</td>\n",
       "      <td>279.63446</td>\n",
       "      <td>63.96801</td>\n",
       "      <td>475.34195</td>\n",
       "      <td>15.55096</td>\n",
       "      <td>1264.82111</td>\n",
       "      <td>...</td>\n",
       "      <td>29.16891</td>\n",
       "      <td>9.03285</td>\n",
       "      <td>14.87121</td>\n",
       "      <td>110.21272</td>\n",
       "      <td>263.25399</td>\n",
       "      <td>74.20303</td>\n",
       "      <td>90.55285</td>\n",
       "      <td>13.91994</td>\n",
       "      <td>289.04818</td>\n",
       "      <td>195.09468</td>\n",
       "    </tr>\n",
       "    <tr>\n",
       "      <th>Bathycoccus prasinos</th>\n",
       "      <td>102.17980</td>\n",
       "      <td>71.91078</td>\n",
       "      <td>74.45514</td>\n",
       "      <td>99.41662</td>\n",
       "      <td>42.25037</td>\n",
       "      <td>57.66063</td>\n",
       "      <td>49.45068</td>\n",
       "      <td>2.68405</td>\n",
       "      <td>22.56736</td>\n",
       "      <td>63.83962</td>\n",
       "      <td>...</td>\n",
       "      <td>10.28739</td>\n",
       "      <td>85.63470</td>\n",
       "      <td>19.66027</td>\n",
       "      <td>0.00000</td>\n",
       "      <td>71.97831</td>\n",
       "      <td>36.00820</td>\n",
       "      <td>107.53884</td>\n",
       "      <td>21.17933</td>\n",
       "      <td>6.97533</td>\n",
       "      <td>26.61149</td>\n",
       "    </tr>\n",
       "    <tr>\n",
       "      <th>Calanus glacialis</th>\n",
       "      <td>464.19100</td>\n",
       "      <td>3001.97977</td>\n",
       "      <td>12.39109</td>\n",
       "      <td>200.25295</td>\n",
       "      <td>858.11274</td>\n",
       "      <td>1788.11645</td>\n",
       "      <td>944.40327</td>\n",
       "      <td>452.14443</td>\n",
       "      <td>712.03137</td>\n",
       "      <td>195.15471</td>\n",
       "      <td>...</td>\n",
       "      <td>652.56219</td>\n",
       "      <td>110.26970</td>\n",
       "      <td>376.36576</td>\n",
       "      <td>269.84407</td>\n",
       "      <td>497.56300</td>\n",
       "      <td>151.52302</td>\n",
       "      <td>186.79589</td>\n",
       "      <td>2026.05445</td>\n",
       "      <td>93.76730</td>\n",
       "      <td>132.16566</td>\n",
       "    </tr>\n",
       "  </tbody>\n",
       "</table></div>"
      ],
      "text/plain": [
       "sample                       1_130_S31   1_330_S34  1_700_S32  1_780_S33  \\\n",
       "Name_to_Use                                                                \n",
       "Acartia fossae              1863.89414  4475.13952   60.53836  792.21355   \n",
       "Ancora sagittata             277.16110    40.08182   34.48037   90.38764   \n",
       "Asterionellopsis glacialis     7.82853    42.53273    3.81131    5.66548   \n",
       "Bathycoccus prasinos         102.17980    71.91078   74.45514   99.41662   \n",
       "Calanus glacialis            464.19100  3001.97977   12.39109  200.25295   \n",
       "\n",
       "sample                      1_ZG02_S35   2_120_S40  2_130_S36  2_330_S39  \\\n",
       "Name_to_Use                                                                \n",
       "Acartia fossae              3155.82450   968.68868  452.38849  723.98149   \n",
       "Ancora sagittata              83.37614    68.51945  244.45186  103.36429   \n",
       "Asterionellopsis glacialis    33.31470   279.63446   63.96801  475.34195   \n",
       "Bathycoccus prasinos          42.25037    57.66063   49.45068    2.68405   \n",
       "Calanus glacialis            858.11274  1788.11645  944.40327  452.14443   \n",
       "\n",
       "sample                      2_700_S37   2_780_S38  ...   E_330_S22  E_700_S20  \\\n",
       "Name_to_Use                                        ...                          \n",
       "Acartia fossae              314.08238   627.33382  ...  1697.06555  602.40026   \n",
       "Ancora sagittata             68.47484    47.21080  ...   165.74384   32.18043   \n",
       "Asterionellopsis glacialis   15.55096  1264.82111  ...    29.16891    9.03285   \n",
       "Bathycoccus prasinos         22.56736    63.83962  ...    10.28739   85.63470   \n",
       "Calanus glacialis           712.03137   195.15471  ...   652.56219  110.26970   \n",
       "\n",
       "sample                       E_780_S21  E_ZG02_S24  F_120_S29  F_130_S25  \\\n",
       "Name_to_Use                                                                \n",
       "Acartia fossae              1198.22644   489.50601  529.18085  383.79674   \n",
       "Ancora sagittata              40.29188    34.59967   39.12768  603.23141   \n",
       "Asterionellopsis glacialis    14.87121   110.21272  263.25399   74.20303   \n",
       "Bathycoccus prasinos          19.66027     0.00000   71.97831   36.00820   \n",
       "Calanus glacialis            376.36576   269.84407  497.56300  151.52302   \n",
       "\n",
       "sample                      F_330_S28   F_700_S26  F_780_S27  F_ZG02_S30  \n",
       "Name_to_Use                                                               \n",
       "Acartia fossae              518.47015   795.55492  250.85922   446.77193  \n",
       "Ancora sagittata             60.99378   242.32932  161.61251    61.52050  \n",
       "Asterionellopsis glacialis   90.55285    13.91994  289.04818   195.09468  \n",
       "Bathycoccus prasinos        107.53884    21.17933    6.97533    26.61149  \n",
       "Calanus glacialis           186.79589  2026.05445   93.76730   132.16566  \n",
       "\n",
       "[5 rows x 62 columns]"
      ]
     },
     "execution_count": 69,
     "metadata": {},
     "output_type": "execute_result"
    }
   ],
   "source": [
    "data.head()"
   ]
  },
  {
   "attachments": {},
   "cell_type": "markdown",
   "metadata": {},
   "source": [
    "Run the diversity.R script to calculate the Chao1 index for each sample."
   ]
  },
  {
   "cell_type": "code",
   "execution_count": 70,
   "metadata": {},
   "outputs": [],
   "source": [
    "# Load the biodiversity indices\n",
    "biodiversity = pd.read_csv('../../data/analysis/eukprot_bins100plus_biodiversity_estimates.csv', index_col=0)"
   ]
  },
  {
   "cell_type": "code",
   "execution_count": 71,
   "metadata": {},
   "outputs": [
    {
     "data": {
      "text/html": [
       "<div><div id=b8b41ed5-1b55-4229-88ff-38a1d93c32df style=\"display:none; background-color:#9D6CFF; color:white; width:200px; height:30px; padding-left:5px; border-radius:4px; flex-direction:row; justify-content:space-around; align-items:center;\" onmouseover=\"this.style.backgroundColor='#BA9BF8'\" onmouseout=\"this.style.backgroundColor='#9D6CFF'\" onclick=\"window.commands?.execute('create-mitosheet-from-dataframe-output');\">See Full Dataframe in Mito</div> <script> if (window.commands?.hasCommand('create-mitosheet-from-dataframe-output')) document.getElementById('b8b41ed5-1b55-4229-88ff-38a1d93c32df').style.display = 'flex' </script> <table border=\"1\" class=\"dataframe\">\n",
       "  <thead>\n",
       "    <tr style=\"text-align: right;\">\n",
       "      <th></th>\n",
       "      <th>shannon</th>\n",
       "      <th>simpson</th>\n",
       "      <th>species</th>\n",
       "      <th>evenness</th>\n",
       "    </tr>\n",
       "  </thead>\n",
       "  <tbody>\n",
       "    <tr>\n",
       "      <th>1_130_S31</th>\n",
       "      <td>3.136442</td>\n",
       "      <td>0.944625</td>\n",
       "      <td>49</td>\n",
       "      <td>0.805906</td>\n",
       "    </tr>\n",
       "    <tr>\n",
       "      <th>1_330_S34</th>\n",
       "      <td>2.508804</td>\n",
       "      <td>0.881383</td>\n",
       "      <td>48</td>\n",
       "      <td>0.648069</td>\n",
       "    </tr>\n",
       "    <tr>\n",
       "      <th>1_700_S32</th>\n",
       "      <td>2.748359</td>\n",
       "      <td>0.900147</td>\n",
       "      <td>49</td>\n",
       "      <td>0.706189</td>\n",
       "    </tr>\n",
       "    <tr>\n",
       "      <th>1_780_S33</th>\n",
       "      <td>2.861173</td>\n",
       "      <td>0.911230</td>\n",
       "      <td>48</td>\n",
       "      <td>0.739092</td>\n",
       "    </tr>\n",
       "    <tr>\n",
       "      <th>1_ZG02_S35</th>\n",
       "      <td>2.963734</td>\n",
       "      <td>0.922663</td>\n",
       "      <td>49</td>\n",
       "      <td>0.761529</td>\n",
       "    </tr>\n",
       "  </tbody>\n",
       "</table></div>"
      ],
      "text/plain": [
       "             shannon   simpson  species  evenness\n",
       "1_130_S31   3.136442  0.944625       49  0.805906\n",
       "1_330_S34   2.508804  0.881383       48  0.648069\n",
       "1_700_S32   2.748359  0.900147       49  0.706189\n",
       "1_780_S33   2.861173  0.911230       48  0.739092\n",
       "1_ZG02_S35  2.963734  0.922663       49  0.761529"
      ]
     },
     "execution_count": 71,
     "metadata": {},
     "output_type": "execute_result"
    }
   ],
   "source": [
    "biodiversity.head()"
   ]
  },
  {
   "attachments": {},
   "cell_type": "markdown",
   "metadata": {},
   "source": [
    "## Functional richness"
   ]
  },
  {
   "cell_type": "code",
   "execution_count": 72,
   "metadata": {},
   "outputs": [],
   "source": [
    "# Load the annotation data\n",
    "data_func_annot = pd.read_csv('../../data/annotation/functional_eggnog/functional_annotation.emapper.annotations', sep = '\\t', engine = 'pyarrow')\n",
    "\n",
    "# Fix transcript names in the first column so that they equal the transcript identifiers in the count files\n",
    "# This is necessary because TransDecoder adds .p2 or .p1 to the sequence identifiers\n",
    "data_func_annot.iloc[:, 0] = data_func_annot.iloc[:, 0].str.split(\".\", expand=True).drop(columns=1)"
   ]
  },
  {
   "attachments": {},
   "cell_type": "markdown",
   "metadata": {},
   "source": [
    "Let's first check how good the annotations are. We should only retain the annotation hits with the lowest e-value. "
   ]
  },
  {
   "cell_type": "code",
   "execution_count": 73,
   "metadata": {},
   "outputs": [
    {
     "name": "stdout",
     "output_type": "stream",
     "text": [
      "number of rows in eggNOG annotation: 2235576\n",
      "number of unique query sequences in eggNOG annotation: 2235576\n"
     ]
    }
   ],
   "source": [
    "print(f'number of rows in eggNOG annotation: {len(data_func_annot)}')\n",
    "print(f'number of unique query sequences in eggNOG annotation: {len(data_func_annot.iloc[:, 0].unique())}')"
   ]
  },
  {
   "cell_type": "code",
   "execution_count": 74,
   "metadata": {},
   "outputs": [],
   "source": [
    "# From the functional data, only retain the rows with the lowest e-values for a given query sequence\n",
    "data_func_annot = data_func_annot.sort_values(by=['#query', 'evalue'], ascending=True).drop_duplicates(subset=['#query'], keep='first')"
   ]
  },
  {
   "cell_type": "code",
   "execution_count": 75,
   "metadata": {},
   "outputs": [],
   "source": [
    "# Combine the functional annotation with the count data\n",
    "data_func_annot = data_func_annot.merge(counts, left_on='#query', right_on='transcript_id', how='left')"
   ]
  },
  {
   "cell_type": "code",
   "execution_count": 76,
   "metadata": {},
   "outputs": [
    {
     "data": {
      "text/plain": [
       "Index(['#query', 'seed_ortholog', 'evalue', 'score', 'eggNOG_OGs',\n",
       "       'max_annot_lvl', 'COG_category', 'Description', 'Preferred_name', 'GOs',\n",
       "       'EC', 'KEGG_ko', 'KEGG_Pathway', 'KEGG_Module', 'KEGG_Reaction',\n",
       "       'KEGG_rclass', 'BRITE', 'KEGG_TC', 'CAZy', 'BiGG_Reaction', 'PFAMs',\n",
       "       'transcript_id', 'sample', 'TPM'],\n",
       "      dtype='object')"
      ]
     },
     "execution_count": 76,
     "metadata": {},
     "output_type": "execute_result"
    }
   ],
   "source": [
    "data_func_annot.columns"
   ]
  },
  {
   "cell_type": "code",
   "execution_count": 77,
   "metadata": {},
   "outputs": [],
   "source": [
    "func_info = 'KEGG_ko'\n",
    "aggregation_level = 'sample'\n",
    "\n",
    "data_func = data_func_annot[[aggregation_level, func_info, 'TPM']]\n",
    "\n",
    "# If TPM column is below 1, set it to 0 (Lower limit of detection)\n",
    "data_func.loc[data_func['TPM'] < 1, 'TPM'] = 0\n",
    "\n",
    "# Remove rows with low TPM counts\n",
    "data_func = data_func[data_func['TPM'] > 1]"
   ]
  },
  {
   "cell_type": "code",
   "execution_count": 54,
   "metadata": {},
   "outputs": [
    {
     "data": {
      "text/html": [
       "<div><div id=a810c256-4b0d-48d2-9d75-7ee5de3842c3 style=\"display:none; background-color:#9D6CFF; color:white; width:200px; height:30px; padding-left:5px; border-radius:4px; flex-direction:row; justify-content:space-around; align-items:center;\" onmouseover=\"this.style.backgroundColor='#BA9BF8'\" onmouseout=\"this.style.backgroundColor='#9D6CFF'\" onclick=\"window.commands?.execute('create-mitosheet-from-dataframe-output');\">See Full Dataframe in Mito</div> <script> if (window.commands?.hasCommand('create-mitosheet-from-dataframe-output')) document.getElementById('a810c256-4b0d-48d2-9d75-7ee5de3842c3').style.display = 'flex' </script> <table border=\"1\" class=\"dataframe\">\n",
       "  <thead>\n",
       "    <tr style=\"text-align: right;\">\n",
       "      <th></th>\n",
       "      <th>sample</th>\n",
       "      <th>KEGG_ko</th>\n",
       "      <th>TPM</th>\n",
       "    </tr>\n",
       "  </thead>\n",
       "  <tbody>\n",
       "    <tr>\n",
       "      <th>111</th>\n",
       "      <td>E_700_S20</td>\n",
       "      <td>ko:K09488</td>\n",
       "      <td>1.04824</td>\n",
       "    </tr>\n",
       "    <tr>\n",
       "      <th>149</th>\n",
       "      <td>C_120_S18</td>\n",
       "      <td>ko:K01373</td>\n",
       "      <td>1.09695</td>\n",
       "    </tr>\n",
       "    <tr>\n",
       "      <th>253</th>\n",
       "      <td>C_780_S15</td>\n",
       "      <td>-</td>\n",
       "      <td>3.76374</td>\n",
       "    </tr>\n",
       "    <tr>\n",
       "      <th>315</th>\n",
       "      <td>C_780_S15</td>\n",
       "      <td>-</td>\n",
       "      <td>1.10698</td>\n",
       "    </tr>\n",
       "    <tr>\n",
       "      <th>374</th>\n",
       "      <td>A_780_S3</td>\n",
       "      <td>ko:K17086</td>\n",
       "      <td>1.65872</td>\n",
       "    </tr>\n",
       "    <tr>\n",
       "      <th>...</th>\n",
       "      <td>...</td>\n",
       "      <td>...</td>\n",
       "      <td>...</td>\n",
       "    </tr>\n",
       "    <tr>\n",
       "      <th>32756</th>\n",
       "      <td>5_ZG02_S49</td>\n",
       "      <td>ko:K20721</td>\n",
       "      <td>1.88373</td>\n",
       "    </tr>\n",
       "    <tr>\n",
       "      <th>32756</th>\n",
       "      <td>5_ZG02_S49</td>\n",
       "      <td>ko:K20722</td>\n",
       "      <td>1.88373</td>\n",
       "    </tr>\n",
       "    <tr>\n",
       "      <th>32792</th>\n",
       "      <td>F_700_S26</td>\n",
       "      <td>ko:K20721</td>\n",
       "      <td>3.38242</td>\n",
       "    </tr>\n",
       "    <tr>\n",
       "      <th>32792</th>\n",
       "      <td>F_700_S26</td>\n",
       "      <td>ko:K20722</td>\n",
       "      <td>3.38242</td>\n",
       "    </tr>\n",
       "    <tr>\n",
       "      <th>32806</th>\n",
       "      <td>2_120_S40</td>\n",
       "      <td>-</td>\n",
       "      <td>2.46769</td>\n",
       "    </tr>\n",
       "  </tbody>\n",
       "</table></div>"
      ],
      "text/plain": [
       "           sample    KEGG_ko      TPM\n",
       "111     E_700_S20  ko:K09488  1.04824\n",
       "149     C_120_S18  ko:K01373  1.09695\n",
       "253     C_780_S15          -  3.76374\n",
       "315     C_780_S15          -  1.10698\n",
       "374      A_780_S3  ko:K17086  1.65872\n",
       "...           ...        ...      ...\n",
       "32756  5_ZG02_S49  ko:K20721  1.88373\n",
       "32756  5_ZG02_S49  ko:K20722  1.88373\n",
       "32792   F_700_S26  ko:K20721  3.38242\n",
       "32792   F_700_S26  ko:K20722  3.38242\n",
       "32806   2_120_S40          -  2.46769\n",
       "\n",
       "[1250 rows x 3 columns]"
      ]
     },
     "execution_count": 54,
     "metadata": {},
     "output_type": "execute_result"
    }
   ],
   "source": [
    "# Test what to do if columns contain multiple functional values\n",
    "## First make a list of the values, split on ,\n",
    "## Explode list\n",
    "data_func[0:1000].assign(**{func_info:data_func[func_info].str.split(',')}).explode(func_info)"
   ]
  },
  {
   "cell_type": "code",
   "execution_count": 78,
   "metadata": {},
   "outputs": [],
   "source": [
    "# Comment or uncomment the following line if multiple values are assigned to a transcript!\n",
    "## split them up\n",
    "data_func = data_func.assign(**{func_info:data_func[func_info].str.split(',')})\n",
    "# Now we can explode the functional column\n",
    "data_func = data_func.explode(func_info)\n",
    "\n",
    "# If looking at KEGG pathways, only retain rows that have values that contain 'map'\n",
    "#data_func = data_func[data_func[func_info].str.contains('map')]\n",
    "\n",
    "# For KEGG KO identifiers, remove the 'ko:' prefix\n",
    "data_func[func_info] = data_func[func_info].str.replace('ko:', '')\n",
    "\n",
    "# Remove the rows with no functional annotation\n",
    "data_func = data_func[data_func[func_info].notna()]\n",
    "data_func = data_func[data_func[func_info] != '-']\n",
    "\n",
    "# Group by taxonomic information and sample values, sum TPM\n",
    "data_func = data_func.groupby([func_info, aggregation_level]).sum().reset_index()\n",
    "\n",
    "# Reshape the data in a wide format\n",
    "data_func = data_func.pivot(index=func_info, columns=aggregation_level, values='TPM')"
   ]
  },
  {
   "cell_type": "code",
   "execution_count": 79,
   "metadata": {},
   "outputs": [
    {
     "name": "stdout",
     "output_type": "stream",
     "text": [
      "12046\n"
     ]
    },
    {
     "data": {
      "text/html": [
       "<div><div id=8aea39e2-a86a-402a-8f1d-e88700a82352 style=\"display:none; background-color:#9D6CFF; color:white; width:200px; height:30px; padding-left:5px; border-radius:4px; flex-direction:row; justify-content:space-around; align-items:center;\" onmouseover=\"this.style.backgroundColor='#BA9BF8'\" onmouseout=\"this.style.backgroundColor='#9D6CFF'\" onclick=\"window.commands?.execute('create-mitosheet-from-dataframe-output');\">See Full Dataframe in Mito</div> <script> if (window.commands?.hasCommand('create-mitosheet-from-dataframe-output')) document.getElementById('8aea39e2-a86a-402a-8f1d-e88700a82352').style.display = 'flex' </script> <table border=\"1\" class=\"dataframe\">\n",
       "  <thead>\n",
       "    <tr style=\"text-align: right;\">\n",
       "      <th>sample</th>\n",
       "      <th>1_130_S31</th>\n",
       "      <th>1_330_S34</th>\n",
       "      <th>1_700_S32</th>\n",
       "      <th>1_780_S33</th>\n",
       "      <th>1_ZG02_S35</th>\n",
       "      <th>2_120_S40</th>\n",
       "      <th>2_130_S36</th>\n",
       "      <th>2_330_S39</th>\n",
       "      <th>2_700_S37</th>\n",
       "      <th>2_780_S38</th>\n",
       "      <th>...</th>\n",
       "      <th>E_330_S22</th>\n",
       "      <th>E_700_S20</th>\n",
       "      <th>E_780_S21</th>\n",
       "      <th>E_ZG02_S24</th>\n",
       "      <th>F_120_S29</th>\n",
       "      <th>F_130_S25</th>\n",
       "      <th>F_330_S28</th>\n",
       "      <th>F_700_S26</th>\n",
       "      <th>F_780_S27</th>\n",
       "      <th>F_ZG02_S30</th>\n",
       "    </tr>\n",
       "    <tr>\n",
       "      <th>KEGG_ko</th>\n",
       "      <th></th>\n",
       "      <th></th>\n",
       "      <th></th>\n",
       "      <th></th>\n",
       "      <th></th>\n",
       "      <th></th>\n",
       "      <th></th>\n",
       "      <th></th>\n",
       "      <th></th>\n",
       "      <th></th>\n",
       "      <th></th>\n",
       "      <th></th>\n",
       "      <th></th>\n",
       "      <th></th>\n",
       "      <th></th>\n",
       "      <th></th>\n",
       "      <th></th>\n",
       "      <th></th>\n",
       "      <th></th>\n",
       "      <th></th>\n",
       "      <th></th>\n",
       "    </tr>\n",
       "  </thead>\n",
       "  <tbody>\n",
       "    <tr>\n",
       "      <th>K00001</th>\n",
       "      <td>3.14142</td>\n",
       "      <td>2.69071</td>\n",
       "      <td>2.37359</td>\n",
       "      <td>4.85430</td>\n",
       "      <td>4.58465</td>\n",
       "      <td>4.73660</td>\n",
       "      <td>13.29097</td>\n",
       "      <td>3.77798</td>\n",
       "      <td>NaN</td>\n",
       "      <td>2.26283</td>\n",
       "      <td>...</td>\n",
       "      <td>2.40210</td>\n",
       "      <td>6.05735</td>\n",
       "      <td>9.06673</td>\n",
       "      <td>5.54520</td>\n",
       "      <td>NaN</td>\n",
       "      <td>1.09709</td>\n",
       "      <td>5.87718</td>\n",
       "      <td>4.83932</td>\n",
       "      <td>1.14953</td>\n",
       "      <td>3.65235</td>\n",
       "    </tr>\n",
       "    <tr>\n",
       "      <th>K00002</th>\n",
       "      <td>23.32774</td>\n",
       "      <td>50.19771</td>\n",
       "      <td>2.22837</td>\n",
       "      <td>18.00905</td>\n",
       "      <td>18.86758</td>\n",
       "      <td>20.33044</td>\n",
       "      <td>31.39383</td>\n",
       "      <td>9.51205</td>\n",
       "      <td>7.33712</td>\n",
       "      <td>13.73468</td>\n",
       "      <td>...</td>\n",
       "      <td>24.47865</td>\n",
       "      <td>41.70916</td>\n",
       "      <td>65.35931</td>\n",
       "      <td>19.58537</td>\n",
       "      <td>1.13544</td>\n",
       "      <td>12.91073</td>\n",
       "      <td>25.15855</td>\n",
       "      <td>41.01559</td>\n",
       "      <td>12.11758</td>\n",
       "      <td>12.65185</td>\n",
       "    </tr>\n",
       "    <tr>\n",
       "      <th>K00003</th>\n",
       "      <td>NaN</td>\n",
       "      <td>NaN</td>\n",
       "      <td>NaN</td>\n",
       "      <td>1.81630</td>\n",
       "      <td>NaN</td>\n",
       "      <td>14.43270</td>\n",
       "      <td>10.33095</td>\n",
       "      <td>15.56866</td>\n",
       "      <td>1.16391</td>\n",
       "      <td>6.12624</td>\n",
       "      <td>...</td>\n",
       "      <td>3.88841</td>\n",
       "      <td>1.80498</td>\n",
       "      <td>4.50182</td>\n",
       "      <td>4.19860</td>\n",
       "      <td>6.69210</td>\n",
       "      <td>6.71329</td>\n",
       "      <td>2.82139</td>\n",
       "      <td>NaN</td>\n",
       "      <td>15.90375</td>\n",
       "      <td>11.47554</td>\n",
       "    </tr>\n",
       "    <tr>\n",
       "      <th>K00004</th>\n",
       "      <td>NaN</td>\n",
       "      <td>1.71749</td>\n",
       "      <td>NaN</td>\n",
       "      <td>NaN</td>\n",
       "      <td>NaN</td>\n",
       "      <td>NaN</td>\n",
       "      <td>NaN</td>\n",
       "      <td>NaN</td>\n",
       "      <td>NaN</td>\n",
       "      <td>NaN</td>\n",
       "      <td>...</td>\n",
       "      <td>NaN</td>\n",
       "      <td>NaN</td>\n",
       "      <td>2.16328</td>\n",
       "      <td>NaN</td>\n",
       "      <td>NaN</td>\n",
       "      <td>NaN</td>\n",
       "      <td>NaN</td>\n",
       "      <td>NaN</td>\n",
       "      <td>NaN</td>\n",
       "      <td>NaN</td>\n",
       "    </tr>\n",
       "    <tr>\n",
       "      <th>K00005</th>\n",
       "      <td>NaN</td>\n",
       "      <td>NaN</td>\n",
       "      <td>NaN</td>\n",
       "      <td>NaN</td>\n",
       "      <td>NaN</td>\n",
       "      <td>NaN</td>\n",
       "      <td>NaN</td>\n",
       "      <td>NaN</td>\n",
       "      <td>NaN</td>\n",
       "      <td>2.81425</td>\n",
       "      <td>...</td>\n",
       "      <td>NaN</td>\n",
       "      <td>1.39429</td>\n",
       "      <td>NaN</td>\n",
       "      <td>2.07199</td>\n",
       "      <td>1.15536</td>\n",
       "      <td>NaN</td>\n",
       "      <td>4.70602</td>\n",
       "      <td>1.19430</td>\n",
       "      <td>NaN</td>\n",
       "      <td>1.67393</td>\n",
       "    </tr>\n",
       "  </tbody>\n",
       "</table></div>"
      ],
      "text/plain": [
       "sample   1_130_S31  1_330_S34  1_700_S32  1_780_S33  1_ZG02_S35  2_120_S40  \\\n",
       "KEGG_ko                                                                      \n",
       "K00001     3.14142    2.69071    2.37359    4.85430     4.58465    4.73660   \n",
       "K00002    23.32774   50.19771    2.22837   18.00905    18.86758   20.33044   \n",
       "K00003         NaN        NaN        NaN    1.81630         NaN   14.43270   \n",
       "K00004         NaN    1.71749        NaN        NaN         NaN        NaN   \n",
       "K00005         NaN        NaN        NaN        NaN         NaN        NaN   \n",
       "\n",
       "sample   2_130_S36  2_330_S39  2_700_S37  2_780_S38  ...  E_330_S22  \\\n",
       "KEGG_ko                                              ...              \n",
       "K00001    13.29097    3.77798        NaN    2.26283  ...    2.40210   \n",
       "K00002    31.39383    9.51205    7.33712   13.73468  ...   24.47865   \n",
       "K00003    10.33095   15.56866    1.16391    6.12624  ...    3.88841   \n",
       "K00004         NaN        NaN        NaN        NaN  ...        NaN   \n",
       "K00005         NaN        NaN        NaN    2.81425  ...        NaN   \n",
       "\n",
       "sample   E_700_S20  E_780_S21  E_ZG02_S24  F_120_S29  F_130_S25  F_330_S28  \\\n",
       "KEGG_ko                                                                      \n",
       "K00001     6.05735    9.06673     5.54520        NaN    1.09709    5.87718   \n",
       "K00002    41.70916   65.35931    19.58537    1.13544   12.91073   25.15855   \n",
       "K00003     1.80498    4.50182     4.19860    6.69210    6.71329    2.82139   \n",
       "K00004         NaN    2.16328         NaN        NaN        NaN        NaN   \n",
       "K00005     1.39429        NaN     2.07199    1.15536        NaN    4.70602   \n",
       "\n",
       "sample   F_700_S26  F_780_S27  F_ZG02_S30  \n",
       "KEGG_ko                                    \n",
       "K00001     4.83932    1.14953     3.65235  \n",
       "K00002    41.01559   12.11758    12.65185  \n",
       "K00003         NaN   15.90375    11.47554  \n",
       "K00004         NaN        NaN         NaN  \n",
       "K00005     1.19430        NaN     1.67393  \n",
       "\n",
       "[5 rows x 62 columns]"
      ]
     },
     "execution_count": 79,
     "metadata": {},
     "output_type": "execute_result"
    }
   ],
   "source": [
    "print(len(data_func))\n",
    "data_func.head()"
   ]
  },
  {
   "cell_type": "code",
   "execution_count": 80,
   "metadata": {},
   "outputs": [
    {
     "data": {
      "text/plain": [
       "count     12046.000000\n",
       "mean       1001.675122\n",
       "std        5579.358206\n",
       "min           1.001150\n",
       "25%          17.916725\n",
       "50%         100.190735\n",
       "75%         391.511860\n",
       "max      222666.622210\n",
       "dtype: float64"
      ]
     },
     "execution_count": 80,
     "metadata": {},
     "output_type": "execute_result"
    }
   ],
   "source": [
    "# Check the distribution of KO counts\n",
    "data_func.sum(axis=1).describe()"
   ]
  },
  {
   "cell_type": "code",
   "execution_count": 81,
   "metadata": {},
   "outputs": [],
   "source": [
    "# Set NaN values to 0\n",
    "data_func = data_func.fillna(0)\n",
    "\n",
    "# Calculate presence/absence data for the functional annotation per sample\n",
    "# Create a presence/absence matrix, 1 if the transcript is present, 0 if not\n",
    "functional_diversity = data_func.copy()\n",
    "\n",
    "functional_diversity[functional_diversity < 1] = 0\n",
    "functional_diversity[functional_diversity >= 1] = 1\n",
    "\n",
    "functional_richness =  functional_diversity.sum(axis=0).reset_index()\n",
    "\n",
    "functional_richness.columns = ['sample', func_info]\n",
    "functional_richness.set_index('sample', inplace=True)"
   ]
  },
  {
   "cell_type": "code",
   "execution_count": 82,
   "metadata": {},
   "outputs": [],
   "source": [
    "# Save the data\n",
    "data_func.to_csv(f'../../data/analysis/{func_info}_{aggregation_level}_TPM_sum.csv')\n",
    "functional_richness.to_csv(f'../../data/analysis/{func_info}_{aggregation_level}_presence_count.csv')"
   ]
  },
  {
   "cell_type": "code",
   "execution_count": 83,
   "metadata": {},
   "outputs": [
    {
     "data": {
      "text/html": [
       "<div><div id=b1bca13b-647b-48a0-aed3-1fdba4f916e7 style=\"display:none; background-color:#9D6CFF; color:white; width:200px; height:30px; padding-left:5px; border-radius:4px; flex-direction:row; justify-content:space-around; align-items:center;\" onmouseover=\"this.style.backgroundColor='#BA9BF8'\" onmouseout=\"this.style.backgroundColor='#9D6CFF'\" onclick=\"window.commands?.execute('create-mitosheet-from-dataframe-output');\">See Full Dataframe in Mito</div> <script> if (window.commands?.hasCommand('create-mitosheet-from-dataframe-output')) document.getElementById('b1bca13b-647b-48a0-aed3-1fdba4f916e7').style.display = 'flex' </script> <table border=\"1\" class=\"dataframe\">\n",
       "  <thead>\n",
       "    <tr style=\"text-align: right;\">\n",
       "      <th></th>\n",
       "      <th>KEGG_ko</th>\n",
       "    </tr>\n",
       "    <tr>\n",
       "      <th>sample</th>\n",
       "      <th></th>\n",
       "    </tr>\n",
       "  </thead>\n",
       "  <tbody>\n",
       "    <tr>\n",
       "      <th>1_130_S31</th>\n",
       "      <td>6328.0</td>\n",
       "    </tr>\n",
       "    <tr>\n",
       "      <th>1_330_S34</th>\n",
       "      <td>6805.0</td>\n",
       "    </tr>\n",
       "    <tr>\n",
       "      <th>1_700_S32</th>\n",
       "      <td>3644.0</td>\n",
       "    </tr>\n",
       "    <tr>\n",
       "      <th>1_780_S33</th>\n",
       "      <td>5499.0</td>\n",
       "    </tr>\n",
       "    <tr>\n",
       "      <th>1_ZG02_S35</th>\n",
       "      <td>6125.0</td>\n",
       "    </tr>\n",
       "  </tbody>\n",
       "</table></div>"
      ],
      "text/plain": [
       "            KEGG_ko\n",
       "sample             \n",
       "1_130_S31    6328.0\n",
       "1_330_S34    6805.0\n",
       "1_700_S32    3644.0\n",
       "1_780_S33    5499.0\n",
       "1_ZG02_S35   6125.0"
      ]
     },
     "execution_count": 83,
     "metadata": {},
     "output_type": "execute_result"
    }
   ],
   "source": [
    "functional_richness.head()"
   ]
  },
  {
   "attachments": {},
   "cell_type": "markdown",
   "metadata": {},
   "source": [
    "## Correlation between taxonomy, biomass, and functional richness"
   ]
  },
  {
   "attachments": {},
   "cell_type": "markdown",
   "metadata": {},
   "source": [
    "In this part we'll explore the relationship between biodiversity and functional diversity!"
   ]
  },
  {
   "cell_type": "code",
   "execution_count": 101,
   "metadata": {},
   "outputs": [],
   "source": [
    "# Merge the taxonomic and functional diversity data\n",
    "plot_data = biodiversity.merge(functional_richness, left_index=True, right_index=True)\n",
    "\n",
    "# Add the sample metadata\n",
    "meta = pd.read_csv('../../samples.csv', sep=';', index_col=0)\n",
    "plot_data = plot_data.merge(meta, left_index=True, right_index=True)\n",
    "\n",
    "# Add the taxonomic bin abundance data\n",
    "taxonomic_bin_abundance = data[data > 100].count(axis=0).reset_index()\n",
    "taxonomic_bin_abundance.columns = ['sample', 'num_species']\n",
    "plot_data = plot_data.merge(taxonomic_bin_abundance, left_index=True, right_on='sample')\n",
    "\n",
    "# Change the taxonomic bin column name\n",
    "plot_data = plot_data.rename(columns={'num_species':'taxonomic_bins'})\n",
    "\n",
    "# Add the flowcam cell counts, but keep the index\n",
    "flowcam_counts = pd.read_csv('../../data/flowcam/flowcam_average_cells_per_sample.csv')\n",
    "plot_data = plot_data.merge(flowcam_counts, left_on=['month', 'station'], right_on=['month', 'station'], how='left').set_index(plot_data.index)"
   ]
  },
  {
   "cell_type": "code",
   "execution_count": 102,
   "metadata": {},
   "outputs": [],
   "source": [
    "# Or if you already had plot_data and want to add another functional richness parameter\n",
    "# plot_data = plot_data.merge(functional_richness, left_index=True, right_index=True)"
   ]
  },
  {
   "cell_type": "code",
   "execution_count": 103,
   "metadata": {},
   "outputs": [
    {
     "data": {
      "text/html": [
       "<div><div id=44507cae-a604-4cf4-a89c-cd6046b0067c style=\"display:none; background-color:#9D6CFF; color:white; width:200px; height:30px; padding-left:5px; border-radius:4px; flex-direction:row; justify-content:space-around; align-items:center;\" onmouseover=\"this.style.backgroundColor='#BA9BF8'\" onmouseout=\"this.style.backgroundColor='#9D6CFF'\" onclick=\"window.commands?.execute('create-mitosheet-from-dataframe-output');\">See Full Dataframe in Mito</div> <script> if (window.commands?.hasCommand('create-mitosheet-from-dataframe-output')) document.getElementById('44507cae-a604-4cf4-a89c-cd6046b0067c').style.display = 'flex' </script> <table border=\"1\" class=\"dataframe\">\n",
       "  <thead>\n",
       "    <tr style=\"text-align: right;\">\n",
       "      <th></th>\n",
       "      <th>shannon</th>\n",
       "      <th>simpson</th>\n",
       "      <th>species</th>\n",
       "      <th>evenness</th>\n",
       "      <th>KEGG_ko</th>\n",
       "      <th>date</th>\n",
       "      <th>time</th>\n",
       "      <th>month</th>\n",
       "      <th>station</th>\n",
       "      <th>sample</th>\n",
       "      <th>taxonomic_bins</th>\n",
       "      <th>average_cells_L</th>\n",
       "    </tr>\n",
       "  </thead>\n",
       "  <tbody>\n",
       "    <tr>\n",
       "      <th>0</th>\n",
       "      <td>3.136442</td>\n",
       "      <td>0.944625</td>\n",
       "      <td>49</td>\n",
       "      <td>0.805906</td>\n",
       "      <td>6328.0</td>\n",
       "      <td>18/01/2021</td>\n",
       "      <td>9:05</td>\n",
       "      <td>January_2021</td>\n",
       "      <td>130</td>\n",
       "      <td>1_130_S31</td>\n",
       "      <td>19</td>\n",
       "      <td>14.956719</td>\n",
       "    </tr>\n",
       "    <tr>\n",
       "      <th>1</th>\n",
       "      <td>2.508804</td>\n",
       "      <td>0.881383</td>\n",
       "      <td>48</td>\n",
       "      <td>0.648069</td>\n",
       "      <td>6805.0</td>\n",
       "      <td>18/01/2021</td>\n",
       "      <td>14:05</td>\n",
       "      <td>January_2021</td>\n",
       "      <td>330</td>\n",
       "      <td>1_330_S34</td>\n",
       "      <td>16</td>\n",
       "      <td>8.156772</td>\n",
       "    </tr>\n",
       "    <tr>\n",
       "      <th>2</th>\n",
       "      <td>2.748359</td>\n",
       "      <td>0.900147</td>\n",
       "      <td>49</td>\n",
       "      <td>0.706189</td>\n",
       "      <td>3644.0</td>\n",
       "      <td>18/01/2021</td>\n",
       "      <td>11:45</td>\n",
       "      <td>January_2021</td>\n",
       "      <td>700</td>\n",
       "      <td>1_700_S32</td>\n",
       "      <td>7</td>\n",
       "      <td>380.361039</td>\n",
       "    </tr>\n",
       "    <tr>\n",
       "      <th>3</th>\n",
       "      <td>2.861173</td>\n",
       "      <td>0.911230</td>\n",
       "      <td>48</td>\n",
       "      <td>0.739092</td>\n",
       "      <td>5499.0</td>\n",
       "      <td>18/01/2021</td>\n",
       "      <td>13:00</td>\n",
       "      <td>January_2021</td>\n",
       "      <td>780</td>\n",
       "      <td>1_780_S33</td>\n",
       "      <td>15</td>\n",
       "      <td>37.984239</td>\n",
       "    </tr>\n",
       "    <tr>\n",
       "      <th>4</th>\n",
       "      <td>2.963734</td>\n",
       "      <td>0.922663</td>\n",
       "      <td>49</td>\n",
       "      <td>0.761529</td>\n",
       "      <td>6125.0</td>\n",
       "      <td>18/01/2021</td>\n",
       "      <td>15:35</td>\n",
       "      <td>January_2021</td>\n",
       "      <td>ZG02</td>\n",
       "      <td>1_ZG02_S35</td>\n",
       "      <td>17</td>\n",
       "      <td>12.049578</td>\n",
       "    </tr>\n",
       "  </tbody>\n",
       "</table></div>"
      ],
      "text/plain": [
       "    shannon   simpson  species  evenness  KEGG_ko        date   time  \\\n",
       "0  3.136442  0.944625       49  0.805906   6328.0  18/01/2021   9:05   \n",
       "1  2.508804  0.881383       48  0.648069   6805.0  18/01/2021  14:05   \n",
       "2  2.748359  0.900147       49  0.706189   3644.0  18/01/2021  11:45   \n",
       "3  2.861173  0.911230       48  0.739092   5499.0  18/01/2021  13:00   \n",
       "4  2.963734  0.922663       49  0.761529   6125.0  18/01/2021  15:35   \n",
       "\n",
       "          month station      sample  taxonomic_bins  average_cells_L  \n",
       "0  January_2021     130   1_130_S31              19        14.956719  \n",
       "1  January_2021     330   1_330_S34              16         8.156772  \n",
       "2  January_2021     700   1_700_S32               7       380.361039  \n",
       "3  January_2021     780   1_780_S33              15        37.984239  \n",
       "4  January_2021    ZG02  1_ZG02_S35              17        12.049578  "
      ]
     },
     "execution_count": 103,
     "metadata": {},
     "output_type": "execute_result"
    }
   ],
   "source": [
    "plot_data.head()"
   ]
  },
  {
   "cell_type": "code",
   "execution_count": 104,
   "metadata": {},
   "outputs": [
    {
     "data": {
      "text/html": [
       "<div><div id=ef443b46-dd36-44da-9c04-7f2ef8643f12 style=\"display:none; background-color:#9D6CFF; color:white; width:200px; height:30px; padding-left:5px; border-radius:4px; flex-direction:row; justify-content:space-around; align-items:center;\" onmouseover=\"this.style.backgroundColor='#BA9BF8'\" onmouseout=\"this.style.backgroundColor='#9D6CFF'\" onclick=\"window.commands?.execute('create-mitosheet-from-dataframe-output');\">See Full Dataframe in Mito</div> <script> if (window.commands?.hasCommand('create-mitosheet-from-dataframe-output')) document.getElementById('ef443b46-dd36-44da-9c04-7f2ef8643f12').style.display = 'flex' </script> <table border=\"1\" class=\"dataframe\">\n",
       "  <thead>\n",
       "    <tr style=\"text-align: right;\">\n",
       "      <th></th>\n",
       "      <th>shannon</th>\n",
       "      <th>simpson</th>\n",
       "      <th>species</th>\n",
       "      <th>evenness</th>\n",
       "      <th>KEGG_ko</th>\n",
       "      <th>date</th>\n",
       "      <th>time</th>\n",
       "      <th>month</th>\n",
       "      <th>station</th>\n",
       "      <th>sample</th>\n",
       "      <th>taxonomic_bins</th>\n",
       "      <th>average_cells_L</th>\n",
       "    </tr>\n",
       "  </thead>\n",
       "  <tbody>\n",
       "    <tr>\n",
       "      <th>26</th>\n",
       "      <td>2.343964</td>\n",
       "      <td>0.820394</td>\n",
       "      <td>46</td>\n",
       "      <td>0.612218</td>\n",
       "      <td>5285.0</td>\n",
       "      <td>27/07/2021</td>\n",
       "      <td>12:45</td>\n",
       "      <td>July_2021</td>\n",
       "      <td>120</td>\n",
       "      <td>7_120_S61</td>\n",
       "      <td>19</td>\n",
       "      <td>NaN</td>\n",
       "    </tr>\n",
       "    <tr>\n",
       "      <th>34</th>\n",
       "      <td>2.718434</td>\n",
       "      <td>0.893658</td>\n",
       "      <td>41</td>\n",
       "      <td>0.732027</td>\n",
       "      <td>4672.0</td>\n",
       "      <td>22/07/2020</td>\n",
       "      <td>11:10</td>\n",
       "      <td>July_2020</td>\n",
       "      <td>330</td>\n",
       "      <td>A_330_S2</td>\n",
       "      <td>5</td>\n",
       "      <td>NaN</td>\n",
       "    </tr>\n",
       "    <tr>\n",
       "      <th>37</th>\n",
       "      <td>2.243495</td>\n",
       "      <td>0.788535</td>\n",
       "      <td>45</td>\n",
       "      <td>0.589360</td>\n",
       "      <td>5173.0</td>\n",
       "      <td>23/07/2020</td>\n",
       "      <td>13:50</td>\n",
       "      <td>July_2020</td>\n",
       "      <td>ZG02</td>\n",
       "      <td>A_ZGO2_S6</td>\n",
       "      <td>8</td>\n",
       "      <td>NaN</td>\n",
       "    </tr>\n",
       "    <tr>\n",
       "      <th>51</th>\n",
       "      <td>2.929743</td>\n",
       "      <td>0.915457</td>\n",
       "      <td>44</td>\n",
       "      <td>0.774206</td>\n",
       "      <td>6217.0</td>\n",
       "      <td>26/11/2020</td>\n",
       "      <td>9:05</td>\n",
       "      <td>November_2020</td>\n",
       "      <td>130</td>\n",
       "      <td>E_130_S19</td>\n",
       "      <td>23</td>\n",
       "      <td>NaN</td>\n",
       "    </tr>\n",
       "    <tr>\n",
       "      <th>53</th>\n",
       "      <td>3.007742</td>\n",
       "      <td>0.928508</td>\n",
       "      <td>47</td>\n",
       "      <td>0.781202</td>\n",
       "      <td>6383.0</td>\n",
       "      <td>26/11/2020</td>\n",
       "      <td>11:00</td>\n",
       "      <td>November_2020</td>\n",
       "      <td>700</td>\n",
       "      <td>E_700_S20</td>\n",
       "      <td>17</td>\n",
       "      <td>NaN</td>\n",
       "    </tr>\n",
       "  </tbody>\n",
       "</table></div>"
      ],
      "text/plain": [
       "     shannon   simpson  species  evenness  KEGG_ko        date   time  \\\n",
       "26  2.343964  0.820394       46  0.612218   5285.0  27/07/2021  12:45   \n",
       "34  2.718434  0.893658       41  0.732027   4672.0  22/07/2020  11:10   \n",
       "37  2.243495  0.788535       45  0.589360   5173.0  23/07/2020  13:50   \n",
       "51  2.929743  0.915457       44  0.774206   6217.0  26/11/2020   9:05   \n",
       "53  3.007742  0.928508       47  0.781202   6383.0  26/11/2020  11:00   \n",
       "\n",
       "            month station     sample  taxonomic_bins  average_cells_L  \n",
       "26      July_2021     120  7_120_S61              19              NaN  \n",
       "34      July_2020     330   A_330_S2               5              NaN  \n",
       "37      July_2020    ZG02  A_ZGO2_S6               8              NaN  \n",
       "51  November_2020     130  E_130_S19              23              NaN  \n",
       "53  November_2020     700  E_700_S20              17              NaN  "
      ]
     },
     "execution_count": 104,
     "metadata": {},
     "output_type": "execute_result"
    }
   ],
   "source": [
    "plot_data[plot_data['average_cells_L'].isna()]"
   ]
  },
  {
   "cell_type": "code",
   "execution_count": 105,
   "metadata": {},
   "outputs": [
    {
     "data": {
      "application/vnd.plotly.v1+json": {
       "config": {
        "plotlyServerURL": "https://plot.ly"
       },
       "data": [
        {
         "alignmentgroup": "True",
         "hovertemplate": "month=%{x}<br>taxonomic_bins=%{y}<extra></extra>",
         "legendgroup": "",
         "marker": {
          "color": "#636efa"
         },
         "name": "",
         "notched": false,
         "offsetgroup": "",
         "orientation": "v",
         "showlegend": false,
         "type": "box",
         "x": [
          "January_2021",
          "January_2021",
          "January_2021",
          "January_2021",
          "January_2021",
          "February_2021",
          "February_2021",
          "February_2021",
          "February_2021",
          "February_2021",
          "April_2021",
          "April_2021",
          "April_2021",
          "April_2021",
          "May_2021",
          "May_2021",
          "May_2021",
          "May_2021",
          "May_2021",
          "May_2021",
          "June_2021",
          "June_2021",
          "June_2021",
          "June_2021",
          "June_2021",
          "June_2021",
          "July_2021",
          "July_2021",
          "July_2021",
          "July_2021",
          "July_2021",
          "July_2021",
          "July_2020",
          "July_2020",
          "July_2020",
          "July_2020",
          "July_2020",
          "July_2020",
          "August_2020",
          "August_2020",
          "August_2020",
          "August_2020",
          "August_2020",
          "August_2020",
          "September_2020",
          "September_2020",
          "September_2020",
          "September_2020",
          "September_2020",
          "September_2020",
          "November_2020",
          "November_2020",
          "November_2020",
          "November_2020",
          "November_2020",
          "November_2020",
          "December_2020",
          "December_2020",
          "December_2020",
          "December_2020",
          "December_2020",
          "December_2020"
         ],
         "x0": " ",
         "xaxis": "x",
         "y": [
          19,
          16,
          7,
          15,
          17,
          21,
          25,
          20,
          14,
          23,
          16,
          9,
          9,
          11,
          6,
          6,
          8,
          13,
          9,
          9,
          10,
          16,
          9,
          11,
          6,
          10,
          19,
          13,
          4,
          24,
          6,
          6,
          12,
          17,
          5,
          4,
          7,
          8,
          11,
          13,
          13,
          13,
          13,
          14,
          26,
          23,
          23,
          26,
          21,
          23,
          18,
          23,
          22,
          17,
          15,
          20,
          23,
          27,
          23,
          22,
          21,
          21
         ],
         "y0": " ",
         "yaxis": "y"
        }
       ],
       "layout": {
        "boxmode": "group",
        "legend": {
         "tracegroupgap": 0
        },
        "margin": {
         "t": 60
        },
        "template": {
         "data": {
          "bar": [
           {
            "error_x": {
             "color": "#2a3f5f"
            },
            "error_y": {
             "color": "#2a3f5f"
            },
            "marker": {
             "line": {
              "color": "#E5ECF6",
              "width": 0.5
             },
             "pattern": {
              "fillmode": "overlay",
              "size": 10,
              "solidity": 0.2
             }
            },
            "type": "bar"
           }
          ],
          "barpolar": [
           {
            "marker": {
             "line": {
              "color": "#E5ECF6",
              "width": 0.5
             },
             "pattern": {
              "fillmode": "overlay",
              "size": 10,
              "solidity": 0.2
             }
            },
            "type": "barpolar"
           }
          ],
          "carpet": [
           {
            "aaxis": {
             "endlinecolor": "#2a3f5f",
             "gridcolor": "white",
             "linecolor": "white",
             "minorgridcolor": "white",
             "startlinecolor": "#2a3f5f"
            },
            "baxis": {
             "endlinecolor": "#2a3f5f",
             "gridcolor": "white",
             "linecolor": "white",
             "minorgridcolor": "white",
             "startlinecolor": "#2a3f5f"
            },
            "type": "carpet"
           }
          ],
          "choropleth": [
           {
            "colorbar": {
             "outlinewidth": 0,
             "ticks": ""
            },
            "type": "choropleth"
           }
          ],
          "contour": [
           {
            "colorbar": {
             "outlinewidth": 0,
             "ticks": ""
            },
            "colorscale": [
             [
              0,
              "#0d0887"
             ],
             [
              0.1111111111111111,
              "#46039f"
             ],
             [
              0.2222222222222222,
              "#7201a8"
             ],
             [
              0.3333333333333333,
              "#9c179e"
             ],
             [
              0.4444444444444444,
              "#bd3786"
             ],
             [
              0.5555555555555556,
              "#d8576b"
             ],
             [
              0.6666666666666666,
              "#ed7953"
             ],
             [
              0.7777777777777778,
              "#fb9f3a"
             ],
             [
              0.8888888888888888,
              "#fdca26"
             ],
             [
              1,
              "#f0f921"
             ]
            ],
            "type": "contour"
           }
          ],
          "contourcarpet": [
           {
            "colorbar": {
             "outlinewidth": 0,
             "ticks": ""
            },
            "type": "contourcarpet"
           }
          ],
          "heatmap": [
           {
            "colorbar": {
             "outlinewidth": 0,
             "ticks": ""
            },
            "colorscale": [
             [
              0,
              "#0d0887"
             ],
             [
              0.1111111111111111,
              "#46039f"
             ],
             [
              0.2222222222222222,
              "#7201a8"
             ],
             [
              0.3333333333333333,
              "#9c179e"
             ],
             [
              0.4444444444444444,
              "#bd3786"
             ],
             [
              0.5555555555555556,
              "#d8576b"
             ],
             [
              0.6666666666666666,
              "#ed7953"
             ],
             [
              0.7777777777777778,
              "#fb9f3a"
             ],
             [
              0.8888888888888888,
              "#fdca26"
             ],
             [
              1,
              "#f0f921"
             ]
            ],
            "type": "heatmap"
           }
          ],
          "heatmapgl": [
           {
            "colorbar": {
             "outlinewidth": 0,
             "ticks": ""
            },
            "colorscale": [
             [
              0,
              "#0d0887"
             ],
             [
              0.1111111111111111,
              "#46039f"
             ],
             [
              0.2222222222222222,
              "#7201a8"
             ],
             [
              0.3333333333333333,
              "#9c179e"
             ],
             [
              0.4444444444444444,
              "#bd3786"
             ],
             [
              0.5555555555555556,
              "#d8576b"
             ],
             [
              0.6666666666666666,
              "#ed7953"
             ],
             [
              0.7777777777777778,
              "#fb9f3a"
             ],
             [
              0.8888888888888888,
              "#fdca26"
             ],
             [
              1,
              "#f0f921"
             ]
            ],
            "type": "heatmapgl"
           }
          ],
          "histogram": [
           {
            "marker": {
             "pattern": {
              "fillmode": "overlay",
              "size": 10,
              "solidity": 0.2
             }
            },
            "type": "histogram"
           }
          ],
          "histogram2d": [
           {
            "colorbar": {
             "outlinewidth": 0,
             "ticks": ""
            },
            "colorscale": [
             [
              0,
              "#0d0887"
             ],
             [
              0.1111111111111111,
              "#46039f"
             ],
             [
              0.2222222222222222,
              "#7201a8"
             ],
             [
              0.3333333333333333,
              "#9c179e"
             ],
             [
              0.4444444444444444,
              "#bd3786"
             ],
             [
              0.5555555555555556,
              "#d8576b"
             ],
             [
              0.6666666666666666,
              "#ed7953"
             ],
             [
              0.7777777777777778,
              "#fb9f3a"
             ],
             [
              0.8888888888888888,
              "#fdca26"
             ],
             [
              1,
              "#f0f921"
             ]
            ],
            "type": "histogram2d"
           }
          ],
          "histogram2dcontour": [
           {
            "colorbar": {
             "outlinewidth": 0,
             "ticks": ""
            },
            "colorscale": [
             [
              0,
              "#0d0887"
             ],
             [
              0.1111111111111111,
              "#46039f"
             ],
             [
              0.2222222222222222,
              "#7201a8"
             ],
             [
              0.3333333333333333,
              "#9c179e"
             ],
             [
              0.4444444444444444,
              "#bd3786"
             ],
             [
              0.5555555555555556,
              "#d8576b"
             ],
             [
              0.6666666666666666,
              "#ed7953"
             ],
             [
              0.7777777777777778,
              "#fb9f3a"
             ],
             [
              0.8888888888888888,
              "#fdca26"
             ],
             [
              1,
              "#f0f921"
             ]
            ],
            "type": "histogram2dcontour"
           }
          ],
          "mesh3d": [
           {
            "colorbar": {
             "outlinewidth": 0,
             "ticks": ""
            },
            "type": "mesh3d"
           }
          ],
          "parcoords": [
           {
            "line": {
             "colorbar": {
              "outlinewidth": 0,
              "ticks": ""
             }
            },
            "type": "parcoords"
           }
          ],
          "pie": [
           {
            "automargin": true,
            "type": "pie"
           }
          ],
          "scatter": [
           {
            "marker": {
             "colorbar": {
              "outlinewidth": 0,
              "ticks": ""
             }
            },
            "type": "scatter"
           }
          ],
          "scatter3d": [
           {
            "line": {
             "colorbar": {
              "outlinewidth": 0,
              "ticks": ""
             }
            },
            "marker": {
             "colorbar": {
              "outlinewidth": 0,
              "ticks": ""
             }
            },
            "type": "scatter3d"
           }
          ],
          "scattercarpet": [
           {
            "marker": {
             "colorbar": {
              "outlinewidth": 0,
              "ticks": ""
             }
            },
            "type": "scattercarpet"
           }
          ],
          "scattergeo": [
           {
            "marker": {
             "colorbar": {
              "outlinewidth": 0,
              "ticks": ""
             }
            },
            "type": "scattergeo"
           }
          ],
          "scattergl": [
           {
            "marker": {
             "colorbar": {
              "outlinewidth": 0,
              "ticks": ""
             }
            },
            "type": "scattergl"
           }
          ],
          "scattermapbox": [
           {
            "marker": {
             "colorbar": {
              "outlinewidth": 0,
              "ticks": ""
             }
            },
            "type": "scattermapbox"
           }
          ],
          "scatterpolar": [
           {
            "marker": {
             "colorbar": {
              "outlinewidth": 0,
              "ticks": ""
             }
            },
            "type": "scatterpolar"
           }
          ],
          "scatterpolargl": [
           {
            "marker": {
             "colorbar": {
              "outlinewidth": 0,
              "ticks": ""
             }
            },
            "type": "scatterpolargl"
           }
          ],
          "scatterternary": [
           {
            "marker": {
             "colorbar": {
              "outlinewidth": 0,
              "ticks": ""
             }
            },
            "type": "scatterternary"
           }
          ],
          "surface": [
           {
            "colorbar": {
             "outlinewidth": 0,
             "ticks": ""
            },
            "colorscale": [
             [
              0,
              "#0d0887"
             ],
             [
              0.1111111111111111,
              "#46039f"
             ],
             [
              0.2222222222222222,
              "#7201a8"
             ],
             [
              0.3333333333333333,
              "#9c179e"
             ],
             [
              0.4444444444444444,
              "#bd3786"
             ],
             [
              0.5555555555555556,
              "#d8576b"
             ],
             [
              0.6666666666666666,
              "#ed7953"
             ],
             [
              0.7777777777777778,
              "#fb9f3a"
             ],
             [
              0.8888888888888888,
              "#fdca26"
             ],
             [
              1,
              "#f0f921"
             ]
            ],
            "type": "surface"
           }
          ],
          "table": [
           {
            "cells": {
             "fill": {
              "color": "#EBF0F8"
             },
             "line": {
              "color": "white"
             }
            },
            "header": {
             "fill": {
              "color": "#C8D4E3"
             },
             "line": {
              "color": "white"
             }
            },
            "type": "table"
           }
          ]
         },
         "layout": {
          "annotationdefaults": {
           "arrowcolor": "#2a3f5f",
           "arrowhead": 0,
           "arrowwidth": 1
          },
          "autotypenumbers": "strict",
          "coloraxis": {
           "colorbar": {
            "outlinewidth": 0,
            "ticks": ""
           }
          },
          "colorscale": {
           "diverging": [
            [
             0,
             "#8e0152"
            ],
            [
             0.1,
             "#c51b7d"
            ],
            [
             0.2,
             "#de77ae"
            ],
            [
             0.3,
             "#f1b6da"
            ],
            [
             0.4,
             "#fde0ef"
            ],
            [
             0.5,
             "#f7f7f7"
            ],
            [
             0.6,
             "#e6f5d0"
            ],
            [
             0.7,
             "#b8e186"
            ],
            [
             0.8,
             "#7fbc41"
            ],
            [
             0.9,
             "#4d9221"
            ],
            [
             1,
             "#276419"
            ]
           ],
           "sequential": [
            [
             0,
             "#0d0887"
            ],
            [
             0.1111111111111111,
             "#46039f"
            ],
            [
             0.2222222222222222,
             "#7201a8"
            ],
            [
             0.3333333333333333,
             "#9c179e"
            ],
            [
             0.4444444444444444,
             "#bd3786"
            ],
            [
             0.5555555555555556,
             "#d8576b"
            ],
            [
             0.6666666666666666,
             "#ed7953"
            ],
            [
             0.7777777777777778,
             "#fb9f3a"
            ],
            [
             0.8888888888888888,
             "#fdca26"
            ],
            [
             1,
             "#f0f921"
            ]
           ],
           "sequentialminus": [
            [
             0,
             "#0d0887"
            ],
            [
             0.1111111111111111,
             "#46039f"
            ],
            [
             0.2222222222222222,
             "#7201a8"
            ],
            [
             0.3333333333333333,
             "#9c179e"
            ],
            [
             0.4444444444444444,
             "#bd3786"
            ],
            [
             0.5555555555555556,
             "#d8576b"
            ],
            [
             0.6666666666666666,
             "#ed7953"
            ],
            [
             0.7777777777777778,
             "#fb9f3a"
            ],
            [
             0.8888888888888888,
             "#fdca26"
            ],
            [
             1,
             "#f0f921"
            ]
           ]
          },
          "colorway": [
           "#636efa",
           "#EF553B",
           "#00cc96",
           "#ab63fa",
           "#FFA15A",
           "#19d3f3",
           "#FF6692",
           "#B6E880",
           "#FF97FF",
           "#FECB52"
          ],
          "font": {
           "color": "#2a3f5f"
          },
          "geo": {
           "bgcolor": "white",
           "lakecolor": "white",
           "landcolor": "#E5ECF6",
           "showlakes": true,
           "showland": true,
           "subunitcolor": "white"
          },
          "hoverlabel": {
           "align": "left"
          },
          "hovermode": "closest",
          "mapbox": {
           "style": "light"
          },
          "paper_bgcolor": "white",
          "plot_bgcolor": "#E5ECF6",
          "polar": {
           "angularaxis": {
            "gridcolor": "white",
            "linecolor": "white",
            "ticks": ""
           },
           "bgcolor": "#E5ECF6",
           "radialaxis": {
            "gridcolor": "white",
            "linecolor": "white",
            "ticks": ""
           }
          },
          "scene": {
           "xaxis": {
            "backgroundcolor": "#E5ECF6",
            "gridcolor": "white",
            "gridwidth": 2,
            "linecolor": "white",
            "showbackground": true,
            "ticks": "",
            "zerolinecolor": "white"
           },
           "yaxis": {
            "backgroundcolor": "#E5ECF6",
            "gridcolor": "white",
            "gridwidth": 2,
            "linecolor": "white",
            "showbackground": true,
            "ticks": "",
            "zerolinecolor": "white"
           },
           "zaxis": {
            "backgroundcolor": "#E5ECF6",
            "gridcolor": "white",
            "gridwidth": 2,
            "linecolor": "white",
            "showbackground": true,
            "ticks": "",
            "zerolinecolor": "white"
           }
          },
          "shapedefaults": {
           "line": {
            "color": "#2a3f5f"
           }
          },
          "ternary": {
           "aaxis": {
            "gridcolor": "white",
            "linecolor": "white",
            "ticks": ""
           },
           "baxis": {
            "gridcolor": "white",
            "linecolor": "white",
            "ticks": ""
           },
           "bgcolor": "#E5ECF6",
           "caxis": {
            "gridcolor": "white",
            "linecolor": "white",
            "ticks": ""
           }
          },
          "title": {
           "x": 0.05
          },
          "xaxis": {
           "automargin": true,
           "gridcolor": "white",
           "linecolor": "white",
           "ticks": "",
           "title": {
            "standoff": 15
           },
           "zerolinecolor": "white",
           "zerolinewidth": 2
          },
          "yaxis": {
           "automargin": true,
           "gridcolor": "white",
           "linecolor": "white",
           "ticks": "",
           "title": {
            "standoff": 15
           },
           "zerolinecolor": "white",
           "zerolinewidth": 2
          }
         }
        },
        "xaxis": {
         "anchor": "y",
         "categoryarray": [
          "July_2020",
          "August_2020",
          "September_2020",
          "November_2020",
          "December_2020",
          "January_2021",
          "February_2021",
          "April_2021",
          "May_2021",
          "June_2021",
          "July_2021"
         ],
         "categoryorder": "array",
         "domain": [
          0,
          1
         ],
         "title": {
          "text": "month"
         }
        },
        "yaxis": {
         "anchor": "x",
         "domain": [
          0,
          1
         ],
         "title": {
          "text": "taxonomic_bins"
         }
        }
       }
      }
     },
     "metadata": {},
     "output_type": "display_data"
    }
   ],
   "source": [
    "# Plot the amount of large taxonomic bins that have more than 100 nonzero transcripts\n",
    "fig = px.box(plot_data,\n",
    "                   x = \"month\",\n",
    "                   y='taxonomic_bins',\n",
    "                   category_orders={'month': [\"July_2020\", \"August_2020\", \"September_2020\", \"November_2020\", \n",
    "                \"December_2020\", \"January_2021\", \"February_2021\", \"April_2021\", \n",
    "                \"May_2021\", \"June_2021\", \"July_2021\"]},)\n",
    "\n",
    "fig.show()\n",
    "\n",
    "# Save the plot\n",
    "fig.write_image(\"../../figures/biodiversity_functional_diversity/taxonomic_bins_per_month.svg\", width = 3.5, height = 2, scale=1, format='svg')"
   ]
  },
  {
   "cell_type": "code",
   "execution_count": 106,
   "metadata": {},
   "outputs": [
    {
     "data": {
      "application/vnd.plotly.v1+json": {
       "config": {
        "plotlyServerURL": "https://plot.ly"
       },
       "data": [
        {
         "alignmentgroup": "True",
         "hovertemplate": "month=%{x}<br>shannon=%{y}<extra></extra>",
         "legendgroup": "",
         "marker": {
          "color": "#636efa"
         },
         "name": "",
         "notched": false,
         "offsetgroup": "",
         "orientation": "v",
         "showlegend": false,
         "type": "box",
         "x": [
          "January_2021",
          "January_2021",
          "January_2021",
          "January_2021",
          "January_2021",
          "February_2021",
          "February_2021",
          "February_2021",
          "February_2021",
          "February_2021",
          "April_2021",
          "April_2021",
          "April_2021",
          "April_2021",
          "May_2021",
          "May_2021",
          "May_2021",
          "May_2021",
          "May_2021",
          "May_2021",
          "June_2021",
          "June_2021",
          "June_2021",
          "June_2021",
          "June_2021",
          "June_2021",
          "July_2021",
          "July_2021",
          "July_2021",
          "July_2021",
          "July_2021",
          "July_2021",
          "July_2020",
          "July_2020",
          "July_2020",
          "July_2020",
          "July_2020",
          "July_2020",
          "August_2020",
          "August_2020",
          "August_2020",
          "August_2020",
          "August_2020",
          "August_2020",
          "September_2020",
          "September_2020",
          "September_2020",
          "September_2020",
          "September_2020",
          "September_2020",
          "November_2020",
          "November_2020",
          "November_2020",
          "November_2020",
          "November_2020",
          "November_2020",
          "December_2020",
          "December_2020",
          "December_2020",
          "December_2020",
          "December_2020",
          "December_2020"
         ],
         "x0": " ",
         "xaxis": "x",
         "y": [
          3.13644218438686,
          2.50880361581573,
          2.74835897496735,
          2.86117288016664,
          2.96373357191014,
          3.08468420400599,
          3.12394003516751,
          3.04611601209074,
          2.47544389769663,
          2.94896594165423,
          2.91582688860412,
          1.71217664822923,
          1.97113883684174,
          2.03681728174958,
          1.83235862775987,
          2.15711561711732,
          2.14411753983142,
          1.95311057288629,
          2.17636867743297,
          2.14639288144898,
          2.65590491718798,
          1.88182037497309,
          2.66212858318155,
          2.95114618067915,
          2.82298075556744,
          2.63120521687779,
          2.34396391314093,
          2.79108028115614,
          1.8230466491102,
          2.89939420361554,
          1.74129848526439,
          2.7681499137582,
          2.58387466223258,
          2.04461857030752,
          2.7184341232693,
          1.24254584723977,
          2.65092705081485,
          2.24349496561217,
          2.6393721856316,
          1.93058868346723,
          2.43673753218495,
          2.07042418373048,
          2.20738885452961,
          2.58604242100867,
          3.1859962335379,
          2.87989642360439,
          3.06092537390113,
          2.8800049100623,
          2.9521036110783,
          2.71085636192051,
          1.98234148148097,
          2.92974271929586,
          3.21321510808402,
          3.00774203874856,
          2.92790754974854,
          2.71066360335426,
          3.20963220873414,
          3.07075887641552,
          3.32562183093256,
          2.76077289287923,
          3.29971780020393,
          3.14932659254495
         ],
         "y0": " ",
         "yaxis": "y"
        }
       ],
       "layout": {
        "boxmode": "group",
        "legend": {
         "tracegroupgap": 0
        },
        "margin": {
         "t": 60
        },
        "template": {
         "data": {
          "bar": [
           {
            "error_x": {
             "color": "#2a3f5f"
            },
            "error_y": {
             "color": "#2a3f5f"
            },
            "marker": {
             "line": {
              "color": "#E5ECF6",
              "width": 0.5
             },
             "pattern": {
              "fillmode": "overlay",
              "size": 10,
              "solidity": 0.2
             }
            },
            "type": "bar"
           }
          ],
          "barpolar": [
           {
            "marker": {
             "line": {
              "color": "#E5ECF6",
              "width": 0.5
             },
             "pattern": {
              "fillmode": "overlay",
              "size": 10,
              "solidity": 0.2
             }
            },
            "type": "barpolar"
           }
          ],
          "carpet": [
           {
            "aaxis": {
             "endlinecolor": "#2a3f5f",
             "gridcolor": "white",
             "linecolor": "white",
             "minorgridcolor": "white",
             "startlinecolor": "#2a3f5f"
            },
            "baxis": {
             "endlinecolor": "#2a3f5f",
             "gridcolor": "white",
             "linecolor": "white",
             "minorgridcolor": "white",
             "startlinecolor": "#2a3f5f"
            },
            "type": "carpet"
           }
          ],
          "choropleth": [
           {
            "colorbar": {
             "outlinewidth": 0,
             "ticks": ""
            },
            "type": "choropleth"
           }
          ],
          "contour": [
           {
            "colorbar": {
             "outlinewidth": 0,
             "ticks": ""
            },
            "colorscale": [
             [
              0,
              "#0d0887"
             ],
             [
              0.1111111111111111,
              "#46039f"
             ],
             [
              0.2222222222222222,
              "#7201a8"
             ],
             [
              0.3333333333333333,
              "#9c179e"
             ],
             [
              0.4444444444444444,
              "#bd3786"
             ],
             [
              0.5555555555555556,
              "#d8576b"
             ],
             [
              0.6666666666666666,
              "#ed7953"
             ],
             [
              0.7777777777777778,
              "#fb9f3a"
             ],
             [
              0.8888888888888888,
              "#fdca26"
             ],
             [
              1,
              "#f0f921"
             ]
            ],
            "type": "contour"
           }
          ],
          "contourcarpet": [
           {
            "colorbar": {
             "outlinewidth": 0,
             "ticks": ""
            },
            "type": "contourcarpet"
           }
          ],
          "heatmap": [
           {
            "colorbar": {
             "outlinewidth": 0,
             "ticks": ""
            },
            "colorscale": [
             [
              0,
              "#0d0887"
             ],
             [
              0.1111111111111111,
              "#46039f"
             ],
             [
              0.2222222222222222,
              "#7201a8"
             ],
             [
              0.3333333333333333,
              "#9c179e"
             ],
             [
              0.4444444444444444,
              "#bd3786"
             ],
             [
              0.5555555555555556,
              "#d8576b"
             ],
             [
              0.6666666666666666,
              "#ed7953"
             ],
             [
              0.7777777777777778,
              "#fb9f3a"
             ],
             [
              0.8888888888888888,
              "#fdca26"
             ],
             [
              1,
              "#f0f921"
             ]
            ],
            "type": "heatmap"
           }
          ],
          "heatmapgl": [
           {
            "colorbar": {
             "outlinewidth": 0,
             "ticks": ""
            },
            "colorscale": [
             [
              0,
              "#0d0887"
             ],
             [
              0.1111111111111111,
              "#46039f"
             ],
             [
              0.2222222222222222,
              "#7201a8"
             ],
             [
              0.3333333333333333,
              "#9c179e"
             ],
             [
              0.4444444444444444,
              "#bd3786"
             ],
             [
              0.5555555555555556,
              "#d8576b"
             ],
             [
              0.6666666666666666,
              "#ed7953"
             ],
             [
              0.7777777777777778,
              "#fb9f3a"
             ],
             [
              0.8888888888888888,
              "#fdca26"
             ],
             [
              1,
              "#f0f921"
             ]
            ],
            "type": "heatmapgl"
           }
          ],
          "histogram": [
           {
            "marker": {
             "pattern": {
              "fillmode": "overlay",
              "size": 10,
              "solidity": 0.2
             }
            },
            "type": "histogram"
           }
          ],
          "histogram2d": [
           {
            "colorbar": {
             "outlinewidth": 0,
             "ticks": ""
            },
            "colorscale": [
             [
              0,
              "#0d0887"
             ],
             [
              0.1111111111111111,
              "#46039f"
             ],
             [
              0.2222222222222222,
              "#7201a8"
             ],
             [
              0.3333333333333333,
              "#9c179e"
             ],
             [
              0.4444444444444444,
              "#bd3786"
             ],
             [
              0.5555555555555556,
              "#d8576b"
             ],
             [
              0.6666666666666666,
              "#ed7953"
             ],
             [
              0.7777777777777778,
              "#fb9f3a"
             ],
             [
              0.8888888888888888,
              "#fdca26"
             ],
             [
              1,
              "#f0f921"
             ]
            ],
            "type": "histogram2d"
           }
          ],
          "histogram2dcontour": [
           {
            "colorbar": {
             "outlinewidth": 0,
             "ticks": ""
            },
            "colorscale": [
             [
              0,
              "#0d0887"
             ],
             [
              0.1111111111111111,
              "#46039f"
             ],
             [
              0.2222222222222222,
              "#7201a8"
             ],
             [
              0.3333333333333333,
              "#9c179e"
             ],
             [
              0.4444444444444444,
              "#bd3786"
             ],
             [
              0.5555555555555556,
              "#d8576b"
             ],
             [
              0.6666666666666666,
              "#ed7953"
             ],
             [
              0.7777777777777778,
              "#fb9f3a"
             ],
             [
              0.8888888888888888,
              "#fdca26"
             ],
             [
              1,
              "#f0f921"
             ]
            ],
            "type": "histogram2dcontour"
           }
          ],
          "mesh3d": [
           {
            "colorbar": {
             "outlinewidth": 0,
             "ticks": ""
            },
            "type": "mesh3d"
           }
          ],
          "parcoords": [
           {
            "line": {
             "colorbar": {
              "outlinewidth": 0,
              "ticks": ""
             }
            },
            "type": "parcoords"
           }
          ],
          "pie": [
           {
            "automargin": true,
            "type": "pie"
           }
          ],
          "scatter": [
           {
            "marker": {
             "colorbar": {
              "outlinewidth": 0,
              "ticks": ""
             }
            },
            "type": "scatter"
           }
          ],
          "scatter3d": [
           {
            "line": {
             "colorbar": {
              "outlinewidth": 0,
              "ticks": ""
             }
            },
            "marker": {
             "colorbar": {
              "outlinewidth": 0,
              "ticks": ""
             }
            },
            "type": "scatter3d"
           }
          ],
          "scattercarpet": [
           {
            "marker": {
             "colorbar": {
              "outlinewidth": 0,
              "ticks": ""
             }
            },
            "type": "scattercarpet"
           }
          ],
          "scattergeo": [
           {
            "marker": {
             "colorbar": {
              "outlinewidth": 0,
              "ticks": ""
             }
            },
            "type": "scattergeo"
           }
          ],
          "scattergl": [
           {
            "marker": {
             "colorbar": {
              "outlinewidth": 0,
              "ticks": ""
             }
            },
            "type": "scattergl"
           }
          ],
          "scattermapbox": [
           {
            "marker": {
             "colorbar": {
              "outlinewidth": 0,
              "ticks": ""
             }
            },
            "type": "scattermapbox"
           }
          ],
          "scatterpolar": [
           {
            "marker": {
             "colorbar": {
              "outlinewidth": 0,
              "ticks": ""
             }
            },
            "type": "scatterpolar"
           }
          ],
          "scatterpolargl": [
           {
            "marker": {
             "colorbar": {
              "outlinewidth": 0,
              "ticks": ""
             }
            },
            "type": "scatterpolargl"
           }
          ],
          "scatterternary": [
           {
            "marker": {
             "colorbar": {
              "outlinewidth": 0,
              "ticks": ""
             }
            },
            "type": "scatterternary"
           }
          ],
          "surface": [
           {
            "colorbar": {
             "outlinewidth": 0,
             "ticks": ""
            },
            "colorscale": [
             [
              0,
              "#0d0887"
             ],
             [
              0.1111111111111111,
              "#46039f"
             ],
             [
              0.2222222222222222,
              "#7201a8"
             ],
             [
              0.3333333333333333,
              "#9c179e"
             ],
             [
              0.4444444444444444,
              "#bd3786"
             ],
             [
              0.5555555555555556,
              "#d8576b"
             ],
             [
              0.6666666666666666,
              "#ed7953"
             ],
             [
              0.7777777777777778,
              "#fb9f3a"
             ],
             [
              0.8888888888888888,
              "#fdca26"
             ],
             [
              1,
              "#f0f921"
             ]
            ],
            "type": "surface"
           }
          ],
          "table": [
           {
            "cells": {
             "fill": {
              "color": "#EBF0F8"
             },
             "line": {
              "color": "white"
             }
            },
            "header": {
             "fill": {
              "color": "#C8D4E3"
             },
             "line": {
              "color": "white"
             }
            },
            "type": "table"
           }
          ]
         },
         "layout": {
          "annotationdefaults": {
           "arrowcolor": "#2a3f5f",
           "arrowhead": 0,
           "arrowwidth": 1
          },
          "autotypenumbers": "strict",
          "coloraxis": {
           "colorbar": {
            "outlinewidth": 0,
            "ticks": ""
           }
          },
          "colorscale": {
           "diverging": [
            [
             0,
             "#8e0152"
            ],
            [
             0.1,
             "#c51b7d"
            ],
            [
             0.2,
             "#de77ae"
            ],
            [
             0.3,
             "#f1b6da"
            ],
            [
             0.4,
             "#fde0ef"
            ],
            [
             0.5,
             "#f7f7f7"
            ],
            [
             0.6,
             "#e6f5d0"
            ],
            [
             0.7,
             "#b8e186"
            ],
            [
             0.8,
             "#7fbc41"
            ],
            [
             0.9,
             "#4d9221"
            ],
            [
             1,
             "#276419"
            ]
           ],
           "sequential": [
            [
             0,
             "#0d0887"
            ],
            [
             0.1111111111111111,
             "#46039f"
            ],
            [
             0.2222222222222222,
             "#7201a8"
            ],
            [
             0.3333333333333333,
             "#9c179e"
            ],
            [
             0.4444444444444444,
             "#bd3786"
            ],
            [
             0.5555555555555556,
             "#d8576b"
            ],
            [
             0.6666666666666666,
             "#ed7953"
            ],
            [
             0.7777777777777778,
             "#fb9f3a"
            ],
            [
             0.8888888888888888,
             "#fdca26"
            ],
            [
             1,
             "#f0f921"
            ]
           ],
           "sequentialminus": [
            [
             0,
             "#0d0887"
            ],
            [
             0.1111111111111111,
             "#46039f"
            ],
            [
             0.2222222222222222,
             "#7201a8"
            ],
            [
             0.3333333333333333,
             "#9c179e"
            ],
            [
             0.4444444444444444,
             "#bd3786"
            ],
            [
             0.5555555555555556,
             "#d8576b"
            ],
            [
             0.6666666666666666,
             "#ed7953"
            ],
            [
             0.7777777777777778,
             "#fb9f3a"
            ],
            [
             0.8888888888888888,
             "#fdca26"
            ],
            [
             1,
             "#f0f921"
            ]
           ]
          },
          "colorway": [
           "#636efa",
           "#EF553B",
           "#00cc96",
           "#ab63fa",
           "#FFA15A",
           "#19d3f3",
           "#FF6692",
           "#B6E880",
           "#FF97FF",
           "#FECB52"
          ],
          "font": {
           "color": "#2a3f5f"
          },
          "geo": {
           "bgcolor": "white",
           "lakecolor": "white",
           "landcolor": "#E5ECF6",
           "showlakes": true,
           "showland": true,
           "subunitcolor": "white"
          },
          "hoverlabel": {
           "align": "left"
          },
          "hovermode": "closest",
          "mapbox": {
           "style": "light"
          },
          "paper_bgcolor": "white",
          "plot_bgcolor": "#E5ECF6",
          "polar": {
           "angularaxis": {
            "gridcolor": "white",
            "linecolor": "white",
            "ticks": ""
           },
           "bgcolor": "#E5ECF6",
           "radialaxis": {
            "gridcolor": "white",
            "linecolor": "white",
            "ticks": ""
           }
          },
          "scene": {
           "xaxis": {
            "backgroundcolor": "#E5ECF6",
            "gridcolor": "white",
            "gridwidth": 2,
            "linecolor": "white",
            "showbackground": true,
            "ticks": "",
            "zerolinecolor": "white"
           },
           "yaxis": {
            "backgroundcolor": "#E5ECF6",
            "gridcolor": "white",
            "gridwidth": 2,
            "linecolor": "white",
            "showbackground": true,
            "ticks": "",
            "zerolinecolor": "white"
           },
           "zaxis": {
            "backgroundcolor": "#E5ECF6",
            "gridcolor": "white",
            "gridwidth": 2,
            "linecolor": "white",
            "showbackground": true,
            "ticks": "",
            "zerolinecolor": "white"
           }
          },
          "shapedefaults": {
           "line": {
            "color": "#2a3f5f"
           }
          },
          "ternary": {
           "aaxis": {
            "gridcolor": "white",
            "linecolor": "white",
            "ticks": ""
           },
           "baxis": {
            "gridcolor": "white",
            "linecolor": "white",
            "ticks": ""
           },
           "bgcolor": "#E5ECF6",
           "caxis": {
            "gridcolor": "white",
            "linecolor": "white",
            "ticks": ""
           }
          },
          "title": {
           "x": 0.05
          },
          "xaxis": {
           "automargin": true,
           "gridcolor": "white",
           "linecolor": "white",
           "ticks": "",
           "title": {
            "standoff": 15
           },
           "zerolinecolor": "white",
           "zerolinewidth": 2
          },
          "yaxis": {
           "automargin": true,
           "gridcolor": "white",
           "linecolor": "white",
           "ticks": "",
           "title": {
            "standoff": 15
           },
           "zerolinecolor": "white",
           "zerolinewidth": 2
          }
         }
        },
        "xaxis": {
         "anchor": "y",
         "categoryarray": [
          "July_2020",
          "August_2020",
          "September_2020",
          "November_2020",
          "December_2020",
          "January_2021",
          "February_2021",
          "April_2021",
          "May_2021",
          "June_2021",
          "July_2021"
         ],
         "categoryorder": "array",
         "domain": [
          0,
          1
         ],
         "title": {
          "text": "month"
         }
        },
        "yaxis": {
         "anchor": "x",
         "domain": [
          0,
          1
         ],
         "title": {
          "text": "shannon"
         }
        }
       }
      }
     },
     "metadata": {},
     "output_type": "display_data"
    }
   ],
   "source": [
    "# Plot the amount of large taxonomic bins that have more than 50 nonzero transcripts\n",
    "fig = px.box(plot_data,\n",
    "                   x = \"month\",\n",
    "                   y='shannon',\n",
    "                   category_orders={'month': [\"July_2020\", \"August_2020\", \"September_2020\", \"November_2020\", \n",
    "                \"December_2020\", \"January_2021\", \"February_2021\", \"April_2021\", \n",
    "                \"May_2021\", \"June_2021\", \"July_2021\"]},)\n",
    "\n",
    "fig.show()\n",
    "\n",
    "# Save the plot\n",
    "fig.write_image(\"../../figures/biodiversity_functional_diversity/shannon_diversity_per_month.svg\", width = 3.5, height = 2, scale=1, format='svg')\n"
   ]
  },
  {
   "cell_type": "code",
   "execution_count": 107,
   "metadata": {},
   "outputs": [
    {
     "data": {
      "application/vnd.plotly.v1+json": {
       "config": {
        "plotlyServerURL": "https://plot.ly"
       },
       "data": [
        {
         "alignmentgroup": "True",
         "hovertemplate": "month=%{x}<br>KEGG_ko=%{y}<extra></extra>",
         "legendgroup": "",
         "marker": {
          "color": "#636efa"
         },
         "name": "",
         "notched": false,
         "offsetgroup": "",
         "orientation": "v",
         "showlegend": false,
         "type": "box",
         "x": [
          "January_2021",
          "January_2021",
          "January_2021",
          "January_2021",
          "January_2021",
          "February_2021",
          "February_2021",
          "February_2021",
          "February_2021",
          "February_2021",
          "April_2021",
          "April_2021",
          "April_2021",
          "April_2021",
          "May_2021",
          "May_2021",
          "May_2021",
          "May_2021",
          "May_2021",
          "May_2021",
          "June_2021",
          "June_2021",
          "June_2021",
          "June_2021",
          "June_2021",
          "June_2021",
          "July_2021",
          "July_2021",
          "July_2021",
          "July_2021",
          "July_2021",
          "July_2021",
          "July_2020",
          "July_2020",
          "July_2020",
          "July_2020",
          "July_2020",
          "July_2020",
          "August_2020",
          "August_2020",
          "August_2020",
          "August_2020",
          "August_2020",
          "August_2020",
          "September_2020",
          "September_2020",
          "September_2020",
          "September_2020",
          "September_2020",
          "September_2020",
          "November_2020",
          "November_2020",
          "November_2020",
          "November_2020",
          "November_2020",
          "November_2020",
          "December_2020",
          "December_2020",
          "December_2020",
          "December_2020",
          "December_2020",
          "December_2020"
         ],
         "x0": " ",
         "xaxis": "x",
         "y": [
          6328,
          6805,
          3644,
          5499,
          6125,
          6628,
          6843,
          6244,
          4613,
          6141,
          6783,
          4785,
          6281,
          5242,
          5353,
          5237,
          6436,
          5491,
          5590,
          5100,
          6219,
          6959,
          4000,
          5340,
          5386,
          4425,
          5285,
          6218,
          6208,
          5982,
          7264,
          5357,
          4640,
          3642,
          4672,
          5681,
          4836,
          5173,
          6539,
          4995,
          6778,
          5053,
          5648,
          5758,
          4643,
          5135,
          4852,
          6950,
          6801,
          5083,
          4873,
          6217,
          5921,
          6383,
          6335,
          5199,
          5131,
          4684,
          5810,
          6543,
          5619,
          5877
         ],
         "y0": " ",
         "yaxis": "y"
        }
       ],
       "layout": {
        "boxmode": "group",
        "legend": {
         "tracegroupgap": 0
        },
        "margin": {
         "t": 60
        },
        "template": {
         "data": {
          "bar": [
           {
            "error_x": {
             "color": "#2a3f5f"
            },
            "error_y": {
             "color": "#2a3f5f"
            },
            "marker": {
             "line": {
              "color": "#E5ECF6",
              "width": 0.5
             },
             "pattern": {
              "fillmode": "overlay",
              "size": 10,
              "solidity": 0.2
             }
            },
            "type": "bar"
           }
          ],
          "barpolar": [
           {
            "marker": {
             "line": {
              "color": "#E5ECF6",
              "width": 0.5
             },
             "pattern": {
              "fillmode": "overlay",
              "size": 10,
              "solidity": 0.2
             }
            },
            "type": "barpolar"
           }
          ],
          "carpet": [
           {
            "aaxis": {
             "endlinecolor": "#2a3f5f",
             "gridcolor": "white",
             "linecolor": "white",
             "minorgridcolor": "white",
             "startlinecolor": "#2a3f5f"
            },
            "baxis": {
             "endlinecolor": "#2a3f5f",
             "gridcolor": "white",
             "linecolor": "white",
             "minorgridcolor": "white",
             "startlinecolor": "#2a3f5f"
            },
            "type": "carpet"
           }
          ],
          "choropleth": [
           {
            "colorbar": {
             "outlinewidth": 0,
             "ticks": ""
            },
            "type": "choropleth"
           }
          ],
          "contour": [
           {
            "colorbar": {
             "outlinewidth": 0,
             "ticks": ""
            },
            "colorscale": [
             [
              0,
              "#0d0887"
             ],
             [
              0.1111111111111111,
              "#46039f"
             ],
             [
              0.2222222222222222,
              "#7201a8"
             ],
             [
              0.3333333333333333,
              "#9c179e"
             ],
             [
              0.4444444444444444,
              "#bd3786"
             ],
             [
              0.5555555555555556,
              "#d8576b"
             ],
             [
              0.6666666666666666,
              "#ed7953"
             ],
             [
              0.7777777777777778,
              "#fb9f3a"
             ],
             [
              0.8888888888888888,
              "#fdca26"
             ],
             [
              1,
              "#f0f921"
             ]
            ],
            "type": "contour"
           }
          ],
          "contourcarpet": [
           {
            "colorbar": {
             "outlinewidth": 0,
             "ticks": ""
            },
            "type": "contourcarpet"
           }
          ],
          "heatmap": [
           {
            "colorbar": {
             "outlinewidth": 0,
             "ticks": ""
            },
            "colorscale": [
             [
              0,
              "#0d0887"
             ],
             [
              0.1111111111111111,
              "#46039f"
             ],
             [
              0.2222222222222222,
              "#7201a8"
             ],
             [
              0.3333333333333333,
              "#9c179e"
             ],
             [
              0.4444444444444444,
              "#bd3786"
             ],
             [
              0.5555555555555556,
              "#d8576b"
             ],
             [
              0.6666666666666666,
              "#ed7953"
             ],
             [
              0.7777777777777778,
              "#fb9f3a"
             ],
             [
              0.8888888888888888,
              "#fdca26"
             ],
             [
              1,
              "#f0f921"
             ]
            ],
            "type": "heatmap"
           }
          ],
          "heatmapgl": [
           {
            "colorbar": {
             "outlinewidth": 0,
             "ticks": ""
            },
            "colorscale": [
             [
              0,
              "#0d0887"
             ],
             [
              0.1111111111111111,
              "#46039f"
             ],
             [
              0.2222222222222222,
              "#7201a8"
             ],
             [
              0.3333333333333333,
              "#9c179e"
             ],
             [
              0.4444444444444444,
              "#bd3786"
             ],
             [
              0.5555555555555556,
              "#d8576b"
             ],
             [
              0.6666666666666666,
              "#ed7953"
             ],
             [
              0.7777777777777778,
              "#fb9f3a"
             ],
             [
              0.8888888888888888,
              "#fdca26"
             ],
             [
              1,
              "#f0f921"
             ]
            ],
            "type": "heatmapgl"
           }
          ],
          "histogram": [
           {
            "marker": {
             "pattern": {
              "fillmode": "overlay",
              "size": 10,
              "solidity": 0.2
             }
            },
            "type": "histogram"
           }
          ],
          "histogram2d": [
           {
            "colorbar": {
             "outlinewidth": 0,
             "ticks": ""
            },
            "colorscale": [
             [
              0,
              "#0d0887"
             ],
             [
              0.1111111111111111,
              "#46039f"
             ],
             [
              0.2222222222222222,
              "#7201a8"
             ],
             [
              0.3333333333333333,
              "#9c179e"
             ],
             [
              0.4444444444444444,
              "#bd3786"
             ],
             [
              0.5555555555555556,
              "#d8576b"
             ],
             [
              0.6666666666666666,
              "#ed7953"
             ],
             [
              0.7777777777777778,
              "#fb9f3a"
             ],
             [
              0.8888888888888888,
              "#fdca26"
             ],
             [
              1,
              "#f0f921"
             ]
            ],
            "type": "histogram2d"
           }
          ],
          "histogram2dcontour": [
           {
            "colorbar": {
             "outlinewidth": 0,
             "ticks": ""
            },
            "colorscale": [
             [
              0,
              "#0d0887"
             ],
             [
              0.1111111111111111,
              "#46039f"
             ],
             [
              0.2222222222222222,
              "#7201a8"
             ],
             [
              0.3333333333333333,
              "#9c179e"
             ],
             [
              0.4444444444444444,
              "#bd3786"
             ],
             [
              0.5555555555555556,
              "#d8576b"
             ],
             [
              0.6666666666666666,
              "#ed7953"
             ],
             [
              0.7777777777777778,
              "#fb9f3a"
             ],
             [
              0.8888888888888888,
              "#fdca26"
             ],
             [
              1,
              "#f0f921"
             ]
            ],
            "type": "histogram2dcontour"
           }
          ],
          "mesh3d": [
           {
            "colorbar": {
             "outlinewidth": 0,
             "ticks": ""
            },
            "type": "mesh3d"
           }
          ],
          "parcoords": [
           {
            "line": {
             "colorbar": {
              "outlinewidth": 0,
              "ticks": ""
             }
            },
            "type": "parcoords"
           }
          ],
          "pie": [
           {
            "automargin": true,
            "type": "pie"
           }
          ],
          "scatter": [
           {
            "marker": {
             "colorbar": {
              "outlinewidth": 0,
              "ticks": ""
             }
            },
            "type": "scatter"
           }
          ],
          "scatter3d": [
           {
            "line": {
             "colorbar": {
              "outlinewidth": 0,
              "ticks": ""
             }
            },
            "marker": {
             "colorbar": {
              "outlinewidth": 0,
              "ticks": ""
             }
            },
            "type": "scatter3d"
           }
          ],
          "scattercarpet": [
           {
            "marker": {
             "colorbar": {
              "outlinewidth": 0,
              "ticks": ""
             }
            },
            "type": "scattercarpet"
           }
          ],
          "scattergeo": [
           {
            "marker": {
             "colorbar": {
              "outlinewidth": 0,
              "ticks": ""
             }
            },
            "type": "scattergeo"
           }
          ],
          "scattergl": [
           {
            "marker": {
             "colorbar": {
              "outlinewidth": 0,
              "ticks": ""
             }
            },
            "type": "scattergl"
           }
          ],
          "scattermapbox": [
           {
            "marker": {
             "colorbar": {
              "outlinewidth": 0,
              "ticks": ""
             }
            },
            "type": "scattermapbox"
           }
          ],
          "scatterpolar": [
           {
            "marker": {
             "colorbar": {
              "outlinewidth": 0,
              "ticks": ""
             }
            },
            "type": "scatterpolar"
           }
          ],
          "scatterpolargl": [
           {
            "marker": {
             "colorbar": {
              "outlinewidth": 0,
              "ticks": ""
             }
            },
            "type": "scatterpolargl"
           }
          ],
          "scatterternary": [
           {
            "marker": {
             "colorbar": {
              "outlinewidth": 0,
              "ticks": ""
             }
            },
            "type": "scatterternary"
           }
          ],
          "surface": [
           {
            "colorbar": {
             "outlinewidth": 0,
             "ticks": ""
            },
            "colorscale": [
             [
              0,
              "#0d0887"
             ],
             [
              0.1111111111111111,
              "#46039f"
             ],
             [
              0.2222222222222222,
              "#7201a8"
             ],
             [
              0.3333333333333333,
              "#9c179e"
             ],
             [
              0.4444444444444444,
              "#bd3786"
             ],
             [
              0.5555555555555556,
              "#d8576b"
             ],
             [
              0.6666666666666666,
              "#ed7953"
             ],
             [
              0.7777777777777778,
              "#fb9f3a"
             ],
             [
              0.8888888888888888,
              "#fdca26"
             ],
             [
              1,
              "#f0f921"
             ]
            ],
            "type": "surface"
           }
          ],
          "table": [
           {
            "cells": {
             "fill": {
              "color": "#EBF0F8"
             },
             "line": {
              "color": "white"
             }
            },
            "header": {
             "fill": {
              "color": "#C8D4E3"
             },
             "line": {
              "color": "white"
             }
            },
            "type": "table"
           }
          ]
         },
         "layout": {
          "annotationdefaults": {
           "arrowcolor": "#2a3f5f",
           "arrowhead": 0,
           "arrowwidth": 1
          },
          "autotypenumbers": "strict",
          "coloraxis": {
           "colorbar": {
            "outlinewidth": 0,
            "ticks": ""
           }
          },
          "colorscale": {
           "diverging": [
            [
             0,
             "#8e0152"
            ],
            [
             0.1,
             "#c51b7d"
            ],
            [
             0.2,
             "#de77ae"
            ],
            [
             0.3,
             "#f1b6da"
            ],
            [
             0.4,
             "#fde0ef"
            ],
            [
             0.5,
             "#f7f7f7"
            ],
            [
             0.6,
             "#e6f5d0"
            ],
            [
             0.7,
             "#b8e186"
            ],
            [
             0.8,
             "#7fbc41"
            ],
            [
             0.9,
             "#4d9221"
            ],
            [
             1,
             "#276419"
            ]
           ],
           "sequential": [
            [
             0,
             "#0d0887"
            ],
            [
             0.1111111111111111,
             "#46039f"
            ],
            [
             0.2222222222222222,
             "#7201a8"
            ],
            [
             0.3333333333333333,
             "#9c179e"
            ],
            [
             0.4444444444444444,
             "#bd3786"
            ],
            [
             0.5555555555555556,
             "#d8576b"
            ],
            [
             0.6666666666666666,
             "#ed7953"
            ],
            [
             0.7777777777777778,
             "#fb9f3a"
            ],
            [
             0.8888888888888888,
             "#fdca26"
            ],
            [
             1,
             "#f0f921"
            ]
           ],
           "sequentialminus": [
            [
             0,
             "#0d0887"
            ],
            [
             0.1111111111111111,
             "#46039f"
            ],
            [
             0.2222222222222222,
             "#7201a8"
            ],
            [
             0.3333333333333333,
             "#9c179e"
            ],
            [
             0.4444444444444444,
             "#bd3786"
            ],
            [
             0.5555555555555556,
             "#d8576b"
            ],
            [
             0.6666666666666666,
             "#ed7953"
            ],
            [
             0.7777777777777778,
             "#fb9f3a"
            ],
            [
             0.8888888888888888,
             "#fdca26"
            ],
            [
             1,
             "#f0f921"
            ]
           ]
          },
          "colorway": [
           "#636efa",
           "#EF553B",
           "#00cc96",
           "#ab63fa",
           "#FFA15A",
           "#19d3f3",
           "#FF6692",
           "#B6E880",
           "#FF97FF",
           "#FECB52"
          ],
          "font": {
           "color": "#2a3f5f"
          },
          "geo": {
           "bgcolor": "white",
           "lakecolor": "white",
           "landcolor": "#E5ECF6",
           "showlakes": true,
           "showland": true,
           "subunitcolor": "white"
          },
          "hoverlabel": {
           "align": "left"
          },
          "hovermode": "closest",
          "mapbox": {
           "style": "light"
          },
          "paper_bgcolor": "white",
          "plot_bgcolor": "#E5ECF6",
          "polar": {
           "angularaxis": {
            "gridcolor": "white",
            "linecolor": "white",
            "ticks": ""
           },
           "bgcolor": "#E5ECF6",
           "radialaxis": {
            "gridcolor": "white",
            "linecolor": "white",
            "ticks": ""
           }
          },
          "scene": {
           "xaxis": {
            "backgroundcolor": "#E5ECF6",
            "gridcolor": "white",
            "gridwidth": 2,
            "linecolor": "white",
            "showbackground": true,
            "ticks": "",
            "zerolinecolor": "white"
           },
           "yaxis": {
            "backgroundcolor": "#E5ECF6",
            "gridcolor": "white",
            "gridwidth": 2,
            "linecolor": "white",
            "showbackground": true,
            "ticks": "",
            "zerolinecolor": "white"
           },
           "zaxis": {
            "backgroundcolor": "#E5ECF6",
            "gridcolor": "white",
            "gridwidth": 2,
            "linecolor": "white",
            "showbackground": true,
            "ticks": "",
            "zerolinecolor": "white"
           }
          },
          "shapedefaults": {
           "line": {
            "color": "#2a3f5f"
           }
          },
          "ternary": {
           "aaxis": {
            "gridcolor": "white",
            "linecolor": "white",
            "ticks": ""
           },
           "baxis": {
            "gridcolor": "white",
            "linecolor": "white",
            "ticks": ""
           },
           "bgcolor": "#E5ECF6",
           "caxis": {
            "gridcolor": "white",
            "linecolor": "white",
            "ticks": ""
           }
          },
          "title": {
           "x": 0.05
          },
          "xaxis": {
           "automargin": true,
           "gridcolor": "white",
           "linecolor": "white",
           "ticks": "",
           "title": {
            "standoff": 15
           },
           "zerolinecolor": "white",
           "zerolinewidth": 2
          },
          "yaxis": {
           "automargin": true,
           "gridcolor": "white",
           "linecolor": "white",
           "ticks": "",
           "title": {
            "standoff": 15
           },
           "zerolinecolor": "white",
           "zerolinewidth": 2
          }
         }
        },
        "xaxis": {
         "anchor": "y",
         "categoryarray": [
          "July_2020",
          "August_2020",
          "September_2020",
          "November_2020",
          "December_2020",
          "January_2021",
          "February_2021",
          "April_2021",
          "May_2021",
          "June_2021",
          "July_2021"
         ],
         "categoryorder": "array",
         "domain": [
          0,
          1
         ],
         "title": {
          "text": "month"
         }
        },
        "yaxis": {
         "anchor": "x",
         "domain": [
          0,
          1
         ],
         "title": {
          "text": "KEGG_ko"
         }
        }
       }
      }
     },
     "metadata": {},
     "output_type": "display_data"
    }
   ],
   "source": [
    "# Plot the functional richness over time\n",
    "fig = px.box(plot_data,\n",
    "                   x = \"month\",\n",
    "                   y=func_info,\n",
    "                   category_orders={'month': [\"July_2020\", \"August_2020\", \"September_2020\", \"November_2020\", \n",
    "                \"December_2020\", \"January_2021\", \"February_2021\", \"April_2021\", \n",
    "                \"May_2021\", \"June_2021\", \"July_2021\"]},)\n",
    "\n",
    "fig.show()\n",
    "\n",
    "# Save the plot\n",
    "fig.write_image(\"../../figures/biodiversity_functional_diversity/functional_richness_per_month.svg\", width = 3.5, height = 2, scale=1, format='svg')\n"
   ]
  },
  {
   "cell_type": "code",
   "execution_count": 108,
   "metadata": {},
   "outputs": [
    {
     "data": {
      "application/vnd.plotly.v1+json": {
       "config": {
        "plotlyServerURL": "https://plot.ly"
       },
       "data": [
        {
         "alignmentgroup": "True",
         "hovertemplate": "month=%{x}<br>average_cells_L=%{y}<extra></extra>",
         "legendgroup": "",
         "marker": {
          "color": "#636efa"
         },
         "name": "",
         "notched": false,
         "offsetgroup": "",
         "orientation": "v",
         "showlegend": false,
         "type": "box",
         "x": [
          "January_2021",
          "January_2021",
          "January_2021",
          "January_2021",
          "January_2021",
          "February_2021",
          "February_2021",
          "February_2021",
          "February_2021",
          "February_2021",
          "April_2021",
          "April_2021",
          "April_2021",
          "April_2021",
          "May_2021",
          "May_2021",
          "May_2021",
          "May_2021",
          "May_2021",
          "May_2021",
          "June_2021",
          "June_2021",
          "June_2021",
          "June_2021",
          "June_2021",
          "June_2021",
          "July_2021",
          "July_2021",
          "July_2021",
          "July_2021",
          "July_2021",
          "July_2021",
          "July_2020",
          "July_2020",
          "July_2020",
          "July_2020",
          "July_2020",
          "July_2020",
          "August_2020",
          "August_2020",
          "August_2020",
          "August_2020",
          "August_2020",
          "August_2020",
          "September_2020",
          "September_2020",
          "September_2020",
          "September_2020",
          "September_2020",
          "September_2020",
          "November_2020",
          "November_2020",
          "November_2020",
          "November_2020",
          "November_2020",
          "November_2020",
          "December_2020",
          "December_2020",
          "December_2020",
          "December_2020",
          "December_2020",
          "December_2020"
         ],
         "x0": " ",
         "xaxis": "x",
         "y": [
          14.956718863842529,
          8.156771831524296,
          380.3610389243936,
          37.984238883321495,
          12.049578025491083,
          36.1189306509928,
          87.73894917117028,
          40.59872593495876,
          38.46039055339103,
          16.253623037908703,
          614.0956251913252,
          893.9661485468494,
          328.79021586844715,
          132.36600001095593,
          119.9073935032324,
          7063.32417187861,
          31.047027955697413,
          57.06469853781704,
          150.0241788387292,
          13.44217067814516,
          564.1395755143787,
          107.25965562598113,
          1599.5360092364538,
          152.62412529736392,
          427.20669447773,
          2056.106667382378,
          null,
          793.3362658752118,
          1642.4673332720365,
          546.9911401372815,
          7304.677791483297,
          10169.858309307589,
          7225.684535441331,
          2367.733646558549,
          null,
          362.1762607455035,
          5087.140591153802,
          null,
          279.3560886770523,
          962.089742543044,
          250.8752278285737,
          367.3717071192835,
          126.09621737729474,
          1694.4132225779845,
          309.52244150172726,
          314.29570140702594,
          340.99992093915785,
          216.05248678791875,
          94.91691447932293,
          72.35837365082176,
          20.51407930210364,
          null,
          55.273253366965015,
          null,
          15.024188990211414,
          81.57844483489943,
          50.854809093534655,
          53.90952475677659,
          34.52354708283394,
          182.26899019165165,
          22.50175025009793,
          34.33484655055181
         ],
         "y0": " ",
         "yaxis": "y"
        }
       ],
       "layout": {
        "boxmode": "group",
        "legend": {
         "tracegroupgap": 0
        },
        "margin": {
         "t": 60
        },
        "template": {
         "data": {
          "bar": [
           {
            "error_x": {
             "color": "#2a3f5f"
            },
            "error_y": {
             "color": "#2a3f5f"
            },
            "marker": {
             "line": {
              "color": "#E5ECF6",
              "width": 0.5
             },
             "pattern": {
              "fillmode": "overlay",
              "size": 10,
              "solidity": 0.2
             }
            },
            "type": "bar"
           }
          ],
          "barpolar": [
           {
            "marker": {
             "line": {
              "color": "#E5ECF6",
              "width": 0.5
             },
             "pattern": {
              "fillmode": "overlay",
              "size": 10,
              "solidity": 0.2
             }
            },
            "type": "barpolar"
           }
          ],
          "carpet": [
           {
            "aaxis": {
             "endlinecolor": "#2a3f5f",
             "gridcolor": "white",
             "linecolor": "white",
             "minorgridcolor": "white",
             "startlinecolor": "#2a3f5f"
            },
            "baxis": {
             "endlinecolor": "#2a3f5f",
             "gridcolor": "white",
             "linecolor": "white",
             "minorgridcolor": "white",
             "startlinecolor": "#2a3f5f"
            },
            "type": "carpet"
           }
          ],
          "choropleth": [
           {
            "colorbar": {
             "outlinewidth": 0,
             "ticks": ""
            },
            "type": "choropleth"
           }
          ],
          "contour": [
           {
            "colorbar": {
             "outlinewidth": 0,
             "ticks": ""
            },
            "colorscale": [
             [
              0,
              "#0d0887"
             ],
             [
              0.1111111111111111,
              "#46039f"
             ],
             [
              0.2222222222222222,
              "#7201a8"
             ],
             [
              0.3333333333333333,
              "#9c179e"
             ],
             [
              0.4444444444444444,
              "#bd3786"
             ],
             [
              0.5555555555555556,
              "#d8576b"
             ],
             [
              0.6666666666666666,
              "#ed7953"
             ],
             [
              0.7777777777777778,
              "#fb9f3a"
             ],
             [
              0.8888888888888888,
              "#fdca26"
             ],
             [
              1,
              "#f0f921"
             ]
            ],
            "type": "contour"
           }
          ],
          "contourcarpet": [
           {
            "colorbar": {
             "outlinewidth": 0,
             "ticks": ""
            },
            "type": "contourcarpet"
           }
          ],
          "heatmap": [
           {
            "colorbar": {
             "outlinewidth": 0,
             "ticks": ""
            },
            "colorscale": [
             [
              0,
              "#0d0887"
             ],
             [
              0.1111111111111111,
              "#46039f"
             ],
             [
              0.2222222222222222,
              "#7201a8"
             ],
             [
              0.3333333333333333,
              "#9c179e"
             ],
             [
              0.4444444444444444,
              "#bd3786"
             ],
             [
              0.5555555555555556,
              "#d8576b"
             ],
             [
              0.6666666666666666,
              "#ed7953"
             ],
             [
              0.7777777777777778,
              "#fb9f3a"
             ],
             [
              0.8888888888888888,
              "#fdca26"
             ],
             [
              1,
              "#f0f921"
             ]
            ],
            "type": "heatmap"
           }
          ],
          "heatmapgl": [
           {
            "colorbar": {
             "outlinewidth": 0,
             "ticks": ""
            },
            "colorscale": [
             [
              0,
              "#0d0887"
             ],
             [
              0.1111111111111111,
              "#46039f"
             ],
             [
              0.2222222222222222,
              "#7201a8"
             ],
             [
              0.3333333333333333,
              "#9c179e"
             ],
             [
              0.4444444444444444,
              "#bd3786"
             ],
             [
              0.5555555555555556,
              "#d8576b"
             ],
             [
              0.6666666666666666,
              "#ed7953"
             ],
             [
              0.7777777777777778,
              "#fb9f3a"
             ],
             [
              0.8888888888888888,
              "#fdca26"
             ],
             [
              1,
              "#f0f921"
             ]
            ],
            "type": "heatmapgl"
           }
          ],
          "histogram": [
           {
            "marker": {
             "pattern": {
              "fillmode": "overlay",
              "size": 10,
              "solidity": 0.2
             }
            },
            "type": "histogram"
           }
          ],
          "histogram2d": [
           {
            "colorbar": {
             "outlinewidth": 0,
             "ticks": ""
            },
            "colorscale": [
             [
              0,
              "#0d0887"
             ],
             [
              0.1111111111111111,
              "#46039f"
             ],
             [
              0.2222222222222222,
              "#7201a8"
             ],
             [
              0.3333333333333333,
              "#9c179e"
             ],
             [
              0.4444444444444444,
              "#bd3786"
             ],
             [
              0.5555555555555556,
              "#d8576b"
             ],
             [
              0.6666666666666666,
              "#ed7953"
             ],
             [
              0.7777777777777778,
              "#fb9f3a"
             ],
             [
              0.8888888888888888,
              "#fdca26"
             ],
             [
              1,
              "#f0f921"
             ]
            ],
            "type": "histogram2d"
           }
          ],
          "histogram2dcontour": [
           {
            "colorbar": {
             "outlinewidth": 0,
             "ticks": ""
            },
            "colorscale": [
             [
              0,
              "#0d0887"
             ],
             [
              0.1111111111111111,
              "#46039f"
             ],
             [
              0.2222222222222222,
              "#7201a8"
             ],
             [
              0.3333333333333333,
              "#9c179e"
             ],
             [
              0.4444444444444444,
              "#bd3786"
             ],
             [
              0.5555555555555556,
              "#d8576b"
             ],
             [
              0.6666666666666666,
              "#ed7953"
             ],
             [
              0.7777777777777778,
              "#fb9f3a"
             ],
             [
              0.8888888888888888,
              "#fdca26"
             ],
             [
              1,
              "#f0f921"
             ]
            ],
            "type": "histogram2dcontour"
           }
          ],
          "mesh3d": [
           {
            "colorbar": {
             "outlinewidth": 0,
             "ticks": ""
            },
            "type": "mesh3d"
           }
          ],
          "parcoords": [
           {
            "line": {
             "colorbar": {
              "outlinewidth": 0,
              "ticks": ""
             }
            },
            "type": "parcoords"
           }
          ],
          "pie": [
           {
            "automargin": true,
            "type": "pie"
           }
          ],
          "scatter": [
           {
            "marker": {
             "colorbar": {
              "outlinewidth": 0,
              "ticks": ""
             }
            },
            "type": "scatter"
           }
          ],
          "scatter3d": [
           {
            "line": {
             "colorbar": {
              "outlinewidth": 0,
              "ticks": ""
             }
            },
            "marker": {
             "colorbar": {
              "outlinewidth": 0,
              "ticks": ""
             }
            },
            "type": "scatter3d"
           }
          ],
          "scattercarpet": [
           {
            "marker": {
             "colorbar": {
              "outlinewidth": 0,
              "ticks": ""
             }
            },
            "type": "scattercarpet"
           }
          ],
          "scattergeo": [
           {
            "marker": {
             "colorbar": {
              "outlinewidth": 0,
              "ticks": ""
             }
            },
            "type": "scattergeo"
           }
          ],
          "scattergl": [
           {
            "marker": {
             "colorbar": {
              "outlinewidth": 0,
              "ticks": ""
             }
            },
            "type": "scattergl"
           }
          ],
          "scattermapbox": [
           {
            "marker": {
             "colorbar": {
              "outlinewidth": 0,
              "ticks": ""
             }
            },
            "type": "scattermapbox"
           }
          ],
          "scatterpolar": [
           {
            "marker": {
             "colorbar": {
              "outlinewidth": 0,
              "ticks": ""
             }
            },
            "type": "scatterpolar"
           }
          ],
          "scatterpolargl": [
           {
            "marker": {
             "colorbar": {
              "outlinewidth": 0,
              "ticks": ""
             }
            },
            "type": "scatterpolargl"
           }
          ],
          "scatterternary": [
           {
            "marker": {
             "colorbar": {
              "outlinewidth": 0,
              "ticks": ""
             }
            },
            "type": "scatterternary"
           }
          ],
          "surface": [
           {
            "colorbar": {
             "outlinewidth": 0,
             "ticks": ""
            },
            "colorscale": [
             [
              0,
              "#0d0887"
             ],
             [
              0.1111111111111111,
              "#46039f"
             ],
             [
              0.2222222222222222,
              "#7201a8"
             ],
             [
              0.3333333333333333,
              "#9c179e"
             ],
             [
              0.4444444444444444,
              "#bd3786"
             ],
             [
              0.5555555555555556,
              "#d8576b"
             ],
             [
              0.6666666666666666,
              "#ed7953"
             ],
             [
              0.7777777777777778,
              "#fb9f3a"
             ],
             [
              0.8888888888888888,
              "#fdca26"
             ],
             [
              1,
              "#f0f921"
             ]
            ],
            "type": "surface"
           }
          ],
          "table": [
           {
            "cells": {
             "fill": {
              "color": "#EBF0F8"
             },
             "line": {
              "color": "white"
             }
            },
            "header": {
             "fill": {
              "color": "#C8D4E3"
             },
             "line": {
              "color": "white"
             }
            },
            "type": "table"
           }
          ]
         },
         "layout": {
          "annotationdefaults": {
           "arrowcolor": "#2a3f5f",
           "arrowhead": 0,
           "arrowwidth": 1
          },
          "autotypenumbers": "strict",
          "coloraxis": {
           "colorbar": {
            "outlinewidth": 0,
            "ticks": ""
           }
          },
          "colorscale": {
           "diverging": [
            [
             0,
             "#8e0152"
            ],
            [
             0.1,
             "#c51b7d"
            ],
            [
             0.2,
             "#de77ae"
            ],
            [
             0.3,
             "#f1b6da"
            ],
            [
             0.4,
             "#fde0ef"
            ],
            [
             0.5,
             "#f7f7f7"
            ],
            [
             0.6,
             "#e6f5d0"
            ],
            [
             0.7,
             "#b8e186"
            ],
            [
             0.8,
             "#7fbc41"
            ],
            [
             0.9,
             "#4d9221"
            ],
            [
             1,
             "#276419"
            ]
           ],
           "sequential": [
            [
             0,
             "#0d0887"
            ],
            [
             0.1111111111111111,
             "#46039f"
            ],
            [
             0.2222222222222222,
             "#7201a8"
            ],
            [
             0.3333333333333333,
             "#9c179e"
            ],
            [
             0.4444444444444444,
             "#bd3786"
            ],
            [
             0.5555555555555556,
             "#d8576b"
            ],
            [
             0.6666666666666666,
             "#ed7953"
            ],
            [
             0.7777777777777778,
             "#fb9f3a"
            ],
            [
             0.8888888888888888,
             "#fdca26"
            ],
            [
             1,
             "#f0f921"
            ]
           ],
           "sequentialminus": [
            [
             0,
             "#0d0887"
            ],
            [
             0.1111111111111111,
             "#46039f"
            ],
            [
             0.2222222222222222,
             "#7201a8"
            ],
            [
             0.3333333333333333,
             "#9c179e"
            ],
            [
             0.4444444444444444,
             "#bd3786"
            ],
            [
             0.5555555555555556,
             "#d8576b"
            ],
            [
             0.6666666666666666,
             "#ed7953"
            ],
            [
             0.7777777777777778,
             "#fb9f3a"
            ],
            [
             0.8888888888888888,
             "#fdca26"
            ],
            [
             1,
             "#f0f921"
            ]
           ]
          },
          "colorway": [
           "#636efa",
           "#EF553B",
           "#00cc96",
           "#ab63fa",
           "#FFA15A",
           "#19d3f3",
           "#FF6692",
           "#B6E880",
           "#FF97FF",
           "#FECB52"
          ],
          "font": {
           "color": "#2a3f5f"
          },
          "geo": {
           "bgcolor": "white",
           "lakecolor": "white",
           "landcolor": "#E5ECF6",
           "showlakes": true,
           "showland": true,
           "subunitcolor": "white"
          },
          "hoverlabel": {
           "align": "left"
          },
          "hovermode": "closest",
          "mapbox": {
           "style": "light"
          },
          "paper_bgcolor": "white",
          "plot_bgcolor": "#E5ECF6",
          "polar": {
           "angularaxis": {
            "gridcolor": "white",
            "linecolor": "white",
            "ticks": ""
           },
           "bgcolor": "#E5ECF6",
           "radialaxis": {
            "gridcolor": "white",
            "linecolor": "white",
            "ticks": ""
           }
          },
          "scene": {
           "xaxis": {
            "backgroundcolor": "#E5ECF6",
            "gridcolor": "white",
            "gridwidth": 2,
            "linecolor": "white",
            "showbackground": true,
            "ticks": "",
            "zerolinecolor": "white"
           },
           "yaxis": {
            "backgroundcolor": "#E5ECF6",
            "gridcolor": "white",
            "gridwidth": 2,
            "linecolor": "white",
            "showbackground": true,
            "ticks": "",
            "zerolinecolor": "white"
           },
           "zaxis": {
            "backgroundcolor": "#E5ECF6",
            "gridcolor": "white",
            "gridwidth": 2,
            "linecolor": "white",
            "showbackground": true,
            "ticks": "",
            "zerolinecolor": "white"
           }
          },
          "shapedefaults": {
           "line": {
            "color": "#2a3f5f"
           }
          },
          "ternary": {
           "aaxis": {
            "gridcolor": "white",
            "linecolor": "white",
            "ticks": ""
           },
           "baxis": {
            "gridcolor": "white",
            "linecolor": "white",
            "ticks": ""
           },
           "bgcolor": "#E5ECF6",
           "caxis": {
            "gridcolor": "white",
            "linecolor": "white",
            "ticks": ""
           }
          },
          "title": {
           "x": 0.05
          },
          "xaxis": {
           "automargin": true,
           "gridcolor": "white",
           "linecolor": "white",
           "ticks": "",
           "title": {
            "standoff": 15
           },
           "zerolinecolor": "white",
           "zerolinewidth": 2
          },
          "yaxis": {
           "automargin": true,
           "gridcolor": "white",
           "linecolor": "white",
           "ticks": "",
           "title": {
            "standoff": 15
           },
           "zerolinecolor": "white",
           "zerolinewidth": 2
          }
         }
        },
        "xaxis": {
         "anchor": "y",
         "categoryarray": [
          "July_2020",
          "August_2020",
          "September_2020",
          "November_2020",
          "December_2020",
          "January_2021",
          "February_2021",
          "April_2021",
          "May_2021",
          "June_2021",
          "July_2021"
         ],
         "categoryorder": "array",
         "domain": [
          0,
          1
         ],
         "title": {
          "text": "month"
         }
        },
        "yaxis": {
         "anchor": "x",
         "domain": [
          0,
          1
         ],
         "title": {
          "text": "average_cells_L"
         }
        }
       }
      }
     },
     "metadata": {},
     "output_type": "display_data"
    }
   ],
   "source": [
    "# Plot the biomass over time\n",
    "fig = px.box(plot_data,\n",
    "                   x = \"month\",\n",
    "                   y='average_cells_L',\n",
    "                   category_orders={'month': [\"July_2020\", \"August_2020\", \"September_2020\", \"November_2020\", \n",
    "                \"December_2020\", \"January_2021\", \"February_2021\", \"April_2021\", \n",
    "                \"May_2021\", \"June_2021\", \"July_2021\"]},)\n",
    "\n",
    "fig.show()\n",
    "\n",
    "# Save the plot\n",
    "fig.write_image(\"../../figures/biodiversity_functional_diversity/biomass_per_month.svg\", width = 3.5, height = 2, scale=1, format='svg')\n"
   ]
  },
  {
   "cell_type": "code",
   "execution_count": 109,
   "metadata": {},
   "outputs": [
    {
     "name": "stdout",
     "output_type": "stream",
     "text": [
      "Linear regression results:\n",
      "Slope: 0.05, Intercept: 1.87, R-squared: 0.43, P-value: 0.0000, Standard error: 0.01\n",
      "\n",
      "Correlation coefficient: 0.65, P-value: 0.0000\n",
      "\n",
      "Descriptive statistics:\n",
      "Mean number of taxonomic_bins: 15.02, Standard deviation: 6.54, Range: 4-27\n",
      "Mean number of KO identifiers: 2.59, Standard deviation: 0.48, Range: 1.24254584723977-3.32562183093256\n"
     ]
    },
    {
     "data": {
      "application/vnd.plotly.v1+json": {
       "config": {
        "plotlyServerURL": "https://plot.ly"
       },
       "data": [
        {
         "hovertemplate": "month=January_2021<br>taxonomic_bins=%{x}<br>shannon=%{y}<extra></extra>",
         "legendgroup": "January_2021",
         "marker": {
          "color": "#636efa",
          "symbol": "circle"
         },
         "mode": "markers",
         "name": "January_2021",
         "orientation": "v",
         "showlegend": true,
         "type": "scatter",
         "x": [
          19,
          16,
          7,
          15,
          17
         ],
         "xaxis": "x",
         "y": [
          3.13644218438686,
          2.50880361581573,
          2.74835897496735,
          2.86117288016664,
          2.96373357191014
         ],
         "yaxis": "y"
        },
        {
         "hovertemplate": "month=February_2021<br>taxonomic_bins=%{x}<br>shannon=%{y}<extra></extra>",
         "legendgroup": "February_2021",
         "marker": {
          "color": "#EF553B",
          "symbol": "circle"
         },
         "mode": "markers",
         "name": "February_2021",
         "orientation": "v",
         "showlegend": true,
         "type": "scatter",
         "x": [
          21,
          25,
          20,
          14,
          23
         ],
         "xaxis": "x",
         "y": [
          3.08468420400599,
          3.12394003516751,
          3.04611601209074,
          2.47544389769663,
          2.94896594165423
         ],
         "yaxis": "y"
        },
        {
         "hovertemplate": "month=April_2021<br>taxonomic_bins=%{x}<br>shannon=%{y}<extra></extra>",
         "legendgroup": "April_2021",
         "marker": {
          "color": "#00cc96",
          "symbol": "circle"
         },
         "mode": "markers",
         "name": "April_2021",
         "orientation": "v",
         "showlegend": true,
         "type": "scatter",
         "x": [
          16,
          9,
          9,
          11
         ],
         "xaxis": "x",
         "y": [
          2.91582688860412,
          1.71217664822923,
          1.97113883684174,
          2.03681728174958
         ],
         "yaxis": "y"
        },
        {
         "hovertemplate": "month=May_2021<br>taxonomic_bins=%{x}<br>shannon=%{y}<extra></extra>",
         "legendgroup": "May_2021",
         "marker": {
          "color": "#ab63fa",
          "symbol": "circle"
         },
         "mode": "markers",
         "name": "May_2021",
         "orientation": "v",
         "showlegend": true,
         "type": "scatter",
         "x": [
          6,
          6,
          8,
          13,
          9,
          9
         ],
         "xaxis": "x",
         "y": [
          1.83235862775987,
          2.15711561711732,
          2.14411753983142,
          1.95311057288629,
          2.17636867743297,
          2.14639288144898
         ],
         "yaxis": "y"
        },
        {
         "hovertemplate": "month=June_2021<br>taxonomic_bins=%{x}<br>shannon=%{y}<extra></extra>",
         "legendgroup": "June_2021",
         "marker": {
          "color": "#FFA15A",
          "symbol": "circle"
         },
         "mode": "markers",
         "name": "June_2021",
         "orientation": "v",
         "showlegend": true,
         "type": "scatter",
         "x": [
          10,
          16,
          9,
          11,
          6,
          10
         ],
         "xaxis": "x",
         "y": [
          2.65590491718798,
          1.88182037497309,
          2.66212858318155,
          2.95114618067915,
          2.82298075556744,
          2.63120521687779
         ],
         "yaxis": "y"
        },
        {
         "hovertemplate": "month=July_2021<br>taxonomic_bins=%{x}<br>shannon=%{y}<extra></extra>",
         "legendgroup": "July_2021",
         "marker": {
          "color": "#19d3f3",
          "symbol": "circle"
         },
         "mode": "markers",
         "name": "July_2021",
         "orientation": "v",
         "showlegend": true,
         "type": "scatter",
         "x": [
          19,
          13,
          4,
          24,
          6,
          6
         ],
         "xaxis": "x",
         "y": [
          2.34396391314093,
          2.79108028115614,
          1.8230466491102,
          2.89939420361554,
          1.74129848526439,
          2.7681499137582
         ],
         "yaxis": "y"
        },
        {
         "hovertemplate": "month=July_2020<br>taxonomic_bins=%{x}<br>shannon=%{y}<extra></extra>",
         "legendgroup": "July_2020",
         "marker": {
          "color": "#FF6692",
          "symbol": "circle"
         },
         "mode": "markers",
         "name": "July_2020",
         "orientation": "v",
         "showlegend": true,
         "type": "scatter",
         "x": [
          12,
          17,
          5,
          4,
          7,
          8
         ],
         "xaxis": "x",
         "y": [
          2.58387466223258,
          2.04461857030752,
          2.7184341232693,
          1.24254584723977,
          2.65092705081485,
          2.24349496561217
         ],
         "yaxis": "y"
        },
        {
         "hovertemplate": "month=August_2020<br>taxonomic_bins=%{x}<br>shannon=%{y}<extra></extra>",
         "legendgroup": "August_2020",
         "marker": {
          "color": "#B6E880",
          "symbol": "circle"
         },
         "mode": "markers",
         "name": "August_2020",
         "orientation": "v",
         "showlegend": true,
         "type": "scatter",
         "x": [
          11,
          13,
          13,
          13,
          13,
          14
         ],
         "xaxis": "x",
         "y": [
          2.6393721856316,
          1.93058868346723,
          2.43673753218495,
          2.07042418373048,
          2.20738885452961,
          2.58604242100867
         ],
         "yaxis": "y"
        },
        {
         "hovertemplate": "month=September_2020<br>taxonomic_bins=%{x}<br>shannon=%{y}<extra></extra>",
         "legendgroup": "September_2020",
         "marker": {
          "color": "#FF97FF",
          "symbol": "circle"
         },
         "mode": "markers",
         "name": "September_2020",
         "orientation": "v",
         "showlegend": true,
         "type": "scatter",
         "x": [
          26,
          23,
          23,
          26,
          21,
          23
         ],
         "xaxis": "x",
         "y": [
          3.1859962335379,
          2.87989642360439,
          3.06092537390113,
          2.8800049100623,
          2.9521036110783,
          2.71085636192051
         ],
         "yaxis": "y"
        },
        {
         "hovertemplate": "month=November_2020<br>taxonomic_bins=%{x}<br>shannon=%{y}<extra></extra>",
         "legendgroup": "November_2020",
         "marker": {
          "color": "#FECB52",
          "symbol": "circle"
         },
         "mode": "markers",
         "name": "November_2020",
         "orientation": "v",
         "showlegend": true,
         "type": "scatter",
         "x": [
          18,
          23,
          22,
          17,
          15,
          20
         ],
         "xaxis": "x",
         "y": [
          1.98234148148097,
          2.92974271929586,
          3.21321510808402,
          3.00774203874856,
          2.92790754974854,
          2.71066360335426
         ],
         "yaxis": "y"
        },
        {
         "hovertemplate": "month=December_2020<br>taxonomic_bins=%{x}<br>shannon=%{y}<extra></extra>",
         "legendgroup": "December_2020",
         "marker": {
          "color": "#636efa",
          "symbol": "circle"
         },
         "mode": "markers",
         "name": "December_2020",
         "orientation": "v",
         "showlegend": true,
         "type": "scatter",
         "x": [
          23,
          27,
          23,
          22,
          21,
          21
         ],
         "xaxis": "x",
         "y": [
          3.20963220873414,
          3.07075887641552,
          3.32562183093256,
          2.76077289287923,
          3.29971780020393,
          3.14932659254495
         ],
         "yaxis": "y"
        },
        {
         "line": {
          "color": "black",
          "width": 1
         },
         "mode": "lines",
         "type": "scatter",
         "x": [
          19,
          16,
          7,
          15,
          17,
          21,
          25,
          20,
          14,
          23,
          16,
          9,
          9,
          11,
          6,
          6,
          8,
          13,
          9,
          9,
          10,
          16,
          9,
          11,
          6,
          10,
          19,
          13,
          4,
          24,
          6,
          6,
          12,
          17,
          5,
          4,
          7,
          8,
          11,
          13,
          13,
          13,
          13,
          14,
          26,
          23,
          23,
          26,
          21,
          23,
          18,
          23,
          22,
          17,
          15,
          20,
          23,
          27,
          23,
          22,
          21,
          21
         ],
         "y": [
          2.7791079134557375,
          2.6360575704586826,
          2.2069065414675184,
          2.588374122792998,
          2.6837410181243677,
          2.8744748087871073,
          3.0652085994498472,
          2.8267913611214226,
          2.540690675127313,
          2.969841704118477,
          2.6360575704586826,
          2.302273436798888,
          2.302273436798888,
          2.397640332130258,
          2.1592230938018337,
          2.1592230938018337,
          2.2545899891332035,
          2.4930072274616277,
          2.302273436798888,
          2.302273436798888,
          2.3499568844645733,
          2.6360575704586826,
          2.302273436798888,
          2.397640332130258,
          2.1592230938018337,
          2.3499568844645733,
          2.7791079134557375,
          2.4930072274616277,
          2.0638561984704635,
          3.017525151784162,
          2.1592230938018337,
          2.1592230938018337,
          2.445323779795943,
          2.6837410181243677,
          2.1115396461361486,
          2.0638561984704635,
          2.2069065414675184,
          2.2545899891332035,
          2.397640332130258,
          2.4930072274616277,
          2.4930072274616277,
          2.4930072274616277,
          2.4930072274616277,
          2.540690675127313,
          3.112892047115532,
          2.969841704118477,
          2.969841704118477,
          3.112892047115532,
          2.8744748087871073,
          2.969841704118477,
          2.7314244657900524,
          2.969841704118477,
          2.922158256452792,
          2.6837410181243677,
          2.588374122792998,
          2.8267913611214226,
          2.969841704118477,
          3.1605754947812166,
          2.969841704118477,
          2.922158256452792,
          2.8744748087871073,
          2.8744748087871073
         ]
        }
       ],
       "layout": {
        "font": {
         "family": "Times New Roman",
         "size": 8
        },
        "height": 600,
        "legend": {
         "title": {
          "text": "month"
         },
         "tracegroupgap": 0
        },
        "margin": {
         "t": 60
        },
        "template": {
         "data": {
          "bar": [
           {
            "error_x": {
             "color": "#2a3f5f"
            },
            "error_y": {
             "color": "#2a3f5f"
            },
            "marker": {
             "line": {
              "color": "#E5ECF6",
              "width": 0.5
             },
             "pattern": {
              "fillmode": "overlay",
              "size": 10,
              "solidity": 0.2
             }
            },
            "type": "bar"
           }
          ],
          "barpolar": [
           {
            "marker": {
             "line": {
              "color": "#E5ECF6",
              "width": 0.5
             },
             "pattern": {
              "fillmode": "overlay",
              "size": 10,
              "solidity": 0.2
             }
            },
            "type": "barpolar"
           }
          ],
          "carpet": [
           {
            "aaxis": {
             "endlinecolor": "#2a3f5f",
             "gridcolor": "white",
             "linecolor": "white",
             "minorgridcolor": "white",
             "startlinecolor": "#2a3f5f"
            },
            "baxis": {
             "endlinecolor": "#2a3f5f",
             "gridcolor": "white",
             "linecolor": "white",
             "minorgridcolor": "white",
             "startlinecolor": "#2a3f5f"
            },
            "type": "carpet"
           }
          ],
          "choropleth": [
           {
            "colorbar": {
             "outlinewidth": 0,
             "ticks": ""
            },
            "type": "choropleth"
           }
          ],
          "contour": [
           {
            "colorbar": {
             "outlinewidth": 0,
             "ticks": ""
            },
            "colorscale": [
             [
              0,
              "#0d0887"
             ],
             [
              0.1111111111111111,
              "#46039f"
             ],
             [
              0.2222222222222222,
              "#7201a8"
             ],
             [
              0.3333333333333333,
              "#9c179e"
             ],
             [
              0.4444444444444444,
              "#bd3786"
             ],
             [
              0.5555555555555556,
              "#d8576b"
             ],
             [
              0.6666666666666666,
              "#ed7953"
             ],
             [
              0.7777777777777778,
              "#fb9f3a"
             ],
             [
              0.8888888888888888,
              "#fdca26"
             ],
             [
              1,
              "#f0f921"
             ]
            ],
            "type": "contour"
           }
          ],
          "contourcarpet": [
           {
            "colorbar": {
             "outlinewidth": 0,
             "ticks": ""
            },
            "type": "contourcarpet"
           }
          ],
          "heatmap": [
           {
            "colorbar": {
             "outlinewidth": 0,
             "ticks": ""
            },
            "colorscale": [
             [
              0,
              "#0d0887"
             ],
             [
              0.1111111111111111,
              "#46039f"
             ],
             [
              0.2222222222222222,
              "#7201a8"
             ],
             [
              0.3333333333333333,
              "#9c179e"
             ],
             [
              0.4444444444444444,
              "#bd3786"
             ],
             [
              0.5555555555555556,
              "#d8576b"
             ],
             [
              0.6666666666666666,
              "#ed7953"
             ],
             [
              0.7777777777777778,
              "#fb9f3a"
             ],
             [
              0.8888888888888888,
              "#fdca26"
             ],
             [
              1,
              "#f0f921"
             ]
            ],
            "type": "heatmap"
           }
          ],
          "heatmapgl": [
           {
            "colorbar": {
             "outlinewidth": 0,
             "ticks": ""
            },
            "colorscale": [
             [
              0,
              "#0d0887"
             ],
             [
              0.1111111111111111,
              "#46039f"
             ],
             [
              0.2222222222222222,
              "#7201a8"
             ],
             [
              0.3333333333333333,
              "#9c179e"
             ],
             [
              0.4444444444444444,
              "#bd3786"
             ],
             [
              0.5555555555555556,
              "#d8576b"
             ],
             [
              0.6666666666666666,
              "#ed7953"
             ],
             [
              0.7777777777777778,
              "#fb9f3a"
             ],
             [
              0.8888888888888888,
              "#fdca26"
             ],
             [
              1,
              "#f0f921"
             ]
            ],
            "type": "heatmapgl"
           }
          ],
          "histogram": [
           {
            "marker": {
             "pattern": {
              "fillmode": "overlay",
              "size": 10,
              "solidity": 0.2
             }
            },
            "type": "histogram"
           }
          ],
          "histogram2d": [
           {
            "colorbar": {
             "outlinewidth": 0,
             "ticks": ""
            },
            "colorscale": [
             [
              0,
              "#0d0887"
             ],
             [
              0.1111111111111111,
              "#46039f"
             ],
             [
              0.2222222222222222,
              "#7201a8"
             ],
             [
              0.3333333333333333,
              "#9c179e"
             ],
             [
              0.4444444444444444,
              "#bd3786"
             ],
             [
              0.5555555555555556,
              "#d8576b"
             ],
             [
              0.6666666666666666,
              "#ed7953"
             ],
             [
              0.7777777777777778,
              "#fb9f3a"
             ],
             [
              0.8888888888888888,
              "#fdca26"
             ],
             [
              1,
              "#f0f921"
             ]
            ],
            "type": "histogram2d"
           }
          ],
          "histogram2dcontour": [
           {
            "colorbar": {
             "outlinewidth": 0,
             "ticks": ""
            },
            "colorscale": [
             [
              0,
              "#0d0887"
             ],
             [
              0.1111111111111111,
              "#46039f"
             ],
             [
              0.2222222222222222,
              "#7201a8"
             ],
             [
              0.3333333333333333,
              "#9c179e"
             ],
             [
              0.4444444444444444,
              "#bd3786"
             ],
             [
              0.5555555555555556,
              "#d8576b"
             ],
             [
              0.6666666666666666,
              "#ed7953"
             ],
             [
              0.7777777777777778,
              "#fb9f3a"
             ],
             [
              0.8888888888888888,
              "#fdca26"
             ],
             [
              1,
              "#f0f921"
             ]
            ],
            "type": "histogram2dcontour"
           }
          ],
          "mesh3d": [
           {
            "colorbar": {
             "outlinewidth": 0,
             "ticks": ""
            },
            "type": "mesh3d"
           }
          ],
          "parcoords": [
           {
            "line": {
             "colorbar": {
              "outlinewidth": 0,
              "ticks": ""
             }
            },
            "type": "parcoords"
           }
          ],
          "pie": [
           {
            "automargin": true,
            "type": "pie"
           }
          ],
          "scatter": [
           {
            "marker": {
             "colorbar": {
              "outlinewidth": 0,
              "ticks": ""
             }
            },
            "type": "scatter"
           }
          ],
          "scatter3d": [
           {
            "line": {
             "colorbar": {
              "outlinewidth": 0,
              "ticks": ""
             }
            },
            "marker": {
             "colorbar": {
              "outlinewidth": 0,
              "ticks": ""
             }
            },
            "type": "scatter3d"
           }
          ],
          "scattercarpet": [
           {
            "marker": {
             "colorbar": {
              "outlinewidth": 0,
              "ticks": ""
             }
            },
            "type": "scattercarpet"
           }
          ],
          "scattergeo": [
           {
            "marker": {
             "colorbar": {
              "outlinewidth": 0,
              "ticks": ""
             }
            },
            "type": "scattergeo"
           }
          ],
          "scattergl": [
           {
            "marker": {
             "colorbar": {
              "outlinewidth": 0,
              "ticks": ""
             }
            },
            "type": "scattergl"
           }
          ],
          "scattermapbox": [
           {
            "marker": {
             "colorbar": {
              "outlinewidth": 0,
              "ticks": ""
             }
            },
            "type": "scattermapbox"
           }
          ],
          "scatterpolar": [
           {
            "marker": {
             "colorbar": {
              "outlinewidth": 0,
              "ticks": ""
             }
            },
            "type": "scatterpolar"
           }
          ],
          "scatterpolargl": [
           {
            "marker": {
             "colorbar": {
              "outlinewidth": 0,
              "ticks": ""
             }
            },
            "type": "scatterpolargl"
           }
          ],
          "scatterternary": [
           {
            "marker": {
             "colorbar": {
              "outlinewidth": 0,
              "ticks": ""
             }
            },
            "type": "scatterternary"
           }
          ],
          "surface": [
           {
            "colorbar": {
             "outlinewidth": 0,
             "ticks": ""
            },
            "colorscale": [
             [
              0,
              "#0d0887"
             ],
             [
              0.1111111111111111,
              "#46039f"
             ],
             [
              0.2222222222222222,
              "#7201a8"
             ],
             [
              0.3333333333333333,
              "#9c179e"
             ],
             [
              0.4444444444444444,
              "#bd3786"
             ],
             [
              0.5555555555555556,
              "#d8576b"
             ],
             [
              0.6666666666666666,
              "#ed7953"
             ],
             [
              0.7777777777777778,
              "#fb9f3a"
             ],
             [
              0.8888888888888888,
              "#fdca26"
             ],
             [
              1,
              "#f0f921"
             ]
            ],
            "type": "surface"
           }
          ],
          "table": [
           {
            "cells": {
             "fill": {
              "color": "#EBF0F8"
             },
             "line": {
              "color": "white"
             }
            },
            "header": {
             "fill": {
              "color": "#C8D4E3"
             },
             "line": {
              "color": "white"
             }
            },
            "type": "table"
           }
          ]
         },
         "layout": {
          "annotationdefaults": {
           "arrowcolor": "#2a3f5f",
           "arrowhead": 0,
           "arrowwidth": 1
          },
          "autotypenumbers": "strict",
          "coloraxis": {
           "colorbar": {
            "outlinewidth": 0,
            "ticks": ""
           }
          },
          "colorscale": {
           "diverging": [
            [
             0,
             "#8e0152"
            ],
            [
             0.1,
             "#c51b7d"
            ],
            [
             0.2,
             "#de77ae"
            ],
            [
             0.3,
             "#f1b6da"
            ],
            [
             0.4,
             "#fde0ef"
            ],
            [
             0.5,
             "#f7f7f7"
            ],
            [
             0.6,
             "#e6f5d0"
            ],
            [
             0.7,
             "#b8e186"
            ],
            [
             0.8,
             "#7fbc41"
            ],
            [
             0.9,
             "#4d9221"
            ],
            [
             1,
             "#276419"
            ]
           ],
           "sequential": [
            [
             0,
             "#0d0887"
            ],
            [
             0.1111111111111111,
             "#46039f"
            ],
            [
             0.2222222222222222,
             "#7201a8"
            ],
            [
             0.3333333333333333,
             "#9c179e"
            ],
            [
             0.4444444444444444,
             "#bd3786"
            ],
            [
             0.5555555555555556,
             "#d8576b"
            ],
            [
             0.6666666666666666,
             "#ed7953"
            ],
            [
             0.7777777777777778,
             "#fb9f3a"
            ],
            [
             0.8888888888888888,
             "#fdca26"
            ],
            [
             1,
             "#f0f921"
            ]
           ],
           "sequentialminus": [
            [
             0,
             "#0d0887"
            ],
            [
             0.1111111111111111,
             "#46039f"
            ],
            [
             0.2222222222222222,
             "#7201a8"
            ],
            [
             0.3333333333333333,
             "#9c179e"
            ],
            [
             0.4444444444444444,
             "#bd3786"
            ],
            [
             0.5555555555555556,
             "#d8576b"
            ],
            [
             0.6666666666666666,
             "#ed7953"
            ],
            [
             0.7777777777777778,
             "#fb9f3a"
            ],
            [
             0.8888888888888888,
             "#fdca26"
            ],
            [
             1,
             "#f0f921"
            ]
           ]
          },
          "colorway": [
           "#636efa",
           "#EF553B",
           "#00cc96",
           "#ab63fa",
           "#FFA15A",
           "#19d3f3",
           "#FF6692",
           "#B6E880",
           "#FF97FF",
           "#FECB52"
          ],
          "font": {
           "color": "#2a3f5f"
          },
          "geo": {
           "bgcolor": "white",
           "lakecolor": "white",
           "landcolor": "#E5ECF6",
           "showlakes": true,
           "showland": true,
           "subunitcolor": "white"
          },
          "hoverlabel": {
           "align": "left"
          },
          "hovermode": "closest",
          "mapbox": {
           "style": "light"
          },
          "paper_bgcolor": "white",
          "plot_bgcolor": "#E5ECF6",
          "polar": {
           "angularaxis": {
            "gridcolor": "white",
            "linecolor": "white",
            "ticks": ""
           },
           "bgcolor": "#E5ECF6",
           "radialaxis": {
            "gridcolor": "white",
            "linecolor": "white",
            "ticks": ""
           }
          },
          "scene": {
           "xaxis": {
            "backgroundcolor": "#E5ECF6",
            "gridcolor": "white",
            "gridwidth": 2,
            "linecolor": "white",
            "showbackground": true,
            "ticks": "",
            "zerolinecolor": "white"
           },
           "yaxis": {
            "backgroundcolor": "#E5ECF6",
            "gridcolor": "white",
            "gridwidth": 2,
            "linecolor": "white",
            "showbackground": true,
            "ticks": "",
            "zerolinecolor": "white"
           },
           "zaxis": {
            "backgroundcolor": "#E5ECF6",
            "gridcolor": "white",
            "gridwidth": 2,
            "linecolor": "white",
            "showbackground": true,
            "ticks": "",
            "zerolinecolor": "white"
           }
          },
          "shapedefaults": {
           "line": {
            "color": "#2a3f5f"
           }
          },
          "ternary": {
           "aaxis": {
            "gridcolor": "white",
            "linecolor": "white",
            "ticks": ""
           },
           "baxis": {
            "gridcolor": "white",
            "linecolor": "white",
            "ticks": ""
           },
           "bgcolor": "#E5ECF6",
           "caxis": {
            "gridcolor": "white",
            "linecolor": "white",
            "ticks": ""
           }
          },
          "title": {
           "x": 0.05
          },
          "xaxis": {
           "automargin": true,
           "gridcolor": "white",
           "linecolor": "white",
           "ticks": "",
           "title": {
            "standoff": 15
           },
           "zerolinecolor": "white",
           "zerolinewidth": 2
          },
          "yaxis": {
           "automargin": true,
           "gridcolor": "white",
           "linecolor": "white",
           "ticks": "",
           "title": {
            "standoff": 15
           },
           "zerolinecolor": "white",
           "zerolinewidth": 2
          }
         }
        },
        "width": 800,
        "xaxis": {
         "anchor": "y",
         "domain": [
          0,
          1
         ],
         "tickfont": {
          "family": "Times New Roman",
          "size": 8
         },
         "title": {
          "text": "taxonomic_bins"
         }
        },
        "yaxis": {
         "anchor": "x",
         "domain": [
          0,
          1
         ],
         "tickfont": {
          "family": "Times New Roman",
          "size": 8
         },
         "title": {
          "text": "shannon"
         }
        }
       }
      }
     },
     "metadata": {},
     "output_type": "display_data"
    }
   ],
   "source": [
    "# First, test the relationship between Shannon diversity and the amount of taxonomic_bins\n",
    "# Statistical tests\n",
    "# calculate the linear regression\n",
    "slope, intercept, r_value, p_value, std_err = stats.linregress(plot_data['taxonomic_bins'], plot_data['shannon'])\n",
    "\n",
    "# calculate the correlation coefficient and its p-value\n",
    "corr_coeff, p_value_corr = stats.pearsonr(plot_data['taxonomic_bins'], plot_data['shannon'])\n",
    "\n",
    "# calculate descriptive statistics\n",
    "mean_taxonomic_bins = np.mean(plot_data['taxonomic_bins'])\n",
    "mean_ko = np.mean(plot_data['shannon'])\n",
    "std_taxonomic_bins = np.std(plot_data['taxonomic_bins'])\n",
    "std_ko = np.std(plot_data['shannon'])\n",
    "min_taxonomic_bins = np.min(plot_data['taxonomic_bins'])\n",
    "min_ko = np.min(plot_data['shannon'])\n",
    "max_taxonomic_bins = np.max(plot_data['taxonomic_bins'])\n",
    "max_ko = np.max(plot_data['shannon'])\n",
    "\n",
    "# print the results\n",
    "print(\"Linear regression results:\")\n",
    "print(\"Slope: {:.2f}, Intercept: {:.2f}, R-squared: {:.2f}, P-value: {:.4f}, Standard error: {:.2f}\".format(slope, intercept, r_value**2, p_value, std_err))\n",
    "print(\"\\nCorrelation coefficient: {:.2f}, P-value: {:.4f}\".format(corr_coeff, p_value_corr))\n",
    "print(\"\\nDescriptive statistics:\")\n",
    "print(\"Mean number of taxonomic_bins: {:.2f}, Standard deviation: {:.2f}, Range: {}-{}\".format(mean_taxonomic_bins, std_taxonomic_bins, min_taxonomic_bins, max_taxonomic_bins))\n",
    "print(\"Mean number of KO identifiers: {:.2f}, Standard deviation: {:.2f}, Range: {}-{}\".format(mean_ko, std_ko, min_ko, max_ko))\n",
    "\n",
    "# Plot variation in taxonomic richness, colored by station\n",
    "fig = px.scatter(plot_data,\n",
    "        x = 'taxonomic_bins',\n",
    "        y = 'shannon',\n",
    "        color = 'month')\n",
    "\n",
    "# Update plot size, font, and font size\n",
    "fig.update_layout(\n",
    "        width=800,\n",
    "        height=600,\n",
    "        font=dict(\n",
    "            family='Times New Roman',\n",
    "            size=8\n",
    "        )\n",
    ")\n",
    "\n",
    "fig.update_xaxes(tickfont=dict(family='Times New Roman', size=8))\n",
    "fig.update_yaxes(tickfont=dict(family='Times New Roman', size=8))\n",
    "\n",
    "# Add a linear regression line\n",
    "fig.add_trace(go.Scatter(\n",
    "        x = plot_data['taxonomic_bins'],\n",
    "        y = slope * plot_data['taxonomic_bins'] + intercept,\n",
    "        mode = 'lines',\n",
    "        line = dict(\n",
    "                color = 'black',\n",
    "                width = 1\n",
    "        )\n",
    "))\n",
    "\n",
    "# Convert the size from cm to inches (1 inch = 2.54 cm)\n",
    "width_in_inches = 8.5 / 2.54\n",
    "height_in_inches = 7.5 / 2.54\n",
    "\n",
    "# Save the figure as an SVG file\n",
    "fig.write_image(\"../../figures/biodiversity_functional_diversity/taxonomic_bins_shannon.svg\", width=int(width_in_inches * 96), height=int(height_in_inches * 96), scale=1, format='svg')\n",
    "\n",
    "fig.show()\n"
   ]
  },
  {
   "cell_type": "code",
   "execution_count": 111,
   "metadata": {},
   "outputs": [
    {
     "name": "stdout",
     "output_type": "stream",
     "text": [
      "Linear regression results:\n",
      "Slope: 180.98, Intercept: 5165.00, R-squared: 0.01, P-value: 0.4229, Standard error: 224.30\n",
      "\n",
      "Correlation coefficient: 0.10, P-value: 0.4229\n",
      "\n",
      "Descriptive statistics:\n",
      "Mean number of species: 2.59, Standard deviation: 0.48, Range: 1.24254584723977-3.32562183093256\n",
      "Mean number of KO identifiers: 5633.58, Standard deviation: 834.69, Range: 3642.0-7264.0\n"
     ]
    },
    {
     "data": {
      "application/vnd.plotly.v1+json": {
       "config": {
        "plotlyServerURL": "https://plot.ly"
       },
       "data": [
        {
         "hovertemplate": "month=January_2021<br>shannon=%{x}<br>KEGG_ko=%{y}<extra></extra>",
         "legendgroup": "January_2021",
         "marker": {
          "color": "#636efa",
          "symbol": "circle"
         },
         "mode": "markers",
         "name": "January_2021",
         "orientation": "v",
         "showlegend": true,
         "type": "scatter",
         "x": [
          3.13644218438686,
          2.50880361581573,
          2.74835897496735,
          2.86117288016664,
          2.96373357191014
         ],
         "xaxis": "x",
         "y": [
          6328,
          6805,
          3644,
          5499,
          6125
         ],
         "yaxis": "y"
        },
        {
         "hovertemplate": "month=February_2021<br>shannon=%{x}<br>KEGG_ko=%{y}<extra></extra>",
         "legendgroup": "February_2021",
         "marker": {
          "color": "#EF553B",
          "symbol": "circle"
         },
         "mode": "markers",
         "name": "February_2021",
         "orientation": "v",
         "showlegend": true,
         "type": "scatter",
         "x": [
          3.08468420400599,
          3.12394003516751,
          3.04611601209074,
          2.47544389769663,
          2.94896594165423
         ],
         "xaxis": "x",
         "y": [
          6628,
          6843,
          6244,
          4613,
          6141
         ],
         "yaxis": "y"
        },
        {
         "hovertemplate": "month=April_2021<br>shannon=%{x}<br>KEGG_ko=%{y}<extra></extra>",
         "legendgroup": "April_2021",
         "marker": {
          "color": "#00cc96",
          "symbol": "circle"
         },
         "mode": "markers",
         "name": "April_2021",
         "orientation": "v",
         "showlegend": true,
         "type": "scatter",
         "x": [
          2.91582688860412,
          1.71217664822923,
          1.97113883684174,
          2.03681728174958
         ],
         "xaxis": "x",
         "y": [
          6783,
          4785,
          6281,
          5242
         ],
         "yaxis": "y"
        },
        {
         "hovertemplate": "month=May_2021<br>shannon=%{x}<br>KEGG_ko=%{y}<extra></extra>",
         "legendgroup": "May_2021",
         "marker": {
          "color": "#ab63fa",
          "symbol": "circle"
         },
         "mode": "markers",
         "name": "May_2021",
         "orientation": "v",
         "showlegend": true,
         "type": "scatter",
         "x": [
          1.83235862775987,
          2.15711561711732,
          2.14411753983142,
          1.95311057288629,
          2.17636867743297,
          2.14639288144898
         ],
         "xaxis": "x",
         "y": [
          5353,
          5237,
          6436,
          5491,
          5590,
          5100
         ],
         "yaxis": "y"
        },
        {
         "hovertemplate": "month=June_2021<br>shannon=%{x}<br>KEGG_ko=%{y}<extra></extra>",
         "legendgroup": "June_2021",
         "marker": {
          "color": "#FFA15A",
          "symbol": "circle"
         },
         "mode": "markers",
         "name": "June_2021",
         "orientation": "v",
         "showlegend": true,
         "type": "scatter",
         "x": [
          2.65590491718798,
          1.88182037497309,
          2.66212858318155,
          2.95114618067915,
          2.82298075556744,
          2.63120521687779
         ],
         "xaxis": "x",
         "y": [
          6219,
          6959,
          4000,
          5340,
          5386,
          4425
         ],
         "yaxis": "y"
        },
        {
         "hovertemplate": "month=July_2021<br>shannon=%{x}<br>KEGG_ko=%{y}<extra></extra>",
         "legendgroup": "July_2021",
         "marker": {
          "color": "#19d3f3",
          "symbol": "circle"
         },
         "mode": "markers",
         "name": "July_2021",
         "orientation": "v",
         "showlegend": true,
         "type": "scatter",
         "x": [
          2.34396391314093,
          2.79108028115614,
          1.8230466491102,
          2.89939420361554,
          1.74129848526439,
          2.7681499137582
         ],
         "xaxis": "x",
         "y": [
          5285,
          6218,
          6208,
          5982,
          7264,
          5357
         ],
         "yaxis": "y"
        },
        {
         "hovertemplate": "month=July_2020<br>shannon=%{x}<br>KEGG_ko=%{y}<extra></extra>",
         "legendgroup": "July_2020",
         "marker": {
          "color": "#FF6692",
          "symbol": "circle"
         },
         "mode": "markers",
         "name": "July_2020",
         "orientation": "v",
         "showlegend": true,
         "type": "scatter",
         "x": [
          2.58387466223258,
          2.04461857030752,
          2.7184341232693,
          1.24254584723977,
          2.65092705081485,
          2.24349496561217
         ],
         "xaxis": "x",
         "y": [
          4640,
          3642,
          4672,
          5681,
          4836,
          5173
         ],
         "yaxis": "y"
        },
        {
         "hovertemplate": "month=August_2020<br>shannon=%{x}<br>KEGG_ko=%{y}<extra></extra>",
         "legendgroup": "August_2020",
         "marker": {
          "color": "#B6E880",
          "symbol": "circle"
         },
         "mode": "markers",
         "name": "August_2020",
         "orientation": "v",
         "showlegend": true,
         "type": "scatter",
         "x": [
          2.6393721856316,
          1.93058868346723,
          2.43673753218495,
          2.07042418373048,
          2.20738885452961,
          2.58604242100867
         ],
         "xaxis": "x",
         "y": [
          6539,
          4995,
          6778,
          5053,
          5648,
          5758
         ],
         "yaxis": "y"
        },
        {
         "hovertemplate": "month=September_2020<br>shannon=%{x}<br>KEGG_ko=%{y}<extra></extra>",
         "legendgroup": "September_2020",
         "marker": {
          "color": "#FF97FF",
          "symbol": "circle"
         },
         "mode": "markers",
         "name": "September_2020",
         "orientation": "v",
         "showlegend": true,
         "type": "scatter",
         "x": [
          3.1859962335379,
          2.87989642360439,
          3.06092537390113,
          2.8800049100623,
          2.9521036110783,
          2.71085636192051
         ],
         "xaxis": "x",
         "y": [
          4643,
          5135,
          4852,
          6950,
          6801,
          5083
         ],
         "yaxis": "y"
        },
        {
         "hovertemplate": "month=November_2020<br>shannon=%{x}<br>KEGG_ko=%{y}<extra></extra>",
         "legendgroup": "November_2020",
         "marker": {
          "color": "#FECB52",
          "symbol": "circle"
         },
         "mode": "markers",
         "name": "November_2020",
         "orientation": "v",
         "showlegend": true,
         "type": "scatter",
         "x": [
          1.98234148148097,
          2.92974271929586,
          3.21321510808402,
          3.00774203874856,
          2.92790754974854,
          2.71066360335426
         ],
         "xaxis": "x",
         "y": [
          4873,
          6217,
          5921,
          6383,
          6335,
          5199
         ],
         "yaxis": "y"
        },
        {
         "hovertemplate": "month=December_2020<br>shannon=%{x}<br>KEGG_ko=%{y}<extra></extra>",
         "legendgroup": "December_2020",
         "marker": {
          "color": "#636efa",
          "symbol": "circle"
         },
         "mode": "markers",
         "name": "December_2020",
         "orientation": "v",
         "showlegend": true,
         "type": "scatter",
         "x": [
          3.20963220873414,
          3.07075887641552,
          3.32562183093256,
          2.76077289287923,
          3.29971780020393,
          3.14932659254495
         ],
         "xaxis": "x",
         "y": [
          5131,
          4684,
          5810,
          6543,
          5619,
          5877
         ],
         "yaxis": "y"
        }
       ],
       "layout": {
        "font": {
         "family": "Times New Roman",
         "size": 8
        },
        "height": 600,
        "legend": {
         "title": {
          "text": "month"
         },
         "tracegroupgap": 0
        },
        "margin": {
         "t": 60
        },
        "template": {
         "data": {
          "bar": [
           {
            "error_x": {
             "color": "#2a3f5f"
            },
            "error_y": {
             "color": "#2a3f5f"
            },
            "marker": {
             "line": {
              "color": "#E5ECF6",
              "width": 0.5
             },
             "pattern": {
              "fillmode": "overlay",
              "size": 10,
              "solidity": 0.2
             }
            },
            "type": "bar"
           }
          ],
          "barpolar": [
           {
            "marker": {
             "line": {
              "color": "#E5ECF6",
              "width": 0.5
             },
             "pattern": {
              "fillmode": "overlay",
              "size": 10,
              "solidity": 0.2
             }
            },
            "type": "barpolar"
           }
          ],
          "carpet": [
           {
            "aaxis": {
             "endlinecolor": "#2a3f5f",
             "gridcolor": "white",
             "linecolor": "white",
             "minorgridcolor": "white",
             "startlinecolor": "#2a3f5f"
            },
            "baxis": {
             "endlinecolor": "#2a3f5f",
             "gridcolor": "white",
             "linecolor": "white",
             "minorgridcolor": "white",
             "startlinecolor": "#2a3f5f"
            },
            "type": "carpet"
           }
          ],
          "choropleth": [
           {
            "colorbar": {
             "outlinewidth": 0,
             "ticks": ""
            },
            "type": "choropleth"
           }
          ],
          "contour": [
           {
            "colorbar": {
             "outlinewidth": 0,
             "ticks": ""
            },
            "colorscale": [
             [
              0,
              "#0d0887"
             ],
             [
              0.1111111111111111,
              "#46039f"
             ],
             [
              0.2222222222222222,
              "#7201a8"
             ],
             [
              0.3333333333333333,
              "#9c179e"
             ],
             [
              0.4444444444444444,
              "#bd3786"
             ],
             [
              0.5555555555555556,
              "#d8576b"
             ],
             [
              0.6666666666666666,
              "#ed7953"
             ],
             [
              0.7777777777777778,
              "#fb9f3a"
             ],
             [
              0.8888888888888888,
              "#fdca26"
             ],
             [
              1,
              "#f0f921"
             ]
            ],
            "type": "contour"
           }
          ],
          "contourcarpet": [
           {
            "colorbar": {
             "outlinewidth": 0,
             "ticks": ""
            },
            "type": "contourcarpet"
           }
          ],
          "heatmap": [
           {
            "colorbar": {
             "outlinewidth": 0,
             "ticks": ""
            },
            "colorscale": [
             [
              0,
              "#0d0887"
             ],
             [
              0.1111111111111111,
              "#46039f"
             ],
             [
              0.2222222222222222,
              "#7201a8"
             ],
             [
              0.3333333333333333,
              "#9c179e"
             ],
             [
              0.4444444444444444,
              "#bd3786"
             ],
             [
              0.5555555555555556,
              "#d8576b"
             ],
             [
              0.6666666666666666,
              "#ed7953"
             ],
             [
              0.7777777777777778,
              "#fb9f3a"
             ],
             [
              0.8888888888888888,
              "#fdca26"
             ],
             [
              1,
              "#f0f921"
             ]
            ],
            "type": "heatmap"
           }
          ],
          "heatmapgl": [
           {
            "colorbar": {
             "outlinewidth": 0,
             "ticks": ""
            },
            "colorscale": [
             [
              0,
              "#0d0887"
             ],
             [
              0.1111111111111111,
              "#46039f"
             ],
             [
              0.2222222222222222,
              "#7201a8"
             ],
             [
              0.3333333333333333,
              "#9c179e"
             ],
             [
              0.4444444444444444,
              "#bd3786"
             ],
             [
              0.5555555555555556,
              "#d8576b"
             ],
             [
              0.6666666666666666,
              "#ed7953"
             ],
             [
              0.7777777777777778,
              "#fb9f3a"
             ],
             [
              0.8888888888888888,
              "#fdca26"
             ],
             [
              1,
              "#f0f921"
             ]
            ],
            "type": "heatmapgl"
           }
          ],
          "histogram": [
           {
            "marker": {
             "pattern": {
              "fillmode": "overlay",
              "size": 10,
              "solidity": 0.2
             }
            },
            "type": "histogram"
           }
          ],
          "histogram2d": [
           {
            "colorbar": {
             "outlinewidth": 0,
             "ticks": ""
            },
            "colorscale": [
             [
              0,
              "#0d0887"
             ],
             [
              0.1111111111111111,
              "#46039f"
             ],
             [
              0.2222222222222222,
              "#7201a8"
             ],
             [
              0.3333333333333333,
              "#9c179e"
             ],
             [
              0.4444444444444444,
              "#bd3786"
             ],
             [
              0.5555555555555556,
              "#d8576b"
             ],
             [
              0.6666666666666666,
              "#ed7953"
             ],
             [
              0.7777777777777778,
              "#fb9f3a"
             ],
             [
              0.8888888888888888,
              "#fdca26"
             ],
             [
              1,
              "#f0f921"
             ]
            ],
            "type": "histogram2d"
           }
          ],
          "histogram2dcontour": [
           {
            "colorbar": {
             "outlinewidth": 0,
             "ticks": ""
            },
            "colorscale": [
             [
              0,
              "#0d0887"
             ],
             [
              0.1111111111111111,
              "#46039f"
             ],
             [
              0.2222222222222222,
              "#7201a8"
             ],
             [
              0.3333333333333333,
              "#9c179e"
             ],
             [
              0.4444444444444444,
              "#bd3786"
             ],
             [
              0.5555555555555556,
              "#d8576b"
             ],
             [
              0.6666666666666666,
              "#ed7953"
             ],
             [
              0.7777777777777778,
              "#fb9f3a"
             ],
             [
              0.8888888888888888,
              "#fdca26"
             ],
             [
              1,
              "#f0f921"
             ]
            ],
            "type": "histogram2dcontour"
           }
          ],
          "mesh3d": [
           {
            "colorbar": {
             "outlinewidth": 0,
             "ticks": ""
            },
            "type": "mesh3d"
           }
          ],
          "parcoords": [
           {
            "line": {
             "colorbar": {
              "outlinewidth": 0,
              "ticks": ""
             }
            },
            "type": "parcoords"
           }
          ],
          "pie": [
           {
            "automargin": true,
            "type": "pie"
           }
          ],
          "scatter": [
           {
            "marker": {
             "colorbar": {
              "outlinewidth": 0,
              "ticks": ""
             }
            },
            "type": "scatter"
           }
          ],
          "scatter3d": [
           {
            "line": {
             "colorbar": {
              "outlinewidth": 0,
              "ticks": ""
             }
            },
            "marker": {
             "colorbar": {
              "outlinewidth": 0,
              "ticks": ""
             }
            },
            "type": "scatter3d"
           }
          ],
          "scattercarpet": [
           {
            "marker": {
             "colorbar": {
              "outlinewidth": 0,
              "ticks": ""
             }
            },
            "type": "scattercarpet"
           }
          ],
          "scattergeo": [
           {
            "marker": {
             "colorbar": {
              "outlinewidth": 0,
              "ticks": ""
             }
            },
            "type": "scattergeo"
           }
          ],
          "scattergl": [
           {
            "marker": {
             "colorbar": {
              "outlinewidth": 0,
              "ticks": ""
             }
            },
            "type": "scattergl"
           }
          ],
          "scattermapbox": [
           {
            "marker": {
             "colorbar": {
              "outlinewidth": 0,
              "ticks": ""
             }
            },
            "type": "scattermapbox"
           }
          ],
          "scatterpolar": [
           {
            "marker": {
             "colorbar": {
              "outlinewidth": 0,
              "ticks": ""
             }
            },
            "type": "scatterpolar"
           }
          ],
          "scatterpolargl": [
           {
            "marker": {
             "colorbar": {
              "outlinewidth": 0,
              "ticks": ""
             }
            },
            "type": "scatterpolargl"
           }
          ],
          "scatterternary": [
           {
            "marker": {
             "colorbar": {
              "outlinewidth": 0,
              "ticks": ""
             }
            },
            "type": "scatterternary"
           }
          ],
          "surface": [
           {
            "colorbar": {
             "outlinewidth": 0,
             "ticks": ""
            },
            "colorscale": [
             [
              0,
              "#0d0887"
             ],
             [
              0.1111111111111111,
              "#46039f"
             ],
             [
              0.2222222222222222,
              "#7201a8"
             ],
             [
              0.3333333333333333,
              "#9c179e"
             ],
             [
              0.4444444444444444,
              "#bd3786"
             ],
             [
              0.5555555555555556,
              "#d8576b"
             ],
             [
              0.6666666666666666,
              "#ed7953"
             ],
             [
              0.7777777777777778,
              "#fb9f3a"
             ],
             [
              0.8888888888888888,
              "#fdca26"
             ],
             [
              1,
              "#f0f921"
             ]
            ],
            "type": "surface"
           }
          ],
          "table": [
           {
            "cells": {
             "fill": {
              "color": "#EBF0F8"
             },
             "line": {
              "color": "white"
             }
            },
            "header": {
             "fill": {
              "color": "#C8D4E3"
             },
             "line": {
              "color": "white"
             }
            },
            "type": "table"
           }
          ]
         },
         "layout": {
          "annotationdefaults": {
           "arrowcolor": "#2a3f5f",
           "arrowhead": 0,
           "arrowwidth": 1
          },
          "autotypenumbers": "strict",
          "coloraxis": {
           "colorbar": {
            "outlinewidth": 0,
            "ticks": ""
           }
          },
          "colorscale": {
           "diverging": [
            [
             0,
             "#8e0152"
            ],
            [
             0.1,
             "#c51b7d"
            ],
            [
             0.2,
             "#de77ae"
            ],
            [
             0.3,
             "#f1b6da"
            ],
            [
             0.4,
             "#fde0ef"
            ],
            [
             0.5,
             "#f7f7f7"
            ],
            [
             0.6,
             "#e6f5d0"
            ],
            [
             0.7,
             "#b8e186"
            ],
            [
             0.8,
             "#7fbc41"
            ],
            [
             0.9,
             "#4d9221"
            ],
            [
             1,
             "#276419"
            ]
           ],
           "sequential": [
            [
             0,
             "#0d0887"
            ],
            [
             0.1111111111111111,
             "#46039f"
            ],
            [
             0.2222222222222222,
             "#7201a8"
            ],
            [
             0.3333333333333333,
             "#9c179e"
            ],
            [
             0.4444444444444444,
             "#bd3786"
            ],
            [
             0.5555555555555556,
             "#d8576b"
            ],
            [
             0.6666666666666666,
             "#ed7953"
            ],
            [
             0.7777777777777778,
             "#fb9f3a"
            ],
            [
             0.8888888888888888,
             "#fdca26"
            ],
            [
             1,
             "#f0f921"
            ]
           ],
           "sequentialminus": [
            [
             0,
             "#0d0887"
            ],
            [
             0.1111111111111111,
             "#46039f"
            ],
            [
             0.2222222222222222,
             "#7201a8"
            ],
            [
             0.3333333333333333,
             "#9c179e"
            ],
            [
             0.4444444444444444,
             "#bd3786"
            ],
            [
             0.5555555555555556,
             "#d8576b"
            ],
            [
             0.6666666666666666,
             "#ed7953"
            ],
            [
             0.7777777777777778,
             "#fb9f3a"
            ],
            [
             0.8888888888888888,
             "#fdca26"
            ],
            [
             1,
             "#f0f921"
            ]
           ]
          },
          "colorway": [
           "#636efa",
           "#EF553B",
           "#00cc96",
           "#ab63fa",
           "#FFA15A",
           "#19d3f3",
           "#FF6692",
           "#B6E880",
           "#FF97FF",
           "#FECB52"
          ],
          "font": {
           "color": "#2a3f5f"
          },
          "geo": {
           "bgcolor": "white",
           "lakecolor": "white",
           "landcolor": "#E5ECF6",
           "showlakes": true,
           "showland": true,
           "subunitcolor": "white"
          },
          "hoverlabel": {
           "align": "left"
          },
          "hovermode": "closest",
          "mapbox": {
           "style": "light"
          },
          "paper_bgcolor": "white",
          "plot_bgcolor": "#E5ECF6",
          "polar": {
           "angularaxis": {
            "gridcolor": "white",
            "linecolor": "white",
            "ticks": ""
           },
           "bgcolor": "#E5ECF6",
           "radialaxis": {
            "gridcolor": "white",
            "linecolor": "white",
            "ticks": ""
           }
          },
          "scene": {
           "xaxis": {
            "backgroundcolor": "#E5ECF6",
            "gridcolor": "white",
            "gridwidth": 2,
            "linecolor": "white",
            "showbackground": true,
            "ticks": "",
            "zerolinecolor": "white"
           },
           "yaxis": {
            "backgroundcolor": "#E5ECF6",
            "gridcolor": "white",
            "gridwidth": 2,
            "linecolor": "white",
            "showbackground": true,
            "ticks": "",
            "zerolinecolor": "white"
           },
           "zaxis": {
            "backgroundcolor": "#E5ECF6",
            "gridcolor": "white",
            "gridwidth": 2,
            "linecolor": "white",
            "showbackground": true,
            "ticks": "",
            "zerolinecolor": "white"
           }
          },
          "shapedefaults": {
           "line": {
            "color": "#2a3f5f"
           }
          },
          "ternary": {
           "aaxis": {
            "gridcolor": "white",
            "linecolor": "white",
            "ticks": ""
           },
           "baxis": {
            "gridcolor": "white",
            "linecolor": "white",
            "ticks": ""
           },
           "bgcolor": "#E5ECF6",
           "caxis": {
            "gridcolor": "white",
            "linecolor": "white",
            "ticks": ""
           }
          },
          "title": {
           "x": 0.05
          },
          "xaxis": {
           "automargin": true,
           "gridcolor": "white",
           "linecolor": "white",
           "ticks": "",
           "title": {
            "standoff": 15
           },
           "zerolinecolor": "white",
           "zerolinewidth": 2
          },
          "yaxis": {
           "automargin": true,
           "gridcolor": "white",
           "linecolor": "white",
           "ticks": "",
           "title": {
            "standoff": 15
           },
           "zerolinecolor": "white",
           "zerolinewidth": 2
          }
         }
        },
        "width": 800,
        "xaxis": {
         "anchor": "y",
         "domain": [
          0,
          1
         ],
         "tickfont": {
          "family": "Times New Roman",
          "size": 8
         },
         "title": {
          "text": "shannon"
         }
        },
        "yaxis": {
         "anchor": "x",
         "domain": [
          0,
          1
         ],
         "tickfont": {
          "family": "Times New Roman",
          "size": 8
         },
         "title": {
          "text": "KEGG_ko"
         }
        }
       }
      }
     },
     "metadata": {},
     "output_type": "display_data"
    }
   ],
   "source": [
    "# Now, model the relation between functional richness and the Shannon diversity\n",
    "# Statistical tests\n",
    "# calculate the linear regression\n",
    "slope, intercept, r_value, p_value, std_err = stats.linregress(plot_data['shannon'], plot_data[func_info])\n",
    "\n",
    "# calculate the correlation coefficient and its p-value\n",
    "corr_coeff, p_value_corr = stats.pearsonr(plot_data['shannon'], plot_data[func_info])\n",
    "\n",
    "# calculate descriptive statistics\n",
    "mean_species = np.mean(plot_data['shannon'])\n",
    "mean_ko = np.mean(plot_data[func_info])\n",
    "std_species = np.std(plot_data['shannon'])\n",
    "std_ko = np.std(plot_data[func_info])\n",
    "min_species = np.min(plot_data['shannon'])\n",
    "min_ko = np.min(plot_data[func_info])\n",
    "max_species = np.max(plot_data['shannon'])\n",
    "max_ko = np.max(plot_data[func_info])\n",
    "\n",
    "# print the results\n",
    "print(\"Linear regression results:\")\n",
    "print(\"Slope: {:.2f}, Intercept: {:.2f}, R-squared: {:.2f}, P-value: {:.4f}, Standard error: {:.2f}\".format(slope, intercept, r_value**2, p_value, std_err))\n",
    "print(\"\\nCorrelation coefficient: {:.2f}, P-value: {:.4f}\".format(corr_coeff, p_value_corr))\n",
    "print(\"\\nDescriptive statistics:\")\n",
    "print(\"Mean number of species: {:.2f}, Standard deviation: {:.2f}, Range: {}-{}\".format(mean_species, std_species, min_species, max_species))\n",
    "print(\"Mean number of KO identifiers: {:.2f}, Standard deviation: {:.2f}, Range: {}-{}\".format(mean_ko, std_ko, min_ko, max_ko))\n",
    "\n",
    "# Plot variation in taxonomic richness, colored by station\n",
    "fig = px.scatter(plot_data,\n",
    "        x = 'shannon',\n",
    "        y = func_info,\n",
    "        color = 'month')\n",
    "\n",
    "# Update plot size, font, and font size\n",
    "fig.update_layout(\n",
    "        width=800,\n",
    "        height=600,\n",
    "        font=dict(\n",
    "            family='Times New Roman',\n",
    "            size=8\n",
    "        )\n",
    ")\n",
    "\n",
    "fig.update_xaxes(tickfont=dict(family='Times New Roman', size=8))\n",
    "fig.update_yaxes(tickfont=dict(family='Times New Roman', size=8))\n",
    "\n",
    "# Don't add a linear regression line, because it's not a good fit\n",
    "\n",
    "# Convert the size from cm to inches (1 inch = 2.54 cm)\n",
    "width_in_inches = 8.5 / 2.54\n",
    "height_in_inches = 7.5 / 2.54\n",
    "\n",
    "# Save the figure as an SVG file\n",
    "fig.write_image(\"../../figures/biodiversity_functional_diversity/shannon_KO.svg\", width=int(width_in_inches * 96), height=int(height_in_inches * 96), scale=1, format='svg')\n",
    "\n",
    "fig.show()"
   ]
  },
  {
   "cell_type": "code",
   "execution_count": 112,
   "metadata": {},
   "outputs": [
    {
     "name": "stdout",
     "output_type": "stream",
     "text": [
      "Linear regression results:\n",
      "Slope: 23.55, Intercept: 5279.99, R-squared: 0.03, P-value: 0.1514, Standard error: 16.20\n",
      "\n",
      "Correlation coefficient: 0.18, P-value: 0.1514\n",
      "\n",
      "Descriptive statistics:\n",
      "Mean number of taxonomic_bins: 15.02, Standard deviation: 6.54, Range: 4-27\n",
      "Mean number of KO identifiers: 5633.58, Standard deviation: 834.69, Range: 3642.0-7264.0\n"
     ]
    },
    {
     "data": {
      "application/vnd.plotly.v1+json": {
       "config": {
        "plotlyServerURL": "https://plot.ly"
       },
       "data": [
        {
         "hovertemplate": "month=January_2021<br>taxonomic_bins=%{x}<br>KEGG_ko=%{y}<extra></extra>",
         "legendgroup": "January_2021",
         "marker": {
          "color": "#636efa",
          "symbol": "circle"
         },
         "mode": "markers",
         "name": "January_2021",
         "orientation": "v",
         "showlegend": true,
         "type": "scatter",
         "x": [
          19,
          16,
          7,
          15,
          17
         ],
         "xaxis": "x",
         "y": [
          6328,
          6805,
          3644,
          5499,
          6125
         ],
         "yaxis": "y"
        },
        {
         "hovertemplate": "month=February_2021<br>taxonomic_bins=%{x}<br>KEGG_ko=%{y}<extra></extra>",
         "legendgroup": "February_2021",
         "marker": {
          "color": "#EF553B",
          "symbol": "circle"
         },
         "mode": "markers",
         "name": "February_2021",
         "orientation": "v",
         "showlegend": true,
         "type": "scatter",
         "x": [
          21,
          25,
          20,
          14,
          23
         ],
         "xaxis": "x",
         "y": [
          6628,
          6843,
          6244,
          4613,
          6141
         ],
         "yaxis": "y"
        },
        {
         "hovertemplate": "month=April_2021<br>taxonomic_bins=%{x}<br>KEGG_ko=%{y}<extra></extra>",
         "legendgroup": "April_2021",
         "marker": {
          "color": "#00cc96",
          "symbol": "circle"
         },
         "mode": "markers",
         "name": "April_2021",
         "orientation": "v",
         "showlegend": true,
         "type": "scatter",
         "x": [
          16,
          9,
          9,
          11
         ],
         "xaxis": "x",
         "y": [
          6783,
          4785,
          6281,
          5242
         ],
         "yaxis": "y"
        },
        {
         "hovertemplate": "month=May_2021<br>taxonomic_bins=%{x}<br>KEGG_ko=%{y}<extra></extra>",
         "legendgroup": "May_2021",
         "marker": {
          "color": "#ab63fa",
          "symbol": "circle"
         },
         "mode": "markers",
         "name": "May_2021",
         "orientation": "v",
         "showlegend": true,
         "type": "scatter",
         "x": [
          6,
          6,
          8,
          13,
          9,
          9
         ],
         "xaxis": "x",
         "y": [
          5353,
          5237,
          6436,
          5491,
          5590,
          5100
         ],
         "yaxis": "y"
        },
        {
         "hovertemplate": "month=June_2021<br>taxonomic_bins=%{x}<br>KEGG_ko=%{y}<extra></extra>",
         "legendgroup": "June_2021",
         "marker": {
          "color": "#FFA15A",
          "symbol": "circle"
         },
         "mode": "markers",
         "name": "June_2021",
         "orientation": "v",
         "showlegend": true,
         "type": "scatter",
         "x": [
          10,
          16,
          9,
          11,
          6,
          10
         ],
         "xaxis": "x",
         "y": [
          6219,
          6959,
          4000,
          5340,
          5386,
          4425
         ],
         "yaxis": "y"
        },
        {
         "hovertemplate": "month=July_2021<br>taxonomic_bins=%{x}<br>KEGG_ko=%{y}<extra></extra>",
         "legendgroup": "July_2021",
         "marker": {
          "color": "#19d3f3",
          "symbol": "circle"
         },
         "mode": "markers",
         "name": "July_2021",
         "orientation": "v",
         "showlegend": true,
         "type": "scatter",
         "x": [
          19,
          13,
          4,
          24,
          6,
          6
         ],
         "xaxis": "x",
         "y": [
          5285,
          6218,
          6208,
          5982,
          7264,
          5357
         ],
         "yaxis": "y"
        },
        {
         "hovertemplate": "month=July_2020<br>taxonomic_bins=%{x}<br>KEGG_ko=%{y}<extra></extra>",
         "legendgroup": "July_2020",
         "marker": {
          "color": "#FF6692",
          "symbol": "circle"
         },
         "mode": "markers",
         "name": "July_2020",
         "orientation": "v",
         "showlegend": true,
         "type": "scatter",
         "x": [
          12,
          17,
          5,
          4,
          7,
          8
         ],
         "xaxis": "x",
         "y": [
          4640,
          3642,
          4672,
          5681,
          4836,
          5173
         ],
         "yaxis": "y"
        },
        {
         "hovertemplate": "month=August_2020<br>taxonomic_bins=%{x}<br>KEGG_ko=%{y}<extra></extra>",
         "legendgroup": "August_2020",
         "marker": {
          "color": "#B6E880",
          "symbol": "circle"
         },
         "mode": "markers",
         "name": "August_2020",
         "orientation": "v",
         "showlegend": true,
         "type": "scatter",
         "x": [
          11,
          13,
          13,
          13,
          13,
          14
         ],
         "xaxis": "x",
         "y": [
          6539,
          4995,
          6778,
          5053,
          5648,
          5758
         ],
         "yaxis": "y"
        },
        {
         "hovertemplate": "month=September_2020<br>taxonomic_bins=%{x}<br>KEGG_ko=%{y}<extra></extra>",
         "legendgroup": "September_2020",
         "marker": {
          "color": "#FF97FF",
          "symbol": "circle"
         },
         "mode": "markers",
         "name": "September_2020",
         "orientation": "v",
         "showlegend": true,
         "type": "scatter",
         "x": [
          26,
          23,
          23,
          26,
          21,
          23
         ],
         "xaxis": "x",
         "y": [
          4643,
          5135,
          4852,
          6950,
          6801,
          5083
         ],
         "yaxis": "y"
        },
        {
         "hovertemplate": "month=November_2020<br>taxonomic_bins=%{x}<br>KEGG_ko=%{y}<extra></extra>",
         "legendgroup": "November_2020",
         "marker": {
          "color": "#FECB52",
          "symbol": "circle"
         },
         "mode": "markers",
         "name": "November_2020",
         "orientation": "v",
         "showlegend": true,
         "type": "scatter",
         "x": [
          18,
          23,
          22,
          17,
          15,
          20
         ],
         "xaxis": "x",
         "y": [
          4873,
          6217,
          5921,
          6383,
          6335,
          5199
         ],
         "yaxis": "y"
        },
        {
         "hovertemplate": "month=December_2020<br>taxonomic_bins=%{x}<br>KEGG_ko=%{y}<extra></extra>",
         "legendgroup": "December_2020",
         "marker": {
          "color": "#636efa",
          "symbol": "circle"
         },
         "mode": "markers",
         "name": "December_2020",
         "orientation": "v",
         "showlegend": true,
         "type": "scatter",
         "x": [
          23,
          27,
          23,
          22,
          21,
          21
         ],
         "xaxis": "x",
         "y": [
          5131,
          4684,
          5810,
          6543,
          5619,
          5877
         ],
         "yaxis": "y"
        }
       ],
       "layout": {
        "font": {
         "family": "Times New Roman",
         "size": 8
        },
        "height": 600,
        "legend": {
         "title": {
          "text": "month"
         },
         "tracegroupgap": 0
        },
        "margin": {
         "t": 60
        },
        "template": {
         "data": {
          "bar": [
           {
            "error_x": {
             "color": "#2a3f5f"
            },
            "error_y": {
             "color": "#2a3f5f"
            },
            "marker": {
             "line": {
              "color": "#E5ECF6",
              "width": 0.5
             },
             "pattern": {
              "fillmode": "overlay",
              "size": 10,
              "solidity": 0.2
             }
            },
            "type": "bar"
           }
          ],
          "barpolar": [
           {
            "marker": {
             "line": {
              "color": "#E5ECF6",
              "width": 0.5
             },
             "pattern": {
              "fillmode": "overlay",
              "size": 10,
              "solidity": 0.2
             }
            },
            "type": "barpolar"
           }
          ],
          "carpet": [
           {
            "aaxis": {
             "endlinecolor": "#2a3f5f",
             "gridcolor": "white",
             "linecolor": "white",
             "minorgridcolor": "white",
             "startlinecolor": "#2a3f5f"
            },
            "baxis": {
             "endlinecolor": "#2a3f5f",
             "gridcolor": "white",
             "linecolor": "white",
             "minorgridcolor": "white",
             "startlinecolor": "#2a3f5f"
            },
            "type": "carpet"
           }
          ],
          "choropleth": [
           {
            "colorbar": {
             "outlinewidth": 0,
             "ticks": ""
            },
            "type": "choropleth"
           }
          ],
          "contour": [
           {
            "colorbar": {
             "outlinewidth": 0,
             "ticks": ""
            },
            "colorscale": [
             [
              0,
              "#0d0887"
             ],
             [
              0.1111111111111111,
              "#46039f"
             ],
             [
              0.2222222222222222,
              "#7201a8"
             ],
             [
              0.3333333333333333,
              "#9c179e"
             ],
             [
              0.4444444444444444,
              "#bd3786"
             ],
             [
              0.5555555555555556,
              "#d8576b"
             ],
             [
              0.6666666666666666,
              "#ed7953"
             ],
             [
              0.7777777777777778,
              "#fb9f3a"
             ],
             [
              0.8888888888888888,
              "#fdca26"
             ],
             [
              1,
              "#f0f921"
             ]
            ],
            "type": "contour"
           }
          ],
          "contourcarpet": [
           {
            "colorbar": {
             "outlinewidth": 0,
             "ticks": ""
            },
            "type": "contourcarpet"
           }
          ],
          "heatmap": [
           {
            "colorbar": {
             "outlinewidth": 0,
             "ticks": ""
            },
            "colorscale": [
             [
              0,
              "#0d0887"
             ],
             [
              0.1111111111111111,
              "#46039f"
             ],
             [
              0.2222222222222222,
              "#7201a8"
             ],
             [
              0.3333333333333333,
              "#9c179e"
             ],
             [
              0.4444444444444444,
              "#bd3786"
             ],
             [
              0.5555555555555556,
              "#d8576b"
             ],
             [
              0.6666666666666666,
              "#ed7953"
             ],
             [
              0.7777777777777778,
              "#fb9f3a"
             ],
             [
              0.8888888888888888,
              "#fdca26"
             ],
             [
              1,
              "#f0f921"
             ]
            ],
            "type": "heatmap"
           }
          ],
          "heatmapgl": [
           {
            "colorbar": {
             "outlinewidth": 0,
             "ticks": ""
            },
            "colorscale": [
             [
              0,
              "#0d0887"
             ],
             [
              0.1111111111111111,
              "#46039f"
             ],
             [
              0.2222222222222222,
              "#7201a8"
             ],
             [
              0.3333333333333333,
              "#9c179e"
             ],
             [
              0.4444444444444444,
              "#bd3786"
             ],
             [
              0.5555555555555556,
              "#d8576b"
             ],
             [
              0.6666666666666666,
              "#ed7953"
             ],
             [
              0.7777777777777778,
              "#fb9f3a"
             ],
             [
              0.8888888888888888,
              "#fdca26"
             ],
             [
              1,
              "#f0f921"
             ]
            ],
            "type": "heatmapgl"
           }
          ],
          "histogram": [
           {
            "marker": {
             "pattern": {
              "fillmode": "overlay",
              "size": 10,
              "solidity": 0.2
             }
            },
            "type": "histogram"
           }
          ],
          "histogram2d": [
           {
            "colorbar": {
             "outlinewidth": 0,
             "ticks": ""
            },
            "colorscale": [
             [
              0,
              "#0d0887"
             ],
             [
              0.1111111111111111,
              "#46039f"
             ],
             [
              0.2222222222222222,
              "#7201a8"
             ],
             [
              0.3333333333333333,
              "#9c179e"
             ],
             [
              0.4444444444444444,
              "#bd3786"
             ],
             [
              0.5555555555555556,
              "#d8576b"
             ],
             [
              0.6666666666666666,
              "#ed7953"
             ],
             [
              0.7777777777777778,
              "#fb9f3a"
             ],
             [
              0.8888888888888888,
              "#fdca26"
             ],
             [
              1,
              "#f0f921"
             ]
            ],
            "type": "histogram2d"
           }
          ],
          "histogram2dcontour": [
           {
            "colorbar": {
             "outlinewidth": 0,
             "ticks": ""
            },
            "colorscale": [
             [
              0,
              "#0d0887"
             ],
             [
              0.1111111111111111,
              "#46039f"
             ],
             [
              0.2222222222222222,
              "#7201a8"
             ],
             [
              0.3333333333333333,
              "#9c179e"
             ],
             [
              0.4444444444444444,
              "#bd3786"
             ],
             [
              0.5555555555555556,
              "#d8576b"
             ],
             [
              0.6666666666666666,
              "#ed7953"
             ],
             [
              0.7777777777777778,
              "#fb9f3a"
             ],
             [
              0.8888888888888888,
              "#fdca26"
             ],
             [
              1,
              "#f0f921"
             ]
            ],
            "type": "histogram2dcontour"
           }
          ],
          "mesh3d": [
           {
            "colorbar": {
             "outlinewidth": 0,
             "ticks": ""
            },
            "type": "mesh3d"
           }
          ],
          "parcoords": [
           {
            "line": {
             "colorbar": {
              "outlinewidth": 0,
              "ticks": ""
             }
            },
            "type": "parcoords"
           }
          ],
          "pie": [
           {
            "automargin": true,
            "type": "pie"
           }
          ],
          "scatter": [
           {
            "marker": {
             "colorbar": {
              "outlinewidth": 0,
              "ticks": ""
             }
            },
            "type": "scatter"
           }
          ],
          "scatter3d": [
           {
            "line": {
             "colorbar": {
              "outlinewidth": 0,
              "ticks": ""
             }
            },
            "marker": {
             "colorbar": {
              "outlinewidth": 0,
              "ticks": ""
             }
            },
            "type": "scatter3d"
           }
          ],
          "scattercarpet": [
           {
            "marker": {
             "colorbar": {
              "outlinewidth": 0,
              "ticks": ""
             }
            },
            "type": "scattercarpet"
           }
          ],
          "scattergeo": [
           {
            "marker": {
             "colorbar": {
              "outlinewidth": 0,
              "ticks": ""
             }
            },
            "type": "scattergeo"
           }
          ],
          "scattergl": [
           {
            "marker": {
             "colorbar": {
              "outlinewidth": 0,
              "ticks": ""
             }
            },
            "type": "scattergl"
           }
          ],
          "scattermapbox": [
           {
            "marker": {
             "colorbar": {
              "outlinewidth": 0,
              "ticks": ""
             }
            },
            "type": "scattermapbox"
           }
          ],
          "scatterpolar": [
           {
            "marker": {
             "colorbar": {
              "outlinewidth": 0,
              "ticks": ""
             }
            },
            "type": "scatterpolar"
           }
          ],
          "scatterpolargl": [
           {
            "marker": {
             "colorbar": {
              "outlinewidth": 0,
              "ticks": ""
             }
            },
            "type": "scatterpolargl"
           }
          ],
          "scatterternary": [
           {
            "marker": {
             "colorbar": {
              "outlinewidth": 0,
              "ticks": ""
             }
            },
            "type": "scatterternary"
           }
          ],
          "surface": [
           {
            "colorbar": {
             "outlinewidth": 0,
             "ticks": ""
            },
            "colorscale": [
             [
              0,
              "#0d0887"
             ],
             [
              0.1111111111111111,
              "#46039f"
             ],
             [
              0.2222222222222222,
              "#7201a8"
             ],
             [
              0.3333333333333333,
              "#9c179e"
             ],
             [
              0.4444444444444444,
              "#bd3786"
             ],
             [
              0.5555555555555556,
              "#d8576b"
             ],
             [
              0.6666666666666666,
              "#ed7953"
             ],
             [
              0.7777777777777778,
              "#fb9f3a"
             ],
             [
              0.8888888888888888,
              "#fdca26"
             ],
             [
              1,
              "#f0f921"
             ]
            ],
            "type": "surface"
           }
          ],
          "table": [
           {
            "cells": {
             "fill": {
              "color": "#EBF0F8"
             },
             "line": {
              "color": "white"
             }
            },
            "header": {
             "fill": {
              "color": "#C8D4E3"
             },
             "line": {
              "color": "white"
             }
            },
            "type": "table"
           }
          ]
         },
         "layout": {
          "annotationdefaults": {
           "arrowcolor": "#2a3f5f",
           "arrowhead": 0,
           "arrowwidth": 1
          },
          "autotypenumbers": "strict",
          "coloraxis": {
           "colorbar": {
            "outlinewidth": 0,
            "ticks": ""
           }
          },
          "colorscale": {
           "diverging": [
            [
             0,
             "#8e0152"
            ],
            [
             0.1,
             "#c51b7d"
            ],
            [
             0.2,
             "#de77ae"
            ],
            [
             0.3,
             "#f1b6da"
            ],
            [
             0.4,
             "#fde0ef"
            ],
            [
             0.5,
             "#f7f7f7"
            ],
            [
             0.6,
             "#e6f5d0"
            ],
            [
             0.7,
             "#b8e186"
            ],
            [
             0.8,
             "#7fbc41"
            ],
            [
             0.9,
             "#4d9221"
            ],
            [
             1,
             "#276419"
            ]
           ],
           "sequential": [
            [
             0,
             "#0d0887"
            ],
            [
             0.1111111111111111,
             "#46039f"
            ],
            [
             0.2222222222222222,
             "#7201a8"
            ],
            [
             0.3333333333333333,
             "#9c179e"
            ],
            [
             0.4444444444444444,
             "#bd3786"
            ],
            [
             0.5555555555555556,
             "#d8576b"
            ],
            [
             0.6666666666666666,
             "#ed7953"
            ],
            [
             0.7777777777777778,
             "#fb9f3a"
            ],
            [
             0.8888888888888888,
             "#fdca26"
            ],
            [
             1,
             "#f0f921"
            ]
           ],
           "sequentialminus": [
            [
             0,
             "#0d0887"
            ],
            [
             0.1111111111111111,
             "#46039f"
            ],
            [
             0.2222222222222222,
             "#7201a8"
            ],
            [
             0.3333333333333333,
             "#9c179e"
            ],
            [
             0.4444444444444444,
             "#bd3786"
            ],
            [
             0.5555555555555556,
             "#d8576b"
            ],
            [
             0.6666666666666666,
             "#ed7953"
            ],
            [
             0.7777777777777778,
             "#fb9f3a"
            ],
            [
             0.8888888888888888,
             "#fdca26"
            ],
            [
             1,
             "#f0f921"
            ]
           ]
          },
          "colorway": [
           "#636efa",
           "#EF553B",
           "#00cc96",
           "#ab63fa",
           "#FFA15A",
           "#19d3f3",
           "#FF6692",
           "#B6E880",
           "#FF97FF",
           "#FECB52"
          ],
          "font": {
           "color": "#2a3f5f"
          },
          "geo": {
           "bgcolor": "white",
           "lakecolor": "white",
           "landcolor": "#E5ECF6",
           "showlakes": true,
           "showland": true,
           "subunitcolor": "white"
          },
          "hoverlabel": {
           "align": "left"
          },
          "hovermode": "closest",
          "mapbox": {
           "style": "light"
          },
          "paper_bgcolor": "white",
          "plot_bgcolor": "#E5ECF6",
          "polar": {
           "angularaxis": {
            "gridcolor": "white",
            "linecolor": "white",
            "ticks": ""
           },
           "bgcolor": "#E5ECF6",
           "radialaxis": {
            "gridcolor": "white",
            "linecolor": "white",
            "ticks": ""
           }
          },
          "scene": {
           "xaxis": {
            "backgroundcolor": "#E5ECF6",
            "gridcolor": "white",
            "gridwidth": 2,
            "linecolor": "white",
            "showbackground": true,
            "ticks": "",
            "zerolinecolor": "white"
           },
           "yaxis": {
            "backgroundcolor": "#E5ECF6",
            "gridcolor": "white",
            "gridwidth": 2,
            "linecolor": "white",
            "showbackground": true,
            "ticks": "",
            "zerolinecolor": "white"
           },
           "zaxis": {
            "backgroundcolor": "#E5ECF6",
            "gridcolor": "white",
            "gridwidth": 2,
            "linecolor": "white",
            "showbackground": true,
            "ticks": "",
            "zerolinecolor": "white"
           }
          },
          "shapedefaults": {
           "line": {
            "color": "#2a3f5f"
           }
          },
          "ternary": {
           "aaxis": {
            "gridcolor": "white",
            "linecolor": "white",
            "ticks": ""
           },
           "baxis": {
            "gridcolor": "white",
            "linecolor": "white",
            "ticks": ""
           },
           "bgcolor": "#E5ECF6",
           "caxis": {
            "gridcolor": "white",
            "linecolor": "white",
            "ticks": ""
           }
          },
          "title": {
           "x": 0.05
          },
          "xaxis": {
           "automargin": true,
           "gridcolor": "white",
           "linecolor": "white",
           "ticks": "",
           "title": {
            "standoff": 15
           },
           "zerolinecolor": "white",
           "zerolinewidth": 2
          },
          "yaxis": {
           "automargin": true,
           "gridcolor": "white",
           "linecolor": "white",
           "ticks": "",
           "title": {
            "standoff": 15
           },
           "zerolinecolor": "white",
           "zerolinewidth": 2
          }
         }
        },
        "width": 800,
        "xaxis": {
         "anchor": "y",
         "domain": [
          0,
          1
         ],
         "tickfont": {
          "family": "Times New Roman",
          "size": 8
         },
         "title": {
          "text": "taxonomic_bins"
         }
        },
        "yaxis": {
         "anchor": "x",
         "domain": [
          0,
          1
         ],
         "tickfont": {
          "family": "Times New Roman",
          "size": 8
         },
         "title": {
          "text": "KEGG_ko"
         }
        }
       }
      }
     },
     "metadata": {},
     "output_type": "display_data"
    }
   ],
   "source": [
    "# Now, model the relation between functional richness and the number of taxonomic_bins\n",
    "# Statistical tests\n",
    "# calculate the linear regression\n",
    "slope, intercept, r_value, p_value, std_err = stats.linregress(plot_data['taxonomic_bins'], plot_data[func_info])\n",
    "\n",
    "# calculate the correlation coefficient and its p-value\n",
    "corr_coeff, p_value_corr = stats.pearsonr(plot_data['taxonomic_bins'], plot_data[func_info])\n",
    "\n",
    "# calculate descriptive statistics\n",
    "mean_taxonomic_bins = np.mean(plot_data['taxonomic_bins'])\n",
    "mean_ko = np.mean(plot_data[func_info])\n",
    "std_taxonomic_bins = np.std(plot_data['taxonomic_bins'])\n",
    "std_ko = np.std(plot_data[func_info])\n",
    "min_taxonomic_bins = np.min(plot_data['taxonomic_bins'])\n",
    "min_ko = np.min(plot_data[func_info])\n",
    "max_taxonomic_bins = np.max(plot_data['taxonomic_bins'])\n",
    "max_ko = np.max(plot_data[func_info])\n",
    "\n",
    "# print the results\n",
    "print(\"Linear regression results:\")\n",
    "print(\"Slope: {:.2f}, Intercept: {:.2f}, R-squared: {:.2f}, P-value: {:.4f}, Standard error: {:.2f}\".format(slope, intercept, r_value**2, p_value, std_err))\n",
    "print(\"\\nCorrelation coefficient: {:.2f}, P-value: {:.4f}\".format(corr_coeff, p_value_corr))\n",
    "print(\"\\nDescriptive statistics:\")\n",
    "print(\"Mean number of taxonomic_bins: {:.2f}, Standard deviation: {:.2f}, Range: {}-{}\".format(mean_taxonomic_bins, std_taxonomic_bins, min_taxonomic_bins, max_taxonomic_bins))\n",
    "print(\"Mean number of KO identifiers: {:.2f}, Standard deviation: {:.2f}, Range: {}-{}\".format(mean_ko, std_ko, min_ko, max_ko))\n",
    "\n",
    "# Plot variation in taxonomic richness, colored by station\n",
    "fig = px.scatter(plot_data,\n",
    "        x = 'taxonomic_bins',\n",
    "        y = func_info,\n",
    "        color = 'month')\n",
    "\n",
    "# Update plot size, font, and font size\n",
    "fig.update_layout(\n",
    "        width=800,\n",
    "        height=600,\n",
    "        font=dict(\n",
    "            family='Times New Roman',\n",
    "            size=8\n",
    "        )\n",
    ")\n",
    "\n",
    "fig.update_xaxes(tickfont=dict(family='Times New Roman', size=8))\n",
    "fig.update_yaxes(tickfont=dict(family='Times New Roman', size=8))\n",
    "\n",
    "# Don't add a linear regression line, because it's not a good fit\n",
    "\n",
    "# Convert the size from cm to inches (1 inch = 2.54 cm)\n",
    "width_in_inches = 8.5 / 2.54\n",
    "height_in_inches = 7.5 / 2.54\n",
    "\n",
    "# Save the figure as an SVG file\n",
    "fig.write_image(\"../../figures/biodiversity_functional_diversity/taxonomic_bins_KO.svg\", width=int(width_in_inches * 96), height=int(height_in_inches * 96), scale=1, format='svg')\n",
    "\n",
    "fig.show()"
   ]
  },
  {
   "cell_type": "code",
   "execution_count": 94,
   "metadata": {},
   "outputs": [
    {
     "name": "stdout",
     "output_type": "stream",
     "text": [
      "Linear regression results:\n",
      "Slope: 0.00, Intercept: 0.62, R-squared: 0.01, P-value: 0.5002, Standard error: 0.00\n",
      "\n",
      "Correlation coefficient: 0.09, P-value: 0.5002\n",
      "\n",
      "Descriptive statistics:\n",
      "Mean number of species: 5633.58, Standard deviation: 834.69, Range: 3642.0-7264.0\n",
      "Mean number of cells per L: 0.68, Standard deviation: 0.11, Range: 0.37289003224308-0.854515773132449\n"
     ]
    },
    {
     "data": {
      "application/vnd.plotly.v1+json": {
       "config": {
        "plotlyServerURL": "https://plot.ly"
       },
       "data": [
        {
         "hovertemplate": "month=January_2021<br>KEGG_ko=%{x}<br>evenness=%{y}<extra></extra>",
         "legendgroup": "January_2021",
         "marker": {
          "color": "#636efa",
          "symbol": "circle"
         },
         "mode": "markers",
         "name": "January_2021",
         "orientation": "v",
         "showlegend": true,
         "type": "scatter",
         "x": [
          6328,
          6805,
          3644,
          5499,
          6125
         ],
         "xaxis": "x",
         "y": [
          0.805906219747483,
          0.648068547395671,
          0.706188560736375,
          0.73909178885434,
          0.7615288849151
         ],
         "yaxis": "y"
        },
        {
         "hovertemplate": "month=February_2021<br>KEGG_ko=%{x}<br>evenness=%{y}<extra></extra>",
         "legendgroup": "February_2021",
         "marker": {
          "color": "#EF553B",
          "symbol": "circle"
         },
         "mode": "markers",
         "name": "February_2021",
         "orientation": "v",
         "showlegend": true,
         "type": "scatter",
         "x": [
          6628,
          6843,
          6244,
          4613,
          6141
         ],
         "xaxis": "x",
         "y": [
          0.788513820017372,
          0.794526595779621,
          0.782696984639692,
          0.636063257827806,
          0.753821216685684
         ],
         "yaxis": "y"
        },
        {
         "hovertemplate": "month=April_2021<br>KEGG_ko=%{x}<br>evenness=%{y}<extra></extra>",
         "legendgroup": "April_2021",
         "marker": {
          "color": "#00cc96",
          "symbol": "circle"
         },
         "mode": "markers",
         "name": "April_2021",
         "orientation": "v",
         "showlegend": true,
         "type": "scatter",
         "x": [
          6783,
          4785,
          6281,
          5242
         ],
         "xaxis": "x",
         "y": [
          0.765979883018221,
          0.481577786089378,
          0.530793209727871,
          0.555966427888927
         ],
         "yaxis": "y"
        },
        {
         "hovertemplate": "month=May_2021<br>KEGG_ko=%{x}<br>evenness=%{y}<extra></extra>",
         "legendgroup": "May_2021",
         "marker": {
          "color": "#ab63fa",
          "symbol": "circle"
         },
         "mode": "markers",
         "name": "May_2021",
         "orientation": "v",
         "showlegend": true,
         "type": "scatter",
         "x": [
          5353,
          5237,
          6436,
          5491,
          5590,
          5100
         ],
         "xaxis": "x",
         "y": [
          0.493422126956604,
          0.577128488447847,
          0.666107565649637,
          0.516123863185995,
          0.602718956809309,
          0.65124366548249
         ],
         "yaxis": "y"
        },
        {
         "hovertemplate": "month=June_2021<br>KEGG_ko=%{x}<br>evenness=%{y}<extra></extra>",
         "legendgroup": "June_2021",
         "marker": {
          "color": "#FFA15A",
          "symbol": "circle"
         },
         "mode": "markers",
         "name": "June_2021",
         "orientation": "v",
         "showlegend": true,
         "type": "scatter",
         "x": [
          6219,
          6959,
          4000,
          5340,
          5386,
          4425
         ],
         "xaxis": "x",
         "y": [
          0.724951610953183,
          0.486107636795579,
          0.748767360365367,
          0.78462886576163,
          0.770556367885817,
          0.713280346947471
         ],
         "yaxis": "y"
        },
        {
         "hovertemplate": "month=July_2021<br>KEGG_ko=%{x}<br>evenness=%{y}<extra></extra>",
         "legendgroup": "July_2021",
         "marker": {
          "color": "#19d3f3",
          "symbol": "circle"
         },
         "mode": "markers",
         "name": "July_2021",
         "orientation": "v",
         "showlegend": true,
         "type": "scatter",
         "x": [
          5285,
          6218,
          6208,
          5982,
          7264,
          5357
         ],
         "xaxis": "x",
         "y": [
          0.612218191886648,
          0.724928124811752,
          0.526020071996105,
          0.757290616528965,
          0.485918594311824,
          0.755589827915849
         ],
         "yaxis": "y"
        },
        {
         "hovertemplate": "month=July_2020<br>KEGG_ko=%{x}<br>evenness=%{y}<extra></extra>",
         "legendgroup": "July_2020",
         "marker": {
          "color": "#FF6692",
          "symbol": "circle"
         },
         "mode": "markers",
         "name": "July_2020",
         "orientation": "v",
         "showlegend": true,
         "type": "scatter",
         "x": [
          4640,
          3642,
          4672,
          5681,
          4836,
          5173
         ],
         "xaxis": "x",
         "y": [
          0.710326724584563,
          0.540305525912682,
          0.73202675872178,
          0.37289003224308,
          0.704808829435555,
          0.589360094739455
         ],
         "yaxis": "y"
        },
        {
         "hovertemplate": "month=August_2020<br>KEGG_ko=%{x}<br>evenness=%{y}<extra></extra>",
         "legendgroup": "August_2020",
         "marker": {
          "color": "#B6E880",
          "symbol": "circle"
         },
         "mode": "markers",
         "name": "August_2020",
         "orientation": "v",
         "showlegend": true,
         "type": "scatter",
         "x": [
          6539,
          4995,
          6778,
          5053,
          5648,
          5758
         ],
         "xaxis": "x",
         "y": [
          0.693355975930203,
          0.516522025923176,
          0.629452597609619,
          0.543894865724069,
          0.570207759377477,
          0.664481456727107
         ],
         "yaxis": "y"
        },
        {
         "hovertemplate": "month=September_2020<br>KEGG_ko=%{x}<br>evenness=%{y}<extra></extra>",
         "legendgroup": "September_2020",
         "marker": {
          "color": "#FF97FF",
          "symbol": "circle"
         },
         "mode": "markers",
         "name": "September_2020",
         "orientation": "v",
         "showlegend": true,
         "type": "scatter",
         "x": [
          4643,
          5135,
          4852,
          6950,
          6801,
          5083
         ],
         "xaxis": "x",
         "y": [
          0.818639091605697,
          0.72885820990013,
          0.786502237882651,
          0.743956436761435,
          0.762580812197596,
          0.689465051389417
         ],
         "yaxis": "y"
        },
        {
         "hovertemplate": "month=November_2020<br>KEGG_ko=%{x}<br>evenness=%{y}<extra></extra>",
         "legendgroup": "November_2020",
         "marker": {
          "color": "#FECB52",
          "symbol": "circle"
         },
         "mode": "markers",
         "name": "November_2020",
         "orientation": "v",
         "showlegend": true,
         "type": "scatter",
         "x": [
          4873,
          6217,
          5921,
          6383,
          6335,
          5199
         ],
         "xaxis": "x",
         "y": [
          0.506730527589014,
          0.774206105591574,
          0.821369174881004,
          0.781201748580408,
          0.773721148513612,
          0.716312834604845
         ],
         "yaxis": "y"
        },
        {
         "hovertemplate": "month=December_2020<br>KEGG_ko=%{x}<br>evenness=%{y}<extra></extra>",
         "legendgroup": "December_2020",
         "marker": {
          "color": "#636efa",
          "symbol": "circle"
         },
         "mode": "markers",
         "name": "December_2020",
         "orientation": "v",
         "showlegend": true,
         "type": "scatter",
         "x": [
          5131,
          4684,
          5810,
          6543,
          5619,
          5877
         ],
         "xaxis": "x",
         "y": [
          0.833638743436374,
          0.789028948203567,
          0.854515773132449,
          0.713156688350771,
          0.852375733243072,
          0.817975547520871
         ],
         "yaxis": "y"
        }
       ],
       "layout": {
        "font": {
         "family": "Times New Roman",
         "size": 8
        },
        "height": 600,
        "legend": {
         "title": {
          "text": "month"
         },
         "tracegroupgap": 0
        },
        "margin": {
         "t": 60
        },
        "template": {
         "data": {
          "bar": [
           {
            "error_x": {
             "color": "#2a3f5f"
            },
            "error_y": {
             "color": "#2a3f5f"
            },
            "marker": {
             "line": {
              "color": "#E5ECF6",
              "width": 0.5
             },
             "pattern": {
              "fillmode": "overlay",
              "size": 10,
              "solidity": 0.2
             }
            },
            "type": "bar"
           }
          ],
          "barpolar": [
           {
            "marker": {
             "line": {
              "color": "#E5ECF6",
              "width": 0.5
             },
             "pattern": {
              "fillmode": "overlay",
              "size": 10,
              "solidity": 0.2
             }
            },
            "type": "barpolar"
           }
          ],
          "carpet": [
           {
            "aaxis": {
             "endlinecolor": "#2a3f5f",
             "gridcolor": "white",
             "linecolor": "white",
             "minorgridcolor": "white",
             "startlinecolor": "#2a3f5f"
            },
            "baxis": {
             "endlinecolor": "#2a3f5f",
             "gridcolor": "white",
             "linecolor": "white",
             "minorgridcolor": "white",
             "startlinecolor": "#2a3f5f"
            },
            "type": "carpet"
           }
          ],
          "choropleth": [
           {
            "colorbar": {
             "outlinewidth": 0,
             "ticks": ""
            },
            "type": "choropleth"
           }
          ],
          "contour": [
           {
            "colorbar": {
             "outlinewidth": 0,
             "ticks": ""
            },
            "colorscale": [
             [
              0,
              "#0d0887"
             ],
             [
              0.1111111111111111,
              "#46039f"
             ],
             [
              0.2222222222222222,
              "#7201a8"
             ],
             [
              0.3333333333333333,
              "#9c179e"
             ],
             [
              0.4444444444444444,
              "#bd3786"
             ],
             [
              0.5555555555555556,
              "#d8576b"
             ],
             [
              0.6666666666666666,
              "#ed7953"
             ],
             [
              0.7777777777777778,
              "#fb9f3a"
             ],
             [
              0.8888888888888888,
              "#fdca26"
             ],
             [
              1,
              "#f0f921"
             ]
            ],
            "type": "contour"
           }
          ],
          "contourcarpet": [
           {
            "colorbar": {
             "outlinewidth": 0,
             "ticks": ""
            },
            "type": "contourcarpet"
           }
          ],
          "heatmap": [
           {
            "colorbar": {
             "outlinewidth": 0,
             "ticks": ""
            },
            "colorscale": [
             [
              0,
              "#0d0887"
             ],
             [
              0.1111111111111111,
              "#46039f"
             ],
             [
              0.2222222222222222,
              "#7201a8"
             ],
             [
              0.3333333333333333,
              "#9c179e"
             ],
             [
              0.4444444444444444,
              "#bd3786"
             ],
             [
              0.5555555555555556,
              "#d8576b"
             ],
             [
              0.6666666666666666,
              "#ed7953"
             ],
             [
              0.7777777777777778,
              "#fb9f3a"
             ],
             [
              0.8888888888888888,
              "#fdca26"
             ],
             [
              1,
              "#f0f921"
             ]
            ],
            "type": "heatmap"
           }
          ],
          "heatmapgl": [
           {
            "colorbar": {
             "outlinewidth": 0,
             "ticks": ""
            },
            "colorscale": [
             [
              0,
              "#0d0887"
             ],
             [
              0.1111111111111111,
              "#46039f"
             ],
             [
              0.2222222222222222,
              "#7201a8"
             ],
             [
              0.3333333333333333,
              "#9c179e"
             ],
             [
              0.4444444444444444,
              "#bd3786"
             ],
             [
              0.5555555555555556,
              "#d8576b"
             ],
             [
              0.6666666666666666,
              "#ed7953"
             ],
             [
              0.7777777777777778,
              "#fb9f3a"
             ],
             [
              0.8888888888888888,
              "#fdca26"
             ],
             [
              1,
              "#f0f921"
             ]
            ],
            "type": "heatmapgl"
           }
          ],
          "histogram": [
           {
            "marker": {
             "pattern": {
              "fillmode": "overlay",
              "size": 10,
              "solidity": 0.2
             }
            },
            "type": "histogram"
           }
          ],
          "histogram2d": [
           {
            "colorbar": {
             "outlinewidth": 0,
             "ticks": ""
            },
            "colorscale": [
             [
              0,
              "#0d0887"
             ],
             [
              0.1111111111111111,
              "#46039f"
             ],
             [
              0.2222222222222222,
              "#7201a8"
             ],
             [
              0.3333333333333333,
              "#9c179e"
             ],
             [
              0.4444444444444444,
              "#bd3786"
             ],
             [
              0.5555555555555556,
              "#d8576b"
             ],
             [
              0.6666666666666666,
              "#ed7953"
             ],
             [
              0.7777777777777778,
              "#fb9f3a"
             ],
             [
              0.8888888888888888,
              "#fdca26"
             ],
             [
              1,
              "#f0f921"
             ]
            ],
            "type": "histogram2d"
           }
          ],
          "histogram2dcontour": [
           {
            "colorbar": {
             "outlinewidth": 0,
             "ticks": ""
            },
            "colorscale": [
             [
              0,
              "#0d0887"
             ],
             [
              0.1111111111111111,
              "#46039f"
             ],
             [
              0.2222222222222222,
              "#7201a8"
             ],
             [
              0.3333333333333333,
              "#9c179e"
             ],
             [
              0.4444444444444444,
              "#bd3786"
             ],
             [
              0.5555555555555556,
              "#d8576b"
             ],
             [
              0.6666666666666666,
              "#ed7953"
             ],
             [
              0.7777777777777778,
              "#fb9f3a"
             ],
             [
              0.8888888888888888,
              "#fdca26"
             ],
             [
              1,
              "#f0f921"
             ]
            ],
            "type": "histogram2dcontour"
           }
          ],
          "mesh3d": [
           {
            "colorbar": {
             "outlinewidth": 0,
             "ticks": ""
            },
            "type": "mesh3d"
           }
          ],
          "parcoords": [
           {
            "line": {
             "colorbar": {
              "outlinewidth": 0,
              "ticks": ""
             }
            },
            "type": "parcoords"
           }
          ],
          "pie": [
           {
            "automargin": true,
            "type": "pie"
           }
          ],
          "scatter": [
           {
            "marker": {
             "colorbar": {
              "outlinewidth": 0,
              "ticks": ""
             }
            },
            "type": "scatter"
           }
          ],
          "scatter3d": [
           {
            "line": {
             "colorbar": {
              "outlinewidth": 0,
              "ticks": ""
             }
            },
            "marker": {
             "colorbar": {
              "outlinewidth": 0,
              "ticks": ""
             }
            },
            "type": "scatter3d"
           }
          ],
          "scattercarpet": [
           {
            "marker": {
             "colorbar": {
              "outlinewidth": 0,
              "ticks": ""
             }
            },
            "type": "scattercarpet"
           }
          ],
          "scattergeo": [
           {
            "marker": {
             "colorbar": {
              "outlinewidth": 0,
              "ticks": ""
             }
            },
            "type": "scattergeo"
           }
          ],
          "scattergl": [
           {
            "marker": {
             "colorbar": {
              "outlinewidth": 0,
              "ticks": ""
             }
            },
            "type": "scattergl"
           }
          ],
          "scattermapbox": [
           {
            "marker": {
             "colorbar": {
              "outlinewidth": 0,
              "ticks": ""
             }
            },
            "type": "scattermapbox"
           }
          ],
          "scatterpolar": [
           {
            "marker": {
             "colorbar": {
              "outlinewidth": 0,
              "ticks": ""
             }
            },
            "type": "scatterpolar"
           }
          ],
          "scatterpolargl": [
           {
            "marker": {
             "colorbar": {
              "outlinewidth": 0,
              "ticks": ""
             }
            },
            "type": "scatterpolargl"
           }
          ],
          "scatterternary": [
           {
            "marker": {
             "colorbar": {
              "outlinewidth": 0,
              "ticks": ""
             }
            },
            "type": "scatterternary"
           }
          ],
          "surface": [
           {
            "colorbar": {
             "outlinewidth": 0,
             "ticks": ""
            },
            "colorscale": [
             [
              0,
              "#0d0887"
             ],
             [
              0.1111111111111111,
              "#46039f"
             ],
             [
              0.2222222222222222,
              "#7201a8"
             ],
             [
              0.3333333333333333,
              "#9c179e"
             ],
             [
              0.4444444444444444,
              "#bd3786"
             ],
             [
              0.5555555555555556,
              "#d8576b"
             ],
             [
              0.6666666666666666,
              "#ed7953"
             ],
             [
              0.7777777777777778,
              "#fb9f3a"
             ],
             [
              0.8888888888888888,
              "#fdca26"
             ],
             [
              1,
              "#f0f921"
             ]
            ],
            "type": "surface"
           }
          ],
          "table": [
           {
            "cells": {
             "fill": {
              "color": "#EBF0F8"
             },
             "line": {
              "color": "white"
             }
            },
            "header": {
             "fill": {
              "color": "#C8D4E3"
             },
             "line": {
              "color": "white"
             }
            },
            "type": "table"
           }
          ]
         },
         "layout": {
          "annotationdefaults": {
           "arrowcolor": "#2a3f5f",
           "arrowhead": 0,
           "arrowwidth": 1
          },
          "autotypenumbers": "strict",
          "coloraxis": {
           "colorbar": {
            "outlinewidth": 0,
            "ticks": ""
           }
          },
          "colorscale": {
           "diverging": [
            [
             0,
             "#8e0152"
            ],
            [
             0.1,
             "#c51b7d"
            ],
            [
             0.2,
             "#de77ae"
            ],
            [
             0.3,
             "#f1b6da"
            ],
            [
             0.4,
             "#fde0ef"
            ],
            [
             0.5,
             "#f7f7f7"
            ],
            [
             0.6,
             "#e6f5d0"
            ],
            [
             0.7,
             "#b8e186"
            ],
            [
             0.8,
             "#7fbc41"
            ],
            [
             0.9,
             "#4d9221"
            ],
            [
             1,
             "#276419"
            ]
           ],
           "sequential": [
            [
             0,
             "#0d0887"
            ],
            [
             0.1111111111111111,
             "#46039f"
            ],
            [
             0.2222222222222222,
             "#7201a8"
            ],
            [
             0.3333333333333333,
             "#9c179e"
            ],
            [
             0.4444444444444444,
             "#bd3786"
            ],
            [
             0.5555555555555556,
             "#d8576b"
            ],
            [
             0.6666666666666666,
             "#ed7953"
            ],
            [
             0.7777777777777778,
             "#fb9f3a"
            ],
            [
             0.8888888888888888,
             "#fdca26"
            ],
            [
             1,
             "#f0f921"
            ]
           ],
           "sequentialminus": [
            [
             0,
             "#0d0887"
            ],
            [
             0.1111111111111111,
             "#46039f"
            ],
            [
             0.2222222222222222,
             "#7201a8"
            ],
            [
             0.3333333333333333,
             "#9c179e"
            ],
            [
             0.4444444444444444,
             "#bd3786"
            ],
            [
             0.5555555555555556,
             "#d8576b"
            ],
            [
             0.6666666666666666,
             "#ed7953"
            ],
            [
             0.7777777777777778,
             "#fb9f3a"
            ],
            [
             0.8888888888888888,
             "#fdca26"
            ],
            [
             1,
             "#f0f921"
            ]
           ]
          },
          "colorway": [
           "#636efa",
           "#EF553B",
           "#00cc96",
           "#ab63fa",
           "#FFA15A",
           "#19d3f3",
           "#FF6692",
           "#B6E880",
           "#FF97FF",
           "#FECB52"
          ],
          "font": {
           "color": "#2a3f5f"
          },
          "geo": {
           "bgcolor": "white",
           "lakecolor": "white",
           "landcolor": "#E5ECF6",
           "showlakes": true,
           "showland": true,
           "subunitcolor": "white"
          },
          "hoverlabel": {
           "align": "left"
          },
          "hovermode": "closest",
          "mapbox": {
           "style": "light"
          },
          "paper_bgcolor": "white",
          "plot_bgcolor": "#E5ECF6",
          "polar": {
           "angularaxis": {
            "gridcolor": "white",
            "linecolor": "white",
            "ticks": ""
           },
           "bgcolor": "#E5ECF6",
           "radialaxis": {
            "gridcolor": "white",
            "linecolor": "white",
            "ticks": ""
           }
          },
          "scene": {
           "xaxis": {
            "backgroundcolor": "#E5ECF6",
            "gridcolor": "white",
            "gridwidth": 2,
            "linecolor": "white",
            "showbackground": true,
            "ticks": "",
            "zerolinecolor": "white"
           },
           "yaxis": {
            "backgroundcolor": "#E5ECF6",
            "gridcolor": "white",
            "gridwidth": 2,
            "linecolor": "white",
            "showbackground": true,
            "ticks": "",
            "zerolinecolor": "white"
           },
           "zaxis": {
            "backgroundcolor": "#E5ECF6",
            "gridcolor": "white",
            "gridwidth": 2,
            "linecolor": "white",
            "showbackground": true,
            "ticks": "",
            "zerolinecolor": "white"
           }
          },
          "shapedefaults": {
           "line": {
            "color": "#2a3f5f"
           }
          },
          "ternary": {
           "aaxis": {
            "gridcolor": "white",
            "linecolor": "white",
            "ticks": ""
           },
           "baxis": {
            "gridcolor": "white",
            "linecolor": "white",
            "ticks": ""
           },
           "bgcolor": "#E5ECF6",
           "caxis": {
            "gridcolor": "white",
            "linecolor": "white",
            "ticks": ""
           }
          },
          "title": {
           "x": 0.05
          },
          "xaxis": {
           "automargin": true,
           "gridcolor": "white",
           "linecolor": "white",
           "ticks": "",
           "title": {
            "standoff": 15
           },
           "zerolinecolor": "white",
           "zerolinewidth": 2
          },
          "yaxis": {
           "automargin": true,
           "gridcolor": "white",
           "linecolor": "white",
           "ticks": "",
           "title": {
            "standoff": 15
           },
           "zerolinecolor": "white",
           "zerolinewidth": 2
          }
         }
        },
        "width": 800,
        "xaxis": {
         "anchor": "y",
         "domain": [
          0,
          1
         ],
         "tickfont": {
          "family": "Times New Roman",
          "size": 8
         },
         "title": {
          "text": "KEGG_ko"
         }
        },
        "yaxis": {
         "anchor": "x",
         "domain": [
          0,
          1
         ],
         "tickfont": {
          "family": "Times New Roman",
          "size": 8
         },
         "title": {
          "text": "evenness"
         }
        }
       }
      }
     },
     "metadata": {},
     "output_type": "display_data"
    }
   ],
   "source": [
    "# Model the relationship between evenness and functional richness\n",
    "# Statistical tests\n",
    "# calculate the linear regression\n",
    "slope, intercept, r_value, p_value, std_err = stats.linregress(plot_data[func_info], plot_data['evenness'])\n",
    "\n",
    "# calculate the correlation coefficient and its p-value\n",
    "corr_coeff, p_value_corr = stats.pearsonr(plot_data[func_info], plot_data['evenness'])\n",
    "\n",
    "# calculate descriptive statistics\n",
    "mean_species = np.mean(plot_data[func_info])\n",
    "mean_biomass = np.mean(plot_data['evenness'])\n",
    "std_species = np.std(plot_data[func_info])\n",
    "std_biomass = np.std(plot_data['evenness'])\n",
    "min_species = np.min(plot_data[func_info])\n",
    "min_biomass = np.min(plot_data['evenness'])\n",
    "max_species = np.max(plot_data[func_info])\n",
    "max_biomass = np.max(plot_data['evenness'])\n",
    "\n",
    "# print the results\n",
    "print(\"Linear regression results:\")\n",
    "print(\"Slope: {:.2f}, Intercept: {:.2f}, R-squared: {:.2f}, P-value: {:.4f}, Standard error: {:.2f}\".format(slope, intercept, r_value**2, p_value, std_err))\n",
    "print(\"\\nCorrelation coefficient: {:.2f}, P-value: {:.4f}\".format(corr_coeff, p_value_corr))\n",
    "print(\"\\nDescriptive statistics:\")\n",
    "print(\"Mean number of species: {:.2f}, Standard deviation: {:.2f}, Range: {}-{}\".format(mean_species, std_species, min_species, max_species))\n",
    "print(\"Mean number of cells per L: {:.2f}, Standard deviation: {:.2f}, Range: {}-{}\".format(mean_biomass, std_biomass, min_biomass, max_biomass))\n",
    "\n",
    "# Plot variation in taxonomic diversity, colored by station\n",
    "fig = px.scatter(plot_data,\n",
    "        x = 'KEGG_ko',\n",
    "        y = 'evenness',\n",
    "        color = 'month')\n",
    "\n",
    "# Update plot size, font, and font size\n",
    "fig.update_layout(\n",
    "        width=800,\n",
    "        height=600,\n",
    "        font=dict(\n",
    "            family='Times New Roman',\n",
    "            size=8\n",
    "        )\n",
    ")\n",
    "\n",
    "fig.update_xaxes(tickfont=dict(family='Times New Roman', size=8))\n",
    "fig.update_yaxes(tickfont=dict(family='Times New Roman', size=8))\n",
    "\n",
    "# Save the figure as an SVG file\n",
    "fig.write_image(\"../../figures/biodiversity_functional_diversity/evenness_KO.svg\", width=int(width_in_inches * 96), height=int(height_in_inches * 96), scale=1, format='svg')\n",
    "\n",
    "fig.show()\n"
   ]
  },
  {
   "cell_type": "code",
   "execution_count": 118,
   "metadata": {},
   "outputs": [
    {
     "name": "stdout",
     "output_type": "stream",
     "text": [
      "Linear regression results:\n",
      "Slope: -0.00, Intercept: 16.36, R-squared: 0.18, P-value: 0.0011, Standard error: 0.00\n",
      "\n",
      "Correlation coefficient: -0.42, P-value: 0.0011\n",
      "\n",
      "Descriptive statistics:\n",
      "Mean number of taxonomic_bins: 15.07, Standard deviation: 6.51, Range: 4-27\n",
      "Mean number of cells per L: 983.56, Standard deviation: 2103.98, Range: 8.156771831524296-10169.858309307589\n"
     ]
    },
    {
     "data": {
      "application/vnd.plotly.v1+json": {
       "config": {
        "plotlyServerURL": "https://plot.ly"
       },
       "data": [
        {
         "hovertemplate": "month=January_2021<br>average_cells_L=%{x}<br>taxonomic_bins=%{y}<extra></extra>",
         "legendgroup": "January_2021",
         "marker": {
          "color": "#636efa",
          "symbol": "circle"
         },
         "mode": "markers",
         "name": "January_2021",
         "orientation": "v",
         "showlegend": true,
         "type": "scatter",
         "x": [
          14.956718863842529,
          8.156771831524296,
          380.3610389243936,
          37.984238883321495,
          12.049578025491083
         ],
         "xaxis": "x",
         "y": [
          19,
          16,
          7,
          15,
          17
         ],
         "yaxis": "y"
        },
        {
         "hovertemplate": "month=February_2021<br>average_cells_L=%{x}<br>taxonomic_bins=%{y}<extra></extra>",
         "legendgroup": "February_2021",
         "marker": {
          "color": "#EF553B",
          "symbol": "circle"
         },
         "mode": "markers",
         "name": "February_2021",
         "orientation": "v",
         "showlegend": true,
         "type": "scatter",
         "x": [
          36.1189306509928,
          87.73894917117028,
          40.59872593495876,
          38.46039055339103,
          16.253623037908703
         ],
         "xaxis": "x",
         "y": [
          21,
          25,
          20,
          14,
          23
         ],
         "yaxis": "y"
        },
        {
         "hovertemplate": "month=April_2021<br>average_cells_L=%{x}<br>taxonomic_bins=%{y}<extra></extra>",
         "legendgroup": "April_2021",
         "marker": {
          "color": "#00cc96",
          "symbol": "circle"
         },
         "mode": "markers",
         "name": "April_2021",
         "orientation": "v",
         "showlegend": true,
         "type": "scatter",
         "x": [
          614.0956251913252,
          893.9661485468494,
          328.79021586844715,
          132.36600001095593
         ],
         "xaxis": "x",
         "y": [
          16,
          9,
          9,
          11
         ],
         "yaxis": "y"
        },
        {
         "hovertemplate": "month=May_2021<br>average_cells_L=%{x}<br>taxonomic_bins=%{y}<extra></extra>",
         "legendgroup": "May_2021",
         "marker": {
          "color": "#ab63fa",
          "symbol": "circle"
         },
         "mode": "markers",
         "name": "May_2021",
         "orientation": "v",
         "showlegend": true,
         "type": "scatter",
         "x": [
          119.9073935032324,
          7063.32417187861,
          31.047027955697413,
          57.06469853781704,
          150.0241788387292,
          13.44217067814516
         ],
         "xaxis": "x",
         "y": [
          6,
          6,
          8,
          13,
          9,
          9
         ],
         "yaxis": "y"
        },
        {
         "hovertemplate": "month=June_2021<br>average_cells_L=%{x}<br>taxonomic_bins=%{y}<extra></extra>",
         "legendgroup": "June_2021",
         "marker": {
          "color": "#FFA15A",
          "symbol": "circle"
         },
         "mode": "markers",
         "name": "June_2021",
         "orientation": "v",
         "showlegend": true,
         "type": "scatter",
         "x": [
          564.1395755143787,
          107.25965562598113,
          1599.5360092364538,
          152.62412529736392,
          427.20669447773,
          2056.106667382378
         ],
         "xaxis": "x",
         "y": [
          10,
          16,
          9,
          11,
          6,
          10
         ],
         "yaxis": "y"
        },
        {
         "hovertemplate": "month=July_2021<br>average_cells_L=%{x}<br>taxonomic_bins=%{y}<extra></extra>",
         "legendgroup": "July_2021",
         "marker": {
          "color": "#19d3f3",
          "symbol": "circle"
         },
         "mode": "markers",
         "name": "July_2021",
         "orientation": "v",
         "showlegend": true,
         "type": "scatter",
         "x": [
          793.3362658752118,
          1642.4673332720365,
          546.9911401372815,
          7304.677791483297,
          10169.858309307589
         ],
         "xaxis": "x",
         "y": [
          13,
          4,
          24,
          6,
          6
         ],
         "yaxis": "y"
        },
        {
         "hovertemplate": "month=July_2020<br>average_cells_L=%{x}<br>taxonomic_bins=%{y}<extra></extra>",
         "legendgroup": "July_2020",
         "marker": {
          "color": "#FF6692",
          "symbol": "circle"
         },
         "mode": "markers",
         "name": "July_2020",
         "orientation": "v",
         "showlegend": true,
         "type": "scatter",
         "x": [
          7225.684535441331,
          2367.733646558549,
          362.1762607455035,
          5087.140591153802
         ],
         "xaxis": "x",
         "y": [
          12,
          17,
          4,
          7
         ],
         "yaxis": "y"
        },
        {
         "hovertemplate": "month=August_2020<br>average_cells_L=%{x}<br>taxonomic_bins=%{y}<extra></extra>",
         "legendgroup": "August_2020",
         "marker": {
          "color": "#B6E880",
          "symbol": "circle"
         },
         "mode": "markers",
         "name": "August_2020",
         "orientation": "v",
         "showlegend": true,
         "type": "scatter",
         "x": [
          279.3560886770523,
          962.089742543044,
          250.8752278285737,
          367.3717071192835,
          126.09621737729474,
          1694.4132225779845
         ],
         "xaxis": "x",
         "y": [
          11,
          13,
          13,
          13,
          13,
          14
         ],
         "yaxis": "y"
        },
        {
         "hovertemplate": "month=September_2020<br>average_cells_L=%{x}<br>taxonomic_bins=%{y}<extra></extra>",
         "legendgroup": "September_2020",
         "marker": {
          "color": "#FF97FF",
          "symbol": "circle"
         },
         "mode": "markers",
         "name": "September_2020",
         "orientation": "v",
         "showlegend": true,
         "type": "scatter",
         "x": [
          309.52244150172726,
          314.29570140702594,
          340.99992093915785,
          216.05248678791875,
          94.91691447932293,
          72.35837365082176
         ],
         "xaxis": "x",
         "y": [
          26,
          23,
          23,
          26,
          21,
          23
         ],
         "yaxis": "y"
        },
        {
         "hovertemplate": "month=November_2020<br>average_cells_L=%{x}<br>taxonomic_bins=%{y}<extra></extra>",
         "legendgroup": "November_2020",
         "marker": {
          "color": "#FECB52",
          "symbol": "circle"
         },
         "mode": "markers",
         "name": "November_2020",
         "orientation": "v",
         "showlegend": true,
         "type": "scatter",
         "x": [
          20.51407930210364,
          55.273253366965015,
          15.024188990211414,
          81.57844483489943
         ],
         "xaxis": "x",
         "y": [
          18,
          22,
          15,
          20
         ],
         "yaxis": "y"
        },
        {
         "hovertemplate": "month=December_2020<br>average_cells_L=%{x}<br>taxonomic_bins=%{y}<extra></extra>",
         "legendgroup": "December_2020",
         "marker": {
          "color": "#636efa",
          "symbol": "circle"
         },
         "mode": "markers",
         "name": "December_2020",
         "orientation": "v",
         "showlegend": true,
         "type": "scatter",
         "x": [
          50.854809093534655,
          53.90952475677659,
          34.52354708283394,
          182.26899019165165,
          22.50175025009793,
          34.33484655055181
         ],
         "xaxis": "x",
         "y": [
          23,
          27,
          23,
          22,
          21,
          21
         ],
         "yaxis": "y"
        },
        {
         "line": {
          "color": "black",
          "width": 1
         },
         "mode": "lines",
         "type": "scatter",
         "x": [
          14.956718863842529,
          8.156771831524296,
          380.3610389243936,
          37.984238883321495,
          12.049578025491083,
          36.1189306509928,
          87.73894917117028,
          40.59872593495876,
          38.46039055339103,
          16.253623037908703,
          614.0956251913252,
          893.9661485468494,
          328.79021586844715,
          132.36600001095593,
          119.9073935032324,
          7063.32417187861,
          31.047027955697413,
          57.06469853781704,
          150.0241788387292,
          13.44217067814516,
          564.1395755143787,
          107.25965562598113,
          1599.5360092364538,
          152.62412529736392,
          427.20669447773,
          2056.106667382378,
          793.3362658752118,
          1642.4673332720365,
          546.9911401372815,
          7304.677791483297,
          10169.858309307589,
          7225.684535441331,
          2367.733646558549,
          362.1762607455035,
          5087.140591153802,
          279.3560886770523,
          962.089742543044,
          250.8752278285737,
          367.3717071192835,
          126.09621737729474,
          1694.4132225779845,
          309.52244150172726,
          314.29570140702594,
          340.99992093915785,
          216.05248678791875,
          94.91691447932293,
          72.35837365082176,
          20.51407930210364,
          55.273253366965015,
          15.024188990211414,
          81.57844483489943,
          50.854809093534655,
          53.90952475677659,
          34.52354708283394,
          182.26899019165165,
          22.50175025009793,
          34.33484655055181
         ],
         "y": [
          16.335536732362502,
          16.34442005154836,
          15.85817960126085,
          16.305454025920874,
          16.339334564884222,
          16.3078908284914,
          16.24045543543386,
          16.30203851064162,
          16.304831990595304,
          16.333842481851878,
          15.552833261838469,
          15.187215827192999,
          15.925550726316127,
          16.18215552000079,
          16.19843120239849,
          7.127685917233016,
          16.314516664002735,
          16.280527682742278,
          16.159087216965105,
          16.337515308797283,
          15.618094878206351,
          16.214953962356578,
          14.2654730179269,
          16.15569069723511,
          15.79698134357246,
          13.669017947331087,
          15.318676758161928,
          14.209388367169007,
          15.640497262264471,
          6.812386220129268,
          3.069369848975521,
          6.915581480859418,
          13.261914493467266,
          15.881935843496182,
          9.709333896842729,
          15.990130513251016,
          15.098220482570449,
          16.02733735859888,
          15.875148612914536,
          16.190346242677908,
          14.141527262824368,
          15.95072177380918,
          15.944486079458281,
          15.909600203938105,
          16.072829113478814,
          16.231078280489225,
          16.26054832159314,
          16.328276704252087,
          16.282867992038955,
          16.33544859069534,
          16.24850339905841,
          16.288640162116057,
          16.284649540699498,
          16.309975006705212,
          16.11696321953181,
          16.325680049398223,
          16.31022152142817
         ]
        }
       ],
       "layout": {
        "font": {
         "family": "Times New Roman",
         "size": 8
        },
        "height": 600,
        "legend": {
         "title": {
          "text": "month"
         },
         "tracegroupgap": 0
        },
        "margin": {
         "t": 60
        },
        "template": {
         "data": {
          "bar": [
           {
            "error_x": {
             "color": "#2a3f5f"
            },
            "error_y": {
             "color": "#2a3f5f"
            },
            "marker": {
             "line": {
              "color": "#E5ECF6",
              "width": 0.5
             },
             "pattern": {
              "fillmode": "overlay",
              "size": 10,
              "solidity": 0.2
             }
            },
            "type": "bar"
           }
          ],
          "barpolar": [
           {
            "marker": {
             "line": {
              "color": "#E5ECF6",
              "width": 0.5
             },
             "pattern": {
              "fillmode": "overlay",
              "size": 10,
              "solidity": 0.2
             }
            },
            "type": "barpolar"
           }
          ],
          "carpet": [
           {
            "aaxis": {
             "endlinecolor": "#2a3f5f",
             "gridcolor": "white",
             "linecolor": "white",
             "minorgridcolor": "white",
             "startlinecolor": "#2a3f5f"
            },
            "baxis": {
             "endlinecolor": "#2a3f5f",
             "gridcolor": "white",
             "linecolor": "white",
             "minorgridcolor": "white",
             "startlinecolor": "#2a3f5f"
            },
            "type": "carpet"
           }
          ],
          "choropleth": [
           {
            "colorbar": {
             "outlinewidth": 0,
             "ticks": ""
            },
            "type": "choropleth"
           }
          ],
          "contour": [
           {
            "colorbar": {
             "outlinewidth": 0,
             "ticks": ""
            },
            "colorscale": [
             [
              0,
              "#0d0887"
             ],
             [
              0.1111111111111111,
              "#46039f"
             ],
             [
              0.2222222222222222,
              "#7201a8"
             ],
             [
              0.3333333333333333,
              "#9c179e"
             ],
             [
              0.4444444444444444,
              "#bd3786"
             ],
             [
              0.5555555555555556,
              "#d8576b"
             ],
             [
              0.6666666666666666,
              "#ed7953"
             ],
             [
              0.7777777777777778,
              "#fb9f3a"
             ],
             [
              0.8888888888888888,
              "#fdca26"
             ],
             [
              1,
              "#f0f921"
             ]
            ],
            "type": "contour"
           }
          ],
          "contourcarpet": [
           {
            "colorbar": {
             "outlinewidth": 0,
             "ticks": ""
            },
            "type": "contourcarpet"
           }
          ],
          "heatmap": [
           {
            "colorbar": {
             "outlinewidth": 0,
             "ticks": ""
            },
            "colorscale": [
             [
              0,
              "#0d0887"
             ],
             [
              0.1111111111111111,
              "#46039f"
             ],
             [
              0.2222222222222222,
              "#7201a8"
             ],
             [
              0.3333333333333333,
              "#9c179e"
             ],
             [
              0.4444444444444444,
              "#bd3786"
             ],
             [
              0.5555555555555556,
              "#d8576b"
             ],
             [
              0.6666666666666666,
              "#ed7953"
             ],
             [
              0.7777777777777778,
              "#fb9f3a"
             ],
             [
              0.8888888888888888,
              "#fdca26"
             ],
             [
              1,
              "#f0f921"
             ]
            ],
            "type": "heatmap"
           }
          ],
          "heatmapgl": [
           {
            "colorbar": {
             "outlinewidth": 0,
             "ticks": ""
            },
            "colorscale": [
             [
              0,
              "#0d0887"
             ],
             [
              0.1111111111111111,
              "#46039f"
             ],
             [
              0.2222222222222222,
              "#7201a8"
             ],
             [
              0.3333333333333333,
              "#9c179e"
             ],
             [
              0.4444444444444444,
              "#bd3786"
             ],
             [
              0.5555555555555556,
              "#d8576b"
             ],
             [
              0.6666666666666666,
              "#ed7953"
             ],
             [
              0.7777777777777778,
              "#fb9f3a"
             ],
             [
              0.8888888888888888,
              "#fdca26"
             ],
             [
              1,
              "#f0f921"
             ]
            ],
            "type": "heatmapgl"
           }
          ],
          "histogram": [
           {
            "marker": {
             "pattern": {
              "fillmode": "overlay",
              "size": 10,
              "solidity": 0.2
             }
            },
            "type": "histogram"
           }
          ],
          "histogram2d": [
           {
            "colorbar": {
             "outlinewidth": 0,
             "ticks": ""
            },
            "colorscale": [
             [
              0,
              "#0d0887"
             ],
             [
              0.1111111111111111,
              "#46039f"
             ],
             [
              0.2222222222222222,
              "#7201a8"
             ],
             [
              0.3333333333333333,
              "#9c179e"
             ],
             [
              0.4444444444444444,
              "#bd3786"
             ],
             [
              0.5555555555555556,
              "#d8576b"
             ],
             [
              0.6666666666666666,
              "#ed7953"
             ],
             [
              0.7777777777777778,
              "#fb9f3a"
             ],
             [
              0.8888888888888888,
              "#fdca26"
             ],
             [
              1,
              "#f0f921"
             ]
            ],
            "type": "histogram2d"
           }
          ],
          "histogram2dcontour": [
           {
            "colorbar": {
             "outlinewidth": 0,
             "ticks": ""
            },
            "colorscale": [
             [
              0,
              "#0d0887"
             ],
             [
              0.1111111111111111,
              "#46039f"
             ],
             [
              0.2222222222222222,
              "#7201a8"
             ],
             [
              0.3333333333333333,
              "#9c179e"
             ],
             [
              0.4444444444444444,
              "#bd3786"
             ],
             [
              0.5555555555555556,
              "#d8576b"
             ],
             [
              0.6666666666666666,
              "#ed7953"
             ],
             [
              0.7777777777777778,
              "#fb9f3a"
             ],
             [
              0.8888888888888888,
              "#fdca26"
             ],
             [
              1,
              "#f0f921"
             ]
            ],
            "type": "histogram2dcontour"
           }
          ],
          "mesh3d": [
           {
            "colorbar": {
             "outlinewidth": 0,
             "ticks": ""
            },
            "type": "mesh3d"
           }
          ],
          "parcoords": [
           {
            "line": {
             "colorbar": {
              "outlinewidth": 0,
              "ticks": ""
             }
            },
            "type": "parcoords"
           }
          ],
          "pie": [
           {
            "automargin": true,
            "type": "pie"
           }
          ],
          "scatter": [
           {
            "marker": {
             "colorbar": {
              "outlinewidth": 0,
              "ticks": ""
             }
            },
            "type": "scatter"
           }
          ],
          "scatter3d": [
           {
            "line": {
             "colorbar": {
              "outlinewidth": 0,
              "ticks": ""
             }
            },
            "marker": {
             "colorbar": {
              "outlinewidth": 0,
              "ticks": ""
             }
            },
            "type": "scatter3d"
           }
          ],
          "scattercarpet": [
           {
            "marker": {
             "colorbar": {
              "outlinewidth": 0,
              "ticks": ""
             }
            },
            "type": "scattercarpet"
           }
          ],
          "scattergeo": [
           {
            "marker": {
             "colorbar": {
              "outlinewidth": 0,
              "ticks": ""
             }
            },
            "type": "scattergeo"
           }
          ],
          "scattergl": [
           {
            "marker": {
             "colorbar": {
              "outlinewidth": 0,
              "ticks": ""
             }
            },
            "type": "scattergl"
           }
          ],
          "scattermapbox": [
           {
            "marker": {
             "colorbar": {
              "outlinewidth": 0,
              "ticks": ""
             }
            },
            "type": "scattermapbox"
           }
          ],
          "scatterpolar": [
           {
            "marker": {
             "colorbar": {
              "outlinewidth": 0,
              "ticks": ""
             }
            },
            "type": "scatterpolar"
           }
          ],
          "scatterpolargl": [
           {
            "marker": {
             "colorbar": {
              "outlinewidth": 0,
              "ticks": ""
             }
            },
            "type": "scatterpolargl"
           }
          ],
          "scatterternary": [
           {
            "marker": {
             "colorbar": {
              "outlinewidth": 0,
              "ticks": ""
             }
            },
            "type": "scatterternary"
           }
          ],
          "surface": [
           {
            "colorbar": {
             "outlinewidth": 0,
             "ticks": ""
            },
            "colorscale": [
             [
              0,
              "#0d0887"
             ],
             [
              0.1111111111111111,
              "#46039f"
             ],
             [
              0.2222222222222222,
              "#7201a8"
             ],
             [
              0.3333333333333333,
              "#9c179e"
             ],
             [
              0.4444444444444444,
              "#bd3786"
             ],
             [
              0.5555555555555556,
              "#d8576b"
             ],
             [
              0.6666666666666666,
              "#ed7953"
             ],
             [
              0.7777777777777778,
              "#fb9f3a"
             ],
             [
              0.8888888888888888,
              "#fdca26"
             ],
             [
              1,
              "#f0f921"
             ]
            ],
            "type": "surface"
           }
          ],
          "table": [
           {
            "cells": {
             "fill": {
              "color": "#EBF0F8"
             },
             "line": {
              "color": "white"
             }
            },
            "header": {
             "fill": {
              "color": "#C8D4E3"
             },
             "line": {
              "color": "white"
             }
            },
            "type": "table"
           }
          ]
         },
         "layout": {
          "annotationdefaults": {
           "arrowcolor": "#2a3f5f",
           "arrowhead": 0,
           "arrowwidth": 1
          },
          "autotypenumbers": "strict",
          "coloraxis": {
           "colorbar": {
            "outlinewidth": 0,
            "ticks": ""
           }
          },
          "colorscale": {
           "diverging": [
            [
             0,
             "#8e0152"
            ],
            [
             0.1,
             "#c51b7d"
            ],
            [
             0.2,
             "#de77ae"
            ],
            [
             0.3,
             "#f1b6da"
            ],
            [
             0.4,
             "#fde0ef"
            ],
            [
             0.5,
             "#f7f7f7"
            ],
            [
             0.6,
             "#e6f5d0"
            ],
            [
             0.7,
             "#b8e186"
            ],
            [
             0.8,
             "#7fbc41"
            ],
            [
             0.9,
             "#4d9221"
            ],
            [
             1,
             "#276419"
            ]
           ],
           "sequential": [
            [
             0,
             "#0d0887"
            ],
            [
             0.1111111111111111,
             "#46039f"
            ],
            [
             0.2222222222222222,
             "#7201a8"
            ],
            [
             0.3333333333333333,
             "#9c179e"
            ],
            [
             0.4444444444444444,
             "#bd3786"
            ],
            [
             0.5555555555555556,
             "#d8576b"
            ],
            [
             0.6666666666666666,
             "#ed7953"
            ],
            [
             0.7777777777777778,
             "#fb9f3a"
            ],
            [
             0.8888888888888888,
             "#fdca26"
            ],
            [
             1,
             "#f0f921"
            ]
           ],
           "sequentialminus": [
            [
             0,
             "#0d0887"
            ],
            [
             0.1111111111111111,
             "#46039f"
            ],
            [
             0.2222222222222222,
             "#7201a8"
            ],
            [
             0.3333333333333333,
             "#9c179e"
            ],
            [
             0.4444444444444444,
             "#bd3786"
            ],
            [
             0.5555555555555556,
             "#d8576b"
            ],
            [
             0.6666666666666666,
             "#ed7953"
            ],
            [
             0.7777777777777778,
             "#fb9f3a"
            ],
            [
             0.8888888888888888,
             "#fdca26"
            ],
            [
             1,
             "#f0f921"
            ]
           ]
          },
          "colorway": [
           "#636efa",
           "#EF553B",
           "#00cc96",
           "#ab63fa",
           "#FFA15A",
           "#19d3f3",
           "#FF6692",
           "#B6E880",
           "#FF97FF",
           "#FECB52"
          ],
          "font": {
           "color": "#2a3f5f"
          },
          "geo": {
           "bgcolor": "white",
           "lakecolor": "white",
           "landcolor": "#E5ECF6",
           "showlakes": true,
           "showland": true,
           "subunitcolor": "white"
          },
          "hoverlabel": {
           "align": "left"
          },
          "hovermode": "closest",
          "mapbox": {
           "style": "light"
          },
          "paper_bgcolor": "white",
          "plot_bgcolor": "#E5ECF6",
          "polar": {
           "angularaxis": {
            "gridcolor": "white",
            "linecolor": "white",
            "ticks": ""
           },
           "bgcolor": "#E5ECF6",
           "radialaxis": {
            "gridcolor": "white",
            "linecolor": "white",
            "ticks": ""
           }
          },
          "scene": {
           "xaxis": {
            "backgroundcolor": "#E5ECF6",
            "gridcolor": "white",
            "gridwidth": 2,
            "linecolor": "white",
            "showbackground": true,
            "ticks": "",
            "zerolinecolor": "white"
           },
           "yaxis": {
            "backgroundcolor": "#E5ECF6",
            "gridcolor": "white",
            "gridwidth": 2,
            "linecolor": "white",
            "showbackground": true,
            "ticks": "",
            "zerolinecolor": "white"
           },
           "zaxis": {
            "backgroundcolor": "#E5ECF6",
            "gridcolor": "white",
            "gridwidth": 2,
            "linecolor": "white",
            "showbackground": true,
            "ticks": "",
            "zerolinecolor": "white"
           }
          },
          "shapedefaults": {
           "line": {
            "color": "#2a3f5f"
           }
          },
          "ternary": {
           "aaxis": {
            "gridcolor": "white",
            "linecolor": "white",
            "ticks": ""
           },
           "baxis": {
            "gridcolor": "white",
            "linecolor": "white",
            "ticks": ""
           },
           "bgcolor": "#E5ECF6",
           "caxis": {
            "gridcolor": "white",
            "linecolor": "white",
            "ticks": ""
           }
          },
          "title": {
           "x": 0.05
          },
          "xaxis": {
           "automargin": true,
           "gridcolor": "white",
           "linecolor": "white",
           "ticks": "",
           "title": {
            "standoff": 15
           },
           "zerolinecolor": "white",
           "zerolinewidth": 2
          },
          "yaxis": {
           "automargin": true,
           "gridcolor": "white",
           "linecolor": "white",
           "ticks": "",
           "title": {
            "standoff": 15
           },
           "zerolinecolor": "white",
           "zerolinewidth": 2
          }
         }
        },
        "width": 800,
        "xaxis": {
         "anchor": "y",
         "domain": [
          0,
          1
         ],
         "tickfont": {
          "family": "Times New Roman",
          "size": 8
         },
         "title": {
          "text": "average_cells_L"
         }
        },
        "yaxis": {
         "anchor": "x",
         "domain": [
          0,
          1
         ],
         "tickfont": {
          "family": "Times New Roman",
          "size": 8
         },
         "title": {
          "text": "taxonomic_bins"
         }
        }
       }
      }
     },
     "metadata": {},
     "output_type": "display_data"
    }
   ],
   "source": [
    "# Create copy of data frame with only the samples that have flowcam data\n",
    "plot_data2 = plot_data[plot_data['average_cells_L'].notna()]\n",
    "\n",
    "# Statistical tests\n",
    "# calculate the linear regression\n",
    "slope, intercept, r_value, p_value, std_err = stats.linregress(plot_data2['average_cells_L'], plot_data2['taxonomic_bins'])\n",
    "\n",
    "# calculate the correlation coefficient and its p-value\n",
    "corr_coeff, p_value_corr = stats.pearsonr(plot_data2['average_cells_L'], plot_data2['taxonomic_bins'])\n",
    "\n",
    "# calculate descriptive statistics\n",
    "mean_taxonomic_bins = np.mean(plot_data2['taxonomic_bins'])\n",
    "mean_biomass = np.mean(plot_data2['average_cells_L'])\n",
    "std_taxonomic_bins = np.std(plot_data2['taxonomic_bins'])\n",
    "std_biomass = np.std(plot_data2['average_cells_L'])\n",
    "min_taxonomic_bins = np.min(plot_data2['taxonomic_bins'])\n",
    "min_biomass = np.min(plot_data2['average_cells_L'])\n",
    "max_taxonomic_bins = np.max(plot_data2['taxonomic_bins'])\n",
    "max_biomass = np.max(plot_data2['average_cells_L'])\n",
    "\n",
    "# print the results\n",
    "print(\"Linear regression results:\")\n",
    "print(\"Slope: {:.2f}, Intercept: {:.2f}, R-squared: {:.2f}, P-value: {:.4f}, Standard error: {:.2f}\".format(slope, intercept, r_value**2, p_value, std_err))\n",
    "print(\"\\nCorrelation coefficient: {:.2f}, P-value: {:.4f}\".format(corr_coeff, p_value_corr))\n",
    "print(\"\\nDescriptive statistics:\")\n",
    "print(\"Mean number of taxonomic_bins: {:.2f}, Standard deviation: {:.2f}, Range: {}-{}\".format(mean_taxonomic_bins, std_taxonomic_bins, min_taxonomic_bins, max_taxonomic_bins))\n",
    "print(\"Mean number of cells per L: {:.2f}, Standard deviation: {:.2f}, Range: {}-{}\".format(mean_biomass, std_biomass, min_biomass, max_biomass))\n",
    "\n",
    "# Plot variation in biomass and taxonomic_bins composition, colored by station\n",
    "fig = px.scatter(plot_data2,\n",
    "        x = 'average_cells_L',\n",
    "        y = 'taxonomic_bins',\n",
    "        color = 'month')\n",
    "\n",
    "# Update plot size, font, and font size\n",
    "fig.update_layout(\n",
    "        width=800,\n",
    "        height=600,\n",
    "        font=dict(\n",
    "            family='Times New Roman',\n",
    "            size=8\n",
    "        )\n",
    ")\n",
    "\n",
    "fig.update_xaxes(tickfont=dict(family='Times New Roman', size=8))\n",
    "fig.update_yaxes(tickfont=dict(family='Times New Roman', size=8))\n",
    "\n",
    "# Add a linear regression line\n",
    "fig.add_trace(go.Scatter(\n",
    "        x = plot_data2['average_cells_L'],\n",
    "        y = slope * plot_data2['average_cells_L'] + intercept,\n",
    "        mode = 'lines',\n",
    "        line = dict(\n",
    "                color = 'black',\n",
    "                width = 1\n",
    "        )\n",
    "))\n",
    "\n",
    "# Convert the size from cm to inches (1 inch = 2.54 cm)\n",
    "width_in_inches = 8.5 / 2.54\n",
    "height_in_inches = 7.5 / 2.54\n",
    "\n",
    "# Save the figure as an SVG file\n",
    "fig.write_image(\"../../figures/biodiversity_functional_diversity/biomass_taxonomic_bins.svg\", width=int(width_in_inches * 96), height=int(height_in_inches * 96), scale=1, format='svg')\n",
    "\n",
    "fig.show()"
   ]
  },
  {
   "cell_type": "code",
   "execution_count": 119,
   "metadata": {},
   "outputs": [
    {
     "name": "stdout",
     "output_type": "stream",
     "text": [
      "Linear regression results:\n",
      "Slope: -3.94, Intercept: 24.05, R-squared: 0.23, P-value: 0.0002, Standard error: 0.98\n",
      "\n",
      "Correlation coefficient: -0.48, P-value: 0.0002\n",
      "\n",
      "Descriptive statistics:\n",
      "Mean number of taxonomic_bins: 15.07, Standard deviation: 6.51, Range: 4-27\n",
      "Mean number of cells per L: 2.28, Standard deviation: 0.79, Range: 0.9115183140055959-4.007314902193687\n"
     ]
    },
    {
     "name": "stderr",
     "output_type": "stream",
     "text": [
      "/var/folders/sw/y59p6zb57zd9ntdpcr65r3q40000gn/T/ipykernel_1219/2761247432.py:2: SettingWithCopyWarning:\n",
      "\n",
      "\n",
      "A value is trying to be set on a copy of a slice from a DataFrame.\n",
      "Try using .loc[row_indexer,col_indexer] = value instead\n",
      "\n",
      "See the caveats in the documentation: https://pandas.pydata.org/pandas-docs/stable/user_guide/indexing.html#returning-a-view-versus-a-copy\n",
      "\n"
     ]
    },
    {
     "data": {
      "application/vnd.plotly.v1+json": {
       "config": {
        "plotlyServerURL": "https://plot.ly"
       },
       "data": [
        {
         "hovertemplate": "month=January_2021<br>log_average_cells_L=%{x}<br>taxonomic_bins=%{y}<extra></extra>",
         "legendgroup": "January_2021",
         "marker": {
          "color": "#636efa",
          "symbol": "circle"
         },
         "mode": "markers",
         "name": "January_2021",
         "orientation": "v",
         "showlegend": true,
         "type": "scatter",
         "x": [
          1.174836330452317,
          0.9115183140055959,
          2.580196024966958,
          1.5796034285661493,
          1.0809718382461917
         ],
         "xaxis": "x",
         "y": [
          19,
          16,
          7,
          15,
          17
         ],
         "yaxis": "y"
        },
        {
         "hovertemplate": "month=February_2021<br>log_average_cells_L=%{x}<br>taxonomic_bins=%{y}<extra></extra>",
         "legendgroup": "February_2021",
         "marker": {
          "color": "#EF553B",
          "symbol": "circle"
         },
         "mode": "markers",
         "name": "February_2021",
         "orientation": "v",
         "showlegend": true,
         "type": "scatter",
         "x": [
          1.5577348839657272,
          1.9431924286568558,
          1.6085124048062824,
          1.5850136900512237,
          1.2109501831604703
         ],
         "xaxis": "x",
         "y": [
          21,
          25,
          20,
          14,
          23
         ],
         "yaxis": "y"
        },
        {
         "hovertemplate": "month=April_2021<br>log_average_cells_L=%{x}<br>taxonomic_bins=%{y}<extra></extra>",
         "legendgroup": "April_2021",
         "marker": {
          "color": "#00cc96",
          "symbol": "circle"
         },
         "mode": "markers",
         "name": "April_2021",
         "orientation": "v",
         "showlegend": true,
         "type": "scatter",
         "x": [
          2.7882360034853524,
          2.9513210738544724,
          2.5169188853352673,
          2.1217764450441026
         ],
         "xaxis": "x",
         "y": [
          16,
          9,
          9,
          11
         ],
         "yaxis": "y"
        },
        {
         "hovertemplate": "month=May_2021<br>log_average_cells_L=%{x}<br>taxonomic_bins=%{y}<extra></extra>",
         "legendgroup": "May_2021",
         "marker": {
          "color": "#ab63fa",
          "symbol": "circle"
         },
         "mode": "markers",
         "name": "May_2021",
         "orientation": "v",
         "showlegend": true,
         "type": "scatter",
         "x": [
          2.078845962570573,
          3.849009138691678,
          1.4920200327181328,
          1.7563675273112132,
          2.176161258322422,
          1.1284694054306312
         ],
         "xaxis": "x",
         "y": [
          6,
          6,
          8,
          13,
          9,
          9
         ],
         "yaxis": "y"
        },
        {
         "hovertemplate": "month=June_2021<br>log_average_cells_L=%{x}<br>taxonomic_bins=%{y}<extra></extra>",
         "legendgroup": "June_2021",
         "marker": {
          "color": "#FFA15A",
          "symbol": "circle"
         },
         "mode": "markers",
         "name": "June_2021",
         "orientation": "v",
         "showlegend": true,
         "type": "scatter",
         "x": [
          2.751386567416642,
          2.030436398258448,
          3.203994021498374,
          2.1836231879792014,
          2.6306380496196513,
          3.313045641380588
         ],
         "xaxis": "x",
         "y": [
          10,
          16,
          9,
          11,
          6,
          10
         ],
         "yaxis": "y"
        },
        {
         "hovertemplate": "month=July_2021<br>log_average_cells_L=%{x}<br>taxonomic_bins=%{y}<extra></extra>",
         "legendgroup": "July_2021",
         "marker": {
          "color": "#19d3f3",
          "symbol": "circle"
         },
         "mode": "markers",
         "name": "July_2021",
         "orientation": "v",
         "showlegend": true,
         "type": "scatter",
         "x": [
          2.8994573076953394,
          3.215496740715364,
          2.7379802919263905,
          3.863601064011999,
          4.007314902193687
         ],
         "xaxis": "x",
         "y": [
          13,
          4,
          24,
          6,
          6
         ],
         "yaxis": "y"
        },
        {
         "hovertemplate": "month=July_2020<br>log_average_cells_L=%{x}<br>taxonomic_bins=%{y}<extra></extra>",
         "legendgroup": "July_2020",
         "marker": {
          "color": "#FF6692",
          "symbol": "circle"
         },
         "mode": "markers",
         "name": "July_2020",
         "orientation": "v",
         "showlegend": true,
         "type": "scatter",
         "x": [
          3.858878996879423,
          3.374332845713055,
          2.5589199805856886,
          3.706473740210198
         ],
         "xaxis": "x",
         "y": [
          12,
          17,
          4,
          7
         ],
         "yaxis": "y"
        },
        {
         "hovertemplate": "month=August_2020<br>log_average_cells_L=%{x}<br>taxonomic_bins=%{y}<extra></extra>",
         "legendgroup": "August_2020",
         "marker": {
          "color": "#B6E880",
          "symbol": "circle"
         },
         "mode": "markers",
         "name": "August_2020",
         "orientation": "v",
         "showlegend": true,
         "type": "scatter",
         "x": [
          2.4461581414202898,
          2.9832155843802495,
          2.399457779893738,
          2.5651057063652316,
          2.100702058842648,
          3.2290193318511395
         ],
         "xaxis": "x",
         "y": [
          11,
          13,
          13,
          13,
          13,
          14
         ],
         "yaxis": "y"
        },
        {
         "hovertemplate": "month=September_2020<br>log_average_cells_L=%{x}<br>taxonomic_bins=%{y}<extra></extra>",
         "legendgroup": "September_2020",
         "marker": {
          "color": "#FF97FF",
          "symbol": "circle"
         },
         "mode": "markers",
         "name": "September_2020",
         "orientation": "v",
         "showlegend": true,
         "type": "scatter",
         "x": [
          2.49069214242573,
          2.4973384412531034,
          2.5327542783013204,
          2.334559269453337,
          1.977343611905351,
          1.8594887969604217
         ],
         "xaxis": "x",
         "y": [
          26,
          23,
          23,
          26,
          21,
          23
         ],
         "yaxis": "y"
        },
        {
         "hovertemplate": "month=November_2020<br>log_average_cells_L=%{x}<br>taxonomic_bins=%{y}<extra></extra>",
         "legendgroup": "November_2020",
         "marker": {
          "color": "#FECB52",
          "symbol": "circle"
         },
         "mode": "markers",
         "name": "November_2020",
         "orientation": "v",
         "showlegend": true,
         "type": "scatter",
         "x": [
          1.312052030053176,
          1.7425150277758712,
          1.176791037973801,
          1.9115754219168528
         ],
         "xaxis": "x",
         "y": [
          18,
          22,
          15,
          20
         ],
         "yaxis": "y"
        },
        {
         "hovertemplate": "month=December_2020<br>log_average_cells_L=%{x}<br>taxonomic_bins=%{y}<extra></extra>",
         "legendgroup": "December_2020",
         "marker": {
          "color": "#636efa",
          "symbol": "circle"
         },
         "mode": "markers",
         "name": "December_2020",
         "orientation": "v",
         "showlegend": true,
         "type": "scatter",
         "x": [
          1.7063320283311194,
          1.7316655032918298,
          1.538115410431398,
          2.260712787501914,
          1.3522163000845364,
          1.5357351107837405
         ],
         "xaxis": "x",
         "y": [
          23,
          27,
          23,
          22,
          21,
          21
         ],
         "yaxis": "y"
        },
        {
         "line": {
          "color": "black",
          "width": 1
         },
         "mode": "lines",
         "type": "scatter",
         "x": [
          1.174836330452317,
          0.9115183140055959,
          2.580196024966958,
          1.5796034285661493,
          1.0809718382461917,
          1.5577348839657272,
          1.9431924286568558,
          1.6085124048062824,
          1.5850136900512237,
          1.2109501831604703,
          2.7882360034853524,
          2.9513210738544724,
          2.5169188853352673,
          2.1217764450441026,
          2.078845962570573,
          3.849009138691678,
          1.4920200327181328,
          1.7563675273112132,
          2.176161258322422,
          1.1284694054306312,
          2.751386567416642,
          2.030436398258448,
          3.203994021498374,
          2.1836231879792014,
          2.6306380496196513,
          3.313045641380588,
          2.8994573076953394,
          3.215496740715364,
          2.7379802919263905,
          3.863601064011999,
          4.007314902193687,
          3.858878996879423,
          3.374332845713055,
          2.5589199805856886,
          3.706473740210198,
          2.4461581414202898,
          2.9832155843802495,
          2.399457779893738,
          2.5651057063652316,
          2.100702058842648,
          3.2290193318511395,
          2.49069214242573,
          2.4973384412531034,
          2.5327542783013204,
          2.334559269453337,
          1.977343611905351,
          1.8594887969604217,
          1.312052030053176,
          1.7425150277758712,
          1.176791037973801,
          1.9115754219168528,
          1.7063320283311194,
          1.7316655032918298,
          1.538115410431398,
          2.260712787501914,
          1.3522163000845364,
          1.5357351107837405
         ],
         "y": [
          19.430162494889796,
          20.466499262913068,
          13.899109423106673,
          17.837126697636165,
          19.79958356906352,
          17.923194400630425,
          16.40615492317326,
          17.723350073431558,
          17.81583361265374,
          19.28802974643045,
          13.080329599884788,
          12.438478134421624,
          14.148148312509564,
          15.703304488323425,
          15.872265344312934,
          8.905460681380426,
          18.18182735507865,
          17.14143888535511,
          15.489262994380278,
          19.6126481062755,
          13.225357372743828,
          16.062790140518032,
          11.44403700402834,
          15.459895189745883,
          13.700585503222522,
          11.014844179239981,
          12.642597581029053,
          11.398765924526545,
          13.278120250120308,
          8.848031459750397,
          8.282419062272972,
          8.866616028541392,
          10.773637048348723,
          13.982845231874874,
          9.46643511140426,
          14.426640311049315,
          12.31295138770676,
          14.610438223486263,
          13.95850016369931,
          15.786246634017846,
          11.345545265408504,
          14.251368511223717,
          14.225210772611591,
          14.085825193916051,
          14.86585831766329,
          16.27174662346971,
          16.73558605103399,
          18.890124723964316,
          17.19595796001328,
          19.422469381814658,
          16.530589502400524,
          17.33836284824678,
          17.23865827080138,
          18.000410468361963,
          15.156494809112447,
          18.732050808795144,
          18.009778577984953
         ]
        }
       ],
       "layout": {
        "font": {
         "family": "Times New Roman",
         "size": 8
        },
        "height": 600,
        "legend": {
         "title": {
          "text": "month"
         },
         "tracegroupgap": 0
        },
        "margin": {
         "t": 60
        },
        "template": {
         "data": {
          "bar": [
           {
            "error_x": {
             "color": "#2a3f5f"
            },
            "error_y": {
             "color": "#2a3f5f"
            },
            "marker": {
             "line": {
              "color": "#E5ECF6",
              "width": 0.5
             },
             "pattern": {
              "fillmode": "overlay",
              "size": 10,
              "solidity": 0.2
             }
            },
            "type": "bar"
           }
          ],
          "barpolar": [
           {
            "marker": {
             "line": {
              "color": "#E5ECF6",
              "width": 0.5
             },
             "pattern": {
              "fillmode": "overlay",
              "size": 10,
              "solidity": 0.2
             }
            },
            "type": "barpolar"
           }
          ],
          "carpet": [
           {
            "aaxis": {
             "endlinecolor": "#2a3f5f",
             "gridcolor": "white",
             "linecolor": "white",
             "minorgridcolor": "white",
             "startlinecolor": "#2a3f5f"
            },
            "baxis": {
             "endlinecolor": "#2a3f5f",
             "gridcolor": "white",
             "linecolor": "white",
             "minorgridcolor": "white",
             "startlinecolor": "#2a3f5f"
            },
            "type": "carpet"
           }
          ],
          "choropleth": [
           {
            "colorbar": {
             "outlinewidth": 0,
             "ticks": ""
            },
            "type": "choropleth"
           }
          ],
          "contour": [
           {
            "colorbar": {
             "outlinewidth": 0,
             "ticks": ""
            },
            "colorscale": [
             [
              0,
              "#0d0887"
             ],
             [
              0.1111111111111111,
              "#46039f"
             ],
             [
              0.2222222222222222,
              "#7201a8"
             ],
             [
              0.3333333333333333,
              "#9c179e"
             ],
             [
              0.4444444444444444,
              "#bd3786"
             ],
             [
              0.5555555555555556,
              "#d8576b"
             ],
             [
              0.6666666666666666,
              "#ed7953"
             ],
             [
              0.7777777777777778,
              "#fb9f3a"
             ],
             [
              0.8888888888888888,
              "#fdca26"
             ],
             [
              1,
              "#f0f921"
             ]
            ],
            "type": "contour"
           }
          ],
          "contourcarpet": [
           {
            "colorbar": {
             "outlinewidth": 0,
             "ticks": ""
            },
            "type": "contourcarpet"
           }
          ],
          "heatmap": [
           {
            "colorbar": {
             "outlinewidth": 0,
             "ticks": ""
            },
            "colorscale": [
             [
              0,
              "#0d0887"
             ],
             [
              0.1111111111111111,
              "#46039f"
             ],
             [
              0.2222222222222222,
              "#7201a8"
             ],
             [
              0.3333333333333333,
              "#9c179e"
             ],
             [
              0.4444444444444444,
              "#bd3786"
             ],
             [
              0.5555555555555556,
              "#d8576b"
             ],
             [
              0.6666666666666666,
              "#ed7953"
             ],
             [
              0.7777777777777778,
              "#fb9f3a"
             ],
             [
              0.8888888888888888,
              "#fdca26"
             ],
             [
              1,
              "#f0f921"
             ]
            ],
            "type": "heatmap"
           }
          ],
          "heatmapgl": [
           {
            "colorbar": {
             "outlinewidth": 0,
             "ticks": ""
            },
            "colorscale": [
             [
              0,
              "#0d0887"
             ],
             [
              0.1111111111111111,
              "#46039f"
             ],
             [
              0.2222222222222222,
              "#7201a8"
             ],
             [
              0.3333333333333333,
              "#9c179e"
             ],
             [
              0.4444444444444444,
              "#bd3786"
             ],
             [
              0.5555555555555556,
              "#d8576b"
             ],
             [
              0.6666666666666666,
              "#ed7953"
             ],
             [
              0.7777777777777778,
              "#fb9f3a"
             ],
             [
              0.8888888888888888,
              "#fdca26"
             ],
             [
              1,
              "#f0f921"
             ]
            ],
            "type": "heatmapgl"
           }
          ],
          "histogram": [
           {
            "marker": {
             "pattern": {
              "fillmode": "overlay",
              "size": 10,
              "solidity": 0.2
             }
            },
            "type": "histogram"
           }
          ],
          "histogram2d": [
           {
            "colorbar": {
             "outlinewidth": 0,
             "ticks": ""
            },
            "colorscale": [
             [
              0,
              "#0d0887"
             ],
             [
              0.1111111111111111,
              "#46039f"
             ],
             [
              0.2222222222222222,
              "#7201a8"
             ],
             [
              0.3333333333333333,
              "#9c179e"
             ],
             [
              0.4444444444444444,
              "#bd3786"
             ],
             [
              0.5555555555555556,
              "#d8576b"
             ],
             [
              0.6666666666666666,
              "#ed7953"
             ],
             [
              0.7777777777777778,
              "#fb9f3a"
             ],
             [
              0.8888888888888888,
              "#fdca26"
             ],
             [
              1,
              "#f0f921"
             ]
            ],
            "type": "histogram2d"
           }
          ],
          "histogram2dcontour": [
           {
            "colorbar": {
             "outlinewidth": 0,
             "ticks": ""
            },
            "colorscale": [
             [
              0,
              "#0d0887"
             ],
             [
              0.1111111111111111,
              "#46039f"
             ],
             [
              0.2222222222222222,
              "#7201a8"
             ],
             [
              0.3333333333333333,
              "#9c179e"
             ],
             [
              0.4444444444444444,
              "#bd3786"
             ],
             [
              0.5555555555555556,
              "#d8576b"
             ],
             [
              0.6666666666666666,
              "#ed7953"
             ],
             [
              0.7777777777777778,
              "#fb9f3a"
             ],
             [
              0.8888888888888888,
              "#fdca26"
             ],
             [
              1,
              "#f0f921"
             ]
            ],
            "type": "histogram2dcontour"
           }
          ],
          "mesh3d": [
           {
            "colorbar": {
             "outlinewidth": 0,
             "ticks": ""
            },
            "type": "mesh3d"
           }
          ],
          "parcoords": [
           {
            "line": {
             "colorbar": {
              "outlinewidth": 0,
              "ticks": ""
             }
            },
            "type": "parcoords"
           }
          ],
          "pie": [
           {
            "automargin": true,
            "type": "pie"
           }
          ],
          "scatter": [
           {
            "marker": {
             "colorbar": {
              "outlinewidth": 0,
              "ticks": ""
             }
            },
            "type": "scatter"
           }
          ],
          "scatter3d": [
           {
            "line": {
             "colorbar": {
              "outlinewidth": 0,
              "ticks": ""
             }
            },
            "marker": {
             "colorbar": {
              "outlinewidth": 0,
              "ticks": ""
             }
            },
            "type": "scatter3d"
           }
          ],
          "scattercarpet": [
           {
            "marker": {
             "colorbar": {
              "outlinewidth": 0,
              "ticks": ""
             }
            },
            "type": "scattercarpet"
           }
          ],
          "scattergeo": [
           {
            "marker": {
             "colorbar": {
              "outlinewidth": 0,
              "ticks": ""
             }
            },
            "type": "scattergeo"
           }
          ],
          "scattergl": [
           {
            "marker": {
             "colorbar": {
              "outlinewidth": 0,
              "ticks": ""
             }
            },
            "type": "scattergl"
           }
          ],
          "scattermapbox": [
           {
            "marker": {
             "colorbar": {
              "outlinewidth": 0,
              "ticks": ""
             }
            },
            "type": "scattermapbox"
           }
          ],
          "scatterpolar": [
           {
            "marker": {
             "colorbar": {
              "outlinewidth": 0,
              "ticks": ""
             }
            },
            "type": "scatterpolar"
           }
          ],
          "scatterpolargl": [
           {
            "marker": {
             "colorbar": {
              "outlinewidth": 0,
              "ticks": ""
             }
            },
            "type": "scatterpolargl"
           }
          ],
          "scatterternary": [
           {
            "marker": {
             "colorbar": {
              "outlinewidth": 0,
              "ticks": ""
             }
            },
            "type": "scatterternary"
           }
          ],
          "surface": [
           {
            "colorbar": {
             "outlinewidth": 0,
             "ticks": ""
            },
            "colorscale": [
             [
              0,
              "#0d0887"
             ],
             [
              0.1111111111111111,
              "#46039f"
             ],
             [
              0.2222222222222222,
              "#7201a8"
             ],
             [
              0.3333333333333333,
              "#9c179e"
             ],
             [
              0.4444444444444444,
              "#bd3786"
             ],
             [
              0.5555555555555556,
              "#d8576b"
             ],
             [
              0.6666666666666666,
              "#ed7953"
             ],
             [
              0.7777777777777778,
              "#fb9f3a"
             ],
             [
              0.8888888888888888,
              "#fdca26"
             ],
             [
              1,
              "#f0f921"
             ]
            ],
            "type": "surface"
           }
          ],
          "table": [
           {
            "cells": {
             "fill": {
              "color": "#EBF0F8"
             },
             "line": {
              "color": "white"
             }
            },
            "header": {
             "fill": {
              "color": "#C8D4E3"
             },
             "line": {
              "color": "white"
             }
            },
            "type": "table"
           }
          ]
         },
         "layout": {
          "annotationdefaults": {
           "arrowcolor": "#2a3f5f",
           "arrowhead": 0,
           "arrowwidth": 1
          },
          "autotypenumbers": "strict",
          "coloraxis": {
           "colorbar": {
            "outlinewidth": 0,
            "ticks": ""
           }
          },
          "colorscale": {
           "diverging": [
            [
             0,
             "#8e0152"
            ],
            [
             0.1,
             "#c51b7d"
            ],
            [
             0.2,
             "#de77ae"
            ],
            [
             0.3,
             "#f1b6da"
            ],
            [
             0.4,
             "#fde0ef"
            ],
            [
             0.5,
             "#f7f7f7"
            ],
            [
             0.6,
             "#e6f5d0"
            ],
            [
             0.7,
             "#b8e186"
            ],
            [
             0.8,
             "#7fbc41"
            ],
            [
             0.9,
             "#4d9221"
            ],
            [
             1,
             "#276419"
            ]
           ],
           "sequential": [
            [
             0,
             "#0d0887"
            ],
            [
             0.1111111111111111,
             "#46039f"
            ],
            [
             0.2222222222222222,
             "#7201a8"
            ],
            [
             0.3333333333333333,
             "#9c179e"
            ],
            [
             0.4444444444444444,
             "#bd3786"
            ],
            [
             0.5555555555555556,
             "#d8576b"
            ],
            [
             0.6666666666666666,
             "#ed7953"
            ],
            [
             0.7777777777777778,
             "#fb9f3a"
            ],
            [
             0.8888888888888888,
             "#fdca26"
            ],
            [
             1,
             "#f0f921"
            ]
           ],
           "sequentialminus": [
            [
             0,
             "#0d0887"
            ],
            [
             0.1111111111111111,
             "#46039f"
            ],
            [
             0.2222222222222222,
             "#7201a8"
            ],
            [
             0.3333333333333333,
             "#9c179e"
            ],
            [
             0.4444444444444444,
             "#bd3786"
            ],
            [
             0.5555555555555556,
             "#d8576b"
            ],
            [
             0.6666666666666666,
             "#ed7953"
            ],
            [
             0.7777777777777778,
             "#fb9f3a"
            ],
            [
             0.8888888888888888,
             "#fdca26"
            ],
            [
             1,
             "#f0f921"
            ]
           ]
          },
          "colorway": [
           "#636efa",
           "#EF553B",
           "#00cc96",
           "#ab63fa",
           "#FFA15A",
           "#19d3f3",
           "#FF6692",
           "#B6E880",
           "#FF97FF",
           "#FECB52"
          ],
          "font": {
           "color": "#2a3f5f"
          },
          "geo": {
           "bgcolor": "white",
           "lakecolor": "white",
           "landcolor": "#E5ECF6",
           "showlakes": true,
           "showland": true,
           "subunitcolor": "white"
          },
          "hoverlabel": {
           "align": "left"
          },
          "hovermode": "closest",
          "mapbox": {
           "style": "light"
          },
          "paper_bgcolor": "white",
          "plot_bgcolor": "#E5ECF6",
          "polar": {
           "angularaxis": {
            "gridcolor": "white",
            "linecolor": "white",
            "ticks": ""
           },
           "bgcolor": "#E5ECF6",
           "radialaxis": {
            "gridcolor": "white",
            "linecolor": "white",
            "ticks": ""
           }
          },
          "scene": {
           "xaxis": {
            "backgroundcolor": "#E5ECF6",
            "gridcolor": "white",
            "gridwidth": 2,
            "linecolor": "white",
            "showbackground": true,
            "ticks": "",
            "zerolinecolor": "white"
           },
           "yaxis": {
            "backgroundcolor": "#E5ECF6",
            "gridcolor": "white",
            "gridwidth": 2,
            "linecolor": "white",
            "showbackground": true,
            "ticks": "",
            "zerolinecolor": "white"
           },
           "zaxis": {
            "backgroundcolor": "#E5ECF6",
            "gridcolor": "white",
            "gridwidth": 2,
            "linecolor": "white",
            "showbackground": true,
            "ticks": "",
            "zerolinecolor": "white"
           }
          },
          "shapedefaults": {
           "line": {
            "color": "#2a3f5f"
           }
          },
          "ternary": {
           "aaxis": {
            "gridcolor": "white",
            "linecolor": "white",
            "ticks": ""
           },
           "baxis": {
            "gridcolor": "white",
            "linecolor": "white",
            "ticks": ""
           },
           "bgcolor": "#E5ECF6",
           "caxis": {
            "gridcolor": "white",
            "linecolor": "white",
            "ticks": ""
           }
          },
          "title": {
           "x": 0.05
          },
          "xaxis": {
           "automargin": true,
           "gridcolor": "white",
           "linecolor": "white",
           "ticks": "",
           "title": {
            "standoff": 15
           },
           "zerolinecolor": "white",
           "zerolinewidth": 2
          },
          "yaxis": {
           "automargin": true,
           "gridcolor": "white",
           "linecolor": "white",
           "ticks": "",
           "title": {
            "standoff": 15
           },
           "zerolinecolor": "white",
           "zerolinewidth": 2
          }
         }
        },
        "width": 800,
        "xaxis": {
         "anchor": "y",
         "domain": [
          0,
          1
         ],
         "tickfont": {
          "family": "Times New Roman",
          "size": 8
         },
         "title": {
          "text": "log_average_cells_L"
         }
        },
        "yaxis": {
         "anchor": "x",
         "domain": [
          0,
          1
         ],
         "tickfont": {
          "family": "Times New Roman",
          "size": 8
         },
         "title": {
          "text": "taxonomic_bins"
         }
        }
       }
      }
     },
     "metadata": {},
     "output_type": "display_data"
    }
   ],
   "source": [
    "# Add log transformed cell counts\n",
    "plot_data2['log_average_cells_L'] = np.log10(plot_data2['average_cells_L'])\n",
    "\n",
    "# Statistical tests\n",
    "# calculate the linear regression\n",
    "slope, intercept, r_value, p_value, std_err = stats.linregress(plot_data2['log_average_cells_L'], plot_data2['taxonomic_bins'])\n",
    "\n",
    "# calculate the correlation coefficient and its p-value\n",
    "corr_coeff, p_value_corr = stats.pearsonr(plot_data2['log_average_cells_L'], plot_data2['taxonomic_bins'])\n",
    "\n",
    "# calculate descriptive statistics\n",
    "mean_taxonomic_bins = np.mean(plot_data2['taxonomic_bins'])\n",
    "mean_biomass = np.mean(plot_data2['log_average_cells_L'])\n",
    "std_taxonomic_bins = np.std(plot_data2['taxonomic_bins'])\n",
    "std_biomass = np.std(plot_data2['log_average_cells_L'])\n",
    "min_taxonomic_bins = np.min(plot_data2['taxonomic_bins'])\n",
    "min_biomass = np.min(plot_data2['log_average_cells_L'])\n",
    "max_taxonomic_bins = np.max(plot_data2['taxonomic_bins'])\n",
    "max_biomass = np.max(plot_data2['log_average_cells_L'])\n",
    "\n",
    "# print the results\n",
    "print(\"Linear regression results:\")\n",
    "print(\"Slope: {:.2f}, Intercept: {:.2f}, R-squared: {:.2f}, P-value: {:.4f}, Standard error: {:.2f}\".format(slope, intercept, r_value**2, p_value, std_err))\n",
    "print(\"\\nCorrelation coefficient: {:.2f}, P-value: {:.4f}\".format(corr_coeff, p_value_corr))\n",
    "print(\"\\nDescriptive statistics:\")\n",
    "print(\"Mean number of taxonomic_bins: {:.2f}, Standard deviation: {:.2f}, Range: {}-{}\".format(mean_taxonomic_bins, std_taxonomic_bins, min_taxonomic_bins, max_taxonomic_bins))\n",
    "print(\"Mean number of cells per L: {:.2f}, Standard deviation: {:.2f}, Range: {}-{}\".format(mean_biomass, std_biomass, min_biomass, max_biomass))\n",
    "\n",
    "# Plot variation in taxonomic diversity, colored by station\n",
    "fig = px.scatter(plot_data2,\n",
    "        x = 'log_average_cells_L',\n",
    "        y = 'taxonomic_bins',\n",
    "        color = 'month')\n",
    "\n",
    "# Update plot size, font, and font size\n",
    "fig.update_layout(\n",
    "        width=800,\n",
    "        height=600,\n",
    "        font=dict(\n",
    "            family='Times New Roman',\n",
    "            size=8\n",
    "        )\n",
    ")\n",
    "\n",
    "fig.update_xaxes(tickfont=dict(family='Times New Roman', size=8))\n",
    "fig.update_yaxes(tickfont=dict(family='Times New Roman', size=8))\n",
    "\n",
    "# Add a linear regression line\n",
    "fig.add_trace(go.Scatter(\n",
    "        x = plot_data2['log_average_cells_L'],\n",
    "        y = slope * plot_data2['log_average_cells_L'] + intercept,\n",
    "        mode = 'lines',\n",
    "        line = dict(\n",
    "                color = 'black',\n",
    "                width = 1\n",
    "        )\n",
    "))\n",
    "\n",
    "# Save the figure as an SVG file\n",
    "fig.write_image(\"../../figures/biodiversity_functional_diversity/log_biomass_taxonomic_bins.svg\", width=int(width_in_inches * 96), height=int(height_in_inches * 96), scale=1, format='svg')\n",
    "\n",
    "fig.show()\n"
   ]
  },
  {
   "cell_type": "code",
   "execution_count": 120,
   "metadata": {},
   "outputs": [
    {
     "name": "stdout",
     "output_type": "stream",
     "text": [
      "Linear regression results:\n",
      "Slope: -0.19, Intercept: 3.02, R-squared: 0.10, P-value: 0.0193, Standard error: 0.08\n",
      "\n",
      "Correlation coefficient: -0.31, P-value: 0.0193\n",
      "\n",
      "Descriptive statistics:\n",
      "Mean number of shannon: 2.58, Standard deviation: 0.49, Range: 1.24254584723977-3.32562183093256\n",
      "Mean number of cells per L: 2.28, Standard deviation: 0.79, Range: 0.9115183140055959-4.007314902193687\n"
     ]
    },
    {
     "name": "stderr",
     "output_type": "stream",
     "text": [
      "/var/folders/sw/y59p6zb57zd9ntdpcr65r3q40000gn/T/ipykernel_1219/3163552441.py:2: SettingWithCopyWarning:\n",
      "\n",
      "\n",
      "A value is trying to be set on a copy of a slice from a DataFrame.\n",
      "Try using .loc[row_indexer,col_indexer] = value instead\n",
      "\n",
      "See the caveats in the documentation: https://pandas.pydata.org/pandas-docs/stable/user_guide/indexing.html#returning-a-view-versus-a-copy\n",
      "\n"
     ]
    },
    {
     "data": {
      "application/vnd.plotly.v1+json": {
       "config": {
        "plotlyServerURL": "https://plot.ly"
       },
       "data": [
        {
         "hovertemplate": "month=January_2021<br>log_average_cells_L=%{x}<br>shannon=%{y}<extra></extra>",
         "legendgroup": "January_2021",
         "marker": {
          "color": "#636efa",
          "symbol": "circle"
         },
         "mode": "markers",
         "name": "January_2021",
         "orientation": "v",
         "showlegend": true,
         "type": "scatter",
         "x": [
          1.174836330452317,
          0.9115183140055959,
          2.580196024966958,
          1.5796034285661493,
          1.0809718382461917
         ],
         "xaxis": "x",
         "y": [
          3.13644218438686,
          2.50880361581573,
          2.74835897496735,
          2.86117288016664,
          2.96373357191014
         ],
         "yaxis": "y"
        },
        {
         "hovertemplate": "month=February_2021<br>log_average_cells_L=%{x}<br>shannon=%{y}<extra></extra>",
         "legendgroup": "February_2021",
         "marker": {
          "color": "#EF553B",
          "symbol": "circle"
         },
         "mode": "markers",
         "name": "February_2021",
         "orientation": "v",
         "showlegend": true,
         "type": "scatter",
         "x": [
          1.5577348839657272,
          1.9431924286568558,
          1.6085124048062824,
          1.5850136900512237,
          1.2109501831604703
         ],
         "xaxis": "x",
         "y": [
          3.08468420400599,
          3.12394003516751,
          3.04611601209074,
          2.47544389769663,
          2.94896594165423
         ],
         "yaxis": "y"
        },
        {
         "hovertemplate": "month=April_2021<br>log_average_cells_L=%{x}<br>shannon=%{y}<extra></extra>",
         "legendgroup": "April_2021",
         "marker": {
          "color": "#00cc96",
          "symbol": "circle"
         },
         "mode": "markers",
         "name": "April_2021",
         "orientation": "v",
         "showlegend": true,
         "type": "scatter",
         "x": [
          2.7882360034853524,
          2.9513210738544724,
          2.5169188853352673,
          2.1217764450441026
         ],
         "xaxis": "x",
         "y": [
          2.91582688860412,
          1.71217664822923,
          1.97113883684174,
          2.03681728174958
         ],
         "yaxis": "y"
        },
        {
         "hovertemplate": "month=May_2021<br>log_average_cells_L=%{x}<br>shannon=%{y}<extra></extra>",
         "legendgroup": "May_2021",
         "marker": {
          "color": "#ab63fa",
          "symbol": "circle"
         },
         "mode": "markers",
         "name": "May_2021",
         "orientation": "v",
         "showlegend": true,
         "type": "scatter",
         "x": [
          2.078845962570573,
          3.849009138691678,
          1.4920200327181328,
          1.7563675273112132,
          2.176161258322422,
          1.1284694054306312
         ],
         "xaxis": "x",
         "y": [
          1.83235862775987,
          2.15711561711732,
          2.14411753983142,
          1.95311057288629,
          2.17636867743297,
          2.14639288144898
         ],
         "yaxis": "y"
        },
        {
         "hovertemplate": "month=June_2021<br>log_average_cells_L=%{x}<br>shannon=%{y}<extra></extra>",
         "legendgroup": "June_2021",
         "marker": {
          "color": "#FFA15A",
          "symbol": "circle"
         },
         "mode": "markers",
         "name": "June_2021",
         "orientation": "v",
         "showlegend": true,
         "type": "scatter",
         "x": [
          2.751386567416642,
          2.030436398258448,
          3.203994021498374,
          2.1836231879792014,
          2.6306380496196513,
          3.313045641380588
         ],
         "xaxis": "x",
         "y": [
          2.65590491718798,
          1.88182037497309,
          2.66212858318155,
          2.95114618067915,
          2.82298075556744,
          2.63120521687779
         ],
         "yaxis": "y"
        },
        {
         "hovertemplate": "month=July_2021<br>log_average_cells_L=%{x}<br>shannon=%{y}<extra></extra>",
         "legendgroup": "July_2021",
         "marker": {
          "color": "#19d3f3",
          "symbol": "circle"
         },
         "mode": "markers",
         "name": "July_2021",
         "orientation": "v",
         "showlegend": true,
         "type": "scatter",
         "x": [
          2.8994573076953394,
          3.215496740715364,
          2.7379802919263905,
          3.863601064011999,
          4.007314902193687
         ],
         "xaxis": "x",
         "y": [
          2.79108028115614,
          1.8230466491102,
          2.89939420361554,
          1.74129848526439,
          2.7681499137582
         ],
         "yaxis": "y"
        },
        {
         "hovertemplate": "month=July_2020<br>log_average_cells_L=%{x}<br>shannon=%{y}<extra></extra>",
         "legendgroup": "July_2020",
         "marker": {
          "color": "#FF6692",
          "symbol": "circle"
         },
         "mode": "markers",
         "name": "July_2020",
         "orientation": "v",
         "showlegend": true,
         "type": "scatter",
         "x": [
          3.858878996879423,
          3.374332845713055,
          2.5589199805856886,
          3.706473740210198
         ],
         "xaxis": "x",
         "y": [
          2.58387466223258,
          2.04461857030752,
          1.24254584723977,
          2.65092705081485
         ],
         "yaxis": "y"
        },
        {
         "hovertemplate": "month=August_2020<br>log_average_cells_L=%{x}<br>shannon=%{y}<extra></extra>",
         "legendgroup": "August_2020",
         "marker": {
          "color": "#B6E880",
          "symbol": "circle"
         },
         "mode": "markers",
         "name": "August_2020",
         "orientation": "v",
         "showlegend": true,
         "type": "scatter",
         "x": [
          2.4461581414202898,
          2.9832155843802495,
          2.399457779893738,
          2.5651057063652316,
          2.100702058842648,
          3.2290193318511395
         ],
         "xaxis": "x",
         "y": [
          2.6393721856316,
          1.93058868346723,
          2.43673753218495,
          2.07042418373048,
          2.20738885452961,
          2.58604242100867
         ],
         "yaxis": "y"
        },
        {
         "hovertemplate": "month=September_2020<br>log_average_cells_L=%{x}<br>shannon=%{y}<extra></extra>",
         "legendgroup": "September_2020",
         "marker": {
          "color": "#FF97FF",
          "symbol": "circle"
         },
         "mode": "markers",
         "name": "September_2020",
         "orientation": "v",
         "showlegend": true,
         "type": "scatter",
         "x": [
          2.49069214242573,
          2.4973384412531034,
          2.5327542783013204,
          2.334559269453337,
          1.977343611905351,
          1.8594887969604217
         ],
         "xaxis": "x",
         "y": [
          3.1859962335379,
          2.87989642360439,
          3.06092537390113,
          2.8800049100623,
          2.9521036110783,
          2.71085636192051
         ],
         "yaxis": "y"
        },
        {
         "hovertemplate": "month=November_2020<br>log_average_cells_L=%{x}<br>shannon=%{y}<extra></extra>",
         "legendgroup": "November_2020",
         "marker": {
          "color": "#FECB52",
          "symbol": "circle"
         },
         "mode": "markers",
         "name": "November_2020",
         "orientation": "v",
         "showlegend": true,
         "type": "scatter",
         "x": [
          1.312052030053176,
          1.7425150277758712,
          1.176791037973801,
          1.9115754219168528
         ],
         "xaxis": "x",
         "y": [
          1.98234148148097,
          3.21321510808402,
          2.92790754974854,
          2.71066360335426
         ],
         "yaxis": "y"
        },
        {
         "hovertemplate": "month=December_2020<br>log_average_cells_L=%{x}<br>shannon=%{y}<extra></extra>",
         "legendgroup": "December_2020",
         "marker": {
          "color": "#636efa",
          "symbol": "circle"
         },
         "mode": "markers",
         "name": "December_2020",
         "orientation": "v",
         "showlegend": true,
         "type": "scatter",
         "x": [
          1.7063320283311194,
          1.7316655032918298,
          1.538115410431398,
          2.260712787501914,
          1.3522163000845364,
          1.5357351107837405
         ],
         "xaxis": "x",
         "y": [
          3.20963220873414,
          3.07075887641552,
          3.32562183093256,
          2.76077289287923,
          3.29971780020393,
          3.14932659254495
         ],
         "yaxis": "y"
        },
        {
         "line": {
          "color": "black",
          "width": 1
         },
         "mode": "lines",
         "type": "scatter",
         "x": [
          1.174836330452317,
          0.9115183140055959,
          2.580196024966958,
          1.5796034285661493,
          1.0809718382461917,
          1.5577348839657272,
          1.9431924286568558,
          1.6085124048062824,
          1.5850136900512237,
          1.2109501831604703,
          2.7882360034853524,
          2.9513210738544724,
          2.5169188853352673,
          2.1217764450441026,
          2.078845962570573,
          3.849009138691678,
          1.4920200327181328,
          1.7563675273112132,
          2.176161258322422,
          1.1284694054306312,
          2.751386567416642,
          2.030436398258448,
          3.203994021498374,
          2.1836231879792014,
          2.6306380496196513,
          3.313045641380588,
          2.8994573076953394,
          3.215496740715364,
          2.7379802919263905,
          3.863601064011999,
          4.007314902193687,
          3.858878996879423,
          3.374332845713055,
          2.5589199805856886,
          3.706473740210198,
          2.4461581414202898,
          2.9832155843802495,
          2.399457779893738,
          2.5651057063652316,
          2.100702058842648,
          3.2290193318511395,
          2.49069214242573,
          2.4973384412531034,
          2.5327542783013204,
          2.334559269453337,
          1.977343611905351,
          1.8594887969604217,
          1.312052030053176,
          1.7425150277758712,
          1.176791037973801,
          1.9115754219168528,
          1.7063320283311194,
          1.7316655032918298,
          1.538115410431398,
          2.260712787501914,
          1.3522163000845364,
          1.5357351107837405
         ],
         "y": [
          2.796174286085258,
          2.8466253088681617,
          2.5269111535320805,
          2.7186220002057127,
          2.814158469996028,
          2.722811954454772,
          2.6489593270065126,
          2.7130831182157804,
          2.7175854086760927,
          2.789254969168232,
          2.487051253941389,
          2.4558045936795043,
          2.5390348830674703,
          2.6147431104293286,
          2.6229684752508478,
          2.283809978110894,
          2.7354027429705225,
          2.684754474947367,
          2.6043231266744242,
          2.805058064043974,
          2.4941115066492237,
          2.6322436173963744,
          2.4073931374099127,
          2.6028934410486597,
          2.5172465974591245,
          2.3864991407383886,
          2.4657415515960586,
          2.40518924738707,
          2.4966801129273644,
          2.281014204518505,
          2.2534790201731147,
          2.2819189398636315,
          2.3747566774470346,
          2.5309875863348723,
          2.3111193765834988,
          2.5525924510286893,
          2.449693691361086,
          2.5615401145237264,
          2.5298024179349134,
          2.6187809060679736,
          2.4025983553445087,
          2.5440598563750534,
          2.5427864434195455,
          2.5360008644230674,
          2.5739744943393883,
          2.642416052272094,
          2.664996717408863,
          2.7698841275911628,
          2.687408576550776,
          2.7957997693885615,
          2.6550170603469496,
          2.694341141796308,
          2.6894873162219706,
          2.726570992744768,
          2.588123281397878,
          2.762188761623597,
          2.727027051746634
         ]
        }
       ],
       "layout": {
        "font": {
         "family": "Times New Roman",
         "size": 8
        },
        "height": 600,
        "legend": {
         "title": {
          "text": "month"
         },
         "tracegroupgap": 0
        },
        "margin": {
         "t": 60
        },
        "template": {
         "data": {
          "bar": [
           {
            "error_x": {
             "color": "#2a3f5f"
            },
            "error_y": {
             "color": "#2a3f5f"
            },
            "marker": {
             "line": {
              "color": "#E5ECF6",
              "width": 0.5
             },
             "pattern": {
              "fillmode": "overlay",
              "size": 10,
              "solidity": 0.2
             }
            },
            "type": "bar"
           }
          ],
          "barpolar": [
           {
            "marker": {
             "line": {
              "color": "#E5ECF6",
              "width": 0.5
             },
             "pattern": {
              "fillmode": "overlay",
              "size": 10,
              "solidity": 0.2
             }
            },
            "type": "barpolar"
           }
          ],
          "carpet": [
           {
            "aaxis": {
             "endlinecolor": "#2a3f5f",
             "gridcolor": "white",
             "linecolor": "white",
             "minorgridcolor": "white",
             "startlinecolor": "#2a3f5f"
            },
            "baxis": {
             "endlinecolor": "#2a3f5f",
             "gridcolor": "white",
             "linecolor": "white",
             "minorgridcolor": "white",
             "startlinecolor": "#2a3f5f"
            },
            "type": "carpet"
           }
          ],
          "choropleth": [
           {
            "colorbar": {
             "outlinewidth": 0,
             "ticks": ""
            },
            "type": "choropleth"
           }
          ],
          "contour": [
           {
            "colorbar": {
             "outlinewidth": 0,
             "ticks": ""
            },
            "colorscale": [
             [
              0,
              "#0d0887"
             ],
             [
              0.1111111111111111,
              "#46039f"
             ],
             [
              0.2222222222222222,
              "#7201a8"
             ],
             [
              0.3333333333333333,
              "#9c179e"
             ],
             [
              0.4444444444444444,
              "#bd3786"
             ],
             [
              0.5555555555555556,
              "#d8576b"
             ],
             [
              0.6666666666666666,
              "#ed7953"
             ],
             [
              0.7777777777777778,
              "#fb9f3a"
             ],
             [
              0.8888888888888888,
              "#fdca26"
             ],
             [
              1,
              "#f0f921"
             ]
            ],
            "type": "contour"
           }
          ],
          "contourcarpet": [
           {
            "colorbar": {
             "outlinewidth": 0,
             "ticks": ""
            },
            "type": "contourcarpet"
           }
          ],
          "heatmap": [
           {
            "colorbar": {
             "outlinewidth": 0,
             "ticks": ""
            },
            "colorscale": [
             [
              0,
              "#0d0887"
             ],
             [
              0.1111111111111111,
              "#46039f"
             ],
             [
              0.2222222222222222,
              "#7201a8"
             ],
             [
              0.3333333333333333,
              "#9c179e"
             ],
             [
              0.4444444444444444,
              "#bd3786"
             ],
             [
              0.5555555555555556,
              "#d8576b"
             ],
             [
              0.6666666666666666,
              "#ed7953"
             ],
             [
              0.7777777777777778,
              "#fb9f3a"
             ],
             [
              0.8888888888888888,
              "#fdca26"
             ],
             [
              1,
              "#f0f921"
             ]
            ],
            "type": "heatmap"
           }
          ],
          "heatmapgl": [
           {
            "colorbar": {
             "outlinewidth": 0,
             "ticks": ""
            },
            "colorscale": [
             [
              0,
              "#0d0887"
             ],
             [
              0.1111111111111111,
              "#46039f"
             ],
             [
              0.2222222222222222,
              "#7201a8"
             ],
             [
              0.3333333333333333,
              "#9c179e"
             ],
             [
              0.4444444444444444,
              "#bd3786"
             ],
             [
              0.5555555555555556,
              "#d8576b"
             ],
             [
              0.6666666666666666,
              "#ed7953"
             ],
             [
              0.7777777777777778,
              "#fb9f3a"
             ],
             [
              0.8888888888888888,
              "#fdca26"
             ],
             [
              1,
              "#f0f921"
             ]
            ],
            "type": "heatmapgl"
           }
          ],
          "histogram": [
           {
            "marker": {
             "pattern": {
              "fillmode": "overlay",
              "size": 10,
              "solidity": 0.2
             }
            },
            "type": "histogram"
           }
          ],
          "histogram2d": [
           {
            "colorbar": {
             "outlinewidth": 0,
             "ticks": ""
            },
            "colorscale": [
             [
              0,
              "#0d0887"
             ],
             [
              0.1111111111111111,
              "#46039f"
             ],
             [
              0.2222222222222222,
              "#7201a8"
             ],
             [
              0.3333333333333333,
              "#9c179e"
             ],
             [
              0.4444444444444444,
              "#bd3786"
             ],
             [
              0.5555555555555556,
              "#d8576b"
             ],
             [
              0.6666666666666666,
              "#ed7953"
             ],
             [
              0.7777777777777778,
              "#fb9f3a"
             ],
             [
              0.8888888888888888,
              "#fdca26"
             ],
             [
              1,
              "#f0f921"
             ]
            ],
            "type": "histogram2d"
           }
          ],
          "histogram2dcontour": [
           {
            "colorbar": {
             "outlinewidth": 0,
             "ticks": ""
            },
            "colorscale": [
             [
              0,
              "#0d0887"
             ],
             [
              0.1111111111111111,
              "#46039f"
             ],
             [
              0.2222222222222222,
              "#7201a8"
             ],
             [
              0.3333333333333333,
              "#9c179e"
             ],
             [
              0.4444444444444444,
              "#bd3786"
             ],
             [
              0.5555555555555556,
              "#d8576b"
             ],
             [
              0.6666666666666666,
              "#ed7953"
             ],
             [
              0.7777777777777778,
              "#fb9f3a"
             ],
             [
              0.8888888888888888,
              "#fdca26"
             ],
             [
              1,
              "#f0f921"
             ]
            ],
            "type": "histogram2dcontour"
           }
          ],
          "mesh3d": [
           {
            "colorbar": {
             "outlinewidth": 0,
             "ticks": ""
            },
            "type": "mesh3d"
           }
          ],
          "parcoords": [
           {
            "line": {
             "colorbar": {
              "outlinewidth": 0,
              "ticks": ""
             }
            },
            "type": "parcoords"
           }
          ],
          "pie": [
           {
            "automargin": true,
            "type": "pie"
           }
          ],
          "scatter": [
           {
            "marker": {
             "colorbar": {
              "outlinewidth": 0,
              "ticks": ""
             }
            },
            "type": "scatter"
           }
          ],
          "scatter3d": [
           {
            "line": {
             "colorbar": {
              "outlinewidth": 0,
              "ticks": ""
             }
            },
            "marker": {
             "colorbar": {
              "outlinewidth": 0,
              "ticks": ""
             }
            },
            "type": "scatter3d"
           }
          ],
          "scattercarpet": [
           {
            "marker": {
             "colorbar": {
              "outlinewidth": 0,
              "ticks": ""
             }
            },
            "type": "scattercarpet"
           }
          ],
          "scattergeo": [
           {
            "marker": {
             "colorbar": {
              "outlinewidth": 0,
              "ticks": ""
             }
            },
            "type": "scattergeo"
           }
          ],
          "scattergl": [
           {
            "marker": {
             "colorbar": {
              "outlinewidth": 0,
              "ticks": ""
             }
            },
            "type": "scattergl"
           }
          ],
          "scattermapbox": [
           {
            "marker": {
             "colorbar": {
              "outlinewidth": 0,
              "ticks": ""
             }
            },
            "type": "scattermapbox"
           }
          ],
          "scatterpolar": [
           {
            "marker": {
             "colorbar": {
              "outlinewidth": 0,
              "ticks": ""
             }
            },
            "type": "scatterpolar"
           }
          ],
          "scatterpolargl": [
           {
            "marker": {
             "colorbar": {
              "outlinewidth": 0,
              "ticks": ""
             }
            },
            "type": "scatterpolargl"
           }
          ],
          "scatterternary": [
           {
            "marker": {
             "colorbar": {
              "outlinewidth": 0,
              "ticks": ""
             }
            },
            "type": "scatterternary"
           }
          ],
          "surface": [
           {
            "colorbar": {
             "outlinewidth": 0,
             "ticks": ""
            },
            "colorscale": [
             [
              0,
              "#0d0887"
             ],
             [
              0.1111111111111111,
              "#46039f"
             ],
             [
              0.2222222222222222,
              "#7201a8"
             ],
             [
              0.3333333333333333,
              "#9c179e"
             ],
             [
              0.4444444444444444,
              "#bd3786"
             ],
             [
              0.5555555555555556,
              "#d8576b"
             ],
             [
              0.6666666666666666,
              "#ed7953"
             ],
             [
              0.7777777777777778,
              "#fb9f3a"
             ],
             [
              0.8888888888888888,
              "#fdca26"
             ],
             [
              1,
              "#f0f921"
             ]
            ],
            "type": "surface"
           }
          ],
          "table": [
           {
            "cells": {
             "fill": {
              "color": "#EBF0F8"
             },
             "line": {
              "color": "white"
             }
            },
            "header": {
             "fill": {
              "color": "#C8D4E3"
             },
             "line": {
              "color": "white"
             }
            },
            "type": "table"
           }
          ]
         },
         "layout": {
          "annotationdefaults": {
           "arrowcolor": "#2a3f5f",
           "arrowhead": 0,
           "arrowwidth": 1
          },
          "autotypenumbers": "strict",
          "coloraxis": {
           "colorbar": {
            "outlinewidth": 0,
            "ticks": ""
           }
          },
          "colorscale": {
           "diverging": [
            [
             0,
             "#8e0152"
            ],
            [
             0.1,
             "#c51b7d"
            ],
            [
             0.2,
             "#de77ae"
            ],
            [
             0.3,
             "#f1b6da"
            ],
            [
             0.4,
             "#fde0ef"
            ],
            [
             0.5,
             "#f7f7f7"
            ],
            [
             0.6,
             "#e6f5d0"
            ],
            [
             0.7,
             "#b8e186"
            ],
            [
             0.8,
             "#7fbc41"
            ],
            [
             0.9,
             "#4d9221"
            ],
            [
             1,
             "#276419"
            ]
           ],
           "sequential": [
            [
             0,
             "#0d0887"
            ],
            [
             0.1111111111111111,
             "#46039f"
            ],
            [
             0.2222222222222222,
             "#7201a8"
            ],
            [
             0.3333333333333333,
             "#9c179e"
            ],
            [
             0.4444444444444444,
             "#bd3786"
            ],
            [
             0.5555555555555556,
             "#d8576b"
            ],
            [
             0.6666666666666666,
             "#ed7953"
            ],
            [
             0.7777777777777778,
             "#fb9f3a"
            ],
            [
             0.8888888888888888,
             "#fdca26"
            ],
            [
             1,
             "#f0f921"
            ]
           ],
           "sequentialminus": [
            [
             0,
             "#0d0887"
            ],
            [
             0.1111111111111111,
             "#46039f"
            ],
            [
             0.2222222222222222,
             "#7201a8"
            ],
            [
             0.3333333333333333,
             "#9c179e"
            ],
            [
             0.4444444444444444,
             "#bd3786"
            ],
            [
             0.5555555555555556,
             "#d8576b"
            ],
            [
             0.6666666666666666,
             "#ed7953"
            ],
            [
             0.7777777777777778,
             "#fb9f3a"
            ],
            [
             0.8888888888888888,
             "#fdca26"
            ],
            [
             1,
             "#f0f921"
            ]
           ]
          },
          "colorway": [
           "#636efa",
           "#EF553B",
           "#00cc96",
           "#ab63fa",
           "#FFA15A",
           "#19d3f3",
           "#FF6692",
           "#B6E880",
           "#FF97FF",
           "#FECB52"
          ],
          "font": {
           "color": "#2a3f5f"
          },
          "geo": {
           "bgcolor": "white",
           "lakecolor": "white",
           "landcolor": "#E5ECF6",
           "showlakes": true,
           "showland": true,
           "subunitcolor": "white"
          },
          "hoverlabel": {
           "align": "left"
          },
          "hovermode": "closest",
          "mapbox": {
           "style": "light"
          },
          "paper_bgcolor": "white",
          "plot_bgcolor": "#E5ECF6",
          "polar": {
           "angularaxis": {
            "gridcolor": "white",
            "linecolor": "white",
            "ticks": ""
           },
           "bgcolor": "#E5ECF6",
           "radialaxis": {
            "gridcolor": "white",
            "linecolor": "white",
            "ticks": ""
           }
          },
          "scene": {
           "xaxis": {
            "backgroundcolor": "#E5ECF6",
            "gridcolor": "white",
            "gridwidth": 2,
            "linecolor": "white",
            "showbackground": true,
            "ticks": "",
            "zerolinecolor": "white"
           },
           "yaxis": {
            "backgroundcolor": "#E5ECF6",
            "gridcolor": "white",
            "gridwidth": 2,
            "linecolor": "white",
            "showbackground": true,
            "ticks": "",
            "zerolinecolor": "white"
           },
           "zaxis": {
            "backgroundcolor": "#E5ECF6",
            "gridcolor": "white",
            "gridwidth": 2,
            "linecolor": "white",
            "showbackground": true,
            "ticks": "",
            "zerolinecolor": "white"
           }
          },
          "shapedefaults": {
           "line": {
            "color": "#2a3f5f"
           }
          },
          "ternary": {
           "aaxis": {
            "gridcolor": "white",
            "linecolor": "white",
            "ticks": ""
           },
           "baxis": {
            "gridcolor": "white",
            "linecolor": "white",
            "ticks": ""
           },
           "bgcolor": "#E5ECF6",
           "caxis": {
            "gridcolor": "white",
            "linecolor": "white",
            "ticks": ""
           }
          },
          "title": {
           "x": 0.05
          },
          "xaxis": {
           "automargin": true,
           "gridcolor": "white",
           "linecolor": "white",
           "ticks": "",
           "title": {
            "standoff": 15
           },
           "zerolinecolor": "white",
           "zerolinewidth": 2
          },
          "yaxis": {
           "automargin": true,
           "gridcolor": "white",
           "linecolor": "white",
           "ticks": "",
           "title": {
            "standoff": 15
           },
           "zerolinecolor": "white",
           "zerolinewidth": 2
          }
         }
        },
        "width": 800,
        "xaxis": {
         "anchor": "y",
         "domain": [
          0,
          1
         ],
         "tickfont": {
          "family": "Times New Roman",
          "size": 8
         },
         "title": {
          "text": "log_average_cells_L"
         }
        },
        "yaxis": {
         "anchor": "x",
         "domain": [
          0,
          1
         ],
         "tickfont": {
          "family": "Times New Roman",
          "size": 8
         },
         "title": {
          "text": "shannon"
         }
        }
       }
      }
     },
     "metadata": {},
     "output_type": "display_data"
    }
   ],
   "source": [
    "# Add log transformed cell counts\n",
    "plot_data2['log_average_cells_L'] = np.log10(plot_data2['average_cells_L'])\n",
    "\n",
    "# Statistical tests\n",
    "# calculate the linear regression\n",
    "slope, intercept, r_value, p_value, std_err = stats.linregress(plot_data2['log_average_cells_L'], plot_data2['shannon'])\n",
    "\n",
    "# calculate the correlation coefficient and its p-value\n",
    "corr_coeff, p_value_corr = stats.pearsonr(plot_data2['log_average_cells_L'], plot_data2['shannon'])\n",
    "\n",
    "# calculate descriptive statistics\n",
    "mean_shannon = np.mean(plot_data2['shannon'])\n",
    "mean_biomass = np.mean(plot_data2['log_average_cells_L'])\n",
    "std_shannon = np.std(plot_data2['shannon'])\n",
    "std_biomass = np.std(plot_data2['log_average_cells_L'])\n",
    "min_shannon = np.min(plot_data2['shannon'])\n",
    "min_biomass = np.min(plot_data2['log_average_cells_L'])\n",
    "max_shannon = np.max(plot_data2['shannon'])\n",
    "max_biomass = np.max(plot_data2['log_average_cells_L'])\n",
    "\n",
    "# print the results\n",
    "print(\"Linear regression results:\")\n",
    "print(\"Slope: {:.2f}, Intercept: {:.2f}, R-squared: {:.2f}, P-value: {:.4f}, Standard error: {:.2f}\".format(slope, intercept, r_value**2, p_value, std_err))\n",
    "print(\"\\nCorrelation coefficient: {:.2f}, P-value: {:.4f}\".format(corr_coeff, p_value_corr))\n",
    "print(\"\\nDescriptive statistics:\")\n",
    "print(\"Mean number of shannon: {:.2f}, Standard deviation: {:.2f}, Range: {}-{}\".format(mean_shannon, std_shannon, min_shannon, max_shannon))\n",
    "print(\"Mean number of cells per L: {:.2f}, Standard deviation: {:.2f}, Range: {}-{}\".format(mean_biomass, std_biomass, min_biomass, max_biomass))\n",
    "\n",
    "# Plot variation in taxonomic diversity, colored by station\n",
    "fig = px.scatter(plot_data2,\n",
    "        x = 'log_average_cells_L',\n",
    "        y = 'shannon',\n",
    "        color = 'month')\n",
    "\n",
    "# Update plot size, font, and font size\n",
    "fig.update_layout(\n",
    "        width=800,\n",
    "        height=600,\n",
    "        font=dict(\n",
    "            family='Times New Roman',\n",
    "            size=8\n",
    "        )\n",
    ")\n",
    "\n",
    "fig.update_xaxes(tickfont=dict(family='Times New Roman', size=8))\n",
    "fig.update_yaxes(tickfont=dict(family='Times New Roman', size=8))\n",
    "\n",
    "# Add a linear regression line\n",
    "fig.add_trace(go.Scatter(\n",
    "        x = plot_data2['log_average_cells_L'],\n",
    "        y = slope * plot_data2['log_average_cells_L'] + intercept,\n",
    "        mode = 'lines',\n",
    "        line = dict(\n",
    "                color = 'black',\n",
    "                width = 1\n",
    "        )\n",
    "))\n",
    "\n",
    "# Save the figure as an SVG file\n",
    "fig.write_image(\"../../figures/biodiversity_functional_diversity/log_biomass_shannon.svg\", width=int(width_in_inches * 96), height=int(height_in_inches * 96), scale=1, format='svg')\n",
    "\n",
    "fig.show()\n"
   ]
  },
  {
   "cell_type": "code",
   "execution_count": 122,
   "metadata": {},
   "outputs": [
    {
     "name": "stdout",
     "output_type": "stream",
     "text": [
      "Linear regression results:\n",
      "Slope: -281.00, Intercept: 6282.68, R-squared: 0.07, P-value: 0.0492, Standard error: 139.72\n",
      "\n",
      "Correlation coefficient: -0.26, P-value: 0.0492\n",
      "\n",
      "Descriptive statistics:\n",
      "Mean number of species: 5641.26, Standard deviation: 848.45, Range: 3642.0-7264.0\n",
      "Mean number of cells per L: 2.28, Standard deviation: 0.79, Range: 0.9115183140055959-4.007314902193687\n"
     ]
    },
    {
     "data": {
      "application/vnd.plotly.v1+json": {
       "config": {
        "plotlyServerURL": "https://plot.ly"
       },
       "data": [
        {
         "hovertemplate": "month=January_2021<br>log_average_cells_L=%{x}<br>KEGG_ko=%{y}<extra></extra>",
         "legendgroup": "January_2021",
         "marker": {
          "color": "#636efa",
          "symbol": "circle"
         },
         "mode": "markers",
         "name": "January_2021",
         "orientation": "v",
         "showlegend": true,
         "type": "scatter",
         "x": [
          1.174836330452317,
          0.9115183140055959,
          2.580196024966958,
          1.5796034285661493,
          1.0809718382461917
         ],
         "xaxis": "x",
         "y": [
          6328,
          6805,
          3644,
          5499,
          6125
         ],
         "yaxis": "y"
        },
        {
         "hovertemplate": "month=February_2021<br>log_average_cells_L=%{x}<br>KEGG_ko=%{y}<extra></extra>",
         "legendgroup": "February_2021",
         "marker": {
          "color": "#EF553B",
          "symbol": "circle"
         },
         "mode": "markers",
         "name": "February_2021",
         "orientation": "v",
         "showlegend": true,
         "type": "scatter",
         "x": [
          1.5577348839657272,
          1.9431924286568558,
          1.6085124048062824,
          1.5850136900512237,
          1.2109501831604703
         ],
         "xaxis": "x",
         "y": [
          6628,
          6843,
          6244,
          4613,
          6141
         ],
         "yaxis": "y"
        },
        {
         "hovertemplate": "month=April_2021<br>log_average_cells_L=%{x}<br>KEGG_ko=%{y}<extra></extra>",
         "legendgroup": "April_2021",
         "marker": {
          "color": "#00cc96",
          "symbol": "circle"
         },
         "mode": "markers",
         "name": "April_2021",
         "orientation": "v",
         "showlegend": true,
         "type": "scatter",
         "x": [
          2.7882360034853524,
          2.9513210738544724,
          2.5169188853352673,
          2.1217764450441026
         ],
         "xaxis": "x",
         "y": [
          6783,
          4785,
          6281,
          5242
         ],
         "yaxis": "y"
        },
        {
         "hovertemplate": "month=May_2021<br>log_average_cells_L=%{x}<br>KEGG_ko=%{y}<extra></extra>",
         "legendgroup": "May_2021",
         "marker": {
          "color": "#ab63fa",
          "symbol": "circle"
         },
         "mode": "markers",
         "name": "May_2021",
         "orientation": "v",
         "showlegend": true,
         "type": "scatter",
         "x": [
          2.078845962570573,
          3.849009138691678,
          1.4920200327181328,
          1.7563675273112132,
          2.176161258322422,
          1.1284694054306312
         ],
         "xaxis": "x",
         "y": [
          5353,
          5237,
          6436,
          5491,
          5590,
          5100
         ],
         "yaxis": "y"
        },
        {
         "hovertemplate": "month=June_2021<br>log_average_cells_L=%{x}<br>KEGG_ko=%{y}<extra></extra>",
         "legendgroup": "June_2021",
         "marker": {
          "color": "#FFA15A",
          "symbol": "circle"
         },
         "mode": "markers",
         "name": "June_2021",
         "orientation": "v",
         "showlegend": true,
         "type": "scatter",
         "x": [
          2.751386567416642,
          2.030436398258448,
          3.203994021498374,
          2.1836231879792014,
          2.6306380496196513,
          3.313045641380588
         ],
         "xaxis": "x",
         "y": [
          6219,
          6959,
          4000,
          5340,
          5386,
          4425
         ],
         "yaxis": "y"
        },
        {
         "hovertemplate": "month=July_2021<br>log_average_cells_L=%{x}<br>KEGG_ko=%{y}<extra></extra>",
         "legendgroup": "July_2021",
         "marker": {
          "color": "#19d3f3",
          "symbol": "circle"
         },
         "mode": "markers",
         "name": "July_2021",
         "orientation": "v",
         "showlegend": true,
         "type": "scatter",
         "x": [
          2.8994573076953394,
          3.215496740715364,
          2.7379802919263905,
          3.863601064011999,
          4.007314902193687
         ],
         "xaxis": "x",
         "y": [
          6218,
          6208,
          5982,
          7264,
          5357
         ],
         "yaxis": "y"
        },
        {
         "hovertemplate": "month=July_2020<br>log_average_cells_L=%{x}<br>KEGG_ko=%{y}<extra></extra>",
         "legendgroup": "July_2020",
         "marker": {
          "color": "#FF6692",
          "symbol": "circle"
         },
         "mode": "markers",
         "name": "July_2020",
         "orientation": "v",
         "showlegend": true,
         "type": "scatter",
         "x": [
          3.858878996879423,
          3.374332845713055,
          2.5589199805856886,
          3.706473740210198
         ],
         "xaxis": "x",
         "y": [
          4640,
          3642,
          5681,
          4836
         ],
         "yaxis": "y"
        },
        {
         "hovertemplate": "month=August_2020<br>log_average_cells_L=%{x}<br>KEGG_ko=%{y}<extra></extra>",
         "legendgroup": "August_2020",
         "marker": {
          "color": "#B6E880",
          "symbol": "circle"
         },
         "mode": "markers",
         "name": "August_2020",
         "orientation": "v",
         "showlegend": true,
         "type": "scatter",
         "x": [
          2.4461581414202898,
          2.9832155843802495,
          2.399457779893738,
          2.5651057063652316,
          2.100702058842648,
          3.2290193318511395
         ],
         "xaxis": "x",
         "y": [
          6539,
          4995,
          6778,
          5053,
          5648,
          5758
         ],
         "yaxis": "y"
        },
        {
         "hovertemplate": "month=September_2020<br>log_average_cells_L=%{x}<br>KEGG_ko=%{y}<extra></extra>",
         "legendgroup": "September_2020",
         "marker": {
          "color": "#FF97FF",
          "symbol": "circle"
         },
         "mode": "markers",
         "name": "September_2020",
         "orientation": "v",
         "showlegend": true,
         "type": "scatter",
         "x": [
          2.49069214242573,
          2.4973384412531034,
          2.5327542783013204,
          2.334559269453337,
          1.977343611905351,
          1.8594887969604217
         ],
         "xaxis": "x",
         "y": [
          4643,
          5135,
          4852,
          6950,
          6801,
          5083
         ],
         "yaxis": "y"
        },
        {
         "hovertemplate": "month=November_2020<br>log_average_cells_L=%{x}<br>KEGG_ko=%{y}<extra></extra>",
         "legendgroup": "November_2020",
         "marker": {
          "color": "#FECB52",
          "symbol": "circle"
         },
         "mode": "markers",
         "name": "November_2020",
         "orientation": "v",
         "showlegend": true,
         "type": "scatter",
         "x": [
          1.312052030053176,
          1.7425150277758712,
          1.176791037973801,
          1.9115754219168528
         ],
         "xaxis": "x",
         "y": [
          4873,
          5921,
          6335,
          5199
         ],
         "yaxis": "y"
        },
        {
         "hovertemplate": "month=December_2020<br>log_average_cells_L=%{x}<br>KEGG_ko=%{y}<extra></extra>",
         "legendgroup": "December_2020",
         "marker": {
          "color": "#636efa",
          "symbol": "circle"
         },
         "mode": "markers",
         "name": "December_2020",
         "orientation": "v",
         "showlegend": true,
         "type": "scatter",
         "x": [
          1.7063320283311194,
          1.7316655032918298,
          1.538115410431398,
          2.260712787501914,
          1.3522163000845364,
          1.5357351107837405
         ],
         "xaxis": "x",
         "y": [
          5131,
          4684,
          5810,
          6543,
          5619,
          5877
         ],
         "yaxis": "y"
        },
        {
         "line": {
          "color": "black",
          "width": 1
         },
         "mode": "lines",
         "type": "scatter",
         "x": [
          1.174836330452317,
          0.9115183140055959,
          2.580196024966958,
          1.5796034285661493,
          1.0809718382461917,
          1.5577348839657272,
          1.9431924286568558,
          1.6085124048062824,
          1.5850136900512237,
          1.2109501831604703,
          2.7882360034853524,
          2.9513210738544724,
          2.5169188853352673,
          2.1217764450441026,
          2.078845962570573,
          3.849009138691678,
          1.4920200327181328,
          1.7563675273112132,
          2.176161258322422,
          1.1284694054306312,
          2.751386567416642,
          2.030436398258448,
          3.203994021498374,
          2.1836231879792014,
          2.6306380496196513,
          3.313045641380588,
          2.8994573076953394,
          3.215496740715364,
          2.7379802919263905,
          3.863601064011999,
          4.007314902193687,
          3.858878996879423,
          3.374332845713055,
          2.5589199805856886,
          3.706473740210198,
          2.4461581414202898,
          2.9832155843802495,
          2.399457779893738,
          2.5651057063652316,
          2.100702058842648,
          3.2290193318511395,
          2.49069214242573,
          2.4973384412531034,
          2.5327542783013204,
          2.334559269453337,
          1.977343611905351,
          1.8594887969604217,
          1.312052030053176,
          1.7425150277758712,
          1.176791037973801,
          1.9115754219168528,
          1.7063320283311194,
          1.7316655032918298,
          1.538115410431398,
          2.260712787501914,
          1.3522163000845364,
          1.5357351107837405
         ],
         "y": [
          5952.553876673024,
          6026.545384732361,
          5557.6523634148625,
          5838.8156357186535,
          5978.929494358722,
          5844.960625780036,
          5736.648306670961,
          5830.692307215259,
          5837.295369799603,
          5942.406001264545,
          5499.193804616161,
          5453.367429112472,
          5575.433034294166,
          5686.466777635862,
          5698.5301038859825,
          5201.119996215633,
          5863.426285712152,
          5789.145497634717,
          5671.184821603041,
          5965.582832126677,
          5509.548376561723,
          5712.133034351146,
          5382.367150839628,
          5669.088043586147,
          5543.478318190068,
          5351.723999564671,
          5467.94097908651,
          5379.134924070138,
          5513.315496466271,
          5197.019712556698,
          5156.636590431022,
          5198.346598096136,
          5334.50249404639,
          5563.630862837541,
          5241.171980610014,
          5595.31657369007,
          5444.405175163949,
          5608.439223719469,
          5561.892693968407,
          5692.388611764466,
          5375.335119846684,
          5582.80266393648,
          5580.935075535632,
          5570.983340262282,
          5626.675494534085,
          5727.051935011074,
          5760.168755529103,
          5913.9967103997515,
          5793.038005047777,
          5952.004610203219,
          5745.532582956281,
          5803.205310464834,
          5796.086686217162,
          5850.473634170896,
          5647.426116303895,
          5902.71068086852,
          5851.142490646954
         ]
        }
       ],
       "layout": {
        "font": {
         "family": "Times New Roman",
         "size": 8
        },
        "height": 600,
        "legend": {
         "title": {
          "text": "month"
         },
         "tracegroupgap": 0
        },
        "margin": {
         "t": 60
        },
        "template": {
         "data": {
          "bar": [
           {
            "error_x": {
             "color": "#2a3f5f"
            },
            "error_y": {
             "color": "#2a3f5f"
            },
            "marker": {
             "line": {
              "color": "#E5ECF6",
              "width": 0.5
             },
             "pattern": {
              "fillmode": "overlay",
              "size": 10,
              "solidity": 0.2
             }
            },
            "type": "bar"
           }
          ],
          "barpolar": [
           {
            "marker": {
             "line": {
              "color": "#E5ECF6",
              "width": 0.5
             },
             "pattern": {
              "fillmode": "overlay",
              "size": 10,
              "solidity": 0.2
             }
            },
            "type": "barpolar"
           }
          ],
          "carpet": [
           {
            "aaxis": {
             "endlinecolor": "#2a3f5f",
             "gridcolor": "white",
             "linecolor": "white",
             "minorgridcolor": "white",
             "startlinecolor": "#2a3f5f"
            },
            "baxis": {
             "endlinecolor": "#2a3f5f",
             "gridcolor": "white",
             "linecolor": "white",
             "minorgridcolor": "white",
             "startlinecolor": "#2a3f5f"
            },
            "type": "carpet"
           }
          ],
          "choropleth": [
           {
            "colorbar": {
             "outlinewidth": 0,
             "ticks": ""
            },
            "type": "choropleth"
           }
          ],
          "contour": [
           {
            "colorbar": {
             "outlinewidth": 0,
             "ticks": ""
            },
            "colorscale": [
             [
              0,
              "#0d0887"
             ],
             [
              0.1111111111111111,
              "#46039f"
             ],
             [
              0.2222222222222222,
              "#7201a8"
             ],
             [
              0.3333333333333333,
              "#9c179e"
             ],
             [
              0.4444444444444444,
              "#bd3786"
             ],
             [
              0.5555555555555556,
              "#d8576b"
             ],
             [
              0.6666666666666666,
              "#ed7953"
             ],
             [
              0.7777777777777778,
              "#fb9f3a"
             ],
             [
              0.8888888888888888,
              "#fdca26"
             ],
             [
              1,
              "#f0f921"
             ]
            ],
            "type": "contour"
           }
          ],
          "contourcarpet": [
           {
            "colorbar": {
             "outlinewidth": 0,
             "ticks": ""
            },
            "type": "contourcarpet"
           }
          ],
          "heatmap": [
           {
            "colorbar": {
             "outlinewidth": 0,
             "ticks": ""
            },
            "colorscale": [
             [
              0,
              "#0d0887"
             ],
             [
              0.1111111111111111,
              "#46039f"
             ],
             [
              0.2222222222222222,
              "#7201a8"
             ],
             [
              0.3333333333333333,
              "#9c179e"
             ],
             [
              0.4444444444444444,
              "#bd3786"
             ],
             [
              0.5555555555555556,
              "#d8576b"
             ],
             [
              0.6666666666666666,
              "#ed7953"
             ],
             [
              0.7777777777777778,
              "#fb9f3a"
             ],
             [
              0.8888888888888888,
              "#fdca26"
             ],
             [
              1,
              "#f0f921"
             ]
            ],
            "type": "heatmap"
           }
          ],
          "heatmapgl": [
           {
            "colorbar": {
             "outlinewidth": 0,
             "ticks": ""
            },
            "colorscale": [
             [
              0,
              "#0d0887"
             ],
             [
              0.1111111111111111,
              "#46039f"
             ],
             [
              0.2222222222222222,
              "#7201a8"
             ],
             [
              0.3333333333333333,
              "#9c179e"
             ],
             [
              0.4444444444444444,
              "#bd3786"
             ],
             [
              0.5555555555555556,
              "#d8576b"
             ],
             [
              0.6666666666666666,
              "#ed7953"
             ],
             [
              0.7777777777777778,
              "#fb9f3a"
             ],
             [
              0.8888888888888888,
              "#fdca26"
             ],
             [
              1,
              "#f0f921"
             ]
            ],
            "type": "heatmapgl"
           }
          ],
          "histogram": [
           {
            "marker": {
             "pattern": {
              "fillmode": "overlay",
              "size": 10,
              "solidity": 0.2
             }
            },
            "type": "histogram"
           }
          ],
          "histogram2d": [
           {
            "colorbar": {
             "outlinewidth": 0,
             "ticks": ""
            },
            "colorscale": [
             [
              0,
              "#0d0887"
             ],
             [
              0.1111111111111111,
              "#46039f"
             ],
             [
              0.2222222222222222,
              "#7201a8"
             ],
             [
              0.3333333333333333,
              "#9c179e"
             ],
             [
              0.4444444444444444,
              "#bd3786"
             ],
             [
              0.5555555555555556,
              "#d8576b"
             ],
             [
              0.6666666666666666,
              "#ed7953"
             ],
             [
              0.7777777777777778,
              "#fb9f3a"
             ],
             [
              0.8888888888888888,
              "#fdca26"
             ],
             [
              1,
              "#f0f921"
             ]
            ],
            "type": "histogram2d"
           }
          ],
          "histogram2dcontour": [
           {
            "colorbar": {
             "outlinewidth": 0,
             "ticks": ""
            },
            "colorscale": [
             [
              0,
              "#0d0887"
             ],
             [
              0.1111111111111111,
              "#46039f"
             ],
             [
              0.2222222222222222,
              "#7201a8"
             ],
             [
              0.3333333333333333,
              "#9c179e"
             ],
             [
              0.4444444444444444,
              "#bd3786"
             ],
             [
              0.5555555555555556,
              "#d8576b"
             ],
             [
              0.6666666666666666,
              "#ed7953"
             ],
             [
              0.7777777777777778,
              "#fb9f3a"
             ],
             [
              0.8888888888888888,
              "#fdca26"
             ],
             [
              1,
              "#f0f921"
             ]
            ],
            "type": "histogram2dcontour"
           }
          ],
          "mesh3d": [
           {
            "colorbar": {
             "outlinewidth": 0,
             "ticks": ""
            },
            "type": "mesh3d"
           }
          ],
          "parcoords": [
           {
            "line": {
             "colorbar": {
              "outlinewidth": 0,
              "ticks": ""
             }
            },
            "type": "parcoords"
           }
          ],
          "pie": [
           {
            "automargin": true,
            "type": "pie"
           }
          ],
          "scatter": [
           {
            "marker": {
             "colorbar": {
              "outlinewidth": 0,
              "ticks": ""
             }
            },
            "type": "scatter"
           }
          ],
          "scatter3d": [
           {
            "line": {
             "colorbar": {
              "outlinewidth": 0,
              "ticks": ""
             }
            },
            "marker": {
             "colorbar": {
              "outlinewidth": 0,
              "ticks": ""
             }
            },
            "type": "scatter3d"
           }
          ],
          "scattercarpet": [
           {
            "marker": {
             "colorbar": {
              "outlinewidth": 0,
              "ticks": ""
             }
            },
            "type": "scattercarpet"
           }
          ],
          "scattergeo": [
           {
            "marker": {
             "colorbar": {
              "outlinewidth": 0,
              "ticks": ""
             }
            },
            "type": "scattergeo"
           }
          ],
          "scattergl": [
           {
            "marker": {
             "colorbar": {
              "outlinewidth": 0,
              "ticks": ""
             }
            },
            "type": "scattergl"
           }
          ],
          "scattermapbox": [
           {
            "marker": {
             "colorbar": {
              "outlinewidth": 0,
              "ticks": ""
             }
            },
            "type": "scattermapbox"
           }
          ],
          "scatterpolar": [
           {
            "marker": {
             "colorbar": {
              "outlinewidth": 0,
              "ticks": ""
             }
            },
            "type": "scatterpolar"
           }
          ],
          "scatterpolargl": [
           {
            "marker": {
             "colorbar": {
              "outlinewidth": 0,
              "ticks": ""
             }
            },
            "type": "scatterpolargl"
           }
          ],
          "scatterternary": [
           {
            "marker": {
             "colorbar": {
              "outlinewidth": 0,
              "ticks": ""
             }
            },
            "type": "scatterternary"
           }
          ],
          "surface": [
           {
            "colorbar": {
             "outlinewidth": 0,
             "ticks": ""
            },
            "colorscale": [
             [
              0,
              "#0d0887"
             ],
             [
              0.1111111111111111,
              "#46039f"
             ],
             [
              0.2222222222222222,
              "#7201a8"
             ],
             [
              0.3333333333333333,
              "#9c179e"
             ],
             [
              0.4444444444444444,
              "#bd3786"
             ],
             [
              0.5555555555555556,
              "#d8576b"
             ],
             [
              0.6666666666666666,
              "#ed7953"
             ],
             [
              0.7777777777777778,
              "#fb9f3a"
             ],
             [
              0.8888888888888888,
              "#fdca26"
             ],
             [
              1,
              "#f0f921"
             ]
            ],
            "type": "surface"
           }
          ],
          "table": [
           {
            "cells": {
             "fill": {
              "color": "#EBF0F8"
             },
             "line": {
              "color": "white"
             }
            },
            "header": {
             "fill": {
              "color": "#C8D4E3"
             },
             "line": {
              "color": "white"
             }
            },
            "type": "table"
           }
          ]
         },
         "layout": {
          "annotationdefaults": {
           "arrowcolor": "#2a3f5f",
           "arrowhead": 0,
           "arrowwidth": 1
          },
          "autotypenumbers": "strict",
          "coloraxis": {
           "colorbar": {
            "outlinewidth": 0,
            "ticks": ""
           }
          },
          "colorscale": {
           "diverging": [
            [
             0,
             "#8e0152"
            ],
            [
             0.1,
             "#c51b7d"
            ],
            [
             0.2,
             "#de77ae"
            ],
            [
             0.3,
             "#f1b6da"
            ],
            [
             0.4,
             "#fde0ef"
            ],
            [
             0.5,
             "#f7f7f7"
            ],
            [
             0.6,
             "#e6f5d0"
            ],
            [
             0.7,
             "#b8e186"
            ],
            [
             0.8,
             "#7fbc41"
            ],
            [
             0.9,
             "#4d9221"
            ],
            [
             1,
             "#276419"
            ]
           ],
           "sequential": [
            [
             0,
             "#0d0887"
            ],
            [
             0.1111111111111111,
             "#46039f"
            ],
            [
             0.2222222222222222,
             "#7201a8"
            ],
            [
             0.3333333333333333,
             "#9c179e"
            ],
            [
             0.4444444444444444,
             "#bd3786"
            ],
            [
             0.5555555555555556,
             "#d8576b"
            ],
            [
             0.6666666666666666,
             "#ed7953"
            ],
            [
             0.7777777777777778,
             "#fb9f3a"
            ],
            [
             0.8888888888888888,
             "#fdca26"
            ],
            [
             1,
             "#f0f921"
            ]
           ],
           "sequentialminus": [
            [
             0,
             "#0d0887"
            ],
            [
             0.1111111111111111,
             "#46039f"
            ],
            [
             0.2222222222222222,
             "#7201a8"
            ],
            [
             0.3333333333333333,
             "#9c179e"
            ],
            [
             0.4444444444444444,
             "#bd3786"
            ],
            [
             0.5555555555555556,
             "#d8576b"
            ],
            [
             0.6666666666666666,
             "#ed7953"
            ],
            [
             0.7777777777777778,
             "#fb9f3a"
            ],
            [
             0.8888888888888888,
             "#fdca26"
            ],
            [
             1,
             "#f0f921"
            ]
           ]
          },
          "colorway": [
           "#636efa",
           "#EF553B",
           "#00cc96",
           "#ab63fa",
           "#FFA15A",
           "#19d3f3",
           "#FF6692",
           "#B6E880",
           "#FF97FF",
           "#FECB52"
          ],
          "font": {
           "color": "#2a3f5f"
          },
          "geo": {
           "bgcolor": "white",
           "lakecolor": "white",
           "landcolor": "#E5ECF6",
           "showlakes": true,
           "showland": true,
           "subunitcolor": "white"
          },
          "hoverlabel": {
           "align": "left"
          },
          "hovermode": "closest",
          "mapbox": {
           "style": "light"
          },
          "paper_bgcolor": "white",
          "plot_bgcolor": "#E5ECF6",
          "polar": {
           "angularaxis": {
            "gridcolor": "white",
            "linecolor": "white",
            "ticks": ""
           },
           "bgcolor": "#E5ECF6",
           "radialaxis": {
            "gridcolor": "white",
            "linecolor": "white",
            "ticks": ""
           }
          },
          "scene": {
           "xaxis": {
            "backgroundcolor": "#E5ECF6",
            "gridcolor": "white",
            "gridwidth": 2,
            "linecolor": "white",
            "showbackground": true,
            "ticks": "",
            "zerolinecolor": "white"
           },
           "yaxis": {
            "backgroundcolor": "#E5ECF6",
            "gridcolor": "white",
            "gridwidth": 2,
            "linecolor": "white",
            "showbackground": true,
            "ticks": "",
            "zerolinecolor": "white"
           },
           "zaxis": {
            "backgroundcolor": "#E5ECF6",
            "gridcolor": "white",
            "gridwidth": 2,
            "linecolor": "white",
            "showbackground": true,
            "ticks": "",
            "zerolinecolor": "white"
           }
          },
          "shapedefaults": {
           "line": {
            "color": "#2a3f5f"
           }
          },
          "ternary": {
           "aaxis": {
            "gridcolor": "white",
            "linecolor": "white",
            "ticks": ""
           },
           "baxis": {
            "gridcolor": "white",
            "linecolor": "white",
            "ticks": ""
           },
           "bgcolor": "#E5ECF6",
           "caxis": {
            "gridcolor": "white",
            "linecolor": "white",
            "ticks": ""
           }
          },
          "title": {
           "x": 0.05
          },
          "xaxis": {
           "automargin": true,
           "gridcolor": "white",
           "linecolor": "white",
           "ticks": "",
           "title": {
            "standoff": 15
           },
           "zerolinecolor": "white",
           "zerolinewidth": 2
          },
          "yaxis": {
           "automargin": true,
           "gridcolor": "white",
           "linecolor": "white",
           "ticks": "",
           "title": {
            "standoff": 15
           },
           "zerolinecolor": "white",
           "zerolinewidth": 2
          }
         }
        },
        "width": 800,
        "xaxis": {
         "anchor": "y",
         "domain": [
          0,
          1
         ],
         "tickfont": {
          "family": "Times New Roman",
          "size": 8
         },
         "title": {
          "text": "log_average_cells_L"
         }
        },
        "yaxis": {
         "anchor": "x",
         "domain": [
          0,
          1
         ],
         "tickfont": {
          "family": "Times New Roman",
          "size": 8
         },
         "title": {
          "text": "KEGG_ko"
         }
        }
       }
      }
     },
     "metadata": {},
     "output_type": "display_data"
    }
   ],
   "source": [
    "# Statistical tests\n",
    "# calculate the linear regression\n",
    "slope, intercept, r_value, p_value, std_err = stats.linregress(plot_data2['log_average_cells_L'], plot_data2[func_info])\n",
    "\n",
    "# calculate the correlation coefficient and its p-value\n",
    "corr_coeff, p_value_corr = stats.pearsonr(plot_data2['log_average_cells_L'], plot_data2[func_info])\n",
    "\n",
    "# calculate descriptive statistics\n",
    "mean_species = np.mean(plot_data2[func_info])\n",
    "mean_biomass = np.mean(plot_data2['log_average_cells_L'])\n",
    "std_species = np.std(plot_data2[func_info])\n",
    "std_biomass = np.std(plot_data2['log_average_cells_L'])\n",
    "min_species = np.min(plot_data2[func_info])\n",
    "min_biomass = np.min(plot_data2['log_average_cells_L'])\n",
    "max_species = np.max(plot_data2[func_info])\n",
    "max_biomass = np.max(plot_data2['log_average_cells_L'])\n",
    "\n",
    "# print the results\n",
    "print(\"Linear regression results:\")\n",
    "print(\"Slope: {:.2f}, Intercept: {:.2f}, R-squared: {:.2f}, P-value: {:.4f}, Standard error: {:.2f}\".format(slope, intercept, r_value**2, p_value, std_err))\n",
    "print(\"\\nCorrelation coefficient: {:.2f}, P-value: {:.4f}\".format(corr_coeff, p_value_corr))\n",
    "print(\"\\nDescriptive statistics:\")\n",
    "print(\"Mean number of species: {:.2f}, Standard deviation: {:.2f}, Range: {}-{}\".format(mean_species, std_species, min_species, max_species))\n",
    "print(\"Mean number of cells per L: {:.2f}, Standard deviation: {:.2f}, Range: {}-{}\".format(mean_biomass, std_biomass, min_biomass, max_biomass))\n",
    "\n",
    "# Plot variation in taxonomic diversity, colored by station\n",
    "fig = px.scatter(plot_data2,\n",
    "        x = 'log_average_cells_L',\n",
    "        y = func_info,\n",
    "        color = 'month')\n",
    "\n",
    "# Update plot size, font, and font size\n",
    "fig.update_layout(\n",
    "        width=800,\n",
    "        height=600,\n",
    "        font=dict(\n",
    "            family='Times New Roman',\n",
    "            size=8\n",
    "        )\n",
    ")\n",
    "\n",
    "fig.update_xaxes(tickfont=dict(family='Times New Roman', size=8))\n",
    "fig.update_yaxes(tickfont=dict(family='Times New Roman', size=8))\n",
    "\n",
    "# Add a linear regression line\n",
    "fig.add_trace(go.Scatter(\n",
    "        x = plot_data2['log_average_cells_L'],\n",
    "        y = slope * plot_data2['log_average_cells_L'] + intercept,\n",
    "        mode = 'lines',\n",
    "        line = dict(\n",
    "                color = 'black',\n",
    "                width = 1\n",
    "        )\n",
    "))\n",
    "\n",
    "# Save the figure as an SVG file\n",
    "fig.write_image(\"../../figures/biodiversity_functional_diversity/KO_log_biomass.svg\", width=int(width_in_inches * 96), height=int(height_in_inches * 96), scale=1, format='svg')\n",
    "\n",
    "fig.show()\n"
   ]
  },
  {
   "cell_type": "code",
   "execution_count": 123,
   "metadata": {},
   "outputs": [
    {
     "name": "stdout",
     "output_type": "stream",
     "text": [
      "Linear regression results:\n",
      "Slope: -0.04, Intercept: 0.78, R-squared: 0.08, P-value: 0.0364, Standard error: 0.02\n",
      "\n",
      "Correlation coefficient: -0.28, P-value: 0.0364\n",
      "\n",
      "Descriptive statistics:\n",
      "Mean number of species: 0.68, Standard deviation: 0.12, Range: 0.37289003224308-0.854515773132449\n",
      "Mean number of cells per L: 2.28, Standard deviation: 0.79, Range: 0.9115183140055959-4.007314902193687\n"
     ]
    },
    {
     "data": {
      "application/vnd.plotly.v1+json": {
       "config": {
        "plotlyServerURL": "https://plot.ly"
       },
       "data": [
        {
         "hovertemplate": "month=January_2021<br>log_average_cells_L=%{x}<br>evenness=%{y}<extra></extra>",
         "legendgroup": "January_2021",
         "marker": {
          "color": "#636efa",
          "symbol": "circle"
         },
         "mode": "markers",
         "name": "January_2021",
         "orientation": "v",
         "showlegend": true,
         "type": "scatter",
         "x": [
          1.174836330452317,
          0.9115183140055959,
          2.580196024966958,
          1.5796034285661493,
          1.0809718382461917
         ],
         "xaxis": "x",
         "y": [
          0.805906219747483,
          0.648068547395671,
          0.706188560736375,
          0.73909178885434,
          0.7615288849151
         ],
         "yaxis": "y"
        },
        {
         "hovertemplate": "month=February_2021<br>log_average_cells_L=%{x}<br>evenness=%{y}<extra></extra>",
         "legendgroup": "February_2021",
         "marker": {
          "color": "#EF553B",
          "symbol": "circle"
         },
         "mode": "markers",
         "name": "February_2021",
         "orientation": "v",
         "showlegend": true,
         "type": "scatter",
         "x": [
          1.5577348839657272,
          1.9431924286568558,
          1.6085124048062824,
          1.5850136900512237,
          1.2109501831604703
         ],
         "xaxis": "x",
         "y": [
          0.788513820017372,
          0.794526595779621,
          0.782696984639692,
          0.636063257827806,
          0.753821216685684
         ],
         "yaxis": "y"
        },
        {
         "hovertemplate": "month=April_2021<br>log_average_cells_L=%{x}<br>evenness=%{y}<extra></extra>",
         "legendgroup": "April_2021",
         "marker": {
          "color": "#00cc96",
          "symbol": "circle"
         },
         "mode": "markers",
         "name": "April_2021",
         "orientation": "v",
         "showlegend": true,
         "type": "scatter",
         "x": [
          2.7882360034853524,
          2.9513210738544724,
          2.5169188853352673,
          2.1217764450441026
         ],
         "xaxis": "x",
         "y": [
          0.765979883018221,
          0.481577786089378,
          0.530793209727871,
          0.555966427888927
         ],
         "yaxis": "y"
        },
        {
         "hovertemplate": "month=May_2021<br>log_average_cells_L=%{x}<br>evenness=%{y}<extra></extra>",
         "legendgroup": "May_2021",
         "marker": {
          "color": "#ab63fa",
          "symbol": "circle"
         },
         "mode": "markers",
         "name": "May_2021",
         "orientation": "v",
         "showlegend": true,
         "type": "scatter",
         "x": [
          2.078845962570573,
          3.849009138691678,
          1.4920200327181328,
          1.7563675273112132,
          2.176161258322422,
          1.1284694054306312
         ],
         "xaxis": "x",
         "y": [
          0.493422126956604,
          0.577128488447847,
          0.666107565649637,
          0.516123863185995,
          0.602718956809309,
          0.65124366548249
         ],
         "yaxis": "y"
        },
        {
         "hovertemplate": "month=June_2021<br>log_average_cells_L=%{x}<br>evenness=%{y}<extra></extra>",
         "legendgroup": "June_2021",
         "marker": {
          "color": "#FFA15A",
          "symbol": "circle"
         },
         "mode": "markers",
         "name": "June_2021",
         "orientation": "v",
         "showlegend": true,
         "type": "scatter",
         "x": [
          2.751386567416642,
          2.030436398258448,
          3.203994021498374,
          2.1836231879792014,
          2.6306380496196513,
          3.313045641380588
         ],
         "xaxis": "x",
         "y": [
          0.724951610953183,
          0.486107636795579,
          0.748767360365367,
          0.78462886576163,
          0.770556367885817,
          0.713280346947471
         ],
         "yaxis": "y"
        },
        {
         "hovertemplate": "month=July_2021<br>log_average_cells_L=%{x}<br>evenness=%{y}<extra></extra>",
         "legendgroup": "July_2021",
         "marker": {
          "color": "#19d3f3",
          "symbol": "circle"
         },
         "mode": "markers",
         "name": "July_2021",
         "orientation": "v",
         "showlegend": true,
         "type": "scatter",
         "x": [
          2.8994573076953394,
          3.215496740715364,
          2.7379802919263905,
          3.863601064011999,
          4.007314902193687
         ],
         "xaxis": "x",
         "y": [
          0.724928124811752,
          0.526020071996105,
          0.757290616528965,
          0.485918594311824,
          0.755589827915849
         ],
         "yaxis": "y"
        },
        {
         "hovertemplate": "month=July_2020<br>log_average_cells_L=%{x}<br>evenness=%{y}<extra></extra>",
         "legendgroup": "July_2020",
         "marker": {
          "color": "#FF6692",
          "symbol": "circle"
         },
         "mode": "markers",
         "name": "July_2020",
         "orientation": "v",
         "showlegend": true,
         "type": "scatter",
         "x": [
          3.858878996879423,
          3.374332845713055,
          2.5589199805856886,
          3.706473740210198
         ],
         "xaxis": "x",
         "y": [
          0.710326724584563,
          0.540305525912682,
          0.37289003224308,
          0.704808829435555
         ],
         "yaxis": "y"
        },
        {
         "hovertemplate": "month=August_2020<br>log_average_cells_L=%{x}<br>evenness=%{y}<extra></extra>",
         "legendgroup": "August_2020",
         "marker": {
          "color": "#B6E880",
          "symbol": "circle"
         },
         "mode": "markers",
         "name": "August_2020",
         "orientation": "v",
         "showlegend": true,
         "type": "scatter",
         "x": [
          2.4461581414202898,
          2.9832155843802495,
          2.399457779893738,
          2.5651057063652316,
          2.100702058842648,
          3.2290193318511395
         ],
         "xaxis": "x",
         "y": [
          0.693355975930203,
          0.516522025923176,
          0.629452597609619,
          0.543894865724069,
          0.570207759377477,
          0.664481456727107
         ],
         "yaxis": "y"
        },
        {
         "hovertemplate": "month=September_2020<br>log_average_cells_L=%{x}<br>evenness=%{y}<extra></extra>",
         "legendgroup": "September_2020",
         "marker": {
          "color": "#FF97FF",
          "symbol": "circle"
         },
         "mode": "markers",
         "name": "September_2020",
         "orientation": "v",
         "showlegend": true,
         "type": "scatter",
         "x": [
          2.49069214242573,
          2.4973384412531034,
          2.5327542783013204,
          2.334559269453337,
          1.977343611905351,
          1.8594887969604217
         ],
         "xaxis": "x",
         "y": [
          0.818639091605697,
          0.72885820990013,
          0.786502237882651,
          0.743956436761435,
          0.762580812197596,
          0.689465051389417
         ],
         "yaxis": "y"
        },
        {
         "hovertemplate": "month=November_2020<br>log_average_cells_L=%{x}<br>evenness=%{y}<extra></extra>",
         "legendgroup": "November_2020",
         "marker": {
          "color": "#FECB52",
          "symbol": "circle"
         },
         "mode": "markers",
         "name": "November_2020",
         "orientation": "v",
         "showlegend": true,
         "type": "scatter",
         "x": [
          1.312052030053176,
          1.7425150277758712,
          1.176791037973801,
          1.9115754219168528
         ],
         "xaxis": "x",
         "y": [
          0.506730527589014,
          0.821369174881004,
          0.773721148513612,
          0.716312834604845
         ],
         "yaxis": "y"
        },
        {
         "hovertemplate": "month=December_2020<br>log_average_cells_L=%{x}<br>evenness=%{y}<extra></extra>",
         "legendgroup": "December_2020",
         "marker": {
          "color": "#636efa",
          "symbol": "circle"
         },
         "mode": "markers",
         "name": "December_2020",
         "orientation": "v",
         "showlegend": true,
         "type": "scatter",
         "x": [
          1.7063320283311194,
          1.7316655032918298,
          1.538115410431398,
          2.260712787501914,
          1.3522163000845364,
          1.5357351107837405
         ],
         "xaxis": "x",
         "y": [
          0.833638743436374,
          0.789028948203567,
          0.854515773132449,
          0.713156688350771,
          0.852375733243072,
          0.817975547520871
         ],
         "yaxis": "y"
        },
        {
         "line": {
          "color": "black",
          "width": 1
         },
         "mode": "lines",
         "type": "scatter",
         "x": [
          1.174836330452317,
          0.9115183140055959,
          2.580196024966958,
          1.5796034285661493,
          1.0809718382461917,
          1.5577348839657272,
          1.9431924286568558,
          1.6085124048062824,
          1.5850136900512237,
          1.2109501831604703,
          2.7882360034853524,
          2.9513210738544724,
          2.5169188853352673,
          2.1217764450441026,
          2.078845962570573,
          3.849009138691678,
          1.4920200327181328,
          1.7563675273112132,
          2.176161258322422,
          1.1284694054306312,
          2.751386567416642,
          2.030436398258448,
          3.203994021498374,
          2.1836231879792014,
          2.6306380496196513,
          3.313045641380588,
          2.8994573076953394,
          3.215496740715364,
          2.7379802919263905,
          3.863601064011999,
          4.007314902193687,
          3.858878996879423,
          3.374332845713055,
          2.5589199805856886,
          3.706473740210198,
          2.4461581414202898,
          2.9832155843802495,
          2.399457779893738,
          2.5651057063652316,
          2.100702058842648,
          3.2290193318511395,
          2.49069214242573,
          2.4973384412531034,
          2.5327542783013204,
          2.334559269453337,
          1.977343611905351,
          1.8594887969604217,
          1.312052030053176,
          1.7425150277758712,
          1.176791037973801,
          1.9115754219168528,
          1.7063320283311194,
          1.7316655032918298,
          1.538115410431398,
          2.260712787501914,
          1.3522163000845364,
          1.5357351107837405
         ],
         "y": [
          0.7275154050878949,
          0.738264941722165,
          0.6701438445529613,
          0.7109914360551789,
          0.7313472727710963,
          0.7118841843923136,
          0.6961484969770491,
          0.7098112733631383,
          0.7107705707880787,
          0.7260411148439933,
          0.6616509453558085,
          0.654993258342622,
          0.6727270325161758,
          0.6888580902955974,
          0.6906106585410348,
          0.6183465796636224,
          0.7145668880311835,
          0.7037753245990597,
          0.6866379173253915,
          0.7294082606010304,
          0.6631552646132527,
          0.6925869015343719,
          0.64467828960695,
          0.6863332959884609,
          0.6680846296187618,
          0.6402264317402948,
          0.6571105135986125,
          0.6442087095026893,
          0.6637025543561128,
          0.6177508876638421,
          0.6118840002049728,
          0.6179436584978173,
          0.6377244797011826,
          0.6710124050168257,
          0.6241653592075849,
          0.6756157266482621,
          0.6536912159911131,
          0.6775221941731111,
          0.6707598826608775,
          0.6897184183869839,
          0.6436566713597403,
          0.6737976973248662,
          0.6735263728112941,
          0.6720805779396767,
          0.6801715720049155,
          0.694754329572983,
          0.6995655637903422,
          0.7219137937376329,
          0.7043408307244694,
          0.7274356072814439,
          0.6974392106805924,
          0.7058179437732373,
          0.7047837451990633,
          0.7126851180023578,
          0.6831862364542408,
          0.7202741516883842,
          0.7127822899262858
         ]
        }
       ],
       "layout": {
        "font": {
         "family": "Times New Roman",
         "size": 8
        },
        "height": 600,
        "legend": {
         "title": {
          "text": "month"
         },
         "tracegroupgap": 0
        },
        "margin": {
         "t": 60
        },
        "template": {
         "data": {
          "bar": [
           {
            "error_x": {
             "color": "#2a3f5f"
            },
            "error_y": {
             "color": "#2a3f5f"
            },
            "marker": {
             "line": {
              "color": "#E5ECF6",
              "width": 0.5
             },
             "pattern": {
              "fillmode": "overlay",
              "size": 10,
              "solidity": 0.2
             }
            },
            "type": "bar"
           }
          ],
          "barpolar": [
           {
            "marker": {
             "line": {
              "color": "#E5ECF6",
              "width": 0.5
             },
             "pattern": {
              "fillmode": "overlay",
              "size": 10,
              "solidity": 0.2
             }
            },
            "type": "barpolar"
           }
          ],
          "carpet": [
           {
            "aaxis": {
             "endlinecolor": "#2a3f5f",
             "gridcolor": "white",
             "linecolor": "white",
             "minorgridcolor": "white",
             "startlinecolor": "#2a3f5f"
            },
            "baxis": {
             "endlinecolor": "#2a3f5f",
             "gridcolor": "white",
             "linecolor": "white",
             "minorgridcolor": "white",
             "startlinecolor": "#2a3f5f"
            },
            "type": "carpet"
           }
          ],
          "choropleth": [
           {
            "colorbar": {
             "outlinewidth": 0,
             "ticks": ""
            },
            "type": "choropleth"
           }
          ],
          "contour": [
           {
            "colorbar": {
             "outlinewidth": 0,
             "ticks": ""
            },
            "colorscale": [
             [
              0,
              "#0d0887"
             ],
             [
              0.1111111111111111,
              "#46039f"
             ],
             [
              0.2222222222222222,
              "#7201a8"
             ],
             [
              0.3333333333333333,
              "#9c179e"
             ],
             [
              0.4444444444444444,
              "#bd3786"
             ],
             [
              0.5555555555555556,
              "#d8576b"
             ],
             [
              0.6666666666666666,
              "#ed7953"
             ],
             [
              0.7777777777777778,
              "#fb9f3a"
             ],
             [
              0.8888888888888888,
              "#fdca26"
             ],
             [
              1,
              "#f0f921"
             ]
            ],
            "type": "contour"
           }
          ],
          "contourcarpet": [
           {
            "colorbar": {
             "outlinewidth": 0,
             "ticks": ""
            },
            "type": "contourcarpet"
           }
          ],
          "heatmap": [
           {
            "colorbar": {
             "outlinewidth": 0,
             "ticks": ""
            },
            "colorscale": [
             [
              0,
              "#0d0887"
             ],
             [
              0.1111111111111111,
              "#46039f"
             ],
             [
              0.2222222222222222,
              "#7201a8"
             ],
             [
              0.3333333333333333,
              "#9c179e"
             ],
             [
              0.4444444444444444,
              "#bd3786"
             ],
             [
              0.5555555555555556,
              "#d8576b"
             ],
             [
              0.6666666666666666,
              "#ed7953"
             ],
             [
              0.7777777777777778,
              "#fb9f3a"
             ],
             [
              0.8888888888888888,
              "#fdca26"
             ],
             [
              1,
              "#f0f921"
             ]
            ],
            "type": "heatmap"
           }
          ],
          "heatmapgl": [
           {
            "colorbar": {
             "outlinewidth": 0,
             "ticks": ""
            },
            "colorscale": [
             [
              0,
              "#0d0887"
             ],
             [
              0.1111111111111111,
              "#46039f"
             ],
             [
              0.2222222222222222,
              "#7201a8"
             ],
             [
              0.3333333333333333,
              "#9c179e"
             ],
             [
              0.4444444444444444,
              "#bd3786"
             ],
             [
              0.5555555555555556,
              "#d8576b"
             ],
             [
              0.6666666666666666,
              "#ed7953"
             ],
             [
              0.7777777777777778,
              "#fb9f3a"
             ],
             [
              0.8888888888888888,
              "#fdca26"
             ],
             [
              1,
              "#f0f921"
             ]
            ],
            "type": "heatmapgl"
           }
          ],
          "histogram": [
           {
            "marker": {
             "pattern": {
              "fillmode": "overlay",
              "size": 10,
              "solidity": 0.2
             }
            },
            "type": "histogram"
           }
          ],
          "histogram2d": [
           {
            "colorbar": {
             "outlinewidth": 0,
             "ticks": ""
            },
            "colorscale": [
             [
              0,
              "#0d0887"
             ],
             [
              0.1111111111111111,
              "#46039f"
             ],
             [
              0.2222222222222222,
              "#7201a8"
             ],
             [
              0.3333333333333333,
              "#9c179e"
             ],
             [
              0.4444444444444444,
              "#bd3786"
             ],
             [
              0.5555555555555556,
              "#d8576b"
             ],
             [
              0.6666666666666666,
              "#ed7953"
             ],
             [
              0.7777777777777778,
              "#fb9f3a"
             ],
             [
              0.8888888888888888,
              "#fdca26"
             ],
             [
              1,
              "#f0f921"
             ]
            ],
            "type": "histogram2d"
           }
          ],
          "histogram2dcontour": [
           {
            "colorbar": {
             "outlinewidth": 0,
             "ticks": ""
            },
            "colorscale": [
             [
              0,
              "#0d0887"
             ],
             [
              0.1111111111111111,
              "#46039f"
             ],
             [
              0.2222222222222222,
              "#7201a8"
             ],
             [
              0.3333333333333333,
              "#9c179e"
             ],
             [
              0.4444444444444444,
              "#bd3786"
             ],
             [
              0.5555555555555556,
              "#d8576b"
             ],
             [
              0.6666666666666666,
              "#ed7953"
             ],
             [
              0.7777777777777778,
              "#fb9f3a"
             ],
             [
              0.8888888888888888,
              "#fdca26"
             ],
             [
              1,
              "#f0f921"
             ]
            ],
            "type": "histogram2dcontour"
           }
          ],
          "mesh3d": [
           {
            "colorbar": {
             "outlinewidth": 0,
             "ticks": ""
            },
            "type": "mesh3d"
           }
          ],
          "parcoords": [
           {
            "line": {
             "colorbar": {
              "outlinewidth": 0,
              "ticks": ""
             }
            },
            "type": "parcoords"
           }
          ],
          "pie": [
           {
            "automargin": true,
            "type": "pie"
           }
          ],
          "scatter": [
           {
            "marker": {
             "colorbar": {
              "outlinewidth": 0,
              "ticks": ""
             }
            },
            "type": "scatter"
           }
          ],
          "scatter3d": [
           {
            "line": {
             "colorbar": {
              "outlinewidth": 0,
              "ticks": ""
             }
            },
            "marker": {
             "colorbar": {
              "outlinewidth": 0,
              "ticks": ""
             }
            },
            "type": "scatter3d"
           }
          ],
          "scattercarpet": [
           {
            "marker": {
             "colorbar": {
              "outlinewidth": 0,
              "ticks": ""
             }
            },
            "type": "scattercarpet"
           }
          ],
          "scattergeo": [
           {
            "marker": {
             "colorbar": {
              "outlinewidth": 0,
              "ticks": ""
             }
            },
            "type": "scattergeo"
           }
          ],
          "scattergl": [
           {
            "marker": {
             "colorbar": {
              "outlinewidth": 0,
              "ticks": ""
             }
            },
            "type": "scattergl"
           }
          ],
          "scattermapbox": [
           {
            "marker": {
             "colorbar": {
              "outlinewidth": 0,
              "ticks": ""
             }
            },
            "type": "scattermapbox"
           }
          ],
          "scatterpolar": [
           {
            "marker": {
             "colorbar": {
              "outlinewidth": 0,
              "ticks": ""
             }
            },
            "type": "scatterpolar"
           }
          ],
          "scatterpolargl": [
           {
            "marker": {
             "colorbar": {
              "outlinewidth": 0,
              "ticks": ""
             }
            },
            "type": "scatterpolargl"
           }
          ],
          "scatterternary": [
           {
            "marker": {
             "colorbar": {
              "outlinewidth": 0,
              "ticks": ""
             }
            },
            "type": "scatterternary"
           }
          ],
          "surface": [
           {
            "colorbar": {
             "outlinewidth": 0,
             "ticks": ""
            },
            "colorscale": [
             [
              0,
              "#0d0887"
             ],
             [
              0.1111111111111111,
              "#46039f"
             ],
             [
              0.2222222222222222,
              "#7201a8"
             ],
             [
              0.3333333333333333,
              "#9c179e"
             ],
             [
              0.4444444444444444,
              "#bd3786"
             ],
             [
              0.5555555555555556,
              "#d8576b"
             ],
             [
              0.6666666666666666,
              "#ed7953"
             ],
             [
              0.7777777777777778,
              "#fb9f3a"
             ],
             [
              0.8888888888888888,
              "#fdca26"
             ],
             [
              1,
              "#f0f921"
             ]
            ],
            "type": "surface"
           }
          ],
          "table": [
           {
            "cells": {
             "fill": {
              "color": "#EBF0F8"
             },
             "line": {
              "color": "white"
             }
            },
            "header": {
             "fill": {
              "color": "#C8D4E3"
             },
             "line": {
              "color": "white"
             }
            },
            "type": "table"
           }
          ]
         },
         "layout": {
          "annotationdefaults": {
           "arrowcolor": "#2a3f5f",
           "arrowhead": 0,
           "arrowwidth": 1
          },
          "autotypenumbers": "strict",
          "coloraxis": {
           "colorbar": {
            "outlinewidth": 0,
            "ticks": ""
           }
          },
          "colorscale": {
           "diverging": [
            [
             0,
             "#8e0152"
            ],
            [
             0.1,
             "#c51b7d"
            ],
            [
             0.2,
             "#de77ae"
            ],
            [
             0.3,
             "#f1b6da"
            ],
            [
             0.4,
             "#fde0ef"
            ],
            [
             0.5,
             "#f7f7f7"
            ],
            [
             0.6,
             "#e6f5d0"
            ],
            [
             0.7,
             "#b8e186"
            ],
            [
             0.8,
             "#7fbc41"
            ],
            [
             0.9,
             "#4d9221"
            ],
            [
             1,
             "#276419"
            ]
           ],
           "sequential": [
            [
             0,
             "#0d0887"
            ],
            [
             0.1111111111111111,
             "#46039f"
            ],
            [
             0.2222222222222222,
             "#7201a8"
            ],
            [
             0.3333333333333333,
             "#9c179e"
            ],
            [
             0.4444444444444444,
             "#bd3786"
            ],
            [
             0.5555555555555556,
             "#d8576b"
            ],
            [
             0.6666666666666666,
             "#ed7953"
            ],
            [
             0.7777777777777778,
             "#fb9f3a"
            ],
            [
             0.8888888888888888,
             "#fdca26"
            ],
            [
             1,
             "#f0f921"
            ]
           ],
           "sequentialminus": [
            [
             0,
             "#0d0887"
            ],
            [
             0.1111111111111111,
             "#46039f"
            ],
            [
             0.2222222222222222,
             "#7201a8"
            ],
            [
             0.3333333333333333,
             "#9c179e"
            ],
            [
             0.4444444444444444,
             "#bd3786"
            ],
            [
             0.5555555555555556,
             "#d8576b"
            ],
            [
             0.6666666666666666,
             "#ed7953"
            ],
            [
             0.7777777777777778,
             "#fb9f3a"
            ],
            [
             0.8888888888888888,
             "#fdca26"
            ],
            [
             1,
             "#f0f921"
            ]
           ]
          },
          "colorway": [
           "#636efa",
           "#EF553B",
           "#00cc96",
           "#ab63fa",
           "#FFA15A",
           "#19d3f3",
           "#FF6692",
           "#B6E880",
           "#FF97FF",
           "#FECB52"
          ],
          "font": {
           "color": "#2a3f5f"
          },
          "geo": {
           "bgcolor": "white",
           "lakecolor": "white",
           "landcolor": "#E5ECF6",
           "showlakes": true,
           "showland": true,
           "subunitcolor": "white"
          },
          "hoverlabel": {
           "align": "left"
          },
          "hovermode": "closest",
          "mapbox": {
           "style": "light"
          },
          "paper_bgcolor": "white",
          "plot_bgcolor": "#E5ECF6",
          "polar": {
           "angularaxis": {
            "gridcolor": "white",
            "linecolor": "white",
            "ticks": ""
           },
           "bgcolor": "#E5ECF6",
           "radialaxis": {
            "gridcolor": "white",
            "linecolor": "white",
            "ticks": ""
           }
          },
          "scene": {
           "xaxis": {
            "backgroundcolor": "#E5ECF6",
            "gridcolor": "white",
            "gridwidth": 2,
            "linecolor": "white",
            "showbackground": true,
            "ticks": "",
            "zerolinecolor": "white"
           },
           "yaxis": {
            "backgroundcolor": "#E5ECF6",
            "gridcolor": "white",
            "gridwidth": 2,
            "linecolor": "white",
            "showbackground": true,
            "ticks": "",
            "zerolinecolor": "white"
           },
           "zaxis": {
            "backgroundcolor": "#E5ECF6",
            "gridcolor": "white",
            "gridwidth": 2,
            "linecolor": "white",
            "showbackground": true,
            "ticks": "",
            "zerolinecolor": "white"
           }
          },
          "shapedefaults": {
           "line": {
            "color": "#2a3f5f"
           }
          },
          "ternary": {
           "aaxis": {
            "gridcolor": "white",
            "linecolor": "white",
            "ticks": ""
           },
           "baxis": {
            "gridcolor": "white",
            "linecolor": "white",
            "ticks": ""
           },
           "bgcolor": "#E5ECF6",
           "caxis": {
            "gridcolor": "white",
            "linecolor": "white",
            "ticks": ""
           }
          },
          "title": {
           "x": 0.05
          },
          "xaxis": {
           "automargin": true,
           "gridcolor": "white",
           "linecolor": "white",
           "ticks": "",
           "title": {
            "standoff": 15
           },
           "zerolinecolor": "white",
           "zerolinewidth": 2
          },
          "yaxis": {
           "automargin": true,
           "gridcolor": "white",
           "linecolor": "white",
           "ticks": "",
           "title": {
            "standoff": 15
           },
           "zerolinecolor": "white",
           "zerolinewidth": 2
          }
         }
        },
        "width": 800,
        "xaxis": {
         "anchor": "y",
         "domain": [
          0,
          1
         ],
         "tickfont": {
          "family": "Times New Roman",
          "size": 8
         },
         "title": {
          "text": "log_average_cells_L"
         }
        },
        "yaxis": {
         "anchor": "x",
         "domain": [
          0,
          1
         ],
         "tickfont": {
          "family": "Times New Roman",
          "size": 8
         },
         "title": {
          "text": "evenness"
         }
        }
       }
      }
     },
     "metadata": {},
     "output_type": "display_data"
    }
   ],
   "source": [
    "# Statistical tests\n",
    "# calculate the linear regression\n",
    "slope, intercept, r_value, p_value, std_err = stats.linregress(plot_data2['log_average_cells_L'], plot_data2['evenness'])\n",
    "\n",
    "# calculate the correlation coefficient and its p-value\n",
    "corr_coeff, p_value_corr = stats.pearsonr(plot_data2['log_average_cells_L'], plot_data2['evenness'])\n",
    "\n",
    "# calculate descriptive statistics\n",
    "mean_species = np.mean(plot_data2['evenness'])\n",
    "mean_biomass = np.mean(plot_data2['log_average_cells_L'])\n",
    "std_species = np.std(plot_data2['evenness'])\n",
    "std_biomass = np.std(plot_data2['log_average_cells_L'])\n",
    "min_species = np.min(plot_data2['evenness'])\n",
    "min_biomass = np.min(plot_data2['log_average_cells_L'])\n",
    "max_species = np.max(plot_data2['evenness'])\n",
    "max_biomass = np.max(plot_data2['log_average_cells_L'])\n",
    "\n",
    "# print the results\n",
    "print(\"Linear regression results:\")\n",
    "print(\"Slope: {:.2f}, Intercept: {:.2f}, R-squared: {:.2f}, P-value: {:.4f}, Standard error: {:.2f}\".format(slope, intercept, r_value**2, p_value, std_err))\n",
    "print(\"\\nCorrelation coefficient: {:.2f}, P-value: {:.4f}\".format(corr_coeff, p_value_corr))\n",
    "print(\"\\nDescriptive statistics:\")\n",
    "print(\"Mean number of species: {:.2f}, Standard deviation: {:.2f}, Range: {}-{}\".format(mean_species, std_species, min_species, max_species))\n",
    "print(\"Mean number of cells per L: {:.2f}, Standard deviation: {:.2f}, Range: {}-{}\".format(mean_biomass, std_biomass, min_biomass, max_biomass))\n",
    "\n",
    "# Plot variation in taxonomic diversity, colored by station\n",
    "fig = px.scatter(plot_data2,\n",
    "        x = 'log_average_cells_L',\n",
    "        y = 'evenness',\n",
    "        color = 'month')\n",
    "\n",
    "# Update plot size, font, and font size\n",
    "fig.update_layout(\n",
    "        width=800,\n",
    "        height=600,\n",
    "        font=dict(\n",
    "            family='Times New Roman',\n",
    "            size=8\n",
    "        )\n",
    ")\n",
    "\n",
    "# Add a linear regression line\n",
    "fig.add_trace(go.Scatter(\n",
    "        x = plot_data2['log_average_cells_L'],\n",
    "        y = slope * plot_data2['log_average_cells_L'] + intercept,\n",
    "        mode = 'lines',\n",
    "        line = dict(\n",
    "                color = 'black',\n",
    "                width = 1\n",
    "        )\n",
    "))\n",
    "\n",
    "fig.update_xaxes(tickfont=dict(family='Times New Roman', size=8))\n",
    "fig.update_yaxes(tickfont=dict(family='Times New Roman', size=8))\n",
    "\n",
    "# Save the figure as an SVG file\n",
    "fig.write_image(\"../../figures/biodiversity_functional_diversity/biomass_evenness.svg\", width=int(width_in_inches * 96), height=int(height_in_inches * 96), scale=1, format='svg')\n",
    "\n",
    "fig.show()\n"
   ]
  }
 ],
 "metadata": {
  "kernelspec": {
   "display_name": "Python 3",
   "language": "python",
   "name": "python3"
  },
  "language_info": {
   "codemirror_mode": {
    "name": "ipython",
    "version": 3
   },
   "file_extension": ".py",
   "mimetype": "text/x-python",
   "name": "python",
   "nbconvert_exporter": "python",
   "pygments_lexer": "ipython3",
   "version": "3.9.12"
  },
  "orig_nbformat": 4,
  "vscode": {
   "interpreter": {
    "hash": "b0fa6594d8f4cbf19f97940f81e996739fb7646882a419484c72d19e05852a7e"
   }
  }
 },
 "nbformat": 4,
 "nbformat_minor": 2
}
