{
 "cells": [
  {
   "cell_type": "markdown",
   "metadata": {},
   "source": [
    "# Read normalisation using ERCC RNA Spike-In Mix"
   ]
  },
  {
   "cell_type": "code",
   "execution_count": 2,
   "metadata": {},
   "outputs": [],
   "source": [
    "import pandas as pd\n",
    "from scipy import constants\n",
    "import numpy as np\n",
    "import seaborn as sns\n",
    "import matplotlib.pyplot as plt\n",
    "from sklearn import preprocessing, svm\n",
    "from sklearn.model_selection import train_test_split\n",
    "from sklearn.linear_model import LinearRegression"
   ]
  },
  {
   "cell_type": "markdown",
   "metadata": {},
   "source": [
    "In this notebook we try and implement transcript quantification using the added mRNA standards.\n",
    "We will use a modified version of the read normalisation protocol described in [this paper](https://www.frontiersin.org/articles/10.3389/fmars.2022.867007/full). \n",
    "\n",
    "We'll use this normalisation approach:\n",
    "\n",
    "$$Copies_i\\:L^{-1} = reads_{i,j} *\\frac{spike\\:copies_{j}}{spike\\:reads_{j}} * \\frac{1}{volume\\:filtered_{j} * \\frac{mL\\:used\\:for\\:RNA\\:extraction_{j}}{elution\\:volume_{j}}}$$\n",
    "\n",
    "- Reads<sub>i,j</sub> =  TPM counts for read i in sample j. These already account for transcript length bias.\n",
    "- Spike copies<sub>j</sub> = The number of ERCC copies that were added to sample j\n",
    "- Spike reads<sub>j</sub> = The number of TPM read counts associated with the mRNA standards\n",
    "- Volume filtered<sub>j</sub> = The total L of seawater filtered for sample j\n",
    "- mL used for RNA extraction<sub>j</sub> = The amount of eluate used for RNA extraction. This is variable due to variations in biomass to keep the extraction protocol as optimal as possible.\n",
    "- Elution volume<sub>j</sub> = The residue on the inox sieve after the seawater filtration is re-eluted to be flash frozen. The re-elution volume also varied with variations in biomass.\n",
    "\n",
    "We will calculate normalised reads using a step-by-step approach. First, we'll calculate the ERCC normalisation factor. Then, we will calculate the dilution factor. Last, we will transform the salmon TPM reads accordingly and generate normalised reads per L of seawater.\n"
   ]
  },
  {
   "cell_type": "markdown",
   "metadata": {},
   "source": [
    "*Note* Can you really do the last bit, where you multiply the 1 / volume filtered ratio with the mL used for RNA extration divided by elution volume? Because this will scale for the amount of biomassa sampled, but in the library preparation we always departed from 100 ng of RNA extracted. So this factor will only influence how many cells had their RNA extracted. \n",
    "\n",
    "Another point of view is however that the amount of the elution of cells used for RNA extraction skews the amount of volume that was filtered in the first place.\n",
    "Brood a bit on this!"
   ]
  },
  {
   "cell_type": "markdown",
   "metadata": {},
   "source": [
    "## Data preparation & Regression"
   ]
  },
  {
   "cell_type": "code",
   "execution_count": 3,
   "metadata": {},
   "outputs": [],
   "source": [
    "# Read in the data\n",
    "counts_ERCC = pd.read_csv('../../data/ERCC92/kallisto/tpm.csv',index_col = 0)\n",
    "lab_info = pd.read_csv('../../data/ERCC92/sampling_RNA_Spike_LibPrep.csv', decimal=',', sep=';', encoding='unicode_escape')\n",
    "meta_ERCC = pd.read_table('../../data/ERCC92/ERCC_Controls_Analysis.txt')"
   ]
  },
  {
   "cell_type": "code",
   "execution_count": 4,
   "metadata": {},
   "outputs": [
    {
     "data": {
      "text/html": [
       "<div><div id=64c71f2b-a745-4965-8da0-44a1966dc7cd style=\"display:none; background-color:#9D6CFF; color:white; width:200px; height:30px; padding-left:5px; border-radius:4px; flex-direction:row; justify-content:space-around; align-items:center;\" onmouseover=\"this.style.backgroundColor='#BA9BF8'\" onmouseout=\"this.style.backgroundColor='#9D6CFF'\" onclick=\"window.commands?.execute('create-mitosheet-from-dataframe-output');\">See Full Dataframe in Mito</div> <script> if (window.commands?.hasCommand('create-mitosheet-from-dataframe-output')) document.getElementById('64c71f2b-a745-4965-8da0-44a1966dc7cd').style.display = 'flex' </script> <table border=\"1\" class=\"dataframe\">\n",
       "  <thead>\n",
       "    <tr style=\"text-align: right;\">\n",
       "      <th></th>\n",
       "      <th>B_120_S11</th>\n",
       "      <th>5_120_S50</th>\n",
       "      <th>A_780_S3</th>\n",
       "      <th>5_130_S45</th>\n",
       "      <th>C_ZG02_S17</th>\n",
       "      <th>C_780_S15</th>\n",
       "      <th>2_700_S37</th>\n",
       "      <th>4_120_S44</th>\n",
       "      <th>2_120_S40</th>\n",
       "      <th>E_330_S22</th>\n",
       "      <th>...</th>\n",
       "      <th>C_130_S13</th>\n",
       "      <th>A_120_S5</th>\n",
       "      <th>A_700_S4</th>\n",
       "      <th>B_330_S8</th>\n",
       "      <th>F_700_S26</th>\n",
       "      <th>E_ZG02_S24</th>\n",
       "      <th>7_130_S57</th>\n",
       "      <th>E_130_S19</th>\n",
       "      <th>1_ZG02_S35</th>\n",
       "      <th>B_780_S9</th>\n",
       "    </tr>\n",
       "    <tr>\n",
       "      <th>target_id</th>\n",
       "      <th></th>\n",
       "      <th></th>\n",
       "      <th></th>\n",
       "      <th></th>\n",
       "      <th></th>\n",
       "      <th></th>\n",
       "      <th></th>\n",
       "      <th></th>\n",
       "      <th></th>\n",
       "      <th></th>\n",
       "      <th></th>\n",
       "      <th></th>\n",
       "      <th></th>\n",
       "      <th></th>\n",
       "      <th></th>\n",
       "      <th></th>\n",
       "      <th></th>\n",
       "      <th></th>\n",
       "      <th></th>\n",
       "      <th></th>\n",
       "      <th></th>\n",
       "    </tr>\n",
       "  </thead>\n",
       "  <tbody>\n",
       "    <tr>\n",
       "      <th>ERCC-00002</th>\n",
       "      <td>118593.00</td>\n",
       "      <td>129855.00000</td>\n",
       "      <td>121554.0000</td>\n",
       "      <td>143208.00000</td>\n",
       "      <td>115668.00</td>\n",
       "      <td>116555.00</td>\n",
       "      <td>126790.00000</td>\n",
       "      <td>140772.00</td>\n",
       "      <td>129542.00000</td>\n",
       "      <td>120865.00000</td>\n",
       "      <td>...</td>\n",
       "      <td>113458.00</td>\n",
       "      <td>119650.00000</td>\n",
       "      <td>124320.00000</td>\n",
       "      <td>115169.000000</td>\n",
       "      <td>112534.00</td>\n",
       "      <td>118516.000000</td>\n",
       "      <td>120550.00000</td>\n",
       "      <td>112204.00000</td>\n",
       "      <td>142328.00000</td>\n",
       "      <td>114203.0000</td>\n",
       "    </tr>\n",
       "    <tr>\n",
       "      <th>ERCC-00003</th>\n",
       "      <td>8998.19</td>\n",
       "      <td>7776.39000</td>\n",
       "      <td>9291.4600</td>\n",
       "      <td>7243.76000</td>\n",
       "      <td>9181.86</td>\n",
       "      <td>9987.66</td>\n",
       "      <td>8351.46000</td>\n",
       "      <td>7919.04</td>\n",
       "      <td>8769.32000</td>\n",
       "      <td>9108.57000</td>\n",
       "      <td>...</td>\n",
       "      <td>10195.90</td>\n",
       "      <td>9343.01000</td>\n",
       "      <td>9215.03000</td>\n",
       "      <td>10246.000000</td>\n",
       "      <td>10638.90</td>\n",
       "      <td>9212.110000</td>\n",
       "      <td>8430.52000</td>\n",
       "      <td>9676.65000</td>\n",
       "      <td>7273.28000</td>\n",
       "      <td>10377.6000</td>\n",
       "    </tr>\n",
       "    <tr>\n",
       "      <th>ERCC-00004</th>\n",
       "      <td>90430.60</td>\n",
       "      <td>71125.30000</td>\n",
       "      <td>88518.1000</td>\n",
       "      <td>65978.00000</td>\n",
       "      <td>89829.20</td>\n",
       "      <td>94661.70</td>\n",
       "      <td>75792.00000</td>\n",
       "      <td>68858.10</td>\n",
       "      <td>76367.50000</td>\n",
       "      <td>86011.60000</td>\n",
       "      <td>...</td>\n",
       "      <td>97226.20</td>\n",
       "      <td>91008.00000</td>\n",
       "      <td>88621.30000</td>\n",
       "      <td>101045.000000</td>\n",
       "      <td>103595.00</td>\n",
       "      <td>90609.900000</td>\n",
       "      <td>85489.40000</td>\n",
       "      <td>91873.30000</td>\n",
       "      <td>66283.30000</td>\n",
       "      <td>102716.0000</td>\n",
       "    </tr>\n",
       "    <tr>\n",
       "      <th>ERCC-00009</th>\n",
       "      <td>5604.79</td>\n",
       "      <td>6086.42000</td>\n",
       "      <td>5735.3500</td>\n",
       "      <td>6564.73000</td>\n",
       "      <td>5556.19</td>\n",
       "      <td>5559.89</td>\n",
       "      <td>5988.77000</td>\n",
       "      <td>6687.58</td>\n",
       "      <td>5917.82000</td>\n",
       "      <td>5738.56000</td>\n",
       "      <td>...</td>\n",
       "      <td>5311.15</td>\n",
       "      <td>5574.35000</td>\n",
       "      <td>5521.36000</td>\n",
       "      <td>5327.440000</td>\n",
       "      <td>5468.08</td>\n",
       "      <td>5606.540000</td>\n",
       "      <td>5730.02000</td>\n",
       "      <td>5626.22000</td>\n",
       "      <td>6316.65000</td>\n",
       "      <td>5222.6000</td>\n",
       "    </tr>\n",
       "    <tr>\n",
       "      <th>ERCC-00012</th>\n",
       "      <td>0.00</td>\n",
       "      <td>2.55963</td>\n",
       "      <td>2.1136</td>\n",
       "      <td>1.25018</td>\n",
       "      <td>0.00</td>\n",
       "      <td>0.00</td>\n",
       "      <td>1.85724</td>\n",
       "      <td>0.00</td>\n",
       "      <td>2.73227</td>\n",
       "      <td>2.13478</td>\n",
       "      <td>...</td>\n",
       "      <td>0.00</td>\n",
       "      <td>5.28909</td>\n",
       "      <td>1.76281</td>\n",
       "      <td>0.964424</td>\n",
       "      <td>0.00</td>\n",
       "      <td>0.981717</td>\n",
       "      <td>3.09483</td>\n",
       "      <td>1.62108</td>\n",
       "      <td>3.12863</td>\n",
       "      <td>2.3524</td>\n",
       "    </tr>\n",
       "  </tbody>\n",
       "</table></div>"
      ],
      "text/plain": [
       "            B_120_S11     5_120_S50     A_780_S3     5_130_S45  C_ZG02_S17  \\\n",
       "target_id                                                                    \n",
       "ERCC-00002  118593.00  129855.00000  121554.0000  143208.00000   115668.00   \n",
       "ERCC-00003    8998.19    7776.39000    9291.4600    7243.76000     9181.86   \n",
       "ERCC-00004   90430.60   71125.30000   88518.1000   65978.00000    89829.20   \n",
       "ERCC-00009    5604.79    6086.42000    5735.3500    6564.73000     5556.19   \n",
       "ERCC-00012       0.00       2.55963       2.1136       1.25018        0.00   \n",
       "\n",
       "            C_780_S15     2_700_S37  4_120_S44     2_120_S40     E_330_S22  \\\n",
       "target_id                                                                    \n",
       "ERCC-00002  116555.00  126790.00000  140772.00  129542.00000  120865.00000   \n",
       "ERCC-00003    9987.66    8351.46000    7919.04    8769.32000    9108.57000   \n",
       "ERCC-00004   94661.70   75792.00000   68858.10   76367.50000   86011.60000   \n",
       "ERCC-00009    5559.89    5988.77000    6687.58    5917.82000    5738.56000   \n",
       "ERCC-00012       0.00       1.85724       0.00       2.73227       2.13478   \n",
       "\n",
       "            ...  C_130_S13      A_120_S5      A_700_S4       B_330_S8  \\\n",
       "target_id   ...                                                         \n",
       "ERCC-00002  ...  113458.00  119650.00000  124320.00000  115169.000000   \n",
       "ERCC-00003  ...   10195.90    9343.01000    9215.03000   10246.000000   \n",
       "ERCC-00004  ...   97226.20   91008.00000   88621.30000  101045.000000   \n",
       "ERCC-00009  ...    5311.15    5574.35000    5521.36000    5327.440000   \n",
       "ERCC-00012  ...       0.00       5.28909       1.76281       0.964424   \n",
       "\n",
       "            F_700_S26     E_ZG02_S24     7_130_S57     E_130_S19  \\\n",
       "target_id                                                          \n",
       "ERCC-00002  112534.00  118516.000000  120550.00000  112204.00000   \n",
       "ERCC-00003   10638.90    9212.110000    8430.52000    9676.65000   \n",
       "ERCC-00004  103595.00   90609.900000   85489.40000   91873.30000   \n",
       "ERCC-00009    5468.08    5606.540000    5730.02000    5626.22000   \n",
       "ERCC-00012       0.00       0.981717       3.09483       1.62108   \n",
       "\n",
       "              1_ZG02_S35     B_780_S9  \n",
       "target_id                              \n",
       "ERCC-00002  142328.00000  114203.0000  \n",
       "ERCC-00003    7273.28000   10377.6000  \n",
       "ERCC-00004   66283.30000  102716.0000  \n",
       "ERCC-00009    6316.65000    5222.6000  \n",
       "ERCC-00012       3.12863       2.3524  \n",
       "\n",
       "[5 rows x 62 columns]"
      ]
     },
     "execution_count": 4,
     "metadata": {},
     "output_type": "execute_result"
    }
   ],
   "source": [
    "counts_ERCC.head()"
   ]
  },
  {
   "cell_type": "code",
   "execution_count": 5,
   "metadata": {},
   "outputs": [
    {
     "data": {
      "text/html": [
       "<div><div id=848fef8d-4b4e-42d7-a1dd-4b11c6b1487b style=\"display:none; background-color:#9D6CFF; color:white; width:200px; height:30px; padding-left:5px; border-radius:4px; flex-direction:row; justify-content:space-around; align-items:center;\" onmouseover=\"this.style.backgroundColor='#BA9BF8'\" onmouseout=\"this.style.backgroundColor='#9D6CFF'\" onclick=\"window.commands?.execute('create-mitosheet-from-dataframe-output');\">See Full Dataframe in Mito</div> <script> if (window.commands?.hasCommand('create-mitosheet-from-dataframe-output')) document.getElementById('848fef8d-4b4e-42d7-a1dd-4b11c6b1487b').style.display = 'flex' </script> <table border=\"1\" class=\"dataframe\">\n",
       "  <thead>\n",
       "    <tr style=\"text-align: right;\">\n",
       "      <th></th>\n",
       "      <th>Sample</th>\n",
       "      <th>sample_ID</th>\n",
       "      <th>SW_filtered</th>\n",
       "      <th>eluate_volume_mL</th>\n",
       "      <th>rna_extraction_vol_mL</th>\n",
       "      <th>RNA_conc_ng_µl</th>\n",
       "      <th>µl_RNA_used _for_start_LP</th>\n",
       "      <th>pre_dil</th>\n",
       "      <th>ng_RNA_used_for_start_LP</th>\n",
       "      <th>µl_ERCC_spike_1_1000</th>\n",
       "    </tr>\n",
       "  </thead>\n",
       "  <tbody>\n",
       "    <tr>\n",
       "      <th>0</th>\n",
       "      <td>1</td>\n",
       "      <td>A_130_S1</td>\n",
       "      <td>50.0</td>\n",
       "      <td>18.0</td>\n",
       "      <td>1.5</td>\n",
       "      <td>109.7</td>\n",
       "      <td>1.82</td>\n",
       "      <td>1.0</td>\n",
       "      <td>200.0</td>\n",
       "      <td>4.0</td>\n",
       "    </tr>\n",
       "    <tr>\n",
       "      <th>1</th>\n",
       "      <td>2</td>\n",
       "      <td>A_330_S2</td>\n",
       "      <td>50.0</td>\n",
       "      <td>18.0</td>\n",
       "      <td>6.0</td>\n",
       "      <td>354.0</td>\n",
       "      <td>1.13</td>\n",
       "      <td>2.0</td>\n",
       "      <td>200.0</td>\n",
       "      <td>4.0</td>\n",
       "    </tr>\n",
       "    <tr>\n",
       "      <th>2</th>\n",
       "      <td>3</td>\n",
       "      <td>A_780_S3</td>\n",
       "      <td>50.0</td>\n",
       "      <td>18.0</td>\n",
       "      <td>6.0</td>\n",
       "      <td>407.6</td>\n",
       "      <td>0.98</td>\n",
       "      <td>2.0</td>\n",
       "      <td>200.0</td>\n",
       "      <td>4.0</td>\n",
       "    </tr>\n",
       "    <tr>\n",
       "      <th>3</th>\n",
       "      <td>4</td>\n",
       "      <td>A_700_S4</td>\n",
       "      <td>50.0</td>\n",
       "      <td>18.0</td>\n",
       "      <td>6.0</td>\n",
       "      <td>652.0</td>\n",
       "      <td>0.61</td>\n",
       "      <td>2.0</td>\n",
       "      <td>200.0</td>\n",
       "      <td>4.0</td>\n",
       "    </tr>\n",
       "    <tr>\n",
       "      <th>4</th>\n",
       "      <td>5</td>\n",
       "      <td>A_120_S5</td>\n",
       "      <td>50.0</td>\n",
       "      <td>18.0</td>\n",
       "      <td>6.0</td>\n",
       "      <td>366.2</td>\n",
       "      <td>1.09</td>\n",
       "      <td>2.0</td>\n",
       "      <td>200.0</td>\n",
       "      <td>4.0</td>\n",
       "    </tr>\n",
       "  </tbody>\n",
       "</table></div>"
      ],
      "text/plain": [
       "  Sample sample_ID  SW_filtered  eluate_volume_mL  rna_extraction_vol_mL  \\\n",
       "0      1  A_130_S1         50.0              18.0                    1.5   \n",
       "1      2  A_330_S2         50.0              18.0                    6.0   \n",
       "2      3  A_780_S3         50.0              18.0                    6.0   \n",
       "3      4  A_700_S4         50.0              18.0                    6.0   \n",
       "4      5  A_120_S5         50.0              18.0                    6.0   \n",
       "\n",
       "   RNA_conc_ng_µl  µl_RNA_used _for_start_LP  pre_dil  \\\n",
       "0           109.7                       1.82      1.0   \n",
       "1           354.0                       1.13      2.0   \n",
       "2           407.6                       0.98      2.0   \n",
       "3           652.0                       0.61      2.0   \n",
       "4           366.2                       1.09      2.0   \n",
       "\n",
       "   ng_RNA_used_for_start_LP  µl_ERCC_spike_1_1000  \n",
       "0                     200.0                   4.0  \n",
       "1                     200.0                   4.0  \n",
       "2                     200.0                   4.0  \n",
       "3                     200.0                   4.0  \n",
       "4                     200.0                   4.0  "
      ]
     },
     "execution_count": 5,
     "metadata": {},
     "output_type": "execute_result"
    }
   ],
   "source": [
    "lab_info.head()"
   ]
  },
  {
   "cell_type": "code",
   "execution_count": 6,
   "metadata": {},
   "outputs": [
    {
     "data": {
      "text/html": [
       "<div><div id=07cadf43-aa48-46c6-9323-23ce10adf431 style=\"display:none; background-color:#9D6CFF; color:white; width:200px; height:30px; padding-left:5px; border-radius:4px; flex-direction:row; justify-content:space-around; align-items:center;\" onmouseover=\"this.style.backgroundColor='#BA9BF8'\" onmouseout=\"this.style.backgroundColor='#9D6CFF'\" onclick=\"window.commands?.execute('create-mitosheet-from-dataframe-output');\">See Full Dataframe in Mito</div> <script> if (window.commands?.hasCommand('create-mitosheet-from-dataframe-output')) document.getElementById('07cadf43-aa48-46c6-9323-23ce10adf431').style.display = 'flex' </script> <table border=\"1\" class=\"dataframe\">\n",
       "  <thead>\n",
       "    <tr style=\"text-align: right;\">\n",
       "      <th></th>\n",
       "      <th>Re-sort ID</th>\n",
       "      <th>ERCC_ID</th>\n",
       "      <th>subgroup</th>\n",
       "      <th>concentration_Mix_1</th>\n",
       "      <th>concentration_Mix_2</th>\n",
       "      <th>expected_fold_change ratio</th>\n",
       "      <th>log2_Mix_1_Mix_2</th>\n",
       "    </tr>\n",
       "  </thead>\n",
       "  <tbody>\n",
       "    <tr>\n",
       "      <th>0</th>\n",
       "      <td>1</td>\n",
       "      <td>ERCC-00130</td>\n",
       "      <td>A</td>\n",
       "      <td>30000.00</td>\n",
       "      <td>7500.0000</td>\n",
       "      <td>4.0</td>\n",
       "      <td>2.0</td>\n",
       "    </tr>\n",
       "    <tr>\n",
       "      <th>1</th>\n",
       "      <td>2</td>\n",
       "      <td>ERCC-00004</td>\n",
       "      <td>A</td>\n",
       "      <td>7500.00</td>\n",
       "      <td>1875.0000</td>\n",
       "      <td>4.0</td>\n",
       "      <td>2.0</td>\n",
       "    </tr>\n",
       "    <tr>\n",
       "      <th>2</th>\n",
       "      <td>3</td>\n",
       "      <td>ERCC-00136</td>\n",
       "      <td>A</td>\n",
       "      <td>1875.00</td>\n",
       "      <td>468.7500</td>\n",
       "      <td>4.0</td>\n",
       "      <td>2.0</td>\n",
       "    </tr>\n",
       "    <tr>\n",
       "      <th>3</th>\n",
       "      <td>4</td>\n",
       "      <td>ERCC-00108</td>\n",
       "      <td>A</td>\n",
       "      <td>937.50</td>\n",
       "      <td>234.3750</td>\n",
       "      <td>4.0</td>\n",
       "      <td>2.0</td>\n",
       "    </tr>\n",
       "    <tr>\n",
       "      <th>4</th>\n",
       "      <td>5</td>\n",
       "      <td>ERCC-00116</td>\n",
       "      <td>A</td>\n",
       "      <td>468.75</td>\n",
       "      <td>117.1875</td>\n",
       "      <td>4.0</td>\n",
       "      <td>2.0</td>\n",
       "    </tr>\n",
       "  </tbody>\n",
       "</table></div>"
      ],
      "text/plain": [
       "   Re-sort ID     ERCC_ID subgroup  concentration_Mix_1  concentration_Mix_2  \\\n",
       "0           1  ERCC-00130        A             30000.00            7500.0000   \n",
       "1           2  ERCC-00004        A              7500.00            1875.0000   \n",
       "2           3  ERCC-00136        A              1875.00             468.7500   \n",
       "3           4  ERCC-00108        A               937.50             234.3750   \n",
       "4           5  ERCC-00116        A               468.75             117.1875   \n",
       "\n",
       "   expected_fold_change ratio  log2_Mix_1_Mix_2  \n",
       "0                         4.0               2.0  \n",
       "1                         4.0               2.0  \n",
       "2                         4.0               2.0  \n",
       "3                         4.0               2.0  \n",
       "4                         4.0               2.0  "
      ]
     },
     "execution_count": 6,
     "metadata": {},
     "output_type": "execute_result"
    }
   ],
   "source": [
    "meta_ERCC.head()"
   ]
  },
  {
   "cell_type": "code",
   "execution_count": 7,
   "metadata": {},
   "outputs": [
    {
     "name": "stdout",
     "output_type": "stream",
     "text": [
      "ERCC TPM count length:92, Meta length:92\n"
     ]
    }
   ],
   "source": [
    "# Compare length of both df to spot irregularities\n",
    "print(f'ERCC TPM count length:{len(counts_ERCC)}, Meta length:{len(meta_ERCC)}')"
   ]
  },
  {
   "cell_type": "markdown",
   "metadata": {},
   "source": [
    "## Expression vs variance"
   ]
  },
  {
   "cell_type": "code",
   "execution_count": 8,
   "metadata": {},
   "outputs": [],
   "source": [
    "# Extract the squared coefficient of variance from each row\n",
    "coeff_var = (np.std(counts_ERCC, axis=1) / np.mean(counts_ERCC, axis=1)) ** 2\n",
    "# Extract the mean expression from each row\n",
    "mean_expression = np.mean(counts_ERCC, axis=1)"
   ]
  },
  {
   "cell_type": "code",
   "execution_count": 9,
   "metadata": {},
   "outputs": [],
   "source": [
    "# Combine both values in a dataframe\n",
    "df = pd.DataFrame()\n",
    "df['CV2'] = coeff_var\n",
    "df['CV'] = np.sqrt(coeff_var)\n",
    "df['mean_expression'] = mean_expression\n",
    "df['log_mean_expression'] = np.log10(mean_expression + 1)"
   ]
  },
  {
   "cell_type": "code",
   "execution_count": 10,
   "metadata": {},
   "outputs": [
    {
     "data": {
      "image/png": "[encoded data removed]",
      "text/plain": [
       "<Figure size 432x288 with 1 Axes>"
      ]
     },
     "metadata": {
      "needs_background": "light"
     },
     "output_type": "display_data"
    }
   ],
   "source": [
    "df.plot('log_mean_expression', 'CV', kind='scatter', alpha=1);"
   ]
  },
  {
   "cell_type": "markdown",
   "metadata": {},
   "source": [
    "This is as expected: transcripts with higher concentrations added to samples have lower coefficients of variance. "
   ]
  },
  {
   "cell_type": "markdown",
   "metadata": {},
   "source": [
    "## Detection of expression"
   ]
  },
  {
   "cell_type": "code",
   "execution_count": 11,
   "metadata": {},
   "outputs": [
    {
     "data": {
      "text/html": [
       "<div><div id=d61a2a76-5216-49c6-845b-a87f5e92567c style=\"display:none; background-color:#9D6CFF; color:white; width:200px; height:30px; padding-left:5px; border-radius:4px; flex-direction:row; justify-content:space-around; align-items:center;\" onmouseover=\"this.style.backgroundColor='#BA9BF8'\" onmouseout=\"this.style.backgroundColor='#9D6CFF'\" onclick=\"window.commands?.execute('create-mitosheet-from-dataframe-output');\">See Full Dataframe in Mito</div> <script> if (window.commands?.hasCommand('create-mitosheet-from-dataframe-output')) document.getElementById('d61a2a76-5216-49c6-845b-a87f5e92567c').style.display = 'flex' </script> <table border=\"1\" class=\"dataframe\">\n",
       "  <thead>\n",
       "    <tr style=\"text-align: right;\">\n",
       "      <th></th>\n",
       "      <th>sample_ID</th>\n",
       "      <th>TPM</th>\n",
       "      <th>ERCC_ID</th>\n",
       "      <th>concentration_Mix_1</th>\n",
       "      <th>µl_ERCC_spike_1_1000</th>\n",
       "    </tr>\n",
       "  </thead>\n",
       "  <tbody>\n",
       "    <tr>\n",
       "      <th>0</th>\n",
       "      <td>B_120_S11</td>\n",
       "      <td>118593.00</td>\n",
       "      <td>ERCC-00002</td>\n",
       "      <td>15000.000000</td>\n",
       "      <td>4.0</td>\n",
       "    </tr>\n",
       "    <tr>\n",
       "      <th>1</th>\n",
       "      <td>B_120_S11</td>\n",
       "      <td>8998.19</td>\n",
       "      <td>ERCC-00003</td>\n",
       "      <td>937.500000</td>\n",
       "      <td>4.0</td>\n",
       "    </tr>\n",
       "    <tr>\n",
       "      <th>2</th>\n",
       "      <td>B_120_S11</td>\n",
       "      <td>90430.60</td>\n",
       "      <td>ERCC-00004</td>\n",
       "      <td>7500.000000</td>\n",
       "      <td>4.0</td>\n",
       "    </tr>\n",
       "    <tr>\n",
       "      <th>3</th>\n",
       "      <td>B_120_S11</td>\n",
       "      <td>5604.79</td>\n",
       "      <td>ERCC-00009</td>\n",
       "      <td>937.500000</td>\n",
       "      <td>4.0</td>\n",
       "    </tr>\n",
       "    <tr>\n",
       "      <th>4</th>\n",
       "      <td>B_120_S11</td>\n",
       "      <td>0.00</td>\n",
       "      <td>ERCC-00012</td>\n",
       "      <td>0.114441</td>\n",
       "      <td>4.0</td>\n",
       "    </tr>\n",
       "  </tbody>\n",
       "</table></div>"
      ],
      "text/plain": [
       "   sample_ID        TPM     ERCC_ID  concentration_Mix_1  µl_ERCC_spike_1_1000\n",
       "0  B_120_S11  118593.00  ERCC-00002         15000.000000                   4.0\n",
       "1  B_120_S11    8998.19  ERCC-00003           937.500000                   4.0\n",
       "2  B_120_S11   90430.60  ERCC-00004          7500.000000                   4.0\n",
       "3  B_120_S11    5604.79  ERCC-00009           937.500000                   4.0\n",
       "4  B_120_S11       0.00  ERCC-00012             0.114441                   4.0"
      ]
     },
     "execution_count": 11,
     "metadata": {},
     "output_type": "execute_result"
    }
   ],
   "source": [
    "# Melt the count dataframe to long format\n",
    "counts_ERCC = counts_ERCC.reset_index().melt(id_vars=['target_id'], var_name=['sample_ID'], value_name='TPM')\n",
    "# Join both df together\n",
    "counts_ERCC = counts_ERCC.merge(meta_ERCC, left_on='target_id', right_on='ERCC_ID')\n",
    "# Drop irrelevant columns\n",
    "counts_ERCC = counts_ERCC.drop(columns=['target_id', 'Re-sort ID', 'subgroup', 'concentration_Mix_2', 'expected_fold_change ratio', 'log2_Mix_1_Mix_2'])\n",
    "# Add how much spike mix was added\n",
    "counts_ERCC = counts_ERCC.merge(lab_info[['sample_ID', 'µl_ERCC_spike_1_1000']], left_on='sample_ID', right_on='sample_ID')\n",
    "\n",
    "counts_ERCC.head()"
   ]
  },
  {
   "cell_type": "markdown",
   "metadata": {},
   "source": [
    "Before data analysis, it is often convenient to transform the spike mix concentration values to reflect the dilution scheme used when adding the samples. For example, if 2 μL of a 1:100 dilution of Spike-In Mix was added to 1 μg of total RNA, multiply the mix concentration column by 0.02 to give new concentration values, expressed as attomoles of ERCC transcript/1 μg total RNA. The concentration values can be expressed in terms of absolute number by conversion of moles to molecules with  Avogadro's number (N\n",
    "A; 6.02214179 ✕ 10<sup>23</sup> mol<sup>–1</sup>).\n",
    "\n",
    "At nucleomics, they used 4 µL of a 1/1000 dilution of Spike-In Mix to 200 ng of RNA. When less total RNA was available, less Spike-In Mix was used to maintain the ratio of 0.02. \n",
    "So to calculate back to attomoles of ERCC transcript/200 ng total RNA we need to multiply the mix concentration with the amount of µL ERCC mix that was added divided by 1000. \n",
    "Now we have the number of molecules -or copies- of every ERCC transcript that was added to each sample, and we will compare this with the TPM values that were recovered."
   ]
  },
  {
   "cell_type": "code",
   "execution_count": 12,
   "metadata": {},
   "outputs": [],
   "source": [
    "# Add transformed concentration column to reflect the amount of moles spike added which also incorporates wet lab dilution\n",
    "counts_ERCC['attomoles_in_total_RNA'] = counts_ERCC['concentration_Mix_1'] * (counts_ERCC['µl_ERCC_spike_1_1000'] / 1000)\n",
    "\n",
    "# Calculate absolute number of molecules per sample using Avogadro's number, but first we need to converse attomoles to moles (atto = 10^-18) \n",
    "counts_ERCC['ERCC_copies'] = counts_ERCC['attomoles_in_total_RNA'] * 10**-18 *constants.Avogadro"
   ]
  },
  {
   "cell_type": "code",
   "execution_count": 13,
   "metadata": {},
   "outputs": [
    {
     "data": {
      "text/html": [
       "<div><div id=7821195c-7e63-4000-b1cb-dd4582e0ad8a style=\"display:none; background-color:#9D6CFF; color:white; width:200px; height:30px; padding-left:5px; border-radius:4px; flex-direction:row; justify-content:space-around; align-items:center;\" onmouseover=\"this.style.backgroundColor='#BA9BF8'\" onmouseout=\"this.style.backgroundColor='#9D6CFF'\" onclick=\"window.commands?.execute('create-mitosheet-from-dataframe-output');\">See Full Dataframe in Mito</div> <script> if (window.commands?.hasCommand('create-mitosheet-from-dataframe-output')) document.getElementById('7821195c-7e63-4000-b1cb-dd4582e0ad8a').style.display = 'flex' </script> <table border=\"1\" class=\"dataframe\">\n",
       "  <thead>\n",
       "    <tr style=\"text-align: right;\">\n",
       "      <th></th>\n",
       "      <th>TPM</th>\n",
       "      <th>concentration_Mix_1</th>\n",
       "      <th>µl_ERCC_spike_1_1000</th>\n",
       "      <th>attomoles_in_total_RNA</th>\n",
       "      <th>ERCC_copies</th>\n",
       "    </tr>\n",
       "  </thead>\n",
       "  <tbody>\n",
       "    <tr>\n",
       "      <th>count</th>\n",
       "      <td>5704.000000</td>\n",
       "      <td>5704.000000</td>\n",
       "      <td>5704.000000</td>\n",
       "      <td>5704.000000</td>\n",
       "      <td>5.704000e+03</td>\n",
       "    </tr>\n",
       "    <tr>\n",
       "      <th>mean</th>\n",
       "      <td>10869.566004</td>\n",
       "      <td>1125.163358</td>\n",
       "      <td>3.773065</td>\n",
       "      <td>4.245314</td>\n",
       "      <td>2.556588e+06</td>\n",
       "    </tr>\n",
       "    <tr>\n",
       "      <th>std</th>\n",
       "      <td>38979.028150</td>\n",
       "      <td>4125.042020</td>\n",
       "      <td>0.672360</td>\n",
       "      <td>15.827286</td>\n",
       "      <td>9.531415e+06</td>\n",
       "    </tr>\n",
       "    <tr>\n",
       "      <th>min</th>\n",
       "      <td>0.000000</td>\n",
       "      <td>0.014305</td>\n",
       "      <td>1.090000</td>\n",
       "      <td>0.000016</td>\n",
       "      <td>9.390072e+00</td>\n",
       "    </tr>\n",
       "    <tr>\n",
       "      <th>25%</th>\n",
       "      <td>5.181027</td>\n",
       "      <td>0.801086</td>\n",
       "      <td>4.000000</td>\n",
       "      <td>0.001831</td>\n",
       "      <td>1.102687e+03</td>\n",
       "    </tr>\n",
       "    <tr>\n",
       "      <th>50%</th>\n",
       "      <td>124.323000</td>\n",
       "      <td>7.324219</td>\n",
       "      <td>4.000000</td>\n",
       "      <td>0.029297</td>\n",
       "      <td>1.764299e+04</td>\n",
       "    </tr>\n",
       "    <tr>\n",
       "      <th>75%</th>\n",
       "      <td>1051.000000</td>\n",
       "      <td>117.187500</td>\n",
       "      <td>4.000000</td>\n",
       "      <td>0.468750</td>\n",
       "      <td>2.822878e+05</td>\n",
       "    </tr>\n",
       "    <tr>\n",
       "      <th>max</th>\n",
       "      <td>313449.000000</td>\n",
       "      <td>30000.000000</td>\n",
       "      <td>4.000000</td>\n",
       "      <td>120.000000</td>\n",
       "      <td>7.226569e+07</td>\n",
       "    </tr>\n",
       "  </tbody>\n",
       "</table></div>"
      ],
      "text/plain": [
       "                 TPM  concentration_Mix_1  µl_ERCC_spike_1_1000  \\\n",
       "count    5704.000000          5704.000000           5704.000000   \n",
       "mean    10869.566004          1125.163358              3.773065   \n",
       "std     38979.028150          4125.042020              0.672360   \n",
       "min         0.000000             0.014305              1.090000   \n",
       "25%         5.181027             0.801086              4.000000   \n",
       "50%       124.323000             7.324219              4.000000   \n",
       "75%      1051.000000           117.187500              4.000000   \n",
       "max    313449.000000         30000.000000              4.000000   \n",
       "\n",
       "       attomoles_in_total_RNA   ERCC_copies  \n",
       "count             5704.000000  5.704000e+03  \n",
       "mean                 4.245314  2.556588e+06  \n",
       "std                 15.827286  9.531415e+06  \n",
       "min                  0.000016  9.390072e+00  \n",
       "25%                  0.001831  1.102687e+03  \n",
       "50%                  0.029297  1.764299e+04  \n",
       "75%                  0.468750  2.822878e+05  \n",
       "max                120.000000  7.226569e+07  "
      ]
     },
     "execution_count": 13,
     "metadata": {},
     "output_type": "execute_result"
    }
   ],
   "source": [
    "counts_ERCC.describe()"
   ]
  },
  {
   "cell_type": "code",
   "execution_count": 14,
   "metadata": {},
   "outputs": [
    {
     "data": {
      "text/html": [
       "<div><div id=f12e58e0-c8ec-4abd-a0b1-1087f0d48cf4 style=\"display:none; background-color:#9D6CFF; color:white; width:200px; height:30px; padding-left:5px; border-radius:4px; flex-direction:row; justify-content:space-around; align-items:center;\" onmouseover=\"this.style.backgroundColor='#BA9BF8'\" onmouseout=\"this.style.backgroundColor='#9D6CFF'\" onclick=\"window.commands?.execute('create-mitosheet-from-dataframe-output');\">See Full Dataframe in Mito</div> <script> if (window.commands?.hasCommand('create-mitosheet-from-dataframe-output')) document.getElementById('f12e58e0-c8ec-4abd-a0b1-1087f0d48cf4').style.display = 'flex' </script> <table border=\"1\" class=\"dataframe\">\n",
       "  <thead>\n",
       "    <tr style=\"text-align: right;\">\n",
       "      <th></th>\n",
       "      <th>sample_ID</th>\n",
       "      <th>TPM</th>\n",
       "      <th>ERCC_ID</th>\n",
       "      <th>concentration_Mix_1</th>\n",
       "      <th>µl_ERCC_spike_1_1000</th>\n",
       "      <th>attomoles_in_total_RNA</th>\n",
       "      <th>ERCC_copies</th>\n",
       "    </tr>\n",
       "  </thead>\n",
       "  <tbody>\n",
       "    <tr>\n",
       "      <th>4349</th>\n",
       "      <td>4_330_S42</td>\n",
       "      <td>0.0</td>\n",
       "      <td>ERCC-00048</td>\n",
       "      <td>0.014305</td>\n",
       "      <td>1.09</td>\n",
       "      <td>0.000016</td>\n",
       "      <td>9.390072</td>\n",
       "    </tr>\n",
       "    <tr>\n",
       "      <th>4353</th>\n",
       "      <td>4_330_S42</td>\n",
       "      <td>0.0</td>\n",
       "      <td>ERCC-00057</td>\n",
       "      <td>0.014305</td>\n",
       "      <td>1.09</td>\n",
       "      <td>0.000016</td>\n",
       "      <td>9.390072</td>\n",
       "    </tr>\n",
       "    <tr>\n",
       "      <th>4364</th>\n",
       "      <td>4_330_S42</td>\n",
       "      <td>0.0</td>\n",
       "      <td>ERCC-00075</td>\n",
       "      <td>0.014305</td>\n",
       "      <td>1.09</td>\n",
       "      <td>0.000016</td>\n",
       "      <td>9.390072</td>\n",
       "    </tr>\n",
       "    <tr>\n",
       "      <th>5192</th>\n",
       "      <td>F_700_S26</td>\n",
       "      <td>0.0</td>\n",
       "      <td>ERCC-00075</td>\n",
       "      <td>0.014305</td>\n",
       "      <td>1.30</td>\n",
       "      <td>0.000019</td>\n",
       "      <td>11.199168</td>\n",
       "    </tr>\n",
       "    <tr>\n",
       "      <th>5177</th>\n",
       "      <td>F_700_S26</td>\n",
       "      <td>0.0</td>\n",
       "      <td>ERCC-00048</td>\n",
       "      <td>0.014305</td>\n",
       "      <td>1.30</td>\n",
       "      <td>0.000019</td>\n",
       "      <td>11.199168</td>\n",
       "    </tr>\n",
       "    <tr>\n",
       "      <th>...</th>\n",
       "      <td>...</td>\n",
       "      <td>...</td>\n",
       "      <td>...</td>\n",
       "      <td>...</td>\n",
       "      <td>...</td>\n",
       "      <td>...</td>\n",
       "      <td>...</td>\n",
       "    </tr>\n",
       "    <tr>\n",
       "      <th>949</th>\n",
       "      <td>F_130_S25</td>\n",
       "      <td>0.0</td>\n",
       "      <td>ERCC-00057</td>\n",
       "      <td>0.014305</td>\n",
       "      <td>1.93</td>\n",
       "      <td>0.000028</td>\n",
       "      <td>16.626457</td>\n",
       "    </tr>\n",
       "    <tr>\n",
       "      <th>960</th>\n",
       "      <td>F_130_S25</td>\n",
       "      <td>0.0</td>\n",
       "      <td>ERCC-00075</td>\n",
       "      <td>0.014305</td>\n",
       "      <td>1.93</td>\n",
       "      <td>0.000028</td>\n",
       "      <td>16.626457</td>\n",
       "    </tr>\n",
       "    <tr>\n",
       "      <th>4370</th>\n",
       "      <td>4_330_S42</td>\n",
       "      <td>0.0</td>\n",
       "      <td>ERCC-00083</td>\n",
       "      <td>0.028610</td>\n",
       "      <td>1.09</td>\n",
       "      <td>0.000031</td>\n",
       "      <td>18.780137</td>\n",
       "    </tr>\n",
       "    <tr>\n",
       "      <th>592</th>\n",
       "      <td>2_700_S37</td>\n",
       "      <td>0.0</td>\n",
       "      <td>ERCC-00075</td>\n",
       "      <td>0.014305</td>\n",
       "      <td>2.30</td>\n",
       "      <td>0.000033</td>\n",
       "      <td>19.813913</td>\n",
       "    </tr>\n",
       "    <tr>\n",
       "      <th>577</th>\n",
       "      <td>2_700_S37</td>\n",
       "      <td>0.0</td>\n",
       "      <td>ERCC-00048</td>\n",
       "      <td>0.014305</td>\n",
       "      <td>2.30</td>\n",
       "      <td>0.000033</td>\n",
       "      <td>19.813913</td>\n",
       "    </tr>\n",
       "  </tbody>\n",
       "</table></div>"
      ],
      "text/plain": [
       "      sample_ID  TPM     ERCC_ID  concentration_Mix_1  µl_ERCC_spike_1_1000  \\\n",
       "4349  4_330_S42  0.0  ERCC-00048             0.014305                  1.09   \n",
       "4353  4_330_S42  0.0  ERCC-00057             0.014305                  1.09   \n",
       "4364  4_330_S42  0.0  ERCC-00075             0.014305                  1.09   \n",
       "5192  F_700_S26  0.0  ERCC-00075             0.014305                  1.30   \n",
       "5177  F_700_S26  0.0  ERCC-00048             0.014305                  1.30   \n",
       "5181  F_700_S26  0.0  ERCC-00057             0.014305                  1.30   \n",
       "4180  6_130_S51  0.0  ERCC-00075             0.014305                  1.68   \n",
       "4169  6_130_S51  0.0  ERCC-00057             0.014305                  1.68   \n",
       "4165  6_130_S51  0.0  ERCC-00048             0.014305                  1.68   \n",
       "945   F_130_S25  0.0  ERCC-00048             0.014305                  1.93   \n",
       "949   F_130_S25  0.0  ERCC-00057             0.014305                  1.93   \n",
       "960   F_130_S25  0.0  ERCC-00075             0.014305                  1.93   \n",
       "4370  4_330_S42  0.0  ERCC-00083             0.028610                  1.09   \n",
       "592   2_700_S37  0.0  ERCC-00075             0.014305                  2.30   \n",
       "577   2_700_S37  0.0  ERCC-00048             0.014305                  2.30   \n",
       "\n",
       "      attomoles_in_total_RNA  ERCC_copies  \n",
       "4349                0.000016     9.390072  \n",
       "4353                0.000016     9.390072  \n",
       "4364                0.000016     9.390072  \n",
       "5192                0.000019    11.199168  \n",
       "5177                0.000019    11.199168  \n",
       "5181                0.000019    11.199168  \n",
       "4180                0.000024    14.472771  \n",
       "4169                0.000024    14.472771  \n",
       "4165                0.000024    14.472771  \n",
       "945                 0.000028    16.626457  \n",
       "949                 0.000028    16.626457  \n",
       "960                 0.000028    16.626457  \n",
       "4370                0.000031    18.780137  \n",
       "592                 0.000033    19.813913  \n",
       "577                 0.000033    19.813913  "
      ]
     },
     "execution_count": 14,
     "metadata": {},
     "output_type": "execute_result"
    }
   ],
   "source": [
    "counts_ERCC.sort_values(by='ERCC_copies', ascending=True).head(n=15)"
   ]
  },
  {
   "cell_type": "markdown",
   "metadata": {},
   "source": [
    "Now we're interested in the average number of reads we get for a given number of molecules added. What we want to check first is whether TPM increases linearly with the increasing concentrations of ERCC transcripts that were added. **Note**: the concentration increases logarithmically of ERCC spikes, so we need to logtransform TPM and concentration values first. "
   ]
  },
  {
   "cell_type": "code",
   "execution_count": 15,
   "metadata": {},
   "outputs": [
    {
     "data": {
      "image/png": "[encoded data removed]",
      "text/plain": [
       "<Figure size 432x432 with 3 Axes>"
      ]
     },
     "metadata": {
      "needs_background": "light"
     },
     "output_type": "display_data"
    }
   ],
   "source": [
    "plotdata = counts_ERCC[['ERCC_copies', 'TPM']].copy()\n",
    "# Add a pseudocount to avoid trying to get log 0\n",
    "plotdata['ERCC_copies'] = np.log2(plotdata['ERCC_copies'] +1)\n",
    "plotdata['TPM'] = np.log2(plotdata['TPM'] + 1)\n",
    "plotdata.columns = ['log2_ERCC_copies', 'log2_TPM']\n",
    "\n",
    "# Plot the data\n",
    "plot = sns.jointplot(data=plotdata,\n",
    "            x='log2_ERCC_copies',\n",
    "            y='log2_TPM',\n",
    "            kind='reg',\n",
    "            joint_kws = {'scatter_kws':dict(alpha=0.2)}\n",
    ")\n",
    "\n",
    "# Add horizontal line at 0\n",
    "plot.ax_joint.axhline(0, color='black', linestyle='--')\n",
    "plt.show()\n",
    "\n",
    "# Save the plot as a svg\n",
    "plot.savefig('../../figures/assembly/ERCC92_TPM_vs_copies.svg')"
   ]
  },
  {
   "cell_type": "markdown",
   "metadata": {},
   "source": [
    "### The lower limit of detection"
   ]
  },
  {
   "cell_type": "markdown",
   "metadata": {},
   "source": [
    "There seems to be a linear relationship, great! The dynamic range of the gene expression data seems to be around 18 log units of concentration. Let's calculate how many molecules we need to detect 1 TPM, which is the X-axis value where the sensitivity threshold of 1 TPM (log2 TPM = 0) intersects the linear regression line."
   ]
  },
  {
   "cell_type": "code",
   "execution_count": 15,
   "metadata": {},
   "outputs": [
    {
     "name": "stdout",
     "output_type": "stream",
     "text": [
      "R2: 0.931980934547781\n"
     ]
    }
   ],
   "source": [
    "# Regression model\n",
    "X = np.array(plotdata['log2_ERCC_copies']).reshape(-1, 1)\n",
    "y = np.array(plotdata['log2_TPM']).reshape(-1, 1)\n",
    "\n",
    "# Separating the data into independent and dependent variables\n",
    "# Converting each dataframe into a numpy array\n",
    "# since each dataframe contains only one column\n",
    "\n",
    "\n",
    "X_train, X_test, y_train, y_test = train_test_split(X, y, test_size = 0.25)\n",
    "\n",
    "# Splitting the data into training and testing data\n",
    "regr = LinearRegression()\n",
    "\n",
    "regr.fit(X_train, y_train)\n",
    "print(f'R2: {regr.score(X_test, y_test)}')\n"
   ]
  },
  {
   "cell_type": "markdown",
   "metadata": {},
   "source": [
    "We have a good-fitting regression model! Let's obtain the model parameters"
   ]
  },
  {
   "cell_type": "code",
   "execution_count": 16,
   "metadata": {},
   "outputs": [],
   "source": [
    "intercept = regr.intercept_\n",
    "coeff = regr.coef_"
   ]
  },
  {
   "cell_type": "code",
   "execution_count": 17,
   "metadata": {},
   "outputs": [
    {
     "name": "stdout",
     "output_type": "stream",
     "text": [
      "Intercept: [-6.52059815]\n",
      "Coefficient: [[0.92072334]]\n"
     ]
    }
   ],
   "source": [
    "print(f'Intercept: {intercept}')\n",
    "print(f'Coefficient: {coeff}')"
   ]
  },
  {
   "cell_type": "code",
   "execution_count": 18,
   "metadata": {},
   "outputs": [
    {
     "data": {
      "text/plain": [
       "array([[-7.08203853]])"
      ]
     },
     "execution_count": 18,
     "metadata": {},
     "output_type": "execute_result"
    }
   ],
   "source": [
    "intercept / coeff"
   ]
  },
  {
   "cell_type": "markdown",
   "metadata": {},
   "source": [
    "The model is:\n",
    "\n",
    "$$ log2(TPM) = -6.490 + 0.919 * log2(ERCC\\:transcript\\:molecules) $$\n",
    "\n",
    "This means that for the sensitivy threshold of 1 TPM, we need +- 7 log2 molecules of ERCC transcript to be detected. This equals 128 molecules of ERCC transcript per 100 g total RNA."
   ]
  },
  {
   "cell_type": "markdown",
   "metadata": {},
   "source": [
    "## The ERCC normalisation factor"
   ]
  },
  {
   "cell_type": "markdown",
   "metadata": {},
   "source": [
    "First let's verify some numbers."
   ]
  },
  {
   "cell_type": "code",
   "execution_count": 19,
   "metadata": {},
   "outputs": [
    {
     "name": "stdout",
     "output_type": "stream",
     "text": [
      "The average TPM count: 10869.566003512973\n",
      "The average number of ERCC copies added to a sample: 2556587.812695259\n",
      "The median TPM count: 124.32300000000001\n",
      "The median number of transcript copies added to a sample: 17642.9905078125\n",
      "On average, 1 TPM equals 235.20606175711032 copies\n"
     ]
    }
   ],
   "source": [
    "mean_TPM = counts_ERCC['TPM'].mean()\n",
    "mean_copies = counts_ERCC['ERCC_copies'].mean()\n",
    "print(f'The average TPM count: {mean_TPM}')\n",
    "print(f'The average number of ERCC copies added to a sample: {mean_copies}')\n",
    "median_TPM = counts_ERCC['TPM'].median()\n",
    "median_copies = counts_ERCC['ERCC_copies'].median()\n",
    "print(f'The median TPM count: {median_TPM}')\n",
    "print(f'The median number of transcript copies added to a sample: {median_copies}')\n",
    "print(f'On average, 1 TPM equals {mean_copies/mean_TPM} copies')"
   ]
  },
  {
   "cell_type": "markdown",
   "metadata": {},
   "source": [
    "Now we'll calculate the ERCC normalisation factor. This is per sample, the amount of TPM counts for the amount of ERCC transcripts that were added to the sample."
   ]
  },
  {
   "cell_type": "code",
   "execution_count": 20,
   "metadata": {},
   "outputs": [],
   "source": [
    "# First remove the rows with TPM counts equalling zero\n",
    "counts_ERCC = counts_ERCC[counts_ERCC['TPM'] > 0]\n",
    "counts_ERCC['ERCC_norm_factor'] = counts_ERCC['ERCC_copies'] / counts_ERCC['TPM']"
   ]
  },
  {
   "cell_type": "code",
   "execution_count": 21,
   "metadata": {},
   "outputs": [
    {
     "data": {
      "text/plain": [
       "[None]"
      ]
     },
     "execution_count": 21,
     "metadata": {},
     "output_type": "execute_result"
    },
    {
     "data": {
      "image/png": "[encoded data removed]",
      "text/plain": [
       "<Figure size 576x1080 with 1 Axes>"
      ]
     },
     "metadata": {
      "needs_background": "light"
     },
     "output_type": "display_data"
    }
   ],
   "source": [
    "# Let's check per sample the recovery of all ERCC\n",
    "plt.figure(figsize=(8,15))\n",
    "ax =sns.boxplot(x='ERCC_norm_factor', y='sample_ID', data=counts_ERCC)\n",
    "ax.set(xscale='log')"
   ]
  },
  {
   "cell_type": "code",
   "execution_count": 22,
   "metadata": {},
   "outputs": [
    {
     "data": {
      "text/html": [
       "<div><div id=313f550d-31ae-4ed0-83c0-3109b30afe5d style=\"display:none; background-color:#9D6CFF; color:white; width:200px; height:30px; padding-left:5px; border-radius:4px; flex-direction:row; justify-content:space-around; align-items:center;\" onmouseover=\"this.style.backgroundColor='#BA9BF8'\" onmouseout=\"this.style.backgroundColor='#9D6CFF'\" onclick=\"window.commands?.execute('create-mitosheet-from-dataframe-output');\">See Full Dataframe in Mito</div> <script> if (window.commands?.hasCommand('create-mitosheet-from-dataframe-output')) document.getElementById('313f550d-31ae-4ed0-83c0-3109b30afe5d').style.display = 'flex' </script> <table border=\"1\" class=\"dataframe\">\n",
       "  <thead>\n",
       "    <tr style=\"text-align: right;\">\n",
       "      <th></th>\n",
       "      <th>sample_ID</th>\n",
       "      <th>ERCC_norm_factor</th>\n",
       "    </tr>\n",
       "  </thead>\n",
       "  <tbody>\n",
       "    <tr>\n",
       "      <th>0</th>\n",
       "      <td>1_130_S31</td>\n",
       "      <td>430.103511</td>\n",
       "    </tr>\n",
       "    <tr>\n",
       "      <th>1</th>\n",
       "      <td>1_330_S34</td>\n",
       "      <td>417.477541</td>\n",
       "    </tr>\n",
       "    <tr>\n",
       "      <th>2</th>\n",
       "      <td>1_700_S32</td>\n",
       "      <td>332.905906</td>\n",
       "    </tr>\n",
       "    <tr>\n",
       "      <th>3</th>\n",
       "      <td>1_780_S33</td>\n",
       "      <td>378.758385</td>\n",
       "    </tr>\n",
       "    <tr>\n",
       "      <th>4</th>\n",
       "      <td>1_ZG02_S35</td>\n",
       "      <td>410.956789</td>\n",
       "    </tr>\n",
       "  </tbody>\n",
       "</table></div>"
      ],
      "text/plain": [
       "    sample_ID  ERCC_norm_factor\n",
       "0   1_130_S31        430.103511\n",
       "1   1_330_S34        417.477541\n",
       "2   1_700_S32        332.905906\n",
       "3   1_780_S33        378.758385\n",
       "4  1_ZG02_S35        410.956789"
      ]
     },
     "execution_count": 22,
     "metadata": {},
     "output_type": "execute_result"
    }
   ],
   "source": [
    "# Group all ERCCs together per sample and take the average recovery\n",
    "ERCC_normalisation = counts_ERCC[['sample_ID', 'ERCC_norm_factor']].groupby('sample_ID').mean().reset_index()\n",
    "ERCC_normalisation.head()"
   ]
  },
  {
   "cell_type": "markdown",
   "metadata": {},
   "source": [
    "## Dilution factor"
   ]
  },
  {
   "cell_type": "markdown",
   "metadata": {},
   "source": [
    "Here, we'll calculate the second term of the equation:\n",
    "\n",
    "$$   \\frac{1}{volume\\:filtered_{j} * \\frac{mL\\:used\\:for\\:RNA\\:extraction_{j}}{elution\\:volume_{j}}}$$"
   ]
  },
  {
   "cell_type": "code",
   "execution_count": 23,
   "metadata": {},
   "outputs": [],
   "source": [
    "lab_info = lab_info.dropna(how = 'all')\n",
    "lab_info = lab_info.fillna(1)"
   ]
  },
  {
   "cell_type": "code",
   "execution_count": 24,
   "metadata": {},
   "outputs": [
    {
     "data": {
      "text/html": [
       "<div><div id=98ef247e-2ee0-49b0-89c7-faf39a1e23ae style=\"display:none; background-color:#9D6CFF; color:white; width:200px; height:30px; padding-left:5px; border-radius:4px; flex-direction:row; justify-content:space-around; align-items:center;\" onmouseover=\"this.style.backgroundColor='#BA9BF8'\" onmouseout=\"this.style.backgroundColor='#9D6CFF'\" onclick=\"window.commands?.execute('create-mitosheet-from-dataframe-output');\">See Full Dataframe in Mito</div> <script> if (window.commands?.hasCommand('create-mitosheet-from-dataframe-output')) document.getElementById('98ef247e-2ee0-49b0-89c7-faf39a1e23ae').style.display = 'flex' </script> <table border=\"1\" class=\"dataframe\">\n",
       "  <thead>\n",
       "    <tr style=\"text-align: right;\">\n",
       "      <th></th>\n",
       "      <th>Sample</th>\n",
       "      <th>sample_ID</th>\n",
       "      <th>SW_filtered</th>\n",
       "      <th>eluate_volume_mL</th>\n",
       "      <th>rna_extraction_vol_mL</th>\n",
       "      <th>RNA_conc_ng_µl</th>\n",
       "      <th>µl_RNA_used _for_start_LP</th>\n",
       "      <th>pre_dil</th>\n",
       "      <th>ng_RNA_used_for_start_LP</th>\n",
       "      <th>µl_ERCC_spike_1_1000</th>\n",
       "    </tr>\n",
       "  </thead>\n",
       "  <tbody>\n",
       "    <tr>\n",
       "      <th>0</th>\n",
       "      <td>1</td>\n",
       "      <td>A_130_S1</td>\n",
       "      <td>50.0</td>\n",
       "      <td>18.0</td>\n",
       "      <td>1.5</td>\n",
       "      <td>109.7</td>\n",
       "      <td>1.82</td>\n",
       "      <td>1.0</td>\n",
       "      <td>200.0</td>\n",
       "      <td>4.0</td>\n",
       "    </tr>\n",
       "    <tr>\n",
       "      <th>1</th>\n",
       "      <td>2</td>\n",
       "      <td>A_330_S2</td>\n",
       "      <td>50.0</td>\n",
       "      <td>18.0</td>\n",
       "      <td>6.0</td>\n",
       "      <td>354.0</td>\n",
       "      <td>1.13</td>\n",
       "      <td>2.0</td>\n",
       "      <td>200.0</td>\n",
       "      <td>4.0</td>\n",
       "    </tr>\n",
       "    <tr>\n",
       "      <th>2</th>\n",
       "      <td>3</td>\n",
       "      <td>A_780_S3</td>\n",
       "      <td>50.0</td>\n",
       "      <td>18.0</td>\n",
       "      <td>6.0</td>\n",
       "      <td>407.6</td>\n",
       "      <td>0.98</td>\n",
       "      <td>2.0</td>\n",
       "      <td>200.0</td>\n",
       "      <td>4.0</td>\n",
       "    </tr>\n",
       "    <tr>\n",
       "      <th>3</th>\n",
       "      <td>4</td>\n",
       "      <td>A_700_S4</td>\n",
       "      <td>50.0</td>\n",
       "      <td>18.0</td>\n",
       "      <td>6.0</td>\n",
       "      <td>652.0</td>\n",
       "      <td>0.61</td>\n",
       "      <td>2.0</td>\n",
       "      <td>200.0</td>\n",
       "      <td>4.0</td>\n",
       "    </tr>\n",
       "    <tr>\n",
       "      <th>4</th>\n",
       "      <td>5</td>\n",
       "      <td>A_120_S5</td>\n",
       "      <td>50.0</td>\n",
       "      <td>18.0</td>\n",
       "      <td>6.0</td>\n",
       "      <td>366.2</td>\n",
       "      <td>1.09</td>\n",
       "      <td>2.0</td>\n",
       "      <td>200.0</td>\n",
       "      <td>4.0</td>\n",
       "    </tr>\n",
       "  </tbody>\n",
       "</table></div>"
      ],
      "text/plain": [
       "  Sample sample_ID  SW_filtered  eluate_volume_mL  rna_extraction_vol_mL  \\\n",
       "0      1  A_130_S1         50.0              18.0                    1.5   \n",
       "1      2  A_330_S2         50.0              18.0                    6.0   \n",
       "2      3  A_780_S3         50.0              18.0                    6.0   \n",
       "3      4  A_700_S4         50.0              18.0                    6.0   \n",
       "4      5  A_120_S5         50.0              18.0                    6.0   \n",
       "\n",
       "   RNA_conc_ng_µl  µl_RNA_used _for_start_LP  pre_dil  \\\n",
       "0           109.7                       1.82      1.0   \n",
       "1           354.0                       1.13      2.0   \n",
       "2           407.6                       0.98      2.0   \n",
       "3           652.0                       0.61      2.0   \n",
       "4           366.2                       1.09      2.0   \n",
       "\n",
       "   ng_RNA_used_for_start_LP  µl_ERCC_spike_1_1000  \n",
       "0                     200.0                   4.0  \n",
       "1                     200.0                   4.0  \n",
       "2                     200.0                   4.0  \n",
       "3                     200.0                   4.0  \n",
       "4                     200.0                   4.0  "
      ]
     },
     "execution_count": 24,
     "metadata": {},
     "output_type": "execute_result"
    }
   ],
   "source": [
    "lab_info.head()"
   ]
  },
  {
   "cell_type": "code",
   "execution_count": 25,
   "metadata": {},
   "outputs": [],
   "source": [
    "# Merge both first to ensure correct sample order\n",
    "ERCC_normalisation = ERCC_normalisation.merge(lab_info[['sample_ID', 'SW_filtered', 'rna_extraction_vol_mL','eluate_volume_mL']], left_on='sample_ID', right_on='sample_ID')"
   ]
  },
  {
   "cell_type": "code",
   "execution_count": 26,
   "metadata": {},
   "outputs": [],
   "source": [
    "ERCC_normalisation['dilution_norm_factor'] = (1 / (ERCC_normalisation['SW_filtered'] * (ERCC_normalisation['rna_extraction_vol_mL'] / ERCC_normalisation['eluate_volume_mL'])))\n",
    "ERCC_normalisation = ERCC_normalisation.drop(columns=['SW_filtered', 'rna_extraction_vol_mL','eluate_volume_mL'])"
   ]
  },
  {
   "cell_type": "code",
   "execution_count": 27,
   "metadata": {},
   "outputs": [
    {
     "data": {
      "text/plain": [
       "<AxesSubplot:xlabel='dilution_norm_factor', ylabel='sample_ID'>"
      ]
     },
     "execution_count": 27,
     "metadata": {},
     "output_type": "execute_result"
    },
    {
     "data": {
      "image/png": "[encoded data removed]",
      "text/plain": [
       "<Figure size 576x1080 with 1 Axes>"
      ]
     },
     "metadata": {
      "needs_background": "light"
     },
     "output_type": "display_data"
    }
   ],
   "source": [
    "plt.figure(figsize=(8,15))\n",
    "sns.barplot(x='dilution_norm_factor', y='sample_ID', data=ERCC_normalisation)"
   ]
  },
  {
   "cell_type": "markdown",
   "metadata": {},
   "source": [
    "## Read normalisation"
   ]
  },
  {
   "cell_type": "markdown",
   "metadata": {},
   "source": [
    "Save normalisation factors into a csv file, and when handling raw reads one should multiply by these two to get reads per L!"
   ]
  },
  {
   "cell_type": "code",
   "execution_count": 28,
   "metadata": {},
   "outputs": [
    {
     "data": {
      "text/html": [
       "<div><div id=ca479dfd-a8d7-46f4-a72d-cd45ab8a154a style=\"display:none; background-color:#9D6CFF; color:white; width:200px; height:30px; padding-left:5px; border-radius:4px; flex-direction:row; justify-content:space-around; align-items:center;\" onmouseover=\"this.style.backgroundColor='#BA9BF8'\" onmouseout=\"this.style.backgroundColor='#9D6CFF'\" onclick=\"window.commands?.execute('create-mitosheet-from-dataframe-output');\">See Full Dataframe in Mito</div> <script> if (window.commands?.hasCommand('create-mitosheet-from-dataframe-output')) document.getElementById('ca479dfd-a8d7-46f4-a72d-cd45ab8a154a').style.display = 'flex' </script> <table border=\"1\" class=\"dataframe\">\n",
       "  <thead>\n",
       "    <tr style=\"text-align: right;\">\n",
       "      <th></th>\n",
       "      <th>sample_ID</th>\n",
       "      <th>ERCC_norm_factor</th>\n",
       "      <th>dilution_norm_factor</th>\n",
       "      <th>norm_factor</th>\n",
       "    </tr>\n",
       "  </thead>\n",
       "  <tbody>\n",
       "    <tr>\n",
       "      <th>0</th>\n",
       "      <td>1_130_S31</td>\n",
       "      <td>430.103511</td>\n",
       "      <td>0.045000</td>\n",
       "      <td>19.354658</td>\n",
       "    </tr>\n",
       "    <tr>\n",
       "      <th>1</th>\n",
       "      <td>1_330_S34</td>\n",
       "      <td>417.477541</td>\n",
       "      <td>0.045000</td>\n",
       "      <td>18.786489</td>\n",
       "    </tr>\n",
       "    <tr>\n",
       "      <th>2</th>\n",
       "      <td>1_700_S32</td>\n",
       "      <td>332.905906</td>\n",
       "      <td>0.051429</td>\n",
       "      <td>17.120875</td>\n",
       "    </tr>\n",
       "    <tr>\n",
       "      <th>3</th>\n",
       "      <td>1_780_S33</td>\n",
       "      <td>378.758385</td>\n",
       "      <td>0.047368</td>\n",
       "      <td>17.941187</td>\n",
       "    </tr>\n",
       "    <tr>\n",
       "      <th>4</th>\n",
       "      <td>1_ZG02_S35</td>\n",
       "      <td>410.956789</td>\n",
       "      <td>0.030000</td>\n",
       "      <td>12.328704</td>\n",
       "    </tr>\n",
       "  </tbody>\n",
       "</table></div>"
      ],
      "text/plain": [
       "    sample_ID  ERCC_norm_factor  dilution_norm_factor  norm_factor\n",
       "0   1_130_S31        430.103511              0.045000    19.354658\n",
       "1   1_330_S34        417.477541              0.045000    18.786489\n",
       "2   1_700_S32        332.905906              0.051429    17.120875\n",
       "3   1_780_S33        378.758385              0.047368    17.941187\n",
       "4  1_ZG02_S35        410.956789              0.030000    12.328704"
      ]
     },
     "execution_count": 28,
     "metadata": {},
     "output_type": "execute_result"
    }
   ],
   "source": [
    "ERCC_normalisation['norm_factor'] = ERCC_normalisation['ERCC_norm_factor'] * ERCC_normalisation['dilution_norm_factor']\n",
    "#ERCC_normalisation.to_csv('data/normalisation_reads_per_L.csv')\n",
    "ERCC_normalisation.head()"
   ]
  },
  {
   "cell_type": "code",
   "execution_count": 29,
   "metadata": {},
   "outputs": [
    {
     "data": {
      "text/plain": [
       "<AxesSubplot:xlabel='norm_factor', ylabel='sample_ID'>"
      ]
     },
     "execution_count": 29,
     "metadata": {},
     "output_type": "execute_result"
    },
    {
     "data": {
      "image/png": "[encoded data removed]",
      "text/plain": [
       "<Figure size 576x1080 with 1 Axes>"
      ]
     },
     "metadata": {
      "needs_background": "light"
     },
     "output_type": "display_data"
    }
   ],
   "source": [
    "plt.figure(figsize=(8,15))\n",
    "sns.barplot(x='norm_factor', y='sample_ID', data=ERCC_normalisation)"
   ]
  },
  {
   "cell_type": "markdown",
   "metadata": {},
   "source": [
    "## Normalisation of TPM values"
   ]
  },
  {
   "attachments": {},
   "cell_type": "markdown",
   "metadata": {},
   "source": [
    "Now the question is: starting from the TPM counts, how are these best normalized so they can be used in analyses? \n",
    "We could use the techniques implemented in EdgeR, or DESeq2, but these are more suited for obtaining differential expression of two closely related ecosystems. Since all samples here are potentially very different, we should implement different normalizations. One could be scaling all samples to unit norm, or scaling to the median TPM value. I'm not sure what the best approach is here, since 0 inflation could have very big effects on the median."
   ]
  },
  {
   "cell_type": "code",
   "execution_count": 30,
   "metadata": {},
   "outputs": [
    {
     "ename": "NameError",
     "evalue": "name 'data' is not defined",
     "output_type": "error",
     "traceback": [
      "\u001b[0;31m---------------------------------------------------------------------------\u001b[0m",
      "\u001b[0;31mNameError\u001b[0m                                 Traceback (most recent call last)",
      "\u001b[1;32m/Users/michiel/gitlab/BPNS_seasonal_MTX/scripts/analysis/SpikeIn_analysis_Normalisation.ipynb Cell 53\u001b[0m in \u001b[0;36m<cell line: 3>\u001b[0;34m()\u001b[0m\n\u001b[1;32m      <a href='vscode-notebook-cell:/Users/michiel/gitlab/BPNS_seasonal_MTX/scripts/analysis/SpikeIn_analysis_Normalisation.ipynb#Y103sZmlsZQ%3D%3D?line=0'>1</a>\u001b[0m \u001b[39m# Preprocess the data\u001b[39;00m\n\u001b[1;32m      <a href='vscode-notebook-cell:/Users/michiel/gitlab/BPNS_seasonal_MTX/scripts/analysis/SpikeIn_analysis_Normalisation.ipynb#Y103sZmlsZQ%3D%3D?line=1'>2</a>\u001b[0m \u001b[39m## Set LLD to 1 TPM, all counts below this value are set to 0\u001b[39;00m\n\u001b[0;32m----> <a href='vscode-notebook-cell:/Users/michiel/gitlab/BPNS_seasonal_MTX/scripts/analysis/SpikeIn_analysis_Normalisation.ipynb#Y103sZmlsZQ%3D%3D?line=2'>3</a>\u001b[0m data[data \u001b[39m<\u001b[39m \u001b[39m1\u001b[39m] \u001b[39m=\u001b[39m \u001b[39m0\u001b[39m\n\u001b[1;32m      <a href='vscode-notebook-cell:/Users/michiel/gitlab/BPNS_seasonal_MTX/scripts/analysis/SpikeIn_analysis_Normalisation.ipynb#Y103sZmlsZQ%3D%3D?line=4'>5</a>\u001b[0m \u001b[39m## Remove rows with all 0 values\u001b[39;00m\n\u001b[1;32m      <a href='vscode-notebook-cell:/Users/michiel/gitlab/BPNS_seasonal_MTX/scripts/analysis/SpikeIn_analysis_Normalisation.ipynb#Y103sZmlsZQ%3D%3D?line=5'>6</a>\u001b[0m data \u001b[39m=\u001b[39m data\u001b[39m.\u001b[39mloc[(data\u001b[39m!=\u001b[39m\u001b[39m0\u001b[39m)\u001b[39m.\u001b[39many(axis\u001b[39m=\u001b[39m\u001b[39m1\u001b[39m)]\n",
      "\u001b[0;31mNameError\u001b[0m: name 'data' is not defined"
     ]
    }
   ],
   "source": [
    "# Preprocess the data\n",
    "## Set LLD to 1 TPM, all counts below this value are set to 0\n",
    "data[data < 1] = 0\n",
    "\n",
    "## Remove rows with all 0 values\n",
    "data = data.loc[(data!=0).any(axis=1)]\n",
    "\n",
    "# Preprocess data by scaling features: removing the mean and scale to unit variance.\n",
    "## This needs the data to be in the format: (samples, features)\n",
    "## We'll transpose to scale and normalize the data in the correct format\n",
    "data_scaled = StandardScaler().fit_transform(data.T.to_numpy())\n",
    "  \n",
    "# Now, normalize samples by scaling each sample to unit norm.\n",
    "data_normalized = normalize(data_scaled) "
   ]
  },
  {
   "cell_type": "markdown",
   "metadata": {},
   "source": [
    "## Transcripts per L"
   ]
  },
  {
   "cell_type": "markdown",
   "metadata": {},
   "source": [
    "Now we'll use the calculated normalisation factors to create the transcripts per L of seawater dataframe."
   ]
  },
  {
   "cell_type": "code",
   "execution_count": 31,
   "metadata": {},
   "outputs": [],
   "source": [
    "gene_expression =  pd.read_csv('../../data/kallisto/tpm.csv', engine='pyarrow')"
   ]
  },
  {
   "cell_type": "code",
   "execution_count": 32,
   "metadata": {},
   "outputs": [
    {
     "data": {
      "text/html": [
       "<div><div id=260f3f14-afcb-447a-b8c2-4fb9d3d40d46 style=\"display:none; background-color:#9D6CFF; color:white; width:200px; height:30px; padding-left:5px; border-radius:4px; flex-direction:row; justify-content:space-around; align-items:center;\" onmouseover=\"this.style.backgroundColor='#BA9BF8'\" onmouseout=\"this.style.backgroundColor='#9D6CFF'\" onclick=\"window.commands?.execute('create-mitosheet-from-dataframe-output');\">See Full Dataframe in Mito</div> <script> if (window.commands?.hasCommand('create-mitosheet-from-dataframe-output')) document.getElementById('260f3f14-afcb-447a-b8c2-4fb9d3d40d46').style.display = 'flex' </script> <table border=\"1\" class=\"dataframe\">\n",
       "  <thead>\n",
       "    <tr style=\"text-align: right;\">\n",
       "      <th></th>\n",
       "      <th>target_id</th>\n",
       "      <th>B_120_S11</th>\n",
       "      <th>5_120_S50</th>\n",
       "      <th>A_780_S3</th>\n",
       "      <th>5_130_S45</th>\n",
       "      <th>C_ZG02_S17</th>\n",
       "      <th>C_780_S15</th>\n",
       "      <th>2_700_S37</th>\n",
       "      <th>4_120_S44</th>\n",
       "      <th>2_120_S40</th>\n",
       "      <th>...</th>\n",
       "      <th>C_130_S13</th>\n",
       "      <th>A_120_S5</th>\n",
       "      <th>A_700_S4</th>\n",
       "      <th>B_330_S8</th>\n",
       "      <th>F_700_S26</th>\n",
       "      <th>E_ZG02_S24</th>\n",
       "      <th>7_130_S57</th>\n",
       "      <th>E_130_S19</th>\n",
       "      <th>1_ZG02_S35</th>\n",
       "      <th>B_780_S9</th>\n",
       "    </tr>\n",
       "  </thead>\n",
       "  <tbody>\n",
       "    <tr>\n",
       "      <th>0</th>\n",
       "      <td>c_000000000001</td>\n",
       "      <td>0.233985</td>\n",
       "      <td>0.0</td>\n",
       "      <td>0.0</td>\n",
       "      <td>0.0</td>\n",
       "      <td>0.0</td>\n",
       "      <td>0.776557</td>\n",
       "      <td>0.0</td>\n",
       "      <td>0.0</td>\n",
       "      <td>0.0</td>\n",
       "      <td>...</td>\n",
       "      <td>0.0</td>\n",
       "      <td>0.0</td>\n",
       "      <td>0.0</td>\n",
       "      <td>0.0</td>\n",
       "      <td>0.0</td>\n",
       "      <td>0.445188</td>\n",
       "      <td>0.0</td>\n",
       "      <td>0.000000</td>\n",
       "      <td>0.0</td>\n",
       "      <td>0.0</td>\n",
       "    </tr>\n",
       "    <tr>\n",
       "      <th>1</th>\n",
       "      <td>c_000000000002</td>\n",
       "      <td>0.000000</td>\n",
       "      <td>0.0</td>\n",
       "      <td>0.0</td>\n",
       "      <td>0.0</td>\n",
       "      <td>0.0</td>\n",
       "      <td>0.000000</td>\n",
       "      <td>0.0</td>\n",
       "      <td>0.0</td>\n",
       "      <td>0.0</td>\n",
       "      <td>...</td>\n",
       "      <td>0.0</td>\n",
       "      <td>0.0</td>\n",
       "      <td>0.0</td>\n",
       "      <td>0.0</td>\n",
       "      <td>0.0</td>\n",
       "      <td>0.000000</td>\n",
       "      <td>0.0</td>\n",
       "      <td>0.000000</td>\n",
       "      <td>0.0</td>\n",
       "      <td>0.0</td>\n",
       "    </tr>\n",
       "    <tr>\n",
       "      <th>2</th>\n",
       "      <td>c_000000000003</td>\n",
       "      <td>0.000000</td>\n",
       "      <td>0.0</td>\n",
       "      <td>0.0</td>\n",
       "      <td>0.0</td>\n",
       "      <td>0.0</td>\n",
       "      <td>0.000000</td>\n",
       "      <td>0.0</td>\n",
       "      <td>0.0</td>\n",
       "      <td>0.0</td>\n",
       "      <td>...</td>\n",
       "      <td>0.0</td>\n",
       "      <td>0.0</td>\n",
       "      <td>0.0</td>\n",
       "      <td>0.0</td>\n",
       "      <td>0.0</td>\n",
       "      <td>0.000000</td>\n",
       "      <td>0.0</td>\n",
       "      <td>0.000000</td>\n",
       "      <td>0.0</td>\n",
       "      <td>0.0</td>\n",
       "    </tr>\n",
       "    <tr>\n",
       "      <th>3</th>\n",
       "      <td>c_000000000004</td>\n",
       "      <td>0.000000</td>\n",
       "      <td>0.0</td>\n",
       "      <td>0.0</td>\n",
       "      <td>0.0</td>\n",
       "      <td>0.0</td>\n",
       "      <td>0.000000</td>\n",
       "      <td>0.0</td>\n",
       "      <td>0.0</td>\n",
       "      <td>0.0</td>\n",
       "      <td>...</td>\n",
       "      <td>0.0</td>\n",
       "      <td>0.0</td>\n",
       "      <td>0.0</td>\n",
       "      <td>0.0</td>\n",
       "      <td>0.0</td>\n",
       "      <td>0.000000</td>\n",
       "      <td>0.0</td>\n",
       "      <td>0.000000</td>\n",
       "      <td>0.0</td>\n",
       "      <td>0.0</td>\n",
       "    </tr>\n",
       "    <tr>\n",
       "      <th>4</th>\n",
       "      <td>c_000000000005</td>\n",
       "      <td>0.000000</td>\n",
       "      <td>0.0</td>\n",
       "      <td>0.0</td>\n",
       "      <td>0.0</td>\n",
       "      <td>0.0</td>\n",
       "      <td>0.000000</td>\n",
       "      <td>0.0</td>\n",
       "      <td>0.0</td>\n",
       "      <td>0.0</td>\n",
       "      <td>...</td>\n",
       "      <td>0.0</td>\n",
       "      <td>0.0</td>\n",
       "      <td>0.0</td>\n",
       "      <td>0.0</td>\n",
       "      <td>0.0</td>\n",
       "      <td>0.000000</td>\n",
       "      <td>0.0</td>\n",
       "      <td>0.204867</td>\n",
       "      <td>0.0</td>\n",
       "      <td>0.0</td>\n",
       "    </tr>\n",
       "  </tbody>\n",
       "</table></div>"
      ],
      "text/plain": [
       "        target_id  B_120_S11  5_120_S50  A_780_S3  5_130_S45  C_ZG02_S17  \\\n",
       "0  c_000000000001   0.233985        0.0       0.0        0.0         0.0   \n",
       "1  c_000000000002   0.000000        0.0       0.0        0.0         0.0   \n",
       "2  c_000000000003   0.000000        0.0       0.0        0.0         0.0   \n",
       "3  c_000000000004   0.000000        0.0       0.0        0.0         0.0   \n",
       "4  c_000000000005   0.000000        0.0       0.0        0.0         0.0   \n",
       "\n",
       "   C_780_S15  2_700_S37  4_120_S44  2_120_S40  ...  C_130_S13  A_120_S5  \\\n",
       "0   0.776557        0.0        0.0        0.0  ...        0.0       0.0   \n",
       "1   0.000000        0.0        0.0        0.0  ...        0.0       0.0   \n",
       "2   0.000000        0.0        0.0        0.0  ...        0.0       0.0   \n",
       "3   0.000000        0.0        0.0        0.0  ...        0.0       0.0   \n",
       "4   0.000000        0.0        0.0        0.0  ...        0.0       0.0   \n",
       "\n",
       "   A_700_S4  B_330_S8  F_700_S26  E_ZG02_S24  7_130_S57  E_130_S19  \\\n",
       "0       0.0       0.0        0.0    0.445188        0.0   0.000000   \n",
       "1       0.0       0.0        0.0    0.000000        0.0   0.000000   \n",
       "2       0.0       0.0        0.0    0.000000        0.0   0.000000   \n",
       "3       0.0       0.0        0.0    0.000000        0.0   0.000000   \n",
       "4       0.0       0.0        0.0    0.000000        0.0   0.204867   \n",
       "\n",
       "   1_ZG02_S35  B_780_S9  \n",
       "0         0.0       0.0  \n",
       "1         0.0       0.0  \n",
       "2         0.0       0.0  \n",
       "3         0.0       0.0  \n",
       "4         0.0       0.0  \n",
       "\n",
       "[5 rows x 63 columns]"
      ]
     },
     "execution_count": 32,
     "metadata": {},
     "output_type": "execute_result"
    }
   ],
   "source": [
    "gene_expression.head()"
   ]
  },
  {
   "cell_type": "code",
   "execution_count": 33,
   "metadata": {},
   "outputs": [
    {
     "data": {
      "text/plain": [
       "(7113509, 63)"
      ]
     },
     "execution_count": 33,
     "metadata": {},
     "output_type": "execute_result"
    }
   ],
   "source": [
    "# Check if all samples are present\n",
    "gene_expression.shape"
   ]
  },
  {
   "cell_type": "code",
   "execution_count": 34,
   "metadata": {},
   "outputs": [],
   "source": [
    "# melt the data to long format \n",
    "gene_expression = gene_expression.melt(id_vars=['target_id'], var_name=['sample_ID'], value_name='TPM')"
   ]
  },
  {
   "cell_type": "code",
   "execution_count": 35,
   "metadata": {},
   "outputs": [
    {
     "data": {
      "text/html": [
       "<div><div id=7e66fe2a-2c79-4c96-8e2f-84591cb7faaa style=\"display:none; background-color:#9D6CFF; color:white; width:200px; height:30px; padding-left:5px; border-radius:4px; flex-direction:row; justify-content:space-around; align-items:center;\" onmouseover=\"this.style.backgroundColor='#BA9BF8'\" onmouseout=\"this.style.backgroundColor='#9D6CFF'\" onclick=\"window.commands?.execute('create-mitosheet-from-dataframe-output');\">See Full Dataframe in Mito</div> <script> if (window.commands?.hasCommand('create-mitosheet-from-dataframe-output')) document.getElementById('7e66fe2a-2c79-4c96-8e2f-84591cb7faaa').style.display = 'flex' </script> <table border=\"1\" class=\"dataframe\">\n",
       "  <thead>\n",
       "    <tr style=\"text-align: right;\">\n",
       "      <th></th>\n",
       "      <th>target_id</th>\n",
       "      <th>sample_ID</th>\n",
       "      <th>TPM</th>\n",
       "    </tr>\n",
       "  </thead>\n",
       "  <tbody>\n",
       "    <tr>\n",
       "      <th>0</th>\n",
       "      <td>c_000000000001</td>\n",
       "      <td>B_120_S11</td>\n",
       "      <td>0.233985</td>\n",
       "    </tr>\n",
       "    <tr>\n",
       "      <th>1</th>\n",
       "      <td>c_000000000002</td>\n",
       "      <td>B_120_S11</td>\n",
       "      <td>0.000000</td>\n",
       "    </tr>\n",
       "    <tr>\n",
       "      <th>2</th>\n",
       "      <td>c_000000000003</td>\n",
       "      <td>B_120_S11</td>\n",
       "      <td>0.000000</td>\n",
       "    </tr>\n",
       "    <tr>\n",
       "      <th>3</th>\n",
       "      <td>c_000000000004</td>\n",
       "      <td>B_120_S11</td>\n",
       "      <td>0.000000</td>\n",
       "    </tr>\n",
       "    <tr>\n",
       "      <th>4</th>\n",
       "      <td>c_000000000005</td>\n",
       "      <td>B_120_S11</td>\n",
       "      <td>0.000000</td>\n",
       "    </tr>\n",
       "  </tbody>\n",
       "</table></div>"
      ],
      "text/plain": [
       "        target_id  sample_ID       TPM\n",
       "0  c_000000000001  B_120_S11  0.233985\n",
       "1  c_000000000002  B_120_S11  0.000000\n",
       "2  c_000000000003  B_120_S11  0.000000\n",
       "3  c_000000000004  B_120_S11  0.000000\n",
       "4  c_000000000005  B_120_S11  0.000000"
      ]
     },
     "execution_count": 35,
     "metadata": {},
     "output_type": "execute_result"
    }
   ],
   "source": [
    "gene_expression.head()"
   ]
  },
  {
   "cell_type": "code",
   "execution_count": 36,
   "metadata": {},
   "outputs": [],
   "source": [
    "# Normalise each transcripts per TPM with the normalisation factor for that sample\n",
    "gene_expression = gene_expression.merge(ERCC_normalisation[['sample_ID', 'norm_factor']], left_on='sample_ID', right_on='sample_ID', how='outer')\n",
    "gene_expression['transcripts_per_L'] = gene_expression['TPM'] * gene_expression['norm_factor']"
   ]
  },
  {
   "cell_type": "code",
   "execution_count": 37,
   "metadata": {},
   "outputs": [],
   "source": [
    "# Transform data to wide format\n",
    "transcripts_per_L = gene_expression[['target_id', 'sample_ID', 'transcripts_per_L']].pivot(index='target_id', columns='sample_ID', values='transcripts_per_L')"
   ]
  },
  {
   "cell_type": "code",
   "execution_count": 38,
   "metadata": {},
   "outputs": [
    {
     "data": {
      "text/html": [
       "<div><div id=393a2e5a-633f-4c04-8c2f-50f70db8ea60 style=\"display:none; background-color:#9D6CFF; color:white; width:200px; height:30px; padding-left:5px; border-radius:4px; flex-direction:row; justify-content:space-around; align-items:center;\" onmouseover=\"this.style.backgroundColor='#BA9BF8'\" onmouseout=\"this.style.backgroundColor='#9D6CFF'\" onclick=\"window.commands?.execute('create-mitosheet-from-dataframe-output');\">See Full Dataframe in Mito</div> <script> if (window.commands?.hasCommand('create-mitosheet-from-dataframe-output')) document.getElementById('393a2e5a-633f-4c04-8c2f-50f70db8ea60').style.display = 'flex' </script> <table border=\"1\" class=\"dataframe\">\n",
       "  <thead>\n",
       "    <tr style=\"text-align: right;\">\n",
       "      <th>sample_ID</th>\n",
       "      <th>1_130_S31</th>\n",
       "      <th>1_330_S34</th>\n",
       "      <th>1_700_S32</th>\n",
       "      <th>1_780_S33</th>\n",
       "      <th>1_ZG02_S35</th>\n",
       "      <th>2_120_S40</th>\n",
       "      <th>2_130_S36</th>\n",
       "      <th>2_330_S39</th>\n",
       "      <th>2_700_S37</th>\n",
       "      <th>2_780_S38</th>\n",
       "      <th>...</th>\n",
       "      <th>E_330_S22</th>\n",
       "      <th>E_700_S20</th>\n",
       "      <th>E_780_S21</th>\n",
       "      <th>E_ZG02_S24</th>\n",
       "      <th>F_120_S29</th>\n",
       "      <th>F_130_S25</th>\n",
       "      <th>F_330_S28</th>\n",
       "      <th>F_700_S26</th>\n",
       "      <th>F_780_S27</th>\n",
       "      <th>F_ZG02_S30</th>\n",
       "    </tr>\n",
       "    <tr>\n",
       "      <th>target_id</th>\n",
       "      <th></th>\n",
       "      <th></th>\n",
       "      <th></th>\n",
       "      <th></th>\n",
       "      <th></th>\n",
       "      <th></th>\n",
       "      <th></th>\n",
       "      <th></th>\n",
       "      <th></th>\n",
       "      <th></th>\n",
       "      <th></th>\n",
       "      <th></th>\n",
       "      <th></th>\n",
       "      <th></th>\n",
       "      <th></th>\n",
       "      <th></th>\n",
       "      <th></th>\n",
       "      <th></th>\n",
       "      <th></th>\n",
       "      <th></th>\n",
       "      <th></th>\n",
       "    </tr>\n",
       "  </thead>\n",
       "  <tbody>\n",
       "    <tr>\n",
       "      <th>c_000000000001</th>\n",
       "      <td>0.0</td>\n",
       "      <td>19.55279</td>\n",
       "      <td>0.0</td>\n",
       "      <td>0.0</td>\n",
       "      <td>0.0</td>\n",
       "      <td>0.0</td>\n",
       "      <td>0.0</td>\n",
       "      <td>0.000000</td>\n",
       "      <td>0.0</td>\n",
       "      <td>0.0</td>\n",
       "      <td>...</td>\n",
       "      <td>13.722839</td>\n",
       "      <td>0.0</td>\n",
       "      <td>4.452536</td>\n",
       "      <td>6.473213</td>\n",
       "      <td>0.0</td>\n",
       "      <td>0.0</td>\n",
       "      <td>0.0</td>\n",
       "      <td>0.0</td>\n",
       "      <td>7.831663</td>\n",
       "      <td>0.000000</td>\n",
       "    </tr>\n",
       "    <tr>\n",
       "      <th>c_000000000002</th>\n",
       "      <td>0.0</td>\n",
       "      <td>0.00000</td>\n",
       "      <td>0.0</td>\n",
       "      <td>0.0</td>\n",
       "      <td>0.0</td>\n",
       "      <td>0.0</td>\n",
       "      <td>0.0</td>\n",
       "      <td>0.000000</td>\n",
       "      <td>0.0</td>\n",
       "      <td>0.0</td>\n",
       "      <td>...</td>\n",
       "      <td>0.000000</td>\n",
       "      <td>0.0</td>\n",
       "      <td>0.000000</td>\n",
       "      <td>0.000000</td>\n",
       "      <td>0.0</td>\n",
       "      <td>0.0</td>\n",
       "      <td>0.0</td>\n",
       "      <td>0.0</td>\n",
       "      <td>1.957913</td>\n",
       "      <td>2.053871</td>\n",
       "    </tr>\n",
       "    <tr>\n",
       "      <th>c_000000000003</th>\n",
       "      <td>0.0</td>\n",
       "      <td>0.00000</td>\n",
       "      <td>0.0</td>\n",
       "      <td>0.0</td>\n",
       "      <td>0.0</td>\n",
       "      <td>0.0</td>\n",
       "      <td>0.0</td>\n",
       "      <td>0.000000</td>\n",
       "      <td>0.0</td>\n",
       "      <td>0.0</td>\n",
       "      <td>...</td>\n",
       "      <td>0.000000</td>\n",
       "      <td>0.0</td>\n",
       "      <td>0.000000</td>\n",
       "      <td>0.000000</td>\n",
       "      <td>0.0</td>\n",
       "      <td>0.0</td>\n",
       "      <td>0.0</td>\n",
       "      <td>0.0</td>\n",
       "      <td>0.000000</td>\n",
       "      <td>0.000000</td>\n",
       "    </tr>\n",
       "    <tr>\n",
       "      <th>c_000000000004</th>\n",
       "      <td>0.0</td>\n",
       "      <td>0.00000</td>\n",
       "      <td>0.0</td>\n",
       "      <td>0.0</td>\n",
       "      <td>0.0</td>\n",
       "      <td>0.0</td>\n",
       "      <td>0.0</td>\n",
       "      <td>0.000000</td>\n",
       "      <td>0.0</td>\n",
       "      <td>0.0</td>\n",
       "      <td>...</td>\n",
       "      <td>4.535230</td>\n",
       "      <td>0.0</td>\n",
       "      <td>0.000000</td>\n",
       "      <td>0.000000</td>\n",
       "      <td>0.0</td>\n",
       "      <td>0.0</td>\n",
       "      <td>0.0</td>\n",
       "      <td>0.0</td>\n",
       "      <td>0.000000</td>\n",
       "      <td>0.000000</td>\n",
       "    </tr>\n",
       "    <tr>\n",
       "      <th>c_000000000005</th>\n",
       "      <td>0.0</td>\n",
       "      <td>0.00000</td>\n",
       "      <td>0.0</td>\n",
       "      <td>0.0</td>\n",
       "      <td>0.0</td>\n",
       "      <td>0.0</td>\n",
       "      <td>0.0</td>\n",
       "      <td>7.987534</td>\n",
       "      <td>0.0</td>\n",
       "      <td>0.0</td>\n",
       "      <td>...</td>\n",
       "      <td>0.000000</td>\n",
       "      <td>0.0</td>\n",
       "      <td>0.000000</td>\n",
       "      <td>0.000000</td>\n",
       "      <td>0.0</td>\n",
       "      <td>0.0</td>\n",
       "      <td>0.0</td>\n",
       "      <td>0.0</td>\n",
       "      <td>0.000000</td>\n",
       "      <td>0.000000</td>\n",
       "    </tr>\n",
       "  </tbody>\n",
       "</table></div>"
      ],
      "text/plain": [
       "sample_ID       1_130_S31  1_330_S34  1_700_S32  1_780_S33  1_ZG02_S35  \\\n",
       "target_id                                                                \n",
       "c_000000000001        0.0   19.55279        0.0        0.0         0.0   \n",
       "c_000000000002        0.0    0.00000        0.0        0.0         0.0   \n",
       "c_000000000003        0.0    0.00000        0.0        0.0         0.0   \n",
       "c_000000000004        0.0    0.00000        0.0        0.0         0.0   \n",
       "c_000000000005        0.0    0.00000        0.0        0.0         0.0   \n",
       "\n",
       "sample_ID       2_120_S40  2_130_S36  2_330_S39  2_700_S37  2_780_S38  ...  \\\n",
       "target_id                                                              ...   \n",
       "c_000000000001        0.0        0.0   0.000000        0.0        0.0  ...   \n",
       "c_000000000002        0.0        0.0   0.000000        0.0        0.0  ...   \n",
       "c_000000000003        0.0        0.0   0.000000        0.0        0.0  ...   \n",
       "c_000000000004        0.0        0.0   0.000000        0.0        0.0  ...   \n",
       "c_000000000005        0.0        0.0   7.987534        0.0        0.0  ...   \n",
       "\n",
       "sample_ID       E_330_S22  E_700_S20  E_780_S21  E_ZG02_S24  F_120_S29  \\\n",
       "target_id                                                                \n",
       "c_000000000001  13.722839        0.0   4.452536    6.473213        0.0   \n",
       "c_000000000002   0.000000        0.0   0.000000    0.000000        0.0   \n",
       "c_000000000003   0.000000        0.0   0.000000    0.000000        0.0   \n",
       "c_000000000004   4.535230        0.0   0.000000    0.000000        0.0   \n",
       "c_000000000005   0.000000        0.0   0.000000    0.000000        0.0   \n",
       "\n",
       "sample_ID       F_130_S25  F_330_S28  F_700_S26  F_780_S27  F_ZG02_S30  \n",
       "target_id                                                               \n",
       "c_000000000001        0.0        0.0        0.0   7.831663    0.000000  \n",
       "c_000000000002        0.0        0.0        0.0   1.957913    2.053871  \n",
       "c_000000000003        0.0        0.0        0.0   0.000000    0.000000  \n",
       "c_000000000004        0.0        0.0        0.0   0.000000    0.000000  \n",
       "c_000000000005        0.0        0.0        0.0   0.000000    0.000000  \n",
       "\n",
       "[5 rows x 62 columns]"
      ]
     },
     "execution_count": 38,
     "metadata": {},
     "output_type": "execute_result"
    }
   ],
   "source": [
    "# Check\n",
    "transcripts_per_L.head()"
   ]
  },
  {
   "cell_type": "code",
   "execution_count": 39,
   "metadata": {},
   "outputs": [],
   "source": [
    "# Save the transformed data\n",
    "transcripts_per_L.to_csv('../../data/kallisto/transcripts_per_L.csv')"
   ]
  },
  {
   "cell_type": "code",
   "execution_count": 40,
   "metadata": {},
   "outputs": [],
   "source": [
    "# Plot total transcripts per L per month\n",
    "\n",
    "# Sum spatial samples together per month\n",
    "july_2020 = ['A_120_S5', 'A_130_S1', 'A_330_S2','A_700_S4', 'A_780_S3', 'A_ZGO2_S6']\n",
    "august_2020 = ['B_120_S11', 'B_130_S7', 'B_330_S8', 'B_700_S10', 'B_780_S9', 'B_ZG02_S12']\n",
    "september_2020 = ['C_120_S18','C_130_S13', 'C_330_S16', 'C_700_S14', 'C_780_S15', 'C_ZG02_S17'] \n",
    "november_2020 = ['E_120_S23', 'E_130_S19', 'E_330_S22', 'E_700_S20', 'E_780_S21', 'E_ZG02_S24']\n",
    "december_2020 = ['F_120_S29', 'F_130_S25', 'F_330_S28', 'F_700_S26', 'F_780_S27', 'F_ZG02_S30']\n",
    "january_2021 =  ['1_130_S31', '1_330_S34', '1_700_S32', '1_780_S33', '1_ZG02_S35']\n",
    "february_2021 = ['2_120_S40', '2_130_S36', '2_330_S39', '2_700_S37', '2_780_S38']\n",
    "april_2021 = ['4_120_S44', '4_130_S41', '4_330_S42', '4_ZG02_S43']\n",
    "may_2021 = ['5_120_S50','5_130_S45', '5_330_S48', '5_700_S46', '5_780_S47', '5_ZG02_S49']\n",
    "june_2021 = ['6_120_S55', '6_130_S51', '6_330_S52', '6_700_S53', '6_780_S54', '6_ZG02_S56']\n",
    "july_2021 = ['7_120_S61', '7_130_S57', '7_330_S58', '7_700_S59','7_780_S60', '7_ZG02_S62']\n",
    "\n",
    "# Sum columns together into new dataframe\n",
    "transcripts_per_L_monthsum = pd.DataFrame()\n",
    "transcripts_per_L_monthsum['july_2020'] = transcripts_per_L[july_2020].sum(axis=1)\n",
    "transcripts_per_L_monthsum['august_2020'] = transcripts_per_L[august_2020].sum(axis=1)\n",
    "transcripts_per_L_monthsum['september_2020'] = transcripts_per_L[september_2020].sum(axis=1)\n",
    "transcripts_per_L_monthsum['november_2020'] = transcripts_per_L[november_2020].sum(axis=1)\n",
    "transcripts_per_L_monthsum['december_2020'] = transcripts_per_L[december_2020].sum(axis=1)\n",
    "transcripts_per_L_monthsum['january_2021'] = transcripts_per_L[january_2021].sum(axis=1)\n",
    "transcripts_per_L_monthsum['february_2021'] = transcripts_per_L[february_2021].sum(axis=1)\n",
    "transcripts_per_L_monthsum['april_2021'] = transcripts_per_L[april_2021].sum(axis=1)\n",
    "transcripts_per_L_monthsum['may_2021'] = transcripts_per_L[may_2021].sum(axis=1)\n",
    "transcripts_per_L_monthsum['june_2021'] = transcripts_per_L[june_2021].sum(axis=1)\n",
    "transcripts_per_L_monthsum['july_2021'] = transcripts_per_L[july_2021].sum(axis=1)"
   ]
  },
  {
   "cell_type": "code",
   "execution_count": 41,
   "metadata": {},
   "outputs": [
    {
     "data": {
      "text/html": [
       "<div><div id=bb1829f0-62dc-47ac-81fd-6a6197fe8ec0 style=\"display:none; background-color:#9D6CFF; color:white; width:200px; height:30px; padding-left:5px; border-radius:4px; flex-direction:row; justify-content:space-around; align-items:center;\" onmouseover=\"this.style.backgroundColor='#BA9BF8'\" onmouseout=\"this.style.backgroundColor='#9D6CFF'\" onclick=\"window.commands?.execute('create-mitosheet-from-dataframe-output');\">See Full Dataframe in Mito</div> <script> if (window.commands?.hasCommand('create-mitosheet-from-dataframe-output')) document.getElementById('bb1829f0-62dc-47ac-81fd-6a6197fe8ec0').style.display = 'flex' </script> <table border=\"1\" class=\"dataframe\">\n",
       "  <thead>\n",
       "    <tr style=\"text-align: right;\">\n",
       "      <th></th>\n",
       "      <th>july_2020</th>\n",
       "      <th>august_2020</th>\n",
       "      <th>september_2020</th>\n",
       "      <th>november_2020</th>\n",
       "      <th>december_2020</th>\n",
       "      <th>january_2021</th>\n",
       "      <th>february_2021</th>\n",
       "      <th>april_2021</th>\n",
       "      <th>may_2021</th>\n",
       "      <th>june_2021</th>\n",
       "      <th>july_2021</th>\n",
       "    </tr>\n",
       "    <tr>\n",
       "      <th>target_id</th>\n",
       "      <th></th>\n",
       "      <th></th>\n",
       "      <th></th>\n",
       "      <th></th>\n",
       "      <th></th>\n",
       "      <th></th>\n",
       "      <th></th>\n",
       "      <th></th>\n",
       "      <th></th>\n",
       "      <th></th>\n",
       "      <th></th>\n",
       "    </tr>\n",
       "  </thead>\n",
       "  <tbody>\n",
       "    <tr>\n",
       "      <th>c_000000000001</th>\n",
       "      <td>0.000000</td>\n",
       "      <td>25.659613</td>\n",
       "      <td>30.637768</td>\n",
       "      <td>24.648589</td>\n",
       "      <td>7.831663</td>\n",
       "      <td>19.55279</td>\n",
       "      <td>0.000000</td>\n",
       "      <td>0.0</td>\n",
       "      <td>0.00000</td>\n",
       "      <td>38.595151</td>\n",
       "      <td>7.491231</td>\n",
       "    </tr>\n",
       "    <tr>\n",
       "      <th>c_000000000002</th>\n",
       "      <td>0.000000</td>\n",
       "      <td>8.749391</td>\n",
       "      <td>0.000000</td>\n",
       "      <td>0.000000</td>\n",
       "      <td>4.011784</td>\n",
       "      <td>0.00000</td>\n",
       "      <td>0.000000</td>\n",
       "      <td>0.0</td>\n",
       "      <td>0.00000</td>\n",
       "      <td>35.844848</td>\n",
       "      <td>0.000000</td>\n",
       "    </tr>\n",
       "    <tr>\n",
       "      <th>c_000000000003</th>\n",
       "      <td>0.000000</td>\n",
       "      <td>0.000000</td>\n",
       "      <td>0.000000</td>\n",
       "      <td>0.000000</td>\n",
       "      <td>0.000000</td>\n",
       "      <td>0.00000</td>\n",
       "      <td>0.000000</td>\n",
       "      <td>0.0</td>\n",
       "      <td>0.00000</td>\n",
       "      <td>44.995649</td>\n",
       "      <td>0.000000</td>\n",
       "    </tr>\n",
       "    <tr>\n",
       "      <th>c_000000000004</th>\n",
       "      <td>0.000000</td>\n",
       "      <td>11.563758</td>\n",
       "      <td>0.000000</td>\n",
       "      <td>4.535230</td>\n",
       "      <td>0.000000</td>\n",
       "      <td>0.00000</td>\n",
       "      <td>0.000000</td>\n",
       "      <td>0.0</td>\n",
       "      <td>0.00000</td>\n",
       "      <td>10.336413</td>\n",
       "      <td>0.000000</td>\n",
       "    </tr>\n",
       "    <tr>\n",
       "      <th>c_000000000005</th>\n",
       "      <td>19.337463</td>\n",
       "      <td>17.498781</td>\n",
       "      <td>0.000000</td>\n",
       "      <td>1.851173</td>\n",
       "      <td>0.000000</td>\n",
       "      <td>0.00000</td>\n",
       "      <td>7.987534</td>\n",
       "      <td>0.0</td>\n",
       "      <td>2.48895</td>\n",
       "      <td>29.847108</td>\n",
       "      <td>33.024121</td>\n",
       "    </tr>\n",
       "  </tbody>\n",
       "</table></div>"
      ],
      "text/plain": [
       "                july_2020  august_2020  september_2020  november_2020  \\\n",
       "target_id                                                               \n",
       "c_000000000001   0.000000    25.659613       30.637768      24.648589   \n",
       "c_000000000002   0.000000     8.749391        0.000000       0.000000   \n",
       "c_000000000003   0.000000     0.000000        0.000000       0.000000   \n",
       "c_000000000004   0.000000    11.563758        0.000000       4.535230   \n",
       "c_000000000005  19.337463    17.498781        0.000000       1.851173   \n",
       "\n",
       "                december_2020  january_2021  february_2021  april_2021  \\\n",
       "target_id                                                                \n",
       "c_000000000001       7.831663      19.55279       0.000000         0.0   \n",
       "c_000000000002       4.011784       0.00000       0.000000         0.0   \n",
       "c_000000000003       0.000000       0.00000       0.000000         0.0   \n",
       "c_000000000004       0.000000       0.00000       0.000000         0.0   \n",
       "c_000000000005       0.000000       0.00000       7.987534         0.0   \n",
       "\n",
       "                may_2021  june_2021  july_2021  \n",
       "target_id                                       \n",
       "c_000000000001   0.00000  38.595151   7.491231  \n",
       "c_000000000002   0.00000  35.844848   0.000000  \n",
       "c_000000000003   0.00000  44.995649   0.000000  \n",
       "c_000000000004   0.00000  10.336413   0.000000  \n",
       "c_000000000005   2.48895  29.847108  33.024121  "
      ]
     },
     "execution_count": 41,
     "metadata": {},
     "output_type": "execute_result"
    }
   ],
   "source": [
    "transcripts_per_L_monthsum.head()"
   ]
  },
  {
   "cell_type": "code",
   "execution_count": 42,
   "metadata": {},
   "outputs": [
    {
     "data": {
      "text/plain": [
       "<AxesSubplot:>"
      ]
     },
     "execution_count": 42,
     "metadata": {},
     "output_type": "execute_result"
    },
    {
     "data": {
      "image/png": "[encoded data removed]",
      "text/plain": [
       "<Figure size 720x360 with 1 Axes>"
      ]
     },
     "metadata": {
      "needs_background": "light"
     },
     "output_type": "display_data"
    }
   ],
   "source": [
    "# Plot the average transcripts per L per month\n",
    "transcripts_per_L_monthsum.mean(axis=0).plot(kind='bar', figsize=(10,5))\n",
    "\n",
    "# Does the mean vary with the amount of samples per month,\n",
    "# since we couldn't visit all stations every month?"
   ]
  },
  {
   "cell_type": "code",
   "execution_count": 45,
   "metadata": {},
   "outputs": [
    {
     "data": {
      "text/plain": [
       "<AxesSubplot:>"
      ]
     },
     "execution_count": 45,
     "metadata": {},
     "output_type": "execute_result"
    },
    {
     "data": {
      "image/png": "[encoded data removed]",
      "text/plain": [
       "<Figure size 720x360 with 1 Axes>"
      ]
     },
     "metadata": {
      "needs_background": "light"
     },
     "output_type": "display_data"
    }
   ],
   "source": [
    "# plot the sum of transcripts per L per month\n",
    "transcripts_per_L_monthsum.sum(axis=0).plot(kind='bar', figsize=(10,5))\n",
    "\n",
    "# Beware! The transcript per L sum is dependent on the amount of samples, and not all stations could be visited every month"
   ]
  },
  {
   "cell_type": "code",
   "execution_count": null,
   "metadata": {},
   "outputs": [],
   "source": []
  }
 ],
 "metadata": {
  "kernelspec": {
   "display_name": "Python 3.9.12 64-bit",
   "language": "python",
   "name": "python3"
  },
  "language_info": {
   "codemirror_mode": {
    "name": "ipython",
    "version": 3
   },
   "file_extension": ".py",
   "mimetype": "text/x-python",
   "name": "python",
   "nbconvert_exporter": "python",
   "pygments_lexer": "ipython3",
   "version": "3.9.12"
  },
  "orig_nbformat": 4,
  "vscode": {
   "interpreter": {
    "hash": "b0fa6594d8f4cbf19f97940f81e996739fb7646882a419484c72d19e05852a7e"
   }
  }
 },
 "nbformat": 4,
 "nbformat_minor": 2
}
